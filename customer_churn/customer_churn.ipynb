{
 "cells": [
  {
   "cell_type": "markdown",
   "metadata": {
    "toc": true
   },
   "source": [
    "<h1>Содержание<span class=\"tocSkip\"></span></h1>\n",
    "<div class=\"toc\"><ul class=\"toc-item\"><li><span><a href=\"#Подготовка-данных\" data-toc-modified-id=\"Подготовка-данных-1\"><span class=\"toc-item-num\">1&nbsp;&nbsp;</span>Подготовка данных</a></span><ul class=\"toc-item\"><li><span><a href=\"#Вывод\" data-toc-modified-id=\"Вывод-1.1\"><span class=\"toc-item-num\">1.1&nbsp;&nbsp;</span>Вывод</a></span></li></ul></li><li><span><a href=\"#Исследование-задачи\" data-toc-modified-id=\"Исследование-задачи-2\"><span class=\"toc-item-num\">2&nbsp;&nbsp;</span>Исследование задачи</a></span><ul class=\"toc-item\"><li><span><a href=\"#Вывод\" data-toc-modified-id=\"Вывод-2.1\"><span class=\"toc-item-num\">2.1&nbsp;&nbsp;</span>Вывод</a></span></li></ul></li><li><span><a href=\"#Борьба-с-дисбалансом\" data-toc-modified-id=\"Борьба-с-дисбалансом-3\"><span class=\"toc-item-num\">3&nbsp;&nbsp;</span>Борьба с дисбалансом</a></span><ul class=\"toc-item\"><li><span><a href=\"#class_weight='balanced'\" data-toc-modified-id=\"class_weight='balanced'-3.1\"><span class=\"toc-item-num\">3.1&nbsp;&nbsp;</span>class_weight='balanced'</a></span></li><li><span><a href=\"#upsampling\" data-toc-modified-id=\"upsampling-3.2\"><span class=\"toc-item-num\">3.2&nbsp;&nbsp;</span>upsampling</a></span></li><li><span><a href=\"#downsampling\" data-toc-modified-id=\"downsampling-3.3\"><span class=\"toc-item-num\">3.3&nbsp;&nbsp;</span>downsampling</a></span></li><li><span><a href=\"#Подбор-порогового-значения\" data-toc-modified-id=\"Подбор-порогового-значения-3.4\"><span class=\"toc-item-num\">3.4&nbsp;&nbsp;</span>Подбор порогового значения</a></span></li><li><span><a href=\"#Показатели-на-валидационной-выборке\" data-toc-modified-id=\"Показатели-на-валидационной-выборке-3.5\"><span class=\"toc-item-num\">3.5&nbsp;&nbsp;</span>Показатели на валидационной выборке</a></span></li><li><span><a href=\"#Вывод\" data-toc-modified-id=\"Вывод-3.6\"><span class=\"toc-item-num\">3.6&nbsp;&nbsp;</span>Вывод</a></span></li></ul></li><li><span><a href=\"#Тестирование-модели\" data-toc-modified-id=\"Тестирование-модели-4\"><span class=\"toc-item-num\">4&nbsp;&nbsp;</span>Тестирование модели</a></span><ul class=\"toc-item\"><li><span><a href=\"#Вывод\" data-toc-modified-id=\"Вывод-4.1\"><span class=\"toc-item-num\">4.1&nbsp;&nbsp;</span>Вывод</a></span></li></ul></li><li><span><a href=\"#Общий-вывод\" data-toc-modified-id=\"Общий-вывод-5\"><span class=\"toc-item-num\">5&nbsp;&nbsp;</span>Общий вывод</a></span></li><li><span><a href=\"#Чек-лист-готовности-проекта\" data-toc-modified-id=\"Чек-лист-готовности-проекта-6\"><span class=\"toc-item-num\">6&nbsp;&nbsp;</span>Чек-лист готовности проекта</a></span></li></ul></div>"
   ]
  },
  {
   "cell_type": "markdown",
   "metadata": {},
   "source": [
    "<a id=\"section_0\"></a>\n",
    "# Отток клиентов"
   ]
  },
  {
   "cell_type": "markdown",
   "metadata": {},
   "source": [
    "Из «Бета-Банка» стали уходить клиенты. Каждый месяц. Немного, но заметно. Банковские маркетологи посчитали: сохранять текущих клиентов дешевле, чем привлекать новых.\n",
    "\n",
    "Нужно спрогнозировать, уйдёт клиент из банка в ближайшее время или нет. Вам предоставлены исторические данные о поведении клиентов и расторжении договоров с банком. \n",
    "\n",
    "Постройте модель с предельно большим значением *F1*-меры. Чтобы сдать проект успешно, нужно довести метрику до 0.59. Проверим *F1*-меру на тестовой выборке самостоятельно.\n",
    "\n",
    "Дополнительно измерим *AUC-ROC* и сравним её значение с *F1*-мерой.\n",
    "\n",
    "Источник данных: [https://www.kaggle.com/barelydedicated/bank-customer-churn-modeling](https://www.kaggle.com/barelydedicated/bank-customer-churn-modeling)"
   ]
  },
  {
   "cell_type": "markdown",
   "metadata": {},
   "source": [
    "Импортируем необходимые для проведения исследования библиотеки."
   ]
  },
  {
   "cell_type": "code",
   "execution_count": 1,
   "metadata": {},
   "outputs": [],
   "source": [
    "import pandas as pd\n",
    "import numpy as np\n",
    "import matplotlib.pyplot as plt"
   ]
  },
  {
   "cell_type": "code",
   "execution_count": 2,
   "metadata": {},
   "outputs": [],
   "source": [
    "from sklearn.utils import shuffle\n",
    "from sklearn.model_selection import train_test_split\n",
    "from sklearn.preprocessing import StandardScaler"
   ]
  },
  {
   "cell_type": "code",
   "execution_count": 3,
   "metadata": {},
   "outputs": [],
   "source": [
    "from sklearn.linear_model import LogisticRegression\n",
    "from sklearn.tree import DecisionTreeClassifier\n",
    "from sklearn.ensemble import RandomForestClassifier\n",
    "from sklearn.dummy import DummyClassifier"
   ]
  },
  {
   "cell_type": "code",
   "execution_count": 4,
   "metadata": {},
   "outputs": [],
   "source": [
    "from sklearn.metrics import confusion_matrix, accuracy_score, recall_score, precision_score, f1_score, roc_auc_score\n",
    "from sklearn.metrics import precision_recall_curve, roc_curve"
   ]
  },
  {
   "cell_type": "code",
   "execution_count": 5,
   "metadata": {},
   "outputs": [],
   "source": [
    "# оптимизируем отображение чисел с точкой\n",
    "pd.set_option('display.float_format', '{:,.2f}'.format)\n",
    "\n",
    "# убираем предупреждение pandas vs sklearn\n",
    "pd.options.mode.chained_assignment = None \n",
    "\n",
    "# убираем предупреждения\n",
    "import warnings\n",
    "warnings.filterwarnings('ignore')"
   ]
  },
  {
   "cell_type": "markdown",
   "metadata": {},
   "source": [
    "<a id=\"section_1\"></a>\n",
    "## Подготовка данных"
   ]
  },
  {
   "cell_type": "markdown",
   "metadata": {},
   "source": [
    "Загрузим данные из предоставленного файла."
   ]
  },
  {
   "cell_type": "code",
   "execution_count": 6,
   "metadata": {
    "scrolled": true
   },
   "outputs": [
    {
     "data": {
      "text/html": [
       "<div>\n",
       "<style scoped>\n",
       "    .dataframe tbody tr th:only-of-type {\n",
       "        vertical-align: middle;\n",
       "    }\n",
       "\n",
       "    .dataframe tbody tr th {\n",
       "        vertical-align: top;\n",
       "    }\n",
       "\n",
       "    .dataframe thead th {\n",
       "        text-align: right;\n",
       "    }\n",
       "</style>\n",
       "<table border=\"1\" class=\"dataframe\">\n",
       "  <thead>\n",
       "    <tr style=\"text-align: right;\">\n",
       "      <th></th>\n",
       "      <th>RowNumber</th>\n",
       "      <th>CustomerId</th>\n",
       "      <th>Surname</th>\n",
       "      <th>CreditScore</th>\n",
       "      <th>Geography</th>\n",
       "      <th>Gender</th>\n",
       "      <th>Age</th>\n",
       "      <th>Tenure</th>\n",
       "      <th>Balance</th>\n",
       "      <th>NumOfProducts</th>\n",
       "      <th>HasCrCard</th>\n",
       "      <th>IsActiveMember</th>\n",
       "      <th>EstimatedSalary</th>\n",
       "      <th>Exited</th>\n",
       "    </tr>\n",
       "  </thead>\n",
       "  <tbody>\n",
       "    <tr>\n",
       "      <th>0</th>\n",
       "      <td>1</td>\n",
       "      <td>15634602</td>\n",
       "      <td>Hargrave</td>\n",
       "      <td>619</td>\n",
       "      <td>France</td>\n",
       "      <td>Female</td>\n",
       "      <td>42</td>\n",
       "      <td>2.00</td>\n",
       "      <td>0.00</td>\n",
       "      <td>1</td>\n",
       "      <td>1</td>\n",
       "      <td>1</td>\n",
       "      <td>101,348.88</td>\n",
       "      <td>1</td>\n",
       "    </tr>\n",
       "    <tr>\n",
       "      <th>1</th>\n",
       "      <td>2</td>\n",
       "      <td>15647311</td>\n",
       "      <td>Hill</td>\n",
       "      <td>608</td>\n",
       "      <td>Spain</td>\n",
       "      <td>Female</td>\n",
       "      <td>41</td>\n",
       "      <td>1.00</td>\n",
       "      <td>83,807.86</td>\n",
       "      <td>1</td>\n",
       "      <td>0</td>\n",
       "      <td>1</td>\n",
       "      <td>112,542.58</td>\n",
       "      <td>0</td>\n",
       "    </tr>\n",
       "    <tr>\n",
       "      <th>2</th>\n",
       "      <td>3</td>\n",
       "      <td>15619304</td>\n",
       "      <td>Onio</td>\n",
       "      <td>502</td>\n",
       "      <td>France</td>\n",
       "      <td>Female</td>\n",
       "      <td>42</td>\n",
       "      <td>8.00</td>\n",
       "      <td>159,660.80</td>\n",
       "      <td>3</td>\n",
       "      <td>1</td>\n",
       "      <td>0</td>\n",
       "      <td>113,931.57</td>\n",
       "      <td>1</td>\n",
       "    </tr>\n",
       "    <tr>\n",
       "      <th>3</th>\n",
       "      <td>4</td>\n",
       "      <td>15701354</td>\n",
       "      <td>Boni</td>\n",
       "      <td>699</td>\n",
       "      <td>France</td>\n",
       "      <td>Female</td>\n",
       "      <td>39</td>\n",
       "      <td>1.00</td>\n",
       "      <td>0.00</td>\n",
       "      <td>2</td>\n",
       "      <td>0</td>\n",
       "      <td>0</td>\n",
       "      <td>93,826.63</td>\n",
       "      <td>0</td>\n",
       "    </tr>\n",
       "    <tr>\n",
       "      <th>4</th>\n",
       "      <td>5</td>\n",
       "      <td>15737888</td>\n",
       "      <td>Mitchell</td>\n",
       "      <td>850</td>\n",
       "      <td>Spain</td>\n",
       "      <td>Female</td>\n",
       "      <td>43</td>\n",
       "      <td>2.00</td>\n",
       "      <td>125,510.82</td>\n",
       "      <td>1</td>\n",
       "      <td>1</td>\n",
       "      <td>1</td>\n",
       "      <td>79,084.10</td>\n",
       "      <td>0</td>\n",
       "    </tr>\n",
       "  </tbody>\n",
       "</table>\n",
       "</div>"
      ],
      "text/plain": [
       "   RowNumber  CustomerId   Surname  CreditScore Geography  Gender  Age  \\\n",
       "0          1    15634602  Hargrave          619    France  Female   42   \n",
       "1          2    15647311      Hill          608     Spain  Female   41   \n",
       "2          3    15619304      Onio          502    France  Female   42   \n",
       "3          4    15701354      Boni          699    France  Female   39   \n",
       "4          5    15737888  Mitchell          850     Spain  Female   43   \n",
       "\n",
       "   Tenure    Balance  NumOfProducts  HasCrCard  IsActiveMember  \\\n",
       "0    2.00       0.00              1          1               1   \n",
       "1    1.00  83,807.86              1          0               1   \n",
       "2    8.00 159,660.80              3          1               0   \n",
       "3    1.00       0.00              2          0               0   \n",
       "4    2.00 125,510.82              1          1               1   \n",
       "\n",
       "   EstimatedSalary  Exited  \n",
       "0       101,348.88       1  \n",
       "1       112,542.58       0  \n",
       "2       113,931.57       1  \n",
       "3        93,826.63       0  \n",
       "4        79,084.10       0  "
      ]
     },
     "execution_count": 6,
     "metadata": {},
     "output_type": "execute_result"
    }
   ],
   "source": [
    "try:\n",
    "    data = pd.read_csv('Churn.csv')\n",
    "except:\n",
    "    data = pd.read_csv('/datasets/Churn.csv')\n",
    "    \n",
    "data.head()"
   ]
  },
  {
   "cell_type": "markdown",
   "metadata": {},
   "source": [
    "Данные читаемы, выведем информацию о них."
   ]
  },
  {
   "cell_type": "code",
   "execution_count": 7,
   "metadata": {},
   "outputs": [
    {
     "name": "stdout",
     "output_type": "stream",
     "text": [
      "<class 'pandas.core.frame.DataFrame'>\n",
      "RangeIndex: 10000 entries, 0 to 9999\n",
      "Data columns (total 14 columns):\n",
      " #   Column           Non-Null Count  Dtype  \n",
      "---  ------           --------------  -----  \n",
      " 0   RowNumber        10000 non-null  int64  \n",
      " 1   CustomerId       10000 non-null  int64  \n",
      " 2   Surname          10000 non-null  object \n",
      " 3   CreditScore      10000 non-null  int64  \n",
      " 4   Geography        10000 non-null  object \n",
      " 5   Gender           10000 non-null  object \n",
      " 6   Age              10000 non-null  int64  \n",
      " 7   Tenure           9091 non-null   float64\n",
      " 8   Balance          10000 non-null  float64\n",
      " 9   NumOfProducts    10000 non-null  int64  \n",
      " 10  HasCrCard        10000 non-null  int64  \n",
      " 11  IsActiveMember   10000 non-null  int64  \n",
      " 12  EstimatedSalary  10000 non-null  float64\n",
      " 13  Exited           10000 non-null  int64  \n",
      "dtypes: float64(3), int64(8), object(3)\n",
      "memory usage: 1.1+ MB\n"
     ]
    }
   ],
   "source": [
    "data.info()"
   ]
  },
  {
   "cell_type": "markdown",
   "metadata": {},
   "source": [
    "В графе Tenure пропуски. Посмотрим на характеристики данных с пропусками."
   ]
  },
  {
   "cell_type": "code",
   "execution_count": 8,
   "metadata": {},
   "outputs": [
    {
     "data": {
      "text/html": [
       "<div>\n",
       "<style scoped>\n",
       "    .dataframe tbody tr th:only-of-type {\n",
       "        vertical-align: middle;\n",
       "    }\n",
       "\n",
       "    .dataframe tbody tr th {\n",
       "        vertical-align: top;\n",
       "    }\n",
       "\n",
       "    .dataframe thead th {\n",
       "        text-align: right;\n",
       "    }\n",
       "</style>\n",
       "<table border=\"1\" class=\"dataframe\">\n",
       "  <thead>\n",
       "    <tr style=\"text-align: right;\">\n",
       "      <th></th>\n",
       "      <th>count</th>\n",
       "      <th>unique</th>\n",
       "      <th>top</th>\n",
       "      <th>freq</th>\n",
       "      <th>mean</th>\n",
       "      <th>std</th>\n",
       "      <th>min</th>\n",
       "      <th>25%</th>\n",
       "      <th>50%</th>\n",
       "      <th>75%</th>\n",
       "      <th>max</th>\n",
       "    </tr>\n",
       "  </thead>\n",
       "  <tbody>\n",
       "    <tr>\n",
       "      <th>RowNumber</th>\n",
       "      <td>909.00</td>\n",
       "      <td>NaN</td>\n",
       "      <td>NaN</td>\n",
       "      <td>NaN</td>\n",
       "      <td>4,866.39</td>\n",
       "      <td>2,909.60</td>\n",
       "      <td>31.00</td>\n",
       "      <td>2,311.00</td>\n",
       "      <td>4,887.00</td>\n",
       "      <td>7,306.00</td>\n",
       "      <td>10,000.00</td>\n",
       "    </tr>\n",
       "    <tr>\n",
       "      <th>CustomerId</th>\n",
       "      <td>909.00</td>\n",
       "      <td>NaN</td>\n",
       "      <td>NaN</td>\n",
       "      <td>NaN</td>\n",
       "      <td>15,689,814.58</td>\n",
       "      <td>75,112.25</td>\n",
       "      <td>15,565,806.00</td>\n",
       "      <td>15,626,578.00</td>\n",
       "      <td>15,686,870.00</td>\n",
       "      <td>15,756,804.00</td>\n",
       "      <td>15,815,690.00</td>\n",
       "    </tr>\n",
       "    <tr>\n",
       "      <th>Surname</th>\n",
       "      <td>909</td>\n",
       "      <td>665</td>\n",
       "      <td>Hughes</td>\n",
       "      <td>7</td>\n",
       "      <td>NaN</td>\n",
       "      <td>NaN</td>\n",
       "      <td>NaN</td>\n",
       "      <td>NaN</td>\n",
       "      <td>NaN</td>\n",
       "      <td>NaN</td>\n",
       "      <td>NaN</td>\n",
       "    </tr>\n",
       "    <tr>\n",
       "      <th>CreditScore</th>\n",
       "      <td>909.00</td>\n",
       "      <td>NaN</td>\n",
       "      <td>NaN</td>\n",
       "      <td>NaN</td>\n",
       "      <td>648.45</td>\n",
       "      <td>99.08</td>\n",
       "      <td>359.00</td>\n",
       "      <td>580.00</td>\n",
       "      <td>647.00</td>\n",
       "      <td>718.00</td>\n",
       "      <td>850.00</td>\n",
       "    </tr>\n",
       "    <tr>\n",
       "      <th>Geography</th>\n",
       "      <td>909</td>\n",
       "      <td>3</td>\n",
       "      <td>France</td>\n",
       "      <td>464</td>\n",
       "      <td>NaN</td>\n",
       "      <td>NaN</td>\n",
       "      <td>NaN</td>\n",
       "      <td>NaN</td>\n",
       "      <td>NaN</td>\n",
       "      <td>NaN</td>\n",
       "      <td>NaN</td>\n",
       "    </tr>\n",
       "    <tr>\n",
       "      <th>Gender</th>\n",
       "      <td>909</td>\n",
       "      <td>2</td>\n",
       "      <td>Male</td>\n",
       "      <td>483</td>\n",
       "      <td>NaN</td>\n",
       "      <td>NaN</td>\n",
       "      <td>NaN</td>\n",
       "      <td>NaN</td>\n",
       "      <td>NaN</td>\n",
       "      <td>NaN</td>\n",
       "      <td>NaN</td>\n",
       "    </tr>\n",
       "    <tr>\n",
       "      <th>Age</th>\n",
       "      <td>909.00</td>\n",
       "      <td>NaN</td>\n",
       "      <td>NaN</td>\n",
       "      <td>NaN</td>\n",
       "      <td>38.65</td>\n",
       "      <td>9.79</td>\n",
       "      <td>18.00</td>\n",
       "      <td>32.00</td>\n",
       "      <td>37.00</td>\n",
       "      <td>43.00</td>\n",
       "      <td>92.00</td>\n",
       "    </tr>\n",
       "    <tr>\n",
       "      <th>Tenure</th>\n",
       "      <td>0.00</td>\n",
       "      <td>NaN</td>\n",
       "      <td>NaN</td>\n",
       "      <td>NaN</td>\n",
       "      <td>NaN</td>\n",
       "      <td>NaN</td>\n",
       "      <td>NaN</td>\n",
       "      <td>NaN</td>\n",
       "      <td>NaN</td>\n",
       "      <td>NaN</td>\n",
       "      <td>NaN</td>\n",
       "    </tr>\n",
       "    <tr>\n",
       "      <th>Balance</th>\n",
       "      <td>909.00</td>\n",
       "      <td>NaN</td>\n",
       "      <td>NaN</td>\n",
       "      <td>NaN</td>\n",
       "      <td>76,117.34</td>\n",
       "      <td>63,105.69</td>\n",
       "      <td>0.00</td>\n",
       "      <td>0.00</td>\n",
       "      <td>96,674.55</td>\n",
       "      <td>128,554.98</td>\n",
       "      <td>206,663.75</td>\n",
       "    </tr>\n",
       "    <tr>\n",
       "      <th>NumOfProducts</th>\n",
       "      <td>909.00</td>\n",
       "      <td>NaN</td>\n",
       "      <td>NaN</td>\n",
       "      <td>NaN</td>\n",
       "      <td>1.53</td>\n",
       "      <td>0.59</td>\n",
       "      <td>1.00</td>\n",
       "      <td>1.00</td>\n",
       "      <td>1.00</td>\n",
       "      <td>2.00</td>\n",
       "      <td>4.00</td>\n",
       "    </tr>\n",
       "    <tr>\n",
       "      <th>HasCrCard</th>\n",
       "      <td>909.00</td>\n",
       "      <td>NaN</td>\n",
       "      <td>NaN</td>\n",
       "      <td>NaN</td>\n",
       "      <td>0.71</td>\n",
       "      <td>0.45</td>\n",
       "      <td>0.00</td>\n",
       "      <td>0.00</td>\n",
       "      <td>1.00</td>\n",
       "      <td>1.00</td>\n",
       "      <td>1.00</td>\n",
       "    </tr>\n",
       "    <tr>\n",
       "      <th>IsActiveMember</th>\n",
       "      <td>909.00</td>\n",
       "      <td>NaN</td>\n",
       "      <td>NaN</td>\n",
       "      <td>NaN</td>\n",
       "      <td>0.51</td>\n",
       "      <td>0.50</td>\n",
       "      <td>0.00</td>\n",
       "      <td>0.00</td>\n",
       "      <td>1.00</td>\n",
       "      <td>1.00</td>\n",
       "      <td>1.00</td>\n",
       "    </tr>\n",
       "    <tr>\n",
       "      <th>EstimatedSalary</th>\n",
       "      <td>909.00</td>\n",
       "      <td>NaN</td>\n",
       "      <td>NaN</td>\n",
       "      <td>NaN</td>\n",
       "      <td>99,180.39</td>\n",
       "      <td>56,378.06</td>\n",
       "      <td>106.67</td>\n",
       "      <td>49,872.33</td>\n",
       "      <td>99,444.02</td>\n",
       "      <td>145,759.70</td>\n",
       "      <td>199,390.45</td>\n",
       "    </tr>\n",
       "    <tr>\n",
       "      <th>Exited</th>\n",
       "      <td>909.00</td>\n",
       "      <td>NaN</td>\n",
       "      <td>NaN</td>\n",
       "      <td>NaN</td>\n",
       "      <td>0.20</td>\n",
       "      <td>0.40</td>\n",
       "      <td>0.00</td>\n",
       "      <td>0.00</td>\n",
       "      <td>0.00</td>\n",
       "      <td>0.00</td>\n",
       "      <td>1.00</td>\n",
       "    </tr>\n",
       "  </tbody>\n",
       "</table>\n",
       "</div>"
      ],
      "text/plain": [
       "                 count unique     top freq          mean       std  \\\n",
       "RowNumber       909.00    NaN     NaN  NaN      4,866.39  2,909.60   \n",
       "CustomerId      909.00    NaN     NaN  NaN 15,689,814.58 75,112.25   \n",
       "Surname            909    665  Hughes    7           NaN       NaN   \n",
       "CreditScore     909.00    NaN     NaN  NaN        648.45     99.08   \n",
       "Geography          909      3  France  464           NaN       NaN   \n",
       "Gender             909      2    Male  483           NaN       NaN   \n",
       "Age             909.00    NaN     NaN  NaN         38.65      9.79   \n",
       "Tenure            0.00    NaN     NaN  NaN           NaN       NaN   \n",
       "Balance         909.00    NaN     NaN  NaN     76,117.34 63,105.69   \n",
       "NumOfProducts   909.00    NaN     NaN  NaN          1.53      0.59   \n",
       "HasCrCard       909.00    NaN     NaN  NaN          0.71      0.45   \n",
       "IsActiveMember  909.00    NaN     NaN  NaN          0.51      0.50   \n",
       "EstimatedSalary 909.00    NaN     NaN  NaN     99,180.39 56,378.06   \n",
       "Exited          909.00    NaN     NaN  NaN          0.20      0.40   \n",
       "\n",
       "                          min           25%           50%           75%  \\\n",
       "RowNumber               31.00      2,311.00      4,887.00      7,306.00   \n",
       "CustomerId      15,565,806.00 15,626,578.00 15,686,870.00 15,756,804.00   \n",
       "Surname                   NaN           NaN           NaN           NaN   \n",
       "CreditScore            359.00        580.00        647.00        718.00   \n",
       "Geography                 NaN           NaN           NaN           NaN   \n",
       "Gender                    NaN           NaN           NaN           NaN   \n",
       "Age                     18.00         32.00         37.00         43.00   \n",
       "Tenure                    NaN           NaN           NaN           NaN   \n",
       "Balance                  0.00          0.00     96,674.55    128,554.98   \n",
       "NumOfProducts            1.00          1.00          1.00          2.00   \n",
       "HasCrCard                0.00          0.00          1.00          1.00   \n",
       "IsActiveMember           0.00          0.00          1.00          1.00   \n",
       "EstimatedSalary        106.67     49,872.33     99,444.02    145,759.70   \n",
       "Exited                   0.00          0.00          0.00          0.00   \n",
       "\n",
       "                          max  \n",
       "RowNumber           10,000.00  \n",
       "CustomerId      15,815,690.00  \n",
       "Surname                   NaN  \n",
       "CreditScore            850.00  \n",
       "Geography                 NaN  \n",
       "Gender                    NaN  \n",
       "Age                     92.00  \n",
       "Tenure                    NaN  \n",
       "Balance            206,663.75  \n",
       "NumOfProducts            4.00  \n",
       "HasCrCard                1.00  \n",
       "IsActiveMember           1.00  \n",
       "EstimatedSalary    199,390.45  \n",
       "Exited                   1.00  "
      ]
     },
     "execution_count": 8,
     "metadata": {},
     "output_type": "execute_result"
    }
   ],
   "source": [
    "data.query('Tenure.isna()', engine='python').describe(include='all').T"
   ]
  },
  {
   "cell_type": "markdown",
   "metadata": {},
   "source": [
    "Сравним с характеристиками данных по всей таблице."
   ]
  },
  {
   "cell_type": "code",
   "execution_count": 9,
   "metadata": {},
   "outputs": [
    {
     "data": {
      "text/html": [
       "<div>\n",
       "<style scoped>\n",
       "    .dataframe tbody tr th:only-of-type {\n",
       "        vertical-align: middle;\n",
       "    }\n",
       "\n",
       "    .dataframe tbody tr th {\n",
       "        vertical-align: top;\n",
       "    }\n",
       "\n",
       "    .dataframe thead th {\n",
       "        text-align: right;\n",
       "    }\n",
       "</style>\n",
       "<table border=\"1\" class=\"dataframe\">\n",
       "  <thead>\n",
       "    <tr style=\"text-align: right;\">\n",
       "      <th></th>\n",
       "      <th>count</th>\n",
       "      <th>unique</th>\n",
       "      <th>top</th>\n",
       "      <th>freq</th>\n",
       "      <th>mean</th>\n",
       "      <th>std</th>\n",
       "      <th>min</th>\n",
       "      <th>25%</th>\n",
       "      <th>50%</th>\n",
       "      <th>75%</th>\n",
       "      <th>max</th>\n",
       "    </tr>\n",
       "  </thead>\n",
       "  <tbody>\n",
       "    <tr>\n",
       "      <th>RowNumber</th>\n",
       "      <td>10,000.00</td>\n",
       "      <td>NaN</td>\n",
       "      <td>NaN</td>\n",
       "      <td>NaN</td>\n",
       "      <td>5,000.50</td>\n",
       "      <td>2,886.90</td>\n",
       "      <td>1.00</td>\n",
       "      <td>2,500.75</td>\n",
       "      <td>5,000.50</td>\n",
       "      <td>7,500.25</td>\n",
       "      <td>10,000.00</td>\n",
       "    </tr>\n",
       "    <tr>\n",
       "      <th>CustomerId</th>\n",
       "      <td>10,000.00</td>\n",
       "      <td>NaN</td>\n",
       "      <td>NaN</td>\n",
       "      <td>NaN</td>\n",
       "      <td>15,690,940.57</td>\n",
       "      <td>71,936.19</td>\n",
       "      <td>15,565,701.00</td>\n",
       "      <td>15,628,528.25</td>\n",
       "      <td>15,690,738.00</td>\n",
       "      <td>15,753,233.75</td>\n",
       "      <td>15,815,690.00</td>\n",
       "    </tr>\n",
       "    <tr>\n",
       "      <th>Surname</th>\n",
       "      <td>10000</td>\n",
       "      <td>2932</td>\n",
       "      <td>Smith</td>\n",
       "      <td>32</td>\n",
       "      <td>NaN</td>\n",
       "      <td>NaN</td>\n",
       "      <td>NaN</td>\n",
       "      <td>NaN</td>\n",
       "      <td>NaN</td>\n",
       "      <td>NaN</td>\n",
       "      <td>NaN</td>\n",
       "    </tr>\n",
       "    <tr>\n",
       "      <th>CreditScore</th>\n",
       "      <td>10,000.00</td>\n",
       "      <td>NaN</td>\n",
       "      <td>NaN</td>\n",
       "      <td>NaN</td>\n",
       "      <td>650.53</td>\n",
       "      <td>96.65</td>\n",
       "      <td>350.00</td>\n",
       "      <td>584.00</td>\n",
       "      <td>652.00</td>\n",
       "      <td>718.00</td>\n",
       "      <td>850.00</td>\n",
       "    </tr>\n",
       "    <tr>\n",
       "      <th>Geography</th>\n",
       "      <td>10000</td>\n",
       "      <td>3</td>\n",
       "      <td>France</td>\n",
       "      <td>5014</td>\n",
       "      <td>NaN</td>\n",
       "      <td>NaN</td>\n",
       "      <td>NaN</td>\n",
       "      <td>NaN</td>\n",
       "      <td>NaN</td>\n",
       "      <td>NaN</td>\n",
       "      <td>NaN</td>\n",
       "    </tr>\n",
       "    <tr>\n",
       "      <th>Gender</th>\n",
       "      <td>10000</td>\n",
       "      <td>2</td>\n",
       "      <td>Male</td>\n",
       "      <td>5457</td>\n",
       "      <td>NaN</td>\n",
       "      <td>NaN</td>\n",
       "      <td>NaN</td>\n",
       "      <td>NaN</td>\n",
       "      <td>NaN</td>\n",
       "      <td>NaN</td>\n",
       "      <td>NaN</td>\n",
       "    </tr>\n",
       "    <tr>\n",
       "      <th>Age</th>\n",
       "      <td>10,000.00</td>\n",
       "      <td>NaN</td>\n",
       "      <td>NaN</td>\n",
       "      <td>NaN</td>\n",
       "      <td>38.92</td>\n",
       "      <td>10.49</td>\n",
       "      <td>18.00</td>\n",
       "      <td>32.00</td>\n",
       "      <td>37.00</td>\n",
       "      <td>44.00</td>\n",
       "      <td>92.00</td>\n",
       "    </tr>\n",
       "    <tr>\n",
       "      <th>Tenure</th>\n",
       "      <td>9,091.00</td>\n",
       "      <td>NaN</td>\n",
       "      <td>NaN</td>\n",
       "      <td>NaN</td>\n",
       "      <td>5.00</td>\n",
       "      <td>2.89</td>\n",
       "      <td>0.00</td>\n",
       "      <td>2.00</td>\n",
       "      <td>5.00</td>\n",
       "      <td>7.00</td>\n",
       "      <td>10.00</td>\n",
       "    </tr>\n",
       "    <tr>\n",
       "      <th>Balance</th>\n",
       "      <td>10,000.00</td>\n",
       "      <td>NaN</td>\n",
       "      <td>NaN</td>\n",
       "      <td>NaN</td>\n",
       "      <td>76,485.89</td>\n",
       "      <td>62,397.41</td>\n",
       "      <td>0.00</td>\n",
       "      <td>0.00</td>\n",
       "      <td>97,198.54</td>\n",
       "      <td>127,644.24</td>\n",
       "      <td>250,898.09</td>\n",
       "    </tr>\n",
       "    <tr>\n",
       "      <th>NumOfProducts</th>\n",
       "      <td>10,000.00</td>\n",
       "      <td>NaN</td>\n",
       "      <td>NaN</td>\n",
       "      <td>NaN</td>\n",
       "      <td>1.53</td>\n",
       "      <td>0.58</td>\n",
       "      <td>1.00</td>\n",
       "      <td>1.00</td>\n",
       "      <td>1.00</td>\n",
       "      <td>2.00</td>\n",
       "      <td>4.00</td>\n",
       "    </tr>\n",
       "    <tr>\n",
       "      <th>HasCrCard</th>\n",
       "      <td>10,000.00</td>\n",
       "      <td>NaN</td>\n",
       "      <td>NaN</td>\n",
       "      <td>NaN</td>\n",
       "      <td>0.71</td>\n",
       "      <td>0.46</td>\n",
       "      <td>0.00</td>\n",
       "      <td>0.00</td>\n",
       "      <td>1.00</td>\n",
       "      <td>1.00</td>\n",
       "      <td>1.00</td>\n",
       "    </tr>\n",
       "    <tr>\n",
       "      <th>IsActiveMember</th>\n",
       "      <td>10,000.00</td>\n",
       "      <td>NaN</td>\n",
       "      <td>NaN</td>\n",
       "      <td>NaN</td>\n",
       "      <td>0.52</td>\n",
       "      <td>0.50</td>\n",
       "      <td>0.00</td>\n",
       "      <td>0.00</td>\n",
       "      <td>1.00</td>\n",
       "      <td>1.00</td>\n",
       "      <td>1.00</td>\n",
       "    </tr>\n",
       "    <tr>\n",
       "      <th>EstimatedSalary</th>\n",
       "      <td>10,000.00</td>\n",
       "      <td>NaN</td>\n",
       "      <td>NaN</td>\n",
       "      <td>NaN</td>\n",
       "      <td>100,090.24</td>\n",
       "      <td>57,510.49</td>\n",
       "      <td>11.58</td>\n",
       "      <td>51,002.11</td>\n",
       "      <td>100,193.91</td>\n",
       "      <td>149,388.25</td>\n",
       "      <td>199,992.48</td>\n",
       "    </tr>\n",
       "    <tr>\n",
       "      <th>Exited</th>\n",
       "      <td>10,000.00</td>\n",
       "      <td>NaN</td>\n",
       "      <td>NaN</td>\n",
       "      <td>NaN</td>\n",
       "      <td>0.20</td>\n",
       "      <td>0.40</td>\n",
       "      <td>0.00</td>\n",
       "      <td>0.00</td>\n",
       "      <td>0.00</td>\n",
       "      <td>0.00</td>\n",
       "      <td>1.00</td>\n",
       "    </tr>\n",
       "  </tbody>\n",
       "</table>\n",
       "</div>"
      ],
      "text/plain": [
       "                    count unique     top  freq          mean       std  \\\n",
       "RowNumber       10,000.00    NaN     NaN   NaN      5,000.50  2,886.90   \n",
       "CustomerId      10,000.00    NaN     NaN   NaN 15,690,940.57 71,936.19   \n",
       "Surname             10000   2932   Smith    32           NaN       NaN   \n",
       "CreditScore     10,000.00    NaN     NaN   NaN        650.53     96.65   \n",
       "Geography           10000      3  France  5014           NaN       NaN   \n",
       "Gender              10000      2    Male  5457           NaN       NaN   \n",
       "Age             10,000.00    NaN     NaN   NaN         38.92     10.49   \n",
       "Tenure           9,091.00    NaN     NaN   NaN          5.00      2.89   \n",
       "Balance         10,000.00    NaN     NaN   NaN     76,485.89 62,397.41   \n",
       "NumOfProducts   10,000.00    NaN     NaN   NaN          1.53      0.58   \n",
       "HasCrCard       10,000.00    NaN     NaN   NaN          0.71      0.46   \n",
       "IsActiveMember  10,000.00    NaN     NaN   NaN          0.52      0.50   \n",
       "EstimatedSalary 10,000.00    NaN     NaN   NaN    100,090.24 57,510.49   \n",
       "Exited          10,000.00    NaN     NaN   NaN          0.20      0.40   \n",
       "\n",
       "                          min           25%           50%           75%  \\\n",
       "RowNumber                1.00      2,500.75      5,000.50      7,500.25   \n",
       "CustomerId      15,565,701.00 15,628,528.25 15,690,738.00 15,753,233.75   \n",
       "Surname                   NaN           NaN           NaN           NaN   \n",
       "CreditScore            350.00        584.00        652.00        718.00   \n",
       "Geography                 NaN           NaN           NaN           NaN   \n",
       "Gender                    NaN           NaN           NaN           NaN   \n",
       "Age                     18.00         32.00         37.00         44.00   \n",
       "Tenure                   0.00          2.00          5.00          7.00   \n",
       "Balance                  0.00          0.00     97,198.54    127,644.24   \n",
       "NumOfProducts            1.00          1.00          1.00          2.00   \n",
       "HasCrCard                0.00          0.00          1.00          1.00   \n",
       "IsActiveMember           0.00          0.00          1.00          1.00   \n",
       "EstimatedSalary         11.58     51,002.11    100,193.91    149,388.25   \n",
       "Exited                   0.00          0.00          0.00          0.00   \n",
       "\n",
       "                          max  \n",
       "RowNumber           10,000.00  \n",
       "CustomerId      15,815,690.00  \n",
       "Surname                   NaN  \n",
       "CreditScore            850.00  \n",
       "Geography                 NaN  \n",
       "Gender                    NaN  \n",
       "Age                     92.00  \n",
       "Tenure                  10.00  \n",
       "Balance            250,898.09  \n",
       "NumOfProducts            4.00  \n",
       "HasCrCard                1.00  \n",
       "IsActiveMember           1.00  \n",
       "EstimatedSalary    199,992.48  \n",
       "Exited                   1.00  "
      ]
     },
     "execution_count": 9,
     "metadata": {},
     "output_type": "execute_result"
    }
   ],
   "source": [
    "data.describe(include='all').T"
   ]
  },
  {
   "cell_type": "markdown",
   "metadata": {},
   "source": [
    "Отличительных особенностей в данных с пропусками не выявлено."
   ]
  },
  {
   "cell_type": "markdown",
   "metadata": {},
   "source": [
    "Можем заместить пропуски Tenure медианой по возрасту."
   ]
  },
  {
   "cell_type": "code",
   "execution_count": 10,
   "metadata": {},
   "outputs": [],
   "source": [
    "data[\"Tenure\"] = data.groupby(\"Age\")[\"Tenure\"].transform(lambda x: x.fillna(x.median()))"
   ]
  },
  {
   "cell_type": "code",
   "execution_count": 11,
   "metadata": {},
   "outputs": [
    {
     "data": {
      "text/html": [
       "<div>\n",
       "<style scoped>\n",
       "    .dataframe tbody tr th:only-of-type {\n",
       "        vertical-align: middle;\n",
       "    }\n",
       "\n",
       "    .dataframe tbody tr th {\n",
       "        vertical-align: top;\n",
       "    }\n",
       "\n",
       "    .dataframe thead th {\n",
       "        text-align: right;\n",
       "    }\n",
       "</style>\n",
       "<table border=\"1\" class=\"dataframe\">\n",
       "  <thead>\n",
       "    <tr style=\"text-align: right;\">\n",
       "      <th></th>\n",
       "      <th>count</th>\n",
       "      <th>mean</th>\n",
       "      <th>std</th>\n",
       "      <th>min</th>\n",
       "      <th>25%</th>\n",
       "      <th>50%</th>\n",
       "      <th>75%</th>\n",
       "      <th>max</th>\n",
       "    </tr>\n",
       "  </thead>\n",
       "  <tbody>\n",
       "    <tr>\n",
       "      <th>RowNumber</th>\n",
       "      <td>10,000.00</td>\n",
       "      <td>5,000.50</td>\n",
       "      <td>2,886.90</td>\n",
       "      <td>1.00</td>\n",
       "      <td>2,500.75</td>\n",
       "      <td>5,000.50</td>\n",
       "      <td>7,500.25</td>\n",
       "      <td>10,000.00</td>\n",
       "    </tr>\n",
       "    <tr>\n",
       "      <th>CustomerId</th>\n",
       "      <td>10,000.00</td>\n",
       "      <td>15,690,940.57</td>\n",
       "      <td>71,936.19</td>\n",
       "      <td>15,565,701.00</td>\n",
       "      <td>15,628,528.25</td>\n",
       "      <td>15,690,738.00</td>\n",
       "      <td>15,753,233.75</td>\n",
       "      <td>15,815,690.00</td>\n",
       "    </tr>\n",
       "    <tr>\n",
       "      <th>CreditScore</th>\n",
       "      <td>10,000.00</td>\n",
       "      <td>650.53</td>\n",
       "      <td>96.65</td>\n",
       "      <td>350.00</td>\n",
       "      <td>584.00</td>\n",
       "      <td>652.00</td>\n",
       "      <td>718.00</td>\n",
       "      <td>850.00</td>\n",
       "    </tr>\n",
       "    <tr>\n",
       "      <th>Age</th>\n",
       "      <td>10,000.00</td>\n",
       "      <td>38.92</td>\n",
       "      <td>10.49</td>\n",
       "      <td>18.00</td>\n",
       "      <td>32.00</td>\n",
       "      <td>37.00</td>\n",
       "      <td>44.00</td>\n",
       "      <td>92.00</td>\n",
       "    </tr>\n",
       "    <tr>\n",
       "      <th>Tenure</th>\n",
       "      <td>10,000.00</td>\n",
       "      <td>5.00</td>\n",
       "      <td>2.76</td>\n",
       "      <td>0.00</td>\n",
       "      <td>3.00</td>\n",
       "      <td>5.00</td>\n",
       "      <td>7.00</td>\n",
       "      <td>10.00</td>\n",
       "    </tr>\n",
       "    <tr>\n",
       "      <th>Balance</th>\n",
       "      <td>10,000.00</td>\n",
       "      <td>76,485.89</td>\n",
       "      <td>62,397.41</td>\n",
       "      <td>0.00</td>\n",
       "      <td>0.00</td>\n",
       "      <td>97,198.54</td>\n",
       "      <td>127,644.24</td>\n",
       "      <td>250,898.09</td>\n",
       "    </tr>\n",
       "    <tr>\n",
       "      <th>NumOfProducts</th>\n",
       "      <td>10,000.00</td>\n",
       "      <td>1.53</td>\n",
       "      <td>0.58</td>\n",
       "      <td>1.00</td>\n",
       "      <td>1.00</td>\n",
       "      <td>1.00</td>\n",
       "      <td>2.00</td>\n",
       "      <td>4.00</td>\n",
       "    </tr>\n",
       "    <tr>\n",
       "      <th>HasCrCard</th>\n",
       "      <td>10,000.00</td>\n",
       "      <td>0.71</td>\n",
       "      <td>0.46</td>\n",
       "      <td>0.00</td>\n",
       "      <td>0.00</td>\n",
       "      <td>1.00</td>\n",
       "      <td>1.00</td>\n",
       "      <td>1.00</td>\n",
       "    </tr>\n",
       "    <tr>\n",
       "      <th>IsActiveMember</th>\n",
       "      <td>10,000.00</td>\n",
       "      <td>0.52</td>\n",
       "      <td>0.50</td>\n",
       "      <td>0.00</td>\n",
       "      <td>0.00</td>\n",
       "      <td>1.00</td>\n",
       "      <td>1.00</td>\n",
       "      <td>1.00</td>\n",
       "    </tr>\n",
       "    <tr>\n",
       "      <th>EstimatedSalary</th>\n",
       "      <td>10,000.00</td>\n",
       "      <td>100,090.24</td>\n",
       "      <td>57,510.49</td>\n",
       "      <td>11.58</td>\n",
       "      <td>51,002.11</td>\n",
       "      <td>100,193.91</td>\n",
       "      <td>149,388.25</td>\n",
       "      <td>199,992.48</td>\n",
       "    </tr>\n",
       "    <tr>\n",
       "      <th>Exited</th>\n",
       "      <td>10,000.00</td>\n",
       "      <td>0.20</td>\n",
       "      <td>0.40</td>\n",
       "      <td>0.00</td>\n",
       "      <td>0.00</td>\n",
       "      <td>0.00</td>\n",
       "      <td>0.00</td>\n",
       "      <td>1.00</td>\n",
       "    </tr>\n",
       "  </tbody>\n",
       "</table>\n",
       "</div>"
      ],
      "text/plain": [
       "                    count          mean       std           min           25%  \\\n",
       "RowNumber       10,000.00      5,000.50  2,886.90          1.00      2,500.75   \n",
       "CustomerId      10,000.00 15,690,940.57 71,936.19 15,565,701.00 15,628,528.25   \n",
       "CreditScore     10,000.00        650.53     96.65        350.00        584.00   \n",
       "Age             10,000.00         38.92     10.49         18.00         32.00   \n",
       "Tenure          10,000.00          5.00      2.76          0.00          3.00   \n",
       "Balance         10,000.00     76,485.89 62,397.41          0.00          0.00   \n",
       "NumOfProducts   10,000.00          1.53      0.58          1.00          1.00   \n",
       "HasCrCard       10,000.00          0.71      0.46          0.00          0.00   \n",
       "IsActiveMember  10,000.00          0.52      0.50          0.00          0.00   \n",
       "EstimatedSalary 10,000.00    100,090.24 57,510.49         11.58     51,002.11   \n",
       "Exited          10,000.00          0.20      0.40          0.00          0.00   \n",
       "\n",
       "                          50%           75%           max  \n",
       "RowNumber            5,000.50      7,500.25     10,000.00  \n",
       "CustomerId      15,690,738.00 15,753,233.75 15,815,690.00  \n",
       "CreditScore            652.00        718.00        850.00  \n",
       "Age                     37.00         44.00         92.00  \n",
       "Tenure                   5.00          7.00         10.00  \n",
       "Balance             97,198.54    127,644.24    250,898.09  \n",
       "NumOfProducts            1.00          2.00          4.00  \n",
       "HasCrCard                1.00          1.00          1.00  \n",
       "IsActiveMember           1.00          1.00          1.00  \n",
       "EstimatedSalary    100,193.91    149,388.25    199,992.48  \n",
       "Exited                   0.00          0.00          1.00  "
      ]
     },
     "execution_count": 11,
     "metadata": {},
     "output_type": "execute_result"
    }
   ],
   "source": [
    "data.describe().T"
   ]
  },
  {
   "cell_type": "markdown",
   "metadata": {},
   "source": [
    "<a id=\"info_1\"></a>\n",
    "Преобразования успешны, пропусков больше нет. Обратим внимание, что среднее в графе Exited = 0.20, т.е. данные не сбалансированы."
   ]
  },
  {
   "cell_type": "code",
   "execution_count": 12,
   "metadata": {},
   "outputs": [
    {
     "data": {
      "text/plain": [
       "0"
      ]
     },
     "execution_count": 12,
     "metadata": {},
     "output_type": "execute_result"
    }
   ],
   "source": [
    "data.duplicated().sum()"
   ]
  },
  {
   "cell_type": "markdown",
   "metadata": {},
   "source": [
    "Дубликатов тоже нет."
   ]
  },
  {
   "cell_type": "markdown",
   "metadata": {},
   "source": [
    "Приведем наименования колонок к стилю стилю snake_case."
   ]
  },
  {
   "cell_type": "code",
   "execution_count": 13,
   "metadata": {},
   "outputs": [
    {
     "data": {
      "text/plain": [
       "Index(['RowNumber', 'CustomerId', 'Surname', 'CreditScore', 'Geography',\n",
       "       'Gender', 'Age', 'Tenure', 'Balance', 'NumOfProducts', 'HasCrCard',\n",
       "       'IsActiveMember', 'EstimatedSalary', 'Exited'],\n",
       "      dtype='object')"
      ]
     },
     "execution_count": 13,
     "metadata": {},
     "output_type": "execute_result"
    }
   ],
   "source": [
    "data.columns"
   ]
  },
  {
   "cell_type": "code",
   "execution_count": 14,
   "metadata": {},
   "outputs": [],
   "source": [
    "new_columns = ['row_number', 'customer_id', 'surname', 'credit_score', 'geography',\n",
    "       'gender', 'age', 'tenure', 'balance', 'num_of_products', 'has_cr_card',\n",
    "       'is_active-member', 'estimated_salary', 'exited']"
   ]
  },
  {
   "cell_type": "code",
   "execution_count": 15,
   "metadata": {},
   "outputs": [],
   "source": [
    "data.columns = new_columns"
   ]
  },
  {
   "cell_type": "markdown",
   "metadata": {},
   "source": [
    "Избавимся от избыточных столбцов."
   ]
  },
  {
   "cell_type": "code",
   "execution_count": 16,
   "metadata": {},
   "outputs": [],
   "source": [
    "data = data.drop(['row_number', 'customer_id', 'surname'], axis=1)"
   ]
  },
  {
   "cell_type": "markdown",
   "metadata": {},
   "source": [
    "Приведем столбцы типа object к числовым методом one-hot encoding."
   ]
  },
  {
   "cell_type": "code",
   "execution_count": 17,
   "metadata": {},
   "outputs": [],
   "source": [
    "data_ohe = pd.get_dummies(data, drop_first=True)"
   ]
  },
  {
   "cell_type": "markdown",
   "metadata": {},
   "source": [
    "Отделим целевой признак и разобьем данные на обучающую, валидационную и тестовую выборки."
   ]
  },
  {
   "cell_type": "code",
   "execution_count": 20,
   "metadata": {},
   "outputs": [
    {
     "name": "stdout",
     "output_type": "stream",
     "text": [
      "(6000, 11)\n",
      "(2000, 11)\n",
      "(2000, 11)\n",
      "(6000,)\n",
      "(2000,)\n",
      "(2000,)\n"
     ]
    }
   ],
   "source": [
    "features = data_ohe.drop(['exited'], axis=1)\n",
    "target = data_ohe['exited']\n",
    "features_train, features_valid, target_train, target_valid = train_test_split(\n",
    "    features, target, test_size=.4, random_state=12345)\n",
    "features_valid, features_test, target_valid, target_test = train_test_split(\n",
    "    features_valid, target_valid, test_size=.5, random_state=12345)\n",
    "print(features_train.shape)\n",
    "print(features_valid.shape)\n",
    "print(features_test.shape)\n",
    "print(target_train.shape)\n",
    "print(target_valid.shape)\n",
    "print(target_test.shape)"
   ]
  },
  {
   "cell_type": "markdown",
   "metadata": {},
   "source": [
    "Приступим к масштабированию данных."
   ]
  },
  {
   "cell_type": "markdown",
   "metadata": {},
   "source": [
    "Определим столбцы с количественными призниками."
   ]
  },
  {
   "cell_type": "code",
   "execution_count": 21,
   "metadata": {},
   "outputs": [],
   "source": [
    "numeric = ['credit_score', 'age', 'tenure', 'balance', 'num_of_products', 'estimated_salary']"
   ]
  },
  {
   "cell_type": "markdown",
   "metadata": {},
   "source": [
    "Применим функцию StandardScaler()"
   ]
  },
  {
   "cell_type": "code",
   "execution_count": 22,
   "metadata": {},
   "outputs": [],
   "source": [
    "scaler = StandardScaler()\n",
    "scaler.fit(features_train[numeric])\n",
    "\n",
    "features_train[numeric] = scaler.transform(features_train[numeric])\n",
    "features_valid[numeric] = scaler.transform(features_valid[numeric])\n",
    "features_test[numeric] = scaler.transform(features_test[numeric])"
   ]
  },
  {
   "cell_type": "markdown",
   "metadata": {},
   "source": [
    "Проверим результат."
   ]
  },
  {
   "cell_type": "code",
   "execution_count": 23,
   "metadata": {},
   "outputs": [
    {
     "data": {
      "text/html": [
       "<div>\n",
       "<style scoped>\n",
       "    .dataframe tbody tr th:only-of-type {\n",
       "        vertical-align: middle;\n",
       "    }\n",
       "\n",
       "    .dataframe tbody tr th {\n",
       "        vertical-align: top;\n",
       "    }\n",
       "\n",
       "    .dataframe thead th {\n",
       "        text-align: right;\n",
       "    }\n",
       "</style>\n",
       "<table border=\"1\" class=\"dataframe\">\n",
       "  <thead>\n",
       "    <tr style=\"text-align: right;\">\n",
       "      <th></th>\n",
       "      <th>count</th>\n",
       "      <th>mean</th>\n",
       "      <th>std</th>\n",
       "      <th>min</th>\n",
       "      <th>25%</th>\n",
       "      <th>50%</th>\n",
       "      <th>75%</th>\n",
       "      <th>max</th>\n",
       "    </tr>\n",
       "  </thead>\n",
       "  <tbody>\n",
       "    <tr>\n",
       "      <th>credit_score</th>\n",
       "      <td>6,000.00</td>\n",
       "      <td>-0.00</td>\n",
       "      <td>1.00</td>\n",
       "      <td>-3.14</td>\n",
       "      <td>-0.69</td>\n",
       "      <td>0.02</td>\n",
       "      <td>0.67</td>\n",
       "      <td>2.05</td>\n",
       "    </tr>\n",
       "    <tr>\n",
       "      <th>age</th>\n",
       "      <td>6,000.00</td>\n",
       "      <td>0.00</td>\n",
       "      <td>1.00</td>\n",
       "      <td>-1.99</td>\n",
       "      <td>-0.66</td>\n",
       "      <td>-0.18</td>\n",
       "      <td>0.48</td>\n",
       "      <td>5.04</td>\n",
       "    </tr>\n",
       "    <tr>\n",
       "      <th>tenure</th>\n",
       "      <td>6,000.00</td>\n",
       "      <td>0.00</td>\n",
       "      <td>1.00</td>\n",
       "      <td>-1.83</td>\n",
       "      <td>-0.74</td>\n",
       "      <td>-0.01</td>\n",
       "      <td>0.72</td>\n",
       "      <td>1.81</td>\n",
       "    </tr>\n",
       "    <tr>\n",
       "      <th>balance</th>\n",
       "      <td>6,000.00</td>\n",
       "      <td>-0.00</td>\n",
       "      <td>1.00</td>\n",
       "      <td>-1.23</td>\n",
       "      <td>-1.23</td>\n",
       "      <td>0.33</td>\n",
       "      <td>0.82</td>\n",
       "      <td>2.81</td>\n",
       "    </tr>\n",
       "    <tr>\n",
       "      <th>num_of_products</th>\n",
       "      <td>6,000.00</td>\n",
       "      <td>-0.00</td>\n",
       "      <td>1.00</td>\n",
       "      <td>-0.89</td>\n",
       "      <td>-0.89</td>\n",
       "      <td>-0.89</td>\n",
       "      <td>0.83</td>\n",
       "      <td>4.27</td>\n",
       "    </tr>\n",
       "    <tr>\n",
       "      <th>has_cr_card</th>\n",
       "      <td>6,000.00</td>\n",
       "      <td>0.71</td>\n",
       "      <td>0.45</td>\n",
       "      <td>0.00</td>\n",
       "      <td>0.00</td>\n",
       "      <td>1.00</td>\n",
       "      <td>1.00</td>\n",
       "      <td>1.00</td>\n",
       "    </tr>\n",
       "    <tr>\n",
       "      <th>is_active-member</th>\n",
       "      <td>6,000.00</td>\n",
       "      <td>0.53</td>\n",
       "      <td>0.50</td>\n",
       "      <td>0.00</td>\n",
       "      <td>0.00</td>\n",
       "      <td>1.00</td>\n",
       "      <td>1.00</td>\n",
       "      <td>1.00</td>\n",
       "    </tr>\n",
       "    <tr>\n",
       "      <th>estimated_salary</th>\n",
       "      <td>6,000.00</td>\n",
       "      <td>-0.00</td>\n",
       "      <td>1.00</td>\n",
       "      <td>-1.72</td>\n",
       "      <td>-0.86</td>\n",
       "      <td>0.01</td>\n",
       "      <td>0.85</td>\n",
       "      <td>1.74</td>\n",
       "    </tr>\n",
       "    <tr>\n",
       "      <th>geography_Germany</th>\n",
       "      <td>6,000.00</td>\n",
       "      <td>0.25</td>\n",
       "      <td>0.43</td>\n",
       "      <td>0.00</td>\n",
       "      <td>0.00</td>\n",
       "      <td>0.00</td>\n",
       "      <td>0.00</td>\n",
       "      <td>1.00</td>\n",
       "    </tr>\n",
       "    <tr>\n",
       "      <th>geography_Spain</th>\n",
       "      <td>6,000.00</td>\n",
       "      <td>0.25</td>\n",
       "      <td>0.43</td>\n",
       "      <td>0.00</td>\n",
       "      <td>0.00</td>\n",
       "      <td>0.00</td>\n",
       "      <td>1.00</td>\n",
       "      <td>1.00</td>\n",
       "    </tr>\n",
       "    <tr>\n",
       "      <th>gender_Male</th>\n",
       "      <td>6,000.00</td>\n",
       "      <td>0.55</td>\n",
       "      <td>0.50</td>\n",
       "      <td>0.00</td>\n",
       "      <td>0.00</td>\n",
       "      <td>1.00</td>\n",
       "      <td>1.00</td>\n",
       "      <td>1.00</td>\n",
       "    </tr>\n",
       "  </tbody>\n",
       "</table>\n",
       "</div>"
      ],
      "text/plain": [
       "                     count  mean  std   min   25%   50%  75%  max\n",
       "credit_score      6,000.00 -0.00 1.00 -3.14 -0.69  0.02 0.67 2.05\n",
       "age               6,000.00  0.00 1.00 -1.99 -0.66 -0.18 0.48 5.04\n",
       "tenure            6,000.00  0.00 1.00 -1.83 -0.74 -0.01 0.72 1.81\n",
       "balance           6,000.00 -0.00 1.00 -1.23 -1.23  0.33 0.82 2.81\n",
       "num_of_products   6,000.00 -0.00 1.00 -0.89 -0.89 -0.89 0.83 4.27\n",
       "has_cr_card       6,000.00  0.71 0.45  0.00  0.00  1.00 1.00 1.00\n",
       "is_active-member  6,000.00  0.53 0.50  0.00  0.00  1.00 1.00 1.00\n",
       "estimated_salary  6,000.00 -0.00 1.00 -1.72 -0.86  0.01 0.85 1.74\n",
       "geography_Germany 6,000.00  0.25 0.43  0.00  0.00  0.00 0.00 1.00\n",
       "geography_Spain   6,000.00  0.25 0.43  0.00  0.00  0.00 1.00 1.00\n",
       "gender_Male       6,000.00  0.55 0.50  0.00  0.00  1.00 1.00 1.00"
      ]
     },
     "execution_count": 23,
     "metadata": {},
     "output_type": "execute_result"
    }
   ],
   "source": [
    "features_train.describe().T"
   ]
  },
  {
   "cell_type": "code",
   "execution_count": 24,
   "metadata": {},
   "outputs": [
    {
     "data": {
      "text/html": [
       "<div>\n",
       "<style scoped>\n",
       "    .dataframe tbody tr th:only-of-type {\n",
       "        vertical-align: middle;\n",
       "    }\n",
       "\n",
       "    .dataframe tbody tr th {\n",
       "        vertical-align: top;\n",
       "    }\n",
       "\n",
       "    .dataframe thead th {\n",
       "        text-align: right;\n",
       "    }\n",
       "</style>\n",
       "<table border=\"1\" class=\"dataframe\">\n",
       "  <thead>\n",
       "    <tr style=\"text-align: right;\">\n",
       "      <th></th>\n",
       "      <th>count</th>\n",
       "      <th>mean</th>\n",
       "      <th>std</th>\n",
       "      <th>min</th>\n",
       "      <th>25%</th>\n",
       "      <th>50%</th>\n",
       "      <th>75%</th>\n",
       "      <th>max</th>\n",
       "    </tr>\n",
       "  </thead>\n",
       "  <tbody>\n",
       "    <tr>\n",
       "      <th>credit_score</th>\n",
       "      <td>2,000.00</td>\n",
       "      <td>-0.05</td>\n",
       "      <td>1.00</td>\n",
       "      <td>-2.98</td>\n",
       "      <td>-0.76</td>\n",
       "      <td>-0.04</td>\n",
       "      <td>0.66</td>\n",
       "      <td>2.05</td>\n",
       "    </tr>\n",
       "    <tr>\n",
       "      <th>age</th>\n",
       "      <td>2,000.00</td>\n",
       "      <td>-0.00</td>\n",
       "      <td>1.02</td>\n",
       "      <td>-1.99</td>\n",
       "      <td>-0.66</td>\n",
       "      <td>-0.18</td>\n",
       "      <td>0.48</td>\n",
       "      <td>5.04</td>\n",
       "    </tr>\n",
       "    <tr>\n",
       "      <th>tenure</th>\n",
       "      <td>2,000.00</td>\n",
       "      <td>-0.07</td>\n",
       "      <td>1.01</td>\n",
       "      <td>-1.83</td>\n",
       "      <td>-0.83</td>\n",
       "      <td>-0.01</td>\n",
       "      <td>0.72</td>\n",
       "      <td>1.81</td>\n",
       "    </tr>\n",
       "    <tr>\n",
       "      <th>balance</th>\n",
       "      <td>2,000.00</td>\n",
       "      <td>0.01</td>\n",
       "      <td>1.01</td>\n",
       "      <td>-1.23</td>\n",
       "      <td>-1.23</td>\n",
       "      <td>0.36</td>\n",
       "      <td>0.83</td>\n",
       "      <td>2.60</td>\n",
       "    </tr>\n",
       "    <tr>\n",
       "      <th>num_of_products</th>\n",
       "      <td>2,000.00</td>\n",
       "      <td>0.05</td>\n",
       "      <td>1.01</td>\n",
       "      <td>-0.89</td>\n",
       "      <td>-0.89</td>\n",
       "      <td>0.83</td>\n",
       "      <td>0.83</td>\n",
       "      <td>4.27</td>\n",
       "    </tr>\n",
       "    <tr>\n",
       "      <th>has_cr_card</th>\n",
       "      <td>2,000.00</td>\n",
       "      <td>0.70</td>\n",
       "      <td>0.46</td>\n",
       "      <td>0.00</td>\n",
       "      <td>0.00</td>\n",
       "      <td>1.00</td>\n",
       "      <td>1.00</td>\n",
       "      <td>1.00</td>\n",
       "    </tr>\n",
       "    <tr>\n",
       "      <th>is_active-member</th>\n",
       "      <td>2,000.00</td>\n",
       "      <td>0.50</td>\n",
       "      <td>0.50</td>\n",
       "      <td>0.00</td>\n",
       "      <td>0.00</td>\n",
       "      <td>0.00</td>\n",
       "      <td>1.00</td>\n",
       "      <td>1.00</td>\n",
       "    </tr>\n",
       "    <tr>\n",
       "      <th>estimated_salary</th>\n",
       "      <td>2,000.00</td>\n",
       "      <td>0.03</td>\n",
       "      <td>1.00</td>\n",
       "      <td>-1.72</td>\n",
       "      <td>-0.84</td>\n",
       "      <td>0.01</td>\n",
       "      <td>0.92</td>\n",
       "      <td>1.74</td>\n",
       "    </tr>\n",
       "    <tr>\n",
       "      <th>geography_Germany</th>\n",
       "      <td>2,000.00</td>\n",
       "      <td>0.26</td>\n",
       "      <td>0.44</td>\n",
       "      <td>0.00</td>\n",
       "      <td>0.00</td>\n",
       "      <td>0.00</td>\n",
       "      <td>1.00</td>\n",
       "      <td>1.00</td>\n",
       "    </tr>\n",
       "    <tr>\n",
       "      <th>geography_Spain</th>\n",
       "      <td>2,000.00</td>\n",
       "      <td>0.23</td>\n",
       "      <td>0.42</td>\n",
       "      <td>0.00</td>\n",
       "      <td>0.00</td>\n",
       "      <td>0.00</td>\n",
       "      <td>0.00</td>\n",
       "      <td>1.00</td>\n",
       "    </tr>\n",
       "    <tr>\n",
       "      <th>gender_Male</th>\n",
       "      <td>2,000.00</td>\n",
       "      <td>0.53</td>\n",
       "      <td>0.50</td>\n",
       "      <td>0.00</td>\n",
       "      <td>0.00</td>\n",
       "      <td>1.00</td>\n",
       "      <td>1.00</td>\n",
       "      <td>1.00</td>\n",
       "    </tr>\n",
       "  </tbody>\n",
       "</table>\n",
       "</div>"
      ],
      "text/plain": [
       "                     count  mean  std   min   25%   50%  75%  max\n",
       "credit_score      2,000.00 -0.05 1.00 -2.98 -0.76 -0.04 0.66 2.05\n",
       "age               2,000.00 -0.00 1.02 -1.99 -0.66 -0.18 0.48 5.04\n",
       "tenure            2,000.00 -0.07 1.01 -1.83 -0.83 -0.01 0.72 1.81\n",
       "balance           2,000.00  0.01 1.01 -1.23 -1.23  0.36 0.83 2.60\n",
       "num_of_products   2,000.00  0.05 1.01 -0.89 -0.89  0.83 0.83 4.27\n",
       "has_cr_card       2,000.00  0.70 0.46  0.00  0.00  1.00 1.00 1.00\n",
       "is_active-member  2,000.00  0.50 0.50  0.00  0.00  0.00 1.00 1.00\n",
       "estimated_salary  2,000.00  0.03 1.00 -1.72 -0.84  0.01 0.92 1.74\n",
       "geography_Germany 2,000.00  0.26 0.44  0.00  0.00  0.00 1.00 1.00\n",
       "geography_Spain   2,000.00  0.23 0.42  0.00  0.00  0.00 0.00 1.00\n",
       "gender_Male       2,000.00  0.53 0.50  0.00  0.00  1.00 1.00 1.00"
      ]
     },
     "execution_count": 24,
     "metadata": {},
     "output_type": "execute_result"
    }
   ],
   "source": [
    "features_valid.describe().T"
   ]
  },
  {
   "cell_type": "code",
   "execution_count": 25,
   "metadata": {},
   "outputs": [
    {
     "data": {
      "text/html": [
       "<div>\n",
       "<style scoped>\n",
       "    .dataframe tbody tr th:only-of-type {\n",
       "        vertical-align: middle;\n",
       "    }\n",
       "\n",
       "    .dataframe tbody tr th {\n",
       "        vertical-align: top;\n",
       "    }\n",
       "\n",
       "    .dataframe thead th {\n",
       "        text-align: right;\n",
       "    }\n",
       "</style>\n",
       "<table border=\"1\" class=\"dataframe\">\n",
       "  <thead>\n",
       "    <tr style=\"text-align: right;\">\n",
       "      <th></th>\n",
       "      <th>count</th>\n",
       "      <th>mean</th>\n",
       "      <th>std</th>\n",
       "      <th>min</th>\n",
       "      <th>25%</th>\n",
       "      <th>50%</th>\n",
       "      <th>75%</th>\n",
       "      <th>max</th>\n",
       "    </tr>\n",
       "  </thead>\n",
       "  <tbody>\n",
       "    <tr>\n",
       "      <th>credit_score</th>\n",
       "      <td>2,000.00</td>\n",
       "      <td>-0.04</td>\n",
       "      <td>1.02</td>\n",
       "      <td>-3.14</td>\n",
       "      <td>-0.76</td>\n",
       "      <td>-0.05</td>\n",
       "      <td>0.69</td>\n",
       "      <td>2.05</td>\n",
       "    </tr>\n",
       "    <tr>\n",
       "      <th>age</th>\n",
       "      <td>2,000.00</td>\n",
       "      <td>-0.00</td>\n",
       "      <td>0.96</td>\n",
       "      <td>-1.99</td>\n",
       "      <td>-0.66</td>\n",
       "      <td>-0.18</td>\n",
       "      <td>0.48</td>\n",
       "      <td>3.99</td>\n",
       "    </tr>\n",
       "    <tr>\n",
       "      <th>tenure</th>\n",
       "      <td>2,000.00</td>\n",
       "      <td>0.01</td>\n",
       "      <td>1.01</td>\n",
       "      <td>-1.83</td>\n",
       "      <td>-0.74</td>\n",
       "      <td>-0.01</td>\n",
       "      <td>0.72</td>\n",
       "      <td>1.81</td>\n",
       "    </tr>\n",
       "    <tr>\n",
       "      <th>balance</th>\n",
       "      <td>2,000.00</td>\n",
       "      <td>-0.02</td>\n",
       "      <td>1.01</td>\n",
       "      <td>-1.23</td>\n",
       "      <td>-1.23</td>\n",
       "      <td>0.32</td>\n",
       "      <td>0.81</td>\n",
       "      <td>2.33</td>\n",
       "    </tr>\n",
       "    <tr>\n",
       "      <th>num_of_products</th>\n",
       "      <td>2,000.00</td>\n",
       "      <td>0.05</td>\n",
       "      <td>1.00</td>\n",
       "      <td>-0.89</td>\n",
       "      <td>-0.89</td>\n",
       "      <td>0.83</td>\n",
       "      <td>0.83</td>\n",
       "      <td>4.27</td>\n",
       "    </tr>\n",
       "    <tr>\n",
       "      <th>has_cr_card</th>\n",
       "      <td>2,000.00</td>\n",
       "      <td>0.70</td>\n",
       "      <td>0.46</td>\n",
       "      <td>0.00</td>\n",
       "      <td>0.00</td>\n",
       "      <td>1.00</td>\n",
       "      <td>1.00</td>\n",
       "      <td>1.00</td>\n",
       "    </tr>\n",
       "    <tr>\n",
       "      <th>is_active-member</th>\n",
       "      <td>2,000.00</td>\n",
       "      <td>0.50</td>\n",
       "      <td>0.50</td>\n",
       "      <td>0.00</td>\n",
       "      <td>0.00</td>\n",
       "      <td>0.00</td>\n",
       "      <td>1.00</td>\n",
       "      <td>1.00</td>\n",
       "    </tr>\n",
       "    <tr>\n",
       "      <th>estimated_salary</th>\n",
       "      <td>2,000.00</td>\n",
       "      <td>0.02</td>\n",
       "      <td>0.98</td>\n",
       "      <td>-1.72</td>\n",
       "      <td>-0.77</td>\n",
       "      <td>0.02</td>\n",
       "      <td>0.86</td>\n",
       "      <td>1.74</td>\n",
       "    </tr>\n",
       "    <tr>\n",
       "      <th>geography_Germany</th>\n",
       "      <td>2,000.00</td>\n",
       "      <td>0.25</td>\n",
       "      <td>0.43</td>\n",
       "      <td>0.00</td>\n",
       "      <td>0.00</td>\n",
       "      <td>0.00</td>\n",
       "      <td>1.00</td>\n",
       "      <td>1.00</td>\n",
       "    </tr>\n",
       "    <tr>\n",
       "      <th>geography_Spain</th>\n",
       "      <td>2,000.00</td>\n",
       "      <td>0.25</td>\n",
       "      <td>0.43</td>\n",
       "      <td>0.00</td>\n",
       "      <td>0.00</td>\n",
       "      <td>0.00</td>\n",
       "      <td>1.00</td>\n",
       "      <td>1.00</td>\n",
       "    </tr>\n",
       "    <tr>\n",
       "      <th>gender_Male</th>\n",
       "      <td>2,000.00</td>\n",
       "      <td>0.55</td>\n",
       "      <td>0.50</td>\n",
       "      <td>0.00</td>\n",
       "      <td>0.00</td>\n",
       "      <td>1.00</td>\n",
       "      <td>1.00</td>\n",
       "      <td>1.00</td>\n",
       "    </tr>\n",
       "  </tbody>\n",
       "</table>\n",
       "</div>"
      ],
      "text/plain": [
       "                     count  mean  std   min   25%   50%  75%  max\n",
       "credit_score      2,000.00 -0.04 1.02 -3.14 -0.76 -0.05 0.69 2.05\n",
       "age               2,000.00 -0.00 0.96 -1.99 -0.66 -0.18 0.48 3.99\n",
       "tenure            2,000.00  0.01 1.01 -1.83 -0.74 -0.01 0.72 1.81\n",
       "balance           2,000.00 -0.02 1.01 -1.23 -1.23  0.32 0.81 2.33\n",
       "num_of_products   2,000.00  0.05 1.00 -0.89 -0.89  0.83 0.83 4.27\n",
       "has_cr_card       2,000.00  0.70 0.46  0.00  0.00  1.00 1.00 1.00\n",
       "is_active-member  2,000.00  0.50 0.50  0.00  0.00  0.00 1.00 1.00\n",
       "estimated_salary  2,000.00  0.02 0.98 -1.72 -0.77  0.02 0.86 1.74\n",
       "geography_Germany 2,000.00  0.25 0.43  0.00  0.00  0.00 1.00 1.00\n",
       "geography_Spain   2,000.00  0.25 0.43  0.00  0.00  0.00 1.00 1.00\n",
       "gender_Male       2,000.00  0.55 0.50  0.00  0.00  1.00 1.00 1.00"
      ]
     },
     "execution_count": 25,
     "metadata": {},
     "output_type": "execute_result"
    }
   ],
   "source": [
    "features_test.describe().T"
   ]
  },
  {
   "cell_type": "markdown",
   "metadata": {},
   "source": [
    "Ок."
   ]
  },
  {
   "cell_type": "markdown",
   "metadata": {},
   "source": [
    "### Вывод"
   ]
  },
  {
   "cell_type": "markdown",
   "metadata": {},
   "source": [
    "Выполены загрузка данных из файла, заполнение пропусков, удаление избыточных и переименование оставшихся столбцов, преобразование текстовых столбцов в числовые методом OHE, масштабирование количественных данных, выделение целевого признака и разбивка на обучающую, валидационную и тестовую выборки, размер выборок 6000, 2000 и 2000 объектов соответственно.\n",
    "\n",
    "Данные подготовлены, можно приступать к их исследованию.\n",
    "\n",
    "[В начало раздела 1](#section_1)"
   ]
  },
  {
   "cell_type": "markdown",
   "metadata": {},
   "source": [
    "<a id=\"section_2\"></a>\n",
    "## Исследование задачи"
   ]
  },
  {
   "cell_type": "markdown",
   "metadata": {},
   "source": [
    "Построим модели с использованием алгоритмов LogisticRegression, DecisionTreeClassifier, RandomForestClassifier и DummyClassifier с гиперпараметрами по умолчанию."
   ]
  },
  {
   "cell_type": "code",
   "execution_count": 26,
   "metadata": {},
   "outputs": [],
   "source": [
    "model_lr = LogisticRegression(random_state=12345) # solver='liblinear'\n",
    "model_dt = DecisionTreeClassifier(random_state=12345)\n",
    "model_rf = RandomForestClassifier(random_state=12345)\n",
    "dummy_clf = DummyClassifier(random_state=12345)"
   ]
  },
  {
   "cell_type": "code",
   "execution_count": 27,
   "metadata": {},
   "outputs": [],
   "source": [
    "model_list = [model_lr, model_dt, model_rf, dummy_clf]"
   ]
  },
  {
   "cell_type": "code",
   "execution_count": 28,
   "metadata": {},
   "outputs": [
    {
     "name": "stdout",
     "output_type": "stream",
     "text": [
      "LogisticRegression(random_state=12345)\n",
      "confusion_matrix\n",
      "[[1506   76]\n",
      " [ 319   99]]\n",
      "accuracy_score: 0.8025\n",
      "recall_score: 0.23684210526315788\n",
      "precision_score: 0.5657142857142857\n",
      "f1_score: 0.33389544688026984\n",
      "\n",
      "DecisionTreeClassifier(random_state=12345)\n",
      "confusion_matrix\n",
      "[[1386  196]\n",
      " [ 212  206]]\n",
      "accuracy_score: 0.796\n",
      "recall_score: 0.49282296650717705\n",
      "precision_score: 0.5124378109452736\n",
      "f1_score: 0.5024390243902439\n",
      "\n",
      "RandomForestClassifier(random_state=12345)\n",
      "confusion_matrix\n",
      "[[1526   56]\n",
      " [ 227  191]]\n",
      "accuracy_score: 0.8585\n",
      "recall_score: 0.4569377990430622\n",
      "precision_score: 0.7732793522267206\n",
      "f1_score: 0.574436090225564\n",
      "\n",
      "DummyClassifier(random_state=12345)\n",
      "confusion_matrix\n",
      "[[1582    0]\n",
      " [ 418    0]]\n",
      "accuracy_score: 0.791\n",
      "recall_score: 0.0\n",
      "precision_score: 0.0\n",
      "f1_score: 0.0\n",
      "\n"
     ]
    }
   ],
   "source": [
    "for model in model_list:\n",
    "    \n",
    "    model.fit(features_train, target_train)\n",
    "    predicted_valid = model.predict(features_valid)\n",
    "    print(model)\n",
    "    print(f'confusion_matrix\\n{confusion_matrix(target_valid, predicted_valid)}')\n",
    "    print(f'accuracy_score: {accuracy_score(target_valid, predicted_valid)}')\n",
    "    print(f'recall_score: {recall_score(target_valid, predicted_valid)}')\n",
    "    print(f'precision_score: {precision_score(target_valid, predicted_valid)}')\n",
    "    print(f'f1_score: {f1_score(target_valid, predicted_valid)}')\n",
    "    print()"
   ]
  },
  {
   "cell_type": "markdown",
   "metadata": {},
   "source": [
    "### Вывод"
   ]
  },
  {
   "cell_type": "markdown",
   "metadata": {},
   "source": [
    "Мы протестировали модели с использованием алгоритмов LogisticRegression, DecisionTreeClassifier, RandomForestClassifier и DummyClassifier с гиперпараметрами по умолчанию.\n",
    "\n",
    "Лучшие показатели у модели, построеной по алгоритму RandomForestClassifier.\n",
    "- accuracy_score: 0.8575\n",
    "- recall_score: 0.45454545454545453\n",
    "- precision_score: 0.7692307692307693\n",
    "- f1_score: 0.5714285714285714\n",
    "\n",
    "Метрика F1 немного не дотягивает до целевого уровня 0.59.\n",
    "\n",
    "Проверка на вменяемость также пройдена:\n",
    "accuracy_score: 0.8575 против 0.791 у случайной модели.\n",
    "\n",
    "Выберем этот алгоритм для дальнейших экспериментов.\n",
    "\n",
    "[В начало раздела 2](#section_2)"
   ]
  },
  {
   "cell_type": "markdown",
   "metadata": {},
   "source": [
    "<a id=\"section_3\"></a>\n",
    "## Борьба с дисбалансом"
   ]
  },
  {
   "cell_type": "markdown",
   "metadata": {},
   "source": [
    "На [этапе подготовки данных](#info_1) мы могли видеть неравномерность распределения целевого признака. Попробуем нивелировать влияние этого дисбаланса на модель различными методами."
   ]
  },
  {
   "cell_type": "markdown",
   "metadata": {},
   "source": [
    "### class_weight='balanced'"
   ]
  },
  {
   "cell_type": "markdown",
   "metadata": {},
   "source": [
    "Установим гиперпараметру class_weight значение 'balanced' и сравним результаты с гиперпараметрами по умолчанию."
   ]
  },
  {
   "cell_type": "code",
   "execution_count": 29,
   "metadata": {},
   "outputs": [
    {
     "name": "stdout",
     "output_type": "stream",
     "text": [
      "class_weight='balanced'\n",
      "confusion_matrix\n",
      "[[1531   51]\n",
      " [ 234  184]]\n",
      "accuracy_score: 0.8575\n",
      "recall_score: 0.44019138755980863\n",
      "precision_score: 0.7829787234042553\n",
      "f1_score: 0.5635528330781011\n",
      "Wall time: 675 ms\n"
     ]
    }
   ],
   "source": [
    "%%time\n",
    "\n",
    "model = RandomForestClassifier(random_state=12345, class_weight='balanced')\n",
    "model.fit(features_train, target_train)\n",
    "predicted_valid = model.predict(features_valid)\n",
    "print(\"class_weight='balanced'\")\n",
    "print(f'confusion_matrix\\n{confusion_matrix(target_valid, predicted_valid)}')\n",
    "print(f'accuracy_score: {accuracy_score(target_valid, predicted_valid)}')\n",
    "print(f'recall_score: {recall_score(target_valid, predicted_valid)}')\n",
    "print(f'precision_score: {precision_score(target_valid, predicted_valid)}')\n",
    "print(f'f1_score: {f1_score(target_valid, predicted_valid)}')"
   ]
  },
  {
   "cell_type": "markdown",
   "metadata": {},
   "source": [
    "стало хуже..."
   ]
  },
  {
   "cell_type": "markdown",
   "metadata": {},
   "source": [
    "### upsampling"
   ]
  },
  {
   "cell_type": "markdown",
   "metadata": {},
   "source": [
    "Увеличим количество объектов положительного класса методом upsampling и сравним результаты с дефолтной моделью."
   ]
  },
  {
   "cell_type": "code",
   "execution_count": 30,
   "metadata": {},
   "outputs": [],
   "source": [
    "def upsample(features, target, repeat):\n",
    "    features_zeros = features[target == 0]\n",
    "    features_ones = features[target == 1]\n",
    "    target_zeros = target[target == 0]\n",
    "    target_ones = target[target == 1]\n",
    "\n",
    "    features_upsampled = pd.concat([features_zeros] + [features_ones] * repeat)\n",
    "    target_upsampled = pd.concat([target_zeros] + [target_ones] * repeat)\n",
    "    \n",
    "    features_upsampled, target_upsampled = shuffle(\n",
    "        features_upsampled, target_upsampled, random_state=12345)\n",
    "    \n",
    "    return features_upsampled, target_upsampled"
   ]
  },
  {
   "cell_type": "code",
   "execution_count": 31,
   "metadata": {},
   "outputs": [],
   "source": [
    "features_upsampled, target_upsampled = upsample(features_train, target_train, 4)"
   ]
  },
  {
   "cell_type": "code",
   "execution_count": 32,
   "metadata": {},
   "outputs": [
    {
     "data": {
      "text/plain": [
       "0.49895702962035876"
      ]
     },
     "execution_count": 32,
     "metadata": {},
     "output_type": "execute_result"
    }
   ],
   "source": [
    "target_upsampled.mean()"
   ]
  },
  {
   "cell_type": "code",
   "execution_count": 33,
   "metadata": {},
   "outputs": [
    {
     "name": "stdout",
     "output_type": "stream",
     "text": [
      "upsampled\n",
      "confusion_matrix\n",
      "[[1472  110]\n",
      " [ 192  226]]\n",
      "accuracy_score: 0.849\n",
      "recall_score: 0.5406698564593302\n",
      "precision_score: 0.6726190476190477\n",
      "f1_score: 0.5994694960212201\n",
      "Wall time: 951 ms\n"
     ]
    }
   ],
   "source": [
    "%%time\n",
    "\n",
    "model = RandomForestClassifier(random_state=12345)\n",
    "model.fit(features_upsampled, target_upsampled)\n",
    "predicted_valid = model.predict(features_valid)\n",
    "print('upsampled')\n",
    "print(f'confusion_matrix\\n{confusion_matrix(target_valid, predicted_valid)}')\n",
    "print(f'accuracy_score: {accuracy_score(target_valid, predicted_valid)}')\n",
    "print(f'recall_score: {recall_score(target_valid, predicted_valid)}')\n",
    "print(f'precision_score: {precision_score(target_valid, predicted_valid)}')\n",
    "print(f'f1_score: {f1_score(target_valid, predicted_valid)}')"
   ]
  },
  {
   "cell_type": "markdown",
   "metadata": {},
   "source": [
    "цель достигнута) \n",
    "\n",
    "f1_score: 0.6021220159151195"
   ]
  },
  {
   "cell_type": "markdown",
   "metadata": {},
   "source": [
    "### downsampling"
   ]
  },
  {
   "cell_type": "markdown",
   "metadata": {},
   "source": [
    "Уменьшим количество объектов отрицательного класса методом downsampling и сравним результаты с дефолтной моделью."
   ]
  },
  {
   "cell_type": "code",
   "execution_count": 34,
   "metadata": {},
   "outputs": [],
   "source": [
    "def downsample(features, target, fraction):\n",
    "    features_zeros = features[target == 0]\n",
    "    features_ones = features[target == 1]\n",
    "    target_zeros = target[target == 0]\n",
    "    target_ones = target[target == 1]\n",
    "\n",
    "    features_downsampled = pd.concat(\n",
    "        [features_zeros.sample(frac=fraction, random_state=12345)] + [features_ones])\n",
    "    target_downsampled = pd.concat(\n",
    "        [target_zeros.sample(frac=fraction, random_state=12345)] + [target_ones])\n",
    "    \n",
    "    features_downsampled, target_downsampled = shuffle(\n",
    "        features_downsampled, target_downsampled, random_state=12345)\n",
    "    \n",
    "    return features_downsampled, target_downsampled"
   ]
  },
  {
   "cell_type": "code",
   "execution_count": 35,
   "metadata": {},
   "outputs": [],
   "source": [
    "features_downsampled, target_downsampled = downsample(features_train, target_train, 0.25)"
   ]
  },
  {
   "cell_type": "code",
   "execution_count": 36,
   "metadata": {},
   "outputs": [
    {
     "name": "stdout",
     "output_type": "stream",
     "text": [
      "downsampled\n",
      "confusion_matrix\n",
      "[[1241  341]\n",
      " [ 106  312]]\n",
      "accuracy_score: 0.7765\n",
      "recall_score: 0.7464114832535885\n",
      "precision_score: 0.4777947932618683\n",
      "f1_score: 0.5826330532212884\n",
      "Wall time: 352 ms\n"
     ]
    }
   ],
   "source": [
    "%%time\n",
    "\n",
    "model = RandomForestClassifier(random_state=12345)\n",
    "model.fit(features_downsampled, target_downsampled)\n",
    "predicted_valid = model.predict(features_valid)\n",
    "print('downsampled')\n",
    "print(f'confusion_matrix\\n{confusion_matrix(target_valid, predicted_valid)}')\n",
    "print(f'accuracy_score: {accuracy_score(target_valid, predicted_valid)}')\n",
    "print(f'recall_score: {recall_score(target_valid, predicted_valid)}')\n",
    "print(f'precision_score: {precision_score(target_valid, predicted_valid)}')\n",
    "print(f'f1_score: {f1_score(target_valid, predicted_valid)}')"
   ]
  },
  {
   "cell_type": "markdown",
   "metadata": {},
   "source": [
    "опять плохо..."
   ]
  },
  {
   "cell_type": "markdown",
   "metadata": {},
   "source": [
    "### Подбор порогового значения"
   ]
  },
  {
   "cell_type": "markdown",
   "metadata": {},
   "source": [
    "Попробуем различные варианты порогового значения и сравним результаты с дефолтной моделью."
   ]
  },
  {
   "cell_type": "code",
   "execution_count": 37,
   "metadata": {},
   "outputs": [
    {
     "name": "stdout",
     "output_type": "stream",
     "text": [
      "threshold = 0.00 , f1_score = 0.36427\n",
      "threshold = 0.01 , f1_score = 0.37758\n",
      "threshold = 0.02 , f1_score = 0.38921\n",
      "threshold = 0.03 , f1_score = 0.40181\n",
      "threshold = 0.04 , f1_score = 0.41579\n",
      "threshold = 0.05 , f1_score = 0.42771\n",
      "threshold = 0.06 , f1_score = 0.44355\n",
      "threshold = 0.07 , f1_score = 0.45742\n",
      "threshold = 0.08 , f1_score = 0.47044\n",
      "threshold = 0.09 , f1_score = 0.47619\n",
      "threshold = 0.10 , f1_score = 0.48340\n",
      "threshold = 0.11 , f1_score = 0.49555\n",
      "threshold = 0.12 , f1_score = 0.50710\n",
      "threshold = 0.13 , f1_score = 0.51977\n",
      "threshold = 0.14 , f1_score = 0.52457\n",
      "threshold = 0.15 , f1_score = 0.53406\n",
      "threshold = 0.16 , f1_score = 0.54163\n",
      "threshold = 0.17 , f1_score = 0.55333\n",
      "threshold = 0.18 , f1_score = 0.56481\n",
      "threshold = 0.19 , f1_score = 0.57018\n",
      "threshold = 0.20 , f1_score = 0.57399\n",
      "threshold = 0.21 , f1_score = 0.58478\n",
      "threshold = 0.22 , f1_score = 0.58857\n",
      "threshold = 0.23 , f1_score = 0.59788\n",
      "threshold = 0.24 , f1_score = 0.59722\n",
      "threshold = 0.25 , f1_score = 0.60163\n",
      "threshold = 0.26 , f1_score = 0.60518\n",
      "threshold = 0.27 , f1_score = 0.60274\n",
      "threshold = 0.28 , f1_score = 0.60171\n",
      "threshold = 0.29 , f1_score = 0.60044\n",
      "threshold = 0.30 , f1_score = 0.60201\n",
      "threshold = 0.31 , f1_score = 0.60710\n",
      "threshold = 0.32 , f1_score = 0.60373\n",
      "threshold = 0.33 , f1_score = 0.61065\n",
      "threshold = 0.34 , f1_score = 0.61465\n",
      "threshold = 0.35 , f1_score = 0.61632\n",
      "threshold = 0.36 , f1_score = 0.61787\n",
      "threshold = 0.37 , f1_score = 0.61616\n",
      "threshold = 0.38 , f1_score = 0.61340\n",
      "threshold = 0.39 , f1_score = 0.61299\n",
      "threshold = 0.40 , f1_score = 0.61097\n",
      "threshold = 0.41 , f1_score = 0.60766\n",
      "threshold = 0.42 , f1_score = 0.60027\n",
      "threshold = 0.43 , f1_score = 0.59209\n",
      "threshold = 0.44 , f1_score = 0.59280\n",
      "threshold = 0.45 , f1_score = 0.58427\n",
      "threshold = 0.46 , f1_score = 0.58523\n",
      "threshold = 0.47 , f1_score = 0.58261\n",
      "threshold = 0.48 , f1_score = 0.58235\n",
      "threshold = 0.49 , f1_score = 0.57612\n",
      "threshold = 0.50 , f1_score = 0.57444\n",
      "\n",
      "roc_auc_score = 0.84095\n"
     ]
    }
   ],
   "source": [
    "model = RandomForestClassifier(random_state=12345)\n",
    "model.fit(features_train, target_train)\n",
    "\n",
    "probabilities_valid = model.predict_proba(features_valid)\n",
    "probabilities_one_valid = probabilities_valid[:, 1]\n",
    "\n",
    "auc_roc = roc_auc_score(target_valid, probabilities_one_valid)\n",
    "\n",
    "for threshold in np.arange(0, .51, 0.01):\n",
    "    #predicted_valid = [1 for pred in probabilities_one_valid if pred >= threshold else 0]\n",
    "    predicted_valid = probabilities_one_valid > threshold \n",
    "    f1 = f1_score(target_valid, predicted_valid)\n",
    "    print(f\"threshold = {threshold:.2f} , f1_score = {f1:.5f}\")\n",
    "    \n",
    "print()\n",
    "print(f\"roc_auc_score = {auc_roc:.5f}\")"
   ]
  },
  {
   "cell_type": "markdown",
   "metadata": {},
   "source": [
    "threshold = 0.36 , f1_score = 0.61787, roc_auc_score = 0.84095 пока лучший результат"
   ]
  },
  {
   "cell_type": "markdown",
   "metadata": {},
   "source": [
    "попробуем совместить upsampling и threshold"
   ]
  },
  {
   "cell_type": "code",
   "execution_count": 38,
   "metadata": {},
   "outputs": [
    {
     "name": "stdout",
     "output_type": "stream",
     "text": [
      "threshold = 0.00, f1_score = 0.35816\n",
      "threshold = 0.01, f1_score = 0.36793\n",
      "threshold = 0.02, f1_score = 0.38162\n",
      "threshold = 0.03, f1_score = 0.39001\n",
      "threshold = 0.04, f1_score = 0.39721\n",
      "threshold = 0.05, f1_score = 0.40766\n",
      "threshold = 0.06, f1_score = 0.41747\n",
      "threshold = 0.07, f1_score = 0.42607\n",
      "threshold = 0.08, f1_score = 0.43952\n",
      "threshold = 0.09, f1_score = 0.44652\n",
      "threshold = 0.10, f1_score = 0.45580\n",
      "threshold = 0.11, f1_score = 0.46819\n",
      "threshold = 0.12, f1_score = 0.47884\n",
      "threshold = 0.13, f1_score = 0.48825\n",
      "threshold = 0.14, f1_score = 0.49498\n",
      "threshold = 0.15, f1_score = 0.49692\n",
      "threshold = 0.16, f1_score = 0.50669\n",
      "threshold = 0.17, f1_score = 0.51408\n",
      "threshold = 0.18, f1_score = 0.52122\n",
      "threshold = 0.19, f1_score = 0.52704\n",
      "threshold = 0.20, f1_score = 0.53594\n",
      "threshold = 0.21, f1_score = 0.53580\n",
      "threshold = 0.22, f1_score = 0.54351\n",
      "threshold = 0.23, f1_score = 0.54958\n",
      "threshold = 0.24, f1_score = 0.55250\n",
      "threshold = 0.25, f1_score = 0.55458\n",
      "threshold = 0.26, f1_score = 0.56447\n",
      "threshold = 0.27, f1_score = 0.56725\n",
      "threshold = 0.28, f1_score = 0.57621\n",
      "threshold = 0.29, f1_score = 0.57824\n",
      "threshold = 0.30, f1_score = 0.58058\n",
      "threshold = 0.31, f1_score = 0.57879\n",
      "threshold = 0.32, f1_score = 0.58635\n",
      "threshold = 0.33, f1_score = 0.58993\n",
      "threshold = 0.34, f1_score = 0.58725\n",
      "threshold = 0.35, f1_score = 0.59299\n",
      "threshold = 0.36, f1_score = 0.59547\n",
      "threshold = 0.37, f1_score = 0.60132\n",
      "threshold = 0.38, f1_score = 0.60538\n",
      "threshold = 0.39, f1_score = 0.60978\n",
      "threshold = 0.40, f1_score = 0.61432\n",
      "threshold = 0.41, f1_score = 0.61124\n",
      "threshold = 0.42, f1_score = 0.60808\n",
      "threshold = 0.43, f1_score = 0.60194\n",
      "threshold = 0.44, f1_score = 0.60123\n",
      "threshold = 0.45, f1_score = 0.60772\n",
      "threshold = 0.46, f1_score = 0.60705\n",
      "threshold = 0.47, f1_score = 0.60382\n",
      "threshold = 0.48, f1_score = 0.60489\n",
      "threshold = 0.49, f1_score = 0.60471\n",
      "threshold = 0.50, f1_score = 0.59947\n",
      "\n",
      "roc_auc_score = 0.83717\n"
     ]
    }
   ],
   "source": [
    "model = RandomForestClassifier(random_state=12345)\n",
    "model.fit(features_upsampled, target_upsampled)\n",
    "\n",
    "probabilities_valid = model.predict_proba(features_valid)\n",
    "probabilities_one_valid = probabilities_valid[:, 1]\n",
    "\n",
    "auc_roc = roc_auc_score(target_valid, probabilities_one_valid)\n",
    "\n",
    "for threshold in np.arange(0, .51, 0.01):\n",
    "    #predicted_valid = [1 for pred in probabilities_one_valid if pred >= threshold else 0]\n",
    "    predicted_valid = probabilities_one_valid > threshold \n",
    "    f1 = f1_score(target_valid, predicted_valid)\n",
    "    \n",
    "    print(f\"threshold = {threshold:.2f}, f1_score = {f1:.5f}\")  \n",
    "    \n",
    "print()\n",
    "print(f\"roc_auc_score = {auc_roc:.5f}\")"
   ]
  },
  {
   "cell_type": "markdown",
   "metadata": {},
   "source": [
    "threshold = 0.40 , f1_score = 0.61432, roc_auc_score = 0.83717."
   ]
  },
  {
   "cell_type": "markdown",
   "metadata": {},
   "source": [
    "### Показатели на валидационной выборке"
   ]
  },
  {
   "cell_type": "markdown",
   "metadata": {},
   "source": [
    "Засечем время обучения модели с лучшими характеристиками."
   ]
  },
  {
   "cell_type": "code",
   "execution_count": 39,
   "metadata": {},
   "outputs": [
    {
     "name": "stdout",
     "output_type": "stream",
     "text": [
      "threshold = 0.40 , f1_score = 0.61432, roc_auc_score = 0.83717\n",
      "Wall time: 955 ms\n"
     ]
    }
   ],
   "source": [
    "%%time\n",
    "\n",
    "best_model = RandomForestClassifier(random_state=12345)\n",
    "best_model.fit(features_upsampled, target_upsampled)\n",
    "\n",
    "probabilities_valid = best_model.predict_proba(features_valid)\n",
    "probabilities_one_valid = probabilities_valid[:, 1]\n",
    "\n",
    "predicted_valid = probabilities_one_valid > 0.40 \n",
    "f1 = f1_score(target_valid, predicted_valid)\n",
    "auc_roc = roc_auc_score(target_valid, probabilities_one_valid)\n",
    "print(f\"threshold = 0.40 , f1_score = {f1:.5f}, roc_auc_score = {auc_roc:.5f}\")    "
   ]
  },
  {
   "cell_type": "markdown",
   "metadata": {},
   "source": [
    "Время обучения приемлемое - 948 ms,\n",
    "метрика f1 тоже - 0.61432, \n",
    "значение roc_auc - 0.83717 - хоть и заметно меньше 1, в то же время существенно выше 0.5."
   ]
  },
  {
   "cell_type": "markdown",
   "metadata": {},
   "source": [
    "Построим ROC-кривую."
   ]
  },
  {
   "cell_type": "code",
   "execution_count": 40,
   "metadata": {},
   "outputs": [
    {
     "data": {
      "image/png": "[encoded data removed]",
      "text/plain": [
       "<Figure size 648x432 with 1 Axes>"
      ]
     },
     "metadata": {
      "needs_background": "light"
     },
     "output_type": "display_data"
    }
   ],
   "source": [
    "fpr, tpr, thresholds = roc_curve(target_valid, probabilities_one_valid)\n",
    "\n",
    "plt.figure(figsize=(9, 6))\n",
    "plt.plot(fpr, tpr, linestyle=':')\n",
    "plt.plot([0, 1], [0, 1], linestyle='--')\n",
    "plt.xlim([0, 1])\n",
    "plt.ylim([0, 1])\n",
    "plt.xlabel(\"False Positive Rate\")\n",
    "plt.ylabel(\"True Positive Rate\")\n",
    "plt.title(\"ROC-кривая\")\n",
    "plt.show()"
   ]
  },
  {
   "cell_type": "markdown",
   "metadata": {},
   "source": [
    "Построим РR-кривую."
   ]
  },
  {
   "cell_type": "code",
   "execution_count": 41,
   "metadata": {},
   "outputs": [
    {
     "data": {
      "image/png": "[encoded data removed]",
      "text/plain": [
       "<Figure size 648x432 with 1 Axes>"
      ]
     },
     "metadata": {
      "needs_background": "light"
     },
     "output_type": "display_data"
    }
   ],
   "source": [
    "precision, recall, thresholds = precision_recall_curve(target_valid, predicted_valid)\n",
    "\n",
    "plt.figure(figsize=(9, 6))\n",
    "plt.step(recall, precision, where='post')\n",
    "plt.xlabel('Recall')\n",
    "plt.ylabel('Precision')\n",
    "plt.ylim([0.0, 1.05])\n",
    "plt.xlim([0.0, 1.0])\n",
    "plt.title('Кривая Precision-Recall')\n",
    "plt.show()"
   ]
  },
  {
   "cell_type": "markdown",
   "metadata": {},
   "source": [
    "### Вывод"
   ]
  },
  {
   "cell_type": "markdown",
   "metadata": {},
   "source": [
    "Мы проверили, какое влияние на результаты модели оказывают различные способы борьбы с дисбалансом:\n",
    "- установка гиперпараметров с учетом весов классов,\n",
    "- метод upsampling,\n",
    "- метод downsampling,\n",
    "- подбор порогового значения.\n",
    "\n",
    "Наилучшие результаты показало сочетание upsampling'а с подбором порогового значения.\n",
    "\n",
    "Показатели лучшей модели на валидационной выборке:\n",
    "\n",
    "- время обучения приемлемое - 948 ms, \n",
    "- метрика f1 тоже - 0.61432, \n",
    "- значение roc_auc - 0.83717 - хоть и заметно меньше 1, в то же время существенно выше 0.5.\n",
    "\n",
    "Можно приступать к проверке модели на тестовой выборке.\n",
    "\n",
    "[В начало раздела 3](#section_3)"
   ]
  },
  {
   "cell_type": "markdown",
   "metadata": {},
   "source": [
    "<a id=\"section_4\"></a>\n",
    "## Тестирование модели"
   ]
  },
  {
   "cell_type": "markdown",
   "metadata": {},
   "source": [
    "Проверим best_model на тестовой выборке."
   ]
  },
  {
   "cell_type": "code",
   "execution_count": 42,
   "metadata": {},
   "outputs": [
    {
     "name": "stdout",
     "output_type": "stream",
     "text": [
      "f1_score = 0.59530, roc_auc_score = 0.84740\n",
      "Wall time: 95.4 ms\n"
     ]
    }
   ],
   "source": [
    "%%time\n",
    "\n",
    "predicted_test = best_model.predict(features_test)\n",
    "\n",
    "probabilities_test = best_model.predict_proba(features_test)\n",
    "probabilities_one_test = probabilities_test[:, 1]\n",
    "\n",
    "f1 = f1_score(target_test, predicted_test)\n",
    "auc_roc = roc_auc_score(target_test, probabilities_one_test)\n",
    "\n",
    "print(f\"f1_score = {f1:.5f}, roc_auc_score = {auc_roc:.5f}\")   "
   ]
  },
  {
   "cell_type": "markdown",
   "metadata": {},
   "source": [
    "Результаты хуже, чем на валидационной выборке. Попробуем улучшить качество модели подбором оптимальных гиперпараметров."
   ]
  },
  {
   "cell_type": "markdown",
   "metadata": {},
   "source": [
    "Определим лучшее значение max_depth."
   ]
  },
  {
   "cell_type": "code",
   "execution_count": 43,
   "metadata": {},
   "outputs": [
    {
     "name": "stdout",
     "output_type": "stream",
     "text": [
      "max_depth = 1, f1_score = 0.53360\n",
      "max_depth = 2, f1_score = 0.55109\n",
      "max_depth = 3, f1_score = 0.57303\n",
      "max_depth = 4, f1_score = 0.60100\n",
      "max_depth = 5, f1_score = 0.61508\n",
      "max_depth = 6, f1_score = 0.60362\n",
      "max_depth = 7, f1_score = 0.61508\n",
      "max_depth = 8, f1_score = 0.62254\n",
      "max_depth = 9, f1_score = 0.60510\n",
      "max_depth = 10, f1_score = 0.61242\n",
      "max_depth = 11, f1_score = 0.61093\n",
      "max_depth = 12, f1_score = 0.62603\n",
      "max_depth = 13, f1_score = 0.60024\n",
      "max_depth = 14, f1_score = 0.62347\n",
      "max_depth = 15, f1_score = 0.60772\n",
      "max_depth = 16, f1_score = 0.58154\n",
      "max_depth = 17, f1_score = 0.60000\n",
      "max_depth = 18, f1_score = 0.58090\n",
      "max_depth = 19, f1_score = 0.60241\n",
      "max_depth = 20, f1_score = 0.60288\n",
      "max_depth = 21, f1_score = 0.60132\n",
      "max_depth = 22, f1_score = 0.58745\n",
      "max_depth = 23, f1_score = 0.59973\n",
      "max_depth = 24, f1_score = 0.59597\n",
      "max_depth = 25, f1_score = 0.59329\n",
      "max_depth = 26, f1_score = 0.58038\n",
      "max_depth = 27, f1_score = 0.58038\n",
      "max_depth = 28, f1_score = 0.58038\n",
      "max_depth = 29, f1_score = 0.58038\n",
      "Wall time: 4.77 s\n"
     ]
    }
   ],
   "source": [
    "%%time\n",
    "\n",
    "for depth in range(1, 30):\n",
    "    model = RandomForestClassifier(random_state=12345, n_estimators=20, max_depth=depth)\n",
    "    model.fit(features_upsampled, target_upsampled)\n",
    "    predicted_valid = model.predict(features_valid)\n",
    "\n",
    "    f1 = f1_score(target_valid, predicted_valid)\n",
    "    # auc_roc = roc_auc_score(target_valid, predicted_valid)\n",
    "\n",
    "    print(f\"max_depth = {depth}, f1_score = {f1:.5f}\")   # , roc_auc_score = {auc_roc:.5f}"
   ]
  },
  {
   "cell_type": "markdown",
   "metadata": {},
   "source": [
    "max_depth = 12, f1_score = 0.62603"
   ]
  },
  {
   "cell_type": "markdown",
   "metadata": {},
   "source": [
    "Определим лучшее значение n_estimators."
   ]
  },
  {
   "cell_type": "code",
   "execution_count": 44,
   "metadata": {},
   "outputs": [
    {
     "name": "stdout",
     "output_type": "stream",
     "text": [
      "n_estimators = 10, f1_score = 0.60727\n",
      "n_estimators = 20, f1_score = 0.62603\n",
      "n_estimators = 30, f1_score = 0.61538\n",
      "n_estimators = 40, f1_score = 0.62077\n",
      "n_estimators = 50, f1_score = 0.62150\n",
      "n_estimators = 60, f1_score = 0.61932\n",
      "n_estimators = 70, f1_score = 0.61593\n",
      "n_estimators = 80, f1_score = 0.61358\n",
      "n_estimators = 90, f1_score = 0.61466\n",
      "n_estimators = 100, f1_score = 0.62012\n",
      "n_estimators = 110, f1_score = 0.61810\n",
      "n_estimators = 120, f1_score = 0.61972\n",
      "n_estimators = 130, f1_score = 0.61754\n",
      "n_estimators = 140, f1_score = 0.61810\n",
      "n_estimators = 150, f1_score = 0.61754\n",
      "n_estimators = 160, f1_score = 0.61557\n",
      "n_estimators = 170, f1_score = 0.61557\n",
      "n_estimators = 180, f1_score = 0.61720\n",
      "n_estimators = 190, f1_score = 0.61720\n",
      "n_estimators = 200, f1_score = 0.61557\n",
      "n_estimators = 210, f1_score = 0.61629\n",
      "n_estimators = 220, f1_score = 0.61466\n",
      "n_estimators = 230, f1_score = 0.61684\n",
      "n_estimators = 240, f1_score = 0.61538\n",
      "n_estimators = 250, f1_score = 0.61865\n",
      "n_estimators = 260, f1_score = 0.61792\n",
      "n_estimators = 270, f1_score = 0.61268\n",
      "n_estimators = 280, f1_score = 0.61412\n",
      "n_estimators = 290, f1_score = 0.61466\n",
      "n_estimators = 300, f1_score = 0.61557\n",
      "Wall time: 38.6 s\n"
     ]
    }
   ],
   "source": [
    "%%time\n",
    "\n",
    "for est in range(10, 301, 10):\n",
    "    model = RandomForestClassifier(random_state=12345, n_estimators=est, max_depth=12)\n",
    "    model.fit(features_upsampled, target_upsampled)\n",
    "    predicted_valid = model.predict(features_valid)\n",
    "\n",
    "    f1 = f1_score(target_valid, predicted_valid)\n",
    "    # auc_roc = roc_auc_score(target_valid, predicted_valid)\n",
    "\n",
    "    print(f\"n_estimators = {est}, f1_score = {f1:.5f}\")   # , roc_auc_score = {auc_roc:.5f}"
   ]
  },
  {
   "cell_type": "markdown",
   "metadata": {},
   "source": [
    "Лучший вариант\n",
    "\n",
    "n_estimators = 20, f1_score = 0.62603"
   ]
  },
  {
   "cell_type": "markdown",
   "metadata": {},
   "source": [
    "Совместим лучшие значения n_estimators и max_depth и попробуем выявить оптимальное пороговое значение."
   ]
  },
  {
   "cell_type": "code",
   "execution_count": 45,
   "metadata": {},
   "outputs": [
    {
     "name": "stdout",
     "output_type": "stream",
     "text": [
      "RandomForestClassifier(max_depth=12, n_estimators=20, random_state=12345)\n",
      "threshold = 0.00 , f1_score = 0.34689\n",
      "threshold = 0.01 , f1_score = 0.34947\n",
      "threshold = 0.02 , f1_score = 0.35598\n",
      "threshold = 0.03 , f1_score = 0.36123\n",
      "threshold = 0.04 , f1_score = 0.36947\n",
      "threshold = 0.05 , f1_score = 0.38007\n",
      "threshold = 0.06 , f1_score = 0.38722\n",
      "threshold = 0.07 , f1_score = 0.39706\n",
      "threshold = 0.08 , f1_score = 0.40320\n",
      "threshold = 0.09 , f1_score = 0.41443\n",
      "threshold = 0.10 , f1_score = 0.42261\n",
      "threshold = 0.11 , f1_score = 0.42926\n",
      "threshold = 0.12 , f1_score = 0.43767\n",
      "threshold = 0.13 , f1_score = 0.44622\n",
      "threshold = 0.14 , f1_score = 0.45101\n",
      "threshold = 0.15 , f1_score = 0.46163\n",
      "threshold = 0.16 , f1_score = 0.46824\n",
      "threshold = 0.17 , f1_score = 0.47320\n",
      "threshold = 0.18 , f1_score = 0.48141\n",
      "threshold = 0.19 , f1_score = 0.48869\n",
      "threshold = 0.20 , f1_score = 0.49569\n",
      "threshold = 0.21 , f1_score = 0.50203\n",
      "threshold = 0.22 , f1_score = 0.50587\n",
      "threshold = 0.23 , f1_score = 0.51235\n",
      "threshold = 0.24 , f1_score = 0.51729\n",
      "threshold = 0.25 , f1_score = 0.52276\n",
      "threshold = 0.26 , f1_score = 0.52584\n",
      "threshold = 0.27 , f1_score = 0.53058\n",
      "threshold = 0.28 , f1_score = 0.53033\n",
      "threshold = 0.29 , f1_score = 0.53834\n",
      "threshold = 0.30 , f1_score = 0.54396\n",
      "threshold = 0.31 , f1_score = 0.54682\n",
      "threshold = 0.32 , f1_score = 0.55575\n",
      "threshold = 0.33 , f1_score = 0.56195\n",
      "threshold = 0.34 , f1_score = 0.56863\n",
      "threshold = 0.35 , f1_score = 0.56597\n",
      "threshold = 0.36 , f1_score = 0.57302\n",
      "threshold = 0.37 , f1_score = 0.58015\n",
      "threshold = 0.38 , f1_score = 0.58641\n",
      "threshold = 0.39 , f1_score = 0.59325\n",
      "threshold = 0.40 , f1_score = 0.59858\n",
      "threshold = 0.41 , f1_score = 0.60144\n",
      "threshold = 0.42 , f1_score = 0.60397\n",
      "threshold = 0.43 , f1_score = 0.60529\n",
      "threshold = 0.44 , f1_score = 0.60944\n",
      "threshold = 0.45 , f1_score = 0.61471\n",
      "threshold = 0.46 , f1_score = 0.61778\n",
      "threshold = 0.47 , f1_score = 0.62317\n",
      "threshold = 0.48 , f1_score = 0.62486\n",
      "threshold = 0.49 , f1_score = 0.63036\n",
      "threshold = 0.50 , f1_score = 0.62603\n",
      "threshold = 0.51 , f1_score = 0.62530\n",
      "threshold = 0.52 , f1_score = 0.62560\n",
      "threshold = 0.53 , f1_score = 0.62515\n",
      "threshold = 0.54 , f1_score = 0.62546\n",
      "threshold = 0.55 , f1_score = 0.61827\n",
      "threshold = 0.56 , f1_score = 0.61499\n",
      "threshold = 0.57 , f1_score = 0.61061\n",
      "threshold = 0.58 , f1_score = 0.60550\n",
      "threshold = 0.59 , f1_score = 0.60132\n",
      "threshold = 0.60 , f1_score = 0.59189\n",
      "threshold = 0.61 , f1_score = 0.58678\n",
      "threshold = 0.62 , f1_score = 0.57865\n",
      "threshold = 0.63 , f1_score = 0.58274\n",
      "threshold = 0.64 , f1_score = 0.57835\n",
      "threshold = 0.65 , f1_score = 0.57101\n",
      "threshold = 0.66 , f1_score = 0.56176\n",
      "threshold = 0.67 , f1_score = 0.55306\n",
      "threshold = 0.68 , f1_score = 0.55235\n",
      "threshold = 0.69 , f1_score = 0.53621\n",
      "threshold = 0.70 , f1_score = 0.53810\n",
      "threshold = 0.71 , f1_score = 0.53397\n",
      "threshold = 0.72 , f1_score = 0.53270\n",
      "threshold = 0.73 , f1_score = 0.52427\n",
      "threshold = 0.74 , f1_score = 0.51645\n",
      "threshold = 0.75 , f1_score = 0.50831\n",
      "threshold = 0.76 , f1_score = 0.49412\n",
      "threshold = 0.77 , f1_score = 0.48896\n",
      "threshold = 0.78 , f1_score = 0.48464\n",
      "threshold = 0.79 , f1_score = 0.46957\n",
      "threshold = 0.80 , f1_score = 0.44326\n",
      "threshold = 0.81 , f1_score = 0.43214\n",
      "threshold = 0.82 , f1_score = 0.41230\n",
      "threshold = 0.83 , f1_score = 0.38674\n",
      "threshold = 0.84 , f1_score = 0.38219\n",
      "threshold = 0.85 , f1_score = 0.36364\n",
      "threshold = 0.86 , f1_score = 0.36122\n",
      "threshold = 0.87 , f1_score = 0.35385\n",
      "threshold = 0.88 , f1_score = 0.32549\n",
      "threshold = 0.89 , f1_score = 0.31621\n",
      "threshold = 0.90 , f1_score = 0.26639\n",
      "threshold = 0.91 , f1_score = 0.24845\n",
      "threshold = 0.92 , f1_score = 0.22642\n",
      "threshold = 0.93 , f1_score = 0.20000\n",
      "threshold = 0.94 , f1_score = 0.17279\n",
      "threshold = 0.95 , f1_score = 0.13687\n",
      "threshold = 0.96 , f1_score = 0.12444\n",
      "threshold = 0.97 , f1_score = 0.11186\n",
      "threshold = 0.98 , f1_score = 0.06881\n",
      "threshold = 0.99 , f1_score = 0.03271\n",
      "Wall time: 356 ms\n"
     ]
    }
   ],
   "source": [
    "%%time\n",
    "\n",
    "model = RandomForestClassifier(random_state=12345, n_estimators=20, max_depth=12)\n",
    "model.fit(features_upsampled, target_upsampled)\n",
    "print(model)\n",
    "probabilities_valid = model.predict_proba(features_valid)\n",
    "probabilities_one_valid = probabilities_valid[:, 1]\n",
    "\n",
    "for threshold in np.arange(0, 1, 0.01):\n",
    "    #predicted_valid = [1 for pred in probabilities_one_valid if pred >= threshold else 0]\n",
    "    predicted_valid = probabilities_one_valid > threshold \n",
    "    #int(item) for item in items if item.isdigit()\n",
    "    f1 = f1_score(target_valid, predicted_valid)\n",
    "    # auc_roc = roc_auc_score(target_valid, predicted_valid)\n",
    "\n",
    "    print(f\"threshold = {threshold:.2f} , f1_score = {f1:.5f}\")    # , roc_auc_score = {auc_roc:.5f}"
   ]
  },
  {
   "cell_type": "markdown",
   "metadata": {},
   "source": [
    "threshold = 0.49 , f1_score = 0.63036"
   ]
  },
  {
   "cell_type": "markdown",
   "metadata": {},
   "source": [
    "Обучим модель в соответствии с выбранными параметрами."
   ]
  },
  {
   "cell_type": "code",
   "execution_count": 46,
   "metadata": {},
   "outputs": [
    {
     "name": "stdout",
     "output_type": "stream",
     "text": [
      "threshold = 0.49 , f1_score = 0.63036, roc_auc_score = 0.84299\n",
      "Wall time: 167 ms\n"
     ]
    }
   ],
   "source": [
    "%%time\n",
    "\n",
    "model_20 = RandomForestClassifier(random_state=12345, n_estimators=20, max_depth=12)\n",
    "model_20.fit(features_upsampled, target_upsampled)\n",
    "\n",
    "probabilities_valid = model_20.predict_proba(features_valid)\n",
    "probabilities_one_valid = probabilities_valid[:, 1]\n",
    "\n",
    "predicted_valid = probabilities_one_valid > 0.49 \n",
    "f1 = f1_score(target_valid, predicted_valid)\n",
    "auc_roc = roc_auc_score(target_valid, probabilities_one_valid)\n",
    "print(f\"threshold = 0.49 , f1_score = {f1:.5f}, roc_auc_score = {auc_roc:.5f}\")    "
   ]
  },
  {
   "cell_type": "markdown",
   "metadata": {},
   "source": [
    "Проверим работу модели на тестовой выборке."
   ]
  },
  {
   "cell_type": "code",
   "execution_count": 47,
   "metadata": {},
   "outputs": [
    {
     "name": "stdout",
     "output_type": "stream",
     "text": [
      "threshold = 0.49 , f1_score = 0.61503, roc_auc_score = 0.84194\n",
      "Wall time: 18 ms\n"
     ]
    }
   ],
   "source": [
    "%%time\n",
    "\n",
    "probabilities_test = model_20.predict_proba(features_test)\n",
    "probabilities_one_test = probabilities_test[:, 1]\n",
    "\n",
    "predicted_test = probabilities_one_test > 0.49\n",
    "f1 = f1_score(target_test, predicted_test)\n",
    "auc_roc = roc_auc_score(target_test, probabilities_one_test)\n",
    "print(f\"threshold = 0.49 , f1_score = {f1:.5f}, roc_auc_score = {auc_roc:.5f}\")    "
   ]
  },
  {
   "cell_type": "markdown",
   "metadata": {},
   "source": [
    "Лучшие результаты:\n",
    "\n",
    "- f1_score = 0.61503, \n",
    "- roc_auc_score = 0.84194\n",
    "- Wall time: 170 ms"
   ]
  },
  {
   "cell_type": "markdown",
   "metadata": {},
   "source": [
    "Построим кривые результатов модели на тестовой выборке."
   ]
  },
  {
   "cell_type": "code",
   "execution_count": 48,
   "metadata": {},
   "outputs": [
    {
     "data": {
      "image/png": "[encoded data removed]",
      "text/plain": [
       "<Figure size 864x576 with 1 Axes>"
      ]
     },
     "metadata": {
      "needs_background": "light"
     },
     "output_type": "display_data"
    }
   ],
   "source": [
    "fpr, tpr, thresholds = roc_curve(target_test, probabilities_one_test)\n",
    "\n",
    "plt.figure(figsize=(12, 8))\n",
    "plt.plot(fpr, tpr, linestyle=':')\n",
    "plt.plot([0, 1], [0, 1], linestyle='--')\n",
    "plt.xlim([0, 1])\n",
    "plt.ylim([0, 1])\n",
    "plt.xlabel(\"False Positive Rate\")\n",
    "plt.ylabel(\"True Positive Rate\")\n",
    "plt.title(\"ROC-кривая\")\n",
    "plt.show()"
   ]
  },
  {
   "cell_type": "code",
   "execution_count": 49,
   "metadata": {},
   "outputs": [
    {
     "data": {
      "image/png": "[encoded data removed]",
      "text/plain": [
       "<Figure size 864x576 with 1 Axes>"
      ]
     },
     "metadata": {
      "needs_background": "light"
     },
     "output_type": "display_data"
    }
   ],
   "source": [
    "precision, recall, thresholds = precision_recall_curve(target_test, predicted_test)\n",
    "\n",
    "plt.figure(figsize=(12, 8))\n",
    "plt.step(recall, precision, where='post')\n",
    "plt.xlabel('Recall')\n",
    "plt.ylabel('Precision')\n",
    "plt.ylim([0.0, 1.05])\n",
    "plt.xlim([0.0, 1.0])\n",
    "plt.title('Кривая Precision-Recall')\n",
    "plt.show()"
   ]
  },
  {
   "cell_type": "markdown",
   "metadata": {},
   "source": [
    "### Вывод"
   ]
  },
  {
   "cell_type": "markdown",
   "metadata": {},
   "source": [
    "Без подбора гиперпараметров результаты лучшей модели:\n",
    "- на валидационной выборке:\n",
    " - f1_score = 0.61432, roc_auc - 0.83717\n",
    "- на тестовой:\n",
    " - f1_score = 0.59530, roc_auc_score = 0.84740\n",
    " - время обучения - 948 ms,\n",
    " \n",
    "Подбором гиперпараметров удалось улучшить результаты \n",
    "- на валидационной выборке:\n",
    " - f1_score = 0.63036, roc_auc_score = 0.84299\n",
    "- на тестовой:\n",
    " - f1_score = 0.61503, roc_auc_score = 0.84194\n",
    " - время обучения: 170 ms\n",
    "\n",
    " [В начало раздела 4](#section_4)"
   ]
  },
  {
   "cell_type": "markdown",
   "metadata": {},
   "source": [
    "<a id=\"section_5\"></a>\n",
    "## Общий вывод"
   ]
  },
  {
   "cell_type": "markdown",
   "metadata": {},
   "source": [
    "Исследование проведено в интересах «Бета-Банка» и будет использовано для решения проблемы оттока клиентов. Цель - спрогнозировать, уйдёт клиент из банка в ближайшее время или нет. Критерий успешности - достижение метрикой F1 уровня не ниже 0.59. \n",
    "\n",
    "Для анализа нам предоставлены исторические данные о поведении клиентов и расторжении договоров с банком. \n",
    "\n",
    "В ходе выполнения исследования нами были выполены загрузка данных, заполнение пропусков, удаление избыточных и переименование оставшихся столбцов, преобразование текстовых столбцов в числовые методом OHE, масштабирование количественных данных, выделение целевого признака и разбивка на обучающую, валидационную и тестовую выборки, размер выборок 6000, 2000 и 2000 объектов соответственно.\n",
    "\n",
    "Качество и количество предоставленных данных позволяют провести исследование.\n",
    "\n",
    "Мы протестировали модели с использованием алгоритмов LogisticRegression, DecisionTreeClassifier, RandomForestClassifier и DummyClassifier с гиперпараметрами по умолчанию.\n",
    "\n",
    "Лучшие показатели оказались у модели, построеной по алгоритму RandomForestClassifier.\n",
    "- accuracy_score: 0.8575\n",
    "- recall_score: 0.45454545454545453\n",
    "- precision_score: 0.7692307692307693\n",
    "- f1_score: 0.5714285714285714\n",
    "\n",
    "Проверка на вменяемость также пройдена:\n",
    "accuracy_score: 0.8575 против 0.791 у случайной модели.\n",
    "\n",
    "Однако, целевой уровнь метрики F1 не достигнут.\n",
    "\n",
    "Выберем этот алгоритм для дальнейших экспериментов.\n",
    "\n",
    "Еще на этапе подготовки данных был выявлен дисбаланс в распределении объектов по целевому признаку. Мы проверили, какое влияние на результаты модели оказывают различные способы борьбы с ним:\n",
    "- установка гиперпараметров с учетом весов классов,\n",
    "- метод upsampling,\n",
    "- метод downsampling,\n",
    "- подбор порогового значения.\n",
    "\n",
    "Наилучшие результаты показало сочетание upsampling'а с подбором порогового значения.\n",
    "\n",
    "Без подбора гиперпараметров результаты лучшей модели:\n",
    "- на валидационной выборке:\n",
    " - f1_score = 0.61432, roc_auc - 0.83717\n",
    "- на тестовой:\n",
    " - f1_score = 0.59530, roc_auc_score = 0.84740\n",
    " - время обучения - 948 ms,\n",
    " \n",
    "Подбором гиперпараметров удалось улучшить результаты \n",
    "- на валидационной выборке:\n",
    " - f1_score = 0.63036, roc_auc_score = 0.84299\n",
    "- на тестовой:\n",
    " - f1_score = 0.61503, roc_auc_score = 0.84194\n",
    " - время обучения: 170 ms\n",
    "\n",
    "Можем констатировать, что нами построена модель со значением *F1*-меры, удовлетворяющем заданному уровню. При этом, достигнутый уровень *AUC-ROC* хоть и заметно меньше идеала (1), в то же время существенно выше, чем у случайной модели (0.5). Эти показатели достигнуты как на валидационной, так и на тестовой выборках. Заметим, что результаты на тестовой выборке ниже результатов на валидационной. Тем не менее полученные уровни превышают минимально приемлемый и позволяют использовать модель для решения поставленной задачи.\n",
    "\n",
    "[В начало](#section_0)"
   ]
  },
  {
   "cell_type": "markdown",
   "metadata": {},
   "source": [
    "## Чек-лист готовности проекта"
   ]
  },
  {
   "cell_type": "markdown",
   "metadata": {},
   "source": [
    "Поставьте 'x' в выполненных пунктах. Далее нажмите Shift+Enter."
   ]
  },
  {
   "cell_type": "markdown",
   "metadata": {},
   "source": [
    "- [x]  Jupyter Notebook открыт\n",
    "- [x]  Весь код выполняется без ошибок\n",
    "- [x]  Ячейки с кодом расположены в порядке исполнения\n",
    "- [x]  Выполнен шаг 1: данные подготовлены\n",
    "- [x]  Выполнен шаг 2: задача исследована\n",
    "    - [x]  Исследован баланс классов\n",
    "    - [x]  Изучены модели без учёта дисбаланса\n",
    "    - [x]  Написаны выводы по результатам исследования\n",
    "- [x]  Выполнен шаг 3: учтён дисбаланс\n",
    "    - [x]  Применено несколько способов борьбы с дисбалансом\n",
    "    - [x]  Написаны выводы по результатам исследования\n",
    "- [x]  Выполнен шаг 4: проведено тестирование\n",
    "- [x]  Удалось достичь *F1*-меры не менее 0.59\n",
    "- [x]  Исследована метрика *AUC-ROC*"
   ]
  }
 ],
 "metadata": {
  "kernelspec": {
   "display_name": "Python 3 (ipykernel)",
   "language": "python",
   "name": "python3"
  },
  "language_info": {
   "codemirror_mode": {
    "name": "ipython",
    "version": 3
   },
   "file_extension": ".py",
   "mimetype": "text/x-python",
   "name": "python",
   "nbconvert_exporter": "python",
   "pygments_lexer": "ipython3",
   "version": "3.8.5"
  },
  "toc": {
   "base_numbering": 1,
   "nav_menu": {},
   "number_sections": true,
   "sideBar": true,
   "skip_h1_title": true,
   "title_cell": "Содержание",
   "title_sidebar": "Contents",
   "toc_cell": true,
   "toc_position": {
    "height": "calc(100% - 180px)",
    "left": "10px",
    "top": "150px",
    "width": "303.837px"
   },
   "toc_section_display": true,
   "toc_window_display": true
  }
 },
 "nbformat": 4,
 "nbformat_minor": 2
}

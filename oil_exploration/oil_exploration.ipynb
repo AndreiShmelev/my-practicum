{
 "cells": [
  {
   "cell_type": "markdown",
   "metadata": {},
   "source": [
    "<a id=\"section_0\"></a>\n",
    "# Выбор локации для скважины"
   ]
  },
  {
   "cell_type": "markdown",
   "metadata": {},
   "source": [
    "Допустим, вы работаете в добывающей компании «ГлавРосГосНефть». Нужно решить, где бурить новую скважину.\n",
    "\n",
    "Вам предоставлены пробы нефти в трёх регионах: в каждом 10 000 месторождений, где измерили качество нефти и объём её запасов. Постройте модель машинного обучения, которая поможет определить регион, где добыча принесёт наибольшую прибыль. Проанализируйте возможную прибыль и риски техникой *Bootstrap.*\n",
    "\n",
    "Шаги для выбора локации:\n",
    "\n",
    "- В избранном регионе ищут месторождения, для каждого определяют значения признаков;\n",
    "- Строят модель и оценивают объём запасов;\n",
    "- Выбирают месторождения с самым высокими оценками значений. Количество месторождений зависит от бюджета компании и стоимости разработки одной скважины;\n",
    "- Прибыль равна суммарной прибыли отобранных месторождений."
   ]
  },
  {
   "cell_type": "markdown",
   "metadata": {},
   "source": [
    "Импортируем необходимые библиотеки."
   ]
  },
  {
   "cell_type": "code",
   "execution_count": 1,
   "metadata": {},
   "outputs": [],
   "source": [
    "import pandas as pd\n",
    "import numpy as np\n",
    "import matplotlib.pyplot as plt"
   ]
  },
  {
   "cell_type": "code",
   "execution_count": 2,
   "metadata": {},
   "outputs": [],
   "source": [
    "from sklearn.model_selection import train_test_split\n",
    "from sklearn.preprocessing import StandardScaler\n",
    "from sklearn.linear_model import LinearRegression\n",
    "from sklearn.metrics import mean_squared_error"
   ]
  },
  {
   "cell_type": "code",
   "execution_count": 3,
   "metadata": {},
   "outputs": [],
   "source": [
    "from sklearn.metrics import mean_squared_error"
   ]
  },
  {
   "cell_type": "code",
   "execution_count": 4,
   "metadata": {},
   "outputs": [],
   "source": [
    "from numpy.random import RandomState\n",
    "state = RandomState(12345) "
   ]
  },
  {
   "cell_type": "markdown",
   "metadata": {},
   "source": [
    "Введем базовые величины для расчета проекта."
   ]
  },
  {
   "cell_type": "code",
   "execution_count": 5,
   "metadata": {},
   "outputs": [],
   "source": [
    "budget_per_region = 10_000_000_000 # бюджет на разработку региона, рублей\n",
    "revenue_per_kbarrel = 450_000 # доход с 1 тыс. барелей, рублей\n",
    "n_boreholes = 200 # количество рабочих скважин на регион\n",
    "n_locations = 500 # количество пробных бурений на регион"
   ]
  },
  {
   "cell_type": "markdown",
   "metadata": {},
   "source": [
    "<a id=\"section_1\"></a>\n",
    "## Загрузка и подготовка данных"
   ]
  },
  {
   "cell_type": "markdown",
   "metadata": {},
   "source": [
    "Загрузим данные, предусмотрим различные способы расположения файлов."
   ]
  },
  {
   "cell_type": "code",
   "execution_count": 6,
   "metadata": {},
   "outputs": [],
   "source": [
    "try:\n",
    "    geo_data_0 = pd.read_csv('geo_data_0.csv')\n",
    "    geo_data_1 = pd.read_csv('geo_data_1.csv')\n",
    "    geo_data_2 = pd.read_csv('geo_data_2.csv')\n",
    "except:\n",
    "    geo_data_0 = pd.read_csv('/datasets/geo_data_0.csv')\n",
    "    geo_data_1 = pd.read_csv('/datasets/geo_data_1.csv')\n",
    "    geo_data_2 = pd.read_csv('/datasets/geo_data_2.csv')"
   ]
  },
  {
   "cell_type": "markdown",
   "metadata": {},
   "source": [
    "Напишем функцию, автоматизирующую процесс проверки данных."
   ]
  },
  {
   "cell_type": "code",
   "execution_count": 7,
   "metadata": {},
   "outputs": [],
   "source": [
    "def check(df):\n",
    "    \n",
    "    print(f'строк={df.shape[0]}, столбцов={df.shape[1]}')\n",
    "    print()\n",
    "    print(f'дублей: {df.duplicated().sum()}')\n",
    "    print()\n",
    "    print(df.head())\n",
    "    print()\n",
    "    print(df.info())\n",
    "    print()\n",
    "    print(df.describe(include='all'))\n",
    "    print()"
   ]
  },
  {
   "cell_type": "markdown",
   "metadata": {},
   "source": [
    "Проверим данные по каждому региону."
   ]
  },
  {
   "cell_type": "code",
   "execution_count": 8,
   "metadata": {},
   "outputs": [
    {
     "name": "stdout",
     "output_type": "stream",
     "text": [
      "строк=100000, столбцов=5\n",
      "\n",
      "дублей: 0\n",
      "\n",
      "      id        f0        f1        f2     product\n",
      "0  txEyH  0.705745 -0.497823  1.221170  105.280062\n",
      "1  2acmU  1.334711 -0.340164  4.365080   73.037750\n",
      "2  409Wp  1.022732  0.151990  1.419926   85.265647\n",
      "3  iJLyR -0.032172  0.139033  2.978566  168.620776\n",
      "4  Xdl7t  1.988431  0.155413  4.751769  154.036647\n",
      "\n",
      "<class 'pandas.core.frame.DataFrame'>\n",
      "RangeIndex: 100000 entries, 0 to 99999\n",
      "Data columns (total 5 columns):\n",
      " #   Column   Non-Null Count   Dtype  \n",
      "---  ------   --------------   -----  \n",
      " 0   id       100000 non-null  object \n",
      " 1   f0       100000 non-null  float64\n",
      " 2   f1       100000 non-null  float64\n",
      " 3   f2       100000 non-null  float64\n",
      " 4   product  100000 non-null  float64\n",
      "dtypes: float64(4), object(1)\n",
      "memory usage: 3.8+ MB\n",
      "None\n",
      "\n",
      "            id             f0             f1             f2        product\n",
      "count   100000  100000.000000  100000.000000  100000.000000  100000.000000\n",
      "unique   99990            NaN            NaN            NaN            NaN\n",
      "top      fiKDv            NaN            NaN            NaN            NaN\n",
      "freq         2            NaN            NaN            NaN            NaN\n",
      "mean       NaN       0.500419       0.250143       2.502647      92.500000\n",
      "std        NaN       0.871832       0.504433       3.248248      44.288691\n",
      "min        NaN      -1.408605      -0.848218     -12.088328       0.000000\n",
      "25%        NaN      -0.072580      -0.200881       0.287748      56.497507\n",
      "50%        NaN       0.502360       0.250252       2.515969      91.849972\n",
      "75%        NaN       1.073581       0.700646       4.715088     128.564089\n",
      "max        NaN       2.362331       1.343769      16.003790     185.364347\n",
      "\n"
     ]
    }
   ],
   "source": [
    "check(geo_data_0)"
   ]
  },
  {
   "cell_type": "markdown",
   "metadata": {},
   "source": [
    "Данные читаемы, пропусков нет, формат данных соответствует ожидаемому, дубли отсутствуют."
   ]
  },
  {
   "cell_type": "code",
   "execution_count": 9,
   "metadata": {},
   "outputs": [
    {
     "name": "stdout",
     "output_type": "stream",
     "text": [
      "строк=100000, столбцов=5\n",
      "\n",
      "дублей: 0\n",
      "\n",
      "      id         f0         f1        f2     product\n",
      "0  kBEdx -15.001348  -8.276000 -0.005876    3.179103\n",
      "1  62mP7  14.272088  -3.475083  0.999183   26.953261\n",
      "2  vyE1P   6.263187  -5.948386  5.001160  134.766305\n",
      "3  KcrkZ -13.081196 -11.506057  4.999415  137.945408\n",
      "4  AHL4O  12.702195  -8.147433  5.004363  134.766305\n",
      "\n",
      "<class 'pandas.core.frame.DataFrame'>\n",
      "RangeIndex: 100000 entries, 0 to 99999\n",
      "Data columns (total 5 columns):\n",
      " #   Column   Non-Null Count   Dtype  \n",
      "---  ------   --------------   -----  \n",
      " 0   id       100000 non-null  object \n",
      " 1   f0       100000 non-null  float64\n",
      " 2   f1       100000 non-null  float64\n",
      " 3   f2       100000 non-null  float64\n",
      " 4   product  100000 non-null  float64\n",
      "dtypes: float64(4), object(1)\n",
      "memory usage: 3.8+ MB\n",
      "None\n",
      "\n",
      "            id             f0             f1             f2        product\n",
      "count   100000  100000.000000  100000.000000  100000.000000  100000.000000\n",
      "unique   99996            NaN            NaN            NaN            NaN\n",
      "top      wt4Uk            NaN            NaN            NaN            NaN\n",
      "freq         2            NaN            NaN            NaN            NaN\n",
      "mean       NaN       1.141296      -4.796579       2.494541      68.825000\n",
      "std        NaN       8.965932       5.119872       1.703572      45.944423\n",
      "min        NaN     -31.609576     -26.358598      -0.018144       0.000000\n",
      "25%        NaN      -6.298551      -8.267985       1.000021      26.953261\n",
      "50%        NaN       1.153055      -4.813172       2.011479      57.085625\n",
      "75%        NaN       8.621015      -1.332816       3.999904     107.813044\n",
      "max        NaN      29.421755      18.734063       5.019721     137.945408\n",
      "\n"
     ]
    }
   ],
   "source": [
    "check(geo_data_1)"
   ]
  },
  {
   "cell_type": "code",
   "execution_count": 10,
   "metadata": {},
   "outputs": [
    {
     "name": "stdout",
     "output_type": "stream",
     "text": [
      "строк=100000, столбцов=5\n",
      "\n",
      "дублей: 0\n",
      "\n",
      "      id        f0        f1        f2     product\n",
      "0  fwXo0 -1.146987  0.963328 -0.828965   27.758673\n",
      "1  WJtFt  0.262778  0.269839 -2.530187   56.069697\n",
      "2  ovLUW  0.194587  0.289035 -5.586433   62.871910\n",
      "3  q6cA6  2.236060 -0.553760  0.930038  114.572842\n",
      "4  WPMUX -0.515993  1.716266  5.899011  149.600746\n",
      "\n",
      "<class 'pandas.core.frame.DataFrame'>\n",
      "RangeIndex: 100000 entries, 0 to 99999\n",
      "Data columns (total 5 columns):\n",
      " #   Column   Non-Null Count   Dtype  \n",
      "---  ------   --------------   -----  \n",
      " 0   id       100000 non-null  object \n",
      " 1   f0       100000 non-null  float64\n",
      " 2   f1       100000 non-null  float64\n",
      " 3   f2       100000 non-null  float64\n",
      " 4   product  100000 non-null  float64\n",
      "dtypes: float64(4), object(1)\n",
      "memory usage: 3.8+ MB\n",
      "None\n",
      "\n",
      "            id             f0             f1             f2        product\n",
      "count   100000  100000.000000  100000.000000  100000.000000  100000.000000\n",
      "unique   99996            NaN            NaN            NaN            NaN\n",
      "top      VF7Jo            NaN            NaN            NaN            NaN\n",
      "freq         2            NaN            NaN            NaN            NaN\n",
      "mean       NaN       0.002023      -0.002081       2.495128      95.000000\n",
      "std        NaN       1.732045       1.730417       3.473445      44.749921\n",
      "min        NaN      -8.760004      -7.084020     -11.970335       0.000000\n",
      "25%        NaN      -1.162288      -1.174820       0.130359      59.450441\n",
      "50%        NaN       0.009424      -0.009482       2.484236      94.925613\n",
      "75%        NaN       1.158535       1.163678       4.858794     130.595027\n",
      "max        NaN       7.238262       7.844801      16.739402     190.029838\n",
      "\n"
     ]
    }
   ],
   "source": [
    "check(geo_data_2)"
   ]
  },
  {
   "cell_type": "markdown",
   "metadata": {},
   "source": [
    "Для всех регионов: данные читаемы, пропусков нет, формат данных соответствует ожидаемому, дубли отсутствуют. \n",
    "\n",
    "Можем приступить к подготовке данных."
   ]
  },
  {
   "cell_type": "markdown",
   "metadata": {},
   "source": [
    "Удалим столбцы 'id' как не несущие значимой информации."
   ]
  },
  {
   "cell_type": "code",
   "execution_count": 11,
   "metadata": {},
   "outputs": [],
   "source": [
    "geo_data_0 = geo_data_0.drop(['id'], axis=1)\n",
    "geo_data_1 = geo_data_1.drop(['id'], axis=1)\n",
    "geo_data_2 = geo_data_2.drop(['id'], axis=1)"
   ]
  },
  {
   "cell_type": "markdown",
   "metadata": {},
   "source": [
    "Отделим целевой признак и разобьем данные на обучающую и валидационную выборки в соотношении 75:25. Проделаем эти манипуляции для каждого региона."
   ]
  },
  {
   "cell_type": "code",
   "execution_count": 12,
   "metadata": {},
   "outputs": [
    {
     "name": "stdout",
     "output_type": "stream",
     "text": [
      "(75000, 3)\n",
      "(25000, 3)\n",
      "(75000,)\n",
      "(25000,)\n"
     ]
    }
   ],
   "source": [
    "features_0 = geo_data_0.drop(['product'], axis=1)\n",
    "target_0 = geo_data_0['product']\n",
    "features_train_0, features_valid_0, target_train_0, target_valid_0 = train_test_split(\n",
    "    features_0, target_0, test_size=.25, random_state=12345)\n",
    "\n",
    "print(features_train_0.shape)\n",
    "print(features_valid_0.shape)\n",
    "print(target_train_0.shape)\n",
    "print(target_valid_0.shape)"
   ]
  },
  {
   "cell_type": "code",
   "execution_count": 13,
   "metadata": {},
   "outputs": [
    {
     "name": "stdout",
     "output_type": "stream",
     "text": [
      "(75000, 3)\n",
      "(25000, 3)\n",
      "(75000,)\n",
      "(25000,)\n"
     ]
    }
   ],
   "source": [
    "features_1 = geo_data_1.drop(['product'], axis=1)\n",
    "target_1 = geo_data_1['product']\n",
    "features_train_1, features_valid_1, target_train_1, target_valid_1 = train_test_split(\n",
    "    features_1, target_1, test_size=.25, random_state=12345)\n",
    "\n",
    "print(features_train_1.shape)\n",
    "print(features_valid_1.shape)\n",
    "print(target_train_1.shape)\n",
    "print(target_valid_1.shape)"
   ]
  },
  {
   "cell_type": "code",
   "execution_count": 14,
   "metadata": {},
   "outputs": [
    {
     "name": "stdout",
     "output_type": "stream",
     "text": [
      "(75000, 3)\n",
      "(25000, 3)\n",
      "(75000,)\n",
      "(25000,)\n"
     ]
    }
   ],
   "source": [
    "features_2 = geo_data_2.drop(['product'], axis=1)\n",
    "target_2 = geo_data_2['product']\n",
    "features_train_2, features_valid_2, target_train_2, target_valid_2 = train_test_split(\n",
    "    features_2, target_2, test_size=.25, random_state=12345)\n",
    "\n",
    "print(features_train_2.shape)\n",
    "print(features_valid_2.shape)\n",
    "print(target_train_2.shape)\n",
    "print(target_valid_2.shape)"
   ]
  },
  {
   "cell_type": "markdown",
   "metadata": {},
   "source": [
    "Масштабирум обучающие выборки с применением StandardScaler. Также для каждого региона."
   ]
  },
  {
   "cell_type": "code",
   "execution_count": 15,
   "metadata": {},
   "outputs": [],
   "source": [
    "scaler_0 = StandardScaler()\n",
    "scaler_0.fit(features_train_0)\n",
    "\n",
    "features_train_0 = scaler_0.transform(features_train_0)\n",
    "features_valid_0 = scaler_0.transform(features_valid_0)"
   ]
  },
  {
   "cell_type": "code",
   "execution_count": 16,
   "metadata": {},
   "outputs": [],
   "source": [
    "scaler_1 = StandardScaler()\n",
    "scaler_1.fit(features_train_1)\n",
    "\n",
    "features_train_1 = scaler_1.transform(features_train_1)\n",
    "features_valid_1 = scaler_1.transform(features_valid_1)"
   ]
  },
  {
   "cell_type": "code",
   "execution_count": 17,
   "metadata": {},
   "outputs": [],
   "source": [
    "scaler_2 = StandardScaler()\n",
    "scaler_2.fit(features_train_2)\n",
    "\n",
    "features_train_2 = scaler_2.transform(features_train_2)\n",
    "features_valid_2 = scaler_2.transform(features_valid_2)"
   ]
  },
  {
   "cell_type": "markdown",
   "metadata": {},
   "source": [
    "### Вывод"
   ]
  },
  {
   "cell_type": "markdown",
   "metadata": {},
   "source": [
    "Данные загружены и проверены.\n",
    "\n",
    "Отделены данные с целевым признаком. Произведено разбиение на обучающие и валидационные выборки. Данные масштабированы.\n",
    "\n",
    "Загрузка и подготовка данных проведены успешно. Можно приступать к обучению моделей.\n",
    "\n",
    "[В начало раздела 1](#section_1)"
   ]
  },
  {
   "cell_type": "markdown",
   "metadata": {},
   "source": [
    "<a id=\"section_2\"></a>\n",
    "## Обучение и проверка модели"
   ]
  },
  {
   "cell_type": "markdown",
   "metadata": {},
   "source": [
    "Создадим модели для каждого региона. В качестве обучающего алгоритма выберем LinearRegression."
   ]
  },
  {
   "cell_type": "code",
   "execution_count": 18,
   "metadata": {},
   "outputs": [],
   "source": [
    "model_0 = LinearRegression(n_jobs=-1)\n",
    "model_1 = LinearRegression(n_jobs=-1)\n",
    "model_2 = LinearRegression(n_jobs=-1)"
   ]
  },
  {
   "cell_type": "markdown",
   "metadata": {},
   "source": [
    "Обучим модели на соответствующих выборках.\n",
    "<a id=\"step_1\"></a>"
   ]
  },
  {
   "cell_type": "code",
   "execution_count": 19,
   "metadata": {
    "scrolled": true
   },
   "outputs": [
    {
     "data": {
      "text/plain": [
       "LinearRegression(n_jobs=-1)"
      ]
     },
     "execution_count": 19,
     "metadata": {},
     "output_type": "execute_result"
    }
   ],
   "source": [
    "model_0.fit(features_train_0, target_train_0)\n",
    "model_1.fit(features_train_1, target_train_1)\n",
    "model_2.fit(features_train_2, target_train_2)"
   ]
  },
  {
   "cell_type": "markdown",
   "metadata": {},
   "source": [
    "Сделаем предсказания на валидационных данных.\n",
    "<a id=\"step_2\"></a>"
   ]
  },
  {
   "cell_type": "code",
   "execution_count": 20,
   "metadata": {},
   "outputs": [],
   "source": [
    "predict_0 = model_0.predict(features_valid_0)\n",
    "predict_1 = model_1.predict(features_valid_1)\n",
    "predict_2 = model_2.predict(features_valid_2)"
   ]
  },
  {
   "cell_type": "markdown",
   "metadata": {},
   "source": [
    "Сохраним предсказания и правильные ответы на валидационной выборке.\n",
    "<a id=\"step_3\"></a>"
   ]
  },
  {
   "cell_type": "code",
   "execution_count": 21,
   "metadata": {},
   "outputs": [],
   "source": [
    "target_predict_0 = pd.DataFrame(target_valid_0)\n",
    "target_predict_0['predict'] = predict_0\n",
    "target_predict_1 = pd.DataFrame(target_valid_1)\n",
    "target_predict_1['predict'] = predict_1\n",
    "target_predict_2 = pd.DataFrame(target_valid_2)\n",
    "target_predict_2['predict'] = predict_2"
   ]
  },
  {
   "cell_type": "markdown",
   "metadata": {},
   "source": [
    "Оценим качество предсказания моделей по метрике R2."
   ]
  },
  {
   "cell_type": "code",
   "execution_count": 22,
   "metadata": {},
   "outputs": [
    {
     "name": "stdout",
     "output_type": "stream",
     "text": [
      "score_0 = 0.280, score_1 = 1.000, score_2 = 0.205\n"
     ]
    }
   ],
   "source": [
    "score_0 = model_0.score(features_valid_0, target_valid_0)\n",
    "score_1 = model_1.score(features_valid_1, target_valid_1)\n",
    "score_2 = model_2.score(features_valid_2, target_valid_2)\n",
    "print(f'score_0 = {score_0:.3f}, score_1 = {score_1:.3f}, score_2 = {score_2:.3f}')"
   ]
  },
  {
   "cell_type": "markdown",
   "metadata": {},
   "source": [
    "Значения метрики R2 для всех моделей больше 0, что говорит нам о том, проверка на адекватность пройдена. Уровни R2 для моделей по регионам 0 и 2 - 0.28 и 0.21 соответственно - говорят нам о невысоком качестве предсказаний. Уровень R2 для модели по региону 1 - 1.000 - говорит нам о идеальном качестве предсказаний."
   ]
  },
  {
   "cell_type": "markdown",
   "metadata": {},
   "source": [
    "Выведем средний запас предсказанного сырья и RMSE модели."
   ]
  },
  {
   "cell_type": "code",
   "execution_count": 23,
   "metadata": {},
   "outputs": [],
   "source": [
    "rmse_0 = mean_squared_error(target_valid_0, predict_0) ** .5\n",
    "rmse_1 = mean_squared_error(target_valid_1, predict_1) ** .5\n",
    "rmse_2 = mean_squared_error(target_valid_2, predict_2) ** .5"
   ]
  },
  {
   "cell_type": "code",
   "execution_count": 24,
   "metadata": {},
   "outputs": [
    {
     "name": "stdout",
     "output_type": "stream",
     "text": [
      "регион_0: средний запас предсказанного сырья=92.59, RMSE=37.58\n",
      "регион_1: средний запас предсказанного сырья=68.73, RMSE=0.89\n",
      "регион_2: средний запас предсказанного сырья=94.97, RMSE=40.03\n"
     ]
    }
   ],
   "source": [
    "print(f'регион_0: средний запас предсказанного сырья={predict_0.mean():.2f}, RMSE={rmse_0:.2f}')\n",
    "print(f'регион_1: средний запас предсказанного сырья={predict_1.mean():.2f}, RMSE={rmse_1:.2f}')\n",
    "print(f'регион_2: средний запас предсказанного сырья={predict_2.mean():.2f}, RMSE={rmse_2:.2f}')"
   ]
  },
  {
   "cell_type": "markdown",
   "metadata": {},
   "source": [
    "### Вывод"
   ]
  },
  {
   "cell_type": "markdown",
   "metadata": {},
   "source": [
    "Нами были созданы, обучены и оценены модели для каждого региона.\n",
    "\n",
    "Получены значения метрики R2 для каждого региона:\n",
    "- score_0 = 0.280\n",
    "- score_1 = 1.000\n",
    "- score_2 = 0.205\n",
    "\n",
    "Также были сделаны предсказания и получены следующие результаты:\n",
    "- регион_0: средний запас предсказанного сырья=92.59, RMSE=37.58\n",
    "- регион_1: средний запас предсказанного сырья=68.73, RMSE=0.89\n",
    "- регион_2: средний запас предсказанного сырья=94.97, RMSE=40.03\n",
    "\n",
    "Полученные цифры говорят о следующем:\n",
    "- средний запас предсказанного сырья для регионов 0 и 2 гораздо выше, чем для региона 1,\n",
    "- в то же время точность предсказаний для регионов 0 и 2 гораздо ниже, чем для региона 1.\n",
    "\n",
    "Результаты работы моделей сохранены для дальнейшего изучения.\n",
    "\n",
    "[В начало раздела 2](#section_2)"
   ]
  },
  {
   "cell_type": "markdown",
   "metadata": {},
   "source": [
    "<a id=\"section_3\"></a>\n",
    "## Подготовка к расчёту прибыли"
   ]
  },
  {
   "cell_type": "markdown",
   "metadata": {},
   "source": [
    "Сохраним ключевые значения для расчётов в отдельных переменных."
   ]
  },
  {
   "cell_type": "code",
   "execution_count": 25,
   "metadata": {},
   "outputs": [],
   "source": [
    "#  объём сырья для безубыточной разработки нового региона\n",
    "self_repayment_value_per_region = budget_per_region / revenue_per_kbarrel\n",
    "\n",
    "#  объём сырья для безубыточной разработки новой скважины\n",
    "self_repayment_value_per_borehole = self_repayment_value_per_region / n_boreholes"
   ]
  },
  {
   "cell_type": "markdown",
   "metadata": {},
   "source": [
    "Выведем объём сырья для безубыточной разработки новой скважины."
   ]
  },
  {
   "cell_type": "code",
   "execution_count": 26,
   "metadata": {},
   "outputs": [
    {
     "name": "stdout",
     "output_type": "stream",
     "text": [
      "Объём сырья для безубыточной разработки скважины: 111.11 (тыс. баррелей)\n"
     ]
    }
   ],
   "source": [
    "print(f'Объём сырья для безубыточной разработки скважины: {self_repayment_value_per_borehole:.2f} (тыс. баррелей)')"
   ]
  },
  {
   "cell_type": "markdown",
   "metadata": {},
   "source": [
    "Сравним полученный объём сырья со средним запасом в каждом регионе."
   ]
  },
  {
   "cell_type": "markdown",
   "metadata": {},
   "source": [
    "На предыдущем этапе мы получили следующие значения на предсказанных данных:\n",
    "- регион_0: средний запас предсказанного сырья=92.59\n",
    "- регион_1: средний запас предсказанного сырья=68.73\n",
    "- регион_2: средний запас предсказанного сырья=94.97"
   ]
  },
  {
   "cell_type": "markdown",
   "metadata": {},
   "source": [
    "Видим, что без предварительного отбора лучших скважин, бизнес будет убыточным."
   ]
  },
  {
   "cell_type": "markdown",
   "metadata": {},
   "source": [
    "Посмотрим, каковы будут значения для фактических данных."
   ]
  },
  {
   "cell_type": "code",
   "execution_count": 27,
   "metadata": {},
   "outputs": [
    {
     "name": "stdout",
     "output_type": "stream",
     "text": [
      "регион_0: средний запас предсказанного сырья=92.08\n",
      "регион_1: средний запас предсказанного сырья=68.72\n",
      "регион_2: средний запас предсказанного сырья=94.88\n"
     ]
    }
   ],
   "source": [
    "print(f'регион_0: средний запас предсказанного сырья={target_valid_0.mean():.2f}')\n",
    "print(f'регион_1: средний запас предсказанного сырья={target_valid_1.mean():.2f}')\n",
    "print(f'регион_2: средний запас предсказанного сырья={target_valid_2.mean():.2f}')"
   ]
  },
  {
   "cell_type": "markdown",
   "metadata": {},
   "source": [
    "Необходимость предварительного отбора лучших скважин подтверждается и на реальных данных."
   ]
  },
  {
   "cell_type": "markdown",
   "metadata": {},
   "source": [
    "Напишим функцию для расчёта прибыли по выбранным скважинам и предсказаниям модели."
   ]
  },
  {
   "cell_type": "code",
   "execution_count": 28,
   "metadata": {},
   "outputs": [],
   "source": [
    "def profit(df):\n",
    "    \n",
    "    # отбор скважин с максимальными предсказанными запасами \n",
    "    df_separate = df.sort_values('predict').tail(n_boreholes) \n",
    "    \n",
    "    # прибыль = сумма запасов в отобранных скважинах * цена 1 тыс баррелей - затраты на разработку региона\n",
    "    profit = df_separate['product'].sum() * revenue_per_kbarrel - budget_per_region \n",
    "    \n",
    "    return profit"
   ]
  },
  {
   "cell_type": "markdown",
   "metadata": {},
   "source": [
    "### Вывод"
   ]
  },
  {
   "cell_type": "markdown",
   "metadata": {},
   "source": [
    "На этом этапе исследования нами были введены необходимые метрики:\n",
    "- объём сырья для безубыточной разработки нового региона\n",
    "- объём сырья для безубыточной разработки новой скважины\n",
    "\n",
    "Вычислен объём сырья для безубыточной разработки скважины: \n",
    "- 111.11 (тыс. баррелей)\n",
    "\n",
    "Выявлена необходимость предварительного отбора лучших скважин.\n",
    "\n",
    "Написана функция для расчёта прибыли по выбранным скважинам и предсказаниям модели.\n",
    "\n",
    "[В начало раздела 3](#section_3)"
   ]
  },
  {
   "cell_type": "markdown",
   "metadata": {},
   "source": [
    "<a id=\"section_4\"></a>\n",
    "## Расчёт прибыли и рисков "
   ]
  },
  {
   "cell_type": "markdown",
   "metadata": {},
   "source": [
    "Посчитаем риски и прибыль для каждого региона."
   ]
  },
  {
   "cell_type": "markdown",
   "metadata": {},
   "source": [
    "Применим технику Bootstrap с 1000 выборок, чтобы найти распределение прибыли для каждого региона."
   ]
  },
  {
   "cell_type": "code",
   "execution_count": 29,
   "metadata": {},
   "outputs": [],
   "source": [
    "profit_0 = []\n",
    "\n",
    "for i in range(1000):\n",
    "    \n",
    "    df = target_predict_0.sample(n=n_locations, replace=True, random_state=state)\n",
    "    profit_0.append(profit(df))"
   ]
  },
  {
   "cell_type": "code",
   "execution_count": 30,
   "metadata": {},
   "outputs": [],
   "source": [
    "profit_1 = []\n",
    "\n",
    "for i in range(1000):\n",
    "    \n",
    "    df = target_predict_1.sample(n=n_locations, replace=True, random_state=state)\n",
    "    profit_1.append(profit(df))"
   ]
  },
  {
   "cell_type": "code",
   "execution_count": 31,
   "metadata": {},
   "outputs": [],
   "source": [
    "profit_2 = []\n",
    "\n",
    "for i in range(1000):\n",
    "    \n",
    "    df = target_predict_2.sample(n=n_locations, replace=True, random_state=state)\n",
    "    profit_2.append(profit(df))"
   ]
  },
  {
   "cell_type": "markdown",
   "metadata": {},
   "source": [
    "Найдем среднюю прибыль, 95%-й доверительный интервал и риск убытков."
   ]
  },
  {
   "cell_type": "markdown",
   "metadata": {},
   "source": [
    "Напишем функцию, автоматизирующую данный процесс."
   ]
  },
  {
   "cell_type": "code",
   "execution_count": 32,
   "metadata": {},
   "outputs": [],
   "source": [
    "def check_profit(profit_list):\n",
    "    \n",
    "    mean = pd.Series(profit_list).mean()\n",
    "    lower = pd.Series(profit_list).quantile(q=0.025)\n",
    "    upper = pd.Series(profit_list).quantile(q=0.975)\n",
    "    print(f'средняя прибыль={mean / 10 ** 6:.1f} млн руб')\n",
    "    print(f'95%-й доверительный интервал: {lower / 10 ** 6:.1f} - {upper / 10 ** 6:.1f} млн руб')\n",
    "    \n",
    "    for quant in np.arange(0, 1, 0.005):\n",
    "        profit = pd.Series(profit_list).quantile(q=quant) \n",
    "        if profit >= 0:\n",
    "            print(f\"риск убытков = {quant:.1%}\")\n",
    "            break"
   ]
  },
  {
   "cell_type": "markdown",
   "metadata": {},
   "source": [
    "Выведем интересующие показатели для каждого региона."
   ]
  },
  {
   "cell_type": "code",
   "execution_count": 33,
   "metadata": {},
   "outputs": [
    {
     "name": "stdout",
     "output_type": "stream",
     "text": [
      "средняя прибыль=396.2 млн руб\n",
      "95%-й доверительный интервал: -111.2 - 909.8 млн руб\n",
      "риск убытков = 7.0%\n"
     ]
    }
   ],
   "source": [
    "check_profit(profit_0)"
   ]
  },
  {
   "cell_type": "code",
   "execution_count": 34,
   "metadata": {},
   "outputs": [
    {
     "name": "stdout",
     "output_type": "stream",
     "text": [
      "средняя прибыль=461.2 млн руб\n",
      "95%-й доверительный интервал: 78.1 - 863.0 млн руб\n",
      "риск убытков = 1.0%\n"
     ]
    }
   ],
   "source": [
    "check_profit(profit_1)"
   ]
  },
  {
   "cell_type": "code",
   "execution_count": 35,
   "metadata": {},
   "outputs": [
    {
     "name": "stdout",
     "output_type": "stream",
     "text": [
      "средняя прибыль=393.0 млн руб\n",
      "95%-й доверительный интервал: -112.2 - 934.6 млн руб\n",
      "риск убытков = 6.5%\n"
     ]
    }
   ],
   "source": [
    "check_profit(profit_2)"
   ]
  },
  {
   "cell_type": "markdown",
   "metadata": {},
   "source": [
    "### Вывод"
   ]
  },
  {
   "cell_type": "markdown",
   "metadata": {},
   "source": [
    "Требуемому уровню риска в 2.5% соответствует лишь один из регионов: регион_1 - риск убытков = 1.0%.\n",
    "\n",
    "Средняя прогнозируемая прибыль в этом регионе также наибольшая: 461.2 млн руб.\n",
    "\n",
    "Также отметим, что качество предсказаний модели по этому региону практически идеально.\n",
    "\n",
    "Учитывая изложенное рекомендуется выбрать для бурения новых скважин регион_1.\n",
    "\n",
    "[В начало раздела 4](#section_4)"
   ]
  },
  {
   "cell_type": "markdown",
   "metadata": {},
   "source": [
    "## Чек-лист готовности проекта"
   ]
  },
  {
   "cell_type": "markdown",
   "metadata": {},
   "source": [
    "Поставьте 'x' в выполненных пунктах. Далее нажмите Shift+Enter."
   ]
  },
  {
   "cell_type": "markdown",
   "metadata": {},
   "source": [
    "- [x]  Jupyter Notebook открыт\n",
    "- [x]  Весь код выполняется без ошибок\n",
    "- [x]  Ячейки с кодом расположены в порядке исполнения\n",
    "- [x]  Выполнен шаг 1: данные подготовлены\n",
    "- [x]  Выполнен шаг 2: модели обучены и проверены\n",
    "    - [x]  Данные корректно разбиты на обучающую и валидационную выборки\n",
    "    - [x]  Модели обучены, предсказания сделаны\n",
    "    - [x]  Предсказания и правильные ответы на валидационной выборке сохранены\n",
    "    - [x]  На экране напечатаны результаты\n",
    "    - [x]  Сделаны выводы\n",
    "- [x]  Выполнен шаг 3: проведена подготовка к расчёту прибыли\n",
    "    - [x]  Для всех ключевых значений созданы константы Python\n",
    "    - [x]  Посчитано минимальное среднее количество продукта в месторождениях региона, достаточное для разработки\n",
    "    - [x]  По предыдущему пункту сделаны выводы\n",
    "    - [x]  Написана функция расчёта прибыли\n",
    "- [x]  Выполнен шаг 4: посчитаны риски и прибыль\n",
    "    - [x]  Проведена процедура *Bootstrap*\n",
    "    - [x]  Все параметры бутстрепа соответствуют условию\n",
    "    - [x]  Найдены все нужные величины\n",
    "    - [x]  Предложен регион для разработки месторождения\n",
    "    - [x]  Выбор региона обоснован\n",
    "    \n",
    "[В начало](#section_0)"
   ]
  }
 ],
 "metadata": {
  "kernelspec": {
   "display_name": "Python 3 (ipykernel)",
   "language": "python",
   "name": "python3"
  },
  "language_info": {
   "codemirror_mode": {
    "name": "ipython",
    "version": 3
   },
   "file_extension": ".py",
   "mimetype": "text/x-python",
   "name": "python",
   "nbconvert_exporter": "python",
   "pygments_lexer": "ipython3",
   "version": "3.8.5"
  },
  "toc": {
   "base_numbering": 1,
   "nav_menu": {},
   "number_sections": true,
   "sideBar": true,
   "skip_h1_title": true,
   "title_cell": "Table of Contents",
   "title_sidebar": "Contents",
   "toc_cell": false,
   "toc_position": {},
   "toc_section_display": true,
   "toc_window_display": true
  }
 },
 "nbformat": 4,
 "nbformat_minor": 2
}

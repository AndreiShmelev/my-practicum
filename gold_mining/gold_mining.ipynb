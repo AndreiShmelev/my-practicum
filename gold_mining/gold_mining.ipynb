{
 "cells": [
  {
   "cell_type": "markdown",
   "metadata": {
    "toc": true
   },
   "source": [
    "<h1>Содержание<span class=\"tocSkip\"></span></h1>\n",
    "<div class=\"toc\"><ul class=\"toc-item\"><li><ul class=\"toc-item\"><li><span><a href=\"#Используемые-библиотеки.\" data-toc-modified-id=\"Используемые-библиотеки.-0.1\"><span class=\"toc-item-num\">0.1&nbsp;&nbsp;</span>Используемые библиотеки.</a></span></li></ul></li><li><span><a href=\"#Подготовка-данных\" data-toc-modified-id=\"Подготовка-данных-1\"><span class=\"toc-item-num\">1&nbsp;&nbsp;</span>Подготовка данных</a></span><ul class=\"toc-item\"><li><span><a href=\"#Открытие-и-изучение-файлов\" data-toc-modified-id=\"Открытие-и-изучение-файлов-1.1\"><span class=\"toc-item-num\">1.1&nbsp;&nbsp;</span>Открытие и изучение файлов</a></span></li><li><span><a href=\"#Проверка-правильности-расчета-эффективности-обогащения\" data-toc-modified-id=\"Проверка-правильности-расчета-эффективности-обогащения-1.2\"><span class=\"toc-item-num\">1.2&nbsp;&nbsp;</span>Проверка правильности расчета эффективности обогащения</a></span></li><li><span><a href=\"#Проанализируйте-признаки,-недоступные-в-тестовой-выборке.-Что-это-за-параметры?-К-какому-типу-относятся?\" data-toc-modified-id=\"Проанализируйте-признаки,-недоступные-в-тестовой-выборке.-Что-это-за-параметры?-К-какому-типу-относятся?-1.3\"><span class=\"toc-item-num\">1.3&nbsp;&nbsp;</span>Проанализируйте признаки, недоступные в тестовой выборке. Что это за параметры? К какому типу относятся?</a></span></li><li><span><a href=\"#Предобработка-данных\" data-toc-modified-id=\"Предобработка-данных-1.4\"><span class=\"toc-item-num\">1.4&nbsp;&nbsp;</span>Предобработка данных</a></span></li><li><span><a href=\"#Вывод\" data-toc-modified-id=\"Вывод-1.5\"><span class=\"toc-item-num\">1.5&nbsp;&nbsp;</span>Вывод</a></span></li></ul></li><li><span><a href=\"#Анализ-данных\" data-toc-modified-id=\"Анализ-данных-2\"><span class=\"toc-item-num\">2&nbsp;&nbsp;</span>Анализ данных</a></span><ul class=\"toc-item\"><li><span><a href=\"#Изменение-концентрации-металлов-на-различных-этапах-очистки\" data-toc-modified-id=\"Изменение-концентрации-металлов-на-различных-этапах-очистки-2.1\"><span class=\"toc-item-num\">2.1&nbsp;&nbsp;</span>Изменение концентрации металлов на различных этапах очистки</a></span></li><li><span><a href=\"#Сравнение-размеров-гранул-сырья\" data-toc-modified-id=\"Сравнение-размеров-гранул-сырья-2.2\"><span class=\"toc-item-num\">2.2&nbsp;&nbsp;</span>Сравнение размеров гранул сырья</a></span></li><li><span><a href=\"#Суммарная-концентрация-веществ-на-разных-стадиях\" data-toc-modified-id=\"Суммарная-концентрация-веществ-на-разных-стадиях-2.3\"><span class=\"toc-item-num\">2.3&nbsp;&nbsp;</span>Суммарная концентрация веществ на разных стадиях</a></span></li><li><span><a href=\"#Вывод\" data-toc-modified-id=\"Вывод-2.4\"><span class=\"toc-item-num\">2.4&nbsp;&nbsp;</span>Вывод</a></span></li></ul></li><li><span><a href=\"#Модель\" data-toc-modified-id=\"Модель-3\"><span class=\"toc-item-num\">3&nbsp;&nbsp;</span>Модель</a></span><ul class=\"toc-item\"><li><span><a href=\"#Функция-для-вычисления-итоговой-sMAPE\" data-toc-modified-id=\"Функция-для-вычисления-итоговой-sMAPE-3.1\"><span class=\"toc-item-num\">3.1&nbsp;&nbsp;</span>Функция для вычисления итоговой sMAPE</a></span></li><li><span><a href=\"#Выбор-лучшей-модели\" data-toc-modified-id=\"Выбор-лучшей-модели-3.2\"><span class=\"toc-item-num\">3.2&nbsp;&nbsp;</span>Выбор лучшей модели</a></span></li><li><span><a href=\"#Вывод\" data-toc-modified-id=\"Вывод-3.3\"><span class=\"toc-item-num\">3.3&nbsp;&nbsp;</span>Вывод</a></span></li></ul></li><li><span><a href=\"#Итог\" data-toc-modified-id=\"Итог-4\"><span class=\"toc-item-num\">4&nbsp;&nbsp;</span>Итог</a></span></li><li><span><a href=\"#Чек-лист-готовности-проекта\" data-toc-modified-id=\"Чек-лист-готовности-проекта-5\"><span class=\"toc-item-num\">5&nbsp;&nbsp;</span>Чек-лист готовности проекта</a></span></li></ul></div>"
   ]
  },
  {
   "cell_type": "markdown",
   "metadata": {},
   "source": [
    "<a id=\"section_0\"></a>\n",
    "# Восстановление золота из руды"
   ]
  },
  {
   "cell_type": "markdown",
   "metadata": {},
   "source": [
    "Подготовьте прототип модели машинного обучения для «Цифры». Компания разрабатывает решения для эффективной работы промышленных предприятий.\n",
    "\n",
    "Модель должна предсказать коэффициент восстановления золота из золотосодержащей руды. Используйте данные с параметрами добычи и очистки. \n",
    "\n",
    "Модель поможет оптимизировать производство, чтобы не запускать предприятие с убыточными характеристиками.\n",
    "\n",
    "Вам нужно:\n",
    "\n",
    "1. Подготовить данные;\n",
    "2. Провести исследовательский анализ данных;\n",
    "3. Построить и обучить модель.\n",
    "\n",
    "Чтобы выполнить проект, обращайтесь к библиотекам *pandas*, *matplotlib* и *sklearn.* Вам поможет их документация."
   ]
  },
  {
   "cell_type": "markdown",
   "metadata": {},
   "source": [
    "### Используемые библиотеки."
   ]
  },
  {
   "cell_type": "code",
   "execution_count": 1,
   "metadata": {},
   "outputs": [],
   "source": [
    "import pandas as pd\n",
    "import numpy as np\n",
    "import matplotlib.pyplot as plt\n",
    "\n",
    "from sklearn.metrics import mean_absolute_error,  make_scorer\n",
    "\n",
    "from sklearn.model_selection import cross_val_score\n",
    "\n",
    "from sklearn.preprocessing import StandardScaler\n",
    "\n",
    "from sklearn.linear_model import LinearRegression, Lasso, Ridge, ElasticNet\n",
    "from sklearn.tree import DecisionTreeRegressor\n",
    "from sklearn.ensemble import RandomForestRegressor"
   ]
  },
  {
   "cell_type": "markdown",
   "metadata": {},
   "source": [
    "<a id=\"section_1\"></a>\n",
    "## Подготовка данных"
   ]
  },
  {
   "cell_type": "markdown",
   "metadata": {},
   "source": [
    "### Открытие и изучение файлов"
   ]
  },
  {
   "cell_type": "markdown",
   "metadata": {},
   "source": [
    "Загрузим данные, предусмотрим различные способы расположения файлов."
   ]
  },
  {
   "cell_type": "code",
   "execution_count": 2,
   "metadata": {},
   "outputs": [],
   "source": [
    "try:\n",
    "    train = pd.read_csv('gold_recovery_train_new.csv')\n",
    "    test = pd.read_csv('gold_recovery_test_new.csv')\n",
    "    full = pd.read_csv('gold_recovery_full_new.csv')\n",
    "except:\n",
    "    train = pd.read_csv('/datasets/gold_recovery_train_new.csv')\n",
    "    test = pd.read_csv('/datasets/gold_recovery_test_new.csv')\n",
    "    full = pd.read_csv('/datasets/gold_recovery_full_new.csv')"
   ]
  },
  {
   "cell_type": "code",
   "execution_count": 3,
   "metadata": {},
   "outputs": [],
   "source": [
    "df_list = [train, test, full]"
   ]
  },
  {
   "cell_type": "markdown",
   "metadata": {},
   "source": [
    "Напишем функцию, автоматизирующую процесс проверки данных."
   ]
  },
  {
   "cell_type": "code",
   "execution_count": 4,
   "metadata": {},
   "outputs": [],
   "source": [
    "def check(df):\n",
    "    \n",
    "    print(f'строк={df.shape[0]}, столбцов={df.shape[1]}')\n",
    "    print()\n",
    "    print(f'дублей: {df.duplicated().sum()}')\n",
    "    print()\n",
    "    print(df.info())\n",
    "    print()\n",
    "    print(df.describe(include='all').T)\n",
    "    print()\n",
    "    print(df.head().T)\n",
    "    print()"
   ]
  },
  {
   "cell_type": "markdown",
   "metadata": {},
   "source": [
    "Проверим данные."
   ]
  },
  {
   "cell_type": "code",
   "execution_count": 5,
   "metadata": {
    "scrolled": true
   },
   "outputs": [
    {
     "name": "stdout",
     "output_type": "stream",
     "text": [
      "строк=14149, столбцов=87\n",
      "\n",
      "дублей: 0\n",
      "\n",
      "<class 'pandas.core.frame.DataFrame'>\n",
      "RangeIndex: 14149 entries, 0 to 14148\n",
      "Data columns (total 87 columns):\n",
      " #   Column                                              Non-Null Count  Dtype  \n",
      "---  ------                                              --------------  -----  \n",
      " 0   date                                                14149 non-null  object \n",
      " 1   final.output.concentrate_ag                         14148 non-null  float64\n",
      " 2   final.output.concentrate_pb                         14148 non-null  float64\n",
      " 3   final.output.concentrate_sol                        13938 non-null  float64\n",
      " 4   final.output.concentrate_au                         14149 non-null  float64\n",
      " 5   final.output.recovery                               14149 non-null  float64\n",
      " 6   final.output.tail_ag                                14149 non-null  float64\n",
      " 7   final.output.tail_pb                                14049 non-null  float64\n",
      " 8   final.output.tail_sol                               14144 non-null  float64\n",
      " 9   final.output.tail_au                                14149 non-null  float64\n",
      " 10  primary_cleaner.input.sulfate                       14129 non-null  float64\n",
      " 11  primary_cleaner.input.depressant                    14117 non-null  float64\n",
      " 12  primary_cleaner.input.feed_size                     14149 non-null  float64\n",
      " 13  primary_cleaner.input.xanthate                      14049 non-null  float64\n",
      " 14  primary_cleaner.output.concentrate_ag               14149 non-null  float64\n",
      " 15  primary_cleaner.output.concentrate_pb               14063 non-null  float64\n",
      " 16  primary_cleaner.output.concentrate_sol              13863 non-null  float64\n",
      " 17  primary_cleaner.output.concentrate_au               14149 non-null  float64\n",
      " 18  primary_cleaner.output.tail_ag                      14148 non-null  float64\n",
      " 19  primary_cleaner.output.tail_pb                      14134 non-null  float64\n",
      " 20  primary_cleaner.output.tail_sol                     14103 non-null  float64\n",
      " 21  primary_cleaner.output.tail_au                      14149 non-null  float64\n",
      " 22  primary_cleaner.state.floatbank8_a_air              14145 non-null  float64\n",
      " 23  primary_cleaner.state.floatbank8_a_level            14148 non-null  float64\n",
      " 24  primary_cleaner.state.floatbank8_b_air              14145 non-null  float64\n",
      " 25  primary_cleaner.state.floatbank8_b_level            14148 non-null  float64\n",
      " 26  primary_cleaner.state.floatbank8_c_air              14147 non-null  float64\n",
      " 27  primary_cleaner.state.floatbank8_c_level            14148 non-null  float64\n",
      " 28  primary_cleaner.state.floatbank8_d_air              14146 non-null  float64\n",
      " 29  primary_cleaner.state.floatbank8_d_level            14148 non-null  float64\n",
      " 30  rougher.calculation.sulfate_to_au_concentrate       14148 non-null  float64\n",
      " 31  rougher.calculation.floatbank10_sulfate_to_au_feed  14148 non-null  float64\n",
      " 32  rougher.calculation.floatbank11_sulfate_to_au_feed  14148 non-null  float64\n",
      " 33  rougher.calculation.au_pb_ratio                     14149 non-null  float64\n",
      " 34  rougher.input.feed_ag                               14149 non-null  float64\n",
      " 35  rougher.input.feed_pb                               14049 non-null  float64\n",
      " 36  rougher.input.feed_rate                             14141 non-null  float64\n",
      " 37  rougher.input.feed_size                             14005 non-null  float64\n",
      " 38  rougher.input.feed_sol                              14071 non-null  float64\n",
      " 39  rougher.input.feed_au                               14149 non-null  float64\n",
      " 40  rougher.input.floatbank10_sulfate                   14120 non-null  float64\n",
      " 41  rougher.input.floatbank10_xanthate                  14141 non-null  float64\n",
      " 42  rougher.input.floatbank11_sulfate                   14113 non-null  float64\n",
      " 43  rougher.input.floatbank11_xanthate                  13721 non-null  float64\n",
      " 44  rougher.output.concentrate_ag                       14149 non-null  float64\n",
      " 45  rougher.output.concentrate_pb                       14149 non-null  float64\n",
      " 46  rougher.output.concentrate_sol                      14127 non-null  float64\n",
      " 47  rougher.output.concentrate_au                       14149 non-null  float64\n",
      " 48  rougher.output.recovery                             14149 non-null  float64\n",
      " 49  rougher.output.tail_ag                              14148 non-null  float64\n",
      " 50  rougher.output.tail_pb                              14149 non-null  float64\n",
      " 51  rougher.output.tail_sol                             14149 non-null  float64\n",
      " 52  rougher.output.tail_au                              14149 non-null  float64\n",
      " 53  rougher.state.floatbank10_a_air                     14148 non-null  float64\n",
      " 54  rougher.state.floatbank10_a_level                   14148 non-null  float64\n",
      " 55  rougher.state.floatbank10_b_air                     14148 non-null  float64\n",
      " 56  rougher.state.floatbank10_b_level                   14148 non-null  float64\n",
      " 57  rougher.state.floatbank10_c_air                     14148 non-null  float64\n",
      " 58  rougher.state.floatbank10_c_level                   14148 non-null  float64\n",
      " 59  rougher.state.floatbank10_d_air                     14149 non-null  float64\n",
      " 60  rougher.state.floatbank10_d_level                   14149 non-null  float64\n",
      " 61  rougher.state.floatbank10_e_air                     13713 non-null  float64\n",
      " 62  rougher.state.floatbank10_e_level                   14149 non-null  float64\n",
      " 63  rougher.state.floatbank10_f_air                     14149 non-null  float64\n",
      " 64  rougher.state.floatbank10_f_level                   14149 non-null  float64\n",
      " 65  secondary_cleaner.output.tail_ag                    14147 non-null  float64\n",
      " 66  secondary_cleaner.output.tail_pb                    14139 non-null  float64\n",
      " 67  secondary_cleaner.output.tail_sol                   12544 non-null  float64\n",
      " 68  secondary_cleaner.output.tail_au                    14149 non-null  float64\n",
      " 69  secondary_cleaner.state.floatbank2_a_air            13932 non-null  float64\n",
      " 70  secondary_cleaner.state.floatbank2_a_level          14148 non-null  float64\n",
      " 71  secondary_cleaner.state.floatbank2_b_air            14128 non-null  float64\n",
      " 72  secondary_cleaner.state.floatbank2_b_level          14148 non-null  float64\n",
      " 73  secondary_cleaner.state.floatbank3_a_air            14145 non-null  float64\n",
      " 74  secondary_cleaner.state.floatbank3_a_level          14148 non-null  float64\n",
      " 75  secondary_cleaner.state.floatbank3_b_air            14148 non-null  float64\n",
      " 76  secondary_cleaner.state.floatbank3_b_level          14148 non-null  float64\n",
      " 77  secondary_cleaner.state.floatbank4_a_air            14143 non-null  float64\n",
      " 78  secondary_cleaner.state.floatbank4_a_level          14148 non-null  float64\n",
      " 79  secondary_cleaner.state.floatbank4_b_air            14148 non-null  float64\n",
      " 80  secondary_cleaner.state.floatbank4_b_level          14148 non-null  float64\n",
      " 81  secondary_cleaner.state.floatbank5_a_air            14148 non-null  float64\n",
      " 82  secondary_cleaner.state.floatbank5_a_level          14148 non-null  float64\n",
      " 83  secondary_cleaner.state.floatbank5_b_air            14148 non-null  float64\n",
      " 84  secondary_cleaner.state.floatbank5_b_level          14148 non-null  float64\n",
      " 85  secondary_cleaner.state.floatbank6_a_air            14147 non-null  float64\n",
      " 86  secondary_cleaner.state.floatbank6_a_level          14148 non-null  float64\n",
      "dtypes: float64(86), object(1)\n",
      "memory usage: 9.4+ MB\n",
      "None\n",
      "\n",
      "                                              count unique  \\\n",
      "date                                          14149  14149   \n",
      "final.output.concentrate_ag                 14148.0    NaN   \n",
      "final.output.concentrate_pb                 14148.0    NaN   \n",
      "final.output.concentrate_sol                13938.0    NaN   \n",
      "final.output.concentrate_au                 14149.0    NaN   \n",
      "...                                             ...    ...   \n",
      "secondary_cleaner.state.floatbank5_a_level  14148.0    NaN   \n",
      "secondary_cleaner.state.floatbank5_b_air    14148.0    NaN   \n",
      "secondary_cleaner.state.floatbank5_b_level  14148.0    NaN   \n",
      "secondary_cleaner.state.floatbank6_a_air    14147.0    NaN   \n",
      "secondary_cleaner.state.floatbank6_a_level  14148.0    NaN   \n",
      "\n",
      "                                                            top freq  \\\n",
      "date                                        2016-01-15 00:00:00    1   \n",
      "final.output.concentrate_ag                                 NaN  NaN   \n",
      "final.output.concentrate_pb                                 NaN  NaN   \n",
      "final.output.concentrate_sol                                NaN  NaN   \n",
      "final.output.concentrate_au                                 NaN  NaN   \n",
      "...                                                         ...  ...   \n",
      "secondary_cleaner.state.floatbank5_a_level                  NaN  NaN   \n",
      "secondary_cleaner.state.floatbank5_b_air                    NaN  NaN   \n",
      "secondary_cleaner.state.floatbank5_b_level                  NaN  NaN   \n",
      "secondary_cleaner.state.floatbank6_a_air                    NaN  NaN   \n",
      "secondary_cleaner.state.floatbank6_a_level                  NaN  NaN   \n",
      "\n",
      "                                                  mean        std         min  \\\n",
      "date                                               NaN        NaN         NaN   \n",
      "final.output.concentrate_ag                   5.142034   1.369586         0.0   \n",
      "final.output.concentrate_pb                   10.13296    1.65493         0.0   \n",
      "final.output.concentrate_sol                  9.202849   2.790516         0.0   \n",
      "final.output.concentrate_au                  44.003792   4.905261         0.0   \n",
      "...                                                ...        ...         ...   \n",
      "secondary_cleaner.state.floatbank5_a_level -483.956022  37.892788 -797.142475   \n",
      "secondary_cleaner.state.floatbank5_b_air      13.06459   5.765617    0.646208   \n",
      "secondary_cleaner.state.floatbank5_b_level -483.966564  39.207913  -800.00618   \n",
      "secondary_cleaner.state.floatbank6_a_air     19.577539   5.764417    0.195324   \n",
      "secondary_cleaner.state.floatbank6_a_level  -506.79848  37.079249 -809.398668   \n",
      "\n",
      "                                                   25%         50%  \\\n",
      "date                                               NaN         NaN   \n",
      "final.output.concentrate_ag                    4.21162    4.994652   \n",
      "final.output.concentrate_pb                   9.297355   10.297144   \n",
      "final.output.concentrate_sol                  7.484645    8.845462   \n",
      "final.output.concentrate_au                  43.276111   44.872436   \n",
      "...                                                ...         ...   \n",
      "secondary_cleaner.state.floatbank5_a_level -500.363177 -499.702452   \n",
      "secondary_cleaner.state.floatbank5_b_air      8.994405   11.997547   \n",
      "secondary_cleaner.state.floatbank5_b_level -500.105994 -499.914556   \n",
      "secondary_cleaner.state.floatbank6_a_air     14.989304   19.984175   \n",
      "secondary_cleaner.state.floatbank6_a_level -500.745104 -500.061431   \n",
      "\n",
      "                                                   75%         max  \n",
      "date                                               NaN         NaN  \n",
      "final.output.concentrate_ag                    5.85954   16.001945  \n",
      "final.output.concentrate_pb                  11.170603   17.031899  \n",
      "final.output.concentrate_sol                 10.487508   18.124851  \n",
      "final.output.concentrate_au                  46.166425   52.756638  \n",
      "...                                                ...         ...  \n",
      "secondary_cleaner.state.floatbank5_a_level -487.712108 -275.073125  \n",
      "secondary_cleaner.state.floatbank5_b_air     17.982903   27.926001  \n",
      "secondary_cleaner.state.floatbank5_b_level -453.186936 -157.396071  \n",
      "secondary_cleaner.state.floatbank6_a_air     24.991623   32.188906  \n",
      "secondary_cleaner.state.floatbank6_a_level -499.536466 -104.427459  \n",
      "\n",
      "[87 rows x 11 columns]\n",
      "\n",
      "                                                              0  \\\n",
      "date                                        2016-01-15 00:00:00   \n",
      "final.output.concentrate_ag                            6.055403   \n",
      "final.output.concentrate_pb                            9.889648   \n",
      "final.output.concentrate_sol                           5.507324   \n",
      "final.output.concentrate_au                            42.19202   \n",
      "...                                                         ...   \n",
      "secondary_cleaner.state.floatbank5_a_level          -498.310211   \n",
      "secondary_cleaner.state.floatbank5_b_air               8.079666   \n",
      "secondary_cleaner.state.floatbank5_b_level          -500.470978   \n",
      "secondary_cleaner.state.floatbank6_a_air              14.151341   \n",
      "secondary_cleaner.state.floatbank6_a_level           -605.84198   \n",
      "\n",
      "                                                              1  \\\n",
      "date                                        2016-01-15 01:00:00   \n",
      "final.output.concentrate_ag                            6.029369   \n",
      "final.output.concentrate_pb                            9.968944   \n",
      "final.output.concentrate_sol                           5.257781   \n",
      "final.output.concentrate_au                           42.701629   \n",
      "...                                                         ...   \n",
      "secondary_cleaner.state.floatbank5_a_level          -500.169983   \n",
      "secondary_cleaner.state.floatbank5_b_air               7.984757   \n",
      "secondary_cleaner.state.floatbank5_b_level          -500.582168   \n",
      "secondary_cleaner.state.floatbank6_a_air              13.998353   \n",
      "secondary_cleaner.state.floatbank6_a_level          -599.787184   \n",
      "\n",
      "                                                              2  \\\n",
      "date                                        2016-01-15 02:00:00   \n",
      "final.output.concentrate_ag                            6.055926   \n",
      "final.output.concentrate_pb                           10.213995   \n",
      "final.output.concentrate_sol                           5.383759   \n",
      "final.output.concentrate_au                           42.657501   \n",
      "...                                                         ...   \n",
      "secondary_cleaner.state.floatbank5_a_level          -500.129135   \n",
      "secondary_cleaner.state.floatbank5_b_air               8.013877   \n",
      "secondary_cleaner.state.floatbank5_b_level          -500.517572   \n",
      "secondary_cleaner.state.floatbank6_a_air              14.028663   \n",
      "secondary_cleaner.state.floatbank6_a_level          -601.427363   \n",
      "\n",
      "                                                              3  \\\n",
      "date                                        2016-01-15 03:00:00   \n",
      "final.output.concentrate_ag                            6.047977   \n",
      "final.output.concentrate_pb                            9.977019   \n",
      "final.output.concentrate_sol                           4.858634   \n",
      "final.output.concentrate_au                           42.689819   \n",
      "...                                                         ...   \n",
      "secondary_cleaner.state.floatbank5_a_level           -499.20164   \n",
      "secondary_cleaner.state.floatbank5_b_air               7.977324   \n",
      "secondary_cleaner.state.floatbank5_b_level          -500.255908   \n",
      "secondary_cleaner.state.floatbank6_a_air              14.005551   \n",
      "secondary_cleaner.state.floatbank6_a_level          -599.996129   \n",
      "\n",
      "                                                              4  \n",
      "date                                        2016-01-15 04:00:00  \n",
      "final.output.concentrate_ag                            6.148599  \n",
      "final.output.concentrate_pb                           10.142511  \n",
      "final.output.concentrate_sol                           4.939416  \n",
      "final.output.concentrate_au                           42.774141  \n",
      "...                                                         ...  \n",
      "secondary_cleaner.state.floatbank5_a_level          -501.686727  \n",
      "secondary_cleaner.state.floatbank5_b_air               7.894242  \n",
      "secondary_cleaner.state.floatbank5_b_level          -500.356035  \n",
      "secondary_cleaner.state.floatbank6_a_air              13.996647  \n",
      "secondary_cleaner.state.floatbank6_a_level          -601.496691  \n",
      "\n",
      "[87 rows x 5 columns]\n",
      "\n",
      "строк=5290, столбцов=53\n",
      "\n",
      "дублей: 0\n",
      "\n",
      "<class 'pandas.core.frame.DataFrame'>\n",
      "RangeIndex: 5290 entries, 0 to 5289\n",
      "Data columns (total 53 columns):\n",
      " #   Column                                      Non-Null Count  Dtype  \n",
      "---  ------                                      --------------  -----  \n",
      " 0   date                                        5290 non-null   object \n",
      " 1   primary_cleaner.input.sulfate               5286 non-null   float64\n",
      " 2   primary_cleaner.input.depressant            5285 non-null   float64\n",
      " 3   primary_cleaner.input.feed_size             5290 non-null   float64\n",
      " 4   primary_cleaner.input.xanthate              5286 non-null   float64\n",
      " 5   primary_cleaner.state.floatbank8_a_air      5290 non-null   float64\n",
      " 6   primary_cleaner.state.floatbank8_a_level    5290 non-null   float64\n",
      " 7   primary_cleaner.state.floatbank8_b_air      5290 non-null   float64\n",
      " 8   primary_cleaner.state.floatbank8_b_level    5290 non-null   float64\n",
      " 9   primary_cleaner.state.floatbank8_c_air      5290 non-null   float64\n",
      " 10  primary_cleaner.state.floatbank8_c_level    5290 non-null   float64\n",
      " 11  primary_cleaner.state.floatbank8_d_air      5290 non-null   float64\n",
      " 12  primary_cleaner.state.floatbank8_d_level    5290 non-null   float64\n",
      " 13  rougher.input.feed_ag                       5290 non-null   float64\n",
      " 14  rougher.input.feed_pb                       5290 non-null   float64\n",
      " 15  rougher.input.feed_rate                     5287 non-null   float64\n",
      " 16  rougher.input.feed_size                     5289 non-null   float64\n",
      " 17  rougher.input.feed_sol                      5269 non-null   float64\n",
      " 18  rougher.input.feed_au                       5290 non-null   float64\n",
      " 19  rougher.input.floatbank10_sulfate           5285 non-null   float64\n",
      " 20  rougher.input.floatbank10_xanthate          5290 non-null   float64\n",
      " 21  rougher.input.floatbank11_sulfate           5282 non-null   float64\n",
      " 22  rougher.input.floatbank11_xanthate          5265 non-null   float64\n",
      " 23  rougher.state.floatbank10_a_air             5290 non-null   float64\n",
      " 24  rougher.state.floatbank10_a_level           5290 non-null   float64\n",
      " 25  rougher.state.floatbank10_b_air             5290 non-null   float64\n",
      " 26  rougher.state.floatbank10_b_level           5290 non-null   float64\n",
      " 27  rougher.state.floatbank10_c_air             5290 non-null   float64\n",
      " 28  rougher.state.floatbank10_c_level           5290 non-null   float64\n",
      " 29  rougher.state.floatbank10_d_air             5290 non-null   float64\n",
      " 30  rougher.state.floatbank10_d_level           5290 non-null   float64\n",
      " 31  rougher.state.floatbank10_e_air             5290 non-null   float64\n",
      " 32  rougher.state.floatbank10_e_level           5290 non-null   float64\n",
      " 33  rougher.state.floatbank10_f_air             5290 non-null   float64\n",
      " 34  rougher.state.floatbank10_f_level           5290 non-null   float64\n",
      " 35  secondary_cleaner.state.floatbank2_a_air    5287 non-null   float64\n",
      " 36  secondary_cleaner.state.floatbank2_a_level  5290 non-null   float64\n",
      " 37  secondary_cleaner.state.floatbank2_b_air    5288 non-null   float64\n",
      " 38  secondary_cleaner.state.floatbank2_b_level  5290 non-null   float64\n",
      " 39  secondary_cleaner.state.floatbank3_a_air    5281 non-null   float64\n",
      " 40  secondary_cleaner.state.floatbank3_a_level  5290 non-null   float64\n",
      " 41  secondary_cleaner.state.floatbank3_b_air    5290 non-null   float64\n",
      " 42  secondary_cleaner.state.floatbank3_b_level  5290 non-null   float64\n",
      " 43  secondary_cleaner.state.floatbank4_a_air    5290 non-null   float64\n",
      " 44  secondary_cleaner.state.floatbank4_a_level  5290 non-null   float64\n",
      " 45  secondary_cleaner.state.floatbank4_b_air    5290 non-null   float64\n",
      " 46  secondary_cleaner.state.floatbank4_b_level  5290 non-null   float64\n",
      " 47  secondary_cleaner.state.floatbank5_a_air    5290 non-null   float64\n",
      " 48  secondary_cleaner.state.floatbank5_a_level  5290 non-null   float64\n",
      " 49  secondary_cleaner.state.floatbank5_b_air    5290 non-null   float64\n",
      " 50  secondary_cleaner.state.floatbank5_b_level  5290 non-null   float64\n",
      " 51  secondary_cleaner.state.floatbank6_a_air    5290 non-null   float64\n",
      " 52  secondary_cleaner.state.floatbank6_a_level  5290 non-null   float64\n",
      "dtypes: float64(52), object(1)\n",
      "memory usage: 2.1+ MB\n",
      "None\n",
      "\n",
      "                                             count unique  \\\n",
      "date                                          5290   5290   \n",
      "primary_cleaner.input.sulfate               5286.0    NaN   \n",
      "primary_cleaner.input.depressant            5285.0    NaN   \n",
      "primary_cleaner.input.feed_size             5290.0    NaN   \n",
      "primary_cleaner.input.xanthate              5286.0    NaN   \n",
      "primary_cleaner.state.floatbank8_a_air      5290.0    NaN   \n",
      "primary_cleaner.state.floatbank8_a_level    5290.0    NaN   \n",
      "primary_cleaner.state.floatbank8_b_air      5290.0    NaN   \n",
      "primary_cleaner.state.floatbank8_b_level    5290.0    NaN   \n",
      "primary_cleaner.state.floatbank8_c_air      5290.0    NaN   \n",
      "primary_cleaner.state.floatbank8_c_level    5290.0    NaN   \n",
      "primary_cleaner.state.floatbank8_d_air      5290.0    NaN   \n",
      "primary_cleaner.state.floatbank8_d_level    5290.0    NaN   \n",
      "rougher.input.feed_ag                       5290.0    NaN   \n",
      "rougher.input.feed_pb                       5290.0    NaN   \n",
      "rougher.input.feed_rate                     5287.0    NaN   \n",
      "rougher.input.feed_size                     5289.0    NaN   \n",
      "rougher.input.feed_sol                      5269.0    NaN   \n",
      "rougher.input.feed_au                       5290.0    NaN   \n",
      "rougher.input.floatbank10_sulfate           5285.0    NaN   \n",
      "rougher.input.floatbank10_xanthate          5290.0    NaN   \n",
      "rougher.input.floatbank11_sulfate           5282.0    NaN   \n",
      "rougher.input.floatbank11_xanthate          5265.0    NaN   \n",
      "rougher.state.floatbank10_a_air             5290.0    NaN   \n",
      "rougher.state.floatbank10_a_level           5290.0    NaN   \n",
      "rougher.state.floatbank10_b_air             5290.0    NaN   \n",
      "rougher.state.floatbank10_b_level           5290.0    NaN   \n",
      "rougher.state.floatbank10_c_air             5290.0    NaN   \n",
      "rougher.state.floatbank10_c_level           5290.0    NaN   \n",
      "rougher.state.floatbank10_d_air             5290.0    NaN   \n",
      "rougher.state.floatbank10_d_level           5290.0    NaN   \n",
      "rougher.state.floatbank10_e_air             5290.0    NaN   \n",
      "rougher.state.floatbank10_e_level           5290.0    NaN   \n",
      "rougher.state.floatbank10_f_air             5290.0    NaN   \n",
      "rougher.state.floatbank10_f_level           5290.0    NaN   \n",
      "secondary_cleaner.state.floatbank2_a_air    5287.0    NaN   \n",
      "secondary_cleaner.state.floatbank2_a_level  5290.0    NaN   \n",
      "secondary_cleaner.state.floatbank2_b_air    5288.0    NaN   \n",
      "secondary_cleaner.state.floatbank2_b_level  5290.0    NaN   \n",
      "secondary_cleaner.state.floatbank3_a_air    5281.0    NaN   \n",
      "secondary_cleaner.state.floatbank3_a_level  5290.0    NaN   \n",
      "secondary_cleaner.state.floatbank3_b_air    5290.0    NaN   \n",
      "secondary_cleaner.state.floatbank3_b_level  5290.0    NaN   \n",
      "secondary_cleaner.state.floatbank4_a_air    5290.0    NaN   \n",
      "secondary_cleaner.state.floatbank4_a_level  5290.0    NaN   \n",
      "secondary_cleaner.state.floatbank4_b_air    5290.0    NaN   \n",
      "secondary_cleaner.state.floatbank4_b_level  5290.0    NaN   \n",
      "secondary_cleaner.state.floatbank5_a_air    5290.0    NaN   \n",
      "secondary_cleaner.state.floatbank5_a_level  5290.0    NaN   \n",
      "secondary_cleaner.state.floatbank5_b_air    5290.0    NaN   \n",
      "secondary_cleaner.state.floatbank5_b_level  5290.0    NaN   \n",
      "secondary_cleaner.state.floatbank6_a_air    5290.0    NaN   \n",
      "secondary_cleaner.state.floatbank6_a_level  5290.0    NaN   \n",
      "\n",
      "                                                            top freq  \\\n",
      "date                                        2016-09-01 00:59:59    1   \n",
      "primary_cleaner.input.sulfate                               NaN  NaN   \n",
      "primary_cleaner.input.depressant                            NaN  NaN   \n",
      "primary_cleaner.input.feed_size                             NaN  NaN   \n",
      "primary_cleaner.input.xanthate                              NaN  NaN   \n",
      "primary_cleaner.state.floatbank8_a_air                      NaN  NaN   \n",
      "primary_cleaner.state.floatbank8_a_level                    NaN  NaN   \n",
      "primary_cleaner.state.floatbank8_b_air                      NaN  NaN   \n",
      "primary_cleaner.state.floatbank8_b_level                    NaN  NaN   \n",
      "primary_cleaner.state.floatbank8_c_air                      NaN  NaN   \n",
      "primary_cleaner.state.floatbank8_c_level                    NaN  NaN   \n",
      "primary_cleaner.state.floatbank8_d_air                      NaN  NaN   \n",
      "primary_cleaner.state.floatbank8_d_level                    NaN  NaN   \n",
      "rougher.input.feed_ag                                       NaN  NaN   \n",
      "rougher.input.feed_pb                                       NaN  NaN   \n",
      "rougher.input.feed_rate                                     NaN  NaN   \n",
      "rougher.input.feed_size                                     NaN  NaN   \n",
      "rougher.input.feed_sol                                      NaN  NaN   \n",
      "rougher.input.feed_au                                       NaN  NaN   \n",
      "rougher.input.floatbank10_sulfate                           NaN  NaN   \n",
      "rougher.input.floatbank10_xanthate                          NaN  NaN   \n",
      "rougher.input.floatbank11_sulfate                           NaN  NaN   \n",
      "rougher.input.floatbank11_xanthate                          NaN  NaN   \n",
      "rougher.state.floatbank10_a_air                             NaN  NaN   \n",
      "rougher.state.floatbank10_a_level                           NaN  NaN   \n",
      "rougher.state.floatbank10_b_air                             NaN  NaN   \n",
      "rougher.state.floatbank10_b_level                           NaN  NaN   \n",
      "rougher.state.floatbank10_c_air                             NaN  NaN   \n",
      "rougher.state.floatbank10_c_level                           NaN  NaN   \n",
      "rougher.state.floatbank10_d_air                             NaN  NaN   \n",
      "rougher.state.floatbank10_d_level                           NaN  NaN   \n",
      "rougher.state.floatbank10_e_air                             NaN  NaN   \n",
      "rougher.state.floatbank10_e_level                           NaN  NaN   \n",
      "rougher.state.floatbank10_f_air                             NaN  NaN   \n",
      "rougher.state.floatbank10_f_level                           NaN  NaN   \n",
      "secondary_cleaner.state.floatbank2_a_air                    NaN  NaN   \n",
      "secondary_cleaner.state.floatbank2_a_level                  NaN  NaN   \n",
      "secondary_cleaner.state.floatbank2_b_air                    NaN  NaN   \n",
      "secondary_cleaner.state.floatbank2_b_level                  NaN  NaN   \n",
      "secondary_cleaner.state.floatbank3_a_air                    NaN  NaN   \n",
      "secondary_cleaner.state.floatbank3_a_level                  NaN  NaN   \n",
      "secondary_cleaner.state.floatbank3_b_air                    NaN  NaN   \n",
      "secondary_cleaner.state.floatbank3_b_level                  NaN  NaN   \n",
      "secondary_cleaner.state.floatbank4_a_air                    NaN  NaN   \n",
      "secondary_cleaner.state.floatbank4_a_level                  NaN  NaN   \n",
      "secondary_cleaner.state.floatbank4_b_air                    NaN  NaN   \n",
      "secondary_cleaner.state.floatbank4_b_level                  NaN  NaN   \n",
      "secondary_cleaner.state.floatbank5_a_air                    NaN  NaN   \n",
      "secondary_cleaner.state.floatbank5_a_level                  NaN  NaN   \n",
      "secondary_cleaner.state.floatbank5_b_air                    NaN  NaN   \n",
      "secondary_cleaner.state.floatbank5_b_level                  NaN  NaN   \n",
      "secondary_cleaner.state.floatbank6_a_air                    NaN  NaN   \n",
      "secondary_cleaner.state.floatbank6_a_level                  NaN  NaN   \n",
      "\n",
      "                                                   mean         std  \\\n",
      "date                                                NaN         NaN   \n",
      "primary_cleaner.input.sulfate                174.839652    43.02708   \n",
      "primary_cleaner.input.depressant               8.683596     3.07205   \n",
      "primary_cleaner.input.feed_size                7.266339    0.610219   \n",
      "primary_cleaner.input.xanthate                 1.383803    0.643474   \n",
      "primary_cleaner.state.floatbank8_a_air      1539.494325  116.797884   \n",
      "primary_cleaner.state.floatbank8_a_level    -497.665883   19.952431   \n",
      "primary_cleaner.state.floatbank8_b_air      1545.174232  122.224588   \n",
      "primary_cleaner.state.floatbank8_b_level    -500.273098   32.968307   \n",
      "primary_cleaner.state.floatbank8_c_air      1527.272362  122.538034   \n",
      "primary_cleaner.state.floatbank8_c_level     -498.33068   21.964876   \n",
      "primary_cleaner.state.floatbank8_d_air      1544.844335  124.773081   \n",
      "primary_cleaner.state.floatbank8_d_level    -500.199527   31.045257   \n",
      "rougher.input.feed_ag                           9.37194    1.926264   \n",
      "rougher.input.feed_pb                          3.798082    0.954859   \n",
      "rougher.input.feed_rate                       489.80062  108.036326   \n",
      "rougher.input.feed_size                       55.951097   19.081758   \n",
      "rougher.input.feed_sol                        37.716648    5.491415   \n",
      "rougher.input.feed_au                          9.334682    1.619521   \n",
      "rougher.input.floatbank10_sulfate             13.855759    3.350852   \n",
      "rougher.input.floatbank10_xanthate             6.467745    1.065114   \n",
      "rougher.input.floatbank11_sulfate             13.922328    3.223769   \n",
      "rougher.input.floatbank11_xanthate             6.512103    0.886989   \n",
      "rougher.state.floatbank10_a_air             1053.400166  121.139309   \n",
      "rougher.state.floatbank10_a_level            -395.73253   91.085505   \n",
      "rougher.state.floatbank10_b_air             1318.926879  156.450366   \n",
      "rougher.state.floatbank10_b_level           -475.241428   45.649466   \n",
      "rougher.state.floatbank10_c_air             1301.595477  171.269667   \n",
      "rougher.state.floatbank10_c_level           -474.836671   45.859866   \n",
      "rougher.state.floatbank10_d_air              1214.84796  185.763319   \n",
      "rougher.state.floatbank10_d_level           -475.682272   47.844967   \n",
      "rougher.state.floatbank10_e_air             1056.648995  131.542839   \n",
      "rougher.state.floatbank10_e_level           -469.029688    59.32599   \n",
      "rougher.state.floatbank10_f_air              997.949719  128.218869   \n",
      "rougher.state.floatbank10_f_level           -470.482465   60.759318   \n",
      "secondary_cleaner.state.floatbank2_a_air       26.31263    3.429852   \n",
      "secondary_cleaner.state.floatbank2_a_level  -502.750897   28.756505   \n",
      "secondary_cleaner.state.floatbank2_b_air      21.949119    4.354961   \n",
      "secondary_cleaner.state.floatbank2_b_level  -501.987097   34.582722   \n",
      "secondary_cleaner.state.floatbank3_a_air      25.402926    6.526457   \n",
      "secondary_cleaner.state.floatbank3_a_level  -507.490314   47.620908   \n",
      "secondary_cleaner.state.floatbank3_b_air      20.982108    6.736179   \n",
      "secondary_cleaner.state.floatbank3_b_level  -506.627916   44.528673   \n",
      "secondary_cleaner.state.floatbank4_a_air      16.320074    3.493583   \n",
      "secondary_cleaner.state.floatbank4_a_level   -505.14457   31.427337   \n",
      "secondary_cleaner.state.floatbank4_b_air      13.735444    3.430484   \n",
      "secondary_cleaner.state.floatbank4_b_level  -463.349858   86.189107   \n",
      "secondary_cleaner.state.floatbank5_a_air      12.804186    3.026591   \n",
      "secondary_cleaner.state.floatbank5_a_level  -501.329122   17.951495   \n",
      "secondary_cleaner.state.floatbank5_b_air       9.881145    2.868205   \n",
      "secondary_cleaner.state.floatbank5_b_level  -495.663398   34.535007   \n",
      "secondary_cleaner.state.floatbank6_a_air      17.304935    4.536544   \n",
      "secondary_cleaner.state.floatbank6_a_level  -501.793193   39.044215   \n",
      "\n",
      "                                                   min          25%  \\\n",
      "date                                               NaN          NaN   \n",
      "primary_cleaner.input.sulfate                 2.566156   147.121401   \n",
      "primary_cleaner.input.depressant              0.003839     6.489555   \n",
      "primary_cleaner.input.feed_size                   5.65         6.89   \n",
      "primary_cleaner.input.xanthate                0.004984     0.907623   \n",
      "primary_cleaner.state.floatbank8_a_air             0.0  1498.935802   \n",
      "primary_cleaner.state.floatbank8_a_level   -795.316337  -500.357298   \n",
      "primary_cleaner.state.floatbank8_b_air             0.0  1498.970993   \n",
      "primary_cleaner.state.floatbank8_b_level   -799.997015  -500.703002   \n",
      "primary_cleaner.state.floatbank8_c_air             0.0  1473.229862   \n",
      "primary_cleaner.state.floatbank8_c_level   -799.960571  -501.018117   \n",
      "primary_cleaner.state.floatbank8_d_air             0.0  1499.481404   \n",
      "primary_cleaner.state.floatbank8_d_level    -799.79425  -500.452469   \n",
      "rougher.input.feed_ag                         0.568441     8.112434   \n",
      "rougher.input.feed_pb                         0.273677     3.240251   \n",
      "rougher.input.feed_rate                       0.002986   407.020883   \n",
      "rougher.input.feed_size                       0.046369    43.906347   \n",
      "rougher.input.feed_sol                        1.393488    34.505576   \n",
      "rougher.input.feed_au                         0.568632     8.207814   \n",
      "rougher.input.floatbank10_sulfate             0.001147    11.995006   \n",
      "rougher.input.floatbank10_xanthate            0.000568     5.998779   \n",
      "rougher.input.floatbank11_sulfate             0.000077      11.9972   \n",
      "rougher.input.floatbank11_xanthate            0.006985     5.999157   \n",
      "rougher.state.floatbank10_a_air              -0.042069   999.205344   \n",
      "rougher.state.floatbank10_a_level          -657.949759  -499.920565   \n",
      "rougher.state.floatbank10_b_air              -0.721806  1200.871883   \n",
      "rougher.state.floatbank10_b_level          -650.245277  -500.256114   \n",
      "rougher.state.floatbank10_c_air              -0.056636  1199.651371   \n",
      "rougher.state.floatbank10_c_level          -647.544439  -500.233831   \n",
      "rougher.state.floatbank10_d_air              -0.992219  1093.368068   \n",
      "rougher.state.floatbank10_d_level          -648.390665   -500.44061   \n",
      "rougher.state.floatbank10_e_air              -1.982295   999.361403   \n",
      "rougher.state.floatbank10_e_level          -649.267537  -500.190639   \n",
      "rougher.state.floatbank10_f_air               -2.59339   901.024994   \n",
      "rougher.state.floatbank10_f_level          -649.949283  -500.624783   \n",
      "secondary_cleaner.state.floatbank2_a_air      0.205329    24.942328   \n",
      "secondary_cleaner.state.floatbank2_a_level -784.091091  -500.206517   \n",
      "secondary_cleaner.state.floatbank2_b_air      0.006064    20.002315   \n",
      "secondary_cleaner.state.floatbank2_b_level -797.783989   -500.21803   \n",
      "secondary_cleaner.state.floatbank3_a_air           0.0    22.982288   \n",
      "secondary_cleaner.state.floatbank3_a_level -799.755798  -500.297951   \n",
      "secondary_cleaner.state.floatbank3_b_air           0.0    17.967855   \n",
      "secondary_cleaner.state.floatbank3_b_level -809.333008  -500.145128   \n",
      "secondary_cleaner.state.floatbank4_a_air           0.0    14.036177   \n",
      "secondary_cleaner.state.floatbank4_a_level -799.798523  -500.868258   \n",
      "secondary_cleaner.state.floatbank4_b_air           0.0    12.028625   \n",
      "secondary_cleaner.state.floatbank4_b_level -800.836914  -500.323028   \n",
      "secondary_cleaner.state.floatbank5_a_air      0.069227    10.914838   \n",
      "secondary_cleaner.state.floatbank5_a_level -797.323986  -500.726841   \n",
      "secondary_cleaner.state.floatbank5_b_air      0.528083     8.036719   \n",
      "secondary_cleaner.state.floatbank5_b_level -800.220337  -500.194668   \n",
      "secondary_cleaner.state.floatbank6_a_air     -0.079426    13.997317   \n",
      "secondary_cleaner.state.floatbank6_a_level -809.741464  -500.690984   \n",
      "\n",
      "                                                    50%          75%  \\\n",
      "date                                                NaN          NaN   \n",
      "primary_cleaner.input.sulfate                177.828489   208.125438   \n",
      "primary_cleaner.input.depressant               8.052207    10.027764   \n",
      "primary_cleaner.input.feed_size                    7.25          7.6   \n",
      "primary_cleaner.input.xanthate                  1.19761     1.797819   \n",
      "primary_cleaner.state.floatbank8_a_air      1585.129123  1602.076529   \n",
      "primary_cleaner.state.floatbank8_a_level    -499.969164  -499.568951   \n",
      "primary_cleaner.state.floatbank8_b_air      1595.621798  1602.323545   \n",
      "primary_cleaner.state.floatbank8_b_level    -500.028514  -499.293257   \n",
      "primary_cleaner.state.floatbank8_c_air      1549.594682  1601.143775   \n",
      "primary_cleaner.state.floatbank8_c_level    -500.017711   -498.99413   \n",
      "primary_cleaner.state.floatbank8_d_air      1594.579112  1600.964772   \n",
      "primary_cleaner.state.floatbank8_d_level    -500.023307   -499.60704   \n",
      "rougher.input.feed_ag                          9.762654    10.652297   \n",
      "rougher.input.feed_pb                          3.740716     4.282634   \n",
      "rougher.input.feed_rate                       499.05144   575.307213   \n",
      "rougher.input.feed_size                       50.841029    62.431047   \n",
      "rougher.input.feed_sol                        37.980276    41.635385   \n",
      "rougher.input.feed_au                          9.593766    10.463538   \n",
      "rougher.input.floatbank10_sulfate             14.003126    16.974284   \n",
      "rougher.input.floatbank10_xanthate             6.498181     7.085457   \n",
      "rougher.input.floatbank11_sulfate             14.004371    16.959671   \n",
      "rougher.input.floatbank11_xanthate             6.498744     7.091808   \n",
      "rougher.state.floatbank10_a_air             1000.472055  1006.254299   \n",
      "rougher.state.floatbank10_a_level           -399.693363  -300.060056   \n",
      "rougher.state.floatbank10_b_air             1302.254995  1433.955649   \n",
      "rougher.state.floatbank10_b_level           -499.837803  -450.749619   \n",
      "rougher.state.floatbank10_c_air             1300.202274  1406.594956   \n",
      "rougher.state.floatbank10_c_level           -499.777222  -451.153188   \n",
      "rougher.state.floatbank10_d_air             1207.014092  1391.497269   \n",
      "rougher.state.floatbank10_d_level           -499.691917  -452.483463   \n",
      "rougher.state.floatbank10_e_air             1047.495449  1101.365315   \n",
      "rougher.state.floatbank10_e_level           -499.765796  -450.957513   \n",
      "rougher.state.floatbank10_f_air              999.441879  1050.433005   \n",
      "rougher.state.floatbank10_f_level           -499.680986   -451.98646   \n",
      "secondary_cleaner.state.floatbank2_a_air      26.910569    28.091885   \n",
      "secondary_cleaner.state.floatbank2_a_level  -500.003902  -499.791639   \n",
      "secondary_cleaner.state.floatbank2_b_air      22.942603    24.985013   \n",
      "secondary_cleaner.state.floatbank2_b_level  -500.019058  -499.831532   \n",
      "secondary_cleaner.state.floatbank3_a_air      25.010105    30.002063   \n",
      "secondary_cleaner.state.floatbank3_a_level  -500.034578  -499.780163   \n",
      "secondary_cleaner.state.floatbank3_b_air      21.003164    26.976977   \n",
      "secondary_cleaner.state.floatbank3_b_level  -500.013819  -499.890608   \n",
      "secondary_cleaner.state.floatbank4_a_air      17.008468    18.038619   \n",
      "secondary_cleaner.state.floatbank4_a_level  -500.115727  -499.404224   \n",
      "secondary_cleaner.state.floatbank4_b_air       14.96486    15.962125   \n",
      "secondary_cleaner.state.floatbank4_b_level  -499.576513  -400.933805   \n",
      "secondary_cleaner.state.floatbank5_a_air      12.954182    15.097528   \n",
      "secondary_cleaner.state.floatbank5_a_level  -499.990332  -499.283191   \n",
      "secondary_cleaner.state.floatbank5_b_air      10.004301    11.997467   \n",
      "secondary_cleaner.state.floatbank5_b_level  -499.990535  -499.719913   \n",
      "secondary_cleaner.state.floatbank6_a_air      16.014935    21.020013   \n",
      "secondary_cleaner.state.floatbank6_a_level  -500.007126  -499.373018   \n",
      "\n",
      "                                                    max  \n",
      "date                                                NaN  \n",
      "primary_cleaner.input.sulfate                265.983123  \n",
      "primary_cleaner.input.depressant                   40.0  \n",
      "primary_cleaner.input.feed_size                    15.5  \n",
      "primary_cleaner.input.xanthate                 4.102454  \n",
      "primary_cleaner.state.floatbank8_a_air       2103.10358  \n",
      "primary_cleaner.state.floatbank8_a_level     -57.195404  \n",
      "primary_cleaner.state.floatbank8_b_air      1813.083671  \n",
      "primary_cleaner.state.floatbank8_b_level    -142.527229  \n",
      "primary_cleaner.state.floatbank8_c_air      1715.053773  \n",
      "primary_cleaner.state.floatbank8_c_level    -150.937035  \n",
      "primary_cleaner.state.floatbank8_d_air      1913.256561  \n",
      "primary_cleaner.state.floatbank8_d_level    -158.950573  \n",
      "rougher.input.feed_ag                          14.40613  \n",
      "rougher.input.feed_pb                          6.905684  \n",
      "rougher.input.feed_rate                       707.36402  \n",
      "rougher.input.feed_size                       392.49404  \n",
      "rougher.input.feed_sol                        53.477742  \n",
      "rougher.input.feed_au                          13.73133  \n",
      "rougher.input.floatbank10_sulfate             24.280636  \n",
      "rougher.input.floatbank10_xanthate             8.910468  \n",
      "rougher.input.floatbank11_sulfate             24.280966  \n",
      "rougher.input.floatbank11_xanthate             8.621338  \n",
      "rougher.state.floatbank10_a_air             1423.274687  \n",
      "rougher.state.floatbank10_a_level           -273.776101  \n",
      "rougher.state.floatbank10_b_air             1706.640419  \n",
      "rougher.state.floatbank10_b_level           -298.200051  \n",
      "rougher.state.floatbank10_c_air             1731.017788  \n",
      "rougher.state.floatbank10_c_level           -298.036852  \n",
      "rougher.state.floatbank10_d_air             1775.218584  \n",
      "rougher.state.floatbank10_d_level            -76.397327  \n",
      "rougher.state.floatbank10_e_air             1467.184843  \n",
      "rougher.state.floatbank10_e_level           -139.753025  \n",
      "rougher.state.floatbank10_f_air             1476.588107  \n",
      "rougher.state.floatbank10_f_level           -249.801043  \n",
      "secondary_cleaner.state.floatbank2_a_air      32.138727  \n",
      "secondary_cleaner.state.floatbank2_a_level   -300.34367  \n",
      "secondary_cleaner.state.floatbank2_b_air      28.165864  \n",
      "secondary_cleaner.state.floatbank2_b_level  -211.999273  \n",
      "secondary_cleaner.state.floatbank3_a_air      40.041997  \n",
      "secondary_cleaner.state.floatbank3_a_level  -313.866425  \n",
      "secondary_cleaner.state.floatbank3_b_air      32.039365  \n",
      "secondary_cleaner.state.floatbank3_b_level  -202.277366  \n",
      "secondary_cleaner.state.floatbank4_a_air      30.051797  \n",
      "secondary_cleaner.state.floatbank4_a_level  -401.565212  \n",
      "secondary_cleaner.state.floatbank4_b_air      31.269706  \n",
      "secondary_cleaner.state.floatbank4_b_level    -6.506986  \n",
      "secondary_cleaner.state.floatbank5_a_air      25.258848  \n",
      "secondary_cleaner.state.floatbank5_a_level  -244.483566  \n",
      "secondary_cleaner.state.floatbank5_b_air      14.086866  \n",
      "secondary_cleaner.state.floatbank5_b_level  -137.740004  \n",
      "secondary_cleaner.state.floatbank6_a_air      26.705889  \n",
      "secondary_cleaner.state.floatbank6_a_level  -123.307487  \n",
      "\n",
      "                                                              0  \\\n",
      "date                                        2016-09-01 00:59:59   \n",
      "primary_cleaner.input.sulfate                        210.800909   \n",
      "primary_cleaner.input.depressant                      14.993118   \n",
      "primary_cleaner.input.feed_size                            8.08   \n",
      "primary_cleaner.input.xanthate                         1.005021   \n",
      "primary_cleaner.state.floatbank8_a_air              1398.981301   \n",
      "primary_cleaner.state.floatbank8_a_level            -500.225577   \n",
      "primary_cleaner.state.floatbank8_b_air              1399.144926   \n",
      "primary_cleaner.state.floatbank8_b_level            -499.919735   \n",
      "primary_cleaner.state.floatbank8_c_air              1400.102998   \n",
      "primary_cleaner.state.floatbank8_c_level            -500.704369   \n",
      "primary_cleaner.state.floatbank8_d_air              1399.001695   \n",
      "primary_cleaner.state.floatbank8_d_level            -499.485144   \n",
      "rougher.input.feed_ag                                 13.128569   \n",
      "rougher.input.feed_pb                                   5.63671   \n",
      "rougher.input.feed_rate                              489.793655   \n",
      "rougher.input.feed_size                               62.710452   \n",
      "rougher.input.feed_sol                                 42.02244   \n",
      "rougher.input.feed_au                                 12.084103   \n",
      "rougher.input.floatbank10_sulfate                     16.922877   \n",
      "rougher.input.floatbank10_xanthate                     6.153479   \n",
      "rougher.input.floatbank11_sulfate                     16.867518   \n",
      "rougher.input.floatbank11_xanthate                     6.150709   \n",
      "rougher.state.floatbank10_a_air                     1001.849317   \n",
      "rougher.state.floatbank10_a_level                   -350.301265   \n",
      "rougher.state.floatbank10_b_air                     1249.738612   \n",
      "rougher.state.floatbank10_b_level                   -399.107531   \n",
      "rougher.state.floatbank10_c_air                      1249.75052   \n",
      "rougher.state.floatbank10_c_level                    -399.39673   \n",
      "rougher.state.floatbank10_d_air                     1198.287855   \n",
      "rougher.state.floatbank10_d_level                   -399.488594   \n",
      "rougher.state.floatbank10_e_air                       999.47225   \n",
      "rougher.state.floatbank10_e_level                   -399.530962   \n",
      "rougher.state.floatbank10_f_air                      949.566189   \n",
      "rougher.state.floatbank10_f_level                   -398.180807   \n",
      "secondary_cleaner.state.floatbank2_a_air                24.9382   \n",
      "secondary_cleaner.state.floatbank2_a_level          -500.490963   \n",
      "secondary_cleaner.state.floatbank2_b_air              14.947607   \n",
      "secondary_cleaner.state.floatbank2_b_level          -500.013837   \n",
      "secondary_cleaner.state.floatbank3_a_air              20.018166   \n",
      "secondary_cleaner.state.floatbank3_a_level          -450.395995   \n",
      "secondary_cleaner.state.floatbank3_b_air              13.987058   \n",
      "secondary_cleaner.state.floatbank3_b_level          -449.831513   \n",
      "secondary_cleaner.state.floatbank4_a_air              12.023554   \n",
      "secondary_cleaner.state.floatbank4_a_level          -497.795834   \n",
      "secondary_cleaner.state.floatbank4_b_air               8.016656   \n",
      "secondary_cleaner.state.floatbank4_b_level          -501.289139   \n",
      "secondary_cleaner.state.floatbank5_a_air               7.946562   \n",
      "secondary_cleaner.state.floatbank5_a_level           -432.31785   \n",
      "secondary_cleaner.state.floatbank5_b_air               4.872511   \n",
      "secondary_cleaner.state.floatbank5_b_level          -500.037437   \n",
      "secondary_cleaner.state.floatbank6_a_air              26.705889   \n",
      "secondary_cleaner.state.floatbank6_a_level          -499.709414   \n",
      "\n",
      "                                                              1  \\\n",
      "date                                        2016-09-01 01:59:59   \n",
      "primary_cleaner.input.sulfate                        215.392455   \n",
      "primary_cleaner.input.depressant                      14.987471   \n",
      "primary_cleaner.input.feed_size                            8.08   \n",
      "primary_cleaner.input.xanthate                         0.990469   \n",
      "primary_cleaner.state.floatbank8_a_air              1398.777912   \n",
      "primary_cleaner.state.floatbank8_a_level            -500.057435   \n",
      "primary_cleaner.state.floatbank8_b_air              1398.055362   \n",
      "primary_cleaner.state.floatbank8_b_level            -499.778182   \n",
      "primary_cleaner.state.floatbank8_c_air              1396.151033   \n",
      "primary_cleaner.state.floatbank8_c_level            -499.240168   \n",
      "primary_cleaner.state.floatbank8_d_air              1399.508091   \n",
      "primary_cleaner.state.floatbank8_d_level            -500.416324   \n",
      "rougher.input.feed_ag                                  13.03628   \n",
      "rougher.input.feed_pb                                  5.526065   \n",
      "rougher.input.feed_rate                              490.104534   \n",
      "rougher.input.feed_size                               61.961163   \n",
      "rougher.input.feed_sol                                41.187903   \n",
      "rougher.input.feed_au                                 11.918977   \n",
      "rougher.input.floatbank10_sulfate                     17.002532   \n",
      "rougher.input.floatbank10_xanthate                     5.999043   \n",
      "rougher.input.floatbank11_sulfate                     16.996063   \n",
      "rougher.input.floatbank11_xanthate                     6.002315   \n",
      "rougher.state.floatbank10_a_air                      998.690785   \n",
      "rougher.state.floatbank10_a_level                   -350.425704   \n",
      "rougher.state.floatbank10_b_air                     1248.395457   \n",
      "rougher.state.floatbank10_b_level                   -399.946025   \n",
      "rougher.state.floatbank10_c_air                     1249.514451   \n",
      "rougher.state.floatbank10_c_level                    -399.63081   \n",
      "rougher.state.floatbank10_d_air                     1200.506459   \n",
      "rougher.state.floatbank10_d_level                   -399.942434   \n",
      "rougher.state.floatbank10_e_air                     1000.002114   \n",
      "rougher.state.floatbank10_e_level                   -399.491528   \n",
      "rougher.state.floatbank10_f_air                      950.200009   \n",
      "rougher.state.floatbank10_f_level                   -405.787514   \n",
      "secondary_cleaner.state.floatbank2_a_air              24.923466   \n",
      "secondary_cleaner.state.floatbank2_a_level          -499.813963   \n",
      "secondary_cleaner.state.floatbank2_b_air              14.930873   \n",
      "secondary_cleaner.state.floatbank2_b_level          -500.764452   \n",
      "secondary_cleaner.state.floatbank3_a_air              19.988503   \n",
      "secondary_cleaner.state.floatbank3_a_level          -450.114024   \n",
      "secondary_cleaner.state.floatbank3_b_air              14.092981   \n",
      "secondary_cleaner.state.floatbank3_b_level          -450.059163   \n",
      "secondary_cleaner.state.floatbank4_a_air               12.05814   \n",
      "secondary_cleaner.state.floatbank4_a_level          -498.695773   \n",
      "secondary_cleaner.state.floatbank4_b_air               8.130979   \n",
      "secondary_cleaner.state.floatbank4_b_level          -499.634209   \n",
      "secondary_cleaner.state.floatbank5_a_air                7.95827   \n",
      "secondary_cleaner.state.floatbank5_a_level          -525.839648   \n",
      "secondary_cleaner.state.floatbank5_b_air                4.87885   \n",
      "secondary_cleaner.state.floatbank5_b_level          -500.162375   \n",
      "secondary_cleaner.state.floatbank6_a_air               25.01994   \n",
      "secondary_cleaner.state.floatbank6_a_level          -499.819438   \n",
      "\n",
      "                                                              2  \\\n",
      "date                                        2016-09-01 02:59:59   \n",
      "primary_cleaner.input.sulfate                        215.259946   \n",
      "primary_cleaner.input.depressant                      12.884934   \n",
      "primary_cleaner.input.feed_size                        7.786667   \n",
      "primary_cleaner.input.xanthate                         0.996043   \n",
      "primary_cleaner.state.floatbank8_a_air              1398.493666   \n",
      "primary_cleaner.state.floatbank8_a_level             -500.86836   \n",
      "primary_cleaner.state.floatbank8_b_air              1398.860436   \n",
      "primary_cleaner.state.floatbank8_b_level            -499.764529   \n",
      "primary_cleaner.state.floatbank8_c_air              1398.075709   \n",
      "primary_cleaner.state.floatbank8_c_level            -502.151509   \n",
      "primary_cleaner.state.floatbank8_d_air              1399.497088   \n",
      "primary_cleaner.state.floatbank8_d_level            -499.715479   \n",
      "rougher.input.feed_ag                                 13.138412   \n",
      "rougher.input.feed_pb                                  5.426561   \n",
      "rougher.input.feed_rate                              489.617969   \n",
      "rougher.input.feed_size                               66.903807   \n",
      "rougher.input.feed_sol                                42.546294   \n",
      "rougher.input.feed_au                                 12.091332   \n",
      "rougher.input.floatbank10_sulfate                      16.99252   \n",
      "rougher.input.floatbank10_xanthate                     5.850632   \n",
      "rougher.input.floatbank11_sulfate                     16.982096   \n",
      "rougher.input.floatbank11_xanthate                     5.853594   \n",
      "rougher.state.floatbank10_a_air                       998.51672   \n",
      "rougher.state.floatbank10_a_level                   -349.783538   \n",
      "rougher.state.floatbank10_b_air                     1247.440748   \n",
      "rougher.state.floatbank10_b_level                    -400.26433   \n",
      "rougher.state.floatbank10_c_air                     1248.207204   \n",
      "rougher.state.floatbank10_c_level                   -401.074405   \n",
      "rougher.state.floatbank10_d_air                     1199.770026   \n",
      "rougher.state.floatbank10_d_level                   -400.790582   \n",
      "rougher.state.floatbank10_e_air                      999.925519   \n",
      "rougher.state.floatbank10_e_level                   -399.236999   \n",
      "rougher.state.floatbank10_f_air                      950.320481   \n",
      "rougher.state.floatbank10_f_level                    -400.86434   \n",
      "secondary_cleaner.state.floatbank2_a_air              24.908732   \n",
      "secondary_cleaner.state.floatbank2_a_level          -500.304035   \n",
      "secondary_cleaner.state.floatbank2_b_air              14.996511   \n",
      "secondary_cleaner.state.floatbank2_b_level          -500.993821   \n",
      "secondary_cleaner.state.floatbank3_a_air              20.039689   \n",
      "secondary_cleaner.state.floatbank3_a_level          -450.263164   \n",
      "secondary_cleaner.state.floatbank3_b_air              14.077881   \n",
      "secondary_cleaner.state.floatbank3_b_level          -449.660997   \n",
      "secondary_cleaner.state.floatbank4_a_air              11.962366   \n",
      "secondary_cleaner.state.floatbank4_a_level          -498.767484   \n",
      "secondary_cleaner.state.floatbank4_b_air               8.096893   \n",
      "secondary_cleaner.state.floatbank4_b_level          -500.827423   \n",
      "secondary_cleaner.state.floatbank5_a_air               8.071056   \n",
      "secondary_cleaner.state.floatbank5_a_level          -500.801673   \n",
      "secondary_cleaner.state.floatbank5_b_air               4.905125   \n",
      "secondary_cleaner.state.floatbank5_b_level           -499.82851   \n",
      "secondary_cleaner.state.floatbank6_a_air              24.994862   \n",
      "secondary_cleaner.state.floatbank6_a_level          -500.622559   \n",
      "\n",
      "                                                              3  \\\n",
      "date                                        2016-09-01 03:59:59   \n",
      "primary_cleaner.input.sulfate                        215.336236   \n",
      "primary_cleaner.input.depressant                      12.006805   \n",
      "primary_cleaner.input.feed_size                            7.64   \n",
      "primary_cleaner.input.xanthate                         0.863514   \n",
      "primary_cleaner.state.floatbank8_a_air              1399.618111   \n",
      "primary_cleaner.state.floatbank8_a_level            -498.863574   \n",
      "primary_cleaner.state.floatbank8_b_air               1397.44012   \n",
      "primary_cleaner.state.floatbank8_b_level            -499.211024   \n",
      "primary_cleaner.state.floatbank8_c_air              1400.129303   \n",
      "primary_cleaner.state.floatbank8_c_level            -498.355873   \n",
      "primary_cleaner.state.floatbank8_d_air              1401.065165   \n",
      "primary_cleaner.state.floatbank8_d_level            -501.038738   \n",
      "rougher.input.feed_ag                                 12.400507   \n",
      "rougher.input.feed_pb                                  5.114758   \n",
      "rougher.input.feed_rate                               476.61813   \n",
      "rougher.input.feed_size                               59.865919   \n",
      "rougher.input.feed_sol                                41.060195   \n",
      "rougher.input.feed_au                                 12.181597   \n",
      "rougher.input.floatbank10_sulfate                     16.532144   \n",
      "rougher.input.floatbank10_xanthate                     5.801935   \n",
      "rougher.input.floatbank11_sulfate                     16.515277   \n",
      "rougher.input.floatbank11_xanthate                     5.803657   \n",
      "rougher.state.floatbank10_a_air                     1000.276604   \n",
      "rougher.state.floatbank10_a_level                   -350.172597   \n",
      "rougher.state.floatbank10_b_air                     1251.322675   \n",
      "rougher.state.floatbank10_b_level                   -398.655289   \n",
      "rougher.state.floatbank10_c_air                     1250.493702   \n",
      "rougher.state.floatbank10_c_level                   -399.746728   \n",
      "rougher.state.floatbank10_d_air                     1199.398691   \n",
      "rougher.state.floatbank10_d_level                   -397.503052   \n",
      "rougher.state.floatbank10_e_air                     1001.930679   \n",
      "rougher.state.floatbank10_e_level                   -400.437573   \n",
      "rougher.state.floatbank10_f_air                      950.735324   \n",
      "rougher.state.floatbank10_f_level                   -399.802986   \n",
      "secondary_cleaner.state.floatbank2_a_air              24.893998   \n",
      "secondary_cleaner.state.floatbank2_a_level          -499.382374   \n",
      "secondary_cleaner.state.floatbank2_b_air              14.916674   \n",
      "secondary_cleaner.state.floatbank2_b_level          -499.862299   \n",
      "secondary_cleaner.state.floatbank3_a_air                20.0311   \n",
      "secondary_cleaner.state.floatbank3_a_level           -449.37257   \n",
      "secondary_cleaner.state.floatbank3_b_air              14.013968   \n",
      "secondary_cleaner.state.floatbank3_b_level            -449.5269   \n",
      "secondary_cleaner.state.floatbank4_a_air              12.033091   \n",
      "secondary_cleaner.state.floatbank4_a_level          -498.350935   \n",
      "secondary_cleaner.state.floatbank4_b_air               8.074946   \n",
      "secondary_cleaner.state.floatbank4_b_level          -499.474407   \n",
      "secondary_cleaner.state.floatbank5_a_air               7.897085   \n",
      "secondary_cleaner.state.floatbank5_a_level          -500.868509   \n",
      "secondary_cleaner.state.floatbank5_b_air                 4.9314   \n",
      "secondary_cleaner.state.floatbank5_b_level          -499.963623   \n",
      "secondary_cleaner.state.floatbank6_a_air              24.948919   \n",
      "secondary_cleaner.state.floatbank6_a_level          -498.709987   \n",
      "\n",
      "                                                              4  \n",
      "date                                        2016-09-01 04:59:59  \n",
      "primary_cleaner.input.sulfate                        199.099327  \n",
      "primary_cleaner.input.depressant                       10.68253  \n",
      "primary_cleaner.input.feed_size                            7.53  \n",
      "primary_cleaner.input.xanthate                         0.805575  \n",
      "primary_cleaner.state.floatbank8_a_air              1401.268123  \n",
      "primary_cleaner.state.floatbank8_a_level            -500.808305  \n",
      "primary_cleaner.state.floatbank8_b_air              1398.128818  \n",
      "primary_cleaner.state.floatbank8_b_level            -499.504543  \n",
      "primary_cleaner.state.floatbank8_c_air              1402.172226  \n",
      "primary_cleaner.state.floatbank8_c_level            -500.810606  \n",
      "primary_cleaner.state.floatbank8_d_air              1399.480508  \n",
      "primary_cleaner.state.floatbank8_d_level            -499.374053  \n",
      "rougher.input.feed_ag                                 11.327427  \n",
      "rougher.input.feed_pb                                  4.767383  \n",
      "rougher.input.feed_rate                              488.248117  \n",
      "rougher.input.feed_size                               63.315324  \n",
      "rougher.input.feed_sol                                41.269161  \n",
      "rougher.input.feed_au                                 11.290425  \n",
      "rougher.input.floatbank10_sulfate                     13.607257  \n",
      "rougher.input.floatbank10_xanthate                     5.738081  \n",
      "rougher.input.floatbank11_sulfate                     13.650053  \n",
      "rougher.input.floatbank11_xanthate                     5.739634  \n",
      "rougher.state.floatbank10_a_air                      996.541302  \n",
      "rougher.state.floatbank10_a_level                   -350.562517  \n",
      "rougher.state.floatbank10_b_air                     1304.658848  \n",
      "rougher.state.floatbank10_b_level                   -399.511519  \n",
      "rougher.state.floatbank10_c_air                     1306.455515  \n",
      "rougher.state.floatbank10_c_level                   -399.050685  \n",
      "rougher.state.floatbank10_d_air                     1248.699349  \n",
      "rougher.state.floatbank10_d_level                   -400.876894  \n",
      "rougher.state.floatbank10_e_air                     1058.839106  \n",
      "rougher.state.floatbank10_e_level                   -398.988239  \n",
      "rougher.state.floatbank10_f_air                      949.645313  \n",
      "rougher.state.floatbank10_f_level                   -399.277632  \n",
      "secondary_cleaner.state.floatbank2_a_air              24.886905  \n",
      "secondary_cleaner.state.floatbank2_a_level          -499.357375  \n",
      "secondary_cleaner.state.floatbank2_b_air              14.979233  \n",
      "secondary_cleaner.state.floatbank2_b_level          -500.186804  \n",
      "secondary_cleaner.state.floatbank3_a_air              19.962364  \n",
      "secondary_cleaner.state.floatbank3_a_level          -450.638828  \n",
      "secondary_cleaner.state.floatbank3_b_air              14.009245  \n",
      "secondary_cleaner.state.floatbank3_b_level          -450.022259  \n",
      "secondary_cleaner.state.floatbank4_a_air              12.025367  \n",
      "secondary_cleaner.state.floatbank4_a_level          -500.786497  \n",
      "secondary_cleaner.state.floatbank4_b_air               8.054678  \n",
      "secondary_cleaner.state.floatbank4_b_level            -500.3975  \n",
      "secondary_cleaner.state.floatbank5_a_air                8.10789  \n",
      "secondary_cleaner.state.floatbank5_a_level          -509.526725  \n",
      "secondary_cleaner.state.floatbank5_b_air               4.957674  \n",
      "secondary_cleaner.state.floatbank5_b_level          -500.360026  \n",
      "secondary_cleaner.state.floatbank6_a_air              25.003331  \n",
      "secondary_cleaner.state.floatbank6_a_level          -500.856333  \n",
      "\n",
      "строк=19439, столбцов=87\n",
      "\n",
      "дублей: 0\n",
      "\n",
      "<class 'pandas.core.frame.DataFrame'>\n",
      "RangeIndex: 19439 entries, 0 to 19438\n",
      "Data columns (total 87 columns):\n",
      " #   Column                                              Non-Null Count  Dtype  \n",
      "---  ------                                              --------------  -----  \n",
      " 0   date                                                19439 non-null  object \n",
      " 1   final.output.concentrate_ag                         19438 non-null  float64\n",
      " 2   final.output.concentrate_pb                         19438 non-null  float64\n",
      " 3   final.output.concentrate_sol                        19228 non-null  float64\n",
      " 4   final.output.concentrate_au                         19439 non-null  float64\n",
      " 5   final.output.recovery                               19439 non-null  float64\n",
      " 6   final.output.tail_ag                                19438 non-null  float64\n",
      " 7   final.output.tail_pb                                19338 non-null  float64\n",
      " 8   final.output.tail_sol                               19433 non-null  float64\n",
      " 9   final.output.tail_au                                19439 non-null  float64\n",
      " 10  primary_cleaner.input.sulfate                       19415 non-null  float64\n",
      " 11  primary_cleaner.input.depressant                    19402 non-null  float64\n",
      " 12  primary_cleaner.input.feed_size                     19439 non-null  float64\n",
      " 13  primary_cleaner.input.xanthate                      19335 non-null  float64\n",
      " 14  primary_cleaner.output.concentrate_ag               19439 non-null  float64\n",
      " 15  primary_cleaner.output.concentrate_pb               19323 non-null  float64\n",
      " 16  primary_cleaner.output.concentrate_sol              19069 non-null  float64\n",
      " 17  primary_cleaner.output.concentrate_au               19439 non-null  float64\n",
      " 18  primary_cleaner.output.tail_ag                      19435 non-null  float64\n",
      " 19  primary_cleaner.output.tail_pb                      19418 non-null  float64\n",
      " 20  primary_cleaner.output.tail_sol                     19377 non-null  float64\n",
      " 21  primary_cleaner.output.tail_au                      19439 non-null  float64\n",
      " 22  primary_cleaner.state.floatbank8_a_air              19435 non-null  float64\n",
      " 23  primary_cleaner.state.floatbank8_a_level            19438 non-null  float64\n",
      " 24  primary_cleaner.state.floatbank8_b_air              19435 non-null  float64\n",
      " 25  primary_cleaner.state.floatbank8_b_level            19438 non-null  float64\n",
      " 26  primary_cleaner.state.floatbank8_c_air              19437 non-null  float64\n",
      " 27  primary_cleaner.state.floatbank8_c_level            19438 non-null  float64\n",
      " 28  primary_cleaner.state.floatbank8_d_air              19436 non-null  float64\n",
      " 29  primary_cleaner.state.floatbank8_d_level            19438 non-null  float64\n",
      " 30  rougher.calculation.sulfate_to_au_concentrate       19437 non-null  float64\n",
      " 31  rougher.calculation.floatbank10_sulfate_to_au_feed  19437 non-null  float64\n",
      " 32  rougher.calculation.floatbank11_sulfate_to_au_feed  19437 non-null  float64\n",
      " 33  rougher.calculation.au_pb_ratio                     19439 non-null  float64\n",
      " 34  rougher.input.feed_ag                               19439 non-null  float64\n",
      " 35  rougher.input.feed_pb                               19339 non-null  float64\n",
      " 36  rougher.input.feed_rate                             19428 non-null  float64\n",
      " 37  rougher.input.feed_size                             19294 non-null  float64\n",
      " 38  rougher.input.feed_sol                              19340 non-null  float64\n",
      " 39  rougher.input.feed_au                               19439 non-null  float64\n",
      " 40  rougher.input.floatbank10_sulfate                   19405 non-null  float64\n",
      " 41  rougher.input.floatbank10_xanthate                  19431 non-null  float64\n",
      " 42  rougher.input.floatbank11_sulfate                   19395 non-null  float64\n",
      " 43  rougher.input.floatbank11_xanthate                  18986 non-null  float64\n",
      " 44  rougher.output.concentrate_ag                       19439 non-null  float64\n",
      " 45  rougher.output.concentrate_pb                       19439 non-null  float64\n",
      " 46  rougher.output.concentrate_sol                      19416 non-null  float64\n",
      " 47  rougher.output.concentrate_au                       19439 non-null  float64\n",
      " 48  rougher.output.recovery                             19439 non-null  float64\n",
      " 49  rougher.output.tail_ag                              19438 non-null  float64\n",
      " 50  rougher.output.tail_pb                              19439 non-null  float64\n",
      " 51  rougher.output.tail_sol                             19439 non-null  float64\n",
      " 52  rougher.output.tail_au                              19439 non-null  float64\n",
      " 53  rougher.state.floatbank10_a_air                     19438 non-null  float64\n",
      " 54  rougher.state.floatbank10_a_level                   19438 non-null  float64\n",
      " 55  rougher.state.floatbank10_b_air                     19438 non-null  float64\n",
      " 56  rougher.state.floatbank10_b_level                   19438 non-null  float64\n",
      " 57  rougher.state.floatbank10_c_air                     19438 non-null  float64\n",
      " 58  rougher.state.floatbank10_c_level                   19438 non-null  float64\n",
      " 59  rougher.state.floatbank10_d_air                     19439 non-null  float64\n",
      " 60  rougher.state.floatbank10_d_level                   19439 non-null  float64\n",
      " 61  rougher.state.floatbank10_e_air                     19003 non-null  float64\n",
      " 62  rougher.state.floatbank10_e_level                   19439 non-null  float64\n",
      " 63  rougher.state.floatbank10_f_air                     19439 non-null  float64\n",
      " 64  rougher.state.floatbank10_f_level                   19439 non-null  float64\n",
      " 65  secondary_cleaner.output.tail_ag                    19437 non-null  float64\n",
      " 66  secondary_cleaner.output.tail_pb                    19427 non-null  float64\n",
      " 67  secondary_cleaner.output.tail_sol                   17691 non-null  float64\n",
      " 68  secondary_cleaner.output.tail_au                    19439 non-null  float64\n",
      " 69  secondary_cleaner.state.floatbank2_a_air            19219 non-null  float64\n",
      " 70  secondary_cleaner.state.floatbank2_a_level          19438 non-null  float64\n",
      " 71  secondary_cleaner.state.floatbank2_b_air            19416 non-null  float64\n",
      " 72  secondary_cleaner.state.floatbank2_b_level          19438 non-null  float64\n",
      " 73  secondary_cleaner.state.floatbank3_a_air            19426 non-null  float64\n",
      " 74  secondary_cleaner.state.floatbank3_a_level          19438 non-null  float64\n",
      " 75  secondary_cleaner.state.floatbank3_b_air            19438 non-null  float64\n",
      " 76  secondary_cleaner.state.floatbank3_b_level          19438 non-null  float64\n",
      " 77  secondary_cleaner.state.floatbank4_a_air            19433 non-null  float64\n",
      " 78  secondary_cleaner.state.floatbank4_a_level          19438 non-null  float64\n",
      " 79  secondary_cleaner.state.floatbank4_b_air            19438 non-null  float64\n",
      " 80  secondary_cleaner.state.floatbank4_b_level          19438 non-null  float64\n",
      " 81  secondary_cleaner.state.floatbank5_a_air            19438 non-null  float64\n",
      " 82  secondary_cleaner.state.floatbank5_a_level          19438 non-null  float64\n",
      " 83  secondary_cleaner.state.floatbank5_b_air            19438 non-null  float64\n",
      " 84  secondary_cleaner.state.floatbank5_b_level          19438 non-null  float64\n",
      " 85  secondary_cleaner.state.floatbank6_a_air            19437 non-null  float64\n",
      " 86  secondary_cleaner.state.floatbank6_a_level          19438 non-null  float64\n",
      "dtypes: float64(86), object(1)\n",
      "memory usage: 12.9+ MB\n",
      "None\n",
      "\n",
      "                                              count unique  \\\n",
      "date                                          19439  19439   \n",
      "final.output.concentrate_ag                 19438.0    NaN   \n",
      "final.output.concentrate_pb                 19438.0    NaN   \n",
      "final.output.concentrate_sol                19228.0    NaN   \n",
      "final.output.concentrate_au                 19439.0    NaN   \n",
      "...                                             ...    ...   \n",
      "secondary_cleaner.state.floatbank5_a_level  19438.0    NaN   \n",
      "secondary_cleaner.state.floatbank5_b_air    19438.0    NaN   \n",
      "secondary_cleaner.state.floatbank5_b_level  19438.0    NaN   \n",
      "secondary_cleaner.state.floatbank6_a_air    19437.0    NaN   \n",
      "secondary_cleaner.state.floatbank6_a_level  19438.0    NaN   \n",
      "\n",
      "                                                            top freq  \\\n",
      "date                                        2016-01-15 00:00:00    1   \n",
      "final.output.concentrate_ag                                 NaN  NaN   \n",
      "final.output.concentrate_pb                                 NaN  NaN   \n",
      "final.output.concentrate_sol                                NaN  NaN   \n",
      "final.output.concentrate_au                                 NaN  NaN   \n",
      "...                                                         ...  ...   \n",
      "secondary_cleaner.state.floatbank5_a_level                  NaN  NaN   \n",
      "secondary_cleaner.state.floatbank5_b_air                    NaN  NaN   \n",
      "secondary_cleaner.state.floatbank5_b_level                  NaN  NaN   \n",
      "secondary_cleaner.state.floatbank6_a_air                    NaN  NaN   \n",
      "secondary_cleaner.state.floatbank6_a_level                  NaN  NaN   \n",
      "\n",
      "                                                  mean        std         min  \\\n",
      "date                                               NaN        NaN         NaN   \n",
      "final.output.concentrate_ag                    5.16847   1.372348         0.0   \n",
      "final.output.concentrate_pb                   9.978895    1.66924         0.0   \n",
      "final.output.concentrate_sol                  9.501224   2.787537         0.0   \n",
      "final.output.concentrate_au                  44.076513   5.129784         0.0   \n",
      "...                                                ...        ...         ...   \n",
      "secondary_cleaner.state.floatbank5_a_level -488.684065  34.533396 -797.323986   \n",
      "secondary_cleaner.state.floatbank5_b_air     12.198224   5.333024    0.528083   \n",
      "secondary_cleaner.state.floatbank5_b_level -487.149827  38.347312 -800.220337   \n",
      "secondary_cleaner.state.floatbank6_a_air     18.959024   5.550498   -0.079426   \n",
      "secondary_cleaner.state.floatbank6_a_level -505.436305  37.689057 -809.741464   \n",
      "\n",
      "                                                   25%         50%  \\\n",
      "date                                               NaN         NaN   \n",
      "final.output.concentrate_ag                    4.25124    5.066094   \n",
      "final.output.concentrate_pb                   9.137262   10.102433   \n",
      "final.output.concentrate_sol                   7.72282    9.218961   \n",
      "final.output.concentrate_au                  43.402215   45.011244   \n",
      "...                                                ...         ...   \n",
      "secondary_cleaner.state.floatbank5_a_level -500.458467 -499.802605   \n",
      "secondary_cleaner.state.floatbank5_b_air      8.971105   11.019433   \n",
      "secondary_cleaner.state.floatbank5_b_level -500.129462 -499.935317   \n",
      "secondary_cleaner.state.floatbank6_a_air     14.983037   19.960541   \n",
      "secondary_cleaner.state.floatbank6_a_level -500.728067   -500.0484   \n",
      "\n",
      "                                                   75%         max  \n",
      "date                                               NaN         NaN  \n",
      "final.output.concentrate_ag                   5.895527   16.001945  \n",
      "final.output.concentrate_pb                  11.035769   17.031899  \n",
      "final.output.concentrate_sol                 10.947813    19.61572  \n",
      "final.output.concentrate_au                  46.275313   52.756638  \n",
      "...                                                ...         ...  \n",
      "secondary_cleaner.state.floatbank5_a_level -498.384187 -244.483566  \n",
      "secondary_cleaner.state.floatbank5_b_air     14.019088   27.926001  \n",
      "secondary_cleaner.state.floatbank5_b_level -499.436708 -137.740004  \n",
      "secondary_cleaner.state.floatbank6_a_air      24.00317   32.188906  \n",
      "secondary_cleaner.state.floatbank6_a_level -499.495378 -104.427459  \n",
      "\n",
      "[87 rows x 11 columns]\n",
      "\n",
      "                                                              0  \\\n",
      "date                                        2016-01-15 00:00:00   \n",
      "final.output.concentrate_ag                            6.055403   \n",
      "final.output.concentrate_pb                            9.889648   \n",
      "final.output.concentrate_sol                           5.507324   \n",
      "final.output.concentrate_au                            42.19202   \n",
      "...                                                         ...   \n",
      "secondary_cleaner.state.floatbank5_a_level          -498.310211   \n",
      "secondary_cleaner.state.floatbank5_b_air               8.079666   \n",
      "secondary_cleaner.state.floatbank5_b_level          -500.470978   \n",
      "secondary_cleaner.state.floatbank6_a_air              14.151341   \n",
      "secondary_cleaner.state.floatbank6_a_level           -605.84198   \n",
      "\n",
      "                                                              1  \\\n",
      "date                                        2016-01-15 01:00:00   \n",
      "final.output.concentrate_ag                            6.029369   \n",
      "final.output.concentrate_pb                            9.968944   \n",
      "final.output.concentrate_sol                           5.257781   \n",
      "final.output.concentrate_au                           42.701629   \n",
      "...                                                         ...   \n",
      "secondary_cleaner.state.floatbank5_a_level          -500.169983   \n",
      "secondary_cleaner.state.floatbank5_b_air               7.984757   \n",
      "secondary_cleaner.state.floatbank5_b_level          -500.582168   \n",
      "secondary_cleaner.state.floatbank6_a_air              13.998353   \n",
      "secondary_cleaner.state.floatbank6_a_level          -599.787184   \n",
      "\n",
      "                                                              2  \\\n",
      "date                                        2016-01-15 02:00:00   \n",
      "final.output.concentrate_ag                            6.055926   \n",
      "final.output.concentrate_pb                           10.213995   \n",
      "final.output.concentrate_sol                           5.383759   \n",
      "final.output.concentrate_au                           42.657501   \n",
      "...                                                         ...   \n",
      "secondary_cleaner.state.floatbank5_a_level          -500.129135   \n",
      "secondary_cleaner.state.floatbank5_b_air               8.013877   \n",
      "secondary_cleaner.state.floatbank5_b_level          -500.517572   \n",
      "secondary_cleaner.state.floatbank6_a_air              14.028663   \n",
      "secondary_cleaner.state.floatbank6_a_level          -601.427363   \n",
      "\n",
      "                                                              3  \\\n",
      "date                                        2016-01-15 03:00:00   \n",
      "final.output.concentrate_ag                            6.047977   \n",
      "final.output.concentrate_pb                            9.977019   \n",
      "final.output.concentrate_sol                           4.858634   \n",
      "final.output.concentrate_au                           42.689819   \n",
      "...                                                         ...   \n",
      "secondary_cleaner.state.floatbank5_a_level           -499.20164   \n",
      "secondary_cleaner.state.floatbank5_b_air               7.977324   \n",
      "secondary_cleaner.state.floatbank5_b_level          -500.255908   \n",
      "secondary_cleaner.state.floatbank6_a_air              14.005551   \n",
      "secondary_cleaner.state.floatbank6_a_level          -599.996129   \n",
      "\n",
      "                                                              4  \n",
      "date                                        2016-01-15 04:00:00  \n",
      "final.output.concentrate_ag                            6.148599  \n",
      "final.output.concentrate_pb                           10.142511  \n",
      "final.output.concentrate_sol                           4.939416  \n",
      "final.output.concentrate_au                           42.774141  \n",
      "...                                                         ...  \n",
      "secondary_cleaner.state.floatbank5_a_level          -501.686727  \n",
      "secondary_cleaner.state.floatbank5_b_air               7.894242  \n",
      "secondary_cleaner.state.floatbank5_b_level          -500.356035  \n",
      "secondary_cleaner.state.floatbank6_a_air              13.996647  \n",
      "secondary_cleaner.state.floatbank6_a_level          -601.496691  \n",
      "\n",
      "[87 rows x 5 columns]\n",
      "\n"
     ]
    }
   ],
   "source": [
    "for df in df_list:\n",
    "    check(df)"
   ]
  },
  {
   "cell_type": "markdown",
   "metadata": {},
   "source": [
    "Данные читаемы, пропуски есть, формат данных date необходимо изменить, дубли отсутствуют."
   ]
  },
  {
   "cell_type": "markdown",
   "metadata": {},
   "source": [
    "### Проверка правильности расчета эффективности обогащения"
   ]
  },
  {
   "cell_type": "markdown",
   "metadata": {},
   "source": [
    "Вычислим эффективность обогащения на обучающей выборке для признака `rougher.output.recovery`."
   ]
  },
  {
   "cell_type": "markdown",
   "metadata": {},
   "source": [
    "C = `rougher.output.concentrate_au`\n",
    "\n",
    "F = `rougher.input.feed_au`\n",
    "\n",
    "T = `rougher.output.tail_au` "
   ]
  },
  {
   "cell_type": "code",
   "execution_count": 6,
   "metadata": {},
   "outputs": [],
   "source": [
    "train['rougher_output_recovery'] = (\n",
    "    train['rougher.output.concentrate_au'] * (train['rougher.input.feed_au'] - train['rougher.output.tail_au']) / \n",
    "    (train['rougher.input.feed_au'] * (train['rougher.output.concentrate_au'] - train['rougher.output.tail_au'])) * 100)"
   ]
  },
  {
   "cell_type": "markdown",
   "metadata": {},
   "source": [
    "Сравним вычисленный и предоставленный результаты."
   ]
  },
  {
   "cell_type": "markdown",
   "metadata": {},
   "source": [
    "Выведем на экран."
   ]
  },
  {
   "cell_type": "code",
   "execution_count": 7,
   "metadata": {
    "scrolled": true
   },
   "outputs": [
    {
     "data": {
      "text/html": [
       "<div>\n",
       "<style scoped>\n",
       "    .dataframe tbody tr th:only-of-type {\n",
       "        vertical-align: middle;\n",
       "    }\n",
       "\n",
       "    .dataframe tbody tr th {\n",
       "        vertical-align: top;\n",
       "    }\n",
       "\n",
       "    .dataframe thead th {\n",
       "        text-align: right;\n",
       "    }\n",
       "</style>\n",
       "<table border=\"1\" class=\"dataframe\">\n",
       "  <thead>\n",
       "    <tr style=\"text-align: right;\">\n",
       "      <th></th>\n",
       "      <th>rougher_output_recovery</th>\n",
       "      <th>rougher.output.recovery</th>\n",
       "    </tr>\n",
       "  </thead>\n",
       "  <tbody>\n",
       "    <tr>\n",
       "      <th>0</th>\n",
       "      <td>87.107763</td>\n",
       "      <td>87.107763</td>\n",
       "    </tr>\n",
       "    <tr>\n",
       "      <th>1</th>\n",
       "      <td>86.843261</td>\n",
       "      <td>86.843261</td>\n",
       "    </tr>\n",
       "    <tr>\n",
       "      <th>2</th>\n",
       "      <td>86.842308</td>\n",
       "      <td>86.842308</td>\n",
       "    </tr>\n",
       "    <tr>\n",
       "      <th>3</th>\n",
       "      <td>87.226430</td>\n",
       "      <td>87.226430</td>\n",
       "    </tr>\n",
       "    <tr>\n",
       "      <th>4</th>\n",
       "      <td>86.688794</td>\n",
       "      <td>86.688794</td>\n",
       "    </tr>\n",
       "  </tbody>\n",
       "</table>\n",
       "</div>"
      ],
      "text/plain": [
       "   rougher_output_recovery  rougher.output.recovery\n",
       "0                87.107763                87.107763\n",
       "1                86.843261                86.843261\n",
       "2                86.842308                86.842308\n",
       "3                87.226430                87.226430\n",
       "4                86.688794                86.688794"
      ]
     },
     "execution_count": 7,
     "metadata": {},
     "output_type": "execute_result"
    }
   ],
   "source": [
    "train.loc[:, ['rougher_output_recovery', 'rougher.output.recovery']].head()"
   ]
  },
  {
   "cell_type": "markdown",
   "metadata": {},
   "source": [
    "Выведем объекты отличающиеся величиной исследуемых признаков."
   ]
  },
  {
   "cell_type": "code",
   "execution_count": 8,
   "metadata": {},
   "outputs": [
    {
     "data": {
      "text/html": [
       "<div>\n",
       "<style scoped>\n",
       "    .dataframe tbody tr th:only-of-type {\n",
       "        vertical-align: middle;\n",
       "    }\n",
       "\n",
       "    .dataframe tbody tr th {\n",
       "        vertical-align: top;\n",
       "    }\n",
       "\n",
       "    .dataframe thead th {\n",
       "        text-align: right;\n",
       "    }\n",
       "</style>\n",
       "<table border=\"1\" class=\"dataframe\">\n",
       "  <thead>\n",
       "    <tr style=\"text-align: right;\">\n",
       "      <th></th>\n",
       "      <th>rougher_output_recovery</th>\n",
       "      <th>rougher.output.recovery</th>\n",
       "    </tr>\n",
       "  </thead>\n",
       "  <tbody>\n",
       "  </tbody>\n",
       "</table>\n",
       "</div>"
      ],
      "text/plain": [
       "Empty DataFrame\n",
       "Columns: [rougher_output_recovery, rougher.output.recovery]\n",
       "Index: []"
      ]
     },
     "execution_count": 8,
     "metadata": {},
     "output_type": "execute_result"
    }
   ],
   "source": [
    "(train.loc[train['rougher_output_recovery'] - train['rougher_output_recovery'] != 0, \n",
    "           ['rougher_output_recovery', 'rougher.output.recovery']])"
   ]
  },
  {
   "cell_type": "markdown",
   "metadata": {},
   "source": [
    "Таковых нет."
   ]
  },
  {
   "cell_type": "markdown",
   "metadata": {},
   "source": [
    "Проверим дополнительно, просуммировав разницу."
   ]
  },
  {
   "cell_type": "code",
   "execution_count": 9,
   "metadata": {},
   "outputs": [
    {
     "data": {
      "text/plain": [
       "0.0"
      ]
     },
     "execution_count": 9,
     "metadata": {},
     "output_type": "execute_result"
    }
   ],
   "source": [
    "(train['rougher_output_recovery'] - train['rougher_output_recovery']).sum()"
   ]
  },
  {
   "cell_type": "markdown",
   "metadata": {},
   "source": [
    " Найдём MAE между вашими расчётами и значением признака."
   ]
  },
  {
   "cell_type": "code",
   "execution_count": 10,
   "metadata": {},
   "outputs": [
    {
     "data": {
      "text/plain": [
       "9.73512347450521e-15"
      ]
     },
     "execution_count": 10,
     "metadata": {},
     "output_type": "execute_result"
    }
   ],
   "source": [
    "mean_absolute_error(train['rougher.output.recovery'], train['rougher_output_recovery'])"
   ]
  },
  {
   "cell_type": "markdown",
   "metadata": {},
   "source": [
    "Величина стремится к нулю."
   ]
  },
  {
   "cell_type": "markdown",
   "metadata": {},
   "source": [
    "Можем сделать вывод, что величины эффективности обогащения в предоставленных нам данных вычислены корректно."
   ]
  },
  {
   "cell_type": "markdown",
   "metadata": {},
   "source": [
    "### Проанализируйте признаки, недоступные в тестовой выборке. Что это за параметры? К какому типу относятся?"
   ]
  },
  {
   "cell_type": "markdown",
   "metadata": {},
   "source": [
    "Выведем признаки, недоступные в тестовой выборке."
   ]
  },
  {
   "cell_type": "code",
   "execution_count": 11,
   "metadata": {},
   "outputs": [],
   "source": [
    "extra_col = []\n",
    "train_col = train.columns \n",
    "test_col = test.columns"
   ]
  },
  {
   "cell_type": "code",
   "execution_count": 12,
   "metadata": {},
   "outputs": [
    {
     "name": "stdout",
     "output_type": "stream",
     "text": [
      "final.output.concentrate_ag\n",
      "final.output.concentrate_pb\n",
      "final.output.concentrate_sol\n",
      "final.output.concentrate_au\n",
      "final.output.recovery\n",
      "final.output.tail_ag\n",
      "final.output.tail_pb\n",
      "final.output.tail_sol\n",
      "final.output.tail_au\n",
      "primary_cleaner.output.concentrate_ag\n",
      "primary_cleaner.output.concentrate_pb\n",
      "primary_cleaner.output.concentrate_sol\n",
      "primary_cleaner.output.concentrate_au\n",
      "primary_cleaner.output.tail_ag\n",
      "primary_cleaner.output.tail_pb\n",
      "primary_cleaner.output.tail_sol\n",
      "primary_cleaner.output.tail_au\n",
      "rougher.calculation.sulfate_to_au_concentrate\n",
      "rougher.calculation.floatbank10_sulfate_to_au_feed\n",
      "rougher.calculation.floatbank11_sulfate_to_au_feed\n",
      "rougher.calculation.au_pb_ratio\n",
      "rougher.output.concentrate_ag\n",
      "rougher.output.concentrate_pb\n",
      "rougher.output.concentrate_sol\n",
      "rougher.output.concentrate_au\n",
      "rougher.output.recovery\n",
      "rougher.output.tail_ag\n",
      "rougher.output.tail_pb\n",
      "rougher.output.tail_sol\n",
      "rougher.output.tail_au\n",
      "secondary_cleaner.output.tail_ag\n",
      "secondary_cleaner.output.tail_pb\n",
      "secondary_cleaner.output.tail_sol\n",
      "secondary_cleaner.output.tail_au\n",
      "rougher_output_recovery\n"
     ]
    }
   ],
   "source": [
    "for col in train.columns:\n",
    "    if col not in test.columns:\n",
    "        print(col)"
   ]
  },
  {
   "cell_type": "markdown",
   "metadata": {},
   "source": [
    "Признаки, недоступные в тестовой выборке, являются выходными данными. При использовании модели эти данные будут недоступны."
   ]
  },
  {
   "cell_type": "markdown",
   "metadata": {},
   "source": [
    "### Предобработка данных"
   ]
  },
  {
   "cell_type": "markdown",
   "metadata": {},
   "source": [
    "Выведем текущие индексы."
   ]
  },
  {
   "cell_type": "code",
   "execution_count": 13,
   "metadata": {},
   "outputs": [
    {
     "name": "stdout",
     "output_type": "stream",
     "text": [
      "RangeIndex(start=0, stop=14149, step=1)\n",
      "RangeIndex(start=0, stop=5290, step=1)\n",
      "RangeIndex(start=0, stop=19439, step=1)\n"
     ]
    }
   ],
   "source": [
    "for df in df_list:\n",
    "    print(df.index)"
   ]
  },
  {
   "cell_type": "markdown",
   "metadata": {},
   "source": [
    "Выведем даты."
   ]
  },
  {
   "cell_type": "code",
   "execution_count": 14,
   "metadata": {},
   "outputs": [
    {
     "name": "stdout",
     "output_type": "stream",
     "text": [
      "0    2016-01-15 00:00:00\n",
      "1    2016-01-15 01:00:00\n",
      "2    2016-01-15 02:00:00\n",
      "3    2016-01-15 03:00:00\n",
      "4    2016-01-15 04:00:00\n",
      "Name: date, dtype: object\n",
      "14144    2018-08-18 06:59:59\n",
      "14145    2018-08-18 07:59:59\n",
      "14146    2018-08-18 08:59:59\n",
      "14147    2018-08-18 09:59:59\n",
      "14148    2018-08-18 10:59:59\n",
      "Name: date, dtype: object\n",
      "0    2016-09-01 00:59:59\n",
      "1    2016-09-01 01:59:59\n",
      "2    2016-09-01 02:59:59\n",
      "3    2016-09-01 03:59:59\n",
      "4    2016-09-01 04:59:59\n",
      "Name: date, dtype: object\n",
      "5285    2017-12-31 19:59:59\n",
      "5286    2017-12-31 20:59:59\n",
      "5287    2017-12-31 21:59:59\n",
      "5288    2017-12-31 22:59:59\n",
      "5289    2017-12-31 23:59:59\n",
      "Name: date, dtype: object\n",
      "0    2016-01-15 00:00:00\n",
      "1    2016-01-15 01:00:00\n",
      "2    2016-01-15 02:00:00\n",
      "3    2016-01-15 03:00:00\n",
      "4    2016-01-15 04:00:00\n",
      "Name: date, dtype: object\n",
      "19434    2018-08-18 06:59:59\n",
      "19435    2018-08-18 07:59:59\n",
      "19436    2018-08-18 08:59:59\n",
      "19437    2018-08-18 09:59:59\n",
      "19438    2018-08-18 10:59:59\n",
      "Name: date, dtype: object\n"
     ]
    }
   ],
   "source": [
    "for df in df_list:\n",
    "    print(df.date.head())\n",
    "    print(df.date.tail())"
   ]
  },
  {
   "cell_type": "markdown",
   "metadata": {},
   "source": [
    "Приведем тип данных `date` к соответствующему и проиндексируем по этому признаку имеющиеся выборки."
   ]
  },
  {
   "cell_type": "markdown",
   "metadata": {},
   "source": [
    "Данные изменения позволят в дальнейшем связать выборки по индексу."
   ]
  },
  {
   "cell_type": "code",
   "execution_count": 15,
   "metadata": {},
   "outputs": [],
   "source": [
    "FORMAT_DATETIME = '%Y-%m-%d %H:%M:%S'"
   ]
  },
  {
   "cell_type": "code",
   "execution_count": 16,
   "metadata": {},
   "outputs": [],
   "source": [
    "for df in df_list:\n",
    "    df['date'] = (\n",
    "        pd\n",
    "        .to_datetime(df['date'], format=FORMAT_DATETIME)\n",
    "        .dt.round('1H')\n",
    "    )"
   ]
  },
  {
   "cell_type": "code",
   "execution_count": 17,
   "metadata": {},
   "outputs": [],
   "source": [
    "for df in df_list:\n",
    "    df.set_index('date', inplace=True)"
   ]
  },
  {
   "cell_type": "markdown",
   "metadata": {},
   "source": [
    "Проверим результат."
   ]
  },
  {
   "cell_type": "code",
   "execution_count": 18,
   "metadata": {},
   "outputs": [
    {
     "name": "stdout",
     "output_type": "stream",
     "text": [
      "DatetimeIndex(['2016-01-15 00:00:00', '2016-01-15 01:00:00',\n",
      "               '2016-01-15 02:00:00', '2016-01-15 03:00:00',\n",
      "               '2016-01-15 04:00:00', '2016-01-15 05:00:00',\n",
      "               '2016-01-15 06:00:00', '2016-01-15 07:00:00',\n",
      "               '2016-01-15 08:00:00', '2016-01-15 09:00:00',\n",
      "               ...\n",
      "               '2018-08-18 02:00:00', '2018-08-18 03:00:00',\n",
      "               '2018-08-18 04:00:00', '2018-08-18 05:00:00',\n",
      "               '2018-08-18 06:00:00', '2018-08-18 07:00:00',\n",
      "               '2018-08-18 08:00:00', '2018-08-18 09:00:00',\n",
      "               '2018-08-18 10:00:00', '2018-08-18 11:00:00'],\n",
      "              dtype='datetime64[ns]', name='date', length=14149, freq=None)\n",
      "DatetimeIndex(['2016-09-01 01:00:00', '2016-09-01 02:00:00',\n",
      "               '2016-09-01 03:00:00', '2016-09-01 04:00:00',\n",
      "               '2016-09-01 05:00:00', '2016-09-01 06:00:00',\n",
      "               '2016-09-01 07:00:00', '2016-09-01 08:00:00',\n",
      "               '2016-09-01 09:00:00', '2016-09-01 10:00:00',\n",
      "               ...\n",
      "               '2017-12-31 15:00:00', '2017-12-31 16:00:00',\n",
      "               '2017-12-31 17:00:00', '2017-12-31 18:00:00',\n",
      "               '2017-12-31 19:00:00', '2017-12-31 20:00:00',\n",
      "               '2017-12-31 21:00:00', '2017-12-31 22:00:00',\n",
      "               '2017-12-31 23:00:00', '2018-01-01 00:00:00'],\n",
      "              dtype='datetime64[ns]', name='date', length=5290, freq=None)\n",
      "DatetimeIndex(['2016-01-15 00:00:00', '2016-01-15 01:00:00',\n",
      "               '2016-01-15 02:00:00', '2016-01-15 03:00:00',\n",
      "               '2016-01-15 04:00:00', '2016-01-15 05:00:00',\n",
      "               '2016-01-15 06:00:00', '2016-01-15 07:00:00',\n",
      "               '2016-01-15 08:00:00', '2016-01-15 09:00:00',\n",
      "               ...\n",
      "               '2018-08-18 02:00:00', '2018-08-18 03:00:00',\n",
      "               '2018-08-18 04:00:00', '2018-08-18 05:00:00',\n",
      "               '2018-08-18 06:00:00', '2018-08-18 07:00:00',\n",
      "               '2018-08-18 08:00:00', '2018-08-18 09:00:00',\n",
      "               '2018-08-18 10:00:00', '2018-08-18 11:00:00'],\n",
      "              dtype='datetime64[ns]', name='date', length=19439, freq=None)\n"
     ]
    }
   ],
   "source": [
    "for df in df_list:\n",
    "    print(df.index)"
   ]
  },
  {
   "cell_type": "markdown",
   "metadata": {},
   "source": [
    "Преобразования выполнены успешно, желаемый результат достигнут."
   ]
  },
  {
   "cell_type": "markdown",
   "metadata": {},
   "source": [
    "Отберем признаки для обучения модели."
   ]
  },
  {
   "cell_type": "markdown",
   "metadata": {},
   "source": [
    "Рассмотрим 3 концепции:\n",
    "- нам нужны только те признаки, которые характеризуют сырье на входе\n",
    "- нам нужны только те признаки, которые характеризуют все входные данные\n",
    "- нам нужны все признаки, которые имеются на момент подачи сырья, включая текущее состояние оборудования, занятого на последующих этапах производства "
   ]
  },
  {
   "cell_type": "markdown",
   "metadata": {},
   "source": [
    "Отберем признаки, которые характеризуют сырье на входе:"
   ]
  },
  {
   "cell_type": "code",
   "execution_count": 19,
   "metadata": {},
   "outputs": [],
   "source": [
    "input_feed_col = []\n",
    "for col in train.columns:\n",
    "    if 'rougher.input.feed' in col:\n",
    "        input_feed_col.append(col)"
   ]
  },
  {
   "cell_type": "code",
   "execution_count": 20,
   "metadata": {},
   "outputs": [
    {
     "data": {
      "text/plain": [
       "['rougher.input.feed_ag',\n",
       " 'rougher.input.feed_pb',\n",
       " 'rougher.input.feed_rate',\n",
       " 'rougher.input.feed_size',\n",
       " 'rougher.input.feed_sol',\n",
       " 'rougher.input.feed_au']"
      ]
     },
     "execution_count": 20,
     "metadata": {},
     "output_type": "execute_result"
    }
   ],
   "source": [
    "input_feed_col"
   ]
  },
  {
   "cell_type": "markdown",
   "metadata": {},
   "source": [
    "Отберем признаки, которые характеризуют все входные данные:"
   ]
  },
  {
   "cell_type": "code",
   "execution_count": 21,
   "metadata": {},
   "outputs": [],
   "source": [
    "input_col = []\n",
    "for col in train.columns:\n",
    "    if 'rougher.input.' in col:\n",
    "        input_col.append(col)"
   ]
  },
  {
   "cell_type": "code",
   "execution_count": 22,
   "metadata": {},
   "outputs": [
    {
     "data": {
      "text/plain": [
       "['rougher.input.feed_ag',\n",
       " 'rougher.input.feed_pb',\n",
       " 'rougher.input.feed_rate',\n",
       " 'rougher.input.feed_size',\n",
       " 'rougher.input.feed_sol',\n",
       " 'rougher.input.feed_au',\n",
       " 'rougher.input.floatbank10_sulfate',\n",
       " 'rougher.input.floatbank10_xanthate',\n",
       " 'rougher.input.floatbank11_sulfate',\n",
       " 'rougher.input.floatbank11_xanthate']"
      ]
     },
     "execution_count": 22,
     "metadata": {},
     "output_type": "execute_result"
    }
   ],
   "source": [
    "input_col"
   ]
  },
  {
   "cell_type": "markdown",
   "metadata": {},
   "source": [
    "Отберем все признаки, которые имеются на момент подачи сырья:"
   ]
  },
  {
   "cell_type": "code",
   "execution_count": 23,
   "metadata": {},
   "outputs": [],
   "source": [
    "features_full = []\n",
    "for col in train.columns:\n",
    "    if col in test.columns:\n",
    "        features_full.append(col)"
   ]
  },
  {
   "cell_type": "code",
   "execution_count": 24,
   "metadata": {},
   "outputs": [
    {
     "data": {
      "text/plain": [
       "['primary_cleaner.input.sulfate',\n",
       " 'primary_cleaner.input.depressant',\n",
       " 'primary_cleaner.input.feed_size',\n",
       " 'primary_cleaner.input.xanthate',\n",
       " 'primary_cleaner.state.floatbank8_a_air',\n",
       " 'primary_cleaner.state.floatbank8_a_level',\n",
       " 'primary_cleaner.state.floatbank8_b_air',\n",
       " 'primary_cleaner.state.floatbank8_b_level',\n",
       " 'primary_cleaner.state.floatbank8_c_air',\n",
       " 'primary_cleaner.state.floatbank8_c_level',\n",
       " 'primary_cleaner.state.floatbank8_d_air',\n",
       " 'primary_cleaner.state.floatbank8_d_level',\n",
       " 'rougher.input.feed_ag',\n",
       " 'rougher.input.feed_pb',\n",
       " 'rougher.input.feed_rate',\n",
       " 'rougher.input.feed_size',\n",
       " 'rougher.input.feed_sol',\n",
       " 'rougher.input.feed_au',\n",
       " 'rougher.input.floatbank10_sulfate',\n",
       " 'rougher.input.floatbank10_xanthate',\n",
       " 'rougher.input.floatbank11_sulfate',\n",
       " 'rougher.input.floatbank11_xanthate',\n",
       " 'rougher.state.floatbank10_a_air',\n",
       " 'rougher.state.floatbank10_a_level',\n",
       " 'rougher.state.floatbank10_b_air',\n",
       " 'rougher.state.floatbank10_b_level',\n",
       " 'rougher.state.floatbank10_c_air',\n",
       " 'rougher.state.floatbank10_c_level',\n",
       " 'rougher.state.floatbank10_d_air',\n",
       " 'rougher.state.floatbank10_d_level',\n",
       " 'rougher.state.floatbank10_e_air',\n",
       " 'rougher.state.floatbank10_e_level',\n",
       " 'rougher.state.floatbank10_f_air',\n",
       " 'rougher.state.floatbank10_f_level',\n",
       " 'secondary_cleaner.state.floatbank2_a_air',\n",
       " 'secondary_cleaner.state.floatbank2_a_level',\n",
       " 'secondary_cleaner.state.floatbank2_b_air',\n",
       " 'secondary_cleaner.state.floatbank2_b_level',\n",
       " 'secondary_cleaner.state.floatbank3_a_air',\n",
       " 'secondary_cleaner.state.floatbank3_a_level',\n",
       " 'secondary_cleaner.state.floatbank3_b_air',\n",
       " 'secondary_cleaner.state.floatbank3_b_level',\n",
       " 'secondary_cleaner.state.floatbank4_a_air',\n",
       " 'secondary_cleaner.state.floatbank4_a_level',\n",
       " 'secondary_cleaner.state.floatbank4_b_air',\n",
       " 'secondary_cleaner.state.floatbank4_b_level',\n",
       " 'secondary_cleaner.state.floatbank5_a_air',\n",
       " 'secondary_cleaner.state.floatbank5_a_level',\n",
       " 'secondary_cleaner.state.floatbank5_b_air',\n",
       " 'secondary_cleaner.state.floatbank5_b_level',\n",
       " 'secondary_cleaner.state.floatbank6_a_air',\n",
       " 'secondary_cleaner.state.floatbank6_a_level']"
      ]
     },
     "execution_count": 24,
     "metadata": {},
     "output_type": "execute_result"
    }
   ],
   "source": [
    "features_full"
   ]
  },
  {
   "cell_type": "markdown",
   "metadata": {},
   "source": [
    "Напишем функцию, автоматизирующую процесс формирования выборок для обучения моделей."
   ]
  },
  {
   "cell_type": "markdown",
   "metadata": {},
   "source": [
    "Объекты с отсутствующими признаками удалим: количество данных для обучения достаточное, замещения могут привести к искажению информации."
   ]
  },
  {
   "cell_type": "code",
   "execution_count": 25,
   "metadata": {},
   "outputs": [],
   "source": [
    "def features(df, features_col):\n",
    "    \n",
    "    features_for_model = df[features_col].dropna(axis=0, how='any', thresh=None, subset=None, inplace=False)\n",
    "    target_rougher = df['rougher.output.recovery'].loc[features_for_model.index]\n",
    "    target_final = df['final.output.recovery'].loc[features_for_model.index]\n",
    "    print(f'размер выборки до: {df.shape}, размер выборки после: {features_for_model.shape}')\n",
    "    features_target1_target2_list = [features_for_model, target_rougher, target_final]\n",
    "    \n",
    "    return features_target1_target2_list"
   ]
  },
  {
   "cell_type": "markdown",
   "metadata": {},
   "source": [
    "Применим функцию к каждому из интересующих нас списку признаков."
   ]
  },
  {
   "cell_type": "code",
   "execution_count": 26,
   "metadata": {},
   "outputs": [
    {
     "name": "stdout",
     "output_type": "stream",
     "text": [
      "размер выборки до: (14149, 87), размер выборки после: (13828, 6)\n"
     ]
    }
   ],
   "source": [
    "input_feed_list = features(train, input_feed_col)"
   ]
  },
  {
   "cell_type": "code",
   "execution_count": 27,
   "metadata": {},
   "outputs": [
    {
     "name": "stdout",
     "output_type": "stream",
     "text": [
      "размер выборки до: (14149, 87), размер выборки после: (13401, 10)\n"
     ]
    }
   ],
   "source": [
    "input_list = features(train, input_col)"
   ]
  },
  {
   "cell_type": "code",
   "execution_count": 28,
   "metadata": {},
   "outputs": [
    {
     "name": "stdout",
     "output_type": "stream",
     "text": [
      "размер выборки до: (14149, 87), размер выборки после: (12679, 52)\n"
     ]
    }
   ],
   "source": [
    "features_full_list = features(train, features_full)"
   ]
  },
  {
   "cell_type": "markdown",
   "metadata": {},
   "source": [
    "Сохраним полученные выборки в общую переменную."
   ]
  },
  {
   "cell_type": "code",
   "execution_count": 29,
   "metadata": {},
   "outputs": [],
   "source": [
    "features_vars = [input_feed_list, input_list, features_full_list]"
   ]
  },
  {
   "cell_type": "markdown",
   "metadata": {},
   "source": [
    "Модифицируем функцию для получения масштабированных признаков."
   ]
  },
  {
   "cell_type": "code",
   "execution_count": 30,
   "metadata": {},
   "outputs": [],
   "source": [
    "def scaled_features(df, features_col):\n",
    "    \n",
    "    features_for_model = df[features_col].dropna(axis=0, how='any', thresh=None, subset=None, inplace=False)\n",
    "    target_rougher = df['rougher.output.recovery'].loc[features_for_model.index]\n",
    "    target_final = df['final.output.recovery'].loc[features_for_model.index]\n",
    "    print(f'размер выборки до: {df.shape}, размер выборки после: {features_for_model.shape}')\n",
    "    scaler = StandardScaler()\n",
    "    scaler.fit(features_for_model)\n",
    "    scaled_features_for_model = scaler.transform(features_for_model)\n",
    "    scaled_features_target1_target2_scaler_list = [scaled_features_for_model, target_rougher, target_final, scaler]\n",
    "    \n",
    "    return scaled_features_target1_target2_scaler_list"
   ]
  },
  {
   "cell_type": "markdown",
   "metadata": {},
   "source": [
    "Применим модифицированную функцию к каждому из интересующих нас списку признаков."
   ]
  },
  {
   "cell_type": "code",
   "execution_count": 31,
   "metadata": {},
   "outputs": [
    {
     "name": "stdout",
     "output_type": "stream",
     "text": [
      "размер выборки до: (14149, 87), размер выборки после: (13828, 6)\n"
     ]
    }
   ],
   "source": [
    "scaled_input_feed_list = scaled_features(train, input_feed_col)"
   ]
  },
  {
   "cell_type": "code",
   "execution_count": 32,
   "metadata": {},
   "outputs": [
    {
     "name": "stdout",
     "output_type": "stream",
     "text": [
      "размер выборки до: (14149, 87), размер выборки после: (13401, 10)\n"
     ]
    }
   ],
   "source": [
    "scaled_input_list = scaled_features(train, input_col)"
   ]
  },
  {
   "cell_type": "code",
   "execution_count": 33,
   "metadata": {},
   "outputs": [
    {
     "name": "stdout",
     "output_type": "stream",
     "text": [
      "размер выборки до: (14149, 87), размер выборки после: (12679, 52)\n"
     ]
    }
   ],
   "source": [
    "scaled_features_full_list = scaled_features(train, features_full)"
   ]
  },
  {
   "cell_type": "markdown",
   "metadata": {},
   "source": [
    "Сохраним полученные выборки в общую переменную."
   ]
  },
  {
   "cell_type": "code",
   "execution_count": 34,
   "metadata": {},
   "outputs": [],
   "source": [
    "scaled_features_vars = [scaled_input_feed_list, scaled_input_list, scaled_features_full_list]"
   ]
  },
  {
   "cell_type": "markdown",
   "metadata": {},
   "source": [
    "Подготовим данные для тестовой выборки."
   ]
  },
  {
   "cell_type": "markdown",
   "metadata": {},
   "source": [
    "Дополним выборку таргетами."
   ]
  },
  {
   "cell_type": "code",
   "execution_count": 35,
   "metadata": {},
   "outputs": [
    {
     "name": "stdout",
     "output_type": "stream",
     "text": [
      "(5290, 54) (5290,) (5290,)\n"
     ]
    }
   ],
   "source": [
    "test['rougher.output.recovery'] = full['rougher.output.recovery'].loc[test.index]\n",
    "test['final.output.recovery'] = full['final.output.recovery'].loc[test.index]\n",
    "print(test.shape, test['rougher.output.recovery'].shape, test['final.output.recovery'].shape)"
   ]
  },
  {
   "cell_type": "markdown",
   "metadata": {},
   "source": [
    "Откорректируем функцию для варианта с максимальным количеством признаков и масштабированием (вариант выбран по результатам проверки моделей на обучающей выборке)."
   ]
  },
  {
   "cell_type": "code",
   "execution_count": 36,
   "metadata": {},
   "outputs": [],
   "source": [
    "def test_scaled_features(df, features_col):\n",
    "    \n",
    "    features_for_model = df[features_col].dropna(axis=0, how='any', thresh=None, subset=None, inplace=False)\n",
    "    target_rougher = df['rougher.output.recovery'].loc[features_for_model.index]\n",
    "    target_final = df['final.output.recovery'].loc[features_for_model.index]\n",
    "    print(f'размер выборки до: {df.shape}, размер выборки после: {features_for_model.shape}')\n",
    "    # используем уже обученный scaler - scaled_features_full_list[3]\n",
    "    scaled_features_for_model = scaled_features_full_list[3].transform(features_for_model)\n",
    "    scaled_features_target1_target2_list = [scaled_features_for_model, target_rougher, target_final]\n",
    "    \n",
    "    return scaled_features_target1_target2_list"
   ]
  },
  {
   "cell_type": "markdown",
   "metadata": {},
   "source": [
    "Применим функцию."
   ]
  },
  {
   "cell_type": "code",
   "execution_count": 37,
   "metadata": {},
   "outputs": [
    {
     "name": "stdout",
     "output_type": "stream",
     "text": [
      "размер выборки до: (5290, 54), размер выборки после: (5229, 52)\n"
     ]
    }
   ],
   "source": [
    "test_scaled_features_full_list = test_scaled_features(test, features_full)"
   ]
  },
  {
   "cell_type": "markdown",
   "metadata": {},
   "source": [
    "### Вывод"
   ]
  },
  {
   "cell_type": "markdown",
   "metadata": {},
   "source": [
    "Данные читаемы, пропуски есть, тип данных в графе `date` необходимо изменить, дубли отсутствуют.\n",
    "\n",
    "Величины эффективности обогащения в предоставленных нам данных вычислены корректно. MAE близок к 0.\n",
    "\n",
    "Признаки, недоступные в тестовой выборке, являются выходными данными. При использовании модели эти данные не потребуются.\n",
    "\n",
    "Произведена предобработка данных, сформированы наборы данных для обучения и тестирования моделей.\n",
    "\n",
    "[В начало раздела 1](#section_1)"
   ]
  },
  {
   "cell_type": "markdown",
   "metadata": {},
   "source": [
    "<a id=\"section_2\"></a>\n",
    "## Анализ данных"
   ]
  },
  {
   "cell_type": "markdown",
   "metadata": {},
   "source": [
    "### Изменение концентрации металлов на различных этапах очистки"
   ]
  },
  {
   "cell_type": "markdown",
   "metadata": {},
   "source": [
    "Изучим, как меняется концентрация металлов (Au, Ag, Pb) на различных этапах очистки."
   ]
  },
  {
   "cell_type": "markdown",
   "metadata": {},
   "source": [
    "Сформируем таблицу с агрегированными данными о содержании металлов на различных этапах производственного процесса."
   ]
  },
  {
   "cell_type": "code",
   "execution_count": 38,
   "metadata": {},
   "outputs": [],
   "source": [
    "concentrate_list = ['au', 'ag', 'pb']"
   ]
  },
  {
   "cell_type": "code",
   "execution_count": 39,
   "metadata": {},
   "outputs": [],
   "source": [
    "stage = ['input', 'rougher', 'primary', 'final']"
   ]
  },
  {
   "cell_type": "code",
   "execution_count": 40,
   "metadata": {},
   "outputs": [
    {
     "data": {
      "text/html": [
       "<div>\n",
       "<style scoped>\n",
       "    .dataframe tbody tr th:only-of-type {\n",
       "        vertical-align: middle;\n",
       "    }\n",
       "\n",
       "    .dataframe tbody tr th {\n",
       "        vertical-align: top;\n",
       "    }\n",
       "\n",
       "    .dataframe thead th {\n",
       "        text-align: right;\n",
       "    }\n",
       "</style>\n",
       "<table border=\"1\" class=\"dataframe\">\n",
       "  <thead>\n",
       "    <tr style=\"text-align: right;\">\n",
       "      <th></th>\n",
       "      <th>au</th>\n",
       "      <th>ag</th>\n",
       "      <th>pb</th>\n",
       "    </tr>\n",
       "  </thead>\n",
       "  <tbody>\n",
       "    <tr>\n",
       "      <th>input</th>\n",
       "      <td>NaN</td>\n",
       "      <td>NaN</td>\n",
       "      <td>NaN</td>\n",
       "    </tr>\n",
       "    <tr>\n",
       "      <th>rougher</th>\n",
       "      <td>NaN</td>\n",
       "      <td>NaN</td>\n",
       "      <td>NaN</td>\n",
       "    </tr>\n",
       "    <tr>\n",
       "      <th>primary</th>\n",
       "      <td>NaN</td>\n",
       "      <td>NaN</td>\n",
       "      <td>NaN</td>\n",
       "    </tr>\n",
       "    <tr>\n",
       "      <th>final</th>\n",
       "      <td>NaN</td>\n",
       "      <td>NaN</td>\n",
       "      <td>NaN</td>\n",
       "    </tr>\n",
       "  </tbody>\n",
       "</table>\n",
       "</div>"
      ],
      "text/plain": [
       "          au   ag   pb\n",
       "input    NaN  NaN  NaN\n",
       "rougher  NaN  NaN  NaN\n",
       "primary  NaN  NaN  NaN\n",
       "final    NaN  NaN  NaN"
      ]
     },
     "execution_count": 40,
     "metadata": {},
     "output_type": "execute_result"
    }
   ],
   "source": [
    "concentration = pd.DataFrame(columns=concentrate_list, index=stage)\n",
    "concentration"
   ]
  },
  {
   "cell_type": "code",
   "execution_count": 41,
   "metadata": {},
   "outputs": [],
   "source": [
    "au_out_col = ['rougher.input.feed_au'\n",
    "          , 'rougher.output.concentrate_au'\n",
    "          , 'primary_cleaner.output.concentrate_au'\n",
    "          , 'final.output.concentrate_au']"
   ]
  },
  {
   "cell_type": "code",
   "execution_count": 42,
   "metadata": {},
   "outputs": [],
   "source": [
    "ag_out_col = ['rougher.input.feed_ag'\n",
    "          , 'rougher.output.concentrate_ag'\n",
    "          , 'primary_cleaner.output.concentrate_ag'\n",
    "          , 'final.output.concentrate_ag']"
   ]
  },
  {
   "cell_type": "code",
   "execution_count": 43,
   "metadata": {},
   "outputs": [],
   "source": [
    "pb_out_col = ['rougher.input.feed_pb'\n",
    "          , 'rougher.output.concentrate_pb'\n",
    "          , 'primary_cleaner.output.concentrate_pb'\n",
    "          , 'final.output.concentrate_pb']"
   ]
  },
  {
   "cell_type": "markdown",
   "metadata": {},
   "source": [
    "Проверим на выбросы."
   ]
  },
  {
   "cell_type": "code",
   "execution_count": 44,
   "metadata": {},
   "outputs": [
    {
     "data": {
      "image/png": "[encoded data removed]",
      "text/plain": [
       "<Figure size 432x288 with 1 Axes>"
      ]
     },
     "metadata": {
      "needs_background": "light"
     },
     "output_type": "display_data"
    },
    {
     "data": {
      "image/png": "[encoded data removed]",
      "text/plain": [
       "<Figure size 432x288 with 1 Axes>"
      ]
     },
     "metadata": {
      "needs_background": "light"
     },
     "output_type": "display_data"
    },
    {
     "data": {
      "image/png": "[encoded data removed]",
      "text/plain": [
       "<Figure size 432x288 with 1 Axes>"
      ]
     },
     "metadata": {
      "needs_background": "light"
     },
     "output_type": "display_data"
    },
    {
     "data": {
      "image/png": "[encoded data removed]",
      "text/plain": [
       "<Figure size 432x288 with 1 Axes>"
      ]
     },
     "metadata": {
      "needs_background": "light"
     },
     "output_type": "display_data"
    }
   ],
   "source": [
    "for col in au_out_col:\n",
    "    full[col].hist()\n",
    "    plt.title(col)\n",
    "    plt.show()"
   ]
  },
  {
   "cell_type": "code",
   "execution_count": 45,
   "metadata": {},
   "outputs": [
    {
     "data": {
      "image/png": "[encoded data removed]",
      "text/plain": [
       "<Figure size 432x288 with 1 Axes>"
      ]
     },
     "metadata": {
      "needs_background": "light"
     },
     "output_type": "display_data"
    },
    {
     "data": {
      "image/png": "[encoded data removed]",
      "text/plain": [
       "<Figure size 432x288 with 1 Axes>"
      ]
     },
     "metadata": {
      "needs_background": "light"
     },
     "output_type": "display_data"
    },
    {
     "data": {
      "image/png": "[encoded data removed]",
      "text/plain": [
       "<Figure size 432x288 with 1 Axes>"
      ]
     },
     "metadata": {
      "needs_background": "light"
     },
     "output_type": "display_data"
    },
    {
     "data": {
      "image/png": "[encoded data removed]",
      "text/plain": [
       "<Figure size 432x288 with 1 Axes>"
      ]
     },
     "metadata": {
      "needs_background": "light"
     },
     "output_type": "display_data"
    }
   ],
   "source": [
    "for col in ag_out_col:\n",
    "    full[col].hist()\n",
    "    plt.title(col)\n",
    "    plt.show()"
   ]
  },
  {
   "cell_type": "code",
   "execution_count": 46,
   "metadata": {},
   "outputs": [
    {
     "data": {
      "image/png": "[encoded data removed]",
      "text/plain": [
       "<Figure size 432x288 with 1 Axes>"
      ]
     },
     "metadata": {
      "needs_background": "light"
     },
     "output_type": "display_data"
    },
    {
     "data": {
      "image/png": "[encoded data removed]",
      "text/plain": [
       "<Figure size 432x288 with 1 Axes>"
      ]
     },
     "metadata": {
      "needs_background": "light"
     },
     "output_type": "display_data"
    },
    {
     "data": {
      "image/png": "[encoded data removed]",
      "text/plain": [
       "<Figure size 432x288 with 1 Axes>"
      ]
     },
     "metadata": {
      "needs_background": "light"
     },
     "output_type": "display_data"
    },
    {
     "data": {
      "image/png": "[encoded data removed]",
      "text/plain": [
       "<Figure size 432x288 with 1 Axes>"
      ]
     },
     "metadata": {
      "needs_background": "light"
     },
     "output_type": "display_data"
    }
   ],
   "source": [
    "for col in pb_out_col:\n",
    "    full[col].hist()\n",
    "    plt.title(col)\n",
    "    plt.show()"
   ]
  },
  {
   "cell_type": "markdown",
   "metadata": {},
   "source": [
    "При расчете среднего отбросим нулевые значения признаков."
   ]
  },
  {
   "cell_type": "code",
   "execution_count": 47,
   "metadata": {},
   "outputs": [],
   "source": [
    "au_out = []\n",
    "for col in au_out_col:\n",
    "    au_out.append(full.loc[full[col] != 0][col].mean())"
   ]
  },
  {
   "cell_type": "code",
   "execution_count": 48,
   "metadata": {},
   "outputs": [
    {
     "data": {
      "text/plain": [
       "[8.266097326589135, 20.18104020538067, 32.298847681377744, 44.29984670278775]"
      ]
     },
     "execution_count": 48,
     "metadata": {},
     "output_type": "execute_result"
    }
   ],
   "source": [
    "au_out"
   ]
  },
  {
   "cell_type": "code",
   "execution_count": 49,
   "metadata": {},
   "outputs": [],
   "source": [
    "ag_out = []\n",
    "for col in ag_out_col:\n",
    "    ag_out.append(full.loc[full[col] != 0][col].mean())"
   ]
  },
  {
   "cell_type": "code",
   "execution_count": 50,
   "metadata": {},
   "outputs": [],
   "source": [
    "pb_out = []\n",
    "for col in pb_out_col:\n",
    "    pb_out.append(full.loc[full[col] != 0][col].mean())"
   ]
  },
  {
   "cell_type": "code",
   "execution_count": 51,
   "metadata": {},
   "outputs": [],
   "source": [
    "concentration['au'] = au_out"
   ]
  },
  {
   "cell_type": "code",
   "execution_count": 52,
   "metadata": {},
   "outputs": [],
   "source": [
    "concentration['ag'] = ag_out"
   ]
  },
  {
   "cell_type": "code",
   "execution_count": 53,
   "metadata": {},
   "outputs": [],
   "source": [
    "concentration['pb'] = pb_out"
   ]
  },
  {
   "cell_type": "code",
   "execution_count": 54,
   "metadata": {},
   "outputs": [
    {
     "data": {
      "text/html": [
       "<div>\n",
       "<style scoped>\n",
       "    .dataframe tbody tr th:only-of-type {\n",
       "        vertical-align: middle;\n",
       "    }\n",
       "\n",
       "    .dataframe tbody tr th {\n",
       "        vertical-align: top;\n",
       "    }\n",
       "\n",
       "    .dataframe thead th {\n",
       "        text-align: right;\n",
       "    }\n",
       "</style>\n",
       "<table border=\"1\" class=\"dataframe\">\n",
       "  <thead>\n",
       "    <tr style=\"text-align: right;\">\n",
       "      <th></th>\n",
       "      <th>au</th>\n",
       "      <th>ag</th>\n",
       "      <th>pb</th>\n",
       "    </tr>\n",
       "  </thead>\n",
       "  <tbody>\n",
       "    <tr>\n",
       "      <th>input</th>\n",
       "      <td>8.266097</td>\n",
       "      <td>8.794927</td>\n",
       "      <td>3.598085</td>\n",
       "    </tr>\n",
       "    <tr>\n",
       "      <th>rougher</th>\n",
       "      <td>20.181040</td>\n",
       "      <td>12.242905</td>\n",
       "      <td>7.763630</td>\n",
       "    </tr>\n",
       "    <tr>\n",
       "      <th>primary</th>\n",
       "      <td>32.298848</td>\n",
       "      <td>8.489575</td>\n",
       "      <td>9.884778</td>\n",
       "    </tr>\n",
       "    <tr>\n",
       "      <th>final</th>\n",
       "      <td>44.299847</td>\n",
       "      <td>5.194660</td>\n",
       "      <td>10.029460</td>\n",
       "    </tr>\n",
       "  </tbody>\n",
       "</table>\n",
       "</div>"
      ],
      "text/plain": [
       "                au         ag         pb\n",
       "input     8.266097   8.794927   3.598085\n",
       "rougher  20.181040  12.242905   7.763630\n",
       "primary  32.298848   8.489575   9.884778\n",
       "final    44.299847   5.194660  10.029460"
      ]
     },
     "execution_count": 54,
     "metadata": {},
     "output_type": "execute_result"
    }
   ],
   "source": [
    "concentration"
   ]
  },
  {
   "cell_type": "markdown",
   "metadata": {},
   "source": [
    "Отобразим данные на графике."
   ]
  },
  {
   "cell_type": "code",
   "execution_count": 55,
   "metadata": {},
   "outputs": [
    {
     "data": {
      "image/png": "[encoded data removed]",
      "text/plain": [
       "<Figure size 1080x576 with 1 Axes>"
      ]
     },
     "metadata": {
      "needs_background": "light"
     },
     "output_type": "display_data"
    }
   ],
   "source": [
    "concentration.plot(grid=True, figsize=(15,8), linewidth=7)\n",
    "plt.title(\"concentration metals per stage\")\n",
    "plt.xlabel(\"stages\")\n",
    "plt.ylabel(\"concentration\")\n",
    "plt.show()"
   ]
  },
  {
   "cell_type": "markdown",
   "metadata": {},
   "source": [
    "Можем заметить, что концентрация золота линейно возрастает по мере очистки, тогда как содержание других металлов снижается, либо стабилизируется."
   ]
  },
  {
   "cell_type": "markdown",
   "metadata": {},
   "source": [
    "### Сравнение размеров гранул сырья"
   ]
  },
  {
   "cell_type": "markdown",
   "metadata": {},
   "source": [
    "Сравним распределения размеров гранул сырья на обучающей и тестовой выборках."
   ]
  },
  {
   "cell_type": "markdown",
   "metadata": {},
   "source": [
    "Отобразим графики распределений обеих выборок на общей системе координат."
   ]
  },
  {
   "cell_type": "code",
   "execution_count": 56,
   "metadata": {},
   "outputs": [
    {
     "data": {
      "image/png": "[encoded data removed]",
      "text/plain": [
       "<Figure size 1080x576 with 1 Axes>"
      ]
     },
     "metadata": {
      "needs_background": "light"
     },
     "output_type": "display_data"
    }
   ],
   "source": [
    "train_ax = train.plot(\n",
    "    kind='hist', \n",
    "    y='rougher.input.feed_size', \n",
    "    histtype='step', \n",
    "    density=True, \n",
    "    range=(0, 150), \n",
    "    bins=10, \n",
    "    linewidth=7, \n",
    "    alpha=0.7, \n",
    "    label='train'    \n",
    ")\n",
    "\n",
    "test.plot(\n",
    "    kind='hist', \n",
    "    y='rougher.input.feed_size', \n",
    "    histtype='step', \n",
    "    density=True, \n",
    "    range=(0, 150), \n",
    "    bins=10, \n",
    "    linewidth=7, \n",
    "    alpha=0.7, \n",
    "    label='test', \n",
    "    ax=train_ax, \n",
    "    grid=True, \n",
    "    legend=True, \n",
    "    title='rougher input feed size - train vs test',\n",
    "    figsize=(15,8)    \n",
    ") \n",
    "plt.xlabel(\"size\")\n",
    "plt.ylabel(\"amount\")\n",
    "plt.show()"
   ]
  },
  {
   "cell_type": "markdown",
   "metadata": {},
   "source": [
    "Распределения различаются несущественно, что позволяет рассчитывать на адекватную оценку модели."
   ]
  },
  {
   "cell_type": "markdown",
   "metadata": {},
   "source": [
    "### Суммарная концентрация веществ на разных стадиях"
   ]
  },
  {
   "cell_type": "markdown",
   "metadata": {},
   "source": [
    "Исследуем суммарную концентрацию всех веществ на разных стадиях: в сырье, в черновом и финальном концентратах."
   ]
  },
  {
   "cell_type": "markdown",
   "metadata": {},
   "source": [
    "К ранее созданной таблице `concentration` добавим колонку `sol`."
   ]
  },
  {
   "cell_type": "code",
   "execution_count": 57,
   "metadata": {},
   "outputs": [],
   "source": [
    "sol_out_col = ['rougher.input.feed_sol'\n",
    "          , 'rougher.output.concentrate_sol'\n",
    "          , 'primary_cleaner.output.concentrate_sol'\n",
    "          , 'final.output.concentrate_sol']"
   ]
  },
  {
   "cell_type": "markdown",
   "metadata": {},
   "source": [
    "Проверим на выбросы."
   ]
  },
  {
   "cell_type": "code",
   "execution_count": 58,
   "metadata": {},
   "outputs": [
    {
     "data": {
      "image/png": "[encoded data removed]",
      "text/plain": [
       "<Figure size 432x288 with 1 Axes>"
      ]
     },
     "metadata": {
      "needs_background": "light"
     },
     "output_type": "display_data"
    },
    {
     "data": {
      "image/png": "[encoded data removed]",
      "text/plain": [
       "<Figure size 432x288 with 1 Axes>"
      ]
     },
     "metadata": {
      "needs_background": "light"
     },
     "output_type": "display_data"
    },
    {
     "data": {
      "image/png": "[encoded data removed]",
      "text/plain": [
       "<Figure size 432x288 with 1 Axes>"
      ]
     },
     "metadata": {
      "needs_background": "light"
     },
     "output_type": "display_data"
    },
    {
     "data": {
      "image/png": "[encoded data removed]",
      "text/plain": [
       "<Figure size 432x288 with 1 Axes>"
      ]
     },
     "metadata": {
      "needs_background": "light"
     },
     "output_type": "display_data"
    }
   ],
   "source": [
    "for col in sol_out_col:\n",
    "    full[col].hist()\n",
    "    plt.title(col)\n",
    "    plt.show()"
   ]
  },
  {
   "cell_type": "markdown",
   "metadata": {},
   "source": [
    "При расчете среднего отбросим нулевые значения признаков."
   ]
  },
  {
   "cell_type": "code",
   "execution_count": 59,
   "metadata": {},
   "outputs": [],
   "source": [
    "sol_out = []\n",
    "for col in sol_out_col:\n",
    "    sol_out.append(full.loc[full[col] != 0][col].mean())"
   ]
  },
  {
   "cell_type": "code",
   "execution_count": 60,
   "metadata": {},
   "outputs": [],
   "source": [
    "concentration['sol'] = sol_out"
   ]
  },
  {
   "cell_type": "markdown",
   "metadata": {},
   "source": [
    "Просуммируем концентрации веществ на каждой стадии."
   ]
  },
  {
   "cell_type": "code",
   "execution_count": 61,
   "metadata": {
    "scrolled": true
   },
   "outputs": [
    {
     "data": {
      "text/html": [
       "<div>\n",
       "<style scoped>\n",
       "    .dataframe tbody tr th:only-of-type {\n",
       "        vertical-align: middle;\n",
       "    }\n",
       "\n",
       "    .dataframe tbody tr th {\n",
       "        vertical-align: top;\n",
       "    }\n",
       "\n",
       "    .dataframe thead th {\n",
       "        text-align: right;\n",
       "    }\n",
       "</style>\n",
       "<table border=\"1\" class=\"dataframe\">\n",
       "  <thead>\n",
       "    <tr style=\"text-align: right;\">\n",
       "      <th></th>\n",
       "      <th>au</th>\n",
       "      <th>ag</th>\n",
       "      <th>pb</th>\n",
       "      <th>sol</th>\n",
       "      <th>sum</th>\n",
       "    </tr>\n",
       "  </thead>\n",
       "  <tbody>\n",
       "    <tr>\n",
       "      <th>input</th>\n",
       "      <td>8.266097</td>\n",
       "      <td>8.794927</td>\n",
       "      <td>3.598085</td>\n",
       "      <td>36.695114</td>\n",
       "      <td>57.354224</td>\n",
       "    </tr>\n",
       "    <tr>\n",
       "      <th>rougher</th>\n",
       "      <td>20.181040</td>\n",
       "      <td>12.242905</td>\n",
       "      <td>7.763630</td>\n",
       "      <td>29.402216</td>\n",
       "      <td>69.589791</td>\n",
       "    </tr>\n",
       "    <tr>\n",
       "      <th>primary</th>\n",
       "      <td>32.298848</td>\n",
       "      <td>8.489575</td>\n",
       "      <td>9.884778</td>\n",
       "      <td>10.549247</td>\n",
       "      <td>61.222447</td>\n",
       "    </tr>\n",
       "    <tr>\n",
       "      <th>final</th>\n",
       "      <td>44.299847</td>\n",
       "      <td>5.194660</td>\n",
       "      <td>10.029460</td>\n",
       "      <td>9.549897</td>\n",
       "      <td>69.073864</td>\n",
       "    </tr>\n",
       "  </tbody>\n",
       "</table>\n",
       "</div>"
      ],
      "text/plain": [
       "                au         ag         pb        sol        sum\n",
       "input     8.266097   8.794927   3.598085  36.695114  57.354224\n",
       "rougher  20.181040  12.242905   7.763630  29.402216  69.589791\n",
       "primary  32.298848   8.489575   9.884778  10.549247  61.222447\n",
       "final    44.299847   5.194660  10.029460   9.549897  69.073864"
      ]
     },
     "execution_count": 61,
     "metadata": {},
     "output_type": "execute_result"
    }
   ],
   "source": [
    "concentration['sum'] = concentration['au'] + concentration['ag'] + concentration['pb'] + concentration['sol']\n",
    "concentration"
   ]
  },
  {
   "cell_type": "markdown",
   "metadata": {},
   "source": [
    "Отобразим данные на графике."
   ]
  },
  {
   "cell_type": "code",
   "execution_count": 62,
   "metadata": {},
   "outputs": [
    {
     "data": {
      "image/png": "[encoded data removed]",
      "text/plain": [
       "<Figure size 1080x576 with 1 Axes>"
      ]
     },
     "metadata": {
      "needs_background": "light"
     },
     "output_type": "display_data"
    }
   ],
   "source": [
    "concentration.plot(grid=True, figsize=(15,8), linewidth=7)\n",
    "plt.title(\"concentration metals per stage\")\n",
    "plt.xlabel(\"stages\")\n",
    "plt.ylabel(\"concentration\")\n",
    "plt.show()"
   ]
  },
  {
   "cell_type": "markdown",
   "metadata": {},
   "source": [
    "Видим, что суммарная концентрация веществ остается приблизительно на одном уровне, однако соотношение этих веществ, а точнее двух из них обратнопропорционально: в процессе очистки 'sol' замещается на 'au'."
   ]
  },
  {
   "cell_type": "markdown",
   "metadata": {},
   "source": [
    "### Вывод"
   ]
  },
  {
   "cell_type": "markdown",
   "metadata": {},
   "source": [
    "Мы провели исследовательский анализ данных и установили следующее.\n",
    "\n",
    "Концентрация золота линейно возрастает по мере очистки, тогда как содержание других металлов снижается, либо стабилизируется.\n",
    "\n",
    "\n",
    "Распределения размеров гранул сырья на обучающей и тестовой выборках различаются несущественно, что позволяет рассчитывать на адекватную оценку модели.\n",
    "\n",
    "Сммарная концентрация всех веществ на разных стадиях: в сырье, в черновом и финальном концентратах - остается приблизительно на одном уровне, однако соотношение этих веществ, а точнее двух из них, обратнопропорционально: в процессе очистки 'sol' замещается на 'au'.\n",
    "\n",
    "[В начало раздела 2](#section_2)"
   ]
  },
  {
   "cell_type": "markdown",
   "metadata": {},
   "source": [
    "<a id=\"section_3\"></a>\n",
    "## Модель"
   ]
  },
  {
   "cell_type": "markdown",
   "metadata": {},
   "source": [
    "### Функция для вычисления итоговой sMAPE"
   ]
  },
  {
   "cell_type": "markdown",
   "metadata": {},
   "source": [
    "Напишите функцию для вычисления итоговой sMAPE."
   ]
  },
  {
   "cell_type": "code",
   "execution_count": 63,
   "metadata": {},
   "outputs": [],
   "source": [
    "def sMAPE(y_true, y_pred):\n",
    "    \n",
    "    sMAPE = (abs(y_true - y_pred) / ((abs(y_true) + abs(y_pred)) / 2)).mean() * 100\n",
    "    \n",
    "    return sMAPE"
   ]
  },
  {
   "cell_type": "markdown",
   "metadata": {},
   "source": [
    "Проверим."
   ]
  },
  {
   "cell_type": "code",
   "execution_count": 64,
   "metadata": {},
   "outputs": [],
   "source": [
    "y_true = pd.Series([2, 2])\n",
    "y_pred = pd.Series([1, 1])"
   ]
  },
  {
   "cell_type": "code",
   "execution_count": 65,
   "metadata": {},
   "outputs": [
    {
     "data": {
      "text/plain": [
       "66.66666666666666"
      ]
     },
     "execution_count": 65,
     "metadata": {},
     "output_type": "execute_result"
    }
   ],
   "source": [
    "sMAPE(y_true, y_pred)"
   ]
  },
  {
   "cell_type": "markdown",
   "metadata": {},
   "source": [
    "Функция работает корректно."
   ]
  },
  {
   "cell_type": "markdown",
   "metadata": {},
   "source": [
    "Создадим метрику на основе этой функции."
   ]
  },
  {
   "cell_type": "code",
   "execution_count": 66,
   "metadata": {},
   "outputs": [],
   "source": [
    "smape = make_scorer(sMAPE)"
   ]
  },
  {
   "cell_type": "markdown",
   "metadata": {},
   "source": [
    "Написана функцию для вычисления sMAPE и на её основе сделана метрика."
   ]
  },
  {
   "cell_type": "markdown",
   "metadata": {},
   "source": [
    "### Выбор лучшей модели"
   ]
  },
  {
   "cell_type": "markdown",
   "metadata": {},
   "source": [
    "Создадим модели на основе различных алгоритмов."
   ]
  },
  {
   "cell_type": "code",
   "execution_count": 67,
   "metadata": {},
   "outputs": [],
   "source": [
    "lr_model = LinearRegression()\n",
    "lasso_model = Lasso(random_state=12345)\n",
    "ridge_model = Ridge(random_state=12345)\n",
    "elastic_model = ElasticNet(random_state=12345)\n",
    "dt_model = DecisionTreeRegressor(max_depth=4, random_state=12345)\n",
    "rf_model = RandomForestRegressor(n_estimators=6, max_depth=4, random_state=12345)"
   ]
  },
  {
   "cell_type": "code",
   "execution_count": 68,
   "metadata": {},
   "outputs": [],
   "source": [
    "model_list = [lr_model, lasso_model, ridge_model, elastic_model, dt_model, rf_model]"
   ]
  },
  {
   "cell_type": "markdown",
   "metadata": {},
   "source": [
    "Напишем функцию, автоматизирующую процесс обучения моделей и оценку их качества кросс-валидацией. "
   ]
  },
  {
   "cell_type": "code",
   "execution_count": 69,
   "metadata": {},
   "outputs": [],
   "source": [
    "def check_model(features_targets_list):\n",
    "    \n",
    "    for mod in model_list:\n",
    "        \n",
    "        r2_rougher = cross_val_score(mod, features_targets_list[0], features_targets_list[1], n_jobs=-1)\n",
    "        total_r2_rougher = sum(r2_rougher) / len(r2_rougher)\n",
    "        \n",
    "        smape_rougher = cross_val_score(mod, features_targets_list[0], features_targets_list[1], n_jobs=-1, scoring=smape)\n",
    "        total_smape_rougher = sum(smape_rougher) / len(smape_rougher)\n",
    "        \n",
    "        r2_final = cross_val_score(mod, features_targets_list[0], features_targets_list[2], n_jobs=-1)\n",
    "        total_r2_final = sum(r2_final) / len(r2_final)\n",
    "        \n",
    "        smape_final = cross_val_score(mod, features_targets_list[0], features_targets_list[2], n_jobs=-1, scoring=smape)\n",
    "        total_smape_final = sum(smape_final) / len(smape_final)\n",
    "        \n",
    "        total_smape = total_smape_rougher * .25 + total_smape_final * .75\n",
    "        \n",
    "        results.append([mod, total_r2_rougher, total_r2_final, total_smape_rougher, total_smape_final, total_smape])\n",
    "        \n",
    "        print(f'''Модель: {mod}\\n \n",
    "                  r2 rougher: {total_r2_rougher:.3f}\\n \n",
    "                  r2 final: {total_r2_final:.3f}\\n \n",
    "                  sMAPE rougher: {total_smape_rougher:.3f}\\n \n",
    "                  sMAPE final: {total_smape_final:.3f}\\n\n",
    "                  sMAPE total: {total_smape:.3f}\\n\n",
    "                  \\n''')"
   ]
  },
  {
   "cell_type": "markdown",
   "metadata": {},
   "source": [
    "Создадим переменную для сохранения результатов."
   ]
  },
  {
   "cell_type": "code",
   "execution_count": 70,
   "metadata": {},
   "outputs": [],
   "source": [
    "results = []"
   ]
  },
  {
   "cell_type": "markdown",
   "metadata": {},
   "source": [
    "Обучим и оценим модели на немасштабированных данных."
   ]
  },
  {
   "cell_type": "code",
   "execution_count": 71,
   "metadata": {},
   "outputs": [
    {
     "name": "stdout",
     "output_type": "stream",
     "text": [
      "Модель: LinearRegression()\n",
      " \n",
      "                  r2 rougher: -0.544\n",
      " \n",
      "                  r2 final: -0.025\n",
      " \n",
      "                  sMAPE rougher: 11.752\n",
      " \n",
      "                  sMAPE final: 10.288\n",
      "\n",
      "                  sMAPE total: 10.654\n",
      "\n",
      "                  \n",
      "\n",
      "Модель: Lasso(random_state=12345)\n",
      " \n",
      "                  r2 rougher: -0.488\n",
      " \n",
      "                  r2 final: 0.052\n",
      " \n",
      "                  sMAPE rougher: 11.561\n",
      " \n",
      "                  sMAPE final: 9.889\n",
      "\n",
      "                  sMAPE total: 10.307\n",
      "\n",
      "                  \n",
      "\n",
      "Модель: Ridge(random_state=12345)\n",
      " \n",
      "                  r2 rougher: -0.544\n",
      " \n",
      "                  r2 final: -0.025\n",
      " \n",
      "                  sMAPE rougher: 11.752\n",
      " \n",
      "                  sMAPE final: 10.288\n",
      "\n",
      "                  sMAPE total: 10.654\n",
      "\n",
      "                  \n",
      "\n",
      "Модель: ElasticNet(random_state=12345)\n",
      " \n",
      "                  r2 rougher: -0.480\n",
      " \n",
      "                  r2 final: 0.053\n",
      " \n",
      "                  sMAPE rougher: 11.517\n",
      " \n",
      "                  sMAPE final: 9.884\n",
      "\n",
      "                  sMAPE total: 10.292\n",
      "\n",
      "                  \n",
      "\n",
      "Модель: DecisionTreeRegressor(max_depth=4, random_state=12345)\n",
      " \n",
      "                  r2 rougher: -0.448\n",
      " \n",
      "                  r2 final: 0.031\n",
      " \n",
      "                  sMAPE rougher: 11.483\n",
      " \n",
      "                  sMAPE final: 9.951\n",
      "\n",
      "                  sMAPE total: 10.334\n",
      "\n",
      "                  \n",
      "\n",
      "Модель: RandomForestRegressor(max_depth=4, n_estimators=6, random_state=12345)\n",
      " \n",
      "                  r2 rougher: -0.405\n",
      " \n",
      "                  r2 final: 0.086\n",
      " \n",
      "                  sMAPE rougher: 11.733\n",
      " \n",
      "                  sMAPE final: 9.588\n",
      "\n",
      "                  sMAPE total: 10.125\n",
      "\n",
      "                  \n",
      "\n",
      "Модель: LinearRegression()\n",
      " \n",
      "                  r2 rougher: -0.191\n",
      " \n",
      "                  r2 final: 0.039\n",
      " \n",
      "                  sMAPE rougher: 10.946\n",
      " \n",
      "                  sMAPE final: 9.719\n",
      "\n",
      "                  sMAPE total: 10.025\n",
      "\n",
      "                  \n",
      "\n",
      "Модель: Lasso(random_state=12345)\n",
      " \n",
      "                  r2 rougher: -0.309\n",
      " \n",
      "                  r2 final: 0.068\n",
      " \n",
      "                  sMAPE rougher: 11.090\n",
      " \n",
      "                  sMAPE final: 9.439\n",
      "\n",
      "                  sMAPE total: 9.852\n",
      "\n",
      "                  \n",
      "\n",
      "Модель: Ridge(random_state=12345)\n",
      " \n",
      "                  r2 rougher: -0.191\n",
      " \n",
      "                  r2 final: 0.039\n",
      " \n",
      "                  sMAPE rougher: 10.946\n",
      " \n",
      "                  sMAPE final: 9.718\n",
      "\n",
      "                  sMAPE total: 10.025\n",
      "\n",
      "                  \n",
      "\n",
      "Модель: ElasticNet(random_state=12345)\n",
      " \n",
      "                  r2 rougher: -0.270\n",
      " \n",
      "                  r2 final: 0.082\n",
      " \n",
      "                  sMAPE rougher: 10.961\n",
      " \n",
      "                  sMAPE final: 9.379\n",
      "\n",
      "                  sMAPE total: 9.775\n",
      "\n",
      "                  \n",
      "\n",
      "Модель: DecisionTreeRegressor(max_depth=4, random_state=12345)\n",
      " \n",
      "                  r2 rougher: -0.435\n",
      " \n",
      "                  r2 final: 0.001\n",
      " \n",
      "                  sMAPE rougher: 11.902\n",
      " \n",
      "                  sMAPE final: 9.884\n",
      "\n",
      "                  sMAPE total: 10.388\n",
      "\n",
      "                  \n",
      "\n",
      "Модель: RandomForestRegressor(max_depth=4, n_estimators=6, random_state=12345)\n",
      " \n",
      "                  r2 rougher: -0.411\n",
      " \n",
      "                  r2 final: 0.080\n",
      " \n",
      "                  sMAPE rougher: 11.749\n",
      " \n",
      "                  sMAPE final: 9.545\n",
      "\n",
      "                  sMAPE total: 10.096\n",
      "\n",
      "                  \n",
      "\n",
      "Модель: LinearRegression()\n",
      " \n",
      "                  r2 rougher: -0.341\n",
      " \n",
      "                  r2 final: -0.195\n",
      " \n",
      "                  sMAPE rougher: 10.849\n",
      " \n",
      "                  sMAPE final: 10.960\n",
      "\n",
      "                  sMAPE total: 10.932\n",
      "\n",
      "                  \n",
      "\n",
      "Модель: Lasso(random_state=12345)\n",
      " \n",
      "                  r2 rougher: -0.128\n",
      " \n",
      "                  r2 final: -0.189\n",
      " \n",
      "                  sMAPE rougher: 10.519\n",
      " \n",
      "                  sMAPE final: 11.046\n",
      "\n",
      "                  sMAPE total: 10.914\n",
      "\n",
      "                  \n",
      "\n",
      "Модель: Ridge(random_state=12345)\n",
      " \n",
      "                  r2 rougher: -0.341\n",
      " \n",
      "                  r2 final: -0.195\n",
      " \n",
      "                  sMAPE rougher: 10.849\n",
      " \n",
      "                  sMAPE final: 10.959\n",
      "\n",
      "                  sMAPE total: 10.932\n",
      "\n",
      "                  \n",
      "\n",
      "Модель: ElasticNet(random_state=12345)\n",
      " \n",
      "                  r2 rougher: -0.128\n",
      " \n",
      "                  r2 final: -0.200\n",
      " \n",
      "                  sMAPE rougher: 10.413\n",
      " \n",
      "                  sMAPE final: 11.084\n",
      "\n",
      "                  sMAPE total: 10.916\n",
      "\n",
      "                  \n",
      "\n",
      "Модель: DecisionTreeRegressor(max_depth=4, random_state=12345)\n",
      " \n",
      "                  r2 rougher: -0.571\n",
      " \n",
      "                  r2 final: -0.065\n",
      " \n",
      "                  sMAPE rougher: 12.254\n",
      " \n",
      "                  sMAPE final: 10.024\n",
      "\n",
      "                  sMAPE total: 10.582\n",
      "\n",
      "                  \n",
      "\n",
      "Модель: RandomForestRegressor(max_depth=4, n_estimators=6, random_state=12345)\n",
      " \n",
      "                  r2 rougher: -0.337\n",
      " \n",
      "                  r2 final: 0.076\n",
      " \n",
      "                  sMAPE rougher: 10.596\n",
      " \n",
      "                  sMAPE final: 9.281\n",
      "\n",
      "                  sMAPE total: 9.610\n",
      "\n",
      "                  \n",
      "\n"
     ]
    }
   ],
   "source": [
    "for var in features_vars:\n",
    "    check_model(var)"
   ]
  },
  {
   "cell_type": "markdown",
   "metadata": {},
   "source": [
    "Повторим эксперимент на масштабированных данных."
   ]
  },
  {
   "cell_type": "code",
   "execution_count": 72,
   "metadata": {
    "scrolled": true
   },
   "outputs": [
    {
     "name": "stdout",
     "output_type": "stream",
     "text": [
      "Модель: LinearRegression()\n",
      " \n",
      "                  r2 rougher: -0.544\n",
      " \n",
      "                  r2 final: -0.025\n",
      " \n",
      "                  sMAPE rougher: 11.752\n",
      " \n",
      "                  sMAPE final: 10.288\n",
      "\n",
      "                  sMAPE total: 10.654\n",
      "\n",
      "                  \n",
      "\n",
      "Модель: Lasso(random_state=12345)\n",
      " \n",
      "                  r2 rougher: -0.491\n",
      " \n",
      "                  r2 final: 0.007\n",
      " \n",
      "                  sMAPE rougher: 11.585\n",
      " \n",
      "                  sMAPE final: 10.131\n",
      "\n",
      "                  sMAPE total: 10.495\n",
      "\n",
      "                  \n",
      "\n",
      "Модель: Ridge(random_state=12345)\n",
      " \n",
      "                  r2 rougher: -0.544\n",
      " \n",
      "                  r2 final: -0.025\n",
      " \n",
      "                  sMAPE rougher: 11.752\n",
      " \n",
      "                  sMAPE final: 10.288\n",
      "\n",
      "                  sMAPE total: 10.654\n",
      "\n",
      "                  \n",
      "\n",
      "Модель: ElasticNet(random_state=12345)\n",
      " \n",
      "                  r2 rougher: -0.457\n",
      " \n",
      "                  r2 final: 0.021\n",
      " \n",
      "                  sMAPE rougher: 11.533\n",
      " \n",
      "                  sMAPE final: 10.057\n",
      "\n",
      "                  sMAPE total: 10.426\n",
      "\n",
      "                  \n",
      "\n",
      "Модель: DecisionTreeRegressor(max_depth=4, random_state=12345)\n",
      " \n",
      "                  r2 rougher: -0.448\n",
      " \n",
      "                  r2 final: 0.031\n",
      " \n",
      "                  sMAPE rougher: 11.483\n",
      " \n",
      "                  sMAPE final: 9.951\n",
      "\n",
      "                  sMAPE total: 10.334\n",
      "\n",
      "                  \n",
      "\n",
      "Модель: RandomForestRegressor(max_depth=4, n_estimators=6, random_state=12345)\n",
      " \n",
      "                  r2 rougher: -0.405\n",
      " \n",
      "                  r2 final: 0.086\n",
      " \n",
      "                  sMAPE rougher: 11.733\n",
      " \n",
      "                  sMAPE final: 9.588\n",
      "\n",
      "                  sMAPE total: 10.125\n",
      "\n",
      "                  \n",
      "\n",
      "Модель: LinearRegression()\n",
      " \n",
      "                  r2 rougher: -0.191\n",
      " \n",
      "                  r2 final: 0.039\n",
      " \n",
      "                  sMAPE rougher: 10.946\n",
      " \n",
      "                  sMAPE final: 9.719\n",
      "\n",
      "                  sMAPE total: 10.025\n",
      "\n",
      "                  \n",
      "\n",
      "Модель: Lasso(random_state=12345)\n",
      " \n",
      "                  r2 rougher: -0.400\n",
      " \n",
      "                  r2 final: 0.043\n",
      " \n",
      "                  sMAPE rougher: 11.241\n",
      " \n",
      "                  sMAPE final: 9.629\n",
      "\n",
      "                  sMAPE total: 10.032\n",
      "\n",
      "                  \n",
      "\n",
      "Модель: Ridge(random_state=12345)\n",
      " \n",
      "                  r2 rougher: -0.191\n",
      " \n",
      "                  r2 final: 0.039\n",
      " \n",
      "                  sMAPE rougher: 10.946\n",
      " \n",
      "                  sMAPE final: 9.718\n",
      "\n",
      "                  sMAPE total: 10.025\n",
      "\n",
      "                  \n",
      "\n",
      "Модель: ElasticNet(random_state=12345)\n",
      " \n",
      "                  r2 rougher: -0.288\n",
      " \n",
      "                  r2 final: 0.055\n",
      " \n",
      "                  sMAPE rougher: 10.956\n",
      " \n",
      "                  sMAPE final: 9.572\n",
      "\n",
      "                  sMAPE total: 9.918\n",
      "\n",
      "                  \n",
      "\n",
      "Модель: DecisionTreeRegressor(max_depth=4, random_state=12345)\n",
      " \n",
      "                  r2 rougher: -0.435\n",
      " \n",
      "                  r2 final: 0.001\n",
      " \n",
      "                  sMAPE rougher: 11.902\n",
      " \n",
      "                  sMAPE final: 9.884\n",
      "\n",
      "                  sMAPE total: 10.388\n",
      "\n",
      "                  \n",
      "\n",
      "Модель: RandomForestRegressor(max_depth=4, n_estimators=6, random_state=12345)\n",
      " \n",
      "                  r2 rougher: -0.411\n",
      " \n",
      "                  r2 final: 0.080\n",
      " \n",
      "                  sMAPE rougher: 11.749\n",
      " \n",
      "                  sMAPE final: 9.545\n",
      "\n",
      "                  sMAPE total: 10.096\n",
      "\n",
      "                  \n",
      "\n",
      "Модель: LinearRegression()\n",
      " \n",
      "                  r2 rougher: -0.341\n",
      " \n",
      "                  r2 final: -0.195\n",
      " \n",
      "                  sMAPE rougher: 10.849\n",
      " \n",
      "                  sMAPE final: 10.960\n",
      "\n",
      "                  sMAPE total: 10.932\n",
      "\n",
      "                  \n",
      "\n",
      "Модель: Lasso(random_state=12345)\n",
      " \n",
      "                  r2 rougher: -0.144\n",
      " \n",
      "                  r2 final: 0.050\n",
      " \n",
      "                  sMAPE rougher: 9.838\n",
      " \n",
      "                  sMAPE final: 9.402\n",
      "\n",
      "                  sMAPE total: 9.511\n",
      "\n",
      "                  \n",
      "\n",
      "Модель: Ridge(random_state=12345)\n",
      " \n",
      "                  r2 rougher: -0.340\n",
      " \n",
      "                  r2 final: -0.194\n",
      " \n",
      "                  sMAPE rougher: 10.846\n",
      " \n",
      "                  sMAPE final: 10.956\n",
      "\n",
      "                  sMAPE total: 10.929\n",
      "\n",
      "                  \n",
      "\n",
      "Модель: ElasticNet(random_state=12345)\n",
      " \n",
      "                  r2 rougher: -0.118\n",
      " \n",
      "                  r2 final: 0.078\n",
      " \n",
      "                  sMAPE rougher: 9.741\n",
      " \n",
      "                  sMAPE final: 9.250\n",
      "\n",
      "                  sMAPE total: 9.373\n",
      "\n",
      "                  \n",
      "\n",
      "Модель: DecisionTreeRegressor(max_depth=4, random_state=12345)\n",
      " \n",
      "                  r2 rougher: -0.571\n",
      " \n",
      "                  r2 final: -0.065\n",
      " \n",
      "                  sMAPE rougher: 12.254\n",
      " \n",
      "                  sMAPE final: 10.024\n",
      "\n",
      "                  sMAPE total: 10.582\n",
      "\n",
      "                  \n",
      "\n",
      "Модель: RandomForestRegressor(max_depth=4, n_estimators=6, random_state=12345)\n",
      " \n",
      "                  r2 rougher: -0.337\n",
      " \n",
      "                  r2 final: 0.076\n",
      " \n",
      "                  sMAPE rougher: 10.596\n",
      " \n",
      "                  sMAPE final: 9.282\n",
      "\n",
      "                  sMAPE total: 9.610\n",
      "\n",
      "                  \n",
      "\n"
     ]
    }
   ],
   "source": [
    "for var in scaled_features_vars:\n",
    "    check_model(var)"
   ]
  },
  {
   "cell_type": "markdown",
   "metadata": {},
   "source": [
    "Сведем результаты в таблицу и отберем комбинацию (алгоритм, количество признаков, масштабирование) с лучшими показателями sMAPE на каждом этапе и общим."
   ]
  },
  {
   "cell_type": "code",
   "execution_count": 73,
   "metadata": {},
   "outputs": [],
   "source": [
    "results_col = ['model', 'r2 rougher', 'r2 final', 'sMAPE rougher', 'sMAPE final', 'sMAPE total']"
   ]
  },
  {
   "cell_type": "code",
   "execution_count": 74,
   "metadata": {},
   "outputs": [],
   "source": [
    "result = pd.DataFrame(data=results, columns=results_col)"
   ]
  },
  {
   "cell_type": "code",
   "execution_count": 75,
   "metadata": {},
   "outputs": [
    {
     "data": {
      "text/html": [
       "<div>\n",
       "<style scoped>\n",
       "    .dataframe tbody tr th:only-of-type {\n",
       "        vertical-align: middle;\n",
       "    }\n",
       "\n",
       "    .dataframe tbody tr th {\n",
       "        vertical-align: top;\n",
       "    }\n",
       "\n",
       "    .dataframe thead th {\n",
       "        text-align: right;\n",
       "    }\n",
       "</style>\n",
       "<table border=\"1\" class=\"dataframe\">\n",
       "  <thead>\n",
       "    <tr style=\"text-align: right;\">\n",
       "      <th></th>\n",
       "      <th>model</th>\n",
       "      <th>r2 rougher</th>\n",
       "      <th>r2 final</th>\n",
       "      <th>sMAPE rougher</th>\n",
       "      <th>sMAPE final</th>\n",
       "      <th>sMAPE total</th>\n",
       "    </tr>\n",
       "  </thead>\n",
       "  <tbody>\n",
       "    <tr>\n",
       "      <th>33</th>\n",
       "      <td>ElasticNet(random_state=12345)</td>\n",
       "      <td>-0.118177</td>\n",
       "      <td>0.077593</td>\n",
       "      <td>9.741432</td>\n",
       "      <td>9.249545</td>\n",
       "      <td>9.372516</td>\n",
       "    </tr>\n",
       "  </tbody>\n",
       "</table>\n",
       "</div>"
      ],
      "text/plain": [
       "                             model  r2 rougher  r2 final  sMAPE rougher  \\\n",
       "33  ElasticNet(random_state=12345)   -0.118177  0.077593       9.741432   \n",
       "\n",
       "    sMAPE final  sMAPE total  \n",
       "33     9.249545     9.372516  "
      ]
     },
     "execution_count": 75,
     "metadata": {},
     "output_type": "execute_result"
    }
   ],
   "source": [
    "result.loc[result['sMAPE total'] == result['sMAPE total'].min()]"
   ]
  },
  {
   "cell_type": "code",
   "execution_count": 76,
   "metadata": {},
   "outputs": [
    {
     "data": {
      "text/html": [
       "<div>\n",
       "<style scoped>\n",
       "    .dataframe tbody tr th:only-of-type {\n",
       "        vertical-align: middle;\n",
       "    }\n",
       "\n",
       "    .dataframe tbody tr th {\n",
       "        vertical-align: top;\n",
       "    }\n",
       "\n",
       "    .dataframe thead th {\n",
       "        text-align: right;\n",
       "    }\n",
       "</style>\n",
       "<table border=\"1\" class=\"dataframe\">\n",
       "  <thead>\n",
       "    <tr style=\"text-align: right;\">\n",
       "      <th></th>\n",
       "      <th>model</th>\n",
       "      <th>r2 rougher</th>\n",
       "      <th>r2 final</th>\n",
       "      <th>sMAPE rougher</th>\n",
       "      <th>sMAPE final</th>\n",
       "      <th>sMAPE total</th>\n",
       "    </tr>\n",
       "  </thead>\n",
       "  <tbody>\n",
       "    <tr>\n",
       "      <th>33</th>\n",
       "      <td>ElasticNet(random_state=12345)</td>\n",
       "      <td>-0.118177</td>\n",
       "      <td>0.077593</td>\n",
       "      <td>9.741432</td>\n",
       "      <td>9.249545</td>\n",
       "      <td>9.372516</td>\n",
       "    </tr>\n",
       "  </tbody>\n",
       "</table>\n",
       "</div>"
      ],
      "text/plain": [
       "                             model  r2 rougher  r2 final  sMAPE rougher  \\\n",
       "33  ElasticNet(random_state=12345)   -0.118177  0.077593       9.741432   \n",
       "\n",
       "    sMAPE final  sMAPE total  \n",
       "33     9.249545     9.372516  "
      ]
     },
     "execution_count": 76,
     "metadata": {},
     "output_type": "execute_result"
    }
   ],
   "source": [
    "result.loc[result['sMAPE rougher'] == result['sMAPE rougher'].min()]"
   ]
  },
  {
   "cell_type": "code",
   "execution_count": 77,
   "metadata": {},
   "outputs": [
    {
     "data": {
      "text/html": [
       "<div>\n",
       "<style scoped>\n",
       "    .dataframe tbody tr th:only-of-type {\n",
       "        vertical-align: middle;\n",
       "    }\n",
       "\n",
       "    .dataframe tbody tr th {\n",
       "        vertical-align: top;\n",
       "    }\n",
       "\n",
       "    .dataframe thead th {\n",
       "        text-align: right;\n",
       "    }\n",
       "</style>\n",
       "<table border=\"1\" class=\"dataframe\">\n",
       "  <thead>\n",
       "    <tr style=\"text-align: right;\">\n",
       "      <th></th>\n",
       "      <th>model</th>\n",
       "      <th>r2 rougher</th>\n",
       "      <th>r2 final</th>\n",
       "      <th>sMAPE rougher</th>\n",
       "      <th>sMAPE final</th>\n",
       "      <th>sMAPE total</th>\n",
       "    </tr>\n",
       "  </thead>\n",
       "  <tbody>\n",
       "    <tr>\n",
       "      <th>33</th>\n",
       "      <td>ElasticNet(random_state=12345)</td>\n",
       "      <td>-0.118177</td>\n",
       "      <td>0.077593</td>\n",
       "      <td>9.741432</td>\n",
       "      <td>9.249545</td>\n",
       "      <td>9.372516</td>\n",
       "    </tr>\n",
       "  </tbody>\n",
       "</table>\n",
       "</div>"
      ],
      "text/plain": [
       "                             model  r2 rougher  r2 final  sMAPE rougher  \\\n",
       "33  ElasticNet(random_state=12345)   -0.118177  0.077593       9.741432   \n",
       "\n",
       "    sMAPE final  sMAPE total  \n",
       "33     9.249545     9.372516  "
      ]
     },
     "execution_count": 77,
     "metadata": {},
     "output_type": "execute_result"
    }
   ],
   "source": [
    "result.loc[result['sMAPE final'] == result['sMAPE final'].min()]"
   ]
  },
  {
   "cell_type": "markdown",
   "metadata": {},
   "source": [
    "Лучшие показатели: алгоритм ElasticNet, выборка полная, признаки масштабированные."
   ]
  },
  {
   "cell_type": "markdown",
   "metadata": {},
   "source": [
    "Проверим работу модели на тестовой выборке `test_scaled_features_full_list`."
   ]
  },
  {
   "cell_type": "markdown",
   "metadata": {},
   "source": [
    "Обучим модель по оптимальному алгоритму и сделаем предсказания."
   ]
  },
  {
   "cell_type": "code",
   "execution_count": 78,
   "metadata": {},
   "outputs": [],
   "source": [
    "best_model_rougher = ElasticNet(random_state=12345)\n",
    "best_model_final = ElasticNet(random_state=12345)\n",
    "best_model_rougher.fit(scaled_features_full_list[0], scaled_features_full_list[1])\n",
    "best_model_final.fit(scaled_features_full_list[0], scaled_features_full_list[2])\n",
    "\n",
    "y_pred_test_rougher = best_model_rougher.predict(test_scaled_features_full_list[0])\n",
    "y_pred_test_final = best_model_final.predict(test_scaled_features_full_list[0])"
   ]
  },
  {
   "cell_type": "markdown",
   "metadata": {},
   "source": [
    "Вычислим контрольную метрику качества для тестовой выборки."
   ]
  },
  {
   "cell_type": "code",
   "execution_count": 79,
   "metadata": {},
   "outputs": [
    {
     "name": "stdout",
     "output_type": "stream",
     "text": [
      "sMAPE_total: 8.296, sMAPE_rougher: 8.616, sMAPE_final: 8.189\n"
     ]
    }
   ],
   "source": [
    "sMAPE_rougher = sMAPE(test_scaled_features_full_list[1], y_pred_test_rougher)\n",
    "sMAPE_final = sMAPE(test_scaled_features_full_list[2], y_pred_test_final)\n",
    "sMAPE_total = sMAPE_rougher * .25 + sMAPE_final * .75\n",
    "\n",
    "print(f'sMAPE_total: {sMAPE_total:.3f}, sMAPE_rougher: {sMAPE_rougher:.3f}, sMAPE_final: {sMAPE_final:.3f}')"
   ]
  },
  {
   "cell_type": "markdown",
   "metadata": {},
   "source": [
    "На тестовой выборке результат не ухудшился, что подтверждает правильность выбора алгоритма обучения."
   ]
  },
  {
   "cell_type": "markdown",
   "metadata": {},
   "source": [
    "Проверим на адекватность."
   ]
  },
  {
   "cell_type": "markdown",
   "metadata": {},
   "source": [
    "В качестве прогноза подставим среднее значение признака на обучающей выборке."
   ]
  },
  {
   "cell_type": "code",
   "execution_count": 80,
   "metadata": {},
   "outputs": [],
   "source": [
    "y_pred_mean_rougher = pd.Series(data=train['rougher.output.recovery'].mean(), index=test_scaled_features_full_list[1].index)"
   ]
  },
  {
   "cell_type": "code",
   "execution_count": 81,
   "metadata": {},
   "outputs": [],
   "source": [
    "y_pred_mean_final = pd.Series(data=train['final.output.recovery'].mean(), index=test_scaled_features_full_list[1].index)"
   ]
  },
  {
   "cell_type": "code",
   "execution_count": 82,
   "metadata": {},
   "outputs": [
    {
     "name": "stdout",
     "output_type": "stream",
     "text": [
      "sMAPE_total: 9.875, sMAPE_rougher: 10.272, sMAPE_final: 9.743\n"
     ]
    }
   ],
   "source": [
    "sMAPE_rougher = sMAPE(test_scaled_features_full_list[1], y_pred_mean_rougher)\n",
    "sMAPE_final = sMAPE(test_scaled_features_full_list[2], y_pred_mean_final)\n",
    "sMAPE_total = sMAPE_rougher * .25 + sMAPE_final * .75\n",
    "\n",
    "print(f'sMAPE_total: {sMAPE_total:.3f}, sMAPE_rougher: {sMAPE_rougher:.3f}, sMAPE_final: {sMAPE_final:.3f}')"
   ]
  },
  {
   "cell_type": "markdown",
   "metadata": {},
   "source": [
    "Проверка пройдена, результат модели превосходит прогноз на основе среднего."
   ]
  },
  {
   "cell_type": "markdown",
   "metadata": {},
   "source": [
    "### Вывод"
   ]
  },
  {
   "cell_type": "markdown",
   "metadata": {},
   "source": [
    "Написана функцию для вычисления sMAPE и на её основе сделана метрика.\n",
    "\n",
    "Лучшие показатели на кросс-валидации: алгоритм ElasticNet, выборка полная, признаки масштабированные.\n",
    "\n",
    "На тестовой выборке результат не ухудшился, что подтверждает правильность выбора алгоритма обучения.\n",
    "\n",
    "Пройдена проверка на адекватность, результат модели превосходит прогноз на основе среднего.\n",
    "\n",
    "[В начало раздела 3](#section_3)"
   ]
  },
  {
   "cell_type": "markdown",
   "metadata": {},
   "source": [
    "<a id=\"section_4\"></a>\n",
    "## Итог"
   ]
  },
  {
   "cell_type": "markdown",
   "metadata": {},
   "source": [
    "Целью данной работы являлась подготовка прототипа модели машинного обучения для повышения эффективности работы промышленнго предприятия с помощью моделироваия процесса восстановления золота из золотосодержащей руды.\n",
    "\n",
    "Нам были предоставлены данные с параметрами добычи и очистки. \n",
    "\n",
    "Были проведены предобработка данных: исключение пропусков, корректировка типов данных. Качество и количество данных были признаны достаточными для целей работы. Установлено, что:\n",
    "- величины эффективности обогащения в предоставленных нам данных вычислены корректно.\n",
    "- признаки, недоступные в тестовой выборке, являются выходными данными. При использовании модели эти данные не потребуются.\n",
    "\n",
    "Произведена предобработка данных, сформированы наборы данных для обучения и тестирования моделей.\n",
    "\n",
    "\n",
    "В результате исследовательского анализа данных установили следующее:\n",
    "- концентрация золота линейно возрастает по мере очистки, тогда как содержание других металлов снижается, либо стабилизируется.\n",
    "- распределения размеров гранул сырья на обучающей и тестовой выборках различаются несущественно, что позволяет рассчитывать на адекватную оценку модели.\n",
    "- суммарная концентрация всех веществ на разных стадиях: в сырье, в черновом и финальном концентратах - остается приблизительно на одном уровне, однако соотношение этих веществ, а точнее двух из них, обратнопропорционально: в процессе очистки 'sol' замещается на 'au'.\n",
    "\n",
    "\n",
    "Была написана функция для вычисления sMAPE и на её основе сделана метрика.\n",
    "Созданы и протестированы модели на основе различных алгоритмов:\n",
    "- LinearRegression\n",
    "- Lasso\n",
    "- Ridge\n",
    "- ElasticNet\n",
    "- DecisionTreeRegressor\n",
    "- RandomForestRegressor\n",
    "\n",
    "Лучшие показатели на кросс-валидации: алгоритм ElasticNet, выборка полная, признаки масштабированные. \n",
    "На тестовой выборке результат не ухудшился, что подтверждает правильность выбора алгоритма обучения.\n",
    "Пройдена проверка на адекватность, результат модели превосходит прогноз на основе среднего.\n",
    "\n",
    "\n",
    "Предложенная модель предсказывает коэффициент восстановления золота из золотосодержащей руды с качеством по метрике sMAPE: 8.296. \n",
    "\n",
    "Данные показатели дают надежду, что модель поможет оптимизировать производство, чтобы не запускать предприятие с убыточными характеристиками.\n",
    "\n",
    "[В начало](#section_0)"
   ]
  },
  {
   "cell_type": "markdown",
   "metadata": {},
   "source": [
    "## Чек-лист готовности проекта"
   ]
  },
  {
   "cell_type": "markdown",
   "metadata": {},
   "source": [
    "- [x]  Jupyter Notebook открыт\n",
    "- [x]  Весь код выполняется без ошибок\n",
    "- [x]  Ячейки с кодом расположены в порядке выполнения\n",
    "- [x]  Выполнен шаг 1: данные подготовлены\n",
    "    - [x]  Проверена формула вычисления эффективности обогащения\n",
    "    - [x]  Проанализированы признаки, недоступные в тестовой выборке\n",
    "    - [x]  Проведена предобработка данных\n",
    "- [x]  Выполнен шаг 2: данные проанализированы\n",
    "    - [x]  Исследовано изменение концентрации элементов на каждом этапе\n",
    "    - [x]  Проанализированы распределения размеров гранул на обучающей и тестовой выборках\n",
    "    - [x]  Исследованы суммарные концентрации\n",
    "- [x]  Выполнен шаг 3: построена модель прогнозирования\n",
    "    - [x]  Написана функция для вычисления итогового *sMAPE*\n",
    "    - [x]  Обучено и проверено несколько моделей\n",
    "    - [x]  Выбрана лучшая модель, её качество проверено на тестовой выборке\n",
    "    \n",
    "[В начало](#section_0)"
   ]
  }
 ],
 "metadata": {
  "kernelspec": {
   "display_name": "Python 3 (ipykernel)",
   "language": "python",
   "name": "python3"
  },
  "language_info": {
   "codemirror_mode": {
    "name": "ipython",
    "version": 3
   },
   "file_extension": ".py",
   "mimetype": "text/x-python",
   "name": "python",
   "nbconvert_exporter": "python",
   "pygments_lexer": "ipython3",
   "version": "3.8.5"
  },
  "toc": {
   "base_numbering": 1,
   "nav_menu": {},
   "number_sections": true,
   "sideBar": true,
   "skip_h1_title": true,
   "title_cell": "Содержание",
   "title_sidebar": "Contents",
   "toc_cell": true,
   "toc_position": {
    "height": "calc(100% - 180px)",
    "left": "10px",
    "top": "150px",
    "width": "303.837px"
   },
   "toc_section_display": true,
   "toc_window_display": true
  }
 },
 "nbformat": 4,
 "nbformat_minor": 2
}

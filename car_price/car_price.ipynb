{
 "cells": [
  {
   "cell_type": "markdown",
   "metadata": {},
   "source": [
    "# Определение стоимости автомобилей"
   ]
  },
  {
   "cell_type": "markdown",
   "metadata": {},
   "source": [
    "Сервис по продаже автомобилей с пробегом «Не бит, не крашен» разрабатывает приложение для привлечения новых клиентов. В нём можно быстро узнать рыночную стоимость своего автомобиля. В вашем распоряжении исторические данные: технические характеристики, комплектации и цены автомобилей. Вам нужно построить модель для определения стоимости. \n",
    "\n",
    "Заказчику важны:\n",
    "\n",
    "- качество предсказания;\n",
    "- скорость предсказания;\n",
    "- время обучения."
   ]
  },
  {
   "cell_type": "markdown",
   "metadata": {},
   "source": [
    "Установим и импортируем необходимые библиотеки."
   ]
  },
  {
   "cell_type": "code",
   "execution_count": 1,
   "metadata": {},
   "outputs": [],
   "source": [
    "# !pip install pandas_profiling --user "
   ]
  },
  {
   "cell_type": "code",
   "execution_count": 2,
   "metadata": {},
   "outputs": [],
   "source": [
    "#!pip install --upgrade pandas --user "
   ]
  },
  {
   "cell_type": "code",
   "execution_count": 3,
   "metadata": {},
   "outputs": [],
   "source": [
    "import time\n",
    "import pandas as pd\n",
    "import numpy as np\n",
    "import matplotlib.pyplot as plt\n",
    "\n",
    "from pandas_profiling import ProfileReport\n",
    "\n",
    "import lightgbm as lgb\n",
    "\n",
    "from sklearn.metrics import mean_squared_error\n",
    "from sklearn.preprocessing import OrdinalEncoder, StandardScaler\n",
    "from sklearn.model_selection import train_test_split, GridSearchCV\n",
    "from sklearn.linear_model import LinearRegression, Ridge, ElasticNet\n",
    "\n",
    "import warnings\n",
    "warnings.filterwarnings(\"ignore\")"
   ]
  },
  {
   "cell_type": "code",
   "execution_count": 4,
   "metadata": {},
   "outputs": [
    {
     "data": {
      "text/plain": [
       "'1.3.4'"
      ]
     },
     "execution_count": 4,
     "metadata": {},
     "output_type": "execute_result"
    }
   ],
   "source": [
    "pd.__version__"
   ]
  },
  {
   "cell_type": "markdown",
   "metadata": {},
   "source": [
    "## Подготовка данных"
   ]
  },
  {
   "cell_type": "markdown",
   "metadata": {},
   "source": [
    "### Загрузка данных"
   ]
  },
  {
   "cell_type": "markdown",
   "metadata": {},
   "source": [
    "Загрузим данные, предусмотрим различные способы расположения файлов."
   ]
  },
  {
   "cell_type": "code",
   "execution_count": 5,
   "metadata": {},
   "outputs": [],
   "source": [
    "try:\n",
    "    autos = pd.read_csv('autos.csv')\n",
    "except:\n",
    "    autos = pd.read_csv('/datasets/autos.csv')"
   ]
  },
  {
   "cell_type": "markdown",
   "metadata": {},
   "source": [
    "Проверим читаемость данных."
   ]
  },
  {
   "cell_type": "code",
   "execution_count": 6,
   "metadata": {},
   "outputs": [
    {
     "data": {
      "text/html": [
       "<div>\n",
       "<style scoped>\n",
       "    .dataframe tbody tr th:only-of-type {\n",
       "        vertical-align: middle;\n",
       "    }\n",
       "\n",
       "    .dataframe tbody tr th {\n",
       "        vertical-align: top;\n",
       "    }\n",
       "\n",
       "    .dataframe thead th {\n",
       "        text-align: right;\n",
       "    }\n",
       "</style>\n",
       "<table border=\"1\" class=\"dataframe\">\n",
       "  <thead>\n",
       "    <tr style=\"text-align: right;\">\n",
       "      <th></th>\n",
       "      <th>232024</th>\n",
       "      <th>254731</th>\n",
       "      <th>268110</th>\n",
       "      <th>184521</th>\n",
       "      <th>313646</th>\n",
       "    </tr>\n",
       "  </thead>\n",
       "  <tbody>\n",
       "    <tr>\n",
       "      <th>DateCrawled</th>\n",
       "      <td>2016-03-07 12:56:10</td>\n",
       "      <td>2016-04-03 18:47:37</td>\n",
       "      <td>2016-03-18 21:42:49</td>\n",
       "      <td>2016-03-07 00:37:33</td>\n",
       "      <td>2016-03-08 19:57:36</td>\n",
       "    </tr>\n",
       "    <tr>\n",
       "      <th>Price</th>\n",
       "      <td>3999</td>\n",
       "      <td>900</td>\n",
       "      <td>14999</td>\n",
       "      <td>9500</td>\n",
       "      <td>6900</td>\n",
       "    </tr>\n",
       "    <tr>\n",
       "      <th>VehicleType</th>\n",
       "      <td>wagon</td>\n",
       "      <td>NaN</td>\n",
       "      <td>bus</td>\n",
       "      <td>wagon</td>\n",
       "      <td>small</td>\n",
       "    </tr>\n",
       "    <tr>\n",
       "      <th>RegistrationYear</th>\n",
       "      <td>1999</td>\n",
       "      <td>2017</td>\n",
       "      <td>2011</td>\n",
       "      <td>2011</td>\n",
       "      <td>2010</td>\n",
       "    </tr>\n",
       "    <tr>\n",
       "      <th>Gearbox</th>\n",
       "      <td>NaN</td>\n",
       "      <td>manual</td>\n",
       "      <td>auto</td>\n",
       "      <td>manual</td>\n",
       "      <td>manual</td>\n",
       "    </tr>\n",
       "    <tr>\n",
       "      <th>Power</th>\n",
       "      <td>110</td>\n",
       "      <td>75</td>\n",
       "      <td>140</td>\n",
       "      <td>131</td>\n",
       "      <td>101</td>\n",
       "    </tr>\n",
       "    <tr>\n",
       "      <th>Model</th>\n",
       "      <td>a4</td>\n",
       "      <td>megane</td>\n",
       "      <td>touran</td>\n",
       "      <td>megane</td>\n",
       "      <td>yaris</td>\n",
       "    </tr>\n",
       "    <tr>\n",
       "      <th>Kilometer</th>\n",
       "      <td>150000</td>\n",
       "      <td>150000</td>\n",
       "      <td>70000</td>\n",
       "      <td>125000</td>\n",
       "      <td>40000</td>\n",
       "    </tr>\n",
       "    <tr>\n",
       "      <th>RegistrationMonth</th>\n",
       "      <td>10</td>\n",
       "      <td>10</td>\n",
       "      <td>2</td>\n",
       "      <td>1</td>\n",
       "      <td>8</td>\n",
       "    </tr>\n",
       "    <tr>\n",
       "      <th>FuelType</th>\n",
       "      <td>gasoline</td>\n",
       "      <td>NaN</td>\n",
       "      <td>petrol</td>\n",
       "      <td>gasoline</td>\n",
       "      <td>petrol</td>\n",
       "    </tr>\n",
       "    <tr>\n",
       "      <th>Brand</th>\n",
       "      <td>audi</td>\n",
       "      <td>renault</td>\n",
       "      <td>volkswagen</td>\n",
       "      <td>renault</td>\n",
       "      <td>toyota</td>\n",
       "    </tr>\n",
       "    <tr>\n",
       "      <th>NotRepaired</th>\n",
       "      <td>no</td>\n",
       "      <td>no</td>\n",
       "      <td>no</td>\n",
       "      <td>no</td>\n",
       "      <td>no</td>\n",
       "    </tr>\n",
       "    <tr>\n",
       "      <th>DateCreated</th>\n",
       "      <td>2016-03-07 00:00:00</td>\n",
       "      <td>2016-04-03 00:00:00</td>\n",
       "      <td>2016-03-18 00:00:00</td>\n",
       "      <td>2016-03-06 00:00:00</td>\n",
       "      <td>2016-03-08 00:00:00</td>\n",
       "    </tr>\n",
       "    <tr>\n",
       "      <th>NumberOfPictures</th>\n",
       "      <td>0</td>\n",
       "      <td>0</td>\n",
       "      <td>0</td>\n",
       "      <td>0</td>\n",
       "      <td>0</td>\n",
       "    </tr>\n",
       "    <tr>\n",
       "      <th>PostalCode</th>\n",
       "      <td>7613</td>\n",
       "      <td>67754</td>\n",
       "      <td>73773</td>\n",
       "      <td>20539</td>\n",
       "      <td>54568</td>\n",
       "    </tr>\n",
       "    <tr>\n",
       "      <th>LastSeen</th>\n",
       "      <td>2016-04-06 03:16:39</td>\n",
       "      <td>2016-04-05 19:18:04</td>\n",
       "      <td>2016-03-27 23:45:05</td>\n",
       "      <td>2016-04-07 06:46:33</td>\n",
       "      <td>2016-03-17 03:45:06</td>\n",
       "    </tr>\n",
       "  </tbody>\n",
       "</table>\n",
       "</div>"
      ],
      "text/plain": [
       "                                232024               254731  \\\n",
       "DateCrawled        2016-03-07 12:56:10  2016-04-03 18:47:37   \n",
       "Price                             3999                  900   \n",
       "VehicleType                      wagon                  NaN   \n",
       "RegistrationYear                  1999                 2017   \n",
       "Gearbox                            NaN               manual   \n",
       "Power                              110                   75   \n",
       "Model                               a4               megane   \n",
       "Kilometer                       150000               150000   \n",
       "RegistrationMonth                   10                   10   \n",
       "FuelType                      gasoline                  NaN   \n",
       "Brand                             audi              renault   \n",
       "NotRepaired                         no                   no   \n",
       "DateCreated        2016-03-07 00:00:00  2016-04-03 00:00:00   \n",
       "NumberOfPictures                     0                    0   \n",
       "PostalCode                        7613                67754   \n",
       "LastSeen           2016-04-06 03:16:39  2016-04-05 19:18:04   \n",
       "\n",
       "                                268110               184521  \\\n",
       "DateCrawled        2016-03-18 21:42:49  2016-03-07 00:37:33   \n",
       "Price                            14999                 9500   \n",
       "VehicleType                        bus                wagon   \n",
       "RegistrationYear                  2011                 2011   \n",
       "Gearbox                           auto               manual   \n",
       "Power                              140                  131   \n",
       "Model                           touran               megane   \n",
       "Kilometer                        70000               125000   \n",
       "RegistrationMonth                    2                    1   \n",
       "FuelType                        petrol             gasoline   \n",
       "Brand                       volkswagen              renault   \n",
       "NotRepaired                         no                   no   \n",
       "DateCreated        2016-03-18 00:00:00  2016-03-06 00:00:00   \n",
       "NumberOfPictures                     0                    0   \n",
       "PostalCode                       73773                20539   \n",
       "LastSeen           2016-03-27 23:45:05  2016-04-07 06:46:33   \n",
       "\n",
       "                                313646  \n",
       "DateCrawled        2016-03-08 19:57:36  \n",
       "Price                             6900  \n",
       "VehicleType                      small  \n",
       "RegistrationYear                  2010  \n",
       "Gearbox                         manual  \n",
       "Power                              101  \n",
       "Model                            yaris  \n",
       "Kilometer                        40000  \n",
       "RegistrationMonth                    8  \n",
       "FuelType                        petrol  \n",
       "Brand                           toyota  \n",
       "NotRepaired                         no  \n",
       "DateCreated        2016-03-08 00:00:00  \n",
       "NumberOfPictures                     0  \n",
       "PostalCode                       54568  \n",
       "LastSeen           2016-03-17 03:45:06  "
      ]
     },
     "execution_count": 6,
     "metadata": {},
     "output_type": "execute_result"
    }
   ],
   "source": [
    "autos.sample(5).T"
   ]
  },
  {
   "cell_type": "markdown",
   "metadata": {},
   "source": [
    "Описание данных\n",
    "\n",
    "Признаки\n",
    "\n",
    "    DateCrawled — дата скачивания анкеты из базы\n",
    "    VehicleType — тип автомобильного кузова\n",
    "    RegistrationYear — год регистрации автомобиля\n",
    "    Gearbox — тип коробки передач\n",
    "    Power — мощность (л. с.)\n",
    "    Model — модель автомобиля\n",
    "    Kilometer — пробег (км)\n",
    "    RegistrationMonth — месяц регистрации автомобиля\n",
    "    FuelType — тип топлива\n",
    "    Brand — марка автомобиля\n",
    "    NotRepaired — была машина в ремонте или нет\n",
    "    DateCreated — дата создания анкеты\n",
    "    NumberOfPictures — количество фотографий автомобиля\n",
    "    PostalCode — почтовый индекс владельца анкеты (пользователя)\n",
    "    LastSeen — дата последней активности пользователя\n",
    "\n",
    "Целевой признак\n",
    "\n",
    "    Price — цена (евро)"
   ]
  },
  {
   "cell_type": "markdown",
   "metadata": {},
   "source": [
    "Данные читаемы, описанию соответствуют."
   ]
  },
  {
   "cell_type": "code",
   "execution_count": 7,
   "metadata": {},
   "outputs": [
    {
     "name": "stdout",
     "output_type": "stream",
     "text": [
      "<class 'pandas.core.frame.DataFrame'>\n",
      "RangeIndex: 354369 entries, 0 to 354368\n",
      "Data columns (total 16 columns):\n",
      " #   Column             Non-Null Count   Dtype \n",
      "---  ------             --------------   ----- \n",
      " 0   DateCrawled        354369 non-null  object\n",
      " 1   Price              354369 non-null  int64 \n",
      " 2   VehicleType        316879 non-null  object\n",
      " 3   RegistrationYear   354369 non-null  int64 \n",
      " 4   Gearbox            334536 non-null  object\n",
      " 5   Power              354369 non-null  int64 \n",
      " 6   Model              334664 non-null  object\n",
      " 7   Kilometer          354369 non-null  int64 \n",
      " 8   RegistrationMonth  354369 non-null  int64 \n",
      " 9   FuelType           321474 non-null  object\n",
      " 10  Brand              354369 non-null  object\n",
      " 11  NotRepaired        283215 non-null  object\n",
      " 12  DateCreated        354369 non-null  object\n",
      " 13  NumberOfPictures   354369 non-null  int64 \n",
      " 14  PostalCode         354369 non-null  int64 \n",
      " 15  LastSeen           354369 non-null  object\n",
      "dtypes: int64(7), object(9)\n",
      "memory usage: 43.3+ MB\n"
     ]
    }
   ],
   "source": [
    "autos.info()"
   ]
  },
  {
   "cell_type": "markdown",
   "metadata": {},
   "source": [
    "Приведем признаки к соответствующему типу данных.\n",
    "\n",
    "    DateCrawled — дата скачивания анкеты из базы\n",
    "    DateCreated — дата создания анкеты\n",
    "    LastSeen — дата последней активности пользователя"
   ]
  },
  {
   "cell_type": "code",
   "execution_count": 8,
   "metadata": {},
   "outputs": [],
   "source": [
    "FORMAT_DATETIME = '%Y-%m-%dT%H:%M:%S'"
   ]
  },
  {
   "cell_type": "code",
   "execution_count": 9,
   "metadata": {},
   "outputs": [],
   "source": [
    "date_features = ['DateCrawled', 'DateCreated', 'LastSeen']"
   ]
  },
  {
   "cell_type": "code",
   "execution_count": 10,
   "metadata": {},
   "outputs": [],
   "source": [
    "for date_feature in date_features:\n",
    "    autos[date_feature] = pd.to_datetime(autos[date_feature], format=FORMAT_DATETIME)"
   ]
  },
  {
   "cell_type": "markdown",
   "metadata": {},
   "source": [
    "### EDA средствами pandas-profiling"
   ]
  },
  {
   "cell_type": "markdown",
   "metadata": {},
   "source": [
    "С помощью средств библиотеки pandas_profiling проанализируем данные."
   ]
  },
  {
   "cell_type": "code",
   "execution_count": 11,
   "metadata": {},
   "outputs": [],
   "source": [
    "# profile = autos.profile_report()"
   ]
  },
  {
   "cell_type": "code",
   "execution_count": 12,
   "metadata": {},
   "outputs": [],
   "source": [
    "# profile.to_notebook_iframe()"
   ]
  },
  {
   "cell_type": "markdown",
   "metadata": {},
   "source": [
    "1. Данные скачивались чуть больше месяца: с 2016-03-05 14:06:22 по 2016-04-07 14:36:58.\n",
    "2. В графе Price 3.0% (10772) объектов имеют нулевую стоимость.\n",
    "3. VehicleType - пропуски 10.6% (37 490)\n",
    "4. RegistrationYear есть неправдоподобно малые и большие значения\n",
    "5. Gearbox - пропуски 5.6% (19 833)\n",
    "6. Power есть неправдоподобно малые и большие значения\n",
    "7. Model - пропуски 5.6% (19 705)\n",
    "8. FuelType - пропуски 9.3% (32 895)\n",
    "9. NotRepaired - пропуски 20.1% (71 154)\n",
    "10. NumberOfPictures - все значения 0"
   ]
  },
  {
   "cell_type": "markdown",
   "metadata": {},
   "source": [
    "### Предобработка"
   ]
  },
  {
   "cell_type": "markdown",
   "metadata": {},
   "source": [
    "<a id=\"drop_duplicates\"></a>\n",
    "Удалим дубли."
   ]
  },
  {
   "cell_type": "code",
   "execution_count": 13,
   "metadata": {},
   "outputs": [],
   "source": [
    "autos.drop_duplicates(inplace=True)"
   ]
  },
  {
   "cell_type": "markdown",
   "metadata": {},
   "source": [
    "Напишем функцию для замещения пропусков."
   ]
  },
  {
   "cell_type": "code",
   "execution_count": 14,
   "metadata": {},
   "outputs": [],
   "source": [
    "def fill_mode(column):\n",
    "    \n",
    "    use_columns = groupby_columns.copy()\n",
    "    use_columns.remove(column)\n",
    "    \n",
    "    for i in range(1, len(use_columns)):\n",
    "        \n",
    "        autos[column] = (\n",
    "            autos.groupby(use_columns[:-i])[column]\n",
    "            .transform(lambda x: x.fillna((x.mode()[0] if not x.mode().empty else np.nan)))\n",
    "        )"
   ]
  },
  {
   "cell_type": "code",
   "execution_count": 15,
   "metadata": {},
   "outputs": [],
   "source": [
    "groupby_columns = [\"Brand\", \"Model\", \"VehicleType\", \"Power\", \"RegistrationYear\", \"Gearbox\", \"FuelType\", \"kostyl'\"]"
   ]
  },
  {
   "cell_type": "markdown",
   "metadata": {},
   "source": [
    "Приравняем нули в графе 'Power' к пропускам."
   ]
  },
  {
   "cell_type": "code",
   "execution_count": 16,
   "metadata": {},
   "outputs": [],
   "source": [
    "autos.loc[autos['Power']==0, ['Power']] = np.nan"
   ]
  },
  {
   "cell_type": "markdown",
   "metadata": {},
   "source": [
    "С помощью функции fill_mode заполним пропуски в выбраных столбцах."
   ]
  },
  {
   "cell_type": "code",
   "execution_count": 17,
   "metadata": {},
   "outputs": [],
   "source": [
    "fill_columns = [\"VehicleType\", \"Gearbox\", \"FuelType\", \"Model\", \"Power\", ]"
   ]
  },
  {
   "cell_type": "code",
   "execution_count": 18,
   "metadata": {},
   "outputs": [
    {
     "name": "stdout",
     "output_type": "stream",
     "text": [
      "Wall time: 4min 51s\n"
     ]
    }
   ],
   "source": [
    "%%time\n",
    "for col in fill_columns:\n",
    "    fill_mode(col)"
   ]
  },
  {
   "cell_type": "markdown",
   "metadata": {},
   "source": [
    "В графе 'NotRepaired' заменим пропуски значением 'unknown'."
   ]
  },
  {
   "cell_type": "code",
   "execution_count": 19,
   "metadata": {},
   "outputs": [],
   "source": [
    "autos['NotRepaired'].fillna('unknown', inplace=True)"
   ]
  },
  {
   "cell_type": "markdown",
   "metadata": {},
   "source": [
    "Неправдоподобно малые и большие значения в графе \"RegistrationYear\" заменим модой."
   ]
  },
  {
   "cell_type": "code",
   "execution_count": 20,
   "metadata": {
    "scrolled": true
   },
   "outputs": [
    {
     "data": {
      "text/plain": [
       "351"
      ]
     },
     "execution_count": 20,
     "metadata": {},
     "output_type": "execute_result"
    }
   ],
   "source": [
    "autos.loc[(autos[\"RegistrationYear\"] < 1950) | (autos[\"RegistrationYear\"] > 2022)].shape[0]"
   ]
  },
  {
   "cell_type": "code",
   "execution_count": 21,
   "metadata": {},
   "outputs": [],
   "source": [
    "autos.loc[(autos[\"RegistrationYear\"] < 1950) | (autos[\"RegistrationYear\"] > 2022), \"RegistrationYear\"] = (\n",
    "    autos[\"RegistrationYear\"].mode()\n",
    ")"
   ]
  },
  {
   "cell_type": "markdown",
   "metadata": {},
   "source": [
    "<code>[Учитывая систему почтовых кодов США](https://en.wikipedia.org/wiki/ZIP_Code)</code> - в графе \"PostalCode\"оставляем только первую цифру."
   ]
  },
  {
   "attachments": {
    "ZIP_code_zones.png": {
     "image/png": "[encoded data removed]"
    }
   },
   "cell_type": "markdown",
   "metadata": {},
   "source": [
    "<a id=\"ZIP_code_zones\"></a>\n",
    "![ZIP_code_zones.png](attachment:ZIP_code_zones.png)"
   ]
  },
  {
   "cell_type": "code",
   "execution_count": 22,
   "metadata": {},
   "outputs": [],
   "source": [
    "autos['PostalCode'] = autos['PostalCode'] // 10_000"
   ]
  },
  {
   "cell_type": "markdown",
   "metadata": {},
   "source": [
    "Избавимся от объектов с ценой 0."
   ]
  },
  {
   "cell_type": "code",
   "execution_count": 23,
   "metadata": {},
   "outputs": [],
   "source": [
    "autos = autos.loc[autos[\"Price\"] > 0]"
   ]
  },
  {
   "cell_type": "markdown",
   "metadata": {},
   "source": [
    "Удалим признаки, не содержащие полезной информации."
   ]
  },
  {
   "cell_type": "code",
   "execution_count": 24,
   "metadata": {},
   "outputs": [],
   "source": [
    "autos = autos.drop(['DateCrawled', 'DateCreated', 'LastSeen', 'NumberOfPictures'], axis=1)"
   ]
  },
  {
   "cell_type": "markdown",
   "metadata": {},
   "source": [
    "Неправдоподобно малые и большие значения в графе \"Power\" заменим модой."
   ]
  },
  {
   "cell_type": "code",
   "execution_count": 25,
   "metadata": {
    "scrolled": true
   },
   "outputs": [
    {
     "data": {
      "text/plain": [
       "1391"
      ]
     },
     "execution_count": 25,
     "metadata": {},
     "output_type": "execute_result"
    }
   ],
   "source": [
    "autos.loc[(autos[\"Power\"] < 30) | (autos[\"Power\"] > 500)].shape[0]"
   ]
  },
  {
   "cell_type": "code",
   "execution_count": 26,
   "metadata": {},
   "outputs": [],
   "source": [
    "autos.loc[(autos[\"Power\"] < 30) | (autos[\"Power\"] > 500), \"Power\"] = (\n",
    "    autos[\"Power\"].mode()\n",
    ")"
   ]
  },
  {
   "cell_type": "markdown",
   "metadata": {},
   "source": [
    "Избавимся от объектов с пропусками, обновим индексы."
   ]
  },
  {
   "cell_type": "code",
   "execution_count": 27,
   "metadata": {},
   "outputs": [],
   "source": [
    "autos = autos.dropna().reset_index()"
   ]
  },
  {
   "cell_type": "markdown",
   "metadata": {},
   "source": [
    "### Проверка"
   ]
  },
  {
   "cell_type": "markdown",
   "metadata": {},
   "source": [
    "Проверим результат проведенных преобразований."
   ]
  },
  {
   "cell_type": "code",
   "execution_count": 28,
   "metadata": {},
   "outputs": [
    {
     "name": "stdout",
     "output_type": "stream",
     "text": [
      "<class 'pandas.core.frame.DataFrame'>\n",
      "RangeIndex: 339188 entries, 0 to 339187\n",
      "Data columns (total 13 columns):\n",
      " #   Column             Non-Null Count   Dtype  \n",
      "---  ------             --------------   -----  \n",
      " 0   index              339188 non-null  int64  \n",
      " 1   Price              339188 non-null  int64  \n",
      " 2   VehicleType        339188 non-null  object \n",
      " 3   RegistrationYear   339188 non-null  float64\n",
      " 4   Gearbox            339188 non-null  object \n",
      " 5   Power              339188 non-null  float64\n",
      " 6   Model              339188 non-null  object \n",
      " 7   Kilometer          339188 non-null  int64  \n",
      " 8   RegistrationMonth  339188 non-null  int64  \n",
      " 9   FuelType           339188 non-null  object \n",
      " 10  Brand              339188 non-null  object \n",
      " 11  NotRepaired        339188 non-null  object \n",
      " 12  PostalCode         339188 non-null  int64  \n",
      "dtypes: float64(2), int64(5), object(6)\n",
      "memory usage: 33.6+ MB\n"
     ]
    }
   ],
   "source": [
    "autos.info()"
   ]
  },
  {
   "cell_type": "code",
   "execution_count": 29,
   "metadata": {},
   "outputs": [],
   "source": [
    "# profile_2 = autos.profile_report()"
   ]
  },
  {
   "cell_type": "code",
   "execution_count": 30,
   "metadata": {},
   "outputs": [],
   "source": [
    "# profile_2.to_notebook_iframe()"
   ]
  },
  {
   "cell_type": "markdown",
   "metadata": {},
   "source": [
    "Пропусков нет, распределения правдоподобны."
   ]
  },
  {
   "cell_type": "markdown",
   "metadata": {},
   "source": [
    "### Вывод"
   ]
  },
  {
   "cell_type": "markdown",
   "metadata": {},
   "source": [
    "Предоставленные данные содержат информацию по 354 369 объектам, распределенную по 16 признакам.\n",
    "\n",
    "Исследовательский анализ данных показал, что имеются несоответствующие типы данных, пропуски, нулевые, неправдоподобно малые и большие значения, а также признаки, не несущие информации.\n",
    "\n",
    "В результате проведенной предобработки выявленные недостатки были устранены, итоговый датасет состоит из 339 192 объектов и 12 признаков, не имеет пропусков, значения распределены правдоподобно.\n",
    "\n",
    "Предварительно можно сделать вывод о том, что количество и качество данных достаточны для целей исследования."
   ]
  },
  {
   "cell_type": "markdown",
   "metadata": {},
   "source": [
    "## Обучение моделей"
   ]
  },
  {
   "cell_type": "markdown",
   "metadata": {},
   "source": [
    "Подготовим таблицу для занесения результатов."
   ]
  },
  {
   "cell_type": "code",
   "execution_count": 31,
   "metadata": {},
   "outputs": [],
   "source": [
    "results = pd.DataFrame()"
   ]
  },
  {
   "cell_type": "markdown",
   "metadata": {},
   "source": [
    "### Проверка на вменяемость"
   ]
  },
  {
   "cell_type": "code",
   "execution_count": 32,
   "metadata": {},
   "outputs": [],
   "source": [
    "result_dummy = ['dummy']"
   ]
  },
  {
   "cell_type": "markdown",
   "metadata": {},
   "source": [
    "Вычислим rmse для среднего значения целевого признака."
   ]
  },
  {
   "cell_type": "code",
   "execution_count": 33,
   "metadata": {},
   "outputs": [
    {
     "name": "stdout",
     "output_type": "stream",
     "text": [
      "(339188, 12) (339188,)\n"
     ]
    }
   ],
   "source": [
    "features = autos.drop(['Price'], axis=1)\n",
    "target = autos['Price']\n",
    "print(features.shape, target.shape)"
   ]
  },
  {
   "cell_type": "code",
   "execution_count": 34,
   "metadata": {},
   "outputs": [],
   "source": [
    "y_true = target"
   ]
  },
  {
   "cell_type": "code",
   "execution_count": 35,
   "metadata": {},
   "outputs": [],
   "source": [
    "start_time = time.perf_counter()\n",
    "target_mean = target.mean()\n",
    "result_dummy.append(time.perf_counter() - start_time)"
   ]
  },
  {
   "cell_type": "code",
   "execution_count": 36,
   "metadata": {},
   "outputs": [],
   "source": [
    "start_time = time.perf_counter()\n",
    "y_pred = pd.Series(target_mean, index=target.index)\n",
    "result_dummy.append(time.perf_counter() - start_time)"
   ]
  },
  {
   "cell_type": "code",
   "execution_count": 37,
   "metadata": {},
   "outputs": [
    {
     "name": "stdout",
     "output_type": "stream",
     "text": [
      "model: dummy, fit_time: 0.001, predict_time: 0.002, rmse: 4504\n"
     ]
    }
   ],
   "source": [
    "rmse = mean_squared_error(y_true, y_pred, squared=False)\n",
    "result_dummy.append(rmse)\n",
    "results = results.append([result_dummy], ignore_index=True)\n",
    "print('model: {}, fit_time: {:.3f}, predict_time: {:.3f}, rmse: {:.0f}'.format(*result_dummy))"
   ]
  },
  {
   "cell_type": "markdown",
   "metadata": {},
   "source": [
    "### Кодировка признаков для моделей на основе линейной регрессии"
   ]
  },
  {
   "cell_type": "markdown",
   "metadata": {},
   "source": [
    "Для обучения для моделей на основе линейной регрессии выполним кодирование категориальных признаков методом OneHotEncoding."
   ]
  },
  {
   "cell_type": "code",
   "execution_count": 38,
   "metadata": {},
   "outputs": [],
   "source": [
    "categorical_features = ['VehicleType', 'Gearbox', 'Model', 'FuelType', 'Brand', 'NotRepaired', 'PostalCode']"
   ]
  },
  {
   "cell_type": "code",
   "execution_count": 39,
   "metadata": {},
   "outputs": [
    {
     "name": "stdout",
     "output_type": "stream",
     "text": [
      "Wall time: 724 ms\n"
     ]
    }
   ],
   "source": [
    "%%time\n",
    "\n",
    "features_ohe = pd.get_dummies(features[categorical_features], drop_first=True)"
   ]
  },
  {
   "cell_type": "code",
   "execution_count": 40,
   "metadata": {},
   "outputs": [
    {
     "name": "stdout",
     "output_type": "stream",
     "text": [
      "Размеры Train_ohe/Test_ohe:  (254391, 303) (84797, 303) (254391,) (84797,)\n"
     ]
    }
   ],
   "source": [
    "X_train_ohe, X_test_ohe, Y_train, Y_test = train_test_split(features_ohe, target, test_size=0.25, random_state=12345)\n",
    "\n",
    "print(\"Размеры Train_ohe/Test_ohe: \", X_train_ohe.shape, X_test_ohe.shape, Y_train.shape, Y_test.shape)"
   ]
  },
  {
   "cell_type": "markdown",
   "metadata": {},
   "source": [
    "<a id=\"scaled\"></a>\n",
    "Выполним масштабирование признаков."
   ]
  },
  {
   "cell_type": "code",
   "execution_count": 41,
   "metadata": {},
   "outputs": [
    {
     "name": "stdout",
     "output_type": "stream",
     "text": [
      "Wall time: 2.62 s\n"
     ]
    }
   ],
   "source": [
    "%%time\n",
    "\n",
    "scaler = StandardScaler()\n",
    "scaler.fit(X_train_ohe)\n",
    "X_train_scaled = scaler.transform(X_train_ohe)\n",
    "X_test_scaled = scaler.transform(X_test_ohe)"
   ]
  },
  {
   "cell_type": "markdown",
   "metadata": {},
   "source": [
    "### LinearRegression"
   ]
  },
  {
   "cell_type": "markdown",
   "metadata": {},
   "source": [
    "Для обучения алгоритмом LinearRegression() подбор гиперпараметров не потребуется."
   ]
  },
  {
   "cell_type": "code",
   "execution_count": 42,
   "metadata": {},
   "outputs": [],
   "source": [
    "result_linear_regression = ['linear_regression']"
   ]
  },
  {
   "cell_type": "code",
   "execution_count": 43,
   "metadata": {},
   "outputs": [],
   "source": [
    "linear_regression = LinearRegression()"
   ]
  },
  {
   "cell_type": "code",
   "execution_count": 44,
   "metadata": {},
   "outputs": [],
   "source": [
    "start_time = time.perf_counter()\n",
    "linear_regression.fit(X_train_ohe, Y_train)\n",
    "result_linear_regression.append(time.perf_counter() - start_time)"
   ]
  },
  {
   "cell_type": "code",
   "execution_count": 45,
   "metadata": {},
   "outputs": [],
   "source": [
    "start_time = time.perf_counter()\n",
    "y_pred_test = linear_regression.predict(X_test_ohe)\n",
    "result_linear_regression.append(time.perf_counter() - start_time)"
   ]
  },
  {
   "cell_type": "code",
   "execution_count": 46,
   "metadata": {},
   "outputs": [
    {
     "name": "stdout",
     "output_type": "stream",
     "text": [
      "model: linear_regression, fit_time: 6.024, predict_time: 0.256, rmse: 3518\n"
     ]
    }
   ],
   "source": [
    "rmse = mean_squared_error(Y_test, y_pred_test, squared=False)\n",
    "result_linear_regression.append(rmse)\n",
    "results = results.append([result_linear_regression], ignore_index=True)\n",
    "print('model: {}, fit_time: {:.3f}, predict_time: {:.3f}, rmse: {:.0f}'.format(*result_linear_regression))"
   ]
  },
  {
   "cell_type": "markdown",
   "metadata": {},
   "source": [
    "<a id=\"linear_regression_scaled\"></a>\n",
    "Проделаем то же самое с масштабированными признаками."
   ]
  },
  {
   "cell_type": "code",
   "execution_count": 47,
   "metadata": {},
   "outputs": [],
   "source": [
    "result_linear_regression_scaled = ['linear_regression_scaled']"
   ]
  },
  {
   "cell_type": "code",
   "execution_count": 48,
   "metadata": {},
   "outputs": [],
   "source": [
    "linear_regression_scaled = LinearRegression()"
   ]
  },
  {
   "cell_type": "code",
   "execution_count": 49,
   "metadata": {},
   "outputs": [],
   "source": [
    "start_time = time.perf_counter()\n",
    "linear_regression_scaled.fit(X_train_scaled, Y_train)\n",
    "result_linear_regression_scaled.append(time.perf_counter() - start_time)"
   ]
  },
  {
   "cell_type": "code",
   "execution_count": 50,
   "metadata": {},
   "outputs": [],
   "source": [
    "start_time = time.perf_counter()\n",
    "y_pred_test = linear_regression_scaled.predict(X_test_scaled)\n",
    "result_linear_regression_scaled.append(time.perf_counter() - start_time)"
   ]
  },
  {
   "cell_type": "code",
   "execution_count": 51,
   "metadata": {},
   "outputs": [
    {
     "name": "stdout",
     "output_type": "stream",
     "text": [
      "model: linear_regression_scaled, fit_time: 5.062, predict_time: 0.050, rmse: 3518\n"
     ]
    }
   ],
   "source": [
    "rmse = mean_squared_error(Y_test, y_pred_test, squared=False)\n",
    "result_linear_regression_scaled.append(rmse)\n",
    "results = results.append([result_linear_regression_scaled], ignore_index=True)\n",
    "print('model: {}, fit_time: {:.3f}, predict_time: {:.3f}, rmse: {:.0f}'.format(*result_linear_regression_scaled))"
   ]
  },
  {
   "cell_type": "markdown",
   "metadata": {},
   "source": [
    "Использование StandardScaler() не улучшает точность предсказания LinearRegression()"
   ]
  },
  {
   "cell_type": "markdown",
   "metadata": {},
   "source": [
    "Результаты работы LinearRegression():\n",
    "\n",
    "- качество предсказания RMSE: 3530\n",
    "- скорость предсказания Wall time: 230 ms\n",
    "- время обучения Wall time: 5.28 s"
   ]
  },
  {
   "cell_type": "markdown",
   "metadata": {},
   "source": [
    "### Ridge"
   ]
  },
  {
   "cell_type": "markdown",
   "metadata": {},
   "source": [
    "Для алгоритма Ridge() выполним подбор оптимальных гиперпараметров."
   ]
  },
  {
   "cell_type": "code",
   "execution_count": 52,
   "metadata": {},
   "outputs": [],
   "source": [
    "result_ridge = ['ridge']"
   ]
  },
  {
   "cell_type": "code",
   "execution_count": 53,
   "metadata": {},
   "outputs": [],
   "source": [
    "ridge = Ridge()"
   ]
  },
  {
   "cell_type": "code",
   "execution_count": 54,
   "metadata": {},
   "outputs": [],
   "source": [
    "parametrs = {'alpha': [0.05, 0.2, 0.99]}"
   ]
  },
  {
   "cell_type": "code",
   "execution_count": 55,
   "metadata": {},
   "outputs": [
    {
     "name": "stdout",
     "output_type": "stream",
     "text": [
      "Wall time: 24.9 s\n"
     ]
    },
    {
     "data": {
      "text/plain": [
       "{'alpha': 0.05}"
      ]
     },
     "execution_count": 55,
     "metadata": {},
     "output_type": "execute_result"
    }
   ],
   "source": [
    "%%time\n",
    "\n",
    "ridge_grid = GridSearchCV(ridge, parametrs, cv=3, scoring='neg_root_mean_squared_error', n_jobs=-1)\n",
    "ridge_grid.fit(X_train_ohe, Y_train)\n",
    "best_ridge = ridge_grid.best_estimator_\n",
    "ridge_grid.best_params_"
   ]
  },
  {
   "cell_type": "markdown",
   "metadata": {},
   "source": [
    "Замерим показатели модели с оптимальными гиперпараметрами."
   ]
  },
  {
   "cell_type": "code",
   "execution_count": 56,
   "metadata": {},
   "outputs": [],
   "source": [
    "start_time = time.perf_counter()\n",
    "best_ridge.fit(X_train_ohe, Y_train)\n",
    "result_ridge.append(time.perf_counter() - start_time)"
   ]
  },
  {
   "cell_type": "code",
   "execution_count": 57,
   "metadata": {},
   "outputs": [],
   "source": [
    "start_time = time.perf_counter()\n",
    "y_pred_test = best_ridge.predict(X_test_ohe)\n",
    "result_ridge.append(time.perf_counter() - start_time)"
   ]
  },
  {
   "cell_type": "code",
   "execution_count": 58,
   "metadata": {
    "scrolled": true
   },
   "outputs": [
    {
     "name": "stdout",
     "output_type": "stream",
     "text": [
      "model: ridge, fit_time: 1.643, predict_time: 0.289, rmse: 3518\n"
     ]
    }
   ],
   "source": [
    "rmse = mean_squared_error(Y_test, y_pred_test, squared=False)\n",
    "result_ridge.append(rmse)\n",
    "results = results.append([result_ridge], ignore_index=True)\n",
    "print('model: {}, fit_time: {:.3f}, predict_time: {:.3f}, rmse: {:.0f}'.format(*result_ridge))"
   ]
  },
  {
   "cell_type": "markdown",
   "metadata": {},
   "source": [
    "<a id=\"ridge_scaled\"></a>\n",
    "Проделаем то же самое с масштабированными признаками."
   ]
  },
  {
   "cell_type": "code",
   "execution_count": 59,
   "metadata": {},
   "outputs": [],
   "source": [
    "result_ridge_scaled = ['ridge_scaled']"
   ]
  },
  {
   "cell_type": "code",
   "execution_count": 60,
   "metadata": {},
   "outputs": [],
   "source": [
    "ridge_scaled = Ridge(alpha=0.05)"
   ]
  },
  {
   "cell_type": "code",
   "execution_count": 61,
   "metadata": {},
   "outputs": [],
   "source": [
    "start_time = time.perf_counter()\n",
    "ridge_scaled.fit(X_train_scaled, Y_train)\n",
    "result_ridge_scaled.append(time.perf_counter() - start_time)"
   ]
  },
  {
   "cell_type": "code",
   "execution_count": 62,
   "metadata": {},
   "outputs": [],
   "source": [
    "start_time = time.perf_counter()\n",
    "y_pred_test = ridge_scaled.predict(X_test_scaled)\n",
    "result_ridge_scaled.append(time.perf_counter() - start_time)"
   ]
  },
  {
   "cell_type": "code",
   "execution_count": 63,
   "metadata": {},
   "outputs": [
    {
     "name": "stdout",
     "output_type": "stream",
     "text": [
      "model: ridge_scaled, fit_time: 1.316, predict_time: 0.218, rmse: 3518\n"
     ]
    }
   ],
   "source": [
    "rmse = mean_squared_error(Y_test, y_pred_test, squared=False)\n",
    "result_ridge_scaled.append(rmse)\n",
    "results = results.append([result_ridge_scaled], ignore_index=True)\n",
    "print('model: {}, fit_time: {:.3f}, predict_time: {:.3f}, rmse: {:.0f}'.format(*result_ridge_scaled))"
   ]
  },
  {
   "cell_type": "markdown",
   "metadata": {},
   "source": [
    "Использование StandardScaler() не улучшает точность предсказания Ridge(). Почему?"
   ]
  },
  {
   "cell_type": "markdown",
   "metadata": {},
   "source": [
    "Результаты работы Ridge():\n",
    "\n",
    "- качество предсказания RMSE: 3530\n",
    "- скорость предсказания Wall time: 227 ms\n",
    "- время обучения Wall time: 1.32 s"
   ]
  },
  {
   "cell_type": "markdown",
   "metadata": {},
   "source": [
    "### ElasticNet"
   ]
  },
  {
   "cell_type": "markdown",
   "metadata": {},
   "source": [
    "Для алгоритма ElasticNet() выполним подбор оптимальных гиперпараметров."
   ]
  },
  {
   "cell_type": "code",
   "execution_count": 64,
   "metadata": {},
   "outputs": [],
   "source": [
    "result_elastic = ['elastic']"
   ]
  },
  {
   "cell_type": "code",
   "execution_count": 65,
   "metadata": {},
   "outputs": [],
   "source": [
    "elastic = ElasticNet() "
   ]
  },
  {
   "cell_type": "code",
   "execution_count": 66,
   "metadata": {
    "scrolled": true
   },
   "outputs": [
    {
     "name": "stdout",
     "output_type": "stream",
     "text": [
      "Wall time: 40.2 s\n"
     ]
    },
    {
     "data": {
      "text/plain": [
       "{'alpha': 0.05}"
      ]
     },
     "execution_count": 66,
     "metadata": {},
     "output_type": "execute_result"
    }
   ],
   "source": [
    "%%time\n",
    "\n",
    "elastic_grid = GridSearchCV(elastic, parametrs, cv=3, scoring='neg_root_mean_squared_error', n_jobs=-1)\n",
    "elastic_grid.fit(X_train_ohe, Y_train)\n",
    "best_elastic = elastic_grid.best_estimator_\n",
    "elastic_grid.best_params_"
   ]
  },
  {
   "cell_type": "markdown",
   "metadata": {},
   "source": [
    "Замерим показатели модели с оптимальными гиперпараметрами."
   ]
  },
  {
   "cell_type": "code",
   "execution_count": 67,
   "metadata": {},
   "outputs": [],
   "source": [
    "start_time = time.perf_counter()\n",
    "best_elastic.fit(X_train_ohe, Y_train)\n",
    "result_elastic.append(time.perf_counter() - start_time)"
   ]
  },
  {
   "cell_type": "code",
   "execution_count": 68,
   "metadata": {},
   "outputs": [],
   "source": [
    "start_time = time.perf_counter()\n",
    "y_pred_test = best_elastic.predict(X_test_ohe)\n",
    "result_elastic.append(time.perf_counter() - start_time)"
   ]
  },
  {
   "cell_type": "code",
   "execution_count": 69,
   "metadata": {},
   "outputs": [
    {
     "name": "stdout",
     "output_type": "stream",
     "text": [
      "model: elastic, fit_time: 5.071, predict_time: 0.224, rmse: 3753\n"
     ]
    }
   ],
   "source": [
    "rmse = mean_squared_error(Y_test, y_pred_test, squared=False)\n",
    "result_elastic.append(rmse)\n",
    "results = results.append([result_elastic], ignore_index=True)\n",
    "print('model: {}, fit_time: {:.3f}, predict_time: {:.3f}, rmse: {:.0f}'.format(*result_elastic))"
   ]
  },
  {
   "cell_type": "markdown",
   "metadata": {},
   "source": [
    "<a id=\"elastic_scaled\"></a>\n",
    "Проделаем то же самое с масштабированными признаками."
   ]
  },
  {
   "cell_type": "code",
   "execution_count": 70,
   "metadata": {},
   "outputs": [],
   "source": [
    "result_elastic_scaled = ['elastic_scaled']"
   ]
  },
  {
   "cell_type": "code",
   "execution_count": 71,
   "metadata": {},
   "outputs": [],
   "source": [
    "elastic_scaled = ElasticNet(alpha=0.05)"
   ]
  },
  {
   "cell_type": "code",
   "execution_count": 72,
   "metadata": {},
   "outputs": [],
   "source": [
    "start_time = time.perf_counter()\n",
    "elastic_scaled.fit(X_train_scaled, Y_train)\n",
    "result_elastic_scaled.append(time.perf_counter() - start_time)"
   ]
  },
  {
   "cell_type": "code",
   "execution_count": 73,
   "metadata": {},
   "outputs": [],
   "source": [
    "start_time = time.perf_counter()\n",
    "y_pred_test = elastic_scaled.predict(X_test_scaled)\n",
    "result_elastic_scaled.append(time.perf_counter() - start_time)"
   ]
  },
  {
   "cell_type": "code",
   "execution_count": 74,
   "metadata": {},
   "outputs": [
    {
     "name": "stdout",
     "output_type": "stream",
     "text": [
      "model: elastic_scaled, fit_time: 27.501, predict_time: 0.109, rmse: 3522\n"
     ]
    }
   ],
   "source": [
    "rmse = mean_squared_error(Y_test, y_pred_test, squared=False)\n",
    "result_elastic_scaled.append(rmse)\n",
    "results = results.append([result_elastic_scaled], ignore_index=True)\n",
    "print('model: {}, fit_time: {:.3f}, predict_time: {:.3f}, rmse: {:.0f}'.format(*result_elastic_scaled))"
   ]
  },
  {
   "cell_type": "markdown",
   "metadata": {},
   "source": [
    "Использование StandardScaler() не улучшает точность предсказания ElasticNet(). Почему?"
   ]
  },
  {
   "cell_type": "markdown",
   "metadata": {},
   "source": [
    "Результаты работы ElasticNet():\n",
    "\n",
    "- качество предсказания RMSE: 3766\n",
    "- скорость предсказания Wall time: 206 ms\n",
    "- время обучения Wall time: 3.95 s"
   ]
  },
  {
   "cell_type": "markdown",
   "metadata": {},
   "source": [
    "### LightGBM"
   ]
  },
  {
   "cell_type": "markdown",
   "metadata": {},
   "source": [
    "Для обучения для моделей на основе решающих деревьев выполним кодирование категориальных признаков методом LabelEncoding."
   ]
  },
  {
   "cell_type": "code",
   "execution_count": 75,
   "metadata": {},
   "outputs": [
    {
     "name": "stdout",
     "output_type": "stream",
     "text": [
      "Размеры Train/Test:  (254391, 12) (84797, 12) (254391,) (84797,)\n"
     ]
    }
   ],
   "source": [
    "X_train, X_test, Y_train, Y_test = train_test_split(features, target, test_size=0.25, random_state=12345)\n",
    "\n",
    "print(\"Размеры Train/Test: \", X_train.shape, X_test.shape, Y_train.shape, Y_test.shape)"
   ]
  },
  {
   "cell_type": "code",
   "execution_count": 76,
   "metadata": {},
   "outputs": [],
   "source": [
    "categorical_features = ['VehicleType', 'Gearbox', 'Model', 'FuelType', 'Brand', 'NotRepaired', 'PostalCode']"
   ]
  },
  {
   "cell_type": "code",
   "execution_count": 77,
   "metadata": {},
   "outputs": [],
   "source": [
    "ordinal_encoder = OrdinalEncoder()"
   ]
  },
  {
   "cell_type": "code",
   "execution_count": 78,
   "metadata": {},
   "outputs": [
    {
     "data": {
      "text/plain": [
       "OrdinalEncoder()"
      ]
     },
     "execution_count": 78,
     "metadata": {},
     "output_type": "execute_result"
    }
   ],
   "source": [
    "ordinal_encoder.fit(X_train[categorical_features])"
   ]
  },
  {
   "cell_type": "code",
   "execution_count": 79,
   "metadata": {},
   "outputs": [],
   "source": [
    "X_train[categorical_features] = ordinal_encoder.transform(X_train[categorical_features])"
   ]
  },
  {
   "cell_type": "code",
   "execution_count": 80,
   "metadata": {},
   "outputs": [],
   "source": [
    "X_test[categorical_features] = ordinal_encoder.transform(X_test[categorical_features])"
   ]
  },
  {
   "cell_type": "markdown",
   "metadata": {},
   "source": [
    "Для алгоритма LGBMRegressor() выполним подбор оптимальных гиперпараметров."
   ]
  },
  {
   "cell_type": "code",
   "execution_count": 81,
   "metadata": {},
   "outputs": [],
   "source": [
    "result_lgb_regressor = ['lgb_regressor']"
   ]
  },
  {
   "cell_type": "code",
   "execution_count": 82,
   "metadata": {},
   "outputs": [],
   "source": [
    "lgb_regressor = lgb.LGBMRegressor()"
   ]
  },
  {
   "cell_type": "code",
   "execution_count": 83,
   "metadata": {},
   "outputs": [],
   "source": [
    "parametrs = {'boosting_type': ['gbdt', 'dart', 'goss'],\n",
    "             'learning_rate': [.05, .1, .5, 1., 5.],\n",
    "             'n_estimators': [10, 100] }"
   ]
  },
  {
   "cell_type": "code",
   "execution_count": 84,
   "metadata": {},
   "outputs": [
    {
     "name": "stdout",
     "output_type": "stream",
     "text": [
      "Wall time: 1min 50s\n"
     ]
    },
    {
     "data": {
      "text/plain": [
       "{'boosting_type': 'dart', 'learning_rate': 0.5, 'n_estimators': 100}"
      ]
     },
     "execution_count": 84,
     "metadata": {},
     "output_type": "execute_result"
    }
   ],
   "source": [
    "%%time\n",
    "\n",
    "lgb_regressor_grid = GridSearchCV(lgb_regressor, parametrs, cv=5, scoring='neg_root_mean_squared_error', n_jobs=-1)\n",
    "lgb_regressor_grid.fit(X_train, Y_train)\n",
    "best_lgb_regressor = lgb_regressor_grid.best_estimator_\n",
    "lgb_regressor_grid.best_params_"
   ]
  },
  {
   "cell_type": "markdown",
   "metadata": {},
   "source": [
    "Замерим показатели модели с оптимальными гиперпараметрами."
   ]
  },
  {
   "cell_type": "code",
   "execution_count": 85,
   "metadata": {},
   "outputs": [],
   "source": [
    "start_time = time.perf_counter()\n",
    "best_lgb_regressor.fit(X_train, Y_train)\n",
    "result_lgb_regressor.append(time.perf_counter() - start_time)"
   ]
  },
  {
   "cell_type": "code",
   "execution_count": 86,
   "metadata": {},
   "outputs": [],
   "source": [
    "start_time = time.perf_counter()\n",
    "y_pred_test = best_lgb_regressor.predict(X_test)\n",
    "result_lgb_regressor.append(time.perf_counter() - start_time)"
   ]
  },
  {
   "cell_type": "code",
   "execution_count": 87,
   "metadata": {},
   "outputs": [
    {
     "name": "stdout",
     "output_type": "stream",
     "text": [
      "model: lgb_regressor, fit_time: 2.659, predict_time: 0.189, rmse: 1704\n"
     ]
    }
   ],
   "source": [
    "rmse = mean_squared_error(Y_test, y_pred_test, squared=False)\n",
    "result_lgb_regressor.append(rmse)\n",
    "results = results.append([result_lgb_regressor], ignore_index=True)\n",
    "print('model: {}, fit_time: {:.3f}, predict_time: {:.3f}, rmse: {:.0f}'.format(*result_lgb_regressor))"
   ]
  },
  {
   "cell_type": "markdown",
   "metadata": {},
   "source": [
    "Результаты работы LGBMRegressor():\n",
    "\n",
    "- качество предсказания RMSE: 1698\n",
    "- скорость предсказания Wall time: 223 ms\n",
    "- время обучения Wall time: 2.64 s"
   ]
  },
  {
   "cell_type": "markdown",
   "metadata": {},
   "source": [
    "## Анализ моделей"
   ]
  },
  {
   "cell_type": "markdown",
   "metadata": {},
   "source": [
    "Обобщим полученные результаты в таблице."
   ]
  },
  {
   "cell_type": "code",
   "execution_count": 88,
   "metadata": {},
   "outputs": [],
   "source": [
    "results.columns=['model', 'fit_time', 'predict_time', 'rmse']"
   ]
  },
  {
   "cell_type": "code",
   "execution_count": 89,
   "metadata": {},
   "outputs": [
    {
     "data": {
      "text/html": [
       "<style type=\"text/css\">\n",
       "</style>\n",
       "<table id=\"T_76709_\">\n",
       "  <thead>\n",
       "    <tr>\n",
       "      <th class=\"blank level0\" >&nbsp;</th>\n",
       "      <th class=\"col_heading level0 col0\" >model</th>\n",
       "      <th class=\"col_heading level0 col1\" >fit_time</th>\n",
       "      <th class=\"col_heading level0 col2\" >predict_time</th>\n",
       "      <th class=\"col_heading level0 col3\" >rmse</th>\n",
       "    </tr>\n",
       "  </thead>\n",
       "  <tbody>\n",
       "    <tr>\n",
       "      <th id=\"T_76709_level0_row0\" class=\"row_heading level0 row0\" >0</th>\n",
       "      <td id=\"T_76709_row0_col0\" class=\"data row0 col0\" >dummy</td>\n",
       "      <td id=\"T_76709_row0_col1\" class=\"data row0 col1\" >0.001</td>\n",
       "      <td id=\"T_76709_row0_col2\" class=\"data row0 col2\" >0.002</td>\n",
       "      <td id=\"T_76709_row0_col3\" class=\"data row0 col3\" >4504</td>\n",
       "    </tr>\n",
       "    <tr>\n",
       "      <th id=\"T_76709_level0_row1\" class=\"row_heading level0 row1\" >1</th>\n",
       "      <td id=\"T_76709_row1_col0\" class=\"data row1 col0\" >linear_regression</td>\n",
       "      <td id=\"T_76709_row1_col1\" class=\"data row1 col1\" >6.024</td>\n",
       "      <td id=\"T_76709_row1_col2\" class=\"data row1 col2\" >0.256</td>\n",
       "      <td id=\"T_76709_row1_col3\" class=\"data row1 col3\" >3518</td>\n",
       "    </tr>\n",
       "    <tr>\n",
       "      <th id=\"T_76709_level0_row2\" class=\"row_heading level0 row2\" >2</th>\n",
       "      <td id=\"T_76709_row2_col0\" class=\"data row2 col0\" >linear_regression_scaled</td>\n",
       "      <td id=\"T_76709_row2_col1\" class=\"data row2 col1\" >5.062</td>\n",
       "      <td id=\"T_76709_row2_col2\" class=\"data row2 col2\" >0.050</td>\n",
       "      <td id=\"T_76709_row2_col3\" class=\"data row2 col3\" >3518</td>\n",
       "    </tr>\n",
       "    <tr>\n",
       "      <th id=\"T_76709_level0_row3\" class=\"row_heading level0 row3\" >3</th>\n",
       "      <td id=\"T_76709_row3_col0\" class=\"data row3 col0\" >ridge</td>\n",
       "      <td id=\"T_76709_row3_col1\" class=\"data row3 col1\" >1.643</td>\n",
       "      <td id=\"T_76709_row3_col2\" class=\"data row3 col2\" >0.289</td>\n",
       "      <td id=\"T_76709_row3_col3\" class=\"data row3 col3\" >3518</td>\n",
       "    </tr>\n",
       "    <tr>\n",
       "      <th id=\"T_76709_level0_row4\" class=\"row_heading level0 row4\" >4</th>\n",
       "      <td id=\"T_76709_row4_col0\" class=\"data row4 col0\" >ridge_scaled</td>\n",
       "      <td id=\"T_76709_row4_col1\" class=\"data row4 col1\" >1.316</td>\n",
       "      <td id=\"T_76709_row4_col2\" class=\"data row4 col2\" >0.218</td>\n",
       "      <td id=\"T_76709_row4_col3\" class=\"data row4 col3\" >3518</td>\n",
       "    </tr>\n",
       "    <tr>\n",
       "      <th id=\"T_76709_level0_row5\" class=\"row_heading level0 row5\" >5</th>\n",
       "      <td id=\"T_76709_row5_col0\" class=\"data row5 col0\" >elastic</td>\n",
       "      <td id=\"T_76709_row5_col1\" class=\"data row5 col1\" >5.071</td>\n",
       "      <td id=\"T_76709_row5_col2\" class=\"data row5 col2\" >0.224</td>\n",
       "      <td id=\"T_76709_row5_col3\" class=\"data row5 col3\" >3753</td>\n",
       "    </tr>\n",
       "    <tr>\n",
       "      <th id=\"T_76709_level0_row6\" class=\"row_heading level0 row6\" >6</th>\n",
       "      <td id=\"T_76709_row6_col0\" class=\"data row6 col0\" >elastic_scaled</td>\n",
       "      <td id=\"T_76709_row6_col1\" class=\"data row6 col1\" >27.501</td>\n",
       "      <td id=\"T_76709_row6_col2\" class=\"data row6 col2\" >0.109</td>\n",
       "      <td id=\"T_76709_row6_col3\" class=\"data row6 col3\" >3522</td>\n",
       "    </tr>\n",
       "    <tr>\n",
       "      <th id=\"T_76709_level0_row7\" class=\"row_heading level0 row7\" >7</th>\n",
       "      <td id=\"T_76709_row7_col0\" class=\"data row7 col0\" >lgb_regressor</td>\n",
       "      <td id=\"T_76709_row7_col1\" class=\"data row7 col1\" >2.659</td>\n",
       "      <td id=\"T_76709_row7_col2\" class=\"data row7 col2\" >0.189</td>\n",
       "      <td id=\"T_76709_row7_col3\" class=\"data row7 col3\" >1704</td>\n",
       "    </tr>\n",
       "  </tbody>\n",
       "</table>\n"
      ],
      "text/plain": [
       "<pandas.io.formats.style.Styler at 0x23fdb669790>"
      ]
     },
     "execution_count": 89,
     "metadata": {},
     "output_type": "execute_result"
    }
   ],
   "source": [
    "results.style.format({'fit_time': '{:.3f}', 'predict_time': '{:.3f}', 'rmse': '{:.0f}'})"
   ]
  },
  {
   "cell_type": "markdown",
   "metadata": {},
   "source": [
    "Результаты работы LinearRegression():\n",
    "\n",
    "- качество предсказания RMSE: 3530\n",
    "- скорость предсказания Wall time: 230 ms\n",
    "- время обучения Wall time: 5.28 s"
   ]
  },
  {
   "cell_type": "markdown",
   "metadata": {},
   "source": [
    "Результаты работы Ridge():\n",
    "\n",
    "- качество предсказания RMSE: 3530\n",
    "- скорость предсказания Wall time: 227 ms\n",
    "- время обучения Wall time: 1.32 s"
   ]
  },
  {
   "cell_type": "markdown",
   "metadata": {},
   "source": [
    "Результаты работы ElasticNet():\n",
    "\n",
    "- качество предсказания RMSE: 3766\n",
    "- скорость предсказания Wall time: 206 ms\n",
    "- время обучения Wall time: 3.95 s"
   ]
  },
  {
   "cell_type": "markdown",
   "metadata": {},
   "source": [
    "Результаты работы LGBMRegressor():\n",
    "\n",
    "- качество предсказания RMSE: 1698\n",
    "- скорость предсказания Wall time: 223 ms\n",
    "- время обучения Wall time: 2.64 s"
   ]
  },
  {
   "cell_type": "markdown",
   "metadata": {},
   "source": [
    "По качеству предсказания по метрике RMSE с подавляющим преимуществом выигрывает алгоритм градиентного бустинга LGBMRegressor().\n",
    "\n",
    "Скорость предсказания приблизительно одинакова у всех исследованных моделей.\n",
    "\n",
    "По времени обучения лидер Ridge(), вдвое дольше обучалась модель LGBMRegressor(), в три раза дольше обучалась модель ElasticNet(), модель LinearRegression() - в 4 раза дольше."
   ]
  },
  {
   "cell_type": "markdown",
   "metadata": {},
   "source": [
    "## Вывод"
   ]
  },
  {
   "cell_type": "markdown",
   "metadata": {},
   "source": [
    "Учитывая результаты исследования, можем рекомендовать для использования в разрабатываемом приложении две модели определения стоимости:\n",
    "- на основе алгоритма LGBMRegressor(), если приоритетом является точность прогноза,\n",
    "- на основе алгоритма Ridge(), если приоритетом является скорость работы."
   ]
  },
  {
   "cell_type": "markdown",
   "metadata": {},
   "source": [
    "## Чек-лист проверки"
   ]
  },
  {
   "cell_type": "markdown",
   "metadata": {},
   "source": [
    "Поставьте 'x' в выполненных пунктах. Далее нажмите Shift+Enter."
   ]
  },
  {
   "cell_type": "markdown",
   "metadata": {},
   "source": [
    "- [x]  Jupyter Notebook открыт\n",
    "- [x]  Весь код выполняется без ошибок\n",
    "- [x]  Ячейки с кодом расположены в порядке исполнения\n",
    "- [x]  Выполнена загрузка и подготовка данных\n",
    "- [x]  Выполнено обучение моделей\n",
    "- [x]  Есть анализ скорости работы и качества моделей"
   ]
  }
 ],
 "metadata": {
  "ExecuteTimeLog": [
   {
    "duration": 70,
    "start_time": "2022-05-05T04:47:53.204Z"
   },
   {
    "duration": 15586,
    "start_time": "2022-05-06T04:58:29.488Z"
   },
   {
    "duration": 881,
    "start_time": "2022-05-06T04:58:45.076Z"
   },
   {
    "duration": 0,
    "start_time": "2022-05-06T04:58:45.959Z"
   },
   {
    "duration": 0,
    "start_time": "2022-05-06T04:58:45.961Z"
   },
   {
    "duration": 0,
    "start_time": "2022-05-06T04:58:45.962Z"
   },
   {
    "duration": 0,
    "start_time": "2022-05-06T04:58:45.963Z"
   },
   {
    "duration": 0,
    "start_time": "2022-05-06T04:58:45.964Z"
   },
   {
    "duration": 0,
    "start_time": "2022-05-06T04:58:45.964Z"
   },
   {
    "duration": 0,
    "start_time": "2022-05-06T04:58:45.965Z"
   },
   {
    "duration": 0,
    "start_time": "2022-05-06T04:58:45.966Z"
   },
   {
    "duration": 0,
    "start_time": "2022-05-06T04:58:45.967Z"
   },
   {
    "duration": 0,
    "start_time": "2022-05-06T04:58:45.968Z"
   },
   {
    "duration": 0,
    "start_time": "2022-05-06T04:58:45.969Z"
   },
   {
    "duration": 0,
    "start_time": "2022-05-06T04:58:45.970Z"
   },
   {
    "duration": 0,
    "start_time": "2022-05-06T04:58:45.971Z"
   },
   {
    "duration": 1,
    "start_time": "2022-05-06T04:58:45.971Z"
   },
   {
    "duration": 0,
    "start_time": "2022-05-06T04:58:45.972Z"
   },
   {
    "duration": 0,
    "start_time": "2022-05-06T04:58:45.973Z"
   },
   {
    "duration": 0,
    "start_time": "2022-05-06T04:58:45.974Z"
   },
   {
    "duration": 0,
    "start_time": "2022-05-06T04:58:45.975Z"
   },
   {
    "duration": 0,
    "start_time": "2022-05-06T04:58:45.976Z"
   },
   {
    "duration": 0,
    "start_time": "2022-05-06T04:58:45.977Z"
   },
   {
    "duration": 0,
    "start_time": "2022-05-06T04:58:45.978Z"
   },
   {
    "duration": 0,
    "start_time": "2022-05-06T04:58:45.980Z"
   },
   {
    "duration": 0,
    "start_time": "2022-05-06T04:58:45.981Z"
   },
   {
    "duration": 0,
    "start_time": "2022-05-06T04:58:45.982Z"
   },
   {
    "duration": 0,
    "start_time": "2022-05-06T04:58:45.983Z"
   },
   {
    "duration": 0,
    "start_time": "2022-05-06T04:58:45.984Z"
   },
   {
    "duration": 0,
    "start_time": "2022-05-06T04:58:45.985Z"
   },
   {
    "duration": 0,
    "start_time": "2022-05-06T04:58:45.985Z"
   },
   {
    "duration": 0,
    "start_time": "2022-05-06T04:58:45.986Z"
   },
   {
    "duration": 0,
    "start_time": "2022-05-06T04:58:45.987Z"
   },
   {
    "duration": 0,
    "start_time": "2022-05-06T04:58:45.988Z"
   },
   {
    "duration": 0,
    "start_time": "2022-05-06T04:58:45.989Z"
   },
   {
    "duration": 0,
    "start_time": "2022-05-06T04:58:45.990Z"
   },
   {
    "duration": 0,
    "start_time": "2022-05-06T04:58:45.991Z"
   },
   {
    "duration": 1,
    "start_time": "2022-05-06T04:58:45.991Z"
   },
   {
    "duration": 0,
    "start_time": "2022-05-06T04:58:45.993Z"
   },
   {
    "duration": 0,
    "start_time": "2022-05-06T04:58:45.993Z"
   },
   {
    "duration": 9,
    "start_time": "2022-05-06T05:00:00.165Z"
   },
   {
    "duration": 2287,
    "start_time": "2022-05-06T05:00:31.982Z"
   },
   {
    "duration": 13,
    "start_time": "2022-05-06T05:00:42.257Z"
   },
   {
    "duration": 859,
    "start_time": "2022-05-06T05:01:07.231Z"
   },
   {
    "duration": 2578,
    "start_time": "2022-05-06T05:01:38.250Z"
   },
   {
    "duration": 6,
    "start_time": "2022-05-06T05:01:40.831Z"
   },
   {
    "duration": 956,
    "start_time": "2022-05-06T05:01:40.839Z"
   },
   {
    "duration": 26,
    "start_time": "2022-05-06T05:01:41.798Z"
   },
   {
    "duration": 139,
    "start_time": "2022-05-06T05:01:41.834Z"
   },
   {
    "duration": 3,
    "start_time": "2022-05-06T05:01:41.974Z"
   },
   {
    "duration": 6,
    "start_time": "2022-05-06T05:01:41.978Z"
   },
   {
    "duration": 313,
    "start_time": "2022-05-06T05:01:41.985Z"
   },
   {
    "duration": 56,
    "start_time": "2022-05-06T05:01:42.300Z"
   },
   {
    "duration": 0,
    "start_time": "2022-05-06T05:01:42.358Z"
   },
   {
    "duration": 0,
    "start_time": "2022-05-06T05:01:42.360Z"
   },
   {
    "duration": 0,
    "start_time": "2022-05-06T05:01:42.360Z"
   },
   {
    "duration": 0,
    "start_time": "2022-05-06T05:01:42.361Z"
   },
   {
    "duration": 0,
    "start_time": "2022-05-06T05:01:42.362Z"
   },
   {
    "duration": 0,
    "start_time": "2022-05-06T05:01:42.363Z"
   },
   {
    "duration": 0,
    "start_time": "2022-05-06T05:01:42.364Z"
   },
   {
    "duration": 0,
    "start_time": "2022-05-06T05:01:42.364Z"
   },
   {
    "duration": 0,
    "start_time": "2022-05-06T05:01:42.365Z"
   },
   {
    "duration": 0,
    "start_time": "2022-05-06T05:01:42.366Z"
   },
   {
    "duration": 0,
    "start_time": "2022-05-06T05:01:42.367Z"
   },
   {
    "duration": 0,
    "start_time": "2022-05-06T05:01:42.368Z"
   },
   {
    "duration": 0,
    "start_time": "2022-05-06T05:01:42.369Z"
   },
   {
    "duration": 0,
    "start_time": "2022-05-06T05:01:42.369Z"
   },
   {
    "duration": 0,
    "start_time": "2022-05-06T05:01:42.371Z"
   },
   {
    "duration": 0,
    "start_time": "2022-05-06T05:01:42.372Z"
   },
   {
    "duration": 0,
    "start_time": "2022-05-06T05:01:42.373Z"
   },
   {
    "duration": 1,
    "start_time": "2022-05-06T05:01:42.373Z"
   },
   {
    "duration": 0,
    "start_time": "2022-05-06T05:01:42.375Z"
   },
   {
    "duration": 2408,
    "start_time": "2022-05-06T05:02:17.813Z"
   },
   {
    "duration": 4,
    "start_time": "2022-05-06T05:02:20.224Z"
   },
   {
    "duration": 953,
    "start_time": "2022-05-06T05:02:20.230Z"
   },
   {
    "duration": 22,
    "start_time": "2022-05-06T05:02:21.185Z"
   },
   {
    "duration": 149,
    "start_time": "2022-05-06T05:02:21.209Z"
   },
   {
    "duration": 3,
    "start_time": "2022-05-06T05:02:21.359Z"
   },
   {
    "duration": 5,
    "start_time": "2022-05-06T05:02:21.364Z"
   },
   {
    "duration": 15,
    "start_time": "2022-05-06T05:02:42.233Z"
   },
   {
    "duration": 4,
    "start_time": "2022-05-06T05:03:34.004Z"
   },
   {
    "duration": 4,
    "start_time": "2022-05-06T05:03:43.731Z"
   },
   {
    "duration": 876,
    "start_time": "2022-05-06T05:03:47.626Z"
   },
   {
    "duration": 3,
    "start_time": "2022-05-06T05:04:12.062Z"
   },
   {
    "duration": 3,
    "start_time": "2022-05-06T05:04:14.267Z"
   },
   {
    "duration": 220,
    "start_time": "2022-05-06T05:04:16.560Z"
   },
   {
    "duration": 2484,
    "start_time": "2022-05-06T05:05:29.815Z"
   },
   {
    "duration": 4,
    "start_time": "2022-05-06T05:05:32.302Z"
   },
   {
    "duration": 883,
    "start_time": "2022-05-06T05:05:32.308Z"
   },
   {
    "duration": 23,
    "start_time": "2022-05-06T05:05:33.193Z"
   },
   {
    "duration": 150,
    "start_time": "2022-05-06T05:05:33.219Z"
   },
   {
    "duration": 3,
    "start_time": "2022-05-06T05:05:33.371Z"
   },
   {
    "duration": 6,
    "start_time": "2022-05-06T05:05:33.375Z"
   },
   {
    "duration": 254,
    "start_time": "2022-05-06T05:05:33.383Z"
   },
   {
    "duration": 2,
    "start_time": "2022-05-06T05:05:33.639Z"
   },
   {
    "duration": 8,
    "start_time": "2022-05-06T05:05:33.643Z"
   },
   {
    "duration": 309,
    "start_time": "2022-05-06T05:05:33.653Z"
   },
   {
    "duration": 4,
    "start_time": "2022-05-06T05:05:33.963Z"
   },
   {
    "duration": 10,
    "start_time": "2022-05-06T05:05:33.969Z"
   },
   {
    "duration": 19,
    "start_time": "2022-05-06T05:05:33.982Z"
   },
   {
    "duration": 3,
    "start_time": "2022-05-06T05:05:34.003Z"
   },
   {
    "duration": 24068,
    "start_time": "2022-05-06T05:05:34.007Z"
   },
   {
    "duration": 20,
    "start_time": "2022-05-06T05:05:58.077Z"
   },
   {
    "duration": 11,
    "start_time": "2022-05-06T05:05:58.099Z"
   },
   {
    "duration": 16,
    "start_time": "2022-05-06T05:05:58.112Z"
   },
   {
    "duration": 6,
    "start_time": "2022-05-06T05:05:58.130Z"
   },
   {
    "duration": 31,
    "start_time": "2022-05-06T05:05:58.138Z"
   },
   {
    "duration": 31,
    "start_time": "2022-05-06T05:05:58.171Z"
   },
   {
    "duration": 9,
    "start_time": "2022-05-06T05:05:58.204Z"
   },
   {
    "duration": 29,
    "start_time": "2022-05-06T05:05:58.214Z"
   },
   {
    "duration": 137,
    "start_time": "2022-05-06T05:05:58.245Z"
   },
   {
    "duration": 80,
    "start_time": "2022-05-06T05:05:58.383Z"
   },
   {
    "duration": 2,
    "start_time": "2022-05-06T05:05:58.464Z"
   },
   {
    "duration": 7,
    "start_time": "2022-05-06T05:05:58.468Z"
   },
   {
    "duration": 5,
    "start_time": "2022-05-06T05:05:58.476Z"
   },
   {
    "duration": 5,
    "start_time": "2022-05-06T05:05:58.483Z"
   },
   {
    "duration": 56,
    "start_time": "2022-05-06T05:05:58.490Z"
   },
   {
    "duration": 2,
    "start_time": "2022-05-06T05:05:58.548Z"
   },
   {
    "duration": 15,
    "start_time": "2022-05-06T05:05:58.552Z"
   },
   {
    "duration": 5,
    "start_time": "2022-05-06T05:05:58.569Z"
   },
   {
    "duration": 10,
    "start_time": "2022-05-06T05:05:58.576Z"
   },
   {
    "duration": 5,
    "start_time": "2022-05-06T05:05:58.588Z"
   },
   {
    "duration": 666,
    "start_time": "2022-05-06T05:05:58.594Z"
   },
   {
    "duration": 295,
    "start_time": "2022-05-06T05:05:59.262Z"
   },
   {
    "duration": 2228,
    "start_time": "2022-05-06T05:05:59.558Z"
   },
   {
    "duration": 77,
    "start_time": "2022-05-06T05:07:35.415Z"
   },
   {
    "duration": 10,
    "start_time": "2022-05-06T05:08:02.998Z"
   },
   {
    "duration": 10,
    "start_time": "2022-05-06T05:08:09.759Z"
   }
  ],
  "kernelspec": {
   "display_name": "Python 3 (ipykernel)",
   "language": "python",
   "name": "python3"
  },
  "language_info": {
   "codemirror_mode": {
    "name": "ipython",
    "version": 3
   },
   "file_extension": ".py",
   "mimetype": "text/x-python",
   "name": "python",
   "nbconvert_exporter": "python",
   "pygments_lexer": "ipython3",
   "version": "3.8.5"
  },
  "toc": {
   "base_numbering": 1,
   "nav_menu": {},
   "number_sections": true,
   "sideBar": true,
   "skip_h1_title": true,
   "title_cell": "Table of Contents",
   "title_sidebar": "Contents",
   "toc_cell": false,
   "toc_position": {
    "height": "calc(100% - 180px)",
    "left": "10px",
    "top": "150px",
    "width": "303.825px"
   },
   "toc_section_display": true,
   "toc_window_display": true
  }
 },
 "nbformat": 4,
 "nbformat_minor": 2
}

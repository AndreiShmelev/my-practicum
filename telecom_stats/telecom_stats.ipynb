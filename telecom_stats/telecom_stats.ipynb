{
 "cells": [
  {
   "cell_type": "markdown",
   "id": "5502ae4d",
   "metadata": {
    "toc": true
   },
   "source": [
    "<h1>Table of Contents<span class=\"tocSkip\"></span></h1>\n",
    "<div class=\"toc\"><ul class=\"toc-item\"><li><span><a href=\"#Обзор-данных\" data-toc-modified-id=\"Обзор-данных-1\"><span class=\"toc-item-num\">1&nbsp;&nbsp;</span>Обзор данных</a></span><ul class=\"toc-item\"><li><span><a href=\"#Таблица-calls---информация-о-звонках\" data-toc-modified-id=\"Таблица-calls---информация-о-звонках-1.1\"><span class=\"toc-item-num\">1.1&nbsp;&nbsp;</span>Таблица <em>calls</em> - информация о звонках</a></span></li><li><span><a href=\"#Таблица-internet---информация-об-интернет-сессиях\" data-toc-modified-id=\"Таблица-internet---информация-об-интернет-сессиях-1.2\"><span class=\"toc-item-num\">1.2&nbsp;&nbsp;</span>Таблица <em>internet</em> - информация об интернет-сессиях</a></span></li><li><span><a href=\"#Таблица-messages---информация-о-сообщениях\" data-toc-modified-id=\"Таблица-messages---информация-о-сообщениях-1.3\"><span class=\"toc-item-num\">1.3&nbsp;&nbsp;</span>Таблица <em>messages</em> - информация о сообщениях</a></span></li><li><span><a href=\"#Таблица-tariffs---информация-о-тарифах\" data-toc-modified-id=\"Таблица-tariffs---информация-о-тарифах-1.4\"><span class=\"toc-item-num\">1.4&nbsp;&nbsp;</span>Таблица <em>tariffs</em> - информация о тарифах</a></span></li><li><span><a href=\"#Таблица-users---информация-о-пользователях\" data-toc-modified-id=\"Таблица-users---информация-о-пользователях-1.5\"><span class=\"toc-item-num\">1.5&nbsp;&nbsp;</span>Таблица <em>users</em> - информация о пользователях</a></span></li><li><span><a href=\"#Вывод\" data-toc-modified-id=\"Вывод-1.6\"><span class=\"toc-item-num\">1.6&nbsp;&nbsp;</span>Вывод</a></span></li></ul></li><li><span><a href=\"#Предобработка-данных\" data-toc-modified-id=\"Предобработка-данных-2\"><span class=\"toc-item-num\">2&nbsp;&nbsp;</span>Предобработка данных</a></span><ul class=\"toc-item\"><li><span><a href=\"#Дубликаты\" data-toc-modified-id=\"Дубликаты-2.1\"><span class=\"toc-item-num\">2.1&nbsp;&nbsp;</span>Дубликаты</a></span></li><li><span><a href=\"#Типы-данных\" data-toc-modified-id=\"Типы-данных-2.2\"><span class=\"toc-item-num\">2.2&nbsp;&nbsp;</span>Типы данных</a></span></li><li><span><a href=\"#Ошибки\" data-toc-modified-id=\"Ошибки-2.3\"><span class=\"toc-item-num\">2.3&nbsp;&nbsp;</span>Ошибки</a></span><ul class=\"toc-item\"><li><span><a href=\"#Таблица-tariffs\" data-toc-modified-id=\"Таблица-tariffs-2.3.1\"><span class=\"toc-item-num\">2.3.1&nbsp;&nbsp;</span>Таблица <code>tariffs</code></a></span></li><li><span><a href=\"#Таблица-users\" data-toc-modified-id=\"Таблица-users-2.3.2\"><span class=\"toc-item-num\">2.3.2&nbsp;&nbsp;</span>Таблица <code>users</code></a></span></li><li><span><a href=\"#Таблица-calls\" data-toc-modified-id=\"Таблица-calls-2.3.3\"><span class=\"toc-item-num\">2.3.3&nbsp;&nbsp;</span>Таблица <code>calls</code></a></span></li><li><span><a href=\"#Таблица-messages\" data-toc-modified-id=\"Таблица-messages-2.3.4\"><span class=\"toc-item-num\">2.3.4&nbsp;&nbsp;</span>Таблица <code>messages</code></a></span></li><li><span><a href=\"#Таблица-internet\" data-toc-modified-id=\"Таблица-internet-2.3.5\"><span class=\"toc-item-num\">2.3.5&nbsp;&nbsp;</span>Таблица <code>internet</code></a></span></li></ul></li><li><span><a href=\"#Вывод\" data-toc-modified-id=\"Вывод-2.4\"><span class=\"toc-item-num\">2.4&nbsp;&nbsp;</span>Вывод</a></span></li></ul></li><li><span><a href=\"#Расчёты-и-добавление-результатов-в-таблицу\" data-toc-modified-id=\"Расчёты-и-добавление-результатов-в-таблицу-3\"><span class=\"toc-item-num\">3&nbsp;&nbsp;</span>Расчёты и добавление результатов в таблицу</a></span><ul class=\"toc-item\"><li><span><a href=\"#Объем-израсходованного-интернет-трафика-по-месяцам\" data-toc-modified-id=\"Объем-израсходованного-интернет-трафика-по-месяцам-3.1\"><span class=\"toc-item-num\">3.1&nbsp;&nbsp;</span>Объем израсходованного интернет-трафика по месяцам</a></span></li><li><span><a href=\"#Количество-отправленных-сообщений-по-месяцам\" data-toc-modified-id=\"Количество-отправленных-сообщений-по-месяцам-3.2\"><span class=\"toc-item-num\">3.2&nbsp;&nbsp;</span>Количество отправленных сообщений по месяцам</a></span></li><li><span><a href=\"#Количество-сделанных-звонков-и-израсходованных-минут-разговора-по-месяцам\" data-toc-modified-id=\"Количество-сделанных-звонков-и-израсходованных-минут-разговора-по-месяцам-3.3\"><span class=\"toc-item-num\">3.3&nbsp;&nbsp;</span>Количество сделанных звонков и израсходованных минут разговора по месяцам</a></span></li><li><span><a href=\"#Помесячная-выручка-с-каждого-пользователя\" data-toc-modified-id=\"Помесячная-выручка-с-каждого-пользователя-3.4\"><span class=\"toc-item-num\">3.4&nbsp;&nbsp;</span>Помесячная выручка с каждого пользователя</a></span></li><li><span><a href=\"#Вывод\" data-toc-modified-id=\"Вывод-3.5\"><span class=\"toc-item-num\">3.5&nbsp;&nbsp;</span>Вывод</a></span></li></ul></li><li><span><a href=\"#Анализ-данных,-характеризующих-поведение-клиентов\" data-toc-modified-id=\"Анализ-данных,-характеризующих-поведение-клиентов-4\"><span class=\"toc-item-num\">4&nbsp;&nbsp;</span>Анализ данных, характеризующих поведение клиентов</a></span><ul class=\"toc-item\"><li><span><a href=\"#Определение-функции,-описывающей-поведение-клиентов\" data-toc-modified-id=\"Определение-функции,-описывающей-поведение-клиентов-4.1\"><span class=\"toc-item-num\">4.1&nbsp;&nbsp;</span>Определение функции, описывающей поведение клиентов</a></span></li><li><span><a href=\"#Анализ-длительности-разговоров\" data-toc-modified-id=\"Анализ-длительности-разговоров-4.2\"><span class=\"toc-item-num\">4.2&nbsp;&nbsp;</span>Анализ длительности разговоров</a></span></li><li><span><a href=\"#Анализ-количества-сообщений\" data-toc-modified-id=\"Анализ-количества-сообщений-4.3\"><span class=\"toc-item-num\">4.3&nbsp;&nbsp;</span>Анализ количества сообщений</a></span></li><li><span><a href=\"#Анализ-объёма-интернет-трафика\" data-toc-modified-id=\"Анализ-объёма-интернет-трафика-4.4\"><span class=\"toc-item-num\">4.4&nbsp;&nbsp;</span>Анализ объёма интернет-трафика</a></span></li><li><span><a href=\"#Вывод\" data-toc-modified-id=\"Вывод-4.5\"><span class=\"toc-item-num\">4.5&nbsp;&nbsp;</span>Вывод</a></span></li></ul></li><li><span><a href=\"#Проверка-гипотез\" data-toc-modified-id=\"Проверка-гипотез-5\"><span class=\"toc-item-num\">5&nbsp;&nbsp;</span>Проверка гипотез</a></span><ul class=\"toc-item\"><li><span><a href=\"#Определение-функции,-автоматизирующей-проверку-гипотез\" data-toc-modified-id=\"Определение-функции,-автоматизирующей-проверку-гипотез-5.1\"><span class=\"toc-item-num\">5.1&nbsp;&nbsp;</span>Определение функции, автоматизирующей проверку гипотез</a></span></li><li><span><a href=\"#Средняя-выручка-пользователей-тарифов-«Ультра»-и-«Смарт»-различаются\" data-toc-modified-id=\"Средняя-выручка-пользователей-тарифов-«Ультра»-и-«Смарт»-различаются-5.2\"><span class=\"toc-item-num\">5.2&nbsp;&nbsp;</span>Средняя выручка пользователей тарифов «Ультра» и «Смарт» различаются</a></span></li><li><span><a href=\"#Средняя-выручка-пользователей-из-Москвы-отличается-от-выручки-пользователей-из-других-регионов\" data-toc-modified-id=\"Средняя-выручка-пользователей-из-Москвы-отличается-от-выручки-пользователей-из-других-регионов-5.3\"><span class=\"toc-item-num\">5.3&nbsp;&nbsp;</span>Средняя выручка пользователей из Москвы отличается от выручки пользователей из других регионов</a></span></li><li><span><a href=\"#Вывод\" data-toc-modified-id=\"Вывод-5.4\"><span class=\"toc-item-num\">5.4&nbsp;&nbsp;</span>Вывод</a></span></li></ul></li><li><span><a href=\"#Итоги-исследования\" data-toc-modified-id=\"Итоги-исследования-6\"><span class=\"toc-item-num\">6&nbsp;&nbsp;</span>Итоги исследования</a></span></li><li><span><a href=\"#Чек-лист-готовности-проекта\" data-toc-modified-id=\"Чек-лист-готовности-проекта-7\"><span class=\"toc-item-num\">7&nbsp;&nbsp;</span>Чек-лист готовности проекта</a></span></li></ul></div>"
   ]
  },
  {
   "cell_type": "markdown",
   "id": "f115c5f2",
   "metadata": {},
   "source": [
    "<a id=\"section_0\"></a>\n",
    "# Определение перспективного тарифа для телеком-компании"
   ]
  },
  {
   "cell_type": "markdown",
   "id": "80328357",
   "metadata": {},
   "source": [
    "**Описание проекта**\n",
    "\n",
    "Компания «Мегалайн» — федеральный оператор сотовой связи - предлагает клиентам  два тарифных плана: «Смарт» и «Ультра».\n",
    "\n",
    "**Цель исследования**:\n",
    "\n",
    "Необходимо определить, какой тариф является наиболее прибыльным.\n",
    "\n",
    "Данная информация запрошена коммерческим департаментом и будет использована для корректировки рекламного бюджета.\n",
    "\n",
    "**Ход исследования**\n",
    "\n",
    "Анализ тарифов произведен на небольшой выборке клиентов. Предоставлены данные 500 пользователей «Мегалайна»: кто они, откуда, каким тарифом пользуются, сколько звонков и сообщений каждый отправил за 2018 год.\n",
    "\n",
    "О качестве данных ничего не известно, поэтому вначале выполнен их обзор. Затем данные проверены на ошибки и выполнена оценка их влияния на исследование. На следующем этапе исправлены критичные ошибки данных. Далее произведен дорасчет необходимых параметров, после чего осуществлена проверка гипотез.\n",
    " \n",
    "Таким образом, исследование состоит из четырех этапов:\n",
    " 1. Обзор данных.\n",
    " 2. Предобработка данных.\n",
    " 3. Расчеты дополнительных параметров.\n",
    " 4. Анализ данных.\n",
    " 5. Проверка гипотез."
   ]
  },
  {
   "cell_type": "markdown",
   "id": "824be7e0",
   "metadata": {},
   "source": [
    "**Описание тарифов**\n",
    "\n",
    "**Тариф «Смарт»**\n",
    "\n",
    "1. Ежемесячная плата: 550 рублей\n",
    "2. Включено 500 минут разговора, 50 сообщений и 15 Гб интернет-трафика\n",
    "3. Стоимость услуг сверх тарифного пакета:\n",
    "    1. минута разговора: 3 рубля («Мегалайн» всегда округляет вверх значения минут и мегабайтов. Если пользователь проговорил всего 1 секунду, в тарифе засчитывается целая минута); \n",
    "    2. сообщение: 3 рубля; \n",
    "    3. 1 Гб интернет-трафика: 200 рублей.\n",
    "\n",
    "**Тариф «Ультра»**\n",
    "\n",
    "1. Ежемесячная плата: 1950 рублей\n",
    "2. Включено 3000 минут разговора, 1000 сообщений и 30 Гб интернет-трафика\n",
    "3. Стоимость услуг сверх тарифного пакета:\n",
    "    1. минута разговора: 1 рубль; \n",
    "    2. сообщение: 1 рубль; \n",
    "    3. 1 Гб интернет-трафика: 150 рублей.\n",
    "\n",
    "**Примечание**\n",
    "\n",
    "«Мегалайн» всегда округляет секунды до минут, а мегабайты — до гигабайт. Каждый звонок округляется отдельно: даже если он длился всего 1 секунду, будет засчитан как 1 минута.\n",
    "\n",
    "Для веб-трафика отдельные сессии не считаются. Вместо этого общая сумма за месяц округляется в бо́льшую сторону. Если абонент использует 1025 мегабайт в этом месяце, с него возьмут плату за 2 гигабайта."
   ]
  },
  {
   "cell_type": "markdown",
   "id": "36bec44b",
   "metadata": {},
   "source": [
    "**Используемые библиотеки**\n",
    "\n",
    "Подключим библиотеки для работы с данными, которые будут использованы в ходе проведения исследования."
   ]
  },
  {
   "cell_type": "code",
   "execution_count": 1,
   "id": "3e1e04a0",
   "metadata": {},
   "outputs": [],
   "source": [
    "import pandas as pd\n",
    "import matplotlib.pyplot as plt\n",
    "import numpy as np\n",
    "import math\n",
    "from scipy import stats as st\n",
    "pd.set_option('display.float_format', '{:,.2f}'.format)"
   ]
  },
  {
   "cell_type": "markdown",
   "id": "d7861f83",
   "metadata": {},
   "source": [
    "<a id=\"section_1\"></a>\n",
    "## Обзор данных"
   ]
  },
  {
   "cell_type": "markdown",
   "id": "419795f0",
   "metadata": {},
   "source": [
    "Нам предоставлена выборка по 500 абонентам компании \"Мегалайн\". Данные содержатся в 5 файлах: calls.csv, internet.csv, messages.csv, tariffs.csv и users.csv. Произведем первичный обзор каждого из них."
   ]
  },
  {
   "cell_type": "markdown",
   "id": "d28ddd10",
   "metadata": {},
   "source": [
    "### Таблица *calls* - информация о звонках"
   ]
  },
  {
   "cell_type": "markdown",
   "id": "8da6acd2",
   "metadata": {},
   "source": [
    "Таблица **`calls`** (информация о звонках) - описание данных:\n",
    "- id — уникальный номер звонка\n",
    "- call_date — дата звонка\n",
    "- duration — длительность звонка в минутах\n",
    "- user_id — идентификатор пользователя, сделавшего звонок"
   ]
  },
  {
   "cell_type": "markdown",
   "id": "c5cba316",
   "metadata": {},
   "source": [
    "Сохраним данные в переменную `calls`, предусмотрим два варианта размещения данных: в локальной папке и на сервере."
   ]
  },
  {
   "cell_type": "code",
   "execution_count": 2,
   "id": "a1595740",
   "metadata": {},
   "outputs": [
    {
     "data": {
      "text/html": [
       "<div>\n",
       "<style scoped>\n",
       "    .dataframe tbody tr th:only-of-type {\n",
       "        vertical-align: middle;\n",
       "    }\n",
       "\n",
       "    .dataframe tbody tr th {\n",
       "        vertical-align: top;\n",
       "    }\n",
       "\n",
       "    .dataframe thead th {\n",
       "        text-align: right;\n",
       "    }\n",
       "</style>\n",
       "<table border=\"1\" class=\"dataframe\">\n",
       "  <thead>\n",
       "    <tr style=\"text-align: right;\">\n",
       "      <th></th>\n",
       "      <th>id</th>\n",
       "      <th>call_date</th>\n",
       "      <th>duration</th>\n",
       "      <th>user_id</th>\n",
       "    </tr>\n",
       "  </thead>\n",
       "  <tbody>\n",
       "    <tr>\n",
       "      <th>0</th>\n",
       "      <td>1000_0</td>\n",
       "      <td>2018-07-25</td>\n",
       "      <td>0.00</td>\n",
       "      <td>1000</td>\n",
       "    </tr>\n",
       "    <tr>\n",
       "      <th>1</th>\n",
       "      <td>1000_1</td>\n",
       "      <td>2018-08-17</td>\n",
       "      <td>0.00</td>\n",
       "      <td>1000</td>\n",
       "    </tr>\n",
       "    <tr>\n",
       "      <th>2</th>\n",
       "      <td>1000_2</td>\n",
       "      <td>2018-06-11</td>\n",
       "      <td>2.85</td>\n",
       "      <td>1000</td>\n",
       "    </tr>\n",
       "    <tr>\n",
       "      <th>3</th>\n",
       "      <td>1000_3</td>\n",
       "      <td>2018-09-21</td>\n",
       "      <td>13.80</td>\n",
       "      <td>1000</td>\n",
       "    </tr>\n",
       "    <tr>\n",
       "      <th>4</th>\n",
       "      <td>1000_4</td>\n",
       "      <td>2018-12-15</td>\n",
       "      <td>5.18</td>\n",
       "      <td>1000</td>\n",
       "    </tr>\n",
       "  </tbody>\n",
       "</table>\n",
       "</div>"
      ],
      "text/plain": [
       "       id   call_date  duration  user_id\n",
       "0  1000_0  2018-07-25      0.00     1000\n",
       "1  1000_1  2018-08-17      0.00     1000\n",
       "2  1000_2  2018-06-11      2.85     1000\n",
       "3  1000_3  2018-09-21     13.80     1000\n",
       "4  1000_4  2018-12-15      5.18     1000"
      ]
     },
     "execution_count": 2,
     "metadata": {},
     "output_type": "execute_result"
    }
   ],
   "source": [
    "try:\n",
    "    calls = pd.read_csv('calls.csv')\n",
    "except:\n",
    "    calls = pd.read_csv('/datasets/calls.csv')\n",
    "    \n",
    "calls.head()"
   ]
  },
  {
   "cell_type": "markdown",
   "id": "6897d8a2",
   "metadata": {},
   "source": [
    "Данные читаемы, проблем с кодировкой, разделителями и тп нет, продолжим изучение."
   ]
  },
  {
   "cell_type": "code",
   "execution_count": 3,
   "id": "bc284a42",
   "metadata": {},
   "outputs": [
    {
     "name": "stdout",
     "output_type": "stream",
     "text": [
      "<class 'pandas.core.frame.DataFrame'>\n",
      "RangeIndex: 202607 entries, 0 to 202606\n",
      "Data columns (total 4 columns):\n",
      " #   Column     Non-Null Count   Dtype  \n",
      "---  ------     --------------   -----  \n",
      " 0   id         202607 non-null  object \n",
      " 1   call_date  202607 non-null  object \n",
      " 2   duration   202607 non-null  float64\n",
      " 3   user_id    202607 non-null  int64  \n",
      "dtypes: float64(1), int64(1), object(2)\n",
      "memory usage: 6.2+ MB\n"
     ]
    }
   ],
   "source": [
    "calls.info()"
   ]
  },
  {
   "cell_type": "markdown",
   "id": "f60ae1c2",
   "metadata": {},
   "source": [
    "**Итог по таблице `calls`**\n",
    "\n",
    "В таблице 4 столбца, 202607 записей. Пропусков значений нет. Необходимо для столбца call_date изменить тип данных. Данные соответствуют описанию."
   ]
  },
  {
   "cell_type": "markdown",
   "id": "a4f738c5",
   "metadata": {},
   "source": [
    "### Таблица *internet* - информация об интернет-сессиях"
   ]
  },
  {
   "cell_type": "markdown",
   "id": "be4b9bb8",
   "metadata": {},
   "source": [
    "Таблица `internet` (информация об интернет-сессиях) - описание данных:\n",
    "- id — уникальный номер сессии\n",
    "- mb_used — объём потраченного за сессию интернет-трафика (в мегабайтах)\n",
    "- session_date — дата интернет-сессии\n",
    "- user_id — идентификатор пользователя"
   ]
  },
  {
   "cell_type": "markdown",
   "id": "10c9c672",
   "metadata": {},
   "source": [
    "Сохраним данные в переменную `internet`, предусмотрим два варианта размещения данных: в локальной папке и на сервере."
   ]
  },
  {
   "cell_type": "code",
   "execution_count": 4,
   "id": "a8db0430",
   "metadata": {},
   "outputs": [
    {
     "data": {
      "text/html": [
       "<div>\n",
       "<style scoped>\n",
       "    .dataframe tbody tr th:only-of-type {\n",
       "        vertical-align: middle;\n",
       "    }\n",
       "\n",
       "    .dataframe tbody tr th {\n",
       "        vertical-align: top;\n",
       "    }\n",
       "\n",
       "    .dataframe thead th {\n",
       "        text-align: right;\n",
       "    }\n",
       "</style>\n",
       "<table border=\"1\" class=\"dataframe\">\n",
       "  <thead>\n",
       "    <tr style=\"text-align: right;\">\n",
       "      <th></th>\n",
       "      <th>id</th>\n",
       "      <th>mb_used</th>\n",
       "      <th>session_date</th>\n",
       "      <th>user_id</th>\n",
       "    </tr>\n",
       "  </thead>\n",
       "  <tbody>\n",
       "    <tr>\n",
       "      <th>0</th>\n",
       "      <td>1000_0</td>\n",
       "      <td>112.95</td>\n",
       "      <td>2018-11-25</td>\n",
       "      <td>1000</td>\n",
       "    </tr>\n",
       "    <tr>\n",
       "      <th>1</th>\n",
       "      <td>1000_1</td>\n",
       "      <td>1,052.81</td>\n",
       "      <td>2018-09-07</td>\n",
       "      <td>1000</td>\n",
       "    </tr>\n",
       "    <tr>\n",
       "      <th>2</th>\n",
       "      <td>1000_2</td>\n",
       "      <td>1,197.26</td>\n",
       "      <td>2018-06-25</td>\n",
       "      <td>1000</td>\n",
       "    </tr>\n",
       "    <tr>\n",
       "      <th>3</th>\n",
       "      <td>1000_3</td>\n",
       "      <td>550.27</td>\n",
       "      <td>2018-08-22</td>\n",
       "      <td>1000</td>\n",
       "    </tr>\n",
       "    <tr>\n",
       "      <th>4</th>\n",
       "      <td>1000_4</td>\n",
       "      <td>302.56</td>\n",
       "      <td>2018-09-24</td>\n",
       "      <td>1000</td>\n",
       "    </tr>\n",
       "  </tbody>\n",
       "</table>\n",
       "</div>"
      ],
      "text/plain": [
       "       id  mb_used session_date  user_id\n",
       "0  1000_0   112.95   2018-11-25     1000\n",
       "1  1000_1 1,052.81   2018-09-07     1000\n",
       "2  1000_2 1,197.26   2018-06-25     1000\n",
       "3  1000_3   550.27   2018-08-22     1000\n",
       "4  1000_4   302.56   2018-09-24     1000"
      ]
     },
     "execution_count": 4,
     "metadata": {},
     "output_type": "execute_result"
    }
   ],
   "source": [
    "try:\n",
    "    internet = pd.read_csv('internet.csv', index_col=[0])\n",
    "except:\n",
    "    internet = pd.read_csv('/datasets/internet.csv', index_col=[0])\n",
    "    \n",
    "internet.head()"
   ]
  },
  {
   "cell_type": "markdown",
   "id": "b445b92a",
   "metadata": {},
   "source": [
    "Данные читаемы, проблем с кодировкой, разделителями и тп нет, продолжим изучение."
   ]
  },
  {
   "cell_type": "code",
   "execution_count": 5,
   "id": "f61c1140",
   "metadata": {},
   "outputs": [
    {
     "name": "stdout",
     "output_type": "stream",
     "text": [
      "<class 'pandas.core.frame.DataFrame'>\n",
      "Int64Index: 149396 entries, 0 to 149395\n",
      "Data columns (total 4 columns):\n",
      " #   Column        Non-Null Count   Dtype  \n",
      "---  ------        --------------   -----  \n",
      " 0   id            149396 non-null  object \n",
      " 1   mb_used       149396 non-null  float64\n",
      " 2   session_date  149396 non-null  object \n",
      " 3   user_id       149396 non-null  int64  \n",
      "dtypes: float64(1), int64(1), object(2)\n",
      "memory usage: 5.7+ MB\n"
     ]
    }
   ],
   "source": [
    "internet.info()"
   ]
  },
  {
   "cell_type": "markdown",
   "id": "c57ac75a",
   "metadata": {},
   "source": [
    "**Итог по таблице `internet`**\n",
    "\n",
    "В таблице 4 столбца, 149396 записей. Пропусков значений нет. Необходимо для столбца session_date изменить тип данных. Данные соответствуют описанию."
   ]
  },
  {
   "cell_type": "markdown",
   "id": "c4048cd0",
   "metadata": {},
   "source": [
    "### Таблица *messages* - информация о сообщениях"
   ]
  },
  {
   "cell_type": "markdown",
   "id": "bc9108ef",
   "metadata": {},
   "source": [
    "Таблица `messages` (информация о сообщениях) - описание данных:\n",
    "- id — уникальный номер сообщения\n",
    "- message_date — дата сообщения\n",
    "- user_id — идентификатор пользователя, отправившего сообщение"
   ]
  },
  {
   "cell_type": "markdown",
   "id": "ac43b340",
   "metadata": {},
   "source": [
    "Сохраним данные в переменную `messages`, предусмотрим два варианта размещения данных: в локальной папке и на сервере."
   ]
  },
  {
   "cell_type": "code",
   "execution_count": 6,
   "id": "98cf814f",
   "metadata": {},
   "outputs": [
    {
     "data": {
      "text/html": [
       "<div>\n",
       "<style scoped>\n",
       "    .dataframe tbody tr th:only-of-type {\n",
       "        vertical-align: middle;\n",
       "    }\n",
       "\n",
       "    .dataframe tbody tr th {\n",
       "        vertical-align: top;\n",
       "    }\n",
       "\n",
       "    .dataframe thead th {\n",
       "        text-align: right;\n",
       "    }\n",
       "</style>\n",
       "<table border=\"1\" class=\"dataframe\">\n",
       "  <thead>\n",
       "    <tr style=\"text-align: right;\">\n",
       "      <th></th>\n",
       "      <th>id</th>\n",
       "      <th>message_date</th>\n",
       "      <th>user_id</th>\n",
       "    </tr>\n",
       "  </thead>\n",
       "  <tbody>\n",
       "    <tr>\n",
       "      <th>0</th>\n",
       "      <td>1000_0</td>\n",
       "      <td>2018-06-27</td>\n",
       "      <td>1000</td>\n",
       "    </tr>\n",
       "    <tr>\n",
       "      <th>1</th>\n",
       "      <td>1000_1</td>\n",
       "      <td>2018-10-08</td>\n",
       "      <td>1000</td>\n",
       "    </tr>\n",
       "    <tr>\n",
       "      <th>2</th>\n",
       "      <td>1000_2</td>\n",
       "      <td>2018-08-04</td>\n",
       "      <td>1000</td>\n",
       "    </tr>\n",
       "    <tr>\n",
       "      <th>3</th>\n",
       "      <td>1000_3</td>\n",
       "      <td>2018-06-16</td>\n",
       "      <td>1000</td>\n",
       "    </tr>\n",
       "    <tr>\n",
       "      <th>4</th>\n",
       "      <td>1000_4</td>\n",
       "      <td>2018-12-05</td>\n",
       "      <td>1000</td>\n",
       "    </tr>\n",
       "  </tbody>\n",
       "</table>\n",
       "</div>"
      ],
      "text/plain": [
       "       id message_date  user_id\n",
       "0  1000_0   2018-06-27     1000\n",
       "1  1000_1   2018-10-08     1000\n",
       "2  1000_2   2018-08-04     1000\n",
       "3  1000_3   2018-06-16     1000\n",
       "4  1000_4   2018-12-05     1000"
      ]
     },
     "execution_count": 6,
     "metadata": {},
     "output_type": "execute_result"
    }
   ],
   "source": [
    "try:\n",
    "    messages = pd.read_csv('messages.csv')\n",
    "except:\n",
    "    messages = pd.read_csv('/datasets/messages.csv')\n",
    "    \n",
    "messages.head()"
   ]
  },
  {
   "cell_type": "markdown",
   "id": "cd6da336",
   "metadata": {},
   "source": [
    "Данные читаемы, проблем с кодировкой, разделителями и тп нет, продолжим изучение."
   ]
  },
  {
   "cell_type": "code",
   "execution_count": 7,
   "id": "9e4e5af7",
   "metadata": {},
   "outputs": [
    {
     "name": "stdout",
     "output_type": "stream",
     "text": [
      "<class 'pandas.core.frame.DataFrame'>\n",
      "RangeIndex: 123036 entries, 0 to 123035\n",
      "Data columns (total 3 columns):\n",
      " #   Column        Non-Null Count   Dtype \n",
      "---  ------        --------------   ----- \n",
      " 0   id            123036 non-null  object\n",
      " 1   message_date  123036 non-null  object\n",
      " 2   user_id       123036 non-null  int64 \n",
      "dtypes: int64(1), object(2)\n",
      "memory usage: 2.8+ MB\n"
     ]
    }
   ],
   "source": [
    "messages.info()"
   ]
  },
  {
   "cell_type": "markdown",
   "id": "b1e8ff71",
   "metadata": {},
   "source": [
    "**Итог по таблице `messages`**\n",
    "\n",
    "В таблице 3 столбца, 123036 записей. Пропусков значений нет. Необходимо для столбца message_date изменить тип данных. Данные соответствуют описанию."
   ]
  },
  {
   "cell_type": "markdown",
   "id": "34180638",
   "metadata": {},
   "source": [
    "### Таблица *tariffs* - информация о тарифах"
   ]
  },
  {
   "cell_type": "markdown",
   "id": "016e1706",
   "metadata": {},
   "source": [
    "Таблица `tariffs` (информация о тарифах) - описание данных:\n",
    "- tariff_name — название тарифа\n",
    "- rub_monthly_fee — ежемесячная абонентская плата в рублях\n",
    "- minutes_included — количество минут разговора в месяц, включённых в абонентскую плату\n",
    "- messages_included — количество сообщений в месяц, включённых в абонентскую плату\n",
    "- mb_per_month_included — объём интернет-трафика, включённого в абонентскую плату (в мегабайтах)\n",
    "- rub_per_minute — стоимость минуты разговора сверх тарифного пакета (например, если в тарифе 100 минут разговора в месяц, то со 101 минуты будет взиматься плата)\n",
    "- rub_per_message — стоимость отправки сообщения сверх тарифного пакета\n",
    "- rub_per_gb — стоимость дополнительного гигабайта интернет-трафика сверх тарифного пакета (1 гигабайт = 1024 мегабайта)"
   ]
  },
  {
   "cell_type": "markdown",
   "id": "e21cb429",
   "metadata": {},
   "source": [
    "Сохраним данные в переменную `tariffs`, предусмотрим два варианта размещения данных: в локальной папке и на сервере."
   ]
  },
  {
   "cell_type": "code",
   "execution_count": 8,
   "id": "cb13e028",
   "metadata": {},
   "outputs": [
    {
     "data": {
      "text/html": [
       "<div>\n",
       "<style scoped>\n",
       "    .dataframe tbody tr th:only-of-type {\n",
       "        vertical-align: middle;\n",
       "    }\n",
       "\n",
       "    .dataframe tbody tr th {\n",
       "        vertical-align: top;\n",
       "    }\n",
       "\n",
       "    .dataframe thead th {\n",
       "        text-align: right;\n",
       "    }\n",
       "</style>\n",
       "<table border=\"1\" class=\"dataframe\">\n",
       "  <thead>\n",
       "    <tr style=\"text-align: right;\">\n",
       "      <th></th>\n",
       "      <th>0</th>\n",
       "      <th>1</th>\n",
       "    </tr>\n",
       "  </thead>\n",
       "  <tbody>\n",
       "    <tr>\n",
       "      <th>messages_included</th>\n",
       "      <td>50</td>\n",
       "      <td>1000</td>\n",
       "    </tr>\n",
       "    <tr>\n",
       "      <th>mb_per_month_included</th>\n",
       "      <td>15360</td>\n",
       "      <td>30720</td>\n",
       "    </tr>\n",
       "    <tr>\n",
       "      <th>minutes_included</th>\n",
       "      <td>500</td>\n",
       "      <td>3000</td>\n",
       "    </tr>\n",
       "    <tr>\n",
       "      <th>rub_monthly_fee</th>\n",
       "      <td>550</td>\n",
       "      <td>1950</td>\n",
       "    </tr>\n",
       "    <tr>\n",
       "      <th>rub_per_gb</th>\n",
       "      <td>200</td>\n",
       "      <td>150</td>\n",
       "    </tr>\n",
       "    <tr>\n",
       "      <th>rub_per_message</th>\n",
       "      <td>3</td>\n",
       "      <td>1</td>\n",
       "    </tr>\n",
       "    <tr>\n",
       "      <th>rub_per_minute</th>\n",
       "      <td>3</td>\n",
       "      <td>1</td>\n",
       "    </tr>\n",
       "    <tr>\n",
       "      <th>tariff_name</th>\n",
       "      <td>smart</td>\n",
       "      <td>ultra</td>\n",
       "    </tr>\n",
       "  </tbody>\n",
       "</table>\n",
       "</div>"
      ],
      "text/plain": [
       "                           0      1\n",
       "messages_included         50   1000\n",
       "mb_per_month_included  15360  30720\n",
       "minutes_included         500   3000\n",
       "rub_monthly_fee          550   1950\n",
       "rub_per_gb               200    150\n",
       "rub_per_message            3      1\n",
       "rub_per_minute             3      1\n",
       "tariff_name            smart  ultra"
      ]
     },
     "execution_count": 8,
     "metadata": {},
     "output_type": "execute_result"
    }
   ],
   "source": [
    "try:\n",
    "    tariffs = pd.read_csv('tariffs.csv')\n",
    "except:\n",
    "    tariffs = pd.read_csv('/datasets/tariffs.csv')\n",
    "    \n",
    "tariffs.head().T"
   ]
  },
  {
   "cell_type": "markdown",
   "id": "388ab356",
   "metadata": {},
   "source": [
    "Данные читаемы, проблем с кодировкой, разделителями и тп нет, продолжим изучение."
   ]
  },
  {
   "cell_type": "code",
   "execution_count": 9,
   "id": "122cb6ba",
   "metadata": {},
   "outputs": [
    {
     "name": "stdout",
     "output_type": "stream",
     "text": [
      "<class 'pandas.core.frame.DataFrame'>\n",
      "RangeIndex: 2 entries, 0 to 1\n",
      "Data columns (total 8 columns):\n",
      " #   Column                 Non-Null Count  Dtype \n",
      "---  ------                 --------------  ----- \n",
      " 0   messages_included      2 non-null      int64 \n",
      " 1   mb_per_month_included  2 non-null      int64 \n",
      " 2   minutes_included       2 non-null      int64 \n",
      " 3   rub_monthly_fee        2 non-null      int64 \n",
      " 4   rub_per_gb             2 non-null      int64 \n",
      " 5   rub_per_message        2 non-null      int64 \n",
      " 6   rub_per_minute         2 non-null      int64 \n",
      " 7   tariff_name            2 non-null      object\n",
      "dtypes: int64(7), object(1)\n",
      "memory usage: 256.0+ bytes\n"
     ]
    }
   ],
   "source": [
    "tariffs.info()"
   ]
  },
  {
   "cell_type": "markdown",
   "id": "0f56ca1c",
   "metadata": {},
   "source": [
    "**Итог по таблице `tariffs`**\n",
    "\n",
    "В таблице 8 столбцов, 2 записи (тарифы smart и ultra). Пропусков значений нет. Данные соответствуют описанию."
   ]
  },
  {
   "cell_type": "markdown",
   "id": "178e533e",
   "metadata": {},
   "source": [
    "### Таблица *users* - информация о пользователях"
   ]
  },
  {
   "cell_type": "markdown",
   "id": "10db553c",
   "metadata": {},
   "source": [
    "Таблица `users` (информация о пользователях) - описание данных:\n",
    "- user_id — уникальный идентификатор пользователя\n",
    "- first_name — имя пользователя\n",
    "- last_name — фамилия пользователя\n",
    "- age — возраст пользователя (годы)\n",
    "- reg_date — дата подключения тарифа (день, месяц, год)\n",
    "- churn_date — дата прекращения пользования тарифом (если значение пропущено, то тариф ещё действовал на момент выгрузки данных)\n",
    "- city — город проживания пользователя\n",
    "- tarif — название тарифного плана"
   ]
  },
  {
   "cell_type": "markdown",
   "id": "caaf04b2",
   "metadata": {},
   "source": [
    "Сохраним данные в переменную `users`, предусмотрим два варианта размещения данных: в локальной папке и на сервере."
   ]
  },
  {
   "cell_type": "code",
   "execution_count": 10,
   "id": "c4b7c943",
   "metadata": {},
   "outputs": [
    {
     "data": {
      "text/html": [
       "<div>\n",
       "<style scoped>\n",
       "    .dataframe tbody tr th:only-of-type {\n",
       "        vertical-align: middle;\n",
       "    }\n",
       "\n",
       "    .dataframe tbody tr th {\n",
       "        vertical-align: top;\n",
       "    }\n",
       "\n",
       "    .dataframe thead th {\n",
       "        text-align: right;\n",
       "    }\n",
       "</style>\n",
       "<table border=\"1\" class=\"dataframe\">\n",
       "  <thead>\n",
       "    <tr style=\"text-align: right;\">\n",
       "      <th></th>\n",
       "      <th>user_id</th>\n",
       "      <th>age</th>\n",
       "      <th>churn_date</th>\n",
       "      <th>city</th>\n",
       "      <th>first_name</th>\n",
       "      <th>last_name</th>\n",
       "      <th>reg_date</th>\n",
       "      <th>tariff</th>\n",
       "    </tr>\n",
       "  </thead>\n",
       "  <tbody>\n",
       "    <tr>\n",
       "      <th>0</th>\n",
       "      <td>1000</td>\n",
       "      <td>52</td>\n",
       "      <td>NaN</td>\n",
       "      <td>Краснодар</td>\n",
       "      <td>Рафаил</td>\n",
       "      <td>Верещагин</td>\n",
       "      <td>2018-05-25</td>\n",
       "      <td>ultra</td>\n",
       "    </tr>\n",
       "    <tr>\n",
       "      <th>1</th>\n",
       "      <td>1001</td>\n",
       "      <td>41</td>\n",
       "      <td>NaN</td>\n",
       "      <td>Москва</td>\n",
       "      <td>Иван</td>\n",
       "      <td>Ежов</td>\n",
       "      <td>2018-11-01</td>\n",
       "      <td>smart</td>\n",
       "    </tr>\n",
       "    <tr>\n",
       "      <th>2</th>\n",
       "      <td>1002</td>\n",
       "      <td>59</td>\n",
       "      <td>NaN</td>\n",
       "      <td>Стерлитамак</td>\n",
       "      <td>Евгений</td>\n",
       "      <td>Абрамович</td>\n",
       "      <td>2018-06-17</td>\n",
       "      <td>smart</td>\n",
       "    </tr>\n",
       "    <tr>\n",
       "      <th>3</th>\n",
       "      <td>1003</td>\n",
       "      <td>23</td>\n",
       "      <td>NaN</td>\n",
       "      <td>Москва</td>\n",
       "      <td>Белла</td>\n",
       "      <td>Белякова</td>\n",
       "      <td>2018-08-17</td>\n",
       "      <td>ultra</td>\n",
       "    </tr>\n",
       "    <tr>\n",
       "      <th>4</th>\n",
       "      <td>1004</td>\n",
       "      <td>68</td>\n",
       "      <td>NaN</td>\n",
       "      <td>Новокузнецк</td>\n",
       "      <td>Татьяна</td>\n",
       "      <td>Авдеенко</td>\n",
       "      <td>2018-05-14</td>\n",
       "      <td>ultra</td>\n",
       "    </tr>\n",
       "  </tbody>\n",
       "</table>\n",
       "</div>"
      ],
      "text/plain": [
       "   user_id  age churn_date         city first_name  last_name    reg_date  \\\n",
       "0     1000   52        NaN    Краснодар     Рафаил  Верещагин  2018-05-25   \n",
       "1     1001   41        NaN       Москва       Иван       Ежов  2018-11-01   \n",
       "2     1002   59        NaN  Стерлитамак    Евгений  Абрамович  2018-06-17   \n",
       "3     1003   23        NaN       Москва      Белла   Белякова  2018-08-17   \n",
       "4     1004   68        NaN  Новокузнецк    Татьяна   Авдеенко  2018-05-14   \n",
       "\n",
       "  tariff  \n",
       "0  ultra  \n",
       "1  smart  \n",
       "2  smart  \n",
       "3  ultra  \n",
       "4  ultra  "
      ]
     },
     "execution_count": 10,
     "metadata": {},
     "output_type": "execute_result"
    }
   ],
   "source": [
    "try:\n",
    "    users = pd.read_csv('users.csv')\n",
    "except:\n",
    "    users = pd.read_csv('/datasets/users.csv')\n",
    "    \n",
    "users.head()"
   ]
  },
  {
   "cell_type": "markdown",
   "id": "7ae09070",
   "metadata": {},
   "source": [
    "Данные читаемы, проблем с кодировкой, разделителями и тп нет, продолжим изучение."
   ]
  },
  {
   "cell_type": "code",
   "execution_count": 11,
   "id": "7e29ac60",
   "metadata": {},
   "outputs": [
    {
     "name": "stdout",
     "output_type": "stream",
     "text": [
      "<class 'pandas.core.frame.DataFrame'>\n",
      "RangeIndex: 500 entries, 0 to 499\n",
      "Data columns (total 8 columns):\n",
      " #   Column      Non-Null Count  Dtype \n",
      "---  ------      --------------  ----- \n",
      " 0   user_id     500 non-null    int64 \n",
      " 1   age         500 non-null    int64 \n",
      " 2   churn_date  38 non-null     object\n",
      " 3   city        500 non-null    object\n",
      " 4   first_name  500 non-null    object\n",
      " 5   last_name   500 non-null    object\n",
      " 6   reg_date    500 non-null    object\n",
      " 7   tariff      500 non-null    object\n",
      "dtypes: int64(2), object(6)\n",
      "memory usage: 31.4+ KB\n"
     ]
    }
   ],
   "source": [
    "users.info()"
   ]
  },
  {
   "cell_type": "markdown",
   "id": "5195e456",
   "metadata": {},
   "source": [
    "**Итог по таблице `users`**\n",
    "\n",
    "В таблице 8 столбцов, 500 записей. Пропуски имеются только в столбце `churn_date`, наличие этих пропусков не ошибка - они несут важную информацию о том, что абоненет является действующим на момент выборки данных. Необходимо для столбцов churn_date и reg_date изменить тип данных. Данные соответствуют описанию."
   ]
  },
  {
   "cell_type": "markdown",
   "id": "ccb03bfe",
   "metadata": {},
   "source": [
    "### Вывод\n",
    "\n",
    "Нам предоставлена выборка данных по 500 абонентам компании \"Мегалайн\" за 2018 год. Данные содержатся в 5 файлах: calls.csv, internet.csv, messages.csv, tariffs.csv и users.csv. В этих файлах таблицы с информацией о:\n",
    "- звонках (202 607 записей)\n",
    "- интернет-сессиях (149 396 записей)\n",
    "- сообщениях (123 036 записей)\n",
    "- тарифах (2 записи)\n",
    "- пользователях (500 записей)\n",
    "\n",
    "Предварительно можно утверждать, что количество и качество данных достаточны для проведения исследования. \n",
    "\n",
    "Пропусков в данных крайне мало - выявлен только один столбец с пропусками, но в данном случае отсутствие данных не ошибка, а информация о том, что абонент действующий. Из сущестенных недостатков выявлен только один - в столбцах с датами необходимо изменить тип данных на соответствующий содержанию.\n",
    "\n",
    "Чтобы двигаться дальше, нужно устранить выявленное несоответствие, а также провести более глубокую проверку данных на наличие ошибок.\n",
    "\n",
    "[В начало раздела 1](#section_1)"
   ]
  },
  {
   "cell_type": "markdown",
   "id": "1d8d481c",
   "metadata": {},
   "source": [
    "<a id=\"section_2\"></a>\n",
    "## Предобработка данных"
   ]
  },
  {
   "cell_type": "markdown",
   "id": "f7eeb4c5",
   "metadata": {},
   "source": [
    "Подготовка данных в данном исследовании будет состоять из следующих этапов:\n",
    "\n",
    "- Выявление дубликатов;\n",
    "- Приведение данных к нужным типам;\n",
    "- Поиск и исправление ошибок в данных."
   ]
  },
  {
   "cell_type": "markdown",
   "id": "dba740dd",
   "metadata": {},
   "source": [
    "### Дубликаты"
   ]
  },
  {
   "cell_type": "markdown",
   "id": "940ec78a",
   "metadata": {},
   "source": [
    "Проверим наличие явных дубликатов в каждой таблице."
   ]
  },
  {
   "cell_type": "code",
   "execution_count": 12,
   "id": "d3816662",
   "metadata": {},
   "outputs": [
    {
     "data": {
      "text/plain": [
       "0"
      ]
     },
     "execution_count": 12,
     "metadata": {},
     "output_type": "execute_result"
    }
   ],
   "source": [
    "calls.duplicated().sum()"
   ]
  },
  {
   "cell_type": "code",
   "execution_count": 13,
   "id": "748bf6f6",
   "metadata": {},
   "outputs": [
    {
     "data": {
      "text/plain": [
       "0"
      ]
     },
     "execution_count": 13,
     "metadata": {},
     "output_type": "execute_result"
    }
   ],
   "source": [
    "internet.duplicated().sum()"
   ]
  },
  {
   "cell_type": "code",
   "execution_count": 14,
   "id": "dff6def3",
   "metadata": {},
   "outputs": [
    {
     "data": {
      "text/plain": [
       "0"
      ]
     },
     "execution_count": 14,
     "metadata": {},
     "output_type": "execute_result"
    }
   ],
   "source": [
    "messages.duplicated().sum()"
   ]
  },
  {
   "cell_type": "code",
   "execution_count": 15,
   "id": "9837a3cd",
   "metadata": {},
   "outputs": [
    {
     "data": {
      "text/plain": [
       "0"
      ]
     },
     "execution_count": 15,
     "metadata": {},
     "output_type": "execute_result"
    }
   ],
   "source": [
    "tariffs.duplicated().sum()"
   ]
  },
  {
   "cell_type": "code",
   "execution_count": 16,
   "id": "768159f5",
   "metadata": {},
   "outputs": [
    {
     "data": {
      "text/plain": [
       "0"
      ]
     },
     "execution_count": 16,
     "metadata": {},
     "output_type": "execute_result"
    }
   ],
   "source": [
    "users.duplicated().sum()"
   ]
  },
  {
   "cell_type": "code",
   "execution_count": 17,
   "id": "a27f2897",
   "metadata": {},
   "outputs": [
    {
     "data": {
      "text/plain": [
       "0"
      ]
     },
     "execution_count": 17,
     "metadata": {},
     "output_type": "execute_result"
    }
   ],
   "source": [
    "# проверка на наличие нескольких аккаунтов у одного человека\n",
    "users.loc[:, ['age', 'first_name', 'last_name', 'city']].duplicated().sum()"
   ]
  },
  {
   "cell_type": "markdown",
   "id": "c73491f5",
   "metadata": {},
   "source": [
    "Дублей в данных нет."
   ]
  },
  {
   "cell_type": "markdown",
   "id": "c860c12f",
   "metadata": {},
   "source": [
    "### Типы данных"
   ]
  },
  {
   "cell_type": "markdown",
   "id": "58ec2b26",
   "metadata": {},
   "source": [
    "В таблицах `calls`, `internet`, `messages` и `users` имеютя столбцы с имформацией о различных датах. Однако, тип данных этих столбцов - `object`. Приведем тип данных колонок в соответствие с информацией, содержащейся в них. "
   ]
  },
  {
   "cell_type": "markdown",
   "id": "2fb09d28",
   "metadata": {},
   "source": [
    "Сохраним в константу строковый формат даты `'2018-05-25'`."
   ]
  },
  {
   "cell_type": "code",
   "execution_count": 18,
   "id": "254f8136",
   "metadata": {},
   "outputs": [],
   "source": [
    "FORMAT_DATETIME = '%Y-%m-%d'"
   ]
  },
  {
   "cell_type": "markdown",
   "id": "ba257b63",
   "metadata": {},
   "source": [
    "Преобразуем тип данных для дат в указанных таблицах и проверим успешность преобразования."
   ]
  },
  {
   "cell_type": "code",
   "execution_count": 19,
   "id": "1b8ffb3d",
   "metadata": {},
   "outputs": [
    {
     "name": "stdout",
     "output_type": "stream",
     "text": [
      "<class 'pandas.core.frame.DataFrame'>\n",
      "RangeIndex: 202607 entries, 0 to 202606\n",
      "Data columns (total 4 columns):\n",
      " #   Column     Non-Null Count   Dtype         \n",
      "---  ------     --------------   -----         \n",
      " 0   id         202607 non-null  object        \n",
      " 1   call_date  202607 non-null  datetime64[ns]\n",
      " 2   duration   202607 non-null  float64       \n",
      " 3   user_id    202607 non-null  int64         \n",
      "dtypes: datetime64[ns](1), float64(1), int64(1), object(1)\n",
      "memory usage: 6.2+ MB\n"
     ]
    }
   ],
   "source": [
    "calls['call_date'] = pd.to_datetime(calls['call_date'], format=FORMAT_DATETIME)\n",
    "calls.info()"
   ]
  },
  {
   "cell_type": "code",
   "execution_count": 20,
   "id": "949a962b",
   "metadata": {},
   "outputs": [
    {
     "name": "stdout",
     "output_type": "stream",
     "text": [
      "<class 'pandas.core.frame.DataFrame'>\n",
      "RangeIndex: 202607 entries, 0 to 202606\n",
      "Data columns (total 4 columns):\n",
      " #   Column     Non-Null Count   Dtype         \n",
      "---  ------     --------------   -----         \n",
      " 0   id         202607 non-null  object        \n",
      " 1   call_date  202607 non-null  datetime64[ns]\n",
      " 2   duration   202607 non-null  float64       \n",
      " 3   user_id    202607 non-null  int64         \n",
      "dtypes: datetime64[ns](1), float64(1), int64(1), object(1)\n",
      "memory usage: 6.2+ MB\n"
     ]
    }
   ],
   "source": [
    "internet['session_date'] = pd.to_datetime(internet['session_date'], format=FORMAT_DATETIME)\n",
    "calls.info()"
   ]
  },
  {
   "cell_type": "code",
   "execution_count": 21,
   "id": "7d250994",
   "metadata": {},
   "outputs": [
    {
     "name": "stdout",
     "output_type": "stream",
     "text": [
      "<class 'pandas.core.frame.DataFrame'>\n",
      "RangeIndex: 123036 entries, 0 to 123035\n",
      "Data columns (total 3 columns):\n",
      " #   Column        Non-Null Count   Dtype         \n",
      "---  ------        --------------   -----         \n",
      " 0   id            123036 non-null  object        \n",
      " 1   message_date  123036 non-null  datetime64[ns]\n",
      " 2   user_id       123036 non-null  int64         \n",
      "dtypes: datetime64[ns](1), int64(1), object(1)\n",
      "memory usage: 2.8+ MB\n"
     ]
    }
   ],
   "source": [
    "messages['message_date'] = pd.to_datetime(messages['message_date'], format=FORMAT_DATETIME)\n",
    "messages.info()"
   ]
  },
  {
   "cell_type": "code",
   "execution_count": 22,
   "id": "b1f6e42f",
   "metadata": {},
   "outputs": [
    {
     "name": "stdout",
     "output_type": "stream",
     "text": [
      "<class 'pandas.core.frame.DataFrame'>\n",
      "RangeIndex: 500 entries, 0 to 499\n",
      "Data columns (total 8 columns):\n",
      " #   Column      Non-Null Count  Dtype         \n",
      "---  ------      --------------  -----         \n",
      " 0   user_id     500 non-null    int64         \n",
      " 1   age         500 non-null    int64         \n",
      " 2   churn_date  38 non-null     datetime64[ns]\n",
      " 3   city        500 non-null    object        \n",
      " 4   first_name  500 non-null    object        \n",
      " 5   last_name   500 non-null    object        \n",
      " 6   reg_date    500 non-null    datetime64[ns]\n",
      " 7   tariff      500 non-null    object        \n",
      "dtypes: datetime64[ns](2), int64(2), object(4)\n",
      "memory usage: 31.4+ KB\n"
     ]
    }
   ],
   "source": [
    "users['churn_date'] = pd.to_datetime(users['churn_date'], format=FORMAT_DATETIME)\n",
    "users['reg_date'] = pd.to_datetime(users['reg_date'], format=FORMAT_DATETIME)\n",
    "users.info()"
   ]
  },
  {
   "cell_type": "markdown",
   "id": "e6bcee63",
   "metadata": {},
   "source": [
    "Преобразования успешны, тип данных `datetime64` соответствует информации."
   ]
  },
  {
   "cell_type": "markdown",
   "id": "b69bcd4d",
   "metadata": {},
   "source": [
    "В таблице `calls` имеется столбец с имформацией о длительности звонков. Тип данных - `float64`. Согласно условиям тарифов, «Мегалайн» округляет секунды до минут, причем каждый звонок округляется отдельно: даже если он длился всего 1 секунду, будет засчитан как 1 минута. Приведем тип данных колонок в соответствие с условиями тарифов. "
   ]
  },
  {
   "cell_type": "code",
   "execution_count": 23,
   "id": "aa3de20b",
   "metadata": {},
   "outputs": [
    {
     "name": "stdout",
     "output_type": "stream",
     "text": [
      "<class 'pandas.core.frame.DataFrame'>\n",
      "RangeIndex: 202607 entries, 0 to 202606\n",
      "Data columns (total 4 columns):\n",
      " #   Column     Non-Null Count   Dtype         \n",
      "---  ------     --------------   -----         \n",
      " 0   id         202607 non-null  object        \n",
      " 1   call_date  202607 non-null  datetime64[ns]\n",
      " 2   duration   202607 non-null  int64         \n",
      " 3   user_id    202607 non-null  int64         \n",
      "dtypes: datetime64[ns](1), int64(2), object(1)\n",
      "memory usage: 6.2+ MB\n"
     ]
    }
   ],
   "source": [
    "calls['duration'] = calls['duration'].apply(lambda x: math.ceil(x))\n",
    "calls.info()"
   ]
  },
  {
   "cell_type": "markdown",
   "id": "7e9d9d09",
   "metadata": {},
   "source": [
    "Преобразования успешны, тип данных соответствует информации."
   ]
  },
  {
   "cell_type": "markdown",
   "id": "a8b81e53",
   "metadata": {},
   "source": [
    "### Ошибки"
   ]
  },
  {
   "cell_type": "markdown",
   "id": "5fd97dff",
   "metadata": {},
   "source": [
    "Изучим данные на наличие ошибок - выбивающихся значений, построим гистограммы распределения значений."
   ]
  },
  {
   "cell_type": "markdown",
   "id": "a7cfe5dd",
   "metadata": {},
   "source": [
    "#### Таблица `tariffs`"
   ]
  },
  {
   "cell_type": "code",
   "execution_count": 24,
   "id": "07f27286",
   "metadata": {},
   "outputs": [
    {
     "name": "stdout",
     "output_type": "stream",
     "text": [
      "<class 'pandas.core.frame.DataFrame'>\n",
      "RangeIndex: 2 entries, 0 to 1\n",
      "Data columns (total 8 columns):\n",
      " #   Column                 Non-Null Count  Dtype \n",
      "---  ------                 --------------  ----- \n",
      " 0   messages_included      2 non-null      int64 \n",
      " 1   mb_per_month_included  2 non-null      int64 \n",
      " 2   minutes_included       2 non-null      int64 \n",
      " 3   rub_monthly_fee        2 non-null      int64 \n",
      " 4   rub_per_gb             2 non-null      int64 \n",
      " 5   rub_per_message        2 non-null      int64 \n",
      " 6   rub_per_minute         2 non-null      int64 \n",
      " 7   tariff_name            2 non-null      object\n",
      "dtypes: int64(7), object(1)\n",
      "memory usage: 256.0+ bytes\n"
     ]
    }
   ],
   "source": [
    "tariffs.info()"
   ]
  },
  {
   "cell_type": "code",
   "execution_count": 25,
   "id": "8ac2fab1",
   "metadata": {},
   "outputs": [
    {
     "data": {
      "text/html": [
       "<div>\n",
       "<style scoped>\n",
       "    .dataframe tbody tr th:only-of-type {\n",
       "        vertical-align: middle;\n",
       "    }\n",
       "\n",
       "    .dataframe tbody tr th {\n",
       "        vertical-align: top;\n",
       "    }\n",
       "\n",
       "    .dataframe thead th {\n",
       "        text-align: right;\n",
       "    }\n",
       "</style>\n",
       "<table border=\"1\" class=\"dataframe\">\n",
       "  <thead>\n",
       "    <tr style=\"text-align: right;\">\n",
       "      <th></th>\n",
       "      <th>0</th>\n",
       "      <th>1</th>\n",
       "    </tr>\n",
       "  </thead>\n",
       "  <tbody>\n",
       "    <tr>\n",
       "      <th>messages_included</th>\n",
       "      <td>50</td>\n",
       "      <td>1000</td>\n",
       "    </tr>\n",
       "    <tr>\n",
       "      <th>mb_per_month_included</th>\n",
       "      <td>15360</td>\n",
       "      <td>30720</td>\n",
       "    </tr>\n",
       "    <tr>\n",
       "      <th>minutes_included</th>\n",
       "      <td>500</td>\n",
       "      <td>3000</td>\n",
       "    </tr>\n",
       "    <tr>\n",
       "      <th>rub_monthly_fee</th>\n",
       "      <td>550</td>\n",
       "      <td>1950</td>\n",
       "    </tr>\n",
       "    <tr>\n",
       "      <th>rub_per_gb</th>\n",
       "      <td>200</td>\n",
       "      <td>150</td>\n",
       "    </tr>\n",
       "    <tr>\n",
       "      <th>rub_per_message</th>\n",
       "      <td>3</td>\n",
       "      <td>1</td>\n",
       "    </tr>\n",
       "    <tr>\n",
       "      <th>rub_per_minute</th>\n",
       "      <td>3</td>\n",
       "      <td>1</td>\n",
       "    </tr>\n",
       "    <tr>\n",
       "      <th>tariff_name</th>\n",
       "      <td>smart</td>\n",
       "      <td>ultra</td>\n",
       "    </tr>\n",
       "  </tbody>\n",
       "</table>\n",
       "</div>"
      ],
      "text/plain": [
       "                           0      1\n",
       "messages_included         50   1000\n",
       "mb_per_month_included  15360  30720\n",
       "minutes_included         500   3000\n",
       "rub_monthly_fee          550   1950\n",
       "rub_per_gb               200    150\n",
       "rub_per_message            3      1\n",
       "rub_per_minute             3      1\n",
       "tariff_name            smart  ultra"
      ]
     },
     "execution_count": 25,
     "metadata": {},
     "output_type": "execute_result"
    }
   ],
   "source": [
    "tariffs.T"
   ]
  },
  {
   "cell_type": "markdown",
   "id": "73e782d3",
   "metadata": {},
   "source": [
    "Типы данных и значения соответствуют заявленным в описании тарифов."
   ]
  },
  {
   "cell_type": "markdown",
   "id": "4d2d0e9d",
   "metadata": {},
   "source": [
    "**Итог по таблице `tariffs`**\n",
    "\n",
    "Ошибок не выявлено."
   ]
  },
  {
   "cell_type": "markdown",
   "id": "19df318b",
   "metadata": {},
   "source": [
    "#### Таблица `users`"
   ]
  },
  {
   "cell_type": "markdown",
   "id": "9346299e",
   "metadata": {},
   "source": [
    "Выведем сводные данные по таблице."
   ]
  },
  {
   "cell_type": "code",
   "execution_count": 26,
   "id": "572c9ea0",
   "metadata": {},
   "outputs": [
    {
     "data": {
      "text/html": [
       "<div>\n",
       "<style scoped>\n",
       "    .dataframe tbody tr th:only-of-type {\n",
       "        vertical-align: middle;\n",
       "    }\n",
       "\n",
       "    .dataframe tbody tr th {\n",
       "        vertical-align: top;\n",
       "    }\n",
       "\n",
       "    .dataframe thead th {\n",
       "        text-align: right;\n",
       "    }\n",
       "</style>\n",
       "<table border=\"1\" class=\"dataframe\">\n",
       "  <thead>\n",
       "    <tr style=\"text-align: right;\">\n",
       "      <th></th>\n",
       "      <th>user_id</th>\n",
       "      <th>age</th>\n",
       "      <th>churn_date</th>\n",
       "      <th>city</th>\n",
       "      <th>first_name</th>\n",
       "      <th>last_name</th>\n",
       "      <th>reg_date</th>\n",
       "      <th>tariff</th>\n",
       "    </tr>\n",
       "  </thead>\n",
       "  <tbody>\n",
       "    <tr>\n",
       "      <th>count</th>\n",
       "      <td>500.00</td>\n",
       "      <td>500.00</td>\n",
       "      <td>38</td>\n",
       "      <td>500</td>\n",
       "      <td>500</td>\n",
       "      <td>500</td>\n",
       "      <td>500</td>\n",
       "      <td>500</td>\n",
       "    </tr>\n",
       "    <tr>\n",
       "      <th>unique</th>\n",
       "      <td>NaN</td>\n",
       "      <td>NaN</td>\n",
       "      <td>NaN</td>\n",
       "      <td>76</td>\n",
       "      <td>246</td>\n",
       "      <td>419</td>\n",
       "      <td>NaN</td>\n",
       "      <td>2</td>\n",
       "    </tr>\n",
       "    <tr>\n",
       "      <th>top</th>\n",
       "      <td>NaN</td>\n",
       "      <td>NaN</td>\n",
       "      <td>NaN</td>\n",
       "      <td>Москва</td>\n",
       "      <td>Радим</td>\n",
       "      <td>Андреенко</td>\n",
       "      <td>NaN</td>\n",
       "      <td>smart</td>\n",
       "    </tr>\n",
       "    <tr>\n",
       "      <th>freq</th>\n",
       "      <td>NaN</td>\n",
       "      <td>NaN</td>\n",
       "      <td>NaN</td>\n",
       "      <td>99</td>\n",
       "      <td>6</td>\n",
       "      <td>5</td>\n",
       "      <td>NaN</td>\n",
       "      <td>351</td>\n",
       "    </tr>\n",
       "    <tr>\n",
       "      <th>mean</th>\n",
       "      <td>1,249.50</td>\n",
       "      <td>46.59</td>\n",
       "      <td>2018-11-13 00:37:53.684210432</td>\n",
       "      <td>NaN</td>\n",
       "      <td>NaN</td>\n",
       "      <td>NaN</td>\n",
       "      <td>2018-06-30 18:57:35.999999744</td>\n",
       "      <td>NaN</td>\n",
       "    </tr>\n",
       "    <tr>\n",
       "      <th>min</th>\n",
       "      <td>1,000.00</td>\n",
       "      <td>18.00</td>\n",
       "      <td>2018-08-17 00:00:00</td>\n",
       "      <td>NaN</td>\n",
       "      <td>NaN</td>\n",
       "      <td>NaN</td>\n",
       "      <td>2018-01-01 00:00:00</td>\n",
       "      <td>NaN</td>\n",
       "    </tr>\n",
       "    <tr>\n",
       "      <th>25%</th>\n",
       "      <td>1,124.75</td>\n",
       "      <td>32.00</td>\n",
       "      <td>2018-10-14 00:00:00</td>\n",
       "      <td>NaN</td>\n",
       "      <td>NaN</td>\n",
       "      <td>NaN</td>\n",
       "      <td>2018-04-07 12:00:00</td>\n",
       "      <td>NaN</td>\n",
       "    </tr>\n",
       "    <tr>\n",
       "      <th>50%</th>\n",
       "      <td>1,249.50</td>\n",
       "      <td>46.00</td>\n",
       "      <td>2018-11-24 00:00:00</td>\n",
       "      <td>NaN</td>\n",
       "      <td>NaN</td>\n",
       "      <td>NaN</td>\n",
       "      <td>2018-07-02 12:00:00</td>\n",
       "      <td>NaN</td>\n",
       "    </tr>\n",
       "    <tr>\n",
       "      <th>75%</th>\n",
       "      <td>1,374.25</td>\n",
       "      <td>62.00</td>\n",
       "      <td>2018-12-15 12:00:00</td>\n",
       "      <td>NaN</td>\n",
       "      <td>NaN</td>\n",
       "      <td>NaN</td>\n",
       "      <td>2018-09-29 00:00:00</td>\n",
       "      <td>NaN</td>\n",
       "    </tr>\n",
       "    <tr>\n",
       "      <th>max</th>\n",
       "      <td>1,499.00</td>\n",
       "      <td>75.00</td>\n",
       "      <td>2018-12-30 00:00:00</td>\n",
       "      <td>NaN</td>\n",
       "      <td>NaN</td>\n",
       "      <td>NaN</td>\n",
       "      <td>2018-12-31 00:00:00</td>\n",
       "      <td>NaN</td>\n",
       "    </tr>\n",
       "    <tr>\n",
       "      <th>std</th>\n",
       "      <td>144.48</td>\n",
       "      <td>16.67</td>\n",
       "      <td>NaN</td>\n",
       "      <td>NaN</td>\n",
       "      <td>NaN</td>\n",
       "      <td>NaN</td>\n",
       "      <td>NaN</td>\n",
       "      <td>NaN</td>\n",
       "    </tr>\n",
       "  </tbody>\n",
       "</table>\n",
       "</div>"
      ],
      "text/plain": [
       "        user_id    age                     churn_date    city first_name  \\\n",
       "count    500.00 500.00                             38     500        500   \n",
       "unique      NaN    NaN                            NaN      76        246   \n",
       "top         NaN    NaN                            NaN  Москва      Радим   \n",
       "freq        NaN    NaN                            NaN      99          6   \n",
       "mean   1,249.50  46.59  2018-11-13 00:37:53.684210432     NaN        NaN   \n",
       "min    1,000.00  18.00            2018-08-17 00:00:00     NaN        NaN   \n",
       "25%    1,124.75  32.00            2018-10-14 00:00:00     NaN        NaN   \n",
       "50%    1,249.50  46.00            2018-11-24 00:00:00     NaN        NaN   \n",
       "75%    1,374.25  62.00            2018-12-15 12:00:00     NaN        NaN   \n",
       "max    1,499.00  75.00            2018-12-30 00:00:00     NaN        NaN   \n",
       "std      144.48  16.67                            NaN     NaN        NaN   \n",
       "\n",
       "        last_name                       reg_date tariff  \n",
       "count         500                            500    500  \n",
       "unique        419                            NaN      2  \n",
       "top     Андреенко                            NaN  smart  \n",
       "freq            5                            NaN    351  \n",
       "mean          NaN  2018-06-30 18:57:35.999999744    NaN  \n",
       "min           NaN            2018-01-01 00:00:00    NaN  \n",
       "25%           NaN            2018-04-07 12:00:00    NaN  \n",
       "50%           NaN            2018-07-02 12:00:00    NaN  \n",
       "75%           NaN            2018-09-29 00:00:00    NaN  \n",
       "max           NaN            2018-12-31 00:00:00    NaN  \n",
       "std           NaN                            NaN    NaN  "
      ]
     },
     "execution_count": 26,
     "metadata": {},
     "output_type": "execute_result"
    }
   ],
   "source": [
    "users.describe(include='all', datetime_is_numeric=True)"
   ]
  },
  {
   "cell_type": "markdown",
   "id": "989539fe",
   "metadata": {},
   "source": [
    "Ошибок не просматривается, данные правдоподобны."
   ]
  },
  {
   "cell_type": "markdown",
   "id": "70c66758",
   "metadata": {},
   "source": [
    "Рассмотрим каждый столбец подробно."
   ]
  },
  {
   "cell_type": "markdown",
   "id": "049bc4f7",
   "metadata": {},
   "source": [
    "Количественные значения."
   ]
  },
  {
   "cell_type": "markdown",
   "id": "7159efde",
   "metadata": {},
   "source": [
    "**reg_date**"
   ]
  },
  {
   "cell_type": "code",
   "execution_count": 27,
   "id": "a0302ff6",
   "metadata": {},
   "outputs": [
    {
     "data": {
      "image/png": "[encoded data removed]",
      "text/plain": [
       "<Figure size 1080x432 with 1 Axes>"
      ]
     },
     "metadata": {
      "needs_background": "light"
     },
     "output_type": "display_data"
    }
   ],
   "source": [
    "users['reg_date'].hist(bins=365, figsize=(15, 6))\n",
    "plt.title(\"количество подключений в день - данные по выборке 500 абонентов за 2018 год\")\n",
    "plt.xlabel(\"дата\")\n",
    "plt.ylabel(\"количество, подключений\")\n",
    "plt.show()"
   ]
  },
  {
   "cell_type": "markdown",
   "id": "c33d81ea",
   "metadata": {},
   "source": [
    "Выбивающихся значений нет, распределены правдоподобно."
   ]
  },
  {
   "cell_type": "markdown",
   "id": "5856bd68",
   "metadata": {},
   "source": [
    "**churn_date**"
   ]
  },
  {
   "cell_type": "code",
   "execution_count": 28,
   "id": "cd59cc69",
   "metadata": {},
   "outputs": [
    {
     "data": {
      "image/png": "[encoded data removed]",
      "text/plain": [
       "<Figure size 1080x432 with 1 Axes>"
      ]
     },
     "metadata": {
      "needs_background": "light"
     },
     "output_type": "display_data"
    }
   ],
   "source": [
    "users['churn_date'].hist(bins=365, figsize=(15, 6))\n",
    "plt.title(\"количество отключений в день - данные по выборке 500 абонентов за 2018 год\")\n",
    "plt.xlabel(\"дата\")\n",
    "plt.ylabel(\"количество, отключений\")\n",
    "plt.show()"
   ]
  },
  {
   "cell_type": "markdown",
   "id": "c6ef26d1",
   "metadata": {},
   "source": [
    "Выбивающихся значений нет, распределены правдоподобно."
   ]
  },
  {
   "cell_type": "markdown",
   "id": "6bbc0b62",
   "metadata": {},
   "source": [
    "Рассмотрим отключившихся абонентов. "
   ]
  },
  {
   "cell_type": "code",
   "execution_count": 29,
   "id": "4b3bb529",
   "metadata": {},
   "outputs": [
    {
     "data": {
      "text/html": [
       "<div>\n",
       "<style scoped>\n",
       "    .dataframe tbody tr th:only-of-type {\n",
       "        vertical-align: middle;\n",
       "    }\n",
       "\n",
       "    .dataframe tbody tr th {\n",
       "        vertical-align: top;\n",
       "    }\n",
       "\n",
       "    .dataframe thead th {\n",
       "        text-align: right;\n",
       "    }\n",
       "</style>\n",
       "<table border=\"1\" class=\"dataframe\">\n",
       "  <thead>\n",
       "    <tr style=\"text-align: right;\">\n",
       "      <th></th>\n",
       "      <th>user_id</th>\n",
       "      <th>age</th>\n",
       "      <th>churn_date</th>\n",
       "      <th>city</th>\n",
       "      <th>first_name</th>\n",
       "      <th>last_name</th>\n",
       "      <th>reg_date</th>\n",
       "      <th>tariff</th>\n",
       "    </tr>\n",
       "  </thead>\n",
       "  <tbody>\n",
       "    <tr>\n",
       "      <th>count</th>\n",
       "      <td>38.00</td>\n",
       "      <td>38.00</td>\n",
       "      <td>38</td>\n",
       "      <td>38</td>\n",
       "      <td>38</td>\n",
       "      <td>38</td>\n",
       "      <td>38</td>\n",
       "      <td>38</td>\n",
       "    </tr>\n",
       "    <tr>\n",
       "      <th>unique</th>\n",
       "      <td>NaN</td>\n",
       "      <td>NaN</td>\n",
       "      <td>NaN</td>\n",
       "      <td>23</td>\n",
       "      <td>34</td>\n",
       "      <td>38</td>\n",
       "      <td>NaN</td>\n",
       "      <td>2</td>\n",
       "    </tr>\n",
       "    <tr>\n",
       "      <th>top</th>\n",
       "      <td>NaN</td>\n",
       "      <td>NaN</td>\n",
       "      <td>NaN</td>\n",
       "      <td>Москва</td>\n",
       "      <td>Всеволод</td>\n",
       "      <td>Круглов</td>\n",
       "      <td>NaN</td>\n",
       "      <td>smart</td>\n",
       "    </tr>\n",
       "    <tr>\n",
       "      <th>freq</th>\n",
       "      <td>NaN</td>\n",
       "      <td>NaN</td>\n",
       "      <td>NaN</td>\n",
       "      <td>9</td>\n",
       "      <td>2</td>\n",
       "      <td>1</td>\n",
       "      <td>NaN</td>\n",
       "      <td>23</td>\n",
       "    </tr>\n",
       "    <tr>\n",
       "      <th>mean</th>\n",
       "      <td>1,229.24</td>\n",
       "      <td>46.95</td>\n",
       "      <td>2018-11-13 00:37:53.684210432</td>\n",
       "      <td>NaN</td>\n",
       "      <td>NaN</td>\n",
       "      <td>NaN</td>\n",
       "      <td>2018-07-11 22:44:12.631578880</td>\n",
       "      <td>NaN</td>\n",
       "    </tr>\n",
       "    <tr>\n",
       "      <th>min</th>\n",
       "      <td>1,019.00</td>\n",
       "      <td>20.00</td>\n",
       "      <td>2018-08-17 00:00:00</td>\n",
       "      <td>NaN</td>\n",
       "      <td>NaN</td>\n",
       "      <td>NaN</td>\n",
       "      <td>2018-01-04 00:00:00</td>\n",
       "      <td>NaN</td>\n",
       "    </tr>\n",
       "    <tr>\n",
       "      <th>25%</th>\n",
       "      <td>1,066.50</td>\n",
       "      <td>33.50</td>\n",
       "      <td>2018-10-14 00:00:00</td>\n",
       "      <td>NaN</td>\n",
       "      <td>NaN</td>\n",
       "      <td>NaN</td>\n",
       "      <td>2018-04-15 06:00:00</td>\n",
       "      <td>NaN</td>\n",
       "    </tr>\n",
       "    <tr>\n",
       "      <th>50%</th>\n",
       "      <td>1,237.00</td>\n",
       "      <td>49.00</td>\n",
       "      <td>2018-11-24 00:00:00</td>\n",
       "      <td>NaN</td>\n",
       "      <td>NaN</td>\n",
       "      <td>NaN</td>\n",
       "      <td>2018-07-17 12:00:00</td>\n",
       "      <td>NaN</td>\n",
       "    </tr>\n",
       "    <tr>\n",
       "      <th>75%</th>\n",
       "      <td>1,364.00</td>\n",
       "      <td>59.75</td>\n",
       "      <td>2018-12-15 12:00:00</td>\n",
       "      <td>NaN</td>\n",
       "      <td>NaN</td>\n",
       "      <td>NaN</td>\n",
       "      <td>2018-10-10 00:00:00</td>\n",
       "      <td>NaN</td>\n",
       "    </tr>\n",
       "    <tr>\n",
       "      <th>max</th>\n",
       "      <td>1,498.00</td>\n",
       "      <td>75.00</td>\n",
       "      <td>2018-12-30 00:00:00</td>\n",
       "      <td>NaN</td>\n",
       "      <td>NaN</td>\n",
       "      <td>NaN</td>\n",
       "      <td>2018-12-25 00:00:00</td>\n",
       "      <td>NaN</td>\n",
       "    </tr>\n",
       "    <tr>\n",
       "      <th>std</th>\n",
       "      <td>148.32</td>\n",
       "      <td>15.74</td>\n",
       "      <td>NaN</td>\n",
       "      <td>NaN</td>\n",
       "      <td>NaN</td>\n",
       "      <td>NaN</td>\n",
       "      <td>NaN</td>\n",
       "      <td>NaN</td>\n",
       "    </tr>\n",
       "  </tbody>\n",
       "</table>\n",
       "</div>"
      ],
      "text/plain": [
       "        user_id   age                     churn_date    city first_name  \\\n",
       "count     38.00 38.00                             38      38         38   \n",
       "unique      NaN   NaN                            NaN      23         34   \n",
       "top         NaN   NaN                            NaN  Москва   Всеволод   \n",
       "freq        NaN   NaN                            NaN       9          2   \n",
       "mean   1,229.24 46.95  2018-11-13 00:37:53.684210432     NaN        NaN   \n",
       "min    1,019.00 20.00            2018-08-17 00:00:00     NaN        NaN   \n",
       "25%    1,066.50 33.50            2018-10-14 00:00:00     NaN        NaN   \n",
       "50%    1,237.00 49.00            2018-11-24 00:00:00     NaN        NaN   \n",
       "75%    1,364.00 59.75            2018-12-15 12:00:00     NaN        NaN   \n",
       "max    1,498.00 75.00            2018-12-30 00:00:00     NaN        NaN   \n",
       "std      148.32 15.74                            NaN     NaN        NaN   \n",
       "\n",
       "       last_name                       reg_date tariff  \n",
       "count         38                             38     38  \n",
       "unique        38                            NaN      2  \n",
       "top      Круглов                            NaN  smart  \n",
       "freq           1                            NaN     23  \n",
       "mean         NaN  2018-07-11 22:44:12.631578880    NaN  \n",
       "min          NaN            2018-01-04 00:00:00    NaN  \n",
       "25%          NaN            2018-04-15 06:00:00    NaN  \n",
       "50%          NaN            2018-07-17 12:00:00    NaN  \n",
       "75%          NaN            2018-10-10 00:00:00    NaN  \n",
       "max          NaN            2018-12-25 00:00:00    NaN  \n",
       "std          NaN                            NaN    NaN  "
      ]
     },
     "execution_count": 29,
     "metadata": {},
     "output_type": "execute_result"
    }
   ],
   "source": [
    "users.query('churn_date > \"2017-12-18\"').describe(include='all', datetime_is_numeric=True)"
   ]
  },
  {
   "cell_type": "markdown",
   "id": "cd9fd946",
   "metadata": {},
   "source": [
    "Каких-либо закономерностей не выявлено."
   ]
  },
  {
   "cell_type": "markdown",
   "id": "3e871cb7",
   "metadata": {},
   "source": [
    "**age**"
   ]
  },
  {
   "cell_type": "code",
   "execution_count": 30,
   "id": "f09e177a",
   "metadata": {},
   "outputs": [
    {
     "data": {
      "image/png": "[encoded data removed]",
      "text/plain": [
       "<Figure size 1080x432 with 1 Axes>"
      ]
     },
     "metadata": {
      "needs_background": "light"
     },
     "output_type": "display_data"
    }
   ],
   "source": [
    "users['age'].hist(bins=57, figsize=(15, 6))\n",
    "plt.title(\"распределение абонентов по возрасту - данные по выборке 500 абонентов за 2018 год\")\n",
    "plt.xlabel(\"возраст, лет\")\n",
    "plt.ylabel(\"количество, абонентов\")\n",
    "plt.show()"
   ]
  },
  {
   "cell_type": "markdown",
   "id": "62f601bb",
   "metadata": {},
   "source": [
    "Выбивающихся значений нет, распределены правдоподобно."
   ]
  },
  {
   "cell_type": "markdown",
   "id": "42c310da",
   "metadata": {},
   "source": [
    "Перейдем к качественным значениям."
   ]
  },
  {
   "cell_type": "markdown",
   "id": "a7fd2fe2",
   "metadata": {},
   "source": [
    "**tariff**"
   ]
  },
  {
   "cell_type": "code",
   "execution_count": 31,
   "id": "961a93df",
   "metadata": {},
   "outputs": [
    {
     "data": {
      "text/plain": [
       "smart    351\n",
       "ultra    149\n",
       "Name: tariff, dtype: int64"
      ]
     },
     "execution_count": 31,
     "metadata": {},
     "output_type": "execute_result"
    }
   ],
   "source": [
    "users['tariff'].value_counts()"
   ]
  },
  {
   "cell_type": "markdown",
   "id": "90826024",
   "metadata": {},
   "source": [
    "Правдоподобно."
   ]
  },
  {
   "cell_type": "markdown",
   "id": "ecd65432",
   "metadata": {},
   "source": [
    "**last_name**"
   ]
  },
  {
   "cell_type": "markdown",
   "id": "223ac91d",
   "metadata": {},
   "source": [
    "Выведем количество уникальных значений."
   ]
  },
  {
   "cell_type": "code",
   "execution_count": 32,
   "id": "e74bb2fd",
   "metadata": {},
   "outputs": [
    {
     "data": {
      "text/plain": [
       "419"
      ]
     },
     "execution_count": 32,
     "metadata": {},
     "output_type": "execute_result"
    }
   ],
   "source": [
    "len(users['last_name'].unique())"
   ]
  },
  {
   "cell_type": "markdown",
   "id": "43ee196c",
   "metadata": {},
   "source": [
    "Посмотрим, как они распределены."
   ]
  },
  {
   "cell_type": "code",
   "execution_count": 33,
   "id": "99e353ff",
   "metadata": {},
   "outputs": [
    {
     "data": {
      "text/plain": [
       "Андреенко     5\n",
       "Березина      3\n",
       "Аркадьев      3\n",
       "Булгаков      3\n",
       "Соловьев      3\n",
       "             ..\n",
       "Медведев      1\n",
       "Минаева       1\n",
       "Авдонюшкин    1\n",
       "Андрейчук     1\n",
       "Акимчин       1\n",
       "Name: last_name, Length: 419, dtype: int64"
      ]
     },
     "execution_count": 33,
     "metadata": {},
     "output_type": "execute_result"
    }
   ],
   "source": [
    "users['last_name'].value_counts()"
   ]
  },
  {
   "cell_type": "markdown",
   "id": "19d2ad40",
   "metadata": {},
   "source": [
    "Выбивающихся значений нет, распределены правдоподобно."
   ]
  },
  {
   "cell_type": "markdown",
   "id": "a087b713",
   "metadata": {},
   "source": [
    "**first_name**"
   ]
  },
  {
   "cell_type": "markdown",
   "id": "4b486746",
   "metadata": {},
   "source": [
    "Выведем количество уникальных значений."
   ]
  },
  {
   "cell_type": "code",
   "execution_count": 34,
   "id": "c877e360",
   "metadata": {},
   "outputs": [
    {
     "data": {
      "text/plain": [
       "246"
      ]
     },
     "execution_count": 34,
     "metadata": {},
     "output_type": "execute_result"
    }
   ],
   "source": [
    "len(users['first_name'].unique())"
   ]
  },
  {
   "cell_type": "markdown",
   "id": "940cbda5",
   "metadata": {},
   "source": [
    "Посмотрим, как они распределены."
   ]
  },
  {
   "cell_type": "code",
   "execution_count": 35,
   "id": "9b999bae",
   "metadata": {},
   "outputs": [
    {
     "data": {
      "text/plain": [
       "Радим      6\n",
       "Леонид     5\n",
       "Пётр       5\n",
       "Андрей     4\n",
       "Адам       4\n",
       "          ..\n",
       "Зинаида    1\n",
       "Глеб       1\n",
       "Роза       1\n",
       "Юзефа      1\n",
       "Трифон     1\n",
       "Name: first_name, Length: 246, dtype: int64"
      ]
     },
     "execution_count": 35,
     "metadata": {},
     "output_type": "execute_result"
    }
   ],
   "source": [
    "users['first_name'].value_counts() #.plot(kind='bar', figsize=(15, 6))"
   ]
  },
  {
   "cell_type": "markdown",
   "id": "264117af",
   "metadata": {},
   "source": [
    "Выбивающихся значений нет, распределены правдоподобно."
   ]
  },
  {
   "cell_type": "markdown",
   "id": "737dbd46",
   "metadata": {},
   "source": [
    "**city**"
   ]
  },
  {
   "cell_type": "markdown",
   "id": "4906dbad",
   "metadata": {},
   "source": [
    "Выведем количество уникальных значений."
   ]
  },
  {
   "cell_type": "code",
   "execution_count": 36,
   "id": "c62dbcc0",
   "metadata": {},
   "outputs": [
    {
     "data": {
      "text/plain": [
       "76"
      ]
     },
     "execution_count": 36,
     "metadata": {},
     "output_type": "execute_result"
    }
   ],
   "source": [
    "len(users['city'].unique())"
   ]
  },
  {
   "cell_type": "markdown",
   "id": "1aefefa9",
   "metadata": {},
   "source": [
    "Отсортируем значения, проверим на скрытые дубли."
   ]
  },
  {
   "cell_type": "code",
   "execution_count": 37,
   "id": "2d7f397d",
   "metadata": {},
   "outputs": [
    {
     "data": {
      "text/plain": [
       "['Архангельск',\n",
       " 'Астрахань',\n",
       " 'Балашиха',\n",
       " 'Барнаул',\n",
       " 'Белгород',\n",
       " 'Брянск',\n",
       " 'Владивосток',\n",
       " 'Владикавказ',\n",
       " 'Владимир',\n",
       " 'Волгоград',\n",
       " 'Волжский',\n",
       " 'Вологда',\n",
       " 'Воронеж',\n",
       " 'Грозный',\n",
       " 'Екатеринбург',\n",
       " 'Иваново',\n",
       " 'Ижевск',\n",
       " 'Иркутск',\n",
       " 'Казань',\n",
       " 'Калининград',\n",
       " 'Калуга',\n",
       " 'Кемерово',\n",
       " 'Киров',\n",
       " 'Кострома',\n",
       " 'Краснодар',\n",
       " 'Красноярск',\n",
       " 'Курган',\n",
       " 'Курск',\n",
       " 'Липецк',\n",
       " 'Магнитогорск',\n",
       " 'Махачкала',\n",
       " 'Москва',\n",
       " 'Мурманск',\n",
       " 'Набережные Челны',\n",
       " 'Нижневартовск',\n",
       " 'Нижний Новгород',\n",
       " 'Нижний Тагил',\n",
       " 'Новокузнецк',\n",
       " 'Новороссийск',\n",
       " 'Новосибирск',\n",
       " 'Омск',\n",
       " 'Оренбург',\n",
       " 'Орёл',\n",
       " 'Пенза',\n",
       " 'Пермь',\n",
       " 'Петрозаводск',\n",
       " 'Подольск',\n",
       " 'Ростов-на-Дону',\n",
       " 'Рязань',\n",
       " 'Самара',\n",
       " 'Санкт-Петербург',\n",
       " 'Саранск',\n",
       " 'Саратов',\n",
       " 'Севастополь',\n",
       " 'Смоленск',\n",
       " 'Сочи',\n",
       " 'Ставрополь',\n",
       " 'Стерлитамак',\n",
       " 'Сургут',\n",
       " 'Тамбов',\n",
       " 'Тверь',\n",
       " 'Тольятти',\n",
       " 'Томск',\n",
       " 'Тула',\n",
       " 'Тюмень',\n",
       " 'Улан-Удэ',\n",
       " 'Ульяновск',\n",
       " 'Уфа',\n",
       " 'Хабаровск',\n",
       " 'Химки',\n",
       " 'Чебоксары',\n",
       " 'Челябинск',\n",
       " 'Череповец',\n",
       " 'Чита',\n",
       " 'Якутск',\n",
       " 'Ярославль']"
      ]
     },
     "execution_count": 37,
     "metadata": {},
     "output_type": "execute_result"
    }
   ],
   "source": [
    "sorted(users['city'].unique())"
   ]
  },
  {
   "cell_type": "markdown",
   "id": "98cc638b",
   "metadata": {},
   "source": [
    "Построим график распределения абонентов по городам."
   ]
  },
  {
   "cell_type": "code",
   "execution_count": 38,
   "id": "5332fa3b",
   "metadata": {},
   "outputs": [
    {
     "data": {
      "image/png": "[encoded data removed]",
      "text/plain": [
       "<Figure size 1080x432 with 1 Axes>"
      ]
     },
     "metadata": {
      "needs_background": "light"
     },
     "output_type": "display_data"
    }
   ],
   "source": [
    "users['city'].value_counts().plot(kind='bar', figsize=(15, 6))\n",
    "plt.title(\"распределение абонентов по городам - данные по выборке 500 абонентов за 2018 год\")\n",
    "plt.ylabel(\"количество, абонентов\")\n",
    "plt.show()"
   ]
  },
  {
   "cell_type": "markdown",
   "id": "9bf6283b",
   "metadata": {},
   "source": [
    "Выбивающихся значений нет, распределены правдоподобно."
   ]
  },
  {
   "cell_type": "markdown",
   "id": "4f7fdc1b",
   "metadata": {},
   "source": [
    "**Итог по таблице `users`**\n",
    "\n",
    "Ошибок не выявлено."
   ]
  },
  {
   "cell_type": "markdown",
   "id": "1513185e",
   "metadata": {},
   "source": [
    "#### Таблица `calls`"
   ]
  },
  {
   "cell_type": "markdown",
   "id": "04c445f8",
   "metadata": {},
   "source": [
    "Выведем сводные данные по таблице."
   ]
  },
  {
   "cell_type": "code",
   "execution_count": 39,
   "id": "89359cca",
   "metadata": {},
   "outputs": [
    {
     "data": {
      "text/html": [
       "<div>\n",
       "<style scoped>\n",
       "    .dataframe tbody tr th:only-of-type {\n",
       "        vertical-align: middle;\n",
       "    }\n",
       "\n",
       "    .dataframe tbody tr th {\n",
       "        vertical-align: top;\n",
       "    }\n",
       "\n",
       "    .dataframe thead th {\n",
       "        text-align: right;\n",
       "    }\n",
       "</style>\n",
       "<table border=\"1\" class=\"dataframe\">\n",
       "  <thead>\n",
       "    <tr style=\"text-align: right;\">\n",
       "      <th></th>\n",
       "      <th>id</th>\n",
       "      <th>call_date</th>\n",
       "      <th>duration</th>\n",
       "      <th>user_id</th>\n",
       "    </tr>\n",
       "  </thead>\n",
       "  <tbody>\n",
       "    <tr>\n",
       "      <th>count</th>\n",
       "      <td>202607</td>\n",
       "      <td>202607</td>\n",
       "      <td>202,607.00</td>\n",
       "      <td>202,607.00</td>\n",
       "    </tr>\n",
       "    <tr>\n",
       "      <th>unique</th>\n",
       "      <td>202607</td>\n",
       "      <td>NaN</td>\n",
       "      <td>NaN</td>\n",
       "      <td>NaN</td>\n",
       "    </tr>\n",
       "    <tr>\n",
       "      <th>top</th>\n",
       "      <td>1000_0</td>\n",
       "      <td>NaN</td>\n",
       "      <td>NaN</td>\n",
       "      <td>NaN</td>\n",
       "    </tr>\n",
       "    <tr>\n",
       "      <th>freq</th>\n",
       "      <td>1</td>\n",
       "      <td>NaN</td>\n",
       "      <td>NaN</td>\n",
       "      <td>NaN</td>\n",
       "    </tr>\n",
       "    <tr>\n",
       "      <th>mean</th>\n",
       "      <td>NaN</td>\n",
       "      <td>2018-09-02 20:01:37.583992832</td>\n",
       "      <td>7.16</td>\n",
       "      <td>1,253.94</td>\n",
       "    </tr>\n",
       "    <tr>\n",
       "      <th>min</th>\n",
       "      <td>NaN</td>\n",
       "      <td>2018-01-01 00:00:00</td>\n",
       "      <td>0.00</td>\n",
       "      <td>1,000.00</td>\n",
       "    </tr>\n",
       "    <tr>\n",
       "      <th>25%</th>\n",
       "      <td>NaN</td>\n",
       "      <td>2018-07-05 00:00:00</td>\n",
       "      <td>2.00</td>\n",
       "      <td>1,126.00</td>\n",
       "    </tr>\n",
       "    <tr>\n",
       "      <th>50%</th>\n",
       "      <td>NaN</td>\n",
       "      <td>2018-09-17 00:00:00</td>\n",
       "      <td>6.00</td>\n",
       "      <td>1,260.00</td>\n",
       "    </tr>\n",
       "    <tr>\n",
       "      <th>75%</th>\n",
       "      <td>NaN</td>\n",
       "      <td>2018-11-14 00:00:00</td>\n",
       "      <td>11.00</td>\n",
       "      <td>1,379.00</td>\n",
       "    </tr>\n",
       "    <tr>\n",
       "      <th>max</th>\n",
       "      <td>NaN</td>\n",
       "      <td>2018-12-31 00:00:00</td>\n",
       "      <td>38.00</td>\n",
       "      <td>1,499.00</td>\n",
       "    </tr>\n",
       "    <tr>\n",
       "      <th>std</th>\n",
       "      <td>NaN</td>\n",
       "      <td>NaN</td>\n",
       "      <td>5.96</td>\n",
       "      <td>144.72</td>\n",
       "    </tr>\n",
       "  </tbody>\n",
       "</table>\n",
       "</div>"
      ],
      "text/plain": [
       "            id                      call_date   duration    user_id\n",
       "count   202607                         202607 202,607.00 202,607.00\n",
       "unique  202607                            NaN        NaN        NaN\n",
       "top     1000_0                            NaN        NaN        NaN\n",
       "freq         1                            NaN        NaN        NaN\n",
       "mean       NaN  2018-09-02 20:01:37.583992832       7.16   1,253.94\n",
       "min        NaN            2018-01-01 00:00:00       0.00   1,000.00\n",
       "25%        NaN            2018-07-05 00:00:00       2.00   1,126.00\n",
       "50%        NaN            2018-09-17 00:00:00       6.00   1,260.00\n",
       "75%        NaN            2018-11-14 00:00:00      11.00   1,379.00\n",
       "max        NaN            2018-12-31 00:00:00      38.00   1,499.00\n",
       "std        NaN                            NaN       5.96     144.72"
      ]
     },
     "execution_count": 39,
     "metadata": {},
     "output_type": "execute_result"
    }
   ],
   "source": [
    "calls.describe(include='all', datetime_is_numeric=True)"
   ]
  },
  {
   "cell_type": "markdown",
   "id": "59396a2e",
   "metadata": {},
   "source": [
    "Ошибок не просматривается, данные правдоподобны."
   ]
  },
  {
   "cell_type": "markdown",
   "id": "dabbb3eb",
   "metadata": {},
   "source": [
    "Рассмотрим каждый столбец подробно."
   ]
  },
  {
   "cell_type": "markdown",
   "id": "aedd19d3",
   "metadata": {},
   "source": [
    "**call_date**"
   ]
  },
  {
   "cell_type": "markdown",
   "id": "9c7a2f38",
   "metadata": {},
   "source": [
    "Построим гистограмму распределения значений в столбце `call_date`"
   ]
  },
  {
   "cell_type": "code",
   "execution_count": 40,
   "id": "e6f91a91",
   "metadata": {},
   "outputs": [
    {
     "data": {
      "image/png": "[encoded data removed]",
      "text/plain": [
       "<Figure size 1080x432 with 1 Axes>"
      ]
     },
     "metadata": {
      "needs_background": "light"
     },
     "output_type": "display_data"
    }
   ],
   "source": [
    "calls['call_date'].hist(bins=365, figsize=(15, 6))\n",
    "plt.title(\"количество разговоров за день - данные по выборке 500 абонентов за 2018 год\")\n",
    "plt.xlabel(\"дата\")\n",
    "plt.ylabel(\"разговоры, шт\")\n",
    "plt.show()"
   ]
  },
  {
   "cell_type": "markdown",
   "id": "24728e90",
   "metadata": {},
   "source": [
    "Видим четкое увеличение количества звонков в день с течением времени."
   ]
  },
  {
   "cell_type": "markdown",
   "id": "91a014fd",
   "metadata": {},
   "source": [
    "Проверим ежемесячное распределение звонков с помощью метода `.groupby`"
   ]
  },
  {
   "cell_type": "code",
   "execution_count": 41,
   "id": "27f43433",
   "metadata": {},
   "outputs": [
    {
     "data": {
      "text/plain": [
       "call_date\n",
       "1      1476\n",
       "2      3328\n",
       "3      6687\n",
       "4      9272\n",
       "5     12647\n",
       "6     14716\n",
       "7     18298\n",
       "8     21488\n",
       "9     24061\n",
       "10    27146\n",
       "11    29501\n",
       "12    33987\n",
       "Name: id, dtype: int64"
      ]
     },
     "execution_count": 41,
     "metadata": {},
     "output_type": "execute_result"
    }
   ],
   "source": [
    "calls.groupby(calls['call_date'].dt.month)['id'].count()"
   ]
  },
  {
   "cell_type": "markdown",
   "id": "773417fa",
   "metadata": {},
   "source": [
    "Данные, выявленные на гистограмме подтверждаются."
   ]
  },
  {
   "cell_type": "markdown",
   "id": "aeabc587",
   "metadata": {},
   "source": [
    "Попробуем выявить причину этого явления."
   ]
  },
  {
   "cell_type": "markdown",
   "id": "c0402d22",
   "metadata": {},
   "source": [
    "Посчитаем количество активных абонентов в месяц."
   ]
  },
  {
   "cell_type": "code",
   "execution_count": 42,
   "id": "af2f7e47",
   "metadata": {},
   "outputs": [
    {
     "data": {
      "text/plain": [
       "43"
      ]
     },
     "execution_count": 42,
     "metadata": {},
     "output_type": "execute_result"
    }
   ],
   "source": [
    "len(calls.query('call_date.dt.month == 1')['user_id'].unique())"
   ]
  },
  {
   "cell_type": "code",
   "execution_count": 43,
   "id": "a3259e99",
   "metadata": {},
   "outputs": [
    {
     "data": {
      "text/plain": [
       "244"
      ]
     },
     "execution_count": 43,
     "metadata": {},
     "output_type": "execute_result"
    }
   ],
   "source": [
    "len(calls.query('call_date.dt.month == 6')['user_id'].unique())"
   ]
  },
  {
   "cell_type": "code",
   "execution_count": 44,
   "id": "cd1e0fbe",
   "metadata": {},
   "outputs": [
    {
     "data": {
      "text/plain": [
       "470"
      ]
     },
     "execution_count": 44,
     "metadata": {},
     "output_type": "execute_result"
    }
   ],
   "source": [
    "len(calls.query('call_date.dt.month == 12')['user_id'].unique())"
   ]
  },
  {
   "cell_type": "markdown",
   "id": "56e8cd4f",
   "metadata": {},
   "source": [
    "Видим, что увеличение количества звонков в месяц объясняется увеличением количества абонентов. Вероятно, в выборке представлены новые пользователи (либо в целом для компании, либо в рамках исследуемых тарифов)."
   ]
  },
  {
   "cell_type": "markdown",
   "id": "53a8472d",
   "metadata": {},
   "source": [
    "В остальном, выбивающихся значений нет, распределены правдоподобно."
   ]
  },
  {
   "cell_type": "markdown",
   "id": "c545079b",
   "metadata": {},
   "source": [
    "**user_id**"
   ]
  },
  {
   "cell_type": "markdown",
   "id": "86096ef8",
   "metadata": {},
   "source": [
    "Построим гистограмму распределения значений в столбце `user_id`"
   ]
  },
  {
   "cell_type": "code",
   "execution_count": 45,
   "id": "6d5128ee",
   "metadata": {},
   "outputs": [
    {
     "data": {
      "image/png": "[encoded data removed]",
      "text/plain": [
       "<Figure size 1080x432 with 1 Axes>"
      ]
     },
     "metadata": {
      "needs_background": "light"
     },
     "output_type": "display_data"
    }
   ],
   "source": [
    "calls['user_id'].hist(bins=500, figsize=(15, 6))\n",
    "plt.title(\"количество разговоров для каждого абонента - данные по выборке 500 абонентов за 2018 год\")\n",
    "plt.xlabel(\"id абонента\")\n",
    "plt.ylabel(\"разговоры, шт\")\n",
    "plt.show()"
   ]
  },
  {
   "cell_type": "markdown",
   "id": "21bd4f47",
   "metadata": {},
   "source": [
    "Выведем агрегированные данные по количеству разговоров на абонента."
   ]
  },
  {
   "cell_type": "code",
   "execution_count": 46,
   "id": "f227c1f8",
   "metadata": {},
   "outputs": [
    {
     "data": {
      "text/plain": [
       "count     492.00\n",
       "mean      411.80\n",
       "std       291.80\n",
       "min        14.00\n",
       "25%       180.00\n",
       "50%       344.50\n",
       "75%       589.50\n",
       "max     1,760.00\n",
       "Name: id, dtype: float64"
      ]
     },
     "execution_count": 46,
     "metadata": {},
     "output_type": "execute_result"
    }
   ],
   "source": [
    "calls.groupby('user_id')['id'].count().describe()"
   ]
  },
  {
   "cell_type": "markdown",
   "id": "9e5953b4",
   "metadata": {},
   "source": [
    "Выбивающихся значений нет, распределены правдоподобно."
   ]
  },
  {
   "cell_type": "markdown",
   "id": "8dd199e4",
   "metadata": {},
   "source": [
    "**duration**"
   ]
  },
  {
   "cell_type": "markdown",
   "id": "9db19853",
   "metadata": {},
   "source": [
    "Построим график распределения значений в столбце `duration`."
   ]
  },
  {
   "cell_type": "code",
   "execution_count": 47,
   "id": "b9d00432",
   "metadata": {},
   "outputs": [
    {
     "data": {
      "image/png": "[encoded data removed]",
      "text/plain": [
       "<Figure size 1080x432 with 1 Axes>"
      ]
     },
     "metadata": {
      "needs_background": "light"
     },
     "output_type": "display_data"
    }
   ],
   "source": [
    "calls.boxplot(column='duration', figsize=(15, 6))\n",
    "plt.title(\"распределение количества разговоров по длительности - данные по выборке 500 абонентов за 2018 год\")\n",
    "plt.ylabel(\"длительность, мин\")\n",
    "plt.show()"
   ]
  },
  {
   "cell_type": "markdown",
   "id": "570194e6",
   "metadata": {},
   "source": [
    "Данные в столбце `duration` выглядят правдоподобно. Значения, выходящие за границу 75% + 1.5 IQR, отфильтровывать смысла нет, поскольку их величина вполне адекватна. "
   ]
  },
  {
   "cell_type": "markdown",
   "id": "c2bbed1a",
   "metadata": {},
   "source": [
    "**Итог по таблице `calls`**\n",
    "\n",
    "Ошибок не выявлено."
   ]
  },
  {
   "cell_type": "markdown",
   "id": "217601c2",
   "metadata": {},
   "source": [
    "#### Таблица `messages`"
   ]
  },
  {
   "cell_type": "markdown",
   "id": "ef1b1108",
   "metadata": {},
   "source": [
    "Выведем сводные данные по таблице."
   ]
  },
  {
   "cell_type": "code",
   "execution_count": 48,
   "id": "f6f64f1b",
   "metadata": {},
   "outputs": [
    {
     "data": {
      "text/html": [
       "<div>\n",
       "<style scoped>\n",
       "    .dataframe tbody tr th:only-of-type {\n",
       "        vertical-align: middle;\n",
       "    }\n",
       "\n",
       "    .dataframe tbody tr th {\n",
       "        vertical-align: top;\n",
       "    }\n",
       "\n",
       "    .dataframe thead th {\n",
       "        text-align: right;\n",
       "    }\n",
       "</style>\n",
       "<table border=\"1\" class=\"dataframe\">\n",
       "  <thead>\n",
       "    <tr style=\"text-align: right;\">\n",
       "      <th></th>\n",
       "      <th>id</th>\n",
       "      <th>message_date</th>\n",
       "      <th>user_id</th>\n",
       "    </tr>\n",
       "  </thead>\n",
       "  <tbody>\n",
       "    <tr>\n",
       "      <th>count</th>\n",
       "      <td>123036</td>\n",
       "      <td>123036</td>\n",
       "      <td>123,036.00</td>\n",
       "    </tr>\n",
       "    <tr>\n",
       "      <th>unique</th>\n",
       "      <td>123036</td>\n",
       "      <td>NaN</td>\n",
       "      <td>NaN</td>\n",
       "    </tr>\n",
       "    <tr>\n",
       "      <th>top</th>\n",
       "      <td>1000_0</td>\n",
       "      <td>NaN</td>\n",
       "      <td>NaN</td>\n",
       "    </tr>\n",
       "    <tr>\n",
       "      <th>freq</th>\n",
       "      <td>1</td>\n",
       "      <td>NaN</td>\n",
       "      <td>NaN</td>\n",
       "    </tr>\n",
       "    <tr>\n",
       "      <th>mean</th>\n",
       "      <td>NaN</td>\n",
       "      <td>2018-09-04 15:28:42.227640576</td>\n",
       "      <td>1,256.99</td>\n",
       "    </tr>\n",
       "    <tr>\n",
       "      <th>min</th>\n",
       "      <td>NaN</td>\n",
       "      <td>2018-01-02 00:00:00</td>\n",
       "      <td>1,000.00</td>\n",
       "    </tr>\n",
       "    <tr>\n",
       "      <th>25%</th>\n",
       "      <td>NaN</td>\n",
       "      <td>2018-07-09 00:00:00</td>\n",
       "      <td>1,134.00</td>\n",
       "    </tr>\n",
       "    <tr>\n",
       "      <th>50%</th>\n",
       "      <td>NaN</td>\n",
       "      <td>2018-09-20 00:00:00</td>\n",
       "      <td>1,271.00</td>\n",
       "    </tr>\n",
       "    <tr>\n",
       "      <th>75%</th>\n",
       "      <td>NaN</td>\n",
       "      <td>2018-11-14 00:00:00</td>\n",
       "      <td>1,381.00</td>\n",
       "    </tr>\n",
       "    <tr>\n",
       "      <th>max</th>\n",
       "      <td>NaN</td>\n",
       "      <td>2018-12-31 00:00:00</td>\n",
       "      <td>1,499.00</td>\n",
       "    </tr>\n",
       "    <tr>\n",
       "      <th>std</th>\n",
       "      <td>NaN</td>\n",
       "      <td>NaN</td>\n",
       "      <td>143.52</td>\n",
       "    </tr>\n",
       "  </tbody>\n",
       "</table>\n",
       "</div>"
      ],
      "text/plain": [
       "            id                   message_date    user_id\n",
       "count   123036                         123036 123,036.00\n",
       "unique  123036                            NaN        NaN\n",
       "top     1000_0                            NaN        NaN\n",
       "freq         1                            NaN        NaN\n",
       "mean       NaN  2018-09-04 15:28:42.227640576   1,256.99\n",
       "min        NaN            2018-01-02 00:00:00   1,000.00\n",
       "25%        NaN            2018-07-09 00:00:00   1,134.00\n",
       "50%        NaN            2018-09-20 00:00:00   1,271.00\n",
       "75%        NaN            2018-11-14 00:00:00   1,381.00\n",
       "max        NaN            2018-12-31 00:00:00   1,499.00\n",
       "std        NaN                            NaN     143.52"
      ]
     },
     "execution_count": 48,
     "metadata": {},
     "output_type": "execute_result"
    }
   ],
   "source": [
    "messages.describe(include='all', datetime_is_numeric=True)"
   ]
  },
  {
   "cell_type": "markdown",
   "id": "f045ef3c",
   "metadata": {},
   "source": [
    "Ошибок не просматривается, данные правдоподобны."
   ]
  },
  {
   "cell_type": "markdown",
   "id": "37bd4cb9",
   "metadata": {},
   "source": [
    "Рассмотрим каждый столбец подробно."
   ]
  },
  {
   "cell_type": "markdown",
   "id": "dc139d8b",
   "metadata": {},
   "source": [
    "**user_id**"
   ]
  },
  {
   "cell_type": "markdown",
   "id": "1834e3db",
   "metadata": {},
   "source": [
    "Построим гистограмму распределения значений в столбце `user_id`"
   ]
  },
  {
   "cell_type": "code",
   "execution_count": 49,
   "id": "0beb4b67",
   "metadata": {},
   "outputs": [
    {
     "data": {
      "image/png": "[encoded data removed]",
      "text/plain": [
       "<Figure size 1080x432 with 1 Axes>"
      ]
     },
     "metadata": {
      "needs_background": "light"
     },
     "output_type": "display_data"
    }
   ],
   "source": [
    "messages['user_id'].hist(bins=500, figsize=(15, 6))\n",
    "plt.title(\"количество отправленных каждым абонентом сообщений - данные по выборке 500 абонентов за 2018 год\")\n",
    "plt.xlabel(\"id абонента\")\n",
    "plt.ylabel(\"сообщения, шт\")\n",
    "plt.show()"
   ]
  },
  {
   "cell_type": "markdown",
   "id": "c56dd508",
   "metadata": {},
   "source": [
    "Выведем агрегированные данные по количеству отправленных каждым абонентом сообщений."
   ]
  },
  {
   "cell_type": "code",
   "execution_count": 50,
   "id": "080ea7fd",
   "metadata": {},
   "outputs": [
    {
     "data": {
      "text/plain": [
       "count     426.00\n",
       "mean      288.82\n",
       "std       267.61\n",
       "min         1.00\n",
       "25%        85.75\n",
       "50%       215.50\n",
       "75%       414.00\n",
       "max     1,463.00\n",
       "Name: id, dtype: float64"
      ]
     },
     "execution_count": 50,
     "metadata": {},
     "output_type": "execute_result"
    }
   ],
   "source": [
    "messages.groupby('user_id')['id'].count().describe()"
   ]
  },
  {
   "cell_type": "markdown",
   "id": "6bfb0908",
   "metadata": {},
   "source": [
    "Выбивающихся значений нет, распределены правдоподобно."
   ]
  },
  {
   "cell_type": "markdown",
   "id": "195fc7cb",
   "metadata": {},
   "source": [
    "**message_date**"
   ]
  },
  {
   "cell_type": "markdown",
   "id": "adbfd3e6",
   "metadata": {},
   "source": [
    "Построим гистограмму распределения значений в столбце `message_date`"
   ]
  },
  {
   "cell_type": "code",
   "execution_count": 51,
   "id": "cfec6fa5",
   "metadata": {},
   "outputs": [
    {
     "data": {
      "image/png": "[encoded data removed]",
      "text/plain": [
       "<Figure size 1080x432 with 1 Axes>"
      ]
     },
     "metadata": {
      "needs_background": "light"
     },
     "output_type": "display_data"
    }
   ],
   "source": [
    "messages['message_date'].hist(bins=365, figsize=(15, 6))\n",
    "plt.title(\"количество отправленных сообщенийк за день - данные по выборке 500 абонентов за 2018 год\")\n",
    "plt.xlabel(\"дата\")\n",
    "plt.ylabel(\"сообщения, шт\")\n",
    "plt.show()"
   ]
  },
  {
   "cell_type": "markdown",
   "id": "e8ec1ceb",
   "metadata": {},
   "source": [
    "На гистограмме имеется пропущенный диапазон дат. Проверим сколько дат пропущено."
   ]
  },
  {
   "cell_type": "code",
   "execution_count": 52,
   "id": "da5d705f",
   "metadata": {},
   "outputs": [
    {
     "data": {
      "text/plain": [
       "364"
      ]
     },
     "execution_count": 52,
     "metadata": {},
     "output_type": "execute_result"
    }
   ],
   "source": [
    "len(messages['message_date'].unique())"
   ]
  },
  {
   "cell_type": "markdown",
   "id": "3770cd66",
   "metadata": {},
   "source": [
    "Пропущен 1 день (365 - 364 = 1). Выясним, какой именно."
   ]
  },
  {
   "cell_type": "code",
   "execution_count": 53,
   "id": "2698d9de",
   "metadata": {},
   "outputs": [
    {
     "data": {
      "text/html": [
       "<div>\n",
       "<style scoped>\n",
       "    .dataframe tbody tr th:only-of-type {\n",
       "        vertical-align: middle;\n",
       "    }\n",
       "\n",
       "    .dataframe tbody tr th {\n",
       "        vertical-align: top;\n",
       "    }\n",
       "\n",
       "    .dataframe thead th {\n",
       "        text-align: right;\n",
       "    }\n",
       "</style>\n",
       "<table border=\"1\" class=\"dataframe\">\n",
       "  <thead>\n",
       "    <tr style=\"text-align: right;\">\n",
       "      <th></th>\n",
       "      <th>session_date</th>\n",
       "    </tr>\n",
       "  </thead>\n",
       "  <tbody>\n",
       "    <tr>\n",
       "      <th>57584</th>\n",
       "      <td>2018-01-01</td>\n",
       "    </tr>\n",
       "    <tr>\n",
       "      <th>135081</th>\n",
       "      <td>2018-01-01</td>\n",
       "    </tr>\n",
       "    <tr>\n",
       "      <th>135277</th>\n",
       "      <td>2018-01-01</td>\n",
       "    </tr>\n",
       "  </tbody>\n",
       "</table>\n",
       "</div>"
      ],
      "text/plain": [
       "       session_date\n",
       "57584    2018-01-01\n",
       "135081   2018-01-01\n",
       "135277   2018-01-01"
      ]
     },
     "execution_count": 53,
     "metadata": {},
     "output_type": "execute_result"
    }
   ],
   "source": [
    "internet.query('session_date not in @messages.message_date')[['session_date']]"
   ]
  },
  {
   "cell_type": "markdown",
   "id": "3ed63b7b",
   "metadata": {},
   "source": [
    "Пропущенный день - `2018-01-01`. Учитывая, что на эту дату было минимальное количество абонентов и что отправка сообщений - не самая популярная услуга, можно предположить, что в эту дату действительно не было отправлено ни одного сообщения, либо имела место техническая неисправность и возможности отправить сообщение попросту не было. В любом случае, отсутствие данных об отправке сообщений в этот день не повлияет на достоверность данных."
   ]
  },
  {
   "cell_type": "markdown",
   "id": "c8221cf8",
   "metadata": {},
   "source": [
    "Также видим четкое увеличение количества веб-сессий в день с течением времени, причину этого мы выявили ранее - увеличение количества абонентов."
   ]
  },
  {
   "cell_type": "markdown",
   "id": "0cc6d93f",
   "metadata": {},
   "source": [
    "В остальном, выбивающихся значений нет, распределены правдоподобно."
   ]
  },
  {
   "cell_type": "markdown",
   "id": "f8fe0bdf",
   "metadata": {},
   "source": [
    "**Итог по таблице `messages`**\n",
    "\n",
    "Ошибок не выявлено."
   ]
  },
  {
   "cell_type": "markdown",
   "id": "d73e0705",
   "metadata": {},
   "source": [
    "#### Таблица `internet`"
   ]
  },
  {
   "cell_type": "markdown",
   "id": "2080d7c7",
   "metadata": {},
   "source": [
    "Выведем сводные данные по таблице."
   ]
  },
  {
   "cell_type": "code",
   "execution_count": 54,
   "id": "9ec5a12d",
   "metadata": {},
   "outputs": [
    {
     "data": {
      "text/html": [
       "<div>\n",
       "<style scoped>\n",
       "    .dataframe tbody tr th:only-of-type {\n",
       "        vertical-align: middle;\n",
       "    }\n",
       "\n",
       "    .dataframe tbody tr th {\n",
       "        vertical-align: top;\n",
       "    }\n",
       "\n",
       "    .dataframe thead th {\n",
       "        text-align: right;\n",
       "    }\n",
       "</style>\n",
       "<table border=\"1\" class=\"dataframe\">\n",
       "  <thead>\n",
       "    <tr style=\"text-align: right;\">\n",
       "      <th></th>\n",
       "      <th>id</th>\n",
       "      <th>mb_used</th>\n",
       "      <th>session_date</th>\n",
       "      <th>user_id</th>\n",
       "    </tr>\n",
       "  </thead>\n",
       "  <tbody>\n",
       "    <tr>\n",
       "      <th>count</th>\n",
       "      <td>149396</td>\n",
       "      <td>149,396.00</td>\n",
       "      <td>149396</td>\n",
       "      <td>149,396.00</td>\n",
       "    </tr>\n",
       "    <tr>\n",
       "      <th>unique</th>\n",
       "      <td>149396</td>\n",
       "      <td>NaN</td>\n",
       "      <td>NaN</td>\n",
       "      <td>NaN</td>\n",
       "    </tr>\n",
       "    <tr>\n",
       "      <th>top</th>\n",
       "      <td>1000_0</td>\n",
       "      <td>NaN</td>\n",
       "      <td>NaN</td>\n",
       "      <td>NaN</td>\n",
       "    </tr>\n",
       "    <tr>\n",
       "      <th>freq</th>\n",
       "      <td>1</td>\n",
       "      <td>NaN</td>\n",
       "      <td>NaN</td>\n",
       "      <td>NaN</td>\n",
       "    </tr>\n",
       "    <tr>\n",
       "      <th>mean</th>\n",
       "      <td>NaN</td>\n",
       "      <td>370.19</td>\n",
       "      <td>2018-09-02 12:55:35.221826560</td>\n",
       "      <td>1,252.10</td>\n",
       "    </tr>\n",
       "    <tr>\n",
       "      <th>min</th>\n",
       "      <td>NaN</td>\n",
       "      <td>0.00</td>\n",
       "      <td>2018-01-01 00:00:00</td>\n",
       "      <td>1,000.00</td>\n",
       "    </tr>\n",
       "    <tr>\n",
       "      <th>25%</th>\n",
       "      <td>NaN</td>\n",
       "      <td>138.19</td>\n",
       "      <td>2018-07-05 00:00:00</td>\n",
       "      <td>1,130.00</td>\n",
       "    </tr>\n",
       "    <tr>\n",
       "      <th>50%</th>\n",
       "      <td>NaN</td>\n",
       "      <td>348.01</td>\n",
       "      <td>2018-09-17 00:00:00</td>\n",
       "      <td>1,251.00</td>\n",
       "    </tr>\n",
       "    <tr>\n",
       "      <th>75%</th>\n",
       "      <td>NaN</td>\n",
       "      <td>559.55</td>\n",
       "      <td>2018-11-14 00:00:00</td>\n",
       "      <td>1,380.00</td>\n",
       "    </tr>\n",
       "    <tr>\n",
       "      <th>max</th>\n",
       "      <td>NaN</td>\n",
       "      <td>1,724.83</td>\n",
       "      <td>2018-12-31 00:00:00</td>\n",
       "      <td>1,499.00</td>\n",
       "    </tr>\n",
       "    <tr>\n",
       "      <th>std</th>\n",
       "      <td>NaN</td>\n",
       "      <td>278.30</td>\n",
       "      <td>NaN</td>\n",
       "      <td>144.05</td>\n",
       "    </tr>\n",
       "  </tbody>\n",
       "</table>\n",
       "</div>"
      ],
      "text/plain": [
       "            id    mb_used                   session_date    user_id\n",
       "count   149396 149,396.00                         149396 149,396.00\n",
       "unique  149396        NaN                            NaN        NaN\n",
       "top     1000_0        NaN                            NaN        NaN\n",
       "freq         1        NaN                            NaN        NaN\n",
       "mean       NaN     370.19  2018-09-02 12:55:35.221826560   1,252.10\n",
       "min        NaN       0.00            2018-01-01 00:00:00   1,000.00\n",
       "25%        NaN     138.19            2018-07-05 00:00:00   1,130.00\n",
       "50%        NaN     348.01            2018-09-17 00:00:00   1,251.00\n",
       "75%        NaN     559.55            2018-11-14 00:00:00   1,380.00\n",
       "max        NaN   1,724.83            2018-12-31 00:00:00   1,499.00\n",
       "std        NaN     278.30                            NaN     144.05"
      ]
     },
     "execution_count": 54,
     "metadata": {},
     "output_type": "execute_result"
    }
   ],
   "source": [
    "internet.describe(include='all', datetime_is_numeric=True)"
   ]
  },
  {
   "cell_type": "markdown",
   "id": "6252ee11",
   "metadata": {},
   "source": [
    "Ошибок не просматривается, данные правдоподобны."
   ]
  },
  {
   "cell_type": "markdown",
   "id": "bbc810f9",
   "metadata": {},
   "source": [
    "Рассмотрим каждый столбец подробно."
   ]
  },
  {
   "cell_type": "markdown",
   "id": "709a2d62",
   "metadata": {},
   "source": [
    "**session_date**"
   ]
  },
  {
   "cell_type": "markdown",
   "id": "90a61129",
   "metadata": {},
   "source": [
    "Построим гистограмму распределения значений в столбце `session_date`"
   ]
  },
  {
   "cell_type": "code",
   "execution_count": 55,
   "id": "471c15fa",
   "metadata": {},
   "outputs": [
    {
     "data": {
      "image/png": "[encoded data removed]",
      "text/plain": [
       "<Figure size 1080x432 with 1 Axes>"
      ]
     },
     "metadata": {
      "needs_background": "light"
     },
     "output_type": "display_data"
    }
   ],
   "source": [
    "internet['session_date'].hist(bins=365, figsize=(15, 6))\n",
    "plt.title(\"количество веб-сессий за день - данные по выборке 500 абонентов за 2018 год\")\n",
    "plt.xlabel(\"дата\")\n",
    "plt.ylabel(\"веб-сессии, шт\")\n",
    "plt.show()"
   ]
  },
  {
   "cell_type": "markdown",
   "id": "8c88a373",
   "metadata": {},
   "source": [
    "Видим четкое увеличение количества веб-сессий в день с течением времени, причину этого мы выявили ранее - увеличение количество абонентов."
   ]
  },
  {
   "cell_type": "markdown",
   "id": "982165f0",
   "metadata": {},
   "source": [
    "**user_id**"
   ]
  },
  {
   "cell_type": "markdown",
   "id": "7970b6d8",
   "metadata": {},
   "source": [
    "Построим гистограмму распределения значений в столбце `user_id`"
   ]
  },
  {
   "cell_type": "code",
   "execution_count": 56,
   "id": "cc44129a",
   "metadata": {},
   "outputs": [
    {
     "data": {
      "image/png": "[encoded data removed]",
      "text/plain": [
       "<Figure size 1080x432 with 1 Axes>"
      ]
     },
     "metadata": {
      "needs_background": "light"
     },
     "output_type": "display_data"
    }
   ],
   "source": [
    "internet['user_id'].hist(bins=500, figsize=(15, 6))\n",
    "plt.title(\"количество веб-сессий для каждого абонента - данные по выборке 500 абонентов за 2018 год\")\n",
    "plt.xlabel(\"id абонента\")\n",
    "plt.ylabel(\"сообщения, шт\")\n",
    "plt.show()"
   ]
  },
  {
   "cell_type": "markdown",
   "id": "e408c5a9",
   "metadata": {},
   "source": [
    "Выведем агрегированные данные по количеству веб-сессий на абонента."
   ]
  },
  {
   "cell_type": "code",
   "execution_count": 57,
   "id": "ea015d4b",
   "metadata": {
    "scrolled": true
   },
   "outputs": [
    {
     "data": {
      "text/plain": [
       "count   497.00\n",
       "mean    300.60\n",
       "std     183.69\n",
       "min       8.00\n",
       "25%     155.00\n",
       "50%     284.00\n",
       "75%     424.00\n",
       "max     834.00\n",
       "Name: id, dtype: float64"
      ]
     },
     "execution_count": 57,
     "metadata": {},
     "output_type": "execute_result"
    }
   ],
   "source": [
    "internet.groupby('user_id')['id'].count().describe()"
   ]
  },
  {
   "cell_type": "markdown",
   "id": "1814c205",
   "metadata": {},
   "source": [
    "Выбивающихся значений нет, распределены правдоподобно."
   ]
  },
  {
   "cell_type": "markdown",
   "id": "8f6fbb4a",
   "metadata": {},
   "source": [
    "**mb_used**"
   ]
  },
  {
   "cell_type": "markdown",
   "id": "e16a417f",
   "metadata": {},
   "source": [
    "Построим график распределения значений в столбце `mb_used`."
   ]
  },
  {
   "cell_type": "code",
   "execution_count": 58,
   "id": "810c8964",
   "metadata": {},
   "outputs": [
    {
     "data": {
      "image/png": "[encoded data removed]",
      "text/plain": [
       "<Figure size 1080x432 with 1 Axes>"
      ]
     },
     "metadata": {
      "needs_background": "light"
     },
     "output_type": "display_data"
    }
   ],
   "source": [
    "internet.boxplot(column='mb_used', figsize=(15, 6))\n",
    "plt.title(\"распределение количества веб-сессий по объему трафика - данные по выборке 500 абонентов за 2018 год\")\n",
    "plt.ylabel(\"объем трафика за сессию, МБайт\")\n",
    "plt.show()"
   ]
  },
  {
   "cell_type": "markdown",
   "id": "ac407652",
   "metadata": {},
   "source": [
    "Данные в столбце `mb_used` выглядят правдоподобно. Значения, выходящие за границу 75% + 1.5 IQR, отфильтровывать смысла нет, поскольку их величина вполне адекватна. "
   ]
  },
  {
   "cell_type": "markdown",
   "id": "d0644dca",
   "metadata": {},
   "source": [
    "**Итог по таблице `internet`**\n",
    "\n",
    "Ошибок не выявлено."
   ]
  },
  {
   "cell_type": "markdown",
   "id": "3c015651",
   "metadata": {},
   "source": [
    "### Вывод\n",
    "\n",
    "Предобработка данных проведена, изменены типы данных в столбцах с датами, столбец с информацией о длительности звонков приведен в соответствие с условиями расчета тарифов. Выполнена проверка данных на наличие ошибок, таковых не выявлено, все нетипичные значения имеют логичное обоснование, общую картину не искажают, в исправлении не нуждаются.\n",
    "\n",
    "[В начало раздела 2](#section_2)"
   ]
  },
  {
   "cell_type": "markdown",
   "id": "95093a73",
   "metadata": {},
   "source": [
    "<a id=\"section_3\"></a>\n",
    "## Расчёты и добавление результатов в таблицу"
   ]
  },
  {
   "cell_type": "markdown",
   "id": "123c69ce",
   "metadata": {},
   "source": [
    "В этом разделе мы вычислим следующие параметры и занесем их сводную таблицу:\n",
    "- объем израсходованного интернет-трафика по месяцам для каждого пользователя;\n",
    "- количество отправленных сообщений по месяцам для каждого пользователя;\n",
    "- количество сделанных звонков и израсходованных минут разговора по месяцам для каждого пользователя;\n",
    "- помесячную выручку с каждого пользователя."
   ]
  },
  {
   "cell_type": "markdown",
   "id": "d4f83207",
   "metadata": {},
   "source": [
    "### Объем израсходованного интернет-трафика по месяцам"
   ]
  },
  {
   "cell_type": "markdown",
   "id": "531ed42c",
   "metadata": {},
   "source": [
    "С помощью метода `pivot_table()` создадим сводную таблицу, учитывающую объем израсходованного интернет-трафика и количество сессий по месяцам для каждого пользователя."
   ]
  },
  {
   "cell_type": "code",
   "execution_count": 59,
   "id": "235c35af",
   "metadata": {},
   "outputs": [],
   "source": [
    "internet_per_month = internet.pivot_table(index='user_id', \n",
    "                                          columns=internet.session_date.dt.month, \n",
    "                                          values='mb_used', \n",
    "                                          aggfunc=['count', 'sum'])"
   ]
  },
  {
   "cell_type": "markdown",
   "id": "dfaa36d8",
   "metadata": {},
   "source": [
    "Проверим результат."
   ]
  },
  {
   "cell_type": "code",
   "execution_count": 60,
   "id": "2cb5675b",
   "metadata": {},
   "outputs": [
    {
     "data": {
      "text/html": [
       "<div>\n",
       "<style scoped>\n",
       "    .dataframe tbody tr th:only-of-type {\n",
       "        vertical-align: middle;\n",
       "    }\n",
       "\n",
       "    .dataframe tbody tr th {\n",
       "        vertical-align: top;\n",
       "    }\n",
       "\n",
       "    .dataframe thead th {\n",
       "        text-align: right;\n",
       "    }\n",
       "</style>\n",
       "<table border=\"1\" class=\"dataframe\">\n",
       "  <thead>\n",
       "    <tr style=\"text-align: right;\">\n",
       "      <th></th>\n",
       "      <th>user_id</th>\n",
       "      <th>1000</th>\n",
       "      <th>1001</th>\n",
       "      <th>1002</th>\n",
       "      <th>1003</th>\n",
       "      <th>1004</th>\n",
       "      <th>1005</th>\n",
       "      <th>1006</th>\n",
       "      <th>1007</th>\n",
       "      <th>1008</th>\n",
       "      <th>1009</th>\n",
       "      <th>1010</th>\n",
       "      <th>1011</th>\n",
       "      <th>1012</th>\n",
       "      <th>1013</th>\n",
       "      <th>1014</th>\n",
       "    </tr>\n",
       "    <tr>\n",
       "      <th></th>\n",
       "      <th>session_date</th>\n",
       "      <th></th>\n",
       "      <th></th>\n",
       "      <th></th>\n",
       "      <th></th>\n",
       "      <th></th>\n",
       "      <th></th>\n",
       "      <th></th>\n",
       "      <th></th>\n",
       "      <th></th>\n",
       "      <th></th>\n",
       "      <th></th>\n",
       "      <th></th>\n",
       "      <th></th>\n",
       "      <th></th>\n",
       "      <th></th>\n",
       "    </tr>\n",
       "  </thead>\n",
       "  <tbody>\n",
       "    <tr>\n",
       "      <th rowspan=\"12\" valign=\"top\">count</th>\n",
       "      <th>1</th>\n",
       "      <td>NaN</td>\n",
       "      <td>NaN</td>\n",
       "      <td>NaN</td>\n",
       "      <td>NaN</td>\n",
       "      <td>NaN</td>\n",
       "      <td>6.00</td>\n",
       "      <td>NaN</td>\n",
       "      <td>NaN</td>\n",
       "      <td>NaN</td>\n",
       "      <td>NaN</td>\n",
       "      <td>NaN</td>\n",
       "      <td>NaN</td>\n",
       "      <td>NaN</td>\n",
       "      <td>NaN</td>\n",
       "      <td>NaN</td>\n",
       "    </tr>\n",
       "    <tr>\n",
       "      <th>2</th>\n",
       "      <td>NaN</td>\n",
       "      <td>NaN</td>\n",
       "      <td>NaN</td>\n",
       "      <td>NaN</td>\n",
       "      <td>NaN</td>\n",
       "      <td>24.00</td>\n",
       "      <td>8.00</td>\n",
       "      <td>NaN</td>\n",
       "      <td>NaN</td>\n",
       "      <td>NaN</td>\n",
       "      <td>NaN</td>\n",
       "      <td>NaN</td>\n",
       "      <td>NaN</td>\n",
       "      <td>NaN</td>\n",
       "      <td>NaN</td>\n",
       "    </tr>\n",
       "    <tr>\n",
       "      <th>3</th>\n",
       "      <td>NaN</td>\n",
       "      <td>NaN</td>\n",
       "      <td>NaN</td>\n",
       "      <td>NaN</td>\n",
       "      <td>NaN</td>\n",
       "      <td>28.00</td>\n",
       "      <td>52.00</td>\n",
       "      <td>NaN</td>\n",
       "      <td>NaN</td>\n",
       "      <td>22.00</td>\n",
       "      <td>NaN</td>\n",
       "      <td>26.00</td>\n",
       "      <td>6.00</td>\n",
       "      <td>NaN</td>\n",
       "      <td>NaN</td>\n",
       "    </tr>\n",
       "    <tr>\n",
       "      <th>4</th>\n",
       "      <td>NaN</td>\n",
       "      <td>NaN</td>\n",
       "      <td>NaN</td>\n",
       "      <td>NaN</td>\n",
       "      <td>NaN</td>\n",
       "      <td>30.00</td>\n",
       "      <td>42.00</td>\n",
       "      <td>21.00</td>\n",
       "      <td>NaN</td>\n",
       "      <td>49.00</td>\n",
       "      <td>NaN</td>\n",
       "      <td>60.00</td>\n",
       "      <td>59.00</td>\n",
       "      <td>NaN</td>\n",
       "      <td>NaN</td>\n",
       "    </tr>\n",
       "    <tr>\n",
       "      <th>5</th>\n",
       "      <td>5.00</td>\n",
       "      <td>NaN</td>\n",
       "      <td>NaN</td>\n",
       "      <td>NaN</td>\n",
       "      <td>24.00</td>\n",
       "      <td>25.00</td>\n",
       "      <td>46.00</td>\n",
       "      <td>60.00</td>\n",
       "      <td>NaN</td>\n",
       "      <td>40.00</td>\n",
       "      <td>NaN</td>\n",
       "      <td>64.00</td>\n",
       "      <td>75.00</td>\n",
       "      <td>NaN</td>\n",
       "      <td>43.00</td>\n",
       "    </tr>\n",
       "    <tr>\n",
       "      <th>6</th>\n",
       "      <td>49.00</td>\n",
       "      <td>NaN</td>\n",
       "      <td>34.00</td>\n",
       "      <td>NaN</td>\n",
       "      <td>35.00</td>\n",
       "      <td>28.00</td>\n",
       "      <td>45.00</td>\n",
       "      <td>44.00</td>\n",
       "      <td>NaN</td>\n",
       "      <td>48.00</td>\n",
       "      <td>NaN</td>\n",
       "      <td>48.00</td>\n",
       "      <td>69.00</td>\n",
       "      <td>NaN</td>\n",
       "      <td>76.00</td>\n",
       "    </tr>\n",
       "    <tr>\n",
       "      <th>7</th>\n",
       "      <td>29.00</td>\n",
       "      <td>NaN</td>\n",
       "      <td>58.00</td>\n",
       "      <td>NaN</td>\n",
       "      <td>35.00</td>\n",
       "      <td>21.00</td>\n",
       "      <td>58.00</td>\n",
       "      <td>61.00</td>\n",
       "      <td>NaN</td>\n",
       "      <td>68.00</td>\n",
       "      <td>NaN</td>\n",
       "      <td>57.00</td>\n",
       "      <td>74.00</td>\n",
       "      <td>NaN</td>\n",
       "      <td>79.00</td>\n",
       "    </tr>\n",
       "    <tr>\n",
       "      <th>8</th>\n",
       "      <td>29.00</td>\n",
       "      <td>NaN</td>\n",
       "      <td>60.00</td>\n",
       "      <td>15.00</td>\n",
       "      <td>52.00</td>\n",
       "      <td>23.00</td>\n",
       "      <td>53.00</td>\n",
       "      <td>57.00</td>\n",
       "      <td>NaN</td>\n",
       "      <td>65.00</td>\n",
       "      <td>45.00</td>\n",
       "      <td>68.00</td>\n",
       "      <td>62.00</td>\n",
       "      <td>NaN</td>\n",
       "      <td>86.00</td>\n",
       "    </tr>\n",
       "    <tr>\n",
       "      <th>9</th>\n",
       "      <td>27.00</td>\n",
       "      <td>NaN</td>\n",
       "      <td>56.00</td>\n",
       "      <td>22.00</td>\n",
       "      <td>37.00</td>\n",
       "      <td>24.00</td>\n",
       "      <td>50.00</td>\n",
       "      <td>45.00</td>\n",
       "      <td>NaN</td>\n",
       "      <td>54.00</td>\n",
       "      <td>66.00</td>\n",
       "      <td>70.00</td>\n",
       "      <td>64.00</td>\n",
       "      <td>NaN</td>\n",
       "      <td>78.00</td>\n",
       "    </tr>\n",
       "    <tr>\n",
       "      <th>10</th>\n",
       "      <td>27.00</td>\n",
       "      <td>NaN</td>\n",
       "      <td>44.00</td>\n",
       "      <td>25.00</td>\n",
       "      <td>41.00</td>\n",
       "      <td>21.00</td>\n",
       "      <td>61.00</td>\n",
       "      <td>46.00</td>\n",
       "      <td>NaN</td>\n",
       "      <td>61.00</td>\n",
       "      <td>43.00</td>\n",
       "      <td>55.00</td>\n",
       "      <td>79.00</td>\n",
       "      <td>NaN</td>\n",
       "      <td>73.00</td>\n",
       "    </tr>\n",
       "    <tr>\n",
       "      <th>11</th>\n",
       "      <td>24.00</td>\n",
       "      <td>55.00</td>\n",
       "      <td>55.00</td>\n",
       "      <td>21.00</td>\n",
       "      <td>36.00</td>\n",
       "      <td>30.00</td>\n",
       "      <td>37.00</td>\n",
       "      <td>52.00</td>\n",
       "      <td>NaN</td>\n",
       "      <td>48.00</td>\n",
       "      <td>56.00</td>\n",
       "      <td>81.00</td>\n",
       "      <td>70.00</td>\n",
       "      <td>21.00</td>\n",
       "      <td>78.00</td>\n",
       "    </tr>\n",
       "    <tr>\n",
       "      <th>12</th>\n",
       "      <td>21.00</td>\n",
       "      <td>41.00</td>\n",
       "      <td>62.00</td>\n",
       "      <td>21.00</td>\n",
       "      <td>40.00</td>\n",
       "      <td>29.00</td>\n",
       "      <td>55.00</td>\n",
       "      <td>52.00</td>\n",
       "      <td>44.00</td>\n",
       "      <td>57.00</td>\n",
       "      <td>53.00</td>\n",
       "      <td>65.00</td>\n",
       "      <td>47.00</td>\n",
       "      <td>41.00</td>\n",
       "      <td>85.00</td>\n",
       "    </tr>\n",
       "    <tr>\n",
       "      <th rowspan=\"12\" valign=\"top\">sum</th>\n",
       "      <th>1</th>\n",
       "      <td>NaN</td>\n",
       "      <td>NaN</td>\n",
       "      <td>NaN</td>\n",
       "      <td>NaN</td>\n",
       "      <td>NaN</td>\n",
       "      <td>2,727.97</td>\n",
       "      <td>NaN</td>\n",
       "      <td>NaN</td>\n",
       "      <td>NaN</td>\n",
       "      <td>NaN</td>\n",
       "      <td>NaN</td>\n",
       "      <td>NaN</td>\n",
       "      <td>NaN</td>\n",
       "      <td>NaN</td>\n",
       "      <td>NaN</td>\n",
       "    </tr>\n",
       "    <tr>\n",
       "      <th>2</th>\n",
       "      <td>NaN</td>\n",
       "      <td>NaN</td>\n",
       "      <td>NaN</td>\n",
       "      <td>NaN</td>\n",
       "      <td>NaN</td>\n",
       "      <td>7,383.93</td>\n",
       "      <td>1,392.15</td>\n",
       "      <td>NaN</td>\n",
       "      <td>NaN</td>\n",
       "      <td>NaN</td>\n",
       "      <td>NaN</td>\n",
       "      <td>NaN</td>\n",
       "      <td>NaN</td>\n",
       "      <td>NaN</td>\n",
       "      <td>NaN</td>\n",
       "    </tr>\n",
       "    <tr>\n",
       "      <th>3</th>\n",
       "      <td>NaN</td>\n",
       "      <td>NaN</td>\n",
       "      <td>NaN</td>\n",
       "      <td>NaN</td>\n",
       "      <td>NaN</td>\n",
       "      <td>11,104.25</td>\n",
       "      <td>17,287.93</td>\n",
       "      <td>NaN</td>\n",
       "      <td>NaN</td>\n",
       "      <td>7,350.15</td>\n",
       "      <td>NaN</td>\n",
       "      <td>5,890.00</td>\n",
       "      <td>2,412.34</td>\n",
       "      <td>NaN</td>\n",
       "      <td>NaN</td>\n",
       "    </tr>\n",
       "    <tr>\n",
       "      <th>4</th>\n",
       "      <td>NaN</td>\n",
       "      <td>NaN</td>\n",
       "      <td>NaN</td>\n",
       "      <td>NaN</td>\n",
       "      <td>NaN</td>\n",
       "      <td>9,351.72</td>\n",
       "      <td>13,936.70</td>\n",
       "      <td>8,022.76</td>\n",
       "      <td>NaN</td>\n",
       "      <td>14,709.22</td>\n",
       "      <td>NaN</td>\n",
       "      <td>18,076.35</td>\n",
       "      <td>16,617.68</td>\n",
       "      <td>NaN</td>\n",
       "      <td>NaN</td>\n",
       "    </tr>\n",
       "    <tr>\n",
       "      <th>5</th>\n",
       "      <td>2,253.49</td>\n",
       "      <td>NaN</td>\n",
       "      <td>NaN</td>\n",
       "      <td>NaN</td>\n",
       "      <td>13,403.98</td>\n",
       "      <td>7,865.53</td>\n",
       "      <td>12,965.41</td>\n",
       "      <td>17,687.27</td>\n",
       "      <td>NaN</td>\n",
       "      <td>13,371.89</td>\n",
       "      <td>NaN</td>\n",
       "      <td>18,383.41</td>\n",
       "      <td>26,607.35</td>\n",
       "      <td>NaN</td>\n",
       "      <td>13,049.11</td>\n",
       "    </tr>\n",
       "    <tr>\n",
       "      <th>6</th>\n",
       "      <td>23,233.77</td>\n",
       "      <td>NaN</td>\n",
       "      <td>10,856.82</td>\n",
       "      <td>NaN</td>\n",
       "      <td>17,600.02</td>\n",
       "      <td>9,863.19</td>\n",
       "      <td>12,371.66</td>\n",
       "      <td>13,654.52</td>\n",
       "      <td>NaN</td>\n",
       "      <td>16,067.51</td>\n",
       "      <td>NaN</td>\n",
       "      <td>17,364.24</td>\n",
       "      <td>24,741.16</td>\n",
       "      <td>NaN</td>\n",
       "      <td>25,040.50</td>\n",
       "    </tr>\n",
       "    <tr>\n",
       "      <th>7</th>\n",
       "      <td>14,003.64</td>\n",
       "      <td>NaN</td>\n",
       "      <td>17,580.10</td>\n",
       "      <td>NaN</td>\n",
       "      <td>22,229.58</td>\n",
       "      <td>7,694.56</td>\n",
       "      <td>19,977.60</td>\n",
       "      <td>15,656.66</td>\n",
       "      <td>NaN</td>\n",
       "      <td>24,725.84</td>\n",
       "      <td>NaN</td>\n",
       "      <td>18,708.77</td>\n",
       "      <td>23,090.75</td>\n",
       "      <td>NaN</td>\n",
       "      <td>27,823.59</td>\n",
       "    </tr>\n",
       "    <tr>\n",
       "      <th>8</th>\n",
       "      <td>14,055.93</td>\n",
       "      <td>NaN</td>\n",
       "      <td>20,319.26</td>\n",
       "      <td>8,565.21</td>\n",
       "      <td>28,584.37</td>\n",
       "      <td>7,543.63</td>\n",
       "      <td>19,303.71</td>\n",
       "      <td>20,700.40</td>\n",
       "      <td>NaN</td>\n",
       "      <td>23,708.41</td>\n",
       "      <td>14,463.75</td>\n",
       "      <td>21,497.25</td>\n",
       "      <td>21,850.21</td>\n",
       "      <td>NaN</td>\n",
       "      <td>26,025.44</td>\n",
       "    </tr>\n",
       "    <tr>\n",
       "      <th>9</th>\n",
       "      <td>14,568.91</td>\n",
       "      <td>NaN</td>\n",
       "      <td>16,691.08</td>\n",
       "      <td>12,468.87</td>\n",
       "      <td>15,109.03</td>\n",
       "      <td>7,016.46</td>\n",
       "      <td>15,521.53</td>\n",
       "      <td>12,613.05</td>\n",
       "      <td>NaN</td>\n",
       "      <td>21,932.59</td>\n",
       "      <td>16,151.87</td>\n",
       "      <td>21,739.69</td>\n",
       "      <td>19,380.62</td>\n",
       "      <td>NaN</td>\n",
       "      <td>25,740.52</td>\n",
       "    </tr>\n",
       "    <tr>\n",
       "      <th>10</th>\n",
       "      <td>14,702.49</td>\n",
       "      <td>NaN</td>\n",
       "      <td>13,888.25</td>\n",
       "      <td>14,768.14</td>\n",
       "      <td>18,475.44</td>\n",
       "      <td>7,800.93</td>\n",
       "      <td>19,696.60</td>\n",
       "      <td>14,427.33</td>\n",
       "      <td>NaN</td>\n",
       "      <td>20,081.73</td>\n",
       "      <td>14,610.93</td>\n",
       "      <td>18,269.92</td>\n",
       "      <td>29,071.87</td>\n",
       "      <td>NaN</td>\n",
       "      <td>22,539.37</td>\n",
       "    </tr>\n",
       "    <tr>\n",
       "      <th>11</th>\n",
       "      <td>14,756.47</td>\n",
       "      <td>18,429.34</td>\n",
       "      <td>18,587.28</td>\n",
       "      <td>11,356.89</td>\n",
       "      <td>15,616.02</td>\n",
       "      <td>12,666.95</td>\n",
       "      <td>13,259.41</td>\n",
       "      <td>16,369.61</td>\n",
       "      <td>NaN</td>\n",
       "      <td>16,845.85</td>\n",
       "      <td>19,236.73</td>\n",
       "      <td>25,300.98</td>\n",
       "      <td>22,517.95</td>\n",
       "      <td>9,780.03</td>\n",
       "      <td>25,107.02</td>\n",
       "    </tr>\n",
       "    <tr>\n",
       "      <th>12</th>\n",
       "      <td>9,817.61</td>\n",
       "      <td>14,036.66</td>\n",
       "      <td>18,113.73</td>\n",
       "      <td>10,121.53</td>\n",
       "      <td>18,021.04</td>\n",
       "      <td>8,668.19</td>\n",
       "      <td>18,476.11</td>\n",
       "      <td>12,494.07</td>\n",
       "      <td>13,217.14</td>\n",
       "      <td>18,618.02</td>\n",
       "      <td>19,207.37</td>\n",
       "      <td>22,870.72</td>\n",
       "      <td>14,005.84</td>\n",
       "      <td>20,737.13</td>\n",
       "      <td>25,420.71</td>\n",
       "    </tr>\n",
       "  </tbody>\n",
       "</table>\n",
       "</div>"
      ],
      "text/plain": [
       "user_id                 1000      1001      1002      1003      1004  \\\n",
       "      session_date                                                     \n",
       "count 1                  NaN       NaN       NaN       NaN       NaN   \n",
       "      2                  NaN       NaN       NaN       NaN       NaN   \n",
       "      3                  NaN       NaN       NaN       NaN       NaN   \n",
       "      4                  NaN       NaN       NaN       NaN       NaN   \n",
       "      5                 5.00       NaN       NaN       NaN     24.00   \n",
       "      6                49.00       NaN     34.00       NaN     35.00   \n",
       "      7                29.00       NaN     58.00       NaN     35.00   \n",
       "      8                29.00       NaN     60.00     15.00     52.00   \n",
       "      9                27.00       NaN     56.00     22.00     37.00   \n",
       "      10               27.00       NaN     44.00     25.00     41.00   \n",
       "      11               24.00     55.00     55.00     21.00     36.00   \n",
       "      12               21.00     41.00     62.00     21.00     40.00   \n",
       "sum   1                  NaN       NaN       NaN       NaN       NaN   \n",
       "      2                  NaN       NaN       NaN       NaN       NaN   \n",
       "      3                  NaN       NaN       NaN       NaN       NaN   \n",
       "      4                  NaN       NaN       NaN       NaN       NaN   \n",
       "      5             2,253.49       NaN       NaN       NaN 13,403.98   \n",
       "      6            23,233.77       NaN 10,856.82       NaN 17,600.02   \n",
       "      7            14,003.64       NaN 17,580.10       NaN 22,229.58   \n",
       "      8            14,055.93       NaN 20,319.26  8,565.21 28,584.37   \n",
       "      9            14,568.91       NaN 16,691.08 12,468.87 15,109.03   \n",
       "      10           14,702.49       NaN 13,888.25 14,768.14 18,475.44   \n",
       "      11           14,756.47 18,429.34 18,587.28 11,356.89 15,616.02   \n",
       "      12            9,817.61 14,036.66 18,113.73 10,121.53 18,021.04   \n",
       "\n",
       "user_id                 1005      1006      1007      1008      1009  \\\n",
       "      session_date                                                     \n",
       "count 1                 6.00       NaN       NaN       NaN       NaN   \n",
       "      2                24.00      8.00       NaN       NaN       NaN   \n",
       "      3                28.00     52.00       NaN       NaN     22.00   \n",
       "      4                30.00     42.00     21.00       NaN     49.00   \n",
       "      5                25.00     46.00     60.00       NaN     40.00   \n",
       "      6                28.00     45.00     44.00       NaN     48.00   \n",
       "      7                21.00     58.00     61.00       NaN     68.00   \n",
       "      8                23.00     53.00     57.00       NaN     65.00   \n",
       "      9                24.00     50.00     45.00       NaN     54.00   \n",
       "      10               21.00     61.00     46.00       NaN     61.00   \n",
       "      11               30.00     37.00     52.00       NaN     48.00   \n",
       "      12               29.00     55.00     52.00     44.00     57.00   \n",
       "sum   1             2,727.97       NaN       NaN       NaN       NaN   \n",
       "      2             7,383.93  1,392.15       NaN       NaN       NaN   \n",
       "      3            11,104.25 17,287.93       NaN       NaN  7,350.15   \n",
       "      4             9,351.72 13,936.70  8,022.76       NaN 14,709.22   \n",
       "      5             7,865.53 12,965.41 17,687.27       NaN 13,371.89   \n",
       "      6             9,863.19 12,371.66 13,654.52       NaN 16,067.51   \n",
       "      7             7,694.56 19,977.60 15,656.66       NaN 24,725.84   \n",
       "      8             7,543.63 19,303.71 20,700.40       NaN 23,708.41   \n",
       "      9             7,016.46 15,521.53 12,613.05       NaN 21,932.59   \n",
       "      10            7,800.93 19,696.60 14,427.33       NaN 20,081.73   \n",
       "      11           12,666.95 13,259.41 16,369.61       NaN 16,845.85   \n",
       "      12            8,668.19 18,476.11 12,494.07 13,217.14 18,618.02   \n",
       "\n",
       "user_id                 1010      1011      1012      1013      1014  \n",
       "      session_date                                                    \n",
       "count 1                  NaN       NaN       NaN       NaN       NaN  \n",
       "      2                  NaN       NaN       NaN       NaN       NaN  \n",
       "      3                  NaN     26.00      6.00       NaN       NaN  \n",
       "      4                  NaN     60.00     59.00       NaN       NaN  \n",
       "      5                  NaN     64.00     75.00       NaN     43.00  \n",
       "      6                  NaN     48.00     69.00       NaN     76.00  \n",
       "      7                  NaN     57.00     74.00       NaN     79.00  \n",
       "      8                45.00     68.00     62.00       NaN     86.00  \n",
       "      9                66.00     70.00     64.00       NaN     78.00  \n",
       "      10               43.00     55.00     79.00       NaN     73.00  \n",
       "      11               56.00     81.00     70.00     21.00     78.00  \n",
       "      12               53.00     65.00     47.00     41.00     85.00  \n",
       "sum   1                  NaN       NaN       NaN       NaN       NaN  \n",
       "      2                  NaN       NaN       NaN       NaN       NaN  \n",
       "      3                  NaN  5,890.00  2,412.34       NaN       NaN  \n",
       "      4                  NaN 18,076.35 16,617.68       NaN       NaN  \n",
       "      5                  NaN 18,383.41 26,607.35       NaN 13,049.11  \n",
       "      6                  NaN 17,364.24 24,741.16       NaN 25,040.50  \n",
       "      7                  NaN 18,708.77 23,090.75       NaN 27,823.59  \n",
       "      8            14,463.75 21,497.25 21,850.21       NaN 26,025.44  \n",
       "      9            16,151.87 21,739.69 19,380.62       NaN 25,740.52  \n",
       "      10           14,610.93 18,269.92 29,071.87       NaN 22,539.37  \n",
       "      11           19,236.73 25,300.98 22,517.95  9,780.03 25,107.02  \n",
       "      12           19,207.37 22,870.72 14,005.84 20,737.13 25,420.71  "
      ]
     },
     "execution_count": 60,
     "metadata": {},
     "output_type": "execute_result"
    }
   ],
   "source": [
    "internet_per_month.head(15).T"
   ]
  },
  {
   "cell_type": "code",
   "execution_count": 61,
   "id": "b9301fb3",
   "metadata": {},
   "outputs": [
    {
     "name": "stdout",
     "output_type": "stream",
     "text": [
      "<class 'pandas.core.frame.DataFrame'>\n",
      "Int64Index: 497 entries, 1000 to 1499\n",
      "Data columns (total 24 columns):\n",
      " #   Column       Non-Null Count  Dtype  \n",
      "---  ------       --------------  -----  \n",
      " 0   (count, 1)   43 non-null     float64\n",
      " 1   (count, 2)   80 non-null     float64\n",
      " 2   (count, 3)   114 non-null    float64\n",
      " 3   (count, 4)   167 non-null    float64\n",
      " 4   (count, 5)   207 non-null    float64\n",
      " 5   (count, 6)   247 non-null    float64\n",
      " 6   (count, 7)   291 non-null    float64\n",
      " 7   (count, 8)   340 non-null    float64\n",
      " 8   (count, 9)   374 non-null    float64\n",
      " 9   (count, 10)  416 non-null    float64\n",
      " 10  (count, 11)  449 non-null    float64\n",
      " 11  (count, 12)  475 non-null    float64\n",
      " 12  (sum, 1)     43 non-null     float64\n",
      " 13  (sum, 2)     80 non-null     float64\n",
      " 14  (sum, 3)     114 non-null    float64\n",
      " 15  (sum, 4)     167 non-null    float64\n",
      " 16  (sum, 5)     207 non-null    float64\n",
      " 17  (sum, 6)     247 non-null    float64\n",
      " 18  (sum, 7)     291 non-null    float64\n",
      " 19  (sum, 8)     340 non-null    float64\n",
      " 20  (sum, 9)     374 non-null    float64\n",
      " 21  (sum, 10)    416 non-null    float64\n",
      " 22  (sum, 11)    449 non-null    float64\n",
      " 23  (sum, 12)    475 non-null    float64\n",
      "dtypes: float64(24)\n",
      "memory usage: 97.1 KB\n"
     ]
    }
   ],
   "source": [
    "internet_per_month.info()"
   ]
  },
  {
   "cell_type": "markdown",
   "id": "9cb27366",
   "metadata": {},
   "source": [
    "Избавимся от мультииндексов в наименованиях столбцов."
   ]
  },
  {
   "cell_type": "markdown",
   "id": "dffe3ec4",
   "metadata": {},
   "source": [
    "Поскольку эту манипуляцию предстоит повторять в дальнейшем, напишем функцию, автоматизирующую эту операцию."
   ]
  },
  {
   "cell_type": "code",
   "execution_count": 62,
   "id": "49d69eb4",
   "metadata": {},
   "outputs": [],
   "source": [
    "def rename_col_24(df, name):\n",
    "    \n",
    "    df_columns = []\n",
    "    for col in df.columns:\n",
    "        column = '_'.join([name, col[0], str(col[1])])\n",
    "        df_columns.append(column)\n",
    "    df.columns = df_columns"
   ]
  },
  {
   "cell_type": "markdown",
   "id": "6abd05b3",
   "metadata": {},
   "source": [
    "Применим функцию `rename_col_24()` к таблице `internet_per_month`."
   ]
  },
  {
   "cell_type": "code",
   "execution_count": 63,
   "id": "b68e2654",
   "metadata": {},
   "outputs": [],
   "source": [
    "rename_col_24(internet_per_month, 'internet')"
   ]
  },
  {
   "cell_type": "markdown",
   "id": "6c101672",
   "metadata": {},
   "source": [
    "Проверим результат."
   ]
  },
  {
   "cell_type": "code",
   "execution_count": 64,
   "id": "4a686c60",
   "metadata": {},
   "outputs": [
    {
     "data": {
      "text/html": [
       "<div>\n",
       "<style scoped>\n",
       "    .dataframe tbody tr th:only-of-type {\n",
       "        vertical-align: middle;\n",
       "    }\n",
       "\n",
       "    .dataframe tbody tr th {\n",
       "        vertical-align: top;\n",
       "    }\n",
       "\n",
       "    .dataframe thead th {\n",
       "        text-align: right;\n",
       "    }\n",
       "</style>\n",
       "<table border=\"1\" class=\"dataframe\">\n",
       "  <thead>\n",
       "    <tr style=\"text-align: right;\">\n",
       "      <th>user_id</th>\n",
       "      <th>1000</th>\n",
       "      <th>1001</th>\n",
       "      <th>1002</th>\n",
       "      <th>1003</th>\n",
       "      <th>1004</th>\n",
       "      <th>1005</th>\n",
       "      <th>1006</th>\n",
       "      <th>1007</th>\n",
       "      <th>1008</th>\n",
       "      <th>1009</th>\n",
       "      <th>1010</th>\n",
       "      <th>1011</th>\n",
       "      <th>1012</th>\n",
       "      <th>1013</th>\n",
       "      <th>1014</th>\n",
       "    </tr>\n",
       "  </thead>\n",
       "  <tbody>\n",
       "    <tr>\n",
       "      <th>internet_count_1</th>\n",
       "      <td>NaN</td>\n",
       "      <td>NaN</td>\n",
       "      <td>NaN</td>\n",
       "      <td>NaN</td>\n",
       "      <td>NaN</td>\n",
       "      <td>6.00</td>\n",
       "      <td>NaN</td>\n",
       "      <td>NaN</td>\n",
       "      <td>NaN</td>\n",
       "      <td>NaN</td>\n",
       "      <td>NaN</td>\n",
       "      <td>NaN</td>\n",
       "      <td>NaN</td>\n",
       "      <td>NaN</td>\n",
       "      <td>NaN</td>\n",
       "    </tr>\n",
       "    <tr>\n",
       "      <th>internet_count_2</th>\n",
       "      <td>NaN</td>\n",
       "      <td>NaN</td>\n",
       "      <td>NaN</td>\n",
       "      <td>NaN</td>\n",
       "      <td>NaN</td>\n",
       "      <td>24.00</td>\n",
       "      <td>8.00</td>\n",
       "      <td>NaN</td>\n",
       "      <td>NaN</td>\n",
       "      <td>NaN</td>\n",
       "      <td>NaN</td>\n",
       "      <td>NaN</td>\n",
       "      <td>NaN</td>\n",
       "      <td>NaN</td>\n",
       "      <td>NaN</td>\n",
       "    </tr>\n",
       "    <tr>\n",
       "      <th>internet_count_3</th>\n",
       "      <td>NaN</td>\n",
       "      <td>NaN</td>\n",
       "      <td>NaN</td>\n",
       "      <td>NaN</td>\n",
       "      <td>NaN</td>\n",
       "      <td>28.00</td>\n",
       "      <td>52.00</td>\n",
       "      <td>NaN</td>\n",
       "      <td>NaN</td>\n",
       "      <td>22.00</td>\n",
       "      <td>NaN</td>\n",
       "      <td>26.00</td>\n",
       "      <td>6.00</td>\n",
       "      <td>NaN</td>\n",
       "      <td>NaN</td>\n",
       "    </tr>\n",
       "    <tr>\n",
       "      <th>internet_count_4</th>\n",
       "      <td>NaN</td>\n",
       "      <td>NaN</td>\n",
       "      <td>NaN</td>\n",
       "      <td>NaN</td>\n",
       "      <td>NaN</td>\n",
       "      <td>30.00</td>\n",
       "      <td>42.00</td>\n",
       "      <td>21.00</td>\n",
       "      <td>NaN</td>\n",
       "      <td>49.00</td>\n",
       "      <td>NaN</td>\n",
       "      <td>60.00</td>\n",
       "      <td>59.00</td>\n",
       "      <td>NaN</td>\n",
       "      <td>NaN</td>\n",
       "    </tr>\n",
       "    <tr>\n",
       "      <th>internet_count_5</th>\n",
       "      <td>5.00</td>\n",
       "      <td>NaN</td>\n",
       "      <td>NaN</td>\n",
       "      <td>NaN</td>\n",
       "      <td>24.00</td>\n",
       "      <td>25.00</td>\n",
       "      <td>46.00</td>\n",
       "      <td>60.00</td>\n",
       "      <td>NaN</td>\n",
       "      <td>40.00</td>\n",
       "      <td>NaN</td>\n",
       "      <td>64.00</td>\n",
       "      <td>75.00</td>\n",
       "      <td>NaN</td>\n",
       "      <td>43.00</td>\n",
       "    </tr>\n",
       "    <tr>\n",
       "      <th>internet_count_6</th>\n",
       "      <td>49.00</td>\n",
       "      <td>NaN</td>\n",
       "      <td>34.00</td>\n",
       "      <td>NaN</td>\n",
       "      <td>35.00</td>\n",
       "      <td>28.00</td>\n",
       "      <td>45.00</td>\n",
       "      <td>44.00</td>\n",
       "      <td>NaN</td>\n",
       "      <td>48.00</td>\n",
       "      <td>NaN</td>\n",
       "      <td>48.00</td>\n",
       "      <td>69.00</td>\n",
       "      <td>NaN</td>\n",
       "      <td>76.00</td>\n",
       "    </tr>\n",
       "    <tr>\n",
       "      <th>internet_count_7</th>\n",
       "      <td>29.00</td>\n",
       "      <td>NaN</td>\n",
       "      <td>58.00</td>\n",
       "      <td>NaN</td>\n",
       "      <td>35.00</td>\n",
       "      <td>21.00</td>\n",
       "      <td>58.00</td>\n",
       "      <td>61.00</td>\n",
       "      <td>NaN</td>\n",
       "      <td>68.00</td>\n",
       "      <td>NaN</td>\n",
       "      <td>57.00</td>\n",
       "      <td>74.00</td>\n",
       "      <td>NaN</td>\n",
       "      <td>79.00</td>\n",
       "    </tr>\n",
       "    <tr>\n",
       "      <th>internet_count_8</th>\n",
       "      <td>29.00</td>\n",
       "      <td>NaN</td>\n",
       "      <td>60.00</td>\n",
       "      <td>15.00</td>\n",
       "      <td>52.00</td>\n",
       "      <td>23.00</td>\n",
       "      <td>53.00</td>\n",
       "      <td>57.00</td>\n",
       "      <td>NaN</td>\n",
       "      <td>65.00</td>\n",
       "      <td>45.00</td>\n",
       "      <td>68.00</td>\n",
       "      <td>62.00</td>\n",
       "      <td>NaN</td>\n",
       "      <td>86.00</td>\n",
       "    </tr>\n",
       "    <tr>\n",
       "      <th>internet_count_9</th>\n",
       "      <td>27.00</td>\n",
       "      <td>NaN</td>\n",
       "      <td>56.00</td>\n",
       "      <td>22.00</td>\n",
       "      <td>37.00</td>\n",
       "      <td>24.00</td>\n",
       "      <td>50.00</td>\n",
       "      <td>45.00</td>\n",
       "      <td>NaN</td>\n",
       "      <td>54.00</td>\n",
       "      <td>66.00</td>\n",
       "      <td>70.00</td>\n",
       "      <td>64.00</td>\n",
       "      <td>NaN</td>\n",
       "      <td>78.00</td>\n",
       "    </tr>\n",
       "    <tr>\n",
       "      <th>internet_count_10</th>\n",
       "      <td>27.00</td>\n",
       "      <td>NaN</td>\n",
       "      <td>44.00</td>\n",
       "      <td>25.00</td>\n",
       "      <td>41.00</td>\n",
       "      <td>21.00</td>\n",
       "      <td>61.00</td>\n",
       "      <td>46.00</td>\n",
       "      <td>NaN</td>\n",
       "      <td>61.00</td>\n",
       "      <td>43.00</td>\n",
       "      <td>55.00</td>\n",
       "      <td>79.00</td>\n",
       "      <td>NaN</td>\n",
       "      <td>73.00</td>\n",
       "    </tr>\n",
       "    <tr>\n",
       "      <th>internet_count_11</th>\n",
       "      <td>24.00</td>\n",
       "      <td>55.00</td>\n",
       "      <td>55.00</td>\n",
       "      <td>21.00</td>\n",
       "      <td>36.00</td>\n",
       "      <td>30.00</td>\n",
       "      <td>37.00</td>\n",
       "      <td>52.00</td>\n",
       "      <td>NaN</td>\n",
       "      <td>48.00</td>\n",
       "      <td>56.00</td>\n",
       "      <td>81.00</td>\n",
       "      <td>70.00</td>\n",
       "      <td>21.00</td>\n",
       "      <td>78.00</td>\n",
       "    </tr>\n",
       "    <tr>\n",
       "      <th>internet_count_12</th>\n",
       "      <td>21.00</td>\n",
       "      <td>41.00</td>\n",
       "      <td>62.00</td>\n",
       "      <td>21.00</td>\n",
       "      <td>40.00</td>\n",
       "      <td>29.00</td>\n",
       "      <td>55.00</td>\n",
       "      <td>52.00</td>\n",
       "      <td>44.00</td>\n",
       "      <td>57.00</td>\n",
       "      <td>53.00</td>\n",
       "      <td>65.00</td>\n",
       "      <td>47.00</td>\n",
       "      <td>41.00</td>\n",
       "      <td>85.00</td>\n",
       "    </tr>\n",
       "    <tr>\n",
       "      <th>internet_sum_1</th>\n",
       "      <td>NaN</td>\n",
       "      <td>NaN</td>\n",
       "      <td>NaN</td>\n",
       "      <td>NaN</td>\n",
       "      <td>NaN</td>\n",
       "      <td>2,727.97</td>\n",
       "      <td>NaN</td>\n",
       "      <td>NaN</td>\n",
       "      <td>NaN</td>\n",
       "      <td>NaN</td>\n",
       "      <td>NaN</td>\n",
       "      <td>NaN</td>\n",
       "      <td>NaN</td>\n",
       "      <td>NaN</td>\n",
       "      <td>NaN</td>\n",
       "    </tr>\n",
       "    <tr>\n",
       "      <th>internet_sum_2</th>\n",
       "      <td>NaN</td>\n",
       "      <td>NaN</td>\n",
       "      <td>NaN</td>\n",
       "      <td>NaN</td>\n",
       "      <td>NaN</td>\n",
       "      <td>7,383.93</td>\n",
       "      <td>1,392.15</td>\n",
       "      <td>NaN</td>\n",
       "      <td>NaN</td>\n",
       "      <td>NaN</td>\n",
       "      <td>NaN</td>\n",
       "      <td>NaN</td>\n",
       "      <td>NaN</td>\n",
       "      <td>NaN</td>\n",
       "      <td>NaN</td>\n",
       "    </tr>\n",
       "    <tr>\n",
       "      <th>internet_sum_3</th>\n",
       "      <td>NaN</td>\n",
       "      <td>NaN</td>\n",
       "      <td>NaN</td>\n",
       "      <td>NaN</td>\n",
       "      <td>NaN</td>\n",
       "      <td>11,104.25</td>\n",
       "      <td>17,287.93</td>\n",
       "      <td>NaN</td>\n",
       "      <td>NaN</td>\n",
       "      <td>7,350.15</td>\n",
       "      <td>NaN</td>\n",
       "      <td>5,890.00</td>\n",
       "      <td>2,412.34</td>\n",
       "      <td>NaN</td>\n",
       "      <td>NaN</td>\n",
       "    </tr>\n",
       "    <tr>\n",
       "      <th>internet_sum_4</th>\n",
       "      <td>NaN</td>\n",
       "      <td>NaN</td>\n",
       "      <td>NaN</td>\n",
       "      <td>NaN</td>\n",
       "      <td>NaN</td>\n",
       "      <td>9,351.72</td>\n",
       "      <td>13,936.70</td>\n",
       "      <td>8,022.76</td>\n",
       "      <td>NaN</td>\n",
       "      <td>14,709.22</td>\n",
       "      <td>NaN</td>\n",
       "      <td>18,076.35</td>\n",
       "      <td>16,617.68</td>\n",
       "      <td>NaN</td>\n",
       "      <td>NaN</td>\n",
       "    </tr>\n",
       "    <tr>\n",
       "      <th>internet_sum_5</th>\n",
       "      <td>2,253.49</td>\n",
       "      <td>NaN</td>\n",
       "      <td>NaN</td>\n",
       "      <td>NaN</td>\n",
       "      <td>13,403.98</td>\n",
       "      <td>7,865.53</td>\n",
       "      <td>12,965.41</td>\n",
       "      <td>17,687.27</td>\n",
       "      <td>NaN</td>\n",
       "      <td>13,371.89</td>\n",
       "      <td>NaN</td>\n",
       "      <td>18,383.41</td>\n",
       "      <td>26,607.35</td>\n",
       "      <td>NaN</td>\n",
       "      <td>13,049.11</td>\n",
       "    </tr>\n",
       "    <tr>\n",
       "      <th>internet_sum_6</th>\n",
       "      <td>23,233.77</td>\n",
       "      <td>NaN</td>\n",
       "      <td>10,856.82</td>\n",
       "      <td>NaN</td>\n",
       "      <td>17,600.02</td>\n",
       "      <td>9,863.19</td>\n",
       "      <td>12,371.66</td>\n",
       "      <td>13,654.52</td>\n",
       "      <td>NaN</td>\n",
       "      <td>16,067.51</td>\n",
       "      <td>NaN</td>\n",
       "      <td>17,364.24</td>\n",
       "      <td>24,741.16</td>\n",
       "      <td>NaN</td>\n",
       "      <td>25,040.50</td>\n",
       "    </tr>\n",
       "    <tr>\n",
       "      <th>internet_sum_7</th>\n",
       "      <td>14,003.64</td>\n",
       "      <td>NaN</td>\n",
       "      <td>17,580.10</td>\n",
       "      <td>NaN</td>\n",
       "      <td>22,229.58</td>\n",
       "      <td>7,694.56</td>\n",
       "      <td>19,977.60</td>\n",
       "      <td>15,656.66</td>\n",
       "      <td>NaN</td>\n",
       "      <td>24,725.84</td>\n",
       "      <td>NaN</td>\n",
       "      <td>18,708.77</td>\n",
       "      <td>23,090.75</td>\n",
       "      <td>NaN</td>\n",
       "      <td>27,823.59</td>\n",
       "    </tr>\n",
       "    <tr>\n",
       "      <th>internet_sum_8</th>\n",
       "      <td>14,055.93</td>\n",
       "      <td>NaN</td>\n",
       "      <td>20,319.26</td>\n",
       "      <td>8,565.21</td>\n",
       "      <td>28,584.37</td>\n",
       "      <td>7,543.63</td>\n",
       "      <td>19,303.71</td>\n",
       "      <td>20,700.40</td>\n",
       "      <td>NaN</td>\n",
       "      <td>23,708.41</td>\n",
       "      <td>14,463.75</td>\n",
       "      <td>21,497.25</td>\n",
       "      <td>21,850.21</td>\n",
       "      <td>NaN</td>\n",
       "      <td>26,025.44</td>\n",
       "    </tr>\n",
       "    <tr>\n",
       "      <th>internet_sum_9</th>\n",
       "      <td>14,568.91</td>\n",
       "      <td>NaN</td>\n",
       "      <td>16,691.08</td>\n",
       "      <td>12,468.87</td>\n",
       "      <td>15,109.03</td>\n",
       "      <td>7,016.46</td>\n",
       "      <td>15,521.53</td>\n",
       "      <td>12,613.05</td>\n",
       "      <td>NaN</td>\n",
       "      <td>21,932.59</td>\n",
       "      <td>16,151.87</td>\n",
       "      <td>21,739.69</td>\n",
       "      <td>19,380.62</td>\n",
       "      <td>NaN</td>\n",
       "      <td>25,740.52</td>\n",
       "    </tr>\n",
       "    <tr>\n",
       "      <th>internet_sum_10</th>\n",
       "      <td>14,702.49</td>\n",
       "      <td>NaN</td>\n",
       "      <td>13,888.25</td>\n",
       "      <td>14,768.14</td>\n",
       "      <td>18,475.44</td>\n",
       "      <td>7,800.93</td>\n",
       "      <td>19,696.60</td>\n",
       "      <td>14,427.33</td>\n",
       "      <td>NaN</td>\n",
       "      <td>20,081.73</td>\n",
       "      <td>14,610.93</td>\n",
       "      <td>18,269.92</td>\n",
       "      <td>29,071.87</td>\n",
       "      <td>NaN</td>\n",
       "      <td>22,539.37</td>\n",
       "    </tr>\n",
       "    <tr>\n",
       "      <th>internet_sum_11</th>\n",
       "      <td>14,756.47</td>\n",
       "      <td>18,429.34</td>\n",
       "      <td>18,587.28</td>\n",
       "      <td>11,356.89</td>\n",
       "      <td>15,616.02</td>\n",
       "      <td>12,666.95</td>\n",
       "      <td>13,259.41</td>\n",
       "      <td>16,369.61</td>\n",
       "      <td>NaN</td>\n",
       "      <td>16,845.85</td>\n",
       "      <td>19,236.73</td>\n",
       "      <td>25,300.98</td>\n",
       "      <td>22,517.95</td>\n",
       "      <td>9,780.03</td>\n",
       "      <td>25,107.02</td>\n",
       "    </tr>\n",
       "    <tr>\n",
       "      <th>internet_sum_12</th>\n",
       "      <td>9,817.61</td>\n",
       "      <td>14,036.66</td>\n",
       "      <td>18,113.73</td>\n",
       "      <td>10,121.53</td>\n",
       "      <td>18,021.04</td>\n",
       "      <td>8,668.19</td>\n",
       "      <td>18,476.11</td>\n",
       "      <td>12,494.07</td>\n",
       "      <td>13,217.14</td>\n",
       "      <td>18,618.02</td>\n",
       "      <td>19,207.37</td>\n",
       "      <td>22,870.72</td>\n",
       "      <td>14,005.84</td>\n",
       "      <td>20,737.13</td>\n",
       "      <td>25,420.71</td>\n",
       "    </tr>\n",
       "  </tbody>\n",
       "</table>\n",
       "</div>"
      ],
      "text/plain": [
       "user_id                1000      1001      1002      1003      1004      1005  \\\n",
       "internet_count_1        NaN       NaN       NaN       NaN       NaN      6.00   \n",
       "internet_count_2        NaN       NaN       NaN       NaN       NaN     24.00   \n",
       "internet_count_3        NaN       NaN       NaN       NaN       NaN     28.00   \n",
       "internet_count_4        NaN       NaN       NaN       NaN       NaN     30.00   \n",
       "internet_count_5       5.00       NaN       NaN       NaN     24.00     25.00   \n",
       "internet_count_6      49.00       NaN     34.00       NaN     35.00     28.00   \n",
       "internet_count_7      29.00       NaN     58.00       NaN     35.00     21.00   \n",
       "internet_count_8      29.00       NaN     60.00     15.00     52.00     23.00   \n",
       "internet_count_9      27.00       NaN     56.00     22.00     37.00     24.00   \n",
       "internet_count_10     27.00       NaN     44.00     25.00     41.00     21.00   \n",
       "internet_count_11     24.00     55.00     55.00     21.00     36.00     30.00   \n",
       "internet_count_12     21.00     41.00     62.00     21.00     40.00     29.00   \n",
       "internet_sum_1          NaN       NaN       NaN       NaN       NaN  2,727.97   \n",
       "internet_sum_2          NaN       NaN       NaN       NaN       NaN  7,383.93   \n",
       "internet_sum_3          NaN       NaN       NaN       NaN       NaN 11,104.25   \n",
       "internet_sum_4          NaN       NaN       NaN       NaN       NaN  9,351.72   \n",
       "internet_sum_5     2,253.49       NaN       NaN       NaN 13,403.98  7,865.53   \n",
       "internet_sum_6    23,233.77       NaN 10,856.82       NaN 17,600.02  9,863.19   \n",
       "internet_sum_7    14,003.64       NaN 17,580.10       NaN 22,229.58  7,694.56   \n",
       "internet_sum_8    14,055.93       NaN 20,319.26  8,565.21 28,584.37  7,543.63   \n",
       "internet_sum_9    14,568.91       NaN 16,691.08 12,468.87 15,109.03  7,016.46   \n",
       "internet_sum_10   14,702.49       NaN 13,888.25 14,768.14 18,475.44  7,800.93   \n",
       "internet_sum_11   14,756.47 18,429.34 18,587.28 11,356.89 15,616.02 12,666.95   \n",
       "internet_sum_12    9,817.61 14,036.66 18,113.73 10,121.53 18,021.04  8,668.19   \n",
       "\n",
       "user_id                1006      1007      1008      1009      1010      1011  \\\n",
       "internet_count_1        NaN       NaN       NaN       NaN       NaN       NaN   \n",
       "internet_count_2       8.00       NaN       NaN       NaN       NaN       NaN   \n",
       "internet_count_3      52.00       NaN       NaN     22.00       NaN     26.00   \n",
       "internet_count_4      42.00     21.00       NaN     49.00       NaN     60.00   \n",
       "internet_count_5      46.00     60.00       NaN     40.00       NaN     64.00   \n",
       "internet_count_6      45.00     44.00       NaN     48.00       NaN     48.00   \n",
       "internet_count_7      58.00     61.00       NaN     68.00       NaN     57.00   \n",
       "internet_count_8      53.00     57.00       NaN     65.00     45.00     68.00   \n",
       "internet_count_9      50.00     45.00       NaN     54.00     66.00     70.00   \n",
       "internet_count_10     61.00     46.00       NaN     61.00     43.00     55.00   \n",
       "internet_count_11     37.00     52.00       NaN     48.00     56.00     81.00   \n",
       "internet_count_12     55.00     52.00     44.00     57.00     53.00     65.00   \n",
       "internet_sum_1          NaN       NaN       NaN       NaN       NaN       NaN   \n",
       "internet_sum_2     1,392.15       NaN       NaN       NaN       NaN       NaN   \n",
       "internet_sum_3    17,287.93       NaN       NaN  7,350.15       NaN  5,890.00   \n",
       "internet_sum_4    13,936.70  8,022.76       NaN 14,709.22       NaN 18,076.35   \n",
       "internet_sum_5    12,965.41 17,687.27       NaN 13,371.89       NaN 18,383.41   \n",
       "internet_sum_6    12,371.66 13,654.52       NaN 16,067.51       NaN 17,364.24   \n",
       "internet_sum_7    19,977.60 15,656.66       NaN 24,725.84       NaN 18,708.77   \n",
       "internet_sum_8    19,303.71 20,700.40       NaN 23,708.41 14,463.75 21,497.25   \n",
       "internet_sum_9    15,521.53 12,613.05       NaN 21,932.59 16,151.87 21,739.69   \n",
       "internet_sum_10   19,696.60 14,427.33       NaN 20,081.73 14,610.93 18,269.92   \n",
       "internet_sum_11   13,259.41 16,369.61       NaN 16,845.85 19,236.73 25,300.98   \n",
       "internet_sum_12   18,476.11 12,494.07 13,217.14 18,618.02 19,207.37 22,870.72   \n",
       "\n",
       "user_id                1012      1013      1014  \n",
       "internet_count_1        NaN       NaN       NaN  \n",
       "internet_count_2        NaN       NaN       NaN  \n",
       "internet_count_3       6.00       NaN       NaN  \n",
       "internet_count_4      59.00       NaN       NaN  \n",
       "internet_count_5      75.00       NaN     43.00  \n",
       "internet_count_6      69.00       NaN     76.00  \n",
       "internet_count_7      74.00       NaN     79.00  \n",
       "internet_count_8      62.00       NaN     86.00  \n",
       "internet_count_9      64.00       NaN     78.00  \n",
       "internet_count_10     79.00       NaN     73.00  \n",
       "internet_count_11     70.00     21.00     78.00  \n",
       "internet_count_12     47.00     41.00     85.00  \n",
       "internet_sum_1          NaN       NaN       NaN  \n",
       "internet_sum_2          NaN       NaN       NaN  \n",
       "internet_sum_3     2,412.34       NaN       NaN  \n",
       "internet_sum_4    16,617.68       NaN       NaN  \n",
       "internet_sum_5    26,607.35       NaN 13,049.11  \n",
       "internet_sum_6    24,741.16       NaN 25,040.50  \n",
       "internet_sum_7    23,090.75       NaN 27,823.59  \n",
       "internet_sum_8    21,850.21       NaN 26,025.44  \n",
       "internet_sum_9    19,380.62       NaN 25,740.52  \n",
       "internet_sum_10   29,071.87       NaN 22,539.37  \n",
       "internet_sum_11   22,517.95  9,780.03 25,107.02  \n",
       "internet_sum_12   14,005.84 20,737.13 25,420.71  "
      ]
     },
     "execution_count": 64,
     "metadata": {},
     "output_type": "execute_result"
    }
   ],
   "source": [
    "internet_per_month.head(15).T"
   ]
  },
  {
   "cell_type": "markdown",
   "id": "97fc65a4",
   "metadata": {},
   "source": [
    "**Итог по таблице `internet_per_month`**\n",
    "\n",
    "Форма таблицы приведена к желаемой. Данные вычислены корректно."
   ]
  },
  {
   "cell_type": "markdown",
   "id": "ae5177c4",
   "metadata": {},
   "source": [
    "### Количество отправленных сообщений по месяцам"
   ]
  },
  {
   "cell_type": "markdown",
   "id": "1ff7a27c",
   "metadata": {},
   "source": [
    "С помощью метода `pivot_table()` создадим сводную таблицу, учитывающую количество отправленных сообщений по месяцам для каждого пользователя."
   ]
  },
  {
   "cell_type": "code",
   "execution_count": 65,
   "id": "ff39fe4f",
   "metadata": {},
   "outputs": [],
   "source": [
    "messages_per_month = messages.pivot_table(index='user_id', \n",
    "                                          columns=messages.message_date.dt.month, \n",
    "                                          values='id', \n",
    "                                          aggfunc='count')"
   ]
  },
  {
   "cell_type": "markdown",
   "id": "2e53fdf1",
   "metadata": {},
   "source": [
    "Проверим результат."
   ]
  },
  {
   "cell_type": "code",
   "execution_count": 66,
   "id": "e9a8ef8f",
   "metadata": {},
   "outputs": [
    {
     "data": {
      "text/html": [
       "<div>\n",
       "<style scoped>\n",
       "    .dataframe tbody tr th:only-of-type {\n",
       "        vertical-align: middle;\n",
       "    }\n",
       "\n",
       "    .dataframe tbody tr th {\n",
       "        vertical-align: top;\n",
       "    }\n",
       "\n",
       "    .dataframe thead th {\n",
       "        text-align: right;\n",
       "    }\n",
       "</style>\n",
       "<table border=\"1\" class=\"dataframe\">\n",
       "  <thead>\n",
       "    <tr style=\"text-align: right;\">\n",
       "      <th>user_id</th>\n",
       "      <th>1000</th>\n",
       "      <th>1002</th>\n",
       "      <th>1003</th>\n",
       "      <th>1004</th>\n",
       "      <th>1005</th>\n",
       "      <th>1007</th>\n",
       "      <th>1008</th>\n",
       "      <th>1009</th>\n",
       "      <th>1011</th>\n",
       "      <th>1012</th>\n",
       "      <th>1013</th>\n",
       "      <th>1014</th>\n",
       "      <th>1015</th>\n",
       "      <th>1016</th>\n",
       "      <th>1018</th>\n",
       "    </tr>\n",
       "    <tr>\n",
       "      <th>message_date</th>\n",
       "      <th></th>\n",
       "      <th></th>\n",
       "      <th></th>\n",
       "      <th></th>\n",
       "      <th></th>\n",
       "      <th></th>\n",
       "      <th></th>\n",
       "      <th></th>\n",
       "      <th></th>\n",
       "      <th></th>\n",
       "      <th></th>\n",
       "      <th></th>\n",
       "      <th></th>\n",
       "      <th></th>\n",
       "      <th></th>\n",
       "    </tr>\n",
       "  </thead>\n",
       "  <tbody>\n",
       "    <tr>\n",
       "      <th>1</th>\n",
       "      <td>NaN</td>\n",
       "      <td>NaN</td>\n",
       "      <td>NaN</td>\n",
       "      <td>NaN</td>\n",
       "      <td>7.00</td>\n",
       "      <td>NaN</td>\n",
       "      <td>NaN</td>\n",
       "      <td>NaN</td>\n",
       "      <td>NaN</td>\n",
       "      <td>NaN</td>\n",
       "      <td>NaN</td>\n",
       "      <td>NaN</td>\n",
       "      <td>NaN</td>\n",
       "      <td>NaN</td>\n",
       "      <td>NaN</td>\n",
       "    </tr>\n",
       "    <tr>\n",
       "      <th>2</th>\n",
       "      <td>NaN</td>\n",
       "      <td>NaN</td>\n",
       "      <td>NaN</td>\n",
       "      <td>NaN</td>\n",
       "      <td>38.00</td>\n",
       "      <td>NaN</td>\n",
       "      <td>NaN</td>\n",
       "      <td>NaN</td>\n",
       "      <td>NaN</td>\n",
       "      <td>NaN</td>\n",
       "      <td>NaN</td>\n",
       "      <td>NaN</td>\n",
       "      <td>NaN</td>\n",
       "      <td>NaN</td>\n",
       "      <td>NaN</td>\n",
       "    </tr>\n",
       "    <tr>\n",
       "      <th>3</th>\n",
       "      <td>NaN</td>\n",
       "      <td>NaN</td>\n",
       "      <td>NaN</td>\n",
       "      <td>NaN</td>\n",
       "      <td>56.00</td>\n",
       "      <td>NaN</td>\n",
       "      <td>NaN</td>\n",
       "      <td>2.00</td>\n",
       "      <td>4.00</td>\n",
       "      <td>2.00</td>\n",
       "      <td>NaN</td>\n",
       "      <td>NaN</td>\n",
       "      <td>NaN</td>\n",
       "      <td>NaN</td>\n",
       "      <td>NaN</td>\n",
       "    </tr>\n",
       "    <tr>\n",
       "      <th>4</th>\n",
       "      <td>NaN</td>\n",
       "      <td>NaN</td>\n",
       "      <td>NaN</td>\n",
       "      <td>NaN</td>\n",
       "      <td>41.00</td>\n",
       "      <td>11.00</td>\n",
       "      <td>NaN</td>\n",
       "      <td>14.00</td>\n",
       "      <td>7.00</td>\n",
       "      <td>21.00</td>\n",
       "      <td>NaN</td>\n",
       "      <td>NaN</td>\n",
       "      <td>3.00</td>\n",
       "      <td>NaN</td>\n",
       "      <td>34.00</td>\n",
       "    </tr>\n",
       "    <tr>\n",
       "      <th>5</th>\n",
       "      <td>22.00</td>\n",
       "      <td>NaN</td>\n",
       "      <td>NaN</td>\n",
       "      <td>95.00</td>\n",
       "      <td>42.00</td>\n",
       "      <td>39.00</td>\n",
       "      <td>NaN</td>\n",
       "      <td>7.00</td>\n",
       "      <td>13.00</td>\n",
       "      <td>10.00</td>\n",
       "      <td>NaN</td>\n",
       "      <td>34.00</td>\n",
       "      <td>73.00</td>\n",
       "      <td>NaN</td>\n",
       "      <td>30.00</td>\n",
       "    </tr>\n",
       "    <tr>\n",
       "      <th>6</th>\n",
       "      <td>60.00</td>\n",
       "      <td>4.00</td>\n",
       "      <td>NaN</td>\n",
       "      <td>134.00</td>\n",
       "      <td>47.00</td>\n",
       "      <td>26.00</td>\n",
       "      <td>NaN</td>\n",
       "      <td>14.00</td>\n",
       "      <td>13.00</td>\n",
       "      <td>15.00</td>\n",
       "      <td>NaN</td>\n",
       "      <td>48.00</td>\n",
       "      <td>80.00</td>\n",
       "      <td>NaN</td>\n",
       "      <td>24.00</td>\n",
       "    </tr>\n",
       "    <tr>\n",
       "      <th>7</th>\n",
       "      <td>75.00</td>\n",
       "      <td>11.00</td>\n",
       "      <td>NaN</td>\n",
       "      <td>181.00</td>\n",
       "      <td>56.00</td>\n",
       "      <td>26.00</td>\n",
       "      <td>NaN</td>\n",
       "      <td>14.00</td>\n",
       "      <td>13.00</td>\n",
       "      <td>12.00</td>\n",
       "      <td>NaN</td>\n",
       "      <td>39.00</td>\n",
       "      <td>90.00</td>\n",
       "      <td>NaN</td>\n",
       "      <td>25.00</td>\n",
       "    </tr>\n",
       "    <tr>\n",
       "      <th>8</th>\n",
       "      <td>81.00</td>\n",
       "      <td>13.00</td>\n",
       "      <td>37.00</td>\n",
       "      <td>151.00</td>\n",
       "      <td>64.00</td>\n",
       "      <td>27.00</td>\n",
       "      <td>NaN</td>\n",
       "      <td>9.00</td>\n",
       "      <td>15.00</td>\n",
       "      <td>23.00</td>\n",
       "      <td>NaN</td>\n",
       "      <td>43.00</td>\n",
       "      <td>68.00</td>\n",
       "      <td>NaN</td>\n",
       "      <td>20.00</td>\n",
       "    </tr>\n",
       "    <tr>\n",
       "      <th>9</th>\n",
       "      <td>57.00</td>\n",
       "      <td>4.00</td>\n",
       "      <td>91.00</td>\n",
       "      <td>146.00</td>\n",
       "      <td>52.00</td>\n",
       "      <td>31.00</td>\n",
       "      <td>NaN</td>\n",
       "      <td>12.00</td>\n",
       "      <td>10.00</td>\n",
       "      <td>14.00</td>\n",
       "      <td>NaN</td>\n",
       "      <td>48.00</td>\n",
       "      <td>68.00</td>\n",
       "      <td>NaN</td>\n",
       "      <td>21.00</td>\n",
       "    </tr>\n",
       "    <tr>\n",
       "      <th>10</th>\n",
       "      <td>73.00</td>\n",
       "      <td>10.00</td>\n",
       "      <td>83.00</td>\n",
       "      <td>165.00</td>\n",
       "      <td>44.00</td>\n",
       "      <td>18.00</td>\n",
       "      <td>NaN</td>\n",
       "      <td>15.00</td>\n",
       "      <td>17.00</td>\n",
       "      <td>13.00</td>\n",
       "      <td>NaN</td>\n",
       "      <td>51.00</td>\n",
       "      <td>68.00</td>\n",
       "      <td>NaN</td>\n",
       "      <td>26.00</td>\n",
       "    </tr>\n",
       "    <tr>\n",
       "      <th>11</th>\n",
       "      <td>58.00</td>\n",
       "      <td>16.00</td>\n",
       "      <td>94.00</td>\n",
       "      <td>158.00</td>\n",
       "      <td>51.00</td>\n",
       "      <td>21.00</td>\n",
       "      <td>NaN</td>\n",
       "      <td>11.00</td>\n",
       "      <td>12.00</td>\n",
       "      <td>25.00</td>\n",
       "      <td>17.00</td>\n",
       "      <td>36.00</td>\n",
       "      <td>61.00</td>\n",
       "      <td>39.00</td>\n",
       "      <td>17.00</td>\n",
       "    </tr>\n",
       "    <tr>\n",
       "      <th>12</th>\n",
       "      <td>70.00</td>\n",
       "      <td>12.00</td>\n",
       "      <td>75.00</td>\n",
       "      <td>162.00</td>\n",
       "      <td>54.00</td>\n",
       "      <td>26.00</td>\n",
       "      <td>56.00</td>\n",
       "      <td>12.00</td>\n",
       "      <td>6.00</td>\n",
       "      <td>15.00</td>\n",
       "      <td>25.00</td>\n",
       "      <td>53.00</td>\n",
       "      <td>74.00</td>\n",
       "      <td>103.00</td>\n",
       "      <td>37.00</td>\n",
       "    </tr>\n",
       "  </tbody>\n",
       "</table>\n",
       "</div>"
      ],
      "text/plain": [
       "user_id       1000  1002  1003   1004  1005  1007  1008  1009  1011  1012  \\\n",
       "message_date                                                                \n",
       "1              NaN   NaN   NaN    NaN  7.00   NaN   NaN   NaN   NaN   NaN   \n",
       "2              NaN   NaN   NaN    NaN 38.00   NaN   NaN   NaN   NaN   NaN   \n",
       "3              NaN   NaN   NaN    NaN 56.00   NaN   NaN  2.00  4.00  2.00   \n",
       "4              NaN   NaN   NaN    NaN 41.00 11.00   NaN 14.00  7.00 21.00   \n",
       "5            22.00   NaN   NaN  95.00 42.00 39.00   NaN  7.00 13.00 10.00   \n",
       "6            60.00  4.00   NaN 134.00 47.00 26.00   NaN 14.00 13.00 15.00   \n",
       "7            75.00 11.00   NaN 181.00 56.00 26.00   NaN 14.00 13.00 12.00   \n",
       "8            81.00 13.00 37.00 151.00 64.00 27.00   NaN  9.00 15.00 23.00   \n",
       "9            57.00  4.00 91.00 146.00 52.00 31.00   NaN 12.00 10.00 14.00   \n",
       "10           73.00 10.00 83.00 165.00 44.00 18.00   NaN 15.00 17.00 13.00   \n",
       "11           58.00 16.00 94.00 158.00 51.00 21.00   NaN 11.00 12.00 25.00   \n",
       "12           70.00 12.00 75.00 162.00 54.00 26.00 56.00 12.00  6.00 15.00   \n",
       "\n",
       "user_id       1013  1014  1015   1016  1018  \n",
       "message_date                                 \n",
       "1              NaN   NaN   NaN    NaN   NaN  \n",
       "2              NaN   NaN   NaN    NaN   NaN  \n",
       "3              NaN   NaN   NaN    NaN   NaN  \n",
       "4              NaN   NaN  3.00    NaN 34.00  \n",
       "5              NaN 34.00 73.00    NaN 30.00  \n",
       "6              NaN 48.00 80.00    NaN 24.00  \n",
       "7              NaN 39.00 90.00    NaN 25.00  \n",
       "8              NaN 43.00 68.00    NaN 20.00  \n",
       "9              NaN 48.00 68.00    NaN 21.00  \n",
       "10             NaN 51.00 68.00    NaN 26.00  \n",
       "11           17.00 36.00 61.00  39.00 17.00  \n",
       "12           25.00 53.00 74.00 103.00 37.00  "
      ]
     },
     "execution_count": 66,
     "metadata": {},
     "output_type": "execute_result"
    }
   ],
   "source": [
    "messages_per_month.head(15).T"
   ]
  },
  {
   "cell_type": "code",
   "execution_count": 67,
   "id": "d39afc6f",
   "metadata": {},
   "outputs": [
    {
     "name": "stdout",
     "output_type": "stream",
     "text": [
      "<class 'pandas.core.frame.DataFrame'>\n",
      "Int64Index: 426 entries, 1000 to 1499\n",
      "Data columns (total 12 columns):\n",
      " #   Column  Non-Null Count  Dtype  \n",
      "---  ------  --------------  -----  \n",
      " 0   1       38 non-null     float64\n",
      " 1   2       66 non-null     float64\n",
      " 2   3       94 non-null     float64\n",
      " 3   4       135 non-null    float64\n",
      " 4   5       174 non-null    float64\n",
      " 5   6       209 non-null    float64\n",
      " 6   7       247 non-null    float64\n",
      " 7   8       292 non-null    float64\n",
      " 8   9       318 non-null    float64\n",
      " 9   10      357 non-null    float64\n",
      " 10  11      383 non-null    float64\n",
      " 11  12      404 non-null    float64\n",
      "dtypes: float64(12)\n",
      "memory usage: 43.3 KB\n"
     ]
    }
   ],
   "source": [
    "messages_per_month.info()"
   ]
  },
  {
   "cell_type": "markdown",
   "id": "8e0d5c7e",
   "metadata": {},
   "source": [
    "Приведем наименования столбцов к формату, отражающему смысл содержащихся данных."
   ]
  },
  {
   "cell_type": "markdown",
   "id": "5dea937e",
   "metadata": {},
   "source": [
    "Отредактируем функцию `rename_col_24()` и применим к таблице `messages_per_month`."
   ]
  },
  {
   "cell_type": "code",
   "execution_count": 68,
   "id": "e2168867",
   "metadata": {},
   "outputs": [],
   "source": [
    "def rename_col_12(df, name):\n",
    "    \n",
    "    df_columns = []\n",
    "    for col in df.columns:\n",
    "        column = '_'.join([name, str(col)])\n",
    "        df_columns.append(column)\n",
    "    df.columns = df_columns"
   ]
  },
  {
   "cell_type": "code",
   "execution_count": 69,
   "id": "703fb851",
   "metadata": {},
   "outputs": [],
   "source": [
    "rename_col_12(messages_per_month, 'messages')"
   ]
  },
  {
   "cell_type": "markdown",
   "id": "88a23b36",
   "metadata": {},
   "source": [
    "Проверим результат."
   ]
  },
  {
   "cell_type": "code",
   "execution_count": 70,
   "id": "4fb6787f",
   "metadata": {},
   "outputs": [
    {
     "data": {
      "text/html": [
       "<div>\n",
       "<style scoped>\n",
       "    .dataframe tbody tr th:only-of-type {\n",
       "        vertical-align: middle;\n",
       "    }\n",
       "\n",
       "    .dataframe tbody tr th {\n",
       "        vertical-align: top;\n",
       "    }\n",
       "\n",
       "    .dataframe thead th {\n",
       "        text-align: right;\n",
       "    }\n",
       "</style>\n",
       "<table border=\"1\" class=\"dataframe\">\n",
       "  <thead>\n",
       "    <tr style=\"text-align: right;\">\n",
       "      <th>user_id</th>\n",
       "      <th>1000</th>\n",
       "      <th>1002</th>\n",
       "      <th>1003</th>\n",
       "      <th>1004</th>\n",
       "      <th>1005</th>\n",
       "      <th>1007</th>\n",
       "      <th>1008</th>\n",
       "      <th>1009</th>\n",
       "      <th>1011</th>\n",
       "      <th>1012</th>\n",
       "      <th>1013</th>\n",
       "      <th>1014</th>\n",
       "      <th>1015</th>\n",
       "      <th>1016</th>\n",
       "      <th>1018</th>\n",
       "    </tr>\n",
       "  </thead>\n",
       "  <tbody>\n",
       "    <tr>\n",
       "      <th>messages_1</th>\n",
       "      <td>NaN</td>\n",
       "      <td>NaN</td>\n",
       "      <td>NaN</td>\n",
       "      <td>NaN</td>\n",
       "      <td>7.00</td>\n",
       "      <td>NaN</td>\n",
       "      <td>NaN</td>\n",
       "      <td>NaN</td>\n",
       "      <td>NaN</td>\n",
       "      <td>NaN</td>\n",
       "      <td>NaN</td>\n",
       "      <td>NaN</td>\n",
       "      <td>NaN</td>\n",
       "      <td>NaN</td>\n",
       "      <td>NaN</td>\n",
       "    </tr>\n",
       "    <tr>\n",
       "      <th>messages_2</th>\n",
       "      <td>NaN</td>\n",
       "      <td>NaN</td>\n",
       "      <td>NaN</td>\n",
       "      <td>NaN</td>\n",
       "      <td>38.00</td>\n",
       "      <td>NaN</td>\n",
       "      <td>NaN</td>\n",
       "      <td>NaN</td>\n",
       "      <td>NaN</td>\n",
       "      <td>NaN</td>\n",
       "      <td>NaN</td>\n",
       "      <td>NaN</td>\n",
       "      <td>NaN</td>\n",
       "      <td>NaN</td>\n",
       "      <td>NaN</td>\n",
       "    </tr>\n",
       "    <tr>\n",
       "      <th>messages_3</th>\n",
       "      <td>NaN</td>\n",
       "      <td>NaN</td>\n",
       "      <td>NaN</td>\n",
       "      <td>NaN</td>\n",
       "      <td>56.00</td>\n",
       "      <td>NaN</td>\n",
       "      <td>NaN</td>\n",
       "      <td>2.00</td>\n",
       "      <td>4.00</td>\n",
       "      <td>2.00</td>\n",
       "      <td>NaN</td>\n",
       "      <td>NaN</td>\n",
       "      <td>NaN</td>\n",
       "      <td>NaN</td>\n",
       "      <td>NaN</td>\n",
       "    </tr>\n",
       "    <tr>\n",
       "      <th>messages_4</th>\n",
       "      <td>NaN</td>\n",
       "      <td>NaN</td>\n",
       "      <td>NaN</td>\n",
       "      <td>NaN</td>\n",
       "      <td>41.00</td>\n",
       "      <td>11.00</td>\n",
       "      <td>NaN</td>\n",
       "      <td>14.00</td>\n",
       "      <td>7.00</td>\n",
       "      <td>21.00</td>\n",
       "      <td>NaN</td>\n",
       "      <td>NaN</td>\n",
       "      <td>3.00</td>\n",
       "      <td>NaN</td>\n",
       "      <td>34.00</td>\n",
       "    </tr>\n",
       "    <tr>\n",
       "      <th>messages_5</th>\n",
       "      <td>22.00</td>\n",
       "      <td>NaN</td>\n",
       "      <td>NaN</td>\n",
       "      <td>95.00</td>\n",
       "      <td>42.00</td>\n",
       "      <td>39.00</td>\n",
       "      <td>NaN</td>\n",
       "      <td>7.00</td>\n",
       "      <td>13.00</td>\n",
       "      <td>10.00</td>\n",
       "      <td>NaN</td>\n",
       "      <td>34.00</td>\n",
       "      <td>73.00</td>\n",
       "      <td>NaN</td>\n",
       "      <td>30.00</td>\n",
       "    </tr>\n",
       "    <tr>\n",
       "      <th>messages_6</th>\n",
       "      <td>60.00</td>\n",
       "      <td>4.00</td>\n",
       "      <td>NaN</td>\n",
       "      <td>134.00</td>\n",
       "      <td>47.00</td>\n",
       "      <td>26.00</td>\n",
       "      <td>NaN</td>\n",
       "      <td>14.00</td>\n",
       "      <td>13.00</td>\n",
       "      <td>15.00</td>\n",
       "      <td>NaN</td>\n",
       "      <td>48.00</td>\n",
       "      <td>80.00</td>\n",
       "      <td>NaN</td>\n",
       "      <td>24.00</td>\n",
       "    </tr>\n",
       "    <tr>\n",
       "      <th>messages_7</th>\n",
       "      <td>75.00</td>\n",
       "      <td>11.00</td>\n",
       "      <td>NaN</td>\n",
       "      <td>181.00</td>\n",
       "      <td>56.00</td>\n",
       "      <td>26.00</td>\n",
       "      <td>NaN</td>\n",
       "      <td>14.00</td>\n",
       "      <td>13.00</td>\n",
       "      <td>12.00</td>\n",
       "      <td>NaN</td>\n",
       "      <td>39.00</td>\n",
       "      <td>90.00</td>\n",
       "      <td>NaN</td>\n",
       "      <td>25.00</td>\n",
       "    </tr>\n",
       "    <tr>\n",
       "      <th>messages_8</th>\n",
       "      <td>81.00</td>\n",
       "      <td>13.00</td>\n",
       "      <td>37.00</td>\n",
       "      <td>151.00</td>\n",
       "      <td>64.00</td>\n",
       "      <td>27.00</td>\n",
       "      <td>NaN</td>\n",
       "      <td>9.00</td>\n",
       "      <td>15.00</td>\n",
       "      <td>23.00</td>\n",
       "      <td>NaN</td>\n",
       "      <td>43.00</td>\n",
       "      <td>68.00</td>\n",
       "      <td>NaN</td>\n",
       "      <td>20.00</td>\n",
       "    </tr>\n",
       "    <tr>\n",
       "      <th>messages_9</th>\n",
       "      <td>57.00</td>\n",
       "      <td>4.00</td>\n",
       "      <td>91.00</td>\n",
       "      <td>146.00</td>\n",
       "      <td>52.00</td>\n",
       "      <td>31.00</td>\n",
       "      <td>NaN</td>\n",
       "      <td>12.00</td>\n",
       "      <td>10.00</td>\n",
       "      <td>14.00</td>\n",
       "      <td>NaN</td>\n",
       "      <td>48.00</td>\n",
       "      <td>68.00</td>\n",
       "      <td>NaN</td>\n",
       "      <td>21.00</td>\n",
       "    </tr>\n",
       "    <tr>\n",
       "      <th>messages_10</th>\n",
       "      <td>73.00</td>\n",
       "      <td>10.00</td>\n",
       "      <td>83.00</td>\n",
       "      <td>165.00</td>\n",
       "      <td>44.00</td>\n",
       "      <td>18.00</td>\n",
       "      <td>NaN</td>\n",
       "      <td>15.00</td>\n",
       "      <td>17.00</td>\n",
       "      <td>13.00</td>\n",
       "      <td>NaN</td>\n",
       "      <td>51.00</td>\n",
       "      <td>68.00</td>\n",
       "      <td>NaN</td>\n",
       "      <td>26.00</td>\n",
       "    </tr>\n",
       "    <tr>\n",
       "      <th>messages_11</th>\n",
       "      <td>58.00</td>\n",
       "      <td>16.00</td>\n",
       "      <td>94.00</td>\n",
       "      <td>158.00</td>\n",
       "      <td>51.00</td>\n",
       "      <td>21.00</td>\n",
       "      <td>NaN</td>\n",
       "      <td>11.00</td>\n",
       "      <td>12.00</td>\n",
       "      <td>25.00</td>\n",
       "      <td>17.00</td>\n",
       "      <td>36.00</td>\n",
       "      <td>61.00</td>\n",
       "      <td>39.00</td>\n",
       "      <td>17.00</td>\n",
       "    </tr>\n",
       "    <tr>\n",
       "      <th>messages_12</th>\n",
       "      <td>70.00</td>\n",
       "      <td>12.00</td>\n",
       "      <td>75.00</td>\n",
       "      <td>162.00</td>\n",
       "      <td>54.00</td>\n",
       "      <td>26.00</td>\n",
       "      <td>56.00</td>\n",
       "      <td>12.00</td>\n",
       "      <td>6.00</td>\n",
       "      <td>15.00</td>\n",
       "      <td>25.00</td>\n",
       "      <td>53.00</td>\n",
       "      <td>74.00</td>\n",
       "      <td>103.00</td>\n",
       "      <td>37.00</td>\n",
       "    </tr>\n",
       "  </tbody>\n",
       "</table>\n",
       "</div>"
      ],
      "text/plain": [
       "user_id      1000  1002  1003   1004  1005  1007  1008  1009  1011  1012  \\\n",
       "messages_1    NaN   NaN   NaN    NaN  7.00   NaN   NaN   NaN   NaN   NaN   \n",
       "messages_2    NaN   NaN   NaN    NaN 38.00   NaN   NaN   NaN   NaN   NaN   \n",
       "messages_3    NaN   NaN   NaN    NaN 56.00   NaN   NaN  2.00  4.00  2.00   \n",
       "messages_4    NaN   NaN   NaN    NaN 41.00 11.00   NaN 14.00  7.00 21.00   \n",
       "messages_5  22.00   NaN   NaN  95.00 42.00 39.00   NaN  7.00 13.00 10.00   \n",
       "messages_6  60.00  4.00   NaN 134.00 47.00 26.00   NaN 14.00 13.00 15.00   \n",
       "messages_7  75.00 11.00   NaN 181.00 56.00 26.00   NaN 14.00 13.00 12.00   \n",
       "messages_8  81.00 13.00 37.00 151.00 64.00 27.00   NaN  9.00 15.00 23.00   \n",
       "messages_9  57.00  4.00 91.00 146.00 52.00 31.00   NaN 12.00 10.00 14.00   \n",
       "messages_10 73.00 10.00 83.00 165.00 44.00 18.00   NaN 15.00 17.00 13.00   \n",
       "messages_11 58.00 16.00 94.00 158.00 51.00 21.00   NaN 11.00 12.00 25.00   \n",
       "messages_12 70.00 12.00 75.00 162.00 54.00 26.00 56.00 12.00  6.00 15.00   \n",
       "\n",
       "user_id      1013  1014  1015   1016  1018  \n",
       "messages_1    NaN   NaN   NaN    NaN   NaN  \n",
       "messages_2    NaN   NaN   NaN    NaN   NaN  \n",
       "messages_3    NaN   NaN   NaN    NaN   NaN  \n",
       "messages_4    NaN   NaN  3.00    NaN 34.00  \n",
       "messages_5    NaN 34.00 73.00    NaN 30.00  \n",
       "messages_6    NaN 48.00 80.00    NaN 24.00  \n",
       "messages_7    NaN 39.00 90.00    NaN 25.00  \n",
       "messages_8    NaN 43.00 68.00    NaN 20.00  \n",
       "messages_9    NaN 48.00 68.00    NaN 21.00  \n",
       "messages_10   NaN 51.00 68.00    NaN 26.00  \n",
       "messages_11 17.00 36.00 61.00  39.00 17.00  \n",
       "messages_12 25.00 53.00 74.00 103.00 37.00  "
      ]
     },
     "execution_count": 70,
     "metadata": {},
     "output_type": "execute_result"
    }
   ],
   "source": [
    "messages_per_month.head(15).T"
   ]
  },
  {
   "cell_type": "markdown",
   "id": "83b50fa3",
   "metadata": {},
   "source": [
    "**Итог по таблице `messages_per_month`**\n",
    "\n",
    "Форма таблицы приведена к желаемой. Данные вычислены корректно."
   ]
  },
  {
   "cell_type": "markdown",
   "id": "c3e23f0c",
   "metadata": {},
   "source": [
    "### Количество сделанных звонков и израсходованных минут разговора по месяцам"
   ]
  },
  {
   "cell_type": "markdown",
   "id": "531a1cce",
   "metadata": {},
   "source": [
    "С помощью метода `pivot_table()` создадим сводную таблицу, учитывающую количество сделанных звонков и израсходованных минут разговора по месяцам для каждого пользователя."
   ]
  },
  {
   "cell_type": "code",
   "execution_count": 71,
   "id": "91a4b739",
   "metadata": {},
   "outputs": [],
   "source": [
    "calls_per_month = calls.pivot_table(index='user_id', \n",
    "                                    columns=calls.call_date.dt.month, \n",
    "                                    values='duration', \n",
    "                                    aggfunc=['count', 'sum'])"
   ]
  },
  {
   "cell_type": "markdown",
   "id": "a64f293b",
   "metadata": {},
   "source": [
    "Проверим результат."
   ]
  },
  {
   "cell_type": "code",
   "execution_count": 72,
   "id": "a1aec89b",
   "metadata": {},
   "outputs": [
    {
     "data": {
      "text/html": [
       "<div>\n",
       "<style scoped>\n",
       "    .dataframe tbody tr th:only-of-type {\n",
       "        vertical-align: middle;\n",
       "    }\n",
       "\n",
       "    .dataframe tbody tr th {\n",
       "        vertical-align: top;\n",
       "    }\n",
       "\n",
       "    .dataframe thead th {\n",
       "        text-align: right;\n",
       "    }\n",
       "</style>\n",
       "<table border=\"1\" class=\"dataframe\">\n",
       "  <thead>\n",
       "    <tr style=\"text-align: right;\">\n",
       "      <th></th>\n",
       "      <th>user_id</th>\n",
       "      <th>1000</th>\n",
       "      <th>1001</th>\n",
       "      <th>1002</th>\n",
       "      <th>1003</th>\n",
       "      <th>1004</th>\n",
       "      <th>1005</th>\n",
       "      <th>1006</th>\n",
       "      <th>1007</th>\n",
       "      <th>1008</th>\n",
       "      <th>1009</th>\n",
       "      <th>1010</th>\n",
       "      <th>1011</th>\n",
       "      <th>1012</th>\n",
       "      <th>1013</th>\n",
       "      <th>1014</th>\n",
       "    </tr>\n",
       "    <tr>\n",
       "      <th></th>\n",
       "      <th>call_date</th>\n",
       "      <th></th>\n",
       "      <th></th>\n",
       "      <th></th>\n",
       "      <th></th>\n",
       "      <th></th>\n",
       "      <th></th>\n",
       "      <th></th>\n",
       "      <th></th>\n",
       "      <th></th>\n",
       "      <th></th>\n",
       "      <th></th>\n",
       "      <th></th>\n",
       "      <th></th>\n",
       "      <th></th>\n",
       "      <th></th>\n",
       "    </tr>\n",
       "  </thead>\n",
       "  <tbody>\n",
       "    <tr>\n",
       "      <th rowspan=\"12\" valign=\"top\">count</th>\n",
       "      <th>1</th>\n",
       "      <td>NaN</td>\n",
       "      <td>NaN</td>\n",
       "      <td>NaN</td>\n",
       "      <td>NaN</td>\n",
       "      <td>NaN</td>\n",
       "      <td>15.00</td>\n",
       "      <td>NaN</td>\n",
       "      <td>NaN</td>\n",
       "      <td>NaN</td>\n",
       "      <td>NaN</td>\n",
       "      <td>NaN</td>\n",
       "      <td>NaN</td>\n",
       "      <td>NaN</td>\n",
       "      <td>NaN</td>\n",
       "      <td>NaN</td>\n",
       "    </tr>\n",
       "    <tr>\n",
       "      <th>2</th>\n",
       "      <td>NaN</td>\n",
       "      <td>NaN</td>\n",
       "      <td>NaN</td>\n",
       "      <td>NaN</td>\n",
       "      <td>NaN</td>\n",
       "      <td>69.00</td>\n",
       "      <td>3.00</td>\n",
       "      <td>NaN</td>\n",
       "      <td>NaN</td>\n",
       "      <td>NaN</td>\n",
       "      <td>NaN</td>\n",
       "      <td>NaN</td>\n",
       "      <td>NaN</td>\n",
       "      <td>NaN</td>\n",
       "      <td>NaN</td>\n",
       "    </tr>\n",
       "    <tr>\n",
       "      <th>3</th>\n",
       "      <td>NaN</td>\n",
       "      <td>NaN</td>\n",
       "      <td>NaN</td>\n",
       "      <td>NaN</td>\n",
       "      <td>NaN</td>\n",
       "      <td>77.00</td>\n",
       "      <td>46.00</td>\n",
       "      <td>NaN</td>\n",
       "      <td>NaN</td>\n",
       "      <td>13.00</td>\n",
       "      <td>NaN</td>\n",
       "      <td>23.00</td>\n",
       "      <td>5.00</td>\n",
       "      <td>NaN</td>\n",
       "      <td>NaN</td>\n",
       "    </tr>\n",
       "    <tr>\n",
       "      <th>4</th>\n",
       "      <td>NaN</td>\n",
       "      <td>NaN</td>\n",
       "      <td>NaN</td>\n",
       "      <td>NaN</td>\n",
       "      <td>NaN</td>\n",
       "      <td>101.00</td>\n",
       "      <td>47.00</td>\n",
       "      <td>25.00</td>\n",
       "      <td>NaN</td>\n",
       "      <td>39.00</td>\n",
       "      <td>NaN</td>\n",
       "      <td>62.00</td>\n",
       "      <td>44.00</td>\n",
       "      <td>NaN</td>\n",
       "      <td>NaN</td>\n",
       "    </tr>\n",
       "    <tr>\n",
       "      <th>5</th>\n",
       "      <td>22.00</td>\n",
       "      <td>NaN</td>\n",
       "      <td>NaN</td>\n",
       "      <td>NaN</td>\n",
       "      <td>9.00</td>\n",
       "      <td>73.00</td>\n",
       "      <td>56.00</td>\n",
       "      <td>67.00</td>\n",
       "      <td>NaN</td>\n",
       "      <td>28.00</td>\n",
       "      <td>NaN</td>\n",
       "      <td>56.00</td>\n",
       "      <td>43.00</td>\n",
       "      <td>NaN</td>\n",
       "      <td>18.00</td>\n",
       "    </tr>\n",
       "    <tr>\n",
       "      <th>6</th>\n",
       "      <td>43.00</td>\n",
       "      <td>NaN</td>\n",
       "      <td>15.00</td>\n",
       "      <td>NaN</td>\n",
       "      <td>31.00</td>\n",
       "      <td>80.00</td>\n",
       "      <td>53.00</td>\n",
       "      <td>68.00</td>\n",
       "      <td>NaN</td>\n",
       "      <td>31.00</td>\n",
       "      <td>NaN</td>\n",
       "      <td>68.00</td>\n",
       "      <td>29.00</td>\n",
       "      <td>NaN</td>\n",
       "      <td>31.00</td>\n",
       "    </tr>\n",
       "    <tr>\n",
       "      <th>7</th>\n",
       "      <td>47.00</td>\n",
       "      <td>NaN</td>\n",
       "      <td>26.00</td>\n",
       "      <td>NaN</td>\n",
       "      <td>22.00</td>\n",
       "      <td>77.00</td>\n",
       "      <td>49.00</td>\n",
       "      <td>69.00</td>\n",
       "      <td>NaN</td>\n",
       "      <td>22.00</td>\n",
       "      <td>NaN</td>\n",
       "      <td>73.00</td>\n",
       "      <td>43.00</td>\n",
       "      <td>NaN</td>\n",
       "      <td>40.00</td>\n",
       "    </tr>\n",
       "    <tr>\n",
       "      <th>8</th>\n",
       "      <td>52.00</td>\n",
       "      <td>NaN</td>\n",
       "      <td>42.00</td>\n",
       "      <td>55.00</td>\n",
       "      <td>19.00</td>\n",
       "      <td>71.00</td>\n",
       "      <td>42.00</td>\n",
       "      <td>74.00</td>\n",
       "      <td>NaN</td>\n",
       "      <td>33.00</td>\n",
       "      <td>19.00</td>\n",
       "      <td>74.00</td>\n",
       "      <td>30.00</td>\n",
       "      <td>NaN</td>\n",
       "      <td>34.00</td>\n",
       "    </tr>\n",
       "    <tr>\n",
       "      <th>9</th>\n",
       "      <td>58.00</td>\n",
       "      <td>NaN</td>\n",
       "      <td>36.00</td>\n",
       "      <td>134.00</td>\n",
       "      <td>26.00</td>\n",
       "      <td>66.00</td>\n",
       "      <td>54.00</td>\n",
       "      <td>87.00</td>\n",
       "      <td>NaN</td>\n",
       "      <td>25.00</td>\n",
       "      <td>29.00</td>\n",
       "      <td>65.00</td>\n",
       "      <td>30.00</td>\n",
       "      <td>NaN</td>\n",
       "      <td>33.00</td>\n",
       "    </tr>\n",
       "    <tr>\n",
       "      <th>10</th>\n",
       "      <td>57.00</td>\n",
       "      <td>NaN</td>\n",
       "      <td>33.00</td>\n",
       "      <td>108.00</td>\n",
       "      <td>29.00</td>\n",
       "      <td>100.00</td>\n",
       "      <td>44.00</td>\n",
       "      <td>69.00</td>\n",
       "      <td>NaN</td>\n",
       "      <td>28.00</td>\n",
       "      <td>36.00</td>\n",
       "      <td>76.00</td>\n",
       "      <td>48.00</td>\n",
       "      <td>NaN</td>\n",
       "      <td>49.00</td>\n",
       "    </tr>\n",
       "    <tr>\n",
       "      <th>11</th>\n",
       "      <td>43.00</td>\n",
       "      <td>59.00</td>\n",
       "      <td>32.00</td>\n",
       "      <td>115.00</td>\n",
       "      <td>19.00</td>\n",
       "      <td>75.00</td>\n",
       "      <td>62.00</td>\n",
       "      <td>81.00</td>\n",
       "      <td>NaN</td>\n",
       "      <td>39.00</td>\n",
       "      <td>39.00</td>\n",
       "      <td>65.00</td>\n",
       "      <td>25.00</td>\n",
       "      <td>52.00</td>\n",
       "      <td>35.00</td>\n",
       "    </tr>\n",
       "    <tr>\n",
       "      <th>12</th>\n",
       "      <td>46.00</td>\n",
       "      <td>63.00</td>\n",
       "      <td>33.00</td>\n",
       "      <td>108.00</td>\n",
       "      <td>21.00</td>\n",
       "      <td>84.00</td>\n",
       "      <td>50.00</td>\n",
       "      <td>72.00</td>\n",
       "      <td>52.00</td>\n",
       "      <td>32.00</td>\n",
       "      <td>32.00</td>\n",
       "      <td>58.00</td>\n",
       "      <td>43.00</td>\n",
       "      <td>90.00</td>\n",
       "      <td>32.00</td>\n",
       "    </tr>\n",
       "    <tr>\n",
       "      <th rowspan=\"12\" valign=\"top\">sum</th>\n",
       "      <th>1</th>\n",
       "      <td>NaN</td>\n",
       "      <td>NaN</td>\n",
       "      <td>NaN</td>\n",
       "      <td>NaN</td>\n",
       "      <td>NaN</td>\n",
       "      <td>95.00</td>\n",
       "      <td>NaN</td>\n",
       "      <td>NaN</td>\n",
       "      <td>NaN</td>\n",
       "      <td>NaN</td>\n",
       "      <td>NaN</td>\n",
       "      <td>NaN</td>\n",
       "      <td>NaN</td>\n",
       "      <td>NaN</td>\n",
       "      <td>NaN</td>\n",
       "    </tr>\n",
       "    <tr>\n",
       "      <th>2</th>\n",
       "      <td>NaN</td>\n",
       "      <td>NaN</td>\n",
       "      <td>NaN</td>\n",
       "      <td>NaN</td>\n",
       "      <td>NaN</td>\n",
       "      <td>456.00</td>\n",
       "      <td>42.00</td>\n",
       "      <td>NaN</td>\n",
       "      <td>NaN</td>\n",
       "      <td>NaN</td>\n",
       "      <td>NaN</td>\n",
       "      <td>NaN</td>\n",
       "      <td>NaN</td>\n",
       "      <td>NaN</td>\n",
       "      <td>NaN</td>\n",
       "    </tr>\n",
       "    <tr>\n",
       "      <th>3</th>\n",
       "      <td>NaN</td>\n",
       "      <td>NaN</td>\n",
       "      <td>NaN</td>\n",
       "      <td>NaN</td>\n",
       "      <td>NaN</td>\n",
       "      <td>606.00</td>\n",
       "      <td>286.00</td>\n",
       "      <td>NaN</td>\n",
       "      <td>NaN</td>\n",
       "      <td>109.00</td>\n",
       "      <td>NaN</td>\n",
       "      <td>212.00</td>\n",
       "      <td>13.00</td>\n",
       "      <td>NaN</td>\n",
       "      <td>NaN</td>\n",
       "    </tr>\n",
       "    <tr>\n",
       "      <th>4</th>\n",
       "      <td>NaN</td>\n",
       "      <td>NaN</td>\n",
       "      <td>NaN</td>\n",
       "      <td>NaN</td>\n",
       "      <td>NaN</td>\n",
       "      <td>712.00</td>\n",
       "      <td>356.00</td>\n",
       "      <td>198.00</td>\n",
       "      <td>NaN</td>\n",
       "      <td>324.00</td>\n",
       "      <td>NaN</td>\n",
       "      <td>371.00</td>\n",
       "      <td>345.00</td>\n",
       "      <td>NaN</td>\n",
       "      <td>NaN</td>\n",
       "    </tr>\n",
       "    <tr>\n",
       "      <th>5</th>\n",
       "      <td>159.00</td>\n",
       "      <td>NaN</td>\n",
       "      <td>NaN</td>\n",
       "      <td>NaN</td>\n",
       "      <td>35.00</td>\n",
       "      <td>595.00</td>\n",
       "      <td>370.00</td>\n",
       "      <td>480.00</td>\n",
       "      <td>NaN</td>\n",
       "      <td>170.00</td>\n",
       "      <td>NaN</td>\n",
       "      <td>437.00</td>\n",
       "      <td>316.00</td>\n",
       "      <td>NaN</td>\n",
       "      <td>102.00</td>\n",
       "    </tr>\n",
       "    <tr>\n",
       "      <th>6</th>\n",
       "      <td>172.00</td>\n",
       "      <td>NaN</td>\n",
       "      <td>117.00</td>\n",
       "      <td>NaN</td>\n",
       "      <td>171.00</td>\n",
       "      <td>612.00</td>\n",
       "      <td>478.00</td>\n",
       "      <td>545.00</td>\n",
       "      <td>NaN</td>\n",
       "      <td>289.00</td>\n",
       "      <td>NaN</td>\n",
       "      <td>327.00</td>\n",
       "      <td>219.00</td>\n",
       "      <td>NaN</td>\n",
       "      <td>180.00</td>\n",
       "    </tr>\n",
       "    <tr>\n",
       "      <th>7</th>\n",
       "      <td>340.00</td>\n",
       "      <td>NaN</td>\n",
       "      <td>214.00</td>\n",
       "      <td>NaN</td>\n",
       "      <td>135.00</td>\n",
       "      <td>569.00</td>\n",
       "      <td>316.00</td>\n",
       "      <td>577.00</td>\n",
       "      <td>NaN</td>\n",
       "      <td>183.00</td>\n",
       "      <td>NaN</td>\n",
       "      <td>502.00</td>\n",
       "      <td>223.00</td>\n",
       "      <td>NaN</td>\n",
       "      <td>300.00</td>\n",
       "    </tr>\n",
       "    <tr>\n",
       "      <th>8</th>\n",
       "      <td>408.00</td>\n",
       "      <td>NaN</td>\n",
       "      <td>289.00</td>\n",
       "      <td>380.00</td>\n",
       "      <td>137.00</td>\n",
       "      <td>619.00</td>\n",
       "      <td>275.00</td>\n",
       "      <td>458.00</td>\n",
       "      <td>NaN</td>\n",
       "      <td>249.00</td>\n",
       "      <td>142.00</td>\n",
       "      <td>515.00</td>\n",
       "      <td>157.00</td>\n",
       "      <td>NaN</td>\n",
       "      <td>241.00</td>\n",
       "    </tr>\n",
       "    <tr>\n",
       "      <th>9</th>\n",
       "      <td>466.00</td>\n",
       "      <td>NaN</td>\n",
       "      <td>206.00</td>\n",
       "      <td>961.00</td>\n",
       "      <td>117.00</td>\n",
       "      <td>479.00</td>\n",
       "      <td>360.00</td>\n",
       "      <td>655.00</td>\n",
       "      <td>NaN</td>\n",
       "      <td>133.00</td>\n",
       "      <td>142.00</td>\n",
       "      <td>472.00</td>\n",
       "      <td>230.00</td>\n",
       "      <td>NaN</td>\n",
       "      <td>250.00</td>\n",
       "    </tr>\n",
       "    <tr>\n",
       "      <th>10</th>\n",
       "      <td>350.00</td>\n",
       "      <td>NaN</td>\n",
       "      <td>212.00</td>\n",
       "      <td>855.00</td>\n",
       "      <td>145.00</td>\n",
       "      <td>723.00</td>\n",
       "      <td>267.00</td>\n",
       "      <td>465.00</td>\n",
       "      <td>NaN</td>\n",
       "      <td>213.00</td>\n",
       "      <td>245.00</td>\n",
       "      <td>630.00</td>\n",
       "      <td>451.00</td>\n",
       "      <td>NaN</td>\n",
       "      <td>332.00</td>\n",
       "    </tr>\n",
       "    <tr>\n",
       "      <th>11</th>\n",
       "      <td>338.00</td>\n",
       "      <td>430.00</td>\n",
       "      <td>243.00</td>\n",
       "      <td>824.00</td>\n",
       "      <td>117.00</td>\n",
       "      <td>547.00</td>\n",
       "      <td>372.00</td>\n",
       "      <td>580.00</td>\n",
       "      <td>NaN</td>\n",
       "      <td>290.00</td>\n",
       "      <td>290.00</td>\n",
       "      <td>501.00</td>\n",
       "      <td>206.00</td>\n",
       "      <td>369.00</td>\n",
       "      <td>237.00</td>\n",
       "    </tr>\n",
       "    <tr>\n",
       "      <th>12</th>\n",
       "      <td>333.00</td>\n",
       "      <td>414.00</td>\n",
       "      <td>236.00</td>\n",
       "      <td>802.00</td>\n",
       "      <td>130.00</td>\n",
       "      <td>592.00</td>\n",
       "      <td>379.00</td>\n",
       "      <td>421.00</td>\n",
       "      <td>339.00</td>\n",
       "      <td>229.00</td>\n",
       "      <td>336.00</td>\n",
       "      <td>361.00</td>\n",
       "      <td>356.00</td>\n",
       "      <td>567.00</td>\n",
       "      <td>175.00</td>\n",
       "    </tr>\n",
       "  </tbody>\n",
       "</table>\n",
       "</div>"
      ],
      "text/plain": [
       "user_id           1000   1001   1002   1003   1004   1005   1006   1007  \\\n",
       "      call_date                                                           \n",
       "count 1            NaN    NaN    NaN    NaN    NaN  15.00    NaN    NaN   \n",
       "      2            NaN    NaN    NaN    NaN    NaN  69.00   3.00    NaN   \n",
       "      3            NaN    NaN    NaN    NaN    NaN  77.00  46.00    NaN   \n",
       "      4            NaN    NaN    NaN    NaN    NaN 101.00  47.00  25.00   \n",
       "      5          22.00    NaN    NaN    NaN   9.00  73.00  56.00  67.00   \n",
       "      6          43.00    NaN  15.00    NaN  31.00  80.00  53.00  68.00   \n",
       "      7          47.00    NaN  26.00    NaN  22.00  77.00  49.00  69.00   \n",
       "      8          52.00    NaN  42.00  55.00  19.00  71.00  42.00  74.00   \n",
       "      9          58.00    NaN  36.00 134.00  26.00  66.00  54.00  87.00   \n",
       "      10         57.00    NaN  33.00 108.00  29.00 100.00  44.00  69.00   \n",
       "      11         43.00  59.00  32.00 115.00  19.00  75.00  62.00  81.00   \n",
       "      12         46.00  63.00  33.00 108.00  21.00  84.00  50.00  72.00   \n",
       "sum   1            NaN    NaN    NaN    NaN    NaN  95.00    NaN    NaN   \n",
       "      2            NaN    NaN    NaN    NaN    NaN 456.00  42.00    NaN   \n",
       "      3            NaN    NaN    NaN    NaN    NaN 606.00 286.00    NaN   \n",
       "      4            NaN    NaN    NaN    NaN    NaN 712.00 356.00 198.00   \n",
       "      5         159.00    NaN    NaN    NaN  35.00 595.00 370.00 480.00   \n",
       "      6         172.00    NaN 117.00    NaN 171.00 612.00 478.00 545.00   \n",
       "      7         340.00    NaN 214.00    NaN 135.00 569.00 316.00 577.00   \n",
       "      8         408.00    NaN 289.00 380.00 137.00 619.00 275.00 458.00   \n",
       "      9         466.00    NaN 206.00 961.00 117.00 479.00 360.00 655.00   \n",
       "      10        350.00    NaN 212.00 855.00 145.00 723.00 267.00 465.00   \n",
       "      11        338.00 430.00 243.00 824.00 117.00 547.00 372.00 580.00   \n",
       "      12        333.00 414.00 236.00 802.00 130.00 592.00 379.00 421.00   \n",
       "\n",
       "user_id           1008   1009   1010   1011   1012   1013   1014  \n",
       "      call_date                                                   \n",
       "count 1            NaN    NaN    NaN    NaN    NaN    NaN    NaN  \n",
       "      2            NaN    NaN    NaN    NaN    NaN    NaN    NaN  \n",
       "      3            NaN  13.00    NaN  23.00   5.00    NaN    NaN  \n",
       "      4            NaN  39.00    NaN  62.00  44.00    NaN    NaN  \n",
       "      5            NaN  28.00    NaN  56.00  43.00    NaN  18.00  \n",
       "      6            NaN  31.00    NaN  68.00  29.00    NaN  31.00  \n",
       "      7            NaN  22.00    NaN  73.00  43.00    NaN  40.00  \n",
       "      8            NaN  33.00  19.00  74.00  30.00    NaN  34.00  \n",
       "      9            NaN  25.00  29.00  65.00  30.00    NaN  33.00  \n",
       "      10           NaN  28.00  36.00  76.00  48.00    NaN  49.00  \n",
       "      11           NaN  39.00  39.00  65.00  25.00  52.00  35.00  \n",
       "      12         52.00  32.00  32.00  58.00  43.00  90.00  32.00  \n",
       "sum   1            NaN    NaN    NaN    NaN    NaN    NaN    NaN  \n",
       "      2            NaN    NaN    NaN    NaN    NaN    NaN    NaN  \n",
       "      3            NaN 109.00    NaN 212.00  13.00    NaN    NaN  \n",
       "      4            NaN 324.00    NaN 371.00 345.00    NaN    NaN  \n",
       "      5            NaN 170.00    NaN 437.00 316.00    NaN 102.00  \n",
       "      6            NaN 289.00    NaN 327.00 219.00    NaN 180.00  \n",
       "      7            NaN 183.00    NaN 502.00 223.00    NaN 300.00  \n",
       "      8            NaN 249.00 142.00 515.00 157.00    NaN 241.00  \n",
       "      9            NaN 133.00 142.00 472.00 230.00    NaN 250.00  \n",
       "      10           NaN 213.00 245.00 630.00 451.00    NaN 332.00  \n",
       "      11           NaN 290.00 290.00 501.00 206.00 369.00 237.00  \n",
       "      12        339.00 229.00 336.00 361.00 356.00 567.00 175.00  "
      ]
     },
     "execution_count": 72,
     "metadata": {},
     "output_type": "execute_result"
    }
   ],
   "source": [
    "calls_per_month.head(15).T"
   ]
  },
  {
   "cell_type": "code",
   "execution_count": 73,
   "id": "b0096cd8",
   "metadata": {},
   "outputs": [
    {
     "name": "stdout",
     "output_type": "stream",
     "text": [
      "<class 'pandas.core.frame.DataFrame'>\n",
      "Int64Index: 492 entries, 1000 to 1499\n",
      "Data columns (total 24 columns):\n",
      " #   Column       Non-Null Count  Dtype  \n",
      "---  ------       --------------  -----  \n",
      " 0   (count, 1)   43 non-null     float64\n",
      " 1   (count, 2)   82 non-null     float64\n",
      " 2   (count, 3)   114 non-null    float64\n",
      " 3   (count, 4)   165 non-null    float64\n",
      " 4   (count, 5)   205 non-null    float64\n",
      " 5   (count, 6)   244 non-null    float64\n",
      " 6   (count, 7)   289 non-null    float64\n",
      " 7   (count, 8)   337 non-null    float64\n",
      " 8   (count, 9)   370 non-null    float64\n",
      " 9   (count, 10)  411 non-null    float64\n",
      " 10  (count, 11)  444 non-null    float64\n",
      " 11  (count, 12)  470 non-null    float64\n",
      " 12  (sum, 1)     43 non-null     float64\n",
      " 13  (sum, 2)     82 non-null     float64\n",
      " 14  (sum, 3)     114 non-null    float64\n",
      " 15  (sum, 4)     165 non-null    float64\n",
      " 16  (sum, 5)     205 non-null    float64\n",
      " 17  (sum, 6)     244 non-null    float64\n",
      " 18  (sum, 7)     289 non-null    float64\n",
      " 19  (sum, 8)     337 non-null    float64\n",
      " 20  (sum, 9)     370 non-null    float64\n",
      " 21  (sum, 10)    411 non-null    float64\n",
      " 22  (sum, 11)    444 non-null    float64\n",
      " 23  (sum, 12)    470 non-null    float64\n",
      "dtypes: float64(24)\n",
      "memory usage: 96.1 KB\n"
     ]
    }
   ],
   "source": [
    "calls_per_month.info()"
   ]
  },
  {
   "cell_type": "markdown",
   "id": "3c3f374b",
   "metadata": {},
   "source": [
    "Избавимся от мультииндексов в наименованиях столбцов."
   ]
  },
  {
   "cell_type": "markdown",
   "id": "1ad31a1d",
   "metadata": {},
   "source": [
    "Применим функцию `rename_col_24()` к таблице `calls_per_month`."
   ]
  },
  {
   "cell_type": "code",
   "execution_count": 74,
   "id": "33eef450",
   "metadata": {},
   "outputs": [],
   "source": [
    "rename_col_24(calls_per_month, 'calls')"
   ]
  },
  {
   "cell_type": "markdown",
   "id": "9c133521",
   "metadata": {},
   "source": [
    "Проверим результат."
   ]
  },
  {
   "cell_type": "code",
   "execution_count": 75,
   "id": "2efe60d5",
   "metadata": {},
   "outputs": [
    {
     "data": {
      "text/html": [
       "<div>\n",
       "<style scoped>\n",
       "    .dataframe tbody tr th:only-of-type {\n",
       "        vertical-align: middle;\n",
       "    }\n",
       "\n",
       "    .dataframe tbody tr th {\n",
       "        vertical-align: top;\n",
       "    }\n",
       "\n",
       "    .dataframe thead th {\n",
       "        text-align: right;\n",
       "    }\n",
       "</style>\n",
       "<table border=\"1\" class=\"dataframe\">\n",
       "  <thead>\n",
       "    <tr style=\"text-align: right;\">\n",
       "      <th>user_id</th>\n",
       "      <th>1000</th>\n",
       "      <th>1001</th>\n",
       "      <th>1002</th>\n",
       "      <th>1003</th>\n",
       "      <th>1004</th>\n",
       "      <th>1005</th>\n",
       "      <th>1006</th>\n",
       "      <th>1007</th>\n",
       "      <th>1008</th>\n",
       "      <th>1009</th>\n",
       "      <th>1010</th>\n",
       "      <th>1011</th>\n",
       "      <th>1012</th>\n",
       "      <th>1013</th>\n",
       "      <th>1014</th>\n",
       "    </tr>\n",
       "  </thead>\n",
       "  <tbody>\n",
       "    <tr>\n",
       "      <th>calls_count_1</th>\n",
       "      <td>NaN</td>\n",
       "      <td>NaN</td>\n",
       "      <td>NaN</td>\n",
       "      <td>NaN</td>\n",
       "      <td>NaN</td>\n",
       "      <td>15.00</td>\n",
       "      <td>NaN</td>\n",
       "      <td>NaN</td>\n",
       "      <td>NaN</td>\n",
       "      <td>NaN</td>\n",
       "      <td>NaN</td>\n",
       "      <td>NaN</td>\n",
       "      <td>NaN</td>\n",
       "      <td>NaN</td>\n",
       "      <td>NaN</td>\n",
       "    </tr>\n",
       "    <tr>\n",
       "      <th>calls_count_2</th>\n",
       "      <td>NaN</td>\n",
       "      <td>NaN</td>\n",
       "      <td>NaN</td>\n",
       "      <td>NaN</td>\n",
       "      <td>NaN</td>\n",
       "      <td>69.00</td>\n",
       "      <td>3.00</td>\n",
       "      <td>NaN</td>\n",
       "      <td>NaN</td>\n",
       "      <td>NaN</td>\n",
       "      <td>NaN</td>\n",
       "      <td>NaN</td>\n",
       "      <td>NaN</td>\n",
       "      <td>NaN</td>\n",
       "      <td>NaN</td>\n",
       "    </tr>\n",
       "    <tr>\n",
       "      <th>calls_count_3</th>\n",
       "      <td>NaN</td>\n",
       "      <td>NaN</td>\n",
       "      <td>NaN</td>\n",
       "      <td>NaN</td>\n",
       "      <td>NaN</td>\n",
       "      <td>77.00</td>\n",
       "      <td>46.00</td>\n",
       "      <td>NaN</td>\n",
       "      <td>NaN</td>\n",
       "      <td>13.00</td>\n",
       "      <td>NaN</td>\n",
       "      <td>23.00</td>\n",
       "      <td>5.00</td>\n",
       "      <td>NaN</td>\n",
       "      <td>NaN</td>\n",
       "    </tr>\n",
       "    <tr>\n",
       "      <th>calls_count_4</th>\n",
       "      <td>NaN</td>\n",
       "      <td>NaN</td>\n",
       "      <td>NaN</td>\n",
       "      <td>NaN</td>\n",
       "      <td>NaN</td>\n",
       "      <td>101.00</td>\n",
       "      <td>47.00</td>\n",
       "      <td>25.00</td>\n",
       "      <td>NaN</td>\n",
       "      <td>39.00</td>\n",
       "      <td>NaN</td>\n",
       "      <td>62.00</td>\n",
       "      <td>44.00</td>\n",
       "      <td>NaN</td>\n",
       "      <td>NaN</td>\n",
       "    </tr>\n",
       "    <tr>\n",
       "      <th>calls_count_5</th>\n",
       "      <td>22.00</td>\n",
       "      <td>NaN</td>\n",
       "      <td>NaN</td>\n",
       "      <td>NaN</td>\n",
       "      <td>9.00</td>\n",
       "      <td>73.00</td>\n",
       "      <td>56.00</td>\n",
       "      <td>67.00</td>\n",
       "      <td>NaN</td>\n",
       "      <td>28.00</td>\n",
       "      <td>NaN</td>\n",
       "      <td>56.00</td>\n",
       "      <td>43.00</td>\n",
       "      <td>NaN</td>\n",
       "      <td>18.00</td>\n",
       "    </tr>\n",
       "    <tr>\n",
       "      <th>calls_count_6</th>\n",
       "      <td>43.00</td>\n",
       "      <td>NaN</td>\n",
       "      <td>15.00</td>\n",
       "      <td>NaN</td>\n",
       "      <td>31.00</td>\n",
       "      <td>80.00</td>\n",
       "      <td>53.00</td>\n",
       "      <td>68.00</td>\n",
       "      <td>NaN</td>\n",
       "      <td>31.00</td>\n",
       "      <td>NaN</td>\n",
       "      <td>68.00</td>\n",
       "      <td>29.00</td>\n",
       "      <td>NaN</td>\n",
       "      <td>31.00</td>\n",
       "    </tr>\n",
       "    <tr>\n",
       "      <th>calls_count_7</th>\n",
       "      <td>47.00</td>\n",
       "      <td>NaN</td>\n",
       "      <td>26.00</td>\n",
       "      <td>NaN</td>\n",
       "      <td>22.00</td>\n",
       "      <td>77.00</td>\n",
       "      <td>49.00</td>\n",
       "      <td>69.00</td>\n",
       "      <td>NaN</td>\n",
       "      <td>22.00</td>\n",
       "      <td>NaN</td>\n",
       "      <td>73.00</td>\n",
       "      <td>43.00</td>\n",
       "      <td>NaN</td>\n",
       "      <td>40.00</td>\n",
       "    </tr>\n",
       "    <tr>\n",
       "      <th>calls_count_8</th>\n",
       "      <td>52.00</td>\n",
       "      <td>NaN</td>\n",
       "      <td>42.00</td>\n",
       "      <td>55.00</td>\n",
       "      <td>19.00</td>\n",
       "      <td>71.00</td>\n",
       "      <td>42.00</td>\n",
       "      <td>74.00</td>\n",
       "      <td>NaN</td>\n",
       "      <td>33.00</td>\n",
       "      <td>19.00</td>\n",
       "      <td>74.00</td>\n",
       "      <td>30.00</td>\n",
       "      <td>NaN</td>\n",
       "      <td>34.00</td>\n",
       "    </tr>\n",
       "    <tr>\n",
       "      <th>calls_count_9</th>\n",
       "      <td>58.00</td>\n",
       "      <td>NaN</td>\n",
       "      <td>36.00</td>\n",
       "      <td>134.00</td>\n",
       "      <td>26.00</td>\n",
       "      <td>66.00</td>\n",
       "      <td>54.00</td>\n",
       "      <td>87.00</td>\n",
       "      <td>NaN</td>\n",
       "      <td>25.00</td>\n",
       "      <td>29.00</td>\n",
       "      <td>65.00</td>\n",
       "      <td>30.00</td>\n",
       "      <td>NaN</td>\n",
       "      <td>33.00</td>\n",
       "    </tr>\n",
       "    <tr>\n",
       "      <th>calls_count_10</th>\n",
       "      <td>57.00</td>\n",
       "      <td>NaN</td>\n",
       "      <td>33.00</td>\n",
       "      <td>108.00</td>\n",
       "      <td>29.00</td>\n",
       "      <td>100.00</td>\n",
       "      <td>44.00</td>\n",
       "      <td>69.00</td>\n",
       "      <td>NaN</td>\n",
       "      <td>28.00</td>\n",
       "      <td>36.00</td>\n",
       "      <td>76.00</td>\n",
       "      <td>48.00</td>\n",
       "      <td>NaN</td>\n",
       "      <td>49.00</td>\n",
       "    </tr>\n",
       "    <tr>\n",
       "      <th>calls_count_11</th>\n",
       "      <td>43.00</td>\n",
       "      <td>59.00</td>\n",
       "      <td>32.00</td>\n",
       "      <td>115.00</td>\n",
       "      <td>19.00</td>\n",
       "      <td>75.00</td>\n",
       "      <td>62.00</td>\n",
       "      <td>81.00</td>\n",
       "      <td>NaN</td>\n",
       "      <td>39.00</td>\n",
       "      <td>39.00</td>\n",
       "      <td>65.00</td>\n",
       "      <td>25.00</td>\n",
       "      <td>52.00</td>\n",
       "      <td>35.00</td>\n",
       "    </tr>\n",
       "    <tr>\n",
       "      <th>calls_count_12</th>\n",
       "      <td>46.00</td>\n",
       "      <td>63.00</td>\n",
       "      <td>33.00</td>\n",
       "      <td>108.00</td>\n",
       "      <td>21.00</td>\n",
       "      <td>84.00</td>\n",
       "      <td>50.00</td>\n",
       "      <td>72.00</td>\n",
       "      <td>52.00</td>\n",
       "      <td>32.00</td>\n",
       "      <td>32.00</td>\n",
       "      <td>58.00</td>\n",
       "      <td>43.00</td>\n",
       "      <td>90.00</td>\n",
       "      <td>32.00</td>\n",
       "    </tr>\n",
       "    <tr>\n",
       "      <th>calls_sum_1</th>\n",
       "      <td>NaN</td>\n",
       "      <td>NaN</td>\n",
       "      <td>NaN</td>\n",
       "      <td>NaN</td>\n",
       "      <td>NaN</td>\n",
       "      <td>95.00</td>\n",
       "      <td>NaN</td>\n",
       "      <td>NaN</td>\n",
       "      <td>NaN</td>\n",
       "      <td>NaN</td>\n",
       "      <td>NaN</td>\n",
       "      <td>NaN</td>\n",
       "      <td>NaN</td>\n",
       "      <td>NaN</td>\n",
       "      <td>NaN</td>\n",
       "    </tr>\n",
       "    <tr>\n",
       "      <th>calls_sum_2</th>\n",
       "      <td>NaN</td>\n",
       "      <td>NaN</td>\n",
       "      <td>NaN</td>\n",
       "      <td>NaN</td>\n",
       "      <td>NaN</td>\n",
       "      <td>456.00</td>\n",
       "      <td>42.00</td>\n",
       "      <td>NaN</td>\n",
       "      <td>NaN</td>\n",
       "      <td>NaN</td>\n",
       "      <td>NaN</td>\n",
       "      <td>NaN</td>\n",
       "      <td>NaN</td>\n",
       "      <td>NaN</td>\n",
       "      <td>NaN</td>\n",
       "    </tr>\n",
       "    <tr>\n",
       "      <th>calls_sum_3</th>\n",
       "      <td>NaN</td>\n",
       "      <td>NaN</td>\n",
       "      <td>NaN</td>\n",
       "      <td>NaN</td>\n",
       "      <td>NaN</td>\n",
       "      <td>606.00</td>\n",
       "      <td>286.00</td>\n",
       "      <td>NaN</td>\n",
       "      <td>NaN</td>\n",
       "      <td>109.00</td>\n",
       "      <td>NaN</td>\n",
       "      <td>212.00</td>\n",
       "      <td>13.00</td>\n",
       "      <td>NaN</td>\n",
       "      <td>NaN</td>\n",
       "    </tr>\n",
       "    <tr>\n",
       "      <th>calls_sum_4</th>\n",
       "      <td>NaN</td>\n",
       "      <td>NaN</td>\n",
       "      <td>NaN</td>\n",
       "      <td>NaN</td>\n",
       "      <td>NaN</td>\n",
       "      <td>712.00</td>\n",
       "      <td>356.00</td>\n",
       "      <td>198.00</td>\n",
       "      <td>NaN</td>\n",
       "      <td>324.00</td>\n",
       "      <td>NaN</td>\n",
       "      <td>371.00</td>\n",
       "      <td>345.00</td>\n",
       "      <td>NaN</td>\n",
       "      <td>NaN</td>\n",
       "    </tr>\n",
       "    <tr>\n",
       "      <th>calls_sum_5</th>\n",
       "      <td>159.00</td>\n",
       "      <td>NaN</td>\n",
       "      <td>NaN</td>\n",
       "      <td>NaN</td>\n",
       "      <td>35.00</td>\n",
       "      <td>595.00</td>\n",
       "      <td>370.00</td>\n",
       "      <td>480.00</td>\n",
       "      <td>NaN</td>\n",
       "      <td>170.00</td>\n",
       "      <td>NaN</td>\n",
       "      <td>437.00</td>\n",
       "      <td>316.00</td>\n",
       "      <td>NaN</td>\n",
       "      <td>102.00</td>\n",
       "    </tr>\n",
       "    <tr>\n",
       "      <th>calls_sum_6</th>\n",
       "      <td>172.00</td>\n",
       "      <td>NaN</td>\n",
       "      <td>117.00</td>\n",
       "      <td>NaN</td>\n",
       "      <td>171.00</td>\n",
       "      <td>612.00</td>\n",
       "      <td>478.00</td>\n",
       "      <td>545.00</td>\n",
       "      <td>NaN</td>\n",
       "      <td>289.00</td>\n",
       "      <td>NaN</td>\n",
       "      <td>327.00</td>\n",
       "      <td>219.00</td>\n",
       "      <td>NaN</td>\n",
       "      <td>180.00</td>\n",
       "    </tr>\n",
       "    <tr>\n",
       "      <th>calls_sum_7</th>\n",
       "      <td>340.00</td>\n",
       "      <td>NaN</td>\n",
       "      <td>214.00</td>\n",
       "      <td>NaN</td>\n",
       "      <td>135.00</td>\n",
       "      <td>569.00</td>\n",
       "      <td>316.00</td>\n",
       "      <td>577.00</td>\n",
       "      <td>NaN</td>\n",
       "      <td>183.00</td>\n",
       "      <td>NaN</td>\n",
       "      <td>502.00</td>\n",
       "      <td>223.00</td>\n",
       "      <td>NaN</td>\n",
       "      <td>300.00</td>\n",
       "    </tr>\n",
       "    <tr>\n",
       "      <th>calls_sum_8</th>\n",
       "      <td>408.00</td>\n",
       "      <td>NaN</td>\n",
       "      <td>289.00</td>\n",
       "      <td>380.00</td>\n",
       "      <td>137.00</td>\n",
       "      <td>619.00</td>\n",
       "      <td>275.00</td>\n",
       "      <td>458.00</td>\n",
       "      <td>NaN</td>\n",
       "      <td>249.00</td>\n",
       "      <td>142.00</td>\n",
       "      <td>515.00</td>\n",
       "      <td>157.00</td>\n",
       "      <td>NaN</td>\n",
       "      <td>241.00</td>\n",
       "    </tr>\n",
       "    <tr>\n",
       "      <th>calls_sum_9</th>\n",
       "      <td>466.00</td>\n",
       "      <td>NaN</td>\n",
       "      <td>206.00</td>\n",
       "      <td>961.00</td>\n",
       "      <td>117.00</td>\n",
       "      <td>479.00</td>\n",
       "      <td>360.00</td>\n",
       "      <td>655.00</td>\n",
       "      <td>NaN</td>\n",
       "      <td>133.00</td>\n",
       "      <td>142.00</td>\n",
       "      <td>472.00</td>\n",
       "      <td>230.00</td>\n",
       "      <td>NaN</td>\n",
       "      <td>250.00</td>\n",
       "    </tr>\n",
       "    <tr>\n",
       "      <th>calls_sum_10</th>\n",
       "      <td>350.00</td>\n",
       "      <td>NaN</td>\n",
       "      <td>212.00</td>\n",
       "      <td>855.00</td>\n",
       "      <td>145.00</td>\n",
       "      <td>723.00</td>\n",
       "      <td>267.00</td>\n",
       "      <td>465.00</td>\n",
       "      <td>NaN</td>\n",
       "      <td>213.00</td>\n",
       "      <td>245.00</td>\n",
       "      <td>630.00</td>\n",
       "      <td>451.00</td>\n",
       "      <td>NaN</td>\n",
       "      <td>332.00</td>\n",
       "    </tr>\n",
       "    <tr>\n",
       "      <th>calls_sum_11</th>\n",
       "      <td>338.00</td>\n",
       "      <td>430.00</td>\n",
       "      <td>243.00</td>\n",
       "      <td>824.00</td>\n",
       "      <td>117.00</td>\n",
       "      <td>547.00</td>\n",
       "      <td>372.00</td>\n",
       "      <td>580.00</td>\n",
       "      <td>NaN</td>\n",
       "      <td>290.00</td>\n",
       "      <td>290.00</td>\n",
       "      <td>501.00</td>\n",
       "      <td>206.00</td>\n",
       "      <td>369.00</td>\n",
       "      <td>237.00</td>\n",
       "    </tr>\n",
       "    <tr>\n",
       "      <th>calls_sum_12</th>\n",
       "      <td>333.00</td>\n",
       "      <td>414.00</td>\n",
       "      <td>236.00</td>\n",
       "      <td>802.00</td>\n",
       "      <td>130.00</td>\n",
       "      <td>592.00</td>\n",
       "      <td>379.00</td>\n",
       "      <td>421.00</td>\n",
       "      <td>339.00</td>\n",
       "      <td>229.00</td>\n",
       "      <td>336.00</td>\n",
       "      <td>361.00</td>\n",
       "      <td>356.00</td>\n",
       "      <td>567.00</td>\n",
       "      <td>175.00</td>\n",
       "    </tr>\n",
       "  </tbody>\n",
       "</table>\n",
       "</div>"
      ],
      "text/plain": [
       "user_id          1000   1001   1002   1003   1004   1005   1006   1007   1008  \\\n",
       "calls_count_1     NaN    NaN    NaN    NaN    NaN  15.00    NaN    NaN    NaN   \n",
       "calls_count_2     NaN    NaN    NaN    NaN    NaN  69.00   3.00    NaN    NaN   \n",
       "calls_count_3     NaN    NaN    NaN    NaN    NaN  77.00  46.00    NaN    NaN   \n",
       "calls_count_4     NaN    NaN    NaN    NaN    NaN 101.00  47.00  25.00    NaN   \n",
       "calls_count_5   22.00    NaN    NaN    NaN   9.00  73.00  56.00  67.00    NaN   \n",
       "calls_count_6   43.00    NaN  15.00    NaN  31.00  80.00  53.00  68.00    NaN   \n",
       "calls_count_7   47.00    NaN  26.00    NaN  22.00  77.00  49.00  69.00    NaN   \n",
       "calls_count_8   52.00    NaN  42.00  55.00  19.00  71.00  42.00  74.00    NaN   \n",
       "calls_count_9   58.00    NaN  36.00 134.00  26.00  66.00  54.00  87.00    NaN   \n",
       "calls_count_10  57.00    NaN  33.00 108.00  29.00 100.00  44.00  69.00    NaN   \n",
       "calls_count_11  43.00  59.00  32.00 115.00  19.00  75.00  62.00  81.00    NaN   \n",
       "calls_count_12  46.00  63.00  33.00 108.00  21.00  84.00  50.00  72.00  52.00   \n",
       "calls_sum_1       NaN    NaN    NaN    NaN    NaN  95.00    NaN    NaN    NaN   \n",
       "calls_sum_2       NaN    NaN    NaN    NaN    NaN 456.00  42.00    NaN    NaN   \n",
       "calls_sum_3       NaN    NaN    NaN    NaN    NaN 606.00 286.00    NaN    NaN   \n",
       "calls_sum_4       NaN    NaN    NaN    NaN    NaN 712.00 356.00 198.00    NaN   \n",
       "calls_sum_5    159.00    NaN    NaN    NaN  35.00 595.00 370.00 480.00    NaN   \n",
       "calls_sum_6    172.00    NaN 117.00    NaN 171.00 612.00 478.00 545.00    NaN   \n",
       "calls_sum_7    340.00    NaN 214.00    NaN 135.00 569.00 316.00 577.00    NaN   \n",
       "calls_sum_8    408.00    NaN 289.00 380.00 137.00 619.00 275.00 458.00    NaN   \n",
       "calls_sum_9    466.00    NaN 206.00 961.00 117.00 479.00 360.00 655.00    NaN   \n",
       "calls_sum_10   350.00    NaN 212.00 855.00 145.00 723.00 267.00 465.00    NaN   \n",
       "calls_sum_11   338.00 430.00 243.00 824.00 117.00 547.00 372.00 580.00    NaN   \n",
       "calls_sum_12   333.00 414.00 236.00 802.00 130.00 592.00 379.00 421.00 339.00   \n",
       "\n",
       "user_id          1009   1010   1011   1012   1013   1014  \n",
       "calls_count_1     NaN    NaN    NaN    NaN    NaN    NaN  \n",
       "calls_count_2     NaN    NaN    NaN    NaN    NaN    NaN  \n",
       "calls_count_3   13.00    NaN  23.00   5.00    NaN    NaN  \n",
       "calls_count_4   39.00    NaN  62.00  44.00    NaN    NaN  \n",
       "calls_count_5   28.00    NaN  56.00  43.00    NaN  18.00  \n",
       "calls_count_6   31.00    NaN  68.00  29.00    NaN  31.00  \n",
       "calls_count_7   22.00    NaN  73.00  43.00    NaN  40.00  \n",
       "calls_count_8   33.00  19.00  74.00  30.00    NaN  34.00  \n",
       "calls_count_9   25.00  29.00  65.00  30.00    NaN  33.00  \n",
       "calls_count_10  28.00  36.00  76.00  48.00    NaN  49.00  \n",
       "calls_count_11  39.00  39.00  65.00  25.00  52.00  35.00  \n",
       "calls_count_12  32.00  32.00  58.00  43.00  90.00  32.00  \n",
       "calls_sum_1       NaN    NaN    NaN    NaN    NaN    NaN  \n",
       "calls_sum_2       NaN    NaN    NaN    NaN    NaN    NaN  \n",
       "calls_sum_3    109.00    NaN 212.00  13.00    NaN    NaN  \n",
       "calls_sum_4    324.00    NaN 371.00 345.00    NaN    NaN  \n",
       "calls_sum_5    170.00    NaN 437.00 316.00    NaN 102.00  \n",
       "calls_sum_6    289.00    NaN 327.00 219.00    NaN 180.00  \n",
       "calls_sum_7    183.00    NaN 502.00 223.00    NaN 300.00  \n",
       "calls_sum_8    249.00 142.00 515.00 157.00    NaN 241.00  \n",
       "calls_sum_9    133.00 142.00 472.00 230.00    NaN 250.00  \n",
       "calls_sum_10   213.00 245.00 630.00 451.00    NaN 332.00  \n",
       "calls_sum_11   290.00 290.00 501.00 206.00 369.00 237.00  \n",
       "calls_sum_12   229.00 336.00 361.00 356.00 567.00 175.00  "
      ]
     },
     "execution_count": 75,
     "metadata": {},
     "output_type": "execute_result"
    }
   ],
   "source": [
    "calls_per_month.head(15).T"
   ]
  },
  {
   "cell_type": "markdown",
   "id": "51f27985",
   "metadata": {},
   "source": [
    "**Итог по таблице `calls_per_month`**\n",
    "\n",
    "Форма таблицы приведена к желаемой. Данные вычислены корректно."
   ]
  },
  {
   "cell_type": "markdown",
   "id": "0b3503bf",
   "metadata": {},
   "source": [
    "### Помесячная выручка с каждого пользователя"
   ]
  },
  {
   "cell_type": "markdown",
   "id": "b0ccf734",
   "metadata": {},
   "source": [
    "С помощью метода `.join()` создадим сводную таблицу, учитывающую помесячную выручку для каждого пользователя."
   ]
  },
  {
   "cell_type": "markdown",
   "id": "a39cb870",
   "metadata": {},
   "source": [
    "Начнем с создания таблицы `revenue_per_month`. За основу возьмем таблицу `users`, в которой оставим только необходимые столбцы, а индексами сделаем значения графы `user_id`."
   ]
  },
  {
   "cell_type": "code",
   "execution_count": 76,
   "id": "2d73a00d",
   "metadata": {},
   "outputs": [
    {
     "data": {
      "text/plain": [
       "Index(['user_id', 'age', 'churn_date', 'city', 'first_name', 'last_name',\n",
       "       'reg_date', 'tariff'],\n",
       "      dtype='object')"
      ]
     },
     "execution_count": 76,
     "metadata": {},
     "output_type": "execute_result"
    }
   ],
   "source": [
    "users.columns"
   ]
  },
  {
   "cell_type": "code",
   "execution_count": 77,
   "id": "f6b8b97f",
   "metadata": {},
   "outputs": [],
   "source": [
    "revenue_per_month = users.set_index('user_id').loc[:, ['churn_date', 'city', 'reg_date', 'tariff']]"
   ]
  },
  {
   "cell_type": "markdown",
   "id": "43cadff0",
   "metadata": {},
   "source": [
    "Затем к созданной таблице последовательно присоединим таблицы `internet_per_month`, `messages_per_month` и `calls_per_month`."
   ]
  },
  {
   "cell_type": "code",
   "execution_count": 78,
   "id": "68a1ef17",
   "metadata": {},
   "outputs": [],
   "source": [
    "revenue_per_month = revenue_per_month.join(internet_per_month)"
   ]
  },
  {
   "cell_type": "code",
   "execution_count": 79,
   "id": "a9657f84",
   "metadata": {},
   "outputs": [],
   "source": [
    "revenue_per_month = revenue_per_month.join(messages_per_month)"
   ]
  },
  {
   "cell_type": "code",
   "execution_count": 80,
   "id": "d82c47a2",
   "metadata": {},
   "outputs": [],
   "source": [
    "revenue_per_month = revenue_per_month.join(calls_per_month)"
   ]
  },
  {
   "cell_type": "markdown",
   "id": "e10594b2",
   "metadata": {},
   "source": [
    "Проверим результат."
   ]
  },
  {
   "cell_type": "code",
   "execution_count": 81,
   "id": "a021c508",
   "metadata": {},
   "outputs": [
    {
     "name": "stdout",
     "output_type": "stream",
     "text": [
      "<class 'pandas.core.frame.DataFrame'>\n",
      "Int64Index: 500 entries, 1000 to 1499\n",
      "Data columns (total 64 columns):\n",
      " #   Column             Non-Null Count  Dtype         \n",
      "---  ------             --------------  -----         \n",
      " 0   churn_date         38 non-null     datetime64[ns]\n",
      " 1   city               500 non-null    object        \n",
      " 2   reg_date           500 non-null    datetime64[ns]\n",
      " 3   tariff             500 non-null    object        \n",
      " 4   internet_count_1   43 non-null     float64       \n",
      " 5   internet_count_2   80 non-null     float64       \n",
      " 6   internet_count_3   114 non-null    float64       \n",
      " 7   internet_count_4   167 non-null    float64       \n",
      " 8   internet_count_5   207 non-null    float64       \n",
      " 9   internet_count_6   247 non-null    float64       \n",
      " 10  internet_count_7   291 non-null    float64       \n",
      " 11  internet_count_8   340 non-null    float64       \n",
      " 12  internet_count_9   374 non-null    float64       \n",
      " 13  internet_count_10  416 non-null    float64       \n",
      " 14  internet_count_11  449 non-null    float64       \n",
      " 15  internet_count_12  475 non-null    float64       \n",
      " 16  internet_sum_1     43 non-null     float64       \n",
      " 17  internet_sum_2     80 non-null     float64       \n",
      " 18  internet_sum_3     114 non-null    float64       \n",
      " 19  internet_sum_4     167 non-null    float64       \n",
      " 20  internet_sum_5     207 non-null    float64       \n",
      " 21  internet_sum_6     247 non-null    float64       \n",
      " 22  internet_sum_7     291 non-null    float64       \n",
      " 23  internet_sum_8     340 non-null    float64       \n",
      " 24  internet_sum_9     374 non-null    float64       \n",
      " 25  internet_sum_10    416 non-null    float64       \n",
      " 26  internet_sum_11    449 non-null    float64       \n",
      " 27  internet_sum_12    475 non-null    float64       \n",
      " 28  messages_1         38 non-null     float64       \n",
      " 29  messages_2         66 non-null     float64       \n",
      " 30  messages_3         94 non-null     float64       \n",
      " 31  messages_4         135 non-null    float64       \n",
      " 32  messages_5         174 non-null    float64       \n",
      " 33  messages_6         209 non-null    float64       \n",
      " 34  messages_7         247 non-null    float64       \n",
      " 35  messages_8         292 non-null    float64       \n",
      " 36  messages_9         318 non-null    float64       \n",
      " 37  messages_10        357 non-null    float64       \n",
      " 38  messages_11        383 non-null    float64       \n",
      " 39  messages_12        404 non-null    float64       \n",
      " 40  calls_count_1      43 non-null     float64       \n",
      " 41  calls_count_2      82 non-null     float64       \n",
      " 42  calls_count_3      114 non-null    float64       \n",
      " 43  calls_count_4      165 non-null    float64       \n",
      " 44  calls_count_5      205 non-null    float64       \n",
      " 45  calls_count_6      244 non-null    float64       \n",
      " 46  calls_count_7      289 non-null    float64       \n",
      " 47  calls_count_8      337 non-null    float64       \n",
      " 48  calls_count_9      370 non-null    float64       \n",
      " 49  calls_count_10     411 non-null    float64       \n",
      " 50  calls_count_11     444 non-null    float64       \n",
      " 51  calls_count_12     470 non-null    float64       \n",
      " 52  calls_sum_1        43 non-null     float64       \n",
      " 53  calls_sum_2        82 non-null     float64       \n",
      " 54  calls_sum_3        114 non-null    float64       \n",
      " 55  calls_sum_4        165 non-null    float64       \n",
      " 56  calls_sum_5        205 non-null    float64       \n",
      " 57  calls_sum_6        244 non-null    float64       \n",
      " 58  calls_sum_7        289 non-null    float64       \n",
      " 59  calls_sum_8        337 non-null    float64       \n",
      " 60  calls_sum_9        370 non-null    float64       \n",
      " 61  calls_sum_10       411 non-null    float64       \n",
      " 62  calls_sum_11       444 non-null    float64       \n",
      " 63  calls_sum_12       470 non-null    float64       \n",
      "dtypes: datetime64[ns](2), float64(60), object(2)\n",
      "memory usage: 270.1+ KB\n"
     ]
    }
   ],
   "source": [
    "revenue_per_month.info()"
   ]
  },
  {
   "cell_type": "markdown",
   "id": "d8839a1d",
   "metadata": {},
   "source": [
    "Необходимые данные сведены в одну таблицу. Приступим к вычислению ежемесячной выручки с абонента."
   ]
  },
  {
   "cell_type": "markdown",
   "id": "844e167a",
   "metadata": {},
   "source": [
    "Напишем функцию, вычисляющую выручку за месяц."
   ]
  },
  {
   "cell_type": "code",
   "execution_count": 82,
   "id": "a8fe6ad1",
   "metadata": {},
   "outputs": [],
   "source": [
    "def month_revenue(row): # функция применяется к строке\n",
    "    \n",
    "    tariff = row['tariff'] # тариф абонента\n",
    "    \n",
    "    month_start = row['reg_date'].month # месяц подключения\n",
    "    \n",
    "    if np.isnan(row['churn_date'].month): # месяц отключения, если отключения не было присваивается значение 13\n",
    "        month_finish = 13\n",
    "    else:\n",
    "        month_finish = row['churn_date'].month\n",
    "      \n",
    "    rub_fee = tariffs.loc[tariff]['rub_monthly_fee'] # абонентская плата в месяц\n",
    "    \n",
    "    mb_included = tariffs.loc[tariff]['mb_per_month_included'] # объем интернет-трафика, включенный в тариф\n",
    "    rub_gb = tariffs.loc[tariff]['rub_per_gb'] # плата за трафик сверх тарифа\n",
    "    \n",
    "    mes_included = tariffs.loc[tariff]['messages_included'] # количество сообщений, включенное в тариф\n",
    "    rub_message = tariffs.loc[tariff]['rub_per_message'] # плата за сообщения сверх тарифа\n",
    "    \n",
    "    min_included = tariffs.loc[tariff]['minutes_included'] # длительность разговоров, включенное в тариф\n",
    "    rub_minute = tariffs.loc[tariff]['rub_per_minute'] # плата за разговоры сверх тарифа\n",
    "    \n",
    "   \n",
    "    \n",
    "    if month_nomber >= month_start and month_nomber <= month_finish: # проверка, действующий ли абонент\n",
    "            \n",
    "        bill = rub_fee # добавление в выручку абонентской платы\n",
    "        \n",
    "        # плата за превышение длительности разговоров    \n",
    "        over_calls = row[''.join(['calls_sum_', str(month_nomber)])] - min_included\n",
    "        if over_calls > 0:\n",
    "            bill += over_calls * rub_minute\n",
    "            \n",
    "        # плата за превышение количества сообщений        \n",
    "        over_mes = row[''.join(['messages_', str(month_nomber)])] - mes_included\n",
    "        if over_mes > 0:\n",
    "            bill += over_mes * rub_message\n",
    "            \n",
    "        # плата за превышение объема интернет-трафика        \n",
    "        over_mb = row[''.join(['internet_sum_', str(month_nomber)])] - mb_included\n",
    "        if over_mb > 0:\n",
    "            bill += math.ceil(over_mb / 1024) * rub_gb\n",
    "            \n",
    "        return bill # возвращаем выручку за месяц\n",
    "            \n",
    "    else:\n",
    "        return np.nan # возвращаем np.nan, если в текущем месяце абонент был не действующим "
   ]
  },
  {
   "cell_type": "markdown",
   "id": "4d929685",
   "metadata": {},
   "source": [
    "Проиндексируем таблицу `tariffs` по столбцу `tariff_name`."
   ]
  },
  {
   "cell_type": "code",
   "execution_count": 83,
   "id": "860c85fb",
   "metadata": {},
   "outputs": [
    {
     "data": {
      "text/html": [
       "<div>\n",
       "<style scoped>\n",
       "    .dataframe tbody tr th:only-of-type {\n",
       "        vertical-align: middle;\n",
       "    }\n",
       "\n",
       "    .dataframe tbody tr th {\n",
       "        vertical-align: top;\n",
       "    }\n",
       "\n",
       "    .dataframe thead th {\n",
       "        text-align: right;\n",
       "    }\n",
       "</style>\n",
       "<table border=\"1\" class=\"dataframe\">\n",
       "  <thead>\n",
       "    <tr style=\"text-align: right;\">\n",
       "      <th></th>\n",
       "      <th>messages_included</th>\n",
       "      <th>mb_per_month_included</th>\n",
       "      <th>minutes_included</th>\n",
       "      <th>rub_monthly_fee</th>\n",
       "      <th>rub_per_gb</th>\n",
       "      <th>rub_per_message</th>\n",
       "      <th>rub_per_minute</th>\n",
       "    </tr>\n",
       "    <tr>\n",
       "      <th>tariff_name</th>\n",
       "      <th></th>\n",
       "      <th></th>\n",
       "      <th></th>\n",
       "      <th></th>\n",
       "      <th></th>\n",
       "      <th></th>\n",
       "      <th></th>\n",
       "    </tr>\n",
       "  </thead>\n",
       "  <tbody>\n",
       "    <tr>\n",
       "      <th>smart</th>\n",
       "      <td>50</td>\n",
       "      <td>15360</td>\n",
       "      <td>500</td>\n",
       "      <td>550</td>\n",
       "      <td>200</td>\n",
       "      <td>3</td>\n",
       "      <td>3</td>\n",
       "    </tr>\n",
       "    <tr>\n",
       "      <th>ultra</th>\n",
       "      <td>1000</td>\n",
       "      <td>30720</td>\n",
       "      <td>3000</td>\n",
       "      <td>1950</td>\n",
       "      <td>150</td>\n",
       "      <td>1</td>\n",
       "      <td>1</td>\n",
       "    </tr>\n",
       "  </tbody>\n",
       "</table>\n",
       "</div>"
      ],
      "text/plain": [
       "             messages_included  mb_per_month_included  minutes_included  \\\n",
       "tariff_name                                                               \n",
       "smart                       50                  15360               500   \n",
       "ultra                     1000                  30720              3000   \n",
       "\n",
       "             rub_monthly_fee  rub_per_gb  rub_per_message  rub_per_minute  \n",
       "tariff_name                                                                \n",
       "smart                    550         200                3               3  \n",
       "ultra                   1950         150                1               1  "
      ]
     },
     "execution_count": 83,
     "metadata": {},
     "output_type": "execute_result"
    }
   ],
   "source": [
    "tariffs = tariffs.set_index('tariff_name')\n",
    "tariffs"
   ]
  },
  {
   "cell_type": "markdown",
   "id": "acc54093",
   "metadata": {},
   "source": [
    "Применим функцию `month_revenue` к таблице `revenue_per_month` для вычисления помесячной выручки."
   ]
  },
  {
   "cell_type": "code",
   "execution_count": 84,
   "id": "0dadd16d",
   "metadata": {},
   "outputs": [],
   "source": [
    "for month_nomber in range(1, 13):\n",
    "    rev_month = ''.join(['revenue_', str(month_nomber)])\n",
    "    revenue_per_month[rev_month] = revenue_per_month.apply(month_revenue, axis=1)"
   ]
  },
  {
   "cell_type": "markdown",
   "id": "38ece0fa",
   "metadata": {},
   "source": [
    "Проверим результат."
   ]
  },
  {
   "cell_type": "code",
   "execution_count": 85,
   "id": "e1e1f34d",
   "metadata": {},
   "outputs": [
    {
     "data": {
      "text/html": [
       "<div>\n",
       "<style scoped>\n",
       "    .dataframe tbody tr th:only-of-type {\n",
       "        vertical-align: middle;\n",
       "    }\n",
       "\n",
       "    .dataframe tbody tr th {\n",
       "        vertical-align: top;\n",
       "    }\n",
       "\n",
       "    .dataframe thead th {\n",
       "        text-align: right;\n",
       "    }\n",
       "</style>\n",
       "<table border=\"1\" class=\"dataframe\">\n",
       "  <thead>\n",
       "    <tr style=\"text-align: right;\">\n",
       "      <th>user_id</th>\n",
       "      <th>1000</th>\n",
       "      <th>1001</th>\n",
       "      <th>1002</th>\n",
       "      <th>1003</th>\n",
       "      <th>1004</th>\n",
       "      <th>1005</th>\n",
       "      <th>1006</th>\n",
       "      <th>1007</th>\n",
       "      <th>1008</th>\n",
       "      <th>1009</th>\n",
       "      <th>1010</th>\n",
       "      <th>1011</th>\n",
       "      <th>1012</th>\n",
       "      <th>1013</th>\n",
       "      <th>1014</th>\n",
       "    </tr>\n",
       "  </thead>\n",
       "  <tbody>\n",
       "    <tr>\n",
       "      <th>revenue_1</th>\n",
       "      <td>NaN</td>\n",
       "      <td>NaN</td>\n",
       "      <td>NaN</td>\n",
       "      <td>NaN</td>\n",
       "      <td>NaN</td>\n",
       "      <td>550.00</td>\n",
       "      <td>NaN</td>\n",
       "      <td>NaN</td>\n",
       "      <td>NaN</td>\n",
       "      <td>NaN</td>\n",
       "      <td>NaN</td>\n",
       "      <td>NaN</td>\n",
       "      <td>NaN</td>\n",
       "      <td>NaN</td>\n",
       "      <td>NaN</td>\n",
       "    </tr>\n",
       "    <tr>\n",
       "      <th>revenue_2</th>\n",
       "      <td>NaN</td>\n",
       "      <td>NaN</td>\n",
       "      <td>NaN</td>\n",
       "      <td>NaN</td>\n",
       "      <td>NaN</td>\n",
       "      <td>550.00</td>\n",
       "      <td>550.00</td>\n",
       "      <td>NaN</td>\n",
       "      <td>NaN</td>\n",
       "      <td>NaN</td>\n",
       "      <td>NaN</td>\n",
       "      <td>NaN</td>\n",
       "      <td>NaN</td>\n",
       "      <td>NaN</td>\n",
       "      <td>NaN</td>\n",
       "    </tr>\n",
       "    <tr>\n",
       "      <th>revenue_3</th>\n",
       "      <td>NaN</td>\n",
       "      <td>NaN</td>\n",
       "      <td>NaN</td>\n",
       "      <td>NaN</td>\n",
       "      <td>NaN</td>\n",
       "      <td>886.00</td>\n",
       "      <td>950.00</td>\n",
       "      <td>NaN</td>\n",
       "      <td>NaN</td>\n",
       "      <td>550.00</td>\n",
       "      <td>NaN</td>\n",
       "      <td>550.00</td>\n",
       "      <td>550.00</td>\n",
       "      <td>NaN</td>\n",
       "      <td>NaN</td>\n",
       "    </tr>\n",
       "    <tr>\n",
       "      <th>revenue_4</th>\n",
       "      <td>NaN</td>\n",
       "      <td>NaN</td>\n",
       "      <td>NaN</td>\n",
       "      <td>NaN</td>\n",
       "      <td>NaN</td>\n",
       "      <td>1,186.00</td>\n",
       "      <td>550.00</td>\n",
       "      <td>550.00</td>\n",
       "      <td>NaN</td>\n",
       "      <td>550.00</td>\n",
       "      <td>NaN</td>\n",
       "      <td>1,150.00</td>\n",
       "      <td>950.00</td>\n",
       "      <td>NaN</td>\n",
       "      <td>NaN</td>\n",
       "    </tr>\n",
       "    <tr>\n",
       "      <th>revenue_5</th>\n",
       "      <td>1,950.00</td>\n",
       "      <td>NaN</td>\n",
       "      <td>NaN</td>\n",
       "      <td>NaN</td>\n",
       "      <td>1,950.00</td>\n",
       "      <td>835.00</td>\n",
       "      <td>550.00</td>\n",
       "      <td>1,150.00</td>\n",
       "      <td>NaN</td>\n",
       "      <td>550.00</td>\n",
       "      <td>NaN</td>\n",
       "      <td>1,150.00</td>\n",
       "      <td>2,750.00</td>\n",
       "      <td>NaN</td>\n",
       "      <td>550.00</td>\n",
       "    </tr>\n",
       "    <tr>\n",
       "      <th>revenue_6</th>\n",
       "      <td>1,950.00</td>\n",
       "      <td>NaN</td>\n",
       "      <td>550.00</td>\n",
       "      <td>NaN</td>\n",
       "      <td>1,950.00</td>\n",
       "      <td>886.00</td>\n",
       "      <td>550.00</td>\n",
       "      <td>685.00</td>\n",
       "      <td>NaN</td>\n",
       "      <td>750.00</td>\n",
       "      <td>NaN</td>\n",
       "      <td>950.00</td>\n",
       "      <td>2,550.00</td>\n",
       "      <td>NaN</td>\n",
       "      <td>2,550.00</td>\n",
       "    </tr>\n",
       "    <tr>\n",
       "      <th>revenue_7</th>\n",
       "      <td>1,950.00</td>\n",
       "      <td>NaN</td>\n",
       "      <td>1,150.00</td>\n",
       "      <td>NaN</td>\n",
       "      <td>1,950.00</td>\n",
       "      <td>775.00</td>\n",
       "      <td>1,550.00</td>\n",
       "      <td>981.00</td>\n",
       "      <td>NaN</td>\n",
       "      <td>2,550.00</td>\n",
       "      <td>NaN</td>\n",
       "      <td>1,356.00</td>\n",
       "      <td>2,150.00</td>\n",
       "      <td>NaN</td>\n",
       "      <td>3,150.00</td>\n",
       "    </tr>\n",
       "    <tr>\n",
       "      <th>revenue_8</th>\n",
       "      <td>1,950.00</td>\n",
       "      <td>NaN</td>\n",
       "      <td>1,550.00</td>\n",
       "      <td>1,950.00</td>\n",
       "      <td>1,950.00</td>\n",
       "      <td>949.00</td>\n",
       "      <td>1,350.00</td>\n",
       "      <td>1,750.00</td>\n",
       "      <td>NaN</td>\n",
       "      <td>2,350.00</td>\n",
       "      <td>550.00</td>\n",
       "      <td>1,795.00</td>\n",
       "      <td>1,950.00</td>\n",
       "      <td>NaN</td>\n",
       "      <td>2,750.00</td>\n",
       "    </tr>\n",
       "    <tr>\n",
       "      <th>revenue_9</th>\n",
       "      <td>1,950.00</td>\n",
       "      <td>NaN</td>\n",
       "      <td>950.00</td>\n",
       "      <td>1,950.00</td>\n",
       "      <td>1,950.00</td>\n",
       "      <td>556.00</td>\n",
       "      <td>750.00</td>\n",
       "      <td>1,015.00</td>\n",
       "      <td>NaN</td>\n",
       "      <td>1,950.00</td>\n",
       "      <td>750.00</td>\n",
       "      <td>1,950.00</td>\n",
       "      <td>1,350.00</td>\n",
       "      <td>NaN</td>\n",
       "      <td>2,750.00</td>\n",
       "    </tr>\n",
       "    <tr>\n",
       "      <th>revenue_10</th>\n",
       "      <td>1,950.00</td>\n",
       "      <td>NaN</td>\n",
       "      <td>550.00</td>\n",
       "      <td>1,950.00</td>\n",
       "      <td>1,950.00</td>\n",
       "      <td>1,219.00</td>\n",
       "      <td>1,550.00</td>\n",
       "      <td>550.00</td>\n",
       "      <td>NaN</td>\n",
       "      <td>1,550.00</td>\n",
       "      <td>550.00</td>\n",
       "      <td>1,540.00</td>\n",
       "      <td>3,350.00</td>\n",
       "      <td>NaN</td>\n",
       "      <td>2,153.00</td>\n",
       "    </tr>\n",
       "    <tr>\n",
       "      <th>revenue_11</th>\n",
       "      <td>1,950.00</td>\n",
       "      <td>1,150.00</td>\n",
       "      <td>1,350.00</td>\n",
       "      <td>1,950.00</td>\n",
       "      <td>1,950.00</td>\n",
       "      <td>694.00</td>\n",
       "      <td>550.00</td>\n",
       "      <td>990.00</td>\n",
       "      <td>NaN</td>\n",
       "      <td>950.00</td>\n",
       "      <td>1,350.00</td>\n",
       "      <td>2,553.00</td>\n",
       "      <td>1,950.00</td>\n",
       "      <td>1,950.00</td>\n",
       "      <td>2,550.00</td>\n",
       "    </tr>\n",
       "    <tr>\n",
       "      <th>revenue_12</th>\n",
       "      <td>1,950.00</td>\n",
       "      <td>550.00</td>\n",
       "      <td>1,150.00</td>\n",
       "      <td>1,950.00</td>\n",
       "      <td>1,950.00</td>\n",
       "      <td>838.00</td>\n",
       "      <td>1,350.00</td>\n",
       "      <td>550.00</td>\n",
       "      <td>568.00</td>\n",
       "      <td>1,350.00</td>\n",
       "      <td>1,350.00</td>\n",
       "      <td>2,150.00</td>\n",
       "      <td>550.00</td>\n",
       "      <td>1,950.00</td>\n",
       "      <td>2,559.00</td>\n",
       "    </tr>\n",
       "  </tbody>\n",
       "</table>\n",
       "</div>"
      ],
      "text/plain": [
       "user_id        1000     1001     1002     1003     1004     1005     1006  \\\n",
       "revenue_1       NaN      NaN      NaN      NaN      NaN   550.00      NaN   \n",
       "revenue_2       NaN      NaN      NaN      NaN      NaN   550.00   550.00   \n",
       "revenue_3       NaN      NaN      NaN      NaN      NaN   886.00   950.00   \n",
       "revenue_4       NaN      NaN      NaN      NaN      NaN 1,186.00   550.00   \n",
       "revenue_5  1,950.00      NaN      NaN      NaN 1,950.00   835.00   550.00   \n",
       "revenue_6  1,950.00      NaN   550.00      NaN 1,950.00   886.00   550.00   \n",
       "revenue_7  1,950.00      NaN 1,150.00      NaN 1,950.00   775.00 1,550.00   \n",
       "revenue_8  1,950.00      NaN 1,550.00 1,950.00 1,950.00   949.00 1,350.00   \n",
       "revenue_9  1,950.00      NaN   950.00 1,950.00 1,950.00   556.00   750.00   \n",
       "revenue_10 1,950.00      NaN   550.00 1,950.00 1,950.00 1,219.00 1,550.00   \n",
       "revenue_11 1,950.00 1,150.00 1,350.00 1,950.00 1,950.00   694.00   550.00   \n",
       "revenue_12 1,950.00   550.00 1,150.00 1,950.00 1,950.00   838.00 1,350.00   \n",
       "\n",
       "user_id        1007   1008     1009     1010     1011     1012     1013  \\\n",
       "revenue_1       NaN    NaN      NaN      NaN      NaN      NaN      NaN   \n",
       "revenue_2       NaN    NaN      NaN      NaN      NaN      NaN      NaN   \n",
       "revenue_3       NaN    NaN   550.00      NaN   550.00   550.00      NaN   \n",
       "revenue_4    550.00    NaN   550.00      NaN 1,150.00   950.00      NaN   \n",
       "revenue_5  1,150.00    NaN   550.00      NaN 1,150.00 2,750.00      NaN   \n",
       "revenue_6    685.00    NaN   750.00      NaN   950.00 2,550.00      NaN   \n",
       "revenue_7    981.00    NaN 2,550.00      NaN 1,356.00 2,150.00      NaN   \n",
       "revenue_8  1,750.00    NaN 2,350.00   550.00 1,795.00 1,950.00      NaN   \n",
       "revenue_9  1,015.00    NaN 1,950.00   750.00 1,950.00 1,350.00      NaN   \n",
       "revenue_10   550.00    NaN 1,550.00   550.00 1,540.00 3,350.00      NaN   \n",
       "revenue_11   990.00    NaN   950.00 1,350.00 2,553.00 1,950.00 1,950.00   \n",
       "revenue_12   550.00 568.00 1,350.00 1,350.00 2,150.00   550.00 1,950.00   \n",
       "\n",
       "user_id        1014  \n",
       "revenue_1       NaN  \n",
       "revenue_2       NaN  \n",
       "revenue_3       NaN  \n",
       "revenue_4       NaN  \n",
       "revenue_5    550.00  \n",
       "revenue_6  2,550.00  \n",
       "revenue_7  3,150.00  \n",
       "revenue_8  2,750.00  \n",
       "revenue_9  2,750.00  \n",
       "revenue_10 2,153.00  \n",
       "revenue_11 2,550.00  \n",
       "revenue_12 2,559.00  "
      ]
     },
     "execution_count": 85,
     "metadata": {},
     "output_type": "execute_result"
    }
   ],
   "source": [
    "revenue_per_month.loc[:, ['revenue_1', 'revenue_2', 'revenue_3', 'revenue_4', \n",
    "                          'revenue_5', 'revenue_6', 'revenue_7', 'revenue_8', \n",
    "                          'revenue_9', 'revenue_10', 'revenue_11', 'revenue_12']].head(15).T"
   ]
  },
  {
   "cell_type": "code",
   "execution_count": 86,
   "id": "6420ba5e",
   "metadata": {},
   "outputs": [
    {
     "name": "stdout",
     "output_type": "stream",
     "text": [
      "<class 'pandas.core.frame.DataFrame'>\n",
      "Int64Index: 500 entries, 1000 to 1499\n",
      "Data columns (total 76 columns):\n",
      " #   Column             Non-Null Count  Dtype         \n",
      "---  ------             --------------  -----         \n",
      " 0   churn_date         38 non-null     datetime64[ns]\n",
      " 1   city               500 non-null    object        \n",
      " 2   reg_date           500 non-null    datetime64[ns]\n",
      " 3   tariff             500 non-null    object        \n",
      " 4   internet_count_1   43 non-null     float64       \n",
      " 5   internet_count_2   80 non-null     float64       \n",
      " 6   internet_count_3   114 non-null    float64       \n",
      " 7   internet_count_4   167 non-null    float64       \n",
      " 8   internet_count_5   207 non-null    float64       \n",
      " 9   internet_count_6   247 non-null    float64       \n",
      " 10  internet_count_7   291 non-null    float64       \n",
      " 11  internet_count_8   340 non-null    float64       \n",
      " 12  internet_count_9   374 non-null    float64       \n",
      " 13  internet_count_10  416 non-null    float64       \n",
      " 14  internet_count_11  449 non-null    float64       \n",
      " 15  internet_count_12  475 non-null    float64       \n",
      " 16  internet_sum_1     43 non-null     float64       \n",
      " 17  internet_sum_2     80 non-null     float64       \n",
      " 18  internet_sum_3     114 non-null    float64       \n",
      " 19  internet_sum_4     167 non-null    float64       \n",
      " 20  internet_sum_5     207 non-null    float64       \n",
      " 21  internet_sum_6     247 non-null    float64       \n",
      " 22  internet_sum_7     291 non-null    float64       \n",
      " 23  internet_sum_8     340 non-null    float64       \n",
      " 24  internet_sum_9     374 non-null    float64       \n",
      " 25  internet_sum_10    416 non-null    float64       \n",
      " 26  internet_sum_11    449 non-null    float64       \n",
      " 27  internet_sum_12    475 non-null    float64       \n",
      " 28  messages_1         38 non-null     float64       \n",
      " 29  messages_2         66 non-null     float64       \n",
      " 30  messages_3         94 non-null     float64       \n",
      " 31  messages_4         135 non-null    float64       \n",
      " 32  messages_5         174 non-null    float64       \n",
      " 33  messages_6         209 non-null    float64       \n",
      " 34  messages_7         247 non-null    float64       \n",
      " 35  messages_8         292 non-null    float64       \n",
      " 36  messages_9         318 non-null    float64       \n",
      " 37  messages_10        357 non-null    float64       \n",
      " 38  messages_11        383 non-null    float64       \n",
      " 39  messages_12        404 non-null    float64       \n",
      " 40  calls_count_1      43 non-null     float64       \n",
      " 41  calls_count_2      82 non-null     float64       \n",
      " 42  calls_count_3      114 non-null    float64       \n",
      " 43  calls_count_4      165 non-null    float64       \n",
      " 44  calls_count_5      205 non-null    float64       \n",
      " 45  calls_count_6      244 non-null    float64       \n",
      " 46  calls_count_7      289 non-null    float64       \n",
      " 47  calls_count_8      337 non-null    float64       \n",
      " 48  calls_count_9      370 non-null    float64       \n",
      " 49  calls_count_10     411 non-null    float64       \n",
      " 50  calls_count_11     444 non-null    float64       \n",
      " 51  calls_count_12     470 non-null    float64       \n",
      " 52  calls_sum_1        43 non-null     float64       \n",
      " 53  calls_sum_2        82 non-null     float64       \n",
      " 54  calls_sum_3        114 non-null    float64       \n",
      " 55  calls_sum_4        165 non-null    float64       \n",
      " 56  calls_sum_5        205 non-null    float64       \n",
      " 57  calls_sum_6        244 non-null    float64       \n",
      " 58  calls_sum_7        289 non-null    float64       \n",
      " 59  calls_sum_8        337 non-null    float64       \n",
      " 60  calls_sum_9        370 non-null    float64       \n",
      " 61  calls_sum_10       411 non-null    float64       \n",
      " 62  calls_sum_11       444 non-null    float64       \n",
      " 63  calls_sum_12       470 non-null    float64       \n",
      " 64  revenue_1          43 non-null     float64       \n",
      " 65  revenue_2          82 non-null     float64       \n",
      " 66  revenue_3          114 non-null    float64       \n",
      " 67  revenue_4          167 non-null    float64       \n",
      " 68  revenue_5          208 non-null    float64       \n",
      " 69  revenue_6          248 non-null    float64       \n",
      " 70  revenue_7          292 non-null    float64       \n",
      " 71  revenue_8          342 non-null    float64       \n",
      " 72  revenue_9          375 non-null    float64       \n",
      " 73  revenue_10         417 non-null    float64       \n",
      " 74  revenue_11         450 non-null    float64       \n",
      " 75  revenue_12         478 non-null    float64       \n",
      "dtypes: datetime64[ns](2), float64(72), object(2)\n",
      "memory usage: 316.9+ KB\n"
     ]
    }
   ],
   "source": [
    "revenue_per_month.info()"
   ]
  },
  {
   "cell_type": "markdown",
   "id": "baa3313a",
   "metadata": {},
   "source": [
    "**Итог по таблице `revenue_per_month`**\n",
    "\n",
    "Форма таблицы приведена к желаемой. Данные вычислены корректно."
   ]
  },
  {
   "cell_type": "markdown",
   "id": "dd643a03",
   "metadata": {},
   "source": [
    "### Вывод"
   ]
  },
  {
   "cell_type": "markdown",
   "id": "df38962f",
   "metadata": {},
   "source": [
    "Мы создали сводную таблицу, в которую занесли следующие значения, рассчитанные для каждого пользователя:\n",
    "- количество сделанных звонков и израсходованных минут разговора по месяцам;\n",
    "- количество отправленных сообщений по месяцам;\n",
    "- объем израсходованного интернет-трафика по месяцам;\n",
    "- помесячную выручку с каждого пользователя.\n",
    "\n",
    "Можно приступать к анализу имеющихся данных.\n",
    "\n",
    "[В начало раздела 3](#section_3)"
   ]
  },
  {
   "cell_type": "markdown",
   "id": "cdbb75f0",
   "metadata": {},
   "source": [
    "<a id=\"section_4\"></a>\n",
    "## Анализ данных, характеризующих поведение клиентов"
   ]
  },
  {
   "cell_type": "markdown",
   "id": "fc99f7e0",
   "metadata": {},
   "source": [
    "В данном разделе проведем анализ поведения клиентов оператора, на основе выборки данных по 500 абонентам.\n",
    "\n",
    "Опишем поведение клиентов оператора: сколько минут разговора, сколько сообщений и какой объём интернет-трафика требуется пользователям каждого тарифа в месяц. \n",
    "\n",
    "Для этого посчитаем среднее количество, дисперсию и стандартное отклонение. Построим гистограммы. Опишем распределения."
   ]
  },
  {
   "cell_type": "markdown",
   "id": "f74486ea",
   "metadata": {},
   "source": [
    "### Определение функции, описывающей поведение клиентов"
   ]
  },
  {
   "cell_type": "markdown",
   "id": "89e6fc19",
   "metadata": {},
   "source": [
    "Поскольку в ходе исследования нам предстоит повторять однотипную последовательность действий, напишем функцию, позволяющую автоматизировать этот процесс."
   ]
  },
  {
   "cell_type": "code",
   "execution_count": 87,
   "id": "a6cdd655",
   "metadata": {},
   "outputs": [],
   "source": [
    "def behavior(query_tariff, service): # на вход подаются наименования тарифа и услуги в формате\n",
    "                                     # 'tariff == \"ultra\"' or 'tariff == \"smart\"' and service ~ 'calls_sum_'\n",
    "        \n",
    "    # создаем список наименования интересующих столбцов\n",
    "    service_columns = []\n",
    "    for month in range(1, 13):\n",
    "        col_name = ''.join([service, str(month)])\n",
    "        service_columns.append(col_name)\n",
    "        \n",
    "    # создаем массив из отобранных столбцов с фильтрацией по тарифу     \n",
    "    service_arr = np.array(revenue_per_month.query(query_tariff)[service_columns])\n",
    "    \n",
    "    # вычисляем меры центральной тенденции и характеристики распределения\n",
    "    service_mean = np.nanmean(service_arr)\n",
    "    service_median = np.nanmedian(service_arr)\n",
    "    service_var = np.nanvar(service_arr, ddof=1)\n",
    "    service_std = np.nanstd(service_arr, ddof=1)\n",
    "    \n",
    "    # определяем нижнюю границу по правилу трех сигм\n",
    "    if (service_mean - service_std * 3) < 0:\n",
    "        service_min = 0\n",
    "    else:\n",
    "        service_min = service_mean - service_std * 3\n",
    "    \n",
    "    # определяем верхнюю границу по правилу трех сигм\n",
    "    service_max = service_mean + service_std * 3\n",
    "    \n",
    "    # определяем направление смещения распределения\n",
    "    if (service_median - service_mean) > 0:\n",
    "        displacement = 'влево'\n",
    "    elif (service_median - service_mean) < 0:\n",
    "        displacement = 'вправо'\n",
    "    else:\n",
    "        displacement = 'не имеет смещения'\n",
    "    \n",
    "    # определяем количество значений в выборке\n",
    "    n_all = service_arr.size\n",
    "    n_nan = np.isnan(service_arr).sum()\n",
    "    n = n_all - n_nan\n",
    "    \n",
    "    # формула Стерджеса, k - количество корзин (интервалов)\n",
    "    k = math.floor(1 + 3.322 * math.log10(n))\n",
    "    \n",
    "    # подготавливаем данные для построения гистограммы\n",
    "    hist_list = []\n",
    "    for i in service_arr:\n",
    "        for j in i:\n",
    "            hist_list.append(j)\n",
    "    \n",
    "    # строим гистограмму плотности вероятностей\n",
    "    pd.Series(hist_list).hist(density=True, bins=k)\n",
    "    plt.title(\"гистограмма плотности вероятностей\")\n",
    "    plt.xlabel(service)\n",
    "    plt.ylabel(\"плотность вероятности\")\n",
    "    plt.show()\n",
    "    \n",
    "    # выводим характеристики распределения\n",
    "    print(f'mean={service_mean}, var={service_var}, std={service_std}')\n",
    "    \n",
    "    # выводим описание распределения\n",
    "    print(f'\\nИзучив имеющююся выборку можем сделать следующие выводы о генеральной совокупности исследуемой величины.',\n",
    "          f'\\nРаспределение имеет смещение {displacement}.',\n",
    "          f'\\nИсследуемая величина распределена вокруг матожидания {round(service_mean)}.'\n",
    "          f'\\nБолее 99% процентов значений лежит в диапазоне от {round(service_min)} до {round(service_max)}.')\n",
    "          \n",
    "    # возвращаем характеристики распределения\n",
    "    return service_mean, service_var, service_std"
   ]
  },
  {
   "cell_type": "markdown",
   "id": "1badaa0a",
   "metadata": {},
   "source": [
    "### Анализ длительности разговоров"
   ]
  },
  {
   "cell_type": "markdown",
   "id": "d5b608d1",
   "metadata": {},
   "source": [
    "С помощью функции `behavior()`построим гистограмму плотности вероятностей длительности разговоров, а также вычислим среднее, дисперсию и стандартное отклонение для каждого из тарифов."
   ]
  },
  {
   "cell_type": "markdown",
   "id": "b7ebf57d",
   "metadata": {},
   "source": [
    "**тариф ultra**"
   ]
  },
  {
   "cell_type": "code",
   "execution_count": 88,
   "id": "aaf1d245",
   "metadata": {},
   "outputs": [
    {
     "data": {
      "image/png": "[encoded data removed]",
      "text/plain": [
       "<Figure size 432x288 with 1 Axes>"
      ]
     },
     "metadata": {
      "needs_background": "light"
     },
     "output_type": "display_data"
    },
    {
     "name": "stdout",
     "output_type": "stream",
     "text": [
      "mean=545.4511041009464, var=94203.4183961481, std=306.9257538821858\n",
      "\n",
      "Изучив имеющююся выборку можем сделать следующие выводы о генеральной совокупности исследуемой величины. \n",
      "Распределение имеет смещение вправо. \n",
      "Исследуемая величина распределена вокруг матожидания 545.\n",
      "Более 99% процентов значений лежит в диапазоне от 0 до 1466.\n"
     ]
    }
   ],
   "source": [
    "ultra_calls_mean, ultra_calls_var, ultra_calls_std = behavior('tariff == \"ultra\"', 'calls_sum_')"
   ]
  },
  {
   "cell_type": "markdown",
   "id": "d335a3b9",
   "metadata": {},
   "source": [
    "**тариф smart**"
   ]
  },
  {
   "cell_type": "code",
   "execution_count": 89,
   "id": "ecb500ed",
   "metadata": {},
   "outputs": [
    {
     "data": {
      "image/png": "[encoded data removed]",
      "text/plain": [
       "<Figure size 432x288 with 1 Axes>"
      ]
     },
     "metadata": {
      "needs_background": "light"
     },
     "output_type": "display_data"
    },
    {
     "name": "stdout",
     "output_type": "stream",
     "text": [
      "mean=419.0629779577148, var=35844.1895513438, std=189.3256177894154\n",
      "\n",
      "Изучив имеющююся выборку можем сделать следующие выводы о генеральной совокупности исследуемой величины. \n",
      "Распределение имеет смещение влево. \n",
      "Исследуемая величина распределена вокруг матожидания 419.\n",
      "Более 99% процентов значений лежит в диапазоне от 0 до 987.\n"
     ]
    }
   ],
   "source": [
    "smart_calls_mean, smart_calls_var, smart_calls_std = behavior('tariff == \"smart\"', 'calls_sum_')"
   ]
  },
  {
   "cell_type": "markdown",
   "id": "4e665848",
   "metadata": {},
   "source": [
    "### Анализ количества сообщений"
   ]
  },
  {
   "cell_type": "markdown",
   "id": "32e5be3d",
   "metadata": {},
   "source": [
    "С помощью функции `behavior()`построим гистограмму плотности вероятностей количества сообщений, а также вычислим среднее, дисперсию и стандартное отклонение для каждого из тарифов."
   ]
  },
  {
   "cell_type": "markdown",
   "id": "b72d3c1b",
   "metadata": {},
   "source": [
    "**тариф ultra**"
   ]
  },
  {
   "cell_type": "code",
   "execution_count": 90,
   "id": "1cd15e05",
   "metadata": {},
   "outputs": [
    {
     "data": {
      "image/png": "[encoded data removed]",
      "text/plain": [
       "<Figure size 432x288 with 1 Axes>"
      ]
     },
     "metadata": {
      "needs_background": "light"
     },
     "output_type": "display_data"
    },
    {
     "name": "stdout",
     "output_type": "stream",
     "text": [
      "mean=61.161006289308176, var=2109.6591828651995, std=45.93102636416042\n",
      "\n",
      "Изучив имеющююся выборку можем сделать следующие выводы о генеральной совокупности исследуемой величины. \n",
      "Распределение имеет смещение вправо. \n",
      "Исследуемая величина распределена вокруг матожидания 61.\n",
      "Более 99% процентов значений лежит в диапазоне от 0 до 199.\n"
     ]
    }
   ],
   "source": [
    "ultra_messages_mean, ultra_messages_var, ultra_messages_std = behavior('tariff == \"ultra\"', 'messages_')"
   ]
  },
  {
   "cell_type": "markdown",
   "id": "d6db4692",
   "metadata": {},
   "source": [
    "**тариф smart**"
   ]
  },
  {
   "cell_type": "code",
   "execution_count": 91,
   "id": "ab6b3603",
   "metadata": {},
   "outputs": [
    {
     "data": {
      "image/png": "[encoded data removed]",
      "text/plain": [
       "<Figure size 432x288 with 1 Axes>"
      ]
     },
     "metadata": {
      "needs_background": "light"
     },
     "output_type": "display_data"
    },
    {
     "name": "stdout",
     "output_type": "stream",
     "text": [
      "mean=38.71644120707596, var=717.5942011753547, std=26.787948804926344\n",
      "\n",
      "Изучив имеющююся выборку можем сделать следующие выводы о генеральной совокупности исследуемой величины. \n",
      "Распределение имеет смещение вправо. \n",
      "Исследуемая величина распределена вокруг матожидания 39.\n",
      "Более 99% процентов значений лежит в диапазоне от 0 до 119.\n"
     ]
    }
   ],
   "source": [
    "smart_messages_mean, smart_messages_var, smart_messages_std = behavior('tariff == \"smart\"', 'messages_')"
   ]
  },
  {
   "cell_type": "markdown",
   "id": "fa3f0150",
   "metadata": {},
   "source": [
    "### Анализ объёма интернет-трафика"
   ]
  },
  {
   "cell_type": "markdown",
   "id": "f7506948",
   "metadata": {},
   "source": [
    "С помощью функции `behavior()`построим гистограмму плотности вероятностей объёма интернет-трафика, а также вычислим среднее, дисперсию и стандартное отклонение для каждого из тарифов."
   ]
  },
  {
   "cell_type": "markdown",
   "id": "09a422d0",
   "metadata": {},
   "source": [
    "**тариф ultra**"
   ]
  },
  {
   "cell_type": "code",
   "execution_count": 92,
   "id": "07ae553b",
   "metadata": {},
   "outputs": [
    {
     "data": {
      "image/png": "[encoded data removed]",
      "text/plain": [
       "<Figure size 432x288 with 1 Axes>"
      ]
     },
     "metadata": {
      "needs_background": "light"
     },
     "output_type": "display_data"
    },
    {
     "name": "stdout",
     "output_type": "stream",
     "text": [
      "mean=19668.48526153846, var=98864248.95263152, std=9943.050284124662\n",
      "\n",
      "Изучив имеющююся выборку можем сделать следующие выводы о генеральной совокупности исследуемой величины. \n",
      "Распределение имеет смещение вправо. \n",
      "Исследуемая величина распределена вокруг матожидания 19668.\n",
      "Более 99% процентов значений лежит в диапазоне от 0 до 49498.\n"
     ]
    }
   ],
   "source": [
    "ultra_internet_mean, ultra_internet_var, ultra_internet_std = behavior('tariff == \"ultra\"', 'internet_sum_')"
   ]
  },
  {
   "cell_type": "markdown",
   "id": "0e2c4263",
   "metadata": {},
   "source": [
    "**тариф smart**"
   ]
  },
  {
   "cell_type": "code",
   "execution_count": 93,
   "id": "c32a314b",
   "metadata": {},
   "outputs": [
    {
     "data": {
      "image/png": "[encoded data removed]",
      "text/plain": [
       "<Figure size 432x288 with 1 Axes>"
      ]
     },
     "metadata": {
      "needs_background": "light"
     },
     "output_type": "display_data"
    },
    {
     "name": "stdout",
     "output_type": "stream",
     "text": [
      "mean=16215.661849192098, var=34359951.682283156, std=5861.736234451629\n",
      "\n",
      "Изучив имеющююся выборку можем сделать следующие выводы о генеральной совокупности исследуемой величины. \n",
      "Распределение имеет смещение влево. \n",
      "Исследуемая величина распределена вокруг матожидания 16216.\n",
      "Более 99% процентов значений лежит в диапазоне от 0 до 33801.\n"
     ]
    }
   ],
   "source": [
    "smart_internet_mean, smart_internet_var, smart_internet_std = behavior('tariff == \"smart\"', 'internet_sum_')"
   ]
  },
  {
   "cell_type": "markdown",
   "id": "5574556b",
   "metadata": {},
   "source": [
    "### Вывод"
   ]
  },
  {
   "cell_type": "markdown",
   "id": "52bbd8e1",
   "metadata": {},
   "source": [
    "Выполнив анализ поведения клиентов оператора, на основе выборки данных по 500 абонентам, мы получили следующие показатели для генеральной совокупности по использованию услуг абонентом в месяц для каждого тарифа:\n",
    "\n",
    "- длительность разговоров, минут:\n",
    "\n",
    "\n",
    "    - ultra: матожидание 545, диапазон от 0 до 1466\n",
    "    - smart: матожидание 419, диапазон от 0 до 987\n",
    "\n",
    "\n",
    "- количество сообщений:\n",
    "\n",
    "\n",
    "    - ultra: матожидание 61, диапазон от 0 до 199\n",
    "    - smart: матожидание 39, диапазон от 0 до 119\n",
    "\n",
    "\n",
    "- объём интернет-трафика, МБайт:\n",
    "\n",
    "\n",
    "    - ultra: матожидание 19668, диапазон от 0 до 49498\n",
    "    - smart: матожидание 16216, диапазон от 0 до 33801\n",
    "\n",
    "Можем видеть, что различия в объеме потребляемых услуг между абонентами различных тарифов имеются. Однако, они не столь велики, как различия в выручке.\n",
    "\n",
    "[В начало раздела 4](#section_4)"
   ]
  },
  {
   "cell_type": "markdown",
   "id": "efe27515",
   "metadata": {},
   "source": [
    "<a id=\"section_5\"></a>\n",
    "## Проверка гипотез"
   ]
  },
  {
   "cell_type": "markdown",
   "id": "1f88f987",
   "metadata": {},
   "source": [
    "В этом разделе мы проверим две гипотезы:\n",
    "\n",
    "- средняя выручка пользователей тарифов «Ультра» и «Смарт» различаются;\n",
    "- средняя выручка пользователей из Москвы отличается от выручки пользователей из других регионов."
   ]
  },
  {
   "cell_type": "markdown",
   "id": "e0d76752",
   "metadata": {},
   "source": [
    "### Определение функции, автоматизирующей проверку гипотез"
   ]
  },
  {
   "cell_type": "markdown",
   "id": "f9d0b2ac",
   "metadata": {},
   "source": [
    "Поскольку в ходе проверки нам предстоит повторять однотипную последовательность действий, напишем функцию, позволяющую автоматизировать этот процесс."
   ]
  },
  {
   "cell_type": "code",
   "execution_count": 94,
   "id": "e6699d8d",
   "metadata": {},
   "outputs": [],
   "source": [
    "# на вход подаются проверяемые параметры и исследуемая величина в формате\n",
    "# 'tariff == \"ultra\"' or 'tariff == \"smart\"' and \n",
    "#  feature ~ 'revenue_'\n",
    "def check(check_group_1, check_group_2, feature): \n",
    "    \n",
    "    # создаем список наименования интересующих столбцов\n",
    "    feature_columns = []\n",
    "    for month in range(1, 13):\n",
    "        col_name = ''.join([feature, str(month)])\n",
    "        feature_columns.append(col_name)\n",
    "    \n",
    "    # создаем массивы из отобранных столбцов с разделением по проверяемому параметру\n",
    "    feature_arr_1 = np.array(revenue_per_month.query(check_group_1)[feature_columns])\n",
    "    feature_arr_2 = np.array(revenue_per_month.query(check_group_2)[feature_columns])\n",
    "    \n",
    "    # проводим t-test на равенство среднего двух генеральных совокупностей по независимым выборкам\n",
    "    # equal_var = False, дисперсии и размеры выборок различны\n",
    "    results = st.ttest_ind(feature_arr_1, feature_arr_2, nan_policy='omit', axis=None, equal_var = False)\n",
    "    \n",
    "    # выводим вычисленное p-значение\n",
    "    print(f'p-значение: {results.pvalue}')\n",
    "    \n",
    "    # возвращаем результат t-test'а\n",
    "    return results"
   ]
  },
  {
   "cell_type": "markdown",
   "id": "45c7c7d5",
   "metadata": {},
   "source": [
    "### Средняя выручка пользователей тарифов «Ультра» и «Смарт» различаются"
   ]
  },
  {
   "cell_type": "markdown",
   "id": "f876a382",
   "metadata": {},
   "source": [
    "С помощью функции `behavior()`построим гистограмму плотности вероятностей выручки, а также вычислим среднее, дисперсию и стандартное отклонение для каждого из тарифов."
   ]
  },
  {
   "cell_type": "markdown",
   "id": "8e185164",
   "metadata": {},
   "source": [
    "**ultra**"
   ]
  },
  {
   "cell_type": "code",
   "execution_count": 95,
   "id": "c37a4d04",
   "metadata": {},
   "outputs": [
    {
     "data": {
      "image/png": "[encoded data removed]",
      "text/plain": [
       "<Figure size 432x288 with 1 Axes>"
      ]
     },
     "metadata": {
      "needs_background": "light"
     },
     "output_type": "display_data"
    },
    {
     "name": "stdout",
     "output_type": "stream",
     "text": [
      "mean=2070.030425963489, var=141387.7148093615, std=376.0155778812382\n",
      "\n",
      "Изучив имеющююся выборку можем сделать следующие выводы о генеральной совокупности исследуемой величины. \n",
      "Распределение имеет смещение вправо. \n",
      "Исследуемая величина распределена вокруг матожидания 2070.\n",
      "Более 99% процентов значений лежит в диапазоне от 942 до 3198.\n"
     ]
    },
    {
     "data": {
      "text/plain": [
       "(2070.030425963489, 141387.7148093615, 376.0155778812382)"
      ]
     },
     "execution_count": 95,
     "metadata": {},
     "output_type": "execute_result"
    }
   ],
   "source": [
    "behavior('tariff == \"ultra\"', 'revenue_')"
   ]
  },
  {
   "cell_type": "markdown",
   "id": "938fe127",
   "metadata": {},
   "source": [
    "**smart**"
   ]
  },
  {
   "cell_type": "code",
   "execution_count": 96,
   "id": "7749b3a1",
   "metadata": {},
   "outputs": [
    {
     "data": {
      "image/png": "[encoded data removed]",
      "text/plain": [
       "<Figure size 432x288 with 1 Axes>"
      ]
     },
     "metadata": {
      "needs_background": "light"
     },
     "output_type": "display_data"
    },
    {
     "name": "stdout",
     "output_type": "stream",
     "text": [
      "mean=1289.6417040358745, var=669730.763894807, std=818.370798534996\n",
      "\n",
      "Изучив имеющююся выборку можем сделать следующие выводы о генеральной совокупности исследуемой величины. \n",
      "Распределение имеет смещение вправо. \n",
      "Исследуемая величина распределена вокруг матожидания 1290.\n",
      "Более 99% процентов значений лежит в диапазоне от 0 до 3745.\n"
     ]
    },
    {
     "data": {
      "text/plain": [
       "(1289.6417040358745, 669730.763894807, 818.370798534996)"
      ]
     },
     "execution_count": 96,
     "metadata": {},
     "output_type": "execute_result"
    }
   ],
   "source": [
    "behavior('tariff == \"smart\"', 'revenue_')"
   ]
  },
  {
   "cell_type": "markdown",
   "id": "3f20bbae",
   "metadata": {},
   "source": [
    "Проверим гипотезу о том, что средняя выручка пользователей тарифов «Ультра» и «Смарт» различаются.\n",
    "\n",
    "Сформулируем нулевую (H_0) и альтернативную (H_1) гипотезы. Учтем, что в нулевой гипотезе должен присутствовать знак равенства. Также примем во внимание, что гипотеза двухсторонняя, что позволяет использовать полученный уровень значимости без дополнительных преобразований.\n",
    "\n",
    "H_0 = средняя выручка пользователей тарифов «Ультра» и «Смарт» равны.\n",
    "\n",
    "H_1 = средняя выручка пользователей тарифов «Ультра» и «Смарт» не равны."
   ]
  },
  {
   "cell_type": "markdown",
   "id": "b2ab1375",
   "metadata": {},
   "source": [
    "С помощью функции `check()` проведем `t-test` на равенство среднего двух генеральных совокупностей по независимым выборкам и вычислим `p-value` для каждого из тарифов."
   ]
  },
  {
   "cell_type": "code",
   "execution_count": 97,
   "id": "333e6991",
   "metadata": {},
   "outputs": [
    {
     "name": "stdout",
     "output_type": "stream",
     "text": [
      "p-значение: 1.9270113944200032e-250\n"
     ]
    }
   ],
   "source": [
    "check_tariff = check('tariff == \"ultra\"', 'tariff == \"smart\"', 'revenue_')"
   ]
  },
  {
   "cell_type": "markdown",
   "id": "ce5c97fd",
   "metadata": {},
   "source": [
    "Получили значение p-value: 1.9270113944200032e-250.\n",
    "\n",
    "Это гораздо меньше, чем общепринятые пороговые значения 0.01 и 0.05, что дает нам достаточные основания отвергнуть нулевую гипотезу в пользу альтернативной и утверждать, что средняя выручка пользователей тарифов «Ультра» и «Смарт» имеет статистически значимое различие."
   ]
  },
  {
   "cell_type": "markdown",
   "id": "17adad0f",
   "metadata": {},
   "source": [
    "### Средняя выручка пользователей из Москвы отличается от выручки пользователей из других регионов"
   ]
  },
  {
   "cell_type": "markdown",
   "id": "490c61d7",
   "metadata": {},
   "source": [
    "С помощью функции `behavior()`построим гистограмму плотности вероятностей выручки, а также вычислим среднее, дисперсию и стандартное отклонение для каждой из локаций - \"Москва\" и \"не Москва\"."
   ]
  },
  {
   "cell_type": "markdown",
   "id": "3a7ad9f9",
   "metadata": {},
   "source": [
    "**Москва**"
   ]
  },
  {
   "cell_type": "code",
   "execution_count": 98,
   "id": "40baa7f0",
   "metadata": {},
   "outputs": [
    {
     "data": {
      "image/png": "[encoded data removed]",
      "text/plain": [
       "<Figure size 432x288 with 1 Axes>"
      ]
     },
     "metadata": {
      "needs_background": "light"
     },
     "output_type": "display_data"
    },
    {
     "name": "stdout",
     "output_type": "stream",
     "text": [
      "mean=1546.7135842880523, var=565636.467011886, std=752.0880713133841\n",
      "\n",
      "Изучив имеющююся выборку можем сделать следующие выводы о генеральной совокупности исследуемой величины. \n",
      "Распределение имеет смещение влево. \n",
      "Исследуемая величина распределена вокруг матожидания 1547.\n",
      "Более 99% процентов значений лежит в диапазоне от 0 до 3803.\n"
     ]
    },
    {
     "data": {
      "text/plain": [
       "(1546.7135842880523, 565636.467011886, 752.0880713133841)"
      ]
     },
     "execution_count": 98,
     "metadata": {},
     "output_type": "execute_result"
    }
   ],
   "source": [
    "behavior('city == \"Москва\"', 'revenue_')"
   ]
  },
  {
   "cell_type": "markdown",
   "id": "143d248e",
   "metadata": {},
   "source": [
    "**не Москва**"
   ]
  },
  {
   "cell_type": "code",
   "execution_count": 99,
   "id": "146fdd90",
   "metadata": {},
   "outputs": [
    {
     "data": {
      "image/png": "[encoded data removed]",
      "text/plain": [
       "<Figure size 432x288 with 1 Axes>"
      ]
     },
     "metadata": {
      "needs_background": "light"
     },
     "output_type": "display_data"
    },
    {
     "name": "stdout",
     "output_type": "stream",
     "text": [
      "mean=1524.7251439539348, var=654069.574962777, std=808.7456800272735\n",
      "\n",
      "Изучив имеющююся выборку можем сделать следующие выводы о генеральной совокупности исследуемой величины. \n",
      "Распределение имеет смещение влево. \n",
      "Исследуемая величина распределена вокруг матожидания 1525.\n",
      "Более 99% процентов значений лежит в диапазоне от 0 до 3951.\n"
     ]
    },
    {
     "data": {
      "text/plain": [
       "(1524.7251439539348, 654069.574962777, 808.7456800272735)"
      ]
     },
     "execution_count": 99,
     "metadata": {},
     "output_type": "execute_result"
    }
   ],
   "source": [
    "behavior('city != \"Москва\"', 'revenue_')"
   ]
  },
  {
   "cell_type": "markdown",
   "id": "2753187c",
   "metadata": {},
   "source": [
    "Проверим гипотезу о том, что средняя выручка пользователей из Москвы отличается от выручки пользователей из других регионов.\n",
    "\n",
    "Сформулируем нулевую (H_0) и альтернативную (H_1) гипотезы. Учтем, что в нулевой гипотезе должен присутствовать знак равенства. Также примем во внимание, что гипотеза двухсторонняя, что позволяет использовать полученный уровень значимости без дополнительных преобразований.\n",
    "\n",
    "H_0 = средняя выручка пользователей из Москвы и из других регионов равны\n",
    "\n",
    "H_1 = средняя выручка пользователей из Москвы и из других регионов не равны"
   ]
  },
  {
   "cell_type": "markdown",
   "id": "0a8e3af7",
   "metadata": {},
   "source": [
    "С помощью функции `check()` проведем `t-test` на равенство среднего двух генеральных совокупностей по независимым выборкам и вычислим `p-value` для каждого из локаций - \"Москва\" и \"не Москва\"."
   ]
  },
  {
   "cell_type": "code",
   "execution_count": 100,
   "id": "4f6abb12",
   "metadata": {},
   "outputs": [
    {
     "name": "stdout",
     "output_type": "stream",
     "text": [
      "p-значение: 0.5216952110000559\n"
     ]
    }
   ],
   "source": [
    "check_city = check('city == \"Москва\"', 'city != \"Москва\"', 'revenue_')"
   ]
  },
  {
   "cell_type": "markdown",
   "id": "5d902c8e",
   "metadata": {},
   "source": [
    "Получили значение p-value: 0.5216952110000559.\n",
    "\n",
    "Это гораздо больше, чем общепринятые пороговые значения 0.01 и 0.05, что не дает нам основания отвергнуть нулевую гипотезу в пользу альтернативной и позволяет утверждать, что средняя выручка пользователей тарифов «Ультра» и «Смарт» не имеет статистически значимого различия."
   ]
  },
  {
   "cell_type": "markdown",
   "id": "bdd4f8c2",
   "metadata": {},
   "source": [
    "### Вывод"
   ]
  },
  {
   "cell_type": "markdown",
   "id": "a71816e7",
   "metadata": {},
   "source": [
    "В этом разделе мы провели проверку двух гипотез t-test'ом на равенство среднего двух генеральных совокупностей по независимым выборкам и получили следующие результаты:\n",
    "\n",
    "Гипотеза о том, что средняя выручка пользователей тарифов «Ультра» и «Смарт» различаются.\n",
    "\n",
    "Полученное значение p-value говорит о том, что вероятность получить такое различие случайно ничтожно мало. Это достаточное основание, чтобы сделать вывод о значимом различии между средней выручкой от абонентов тарифов «Ультра» и «Смарт».\n",
    "\n",
    "\n",
    "\n",
    "Гипотеза о том, что средняя выручка пользователей из Москвы отличается от выручки пользователей из других регионов.\n",
    "\n",
    "Полученное значение p-value говорит о том, что вероятность получить такое или большее различие случайно больше 52%. Это явно слишком большая вероятность, чтобы делать вывод о значимом различии между средней выручкой пользователей из Москвы и из других регионов.\n",
    "\n",
    "\n",
    "Причем, изложенные выводы будут справедливы для любого из устоявшихся пороговых значений alpha: 0.01 и 0.05.\n",
    "\n",
    "\n",
    "[В начало раздела 5](#section_5)"
   ]
  },
  {
   "cell_type": "markdown",
   "id": "e8dbfaec",
   "metadata": {},
   "source": [
    "## Итоги исследования"
   ]
  },
  {
   "cell_type": "markdown",
   "id": "cd8dc382",
   "metadata": {},
   "source": [
    "\n",
    "Данное исследование выполнено по запросу коммерческого департамента и будет использовано для корректировки рекламного бюджета.\n",
    "\n",
    "Анализ тарифов произведен на небольшой выборке клиентов. Для исследования были предоставлены данные 500 пользователей «Мегалайна». В предоставленных материалах содержится информация о том, кто они, откуда, каким тарифом пользуются, сколько звонков и сообщений каждый отправил за 2018 год.\n",
    "\n",
    "Данные распределены по 5 файлам: calls.csv, internet.csv, messages.csv, tariffs.csv и users.csv. В этих файлах таблицы с информацией о:\n",
    "\n",
    "- звонках (202 607 записей)\n",
    "- интернет-сессиях (149 396 записей)\n",
    "- сообщениях (123 036 записей)\n",
    "- тарифах (2 записи)\n",
    "- пользователях (500 записей)\n",
    "\n",
    "Количества и качества этих данных было достаточно для проведения исследования.\n",
    "Из сущестенных недостатков выявлен только один - в столбцах с датами было необходимо изменить тип данных на соответствующий содержанию. Чтобы в дальнейшем не приходилость прибегать к этим манипуляциям, имеет смысл сразу заносить данные в нужном формате.\n",
    "\n",
    "Выполнена проверка данных на наличие ошибок, таковых не выявлено, все нетипичные значения имеют логичное обоснование, общую картину не искажают, в исправлении не нуждаются.\n",
    "\n",
    "В дополнении к имеющимся данным была создана сводная таблица, в которую занесли следующие значения, рассчитанные для каждого пользователя:\n",
    "\n",
    "- количество сделанных звонков и израсходованных минут разговора по месяцам;\n",
    "- количество отправленных сообщений по месяцам;\n",
    "- объем израсходованного интернет-трафика по месяцам;\n",
    "- помесячную выручку с каждого пользователя.\n",
    "\n",
    "Выполнен анализ поведения клиентов оператора, на основе выборки данных , мы получили следующие показатели для генеральной совокупности по использованию услуг абонентом в месяц для каждого тарифа:\n",
    "\n",
    "длительность разговоров, минут:\n",
    "- ultra: матожидание 545, диапазон от 0 до 1466\n",
    "- smart: матожидание 419, диапазон от 0 до 987\n",
    "количество сообщений:\n",
    "- ultra: матожидание 61, диапазон от 0 до 199\n",
    "- smart: матожидание 39, диапазон от 0 до 119\n",
    "объём интернет-трафика, МБайт:\n",
    "- ultra: матожидание 19668, диапазон от 0 до 49498\n",
    "- smart: матожидание 16216, диапазон от 0 до 33801\n",
    "\n",
    "\n",
    "Можем видеть, что различия в объеме потребляемых услуг между абонентами различных тарифов имеются. Однако, они не столь велики, как различия в выручке.\n",
    "\n",
    "Проведена проверка двух гипотез t-test'ом на равенство среднего двух генеральных совокупностей по независимым выборкам и получили следующие результаты:\n",
    "\n",
    "Гипотеза о том, что средняя выручка пользователей тарифов «Ультра» и «Смарт» различаются.\n",
    "\n",
    "ежемесячная выручка, руб:\n",
    "- ultra: матожидание 2070\n",
    "- smart: матожидание 1290\n",
    "\n",
    "Полученное значение p-value говорит о том, что вероятность получить такое различие случайно ничтожно мало. Это достаточное основание, чтобы сделать вывод о значимом различии между средней выручкой от абонентов тарифов «Ультра» и «Смарт».\n",
    "\n",
    "Гипотеза о том, что средняя выручка пользователей из Москвы отличается от выручки пользователей из других регионов.\n",
    "\n",
    "ежемесячная выручка, руб:\n",
    "- Москва: матожидание 1547\n",
    "- Регионы: матожидание 1525\n",
    "\n",
    "Полученное значение p-value говорит о том, что вероятность получить такое или большее различие случайно больше 52%. Это явно слишком большая вероятность, чтобы делать вывод о значимом различии между средней выручкой пользователей из Москвы и из других регионов.\n",
    "\n",
    "Причем, изложенные выводы будут справедливы для любого из устоявшихся пороговых значений alpha: 0.01 и 0.05.\n",
    "\n",
    "Учитывая изложенное, тариф \"ultra\" является более прибыльным и именно на его продвижение стоит направить основные усилия.\n",
    "\n",
    "\n",
    "[В начало](#section_0)"
   ]
  },
  {
   "cell_type": "markdown",
   "id": "418ac2e9",
   "metadata": {},
   "source": [
    "## Чек-лист готовности проекта"
   ]
  },
  {
   "cell_type": "markdown",
   "id": "4582935d",
   "metadata": {},
   "source": [
    "На что обратить внимание:\n",
    "\n",
    "- [x]  Как вы описываете выявленные в данных проблемы?\n",
    "- [x]  Как готовите данные к анализу?\n",
    "- [x]  Какие графики строите для распределений?\n",
    "- [x]  Как интерпретируете полученные графики?\n",
    "- [x]  Как рассчитываете стандартное отклонение и дисперсию?\n",
    "- [x]  Формулируете ли альтернативную и нулевую гипотезы?\n",
    "- [x]  Какие методы применяете для проверки гипотез?\n",
    "- [x]  Интерпретируете ли результат проверки гипотезы?\n",
    "- [x]  Соблюдаете структуру проекта и поддерживаете аккуратность кода?\n",
    "- [x]  Какие выводы делаете?\n",
    "- [x]  Оставляете ли комментарии к шагам?\n",
    "\n",
    "[В начало](#section_0)"
   ]
  }
 ],
 "metadata": {
  "ExecuteTimeLog": [
   {
    "duration": 1148,
    "start_time": "2022-01-24T11:31:16.822Z"
   },
   {
    "duration": 246,
    "start_time": "2022-01-24T11:31:17.972Z"
   },
   {
    "duration": 23,
    "start_time": "2022-01-24T11:31:18.220Z"
   },
   {
    "duration": 232,
    "start_time": "2022-01-24T11:31:18.245Z"
   },
   {
    "duration": 25,
    "start_time": "2022-01-24T11:31:18.479Z"
   },
   {
    "duration": 2250,
    "start_time": "2022-01-24T11:31:18.506Z"
   },
   {
    "duration": 18,
    "start_time": "2022-01-24T11:31:20.758Z"
   },
   {
    "duration": 78,
    "start_time": "2022-01-24T11:31:20.779Z"
   },
   {
    "duration": 10,
    "start_time": "2022-01-24T11:31:20.859Z"
   },
   {
    "duration": 96,
    "start_time": "2022-01-24T11:31:20.871Z"
   },
   {
    "duration": 10,
    "start_time": "2022-01-24T11:31:20.969Z"
   },
   {
    "duration": 79,
    "start_time": "2022-01-24T11:31:20.981Z"
   },
   {
    "duration": 66,
    "start_time": "2022-01-24T11:31:21.062Z"
   },
   {
    "duration": 35,
    "start_time": "2022-01-24T11:31:21.130Z"
   },
   {
    "duration": 5,
    "start_time": "2022-01-24T11:31:21.166Z"
   },
   {
    "duration": 25,
    "start_time": "2022-01-24T11:31:21.173Z"
   },
   {
    "duration": 9,
    "start_time": "2022-01-24T11:31:21.200Z"
   },
   {
    "duration": 7,
    "start_time": "2022-01-24T11:31:21.210Z"
   },
   {
    "duration": 49,
    "start_time": "2022-01-24T11:31:21.218Z"
   },
   {
    "duration": 46,
    "start_time": "2022-01-24T11:31:21.269Z"
   },
   {
    "duration": 26,
    "start_time": "2022-01-24T11:31:21.317Z"
   },
   {
    "duration": 11,
    "start_time": "2022-01-24T11:31:21.345Z"
   },
   {
    "duration": 122,
    "start_time": "2022-01-24T11:31:21.360Z"
   },
   {
    "duration": 15,
    "start_time": "2022-01-24T11:31:21.485Z"
   },
   {
    "duration": 12,
    "start_time": "2022-01-24T11:31:21.502Z"
   },
   {
    "duration": 26,
    "start_time": "2022-01-24T11:31:21.515Z"
   },
   {
    "duration": 1485,
    "start_time": "2022-01-24T11:31:21.543Z"
   },
   {
    "duration": 991,
    "start_time": "2022-01-24T11:31:23.030Z"
   },
   {
    "duration": 29,
    "start_time": "2022-01-24T11:31:24.023Z"
   },
   {
    "duration": 365,
    "start_time": "2022-01-24T11:31:24.054Z"
   },
   {
    "duration": 6,
    "start_time": "2022-01-24T11:31:24.420Z"
   },
   {
    "duration": 20,
    "start_time": "2022-01-24T11:31:24.427Z"
   },
   {
    "duration": 20,
    "start_time": "2022-01-24T11:31:24.449Z"
   },
   {
    "duration": 10,
    "start_time": "2022-01-24T11:31:24.470Z"
   },
   {
    "duration": 16,
    "start_time": "2022-01-24T11:31:24.482Z"
   },
   {
    "duration": 6,
    "start_time": "2022-01-24T11:31:24.500Z"
   },
   {
    "duration": 12,
    "start_time": "2022-01-24T11:31:24.508Z"
   },
   {
    "duration": 1163,
    "start_time": "2022-01-24T11:31:24.522Z"
   },
   {
    "duration": 203,
    "start_time": "2022-01-24T11:31:25.697Z"
   },
   {
    "duration": 980,
    "start_time": "2022-01-24T11:31:25.902Z"
   },
   {
    "duration": 45,
    "start_time": "2022-01-24T11:31:26.884Z"
   },
   {
    "duration": 31,
    "start_time": "2022-01-24T11:31:26.931Z"
   },
   {
    "duration": 48,
    "start_time": "2022-01-24T11:31:26.964Z"
   },
   {
    "duration": 30,
    "start_time": "2022-01-24T11:31:27.014Z"
   },
   {
    "duration": 1089,
    "start_time": "2022-01-24T11:31:27.046Z"
   },
   {
    "duration": 20,
    "start_time": "2022-01-24T11:31:28.136Z"
   },
   {
    "duration": 357,
    "start_time": "2022-01-24T11:31:28.158Z"
   },
   {
    "duration": 92,
    "start_time": "2022-01-24T11:31:28.517Z"
   },
   {
    "duration": 1227,
    "start_time": "2022-01-24T11:31:28.611Z"
   },
   {
    "duration": 14,
    "start_time": "2022-01-24T11:31:29.840Z"
   },
   {
    "duration": 930,
    "start_time": "2022-01-24T11:31:29.855Z"
   },
   {
    "duration": 10,
    "start_time": "2022-01-24T11:31:30.787Z"
   },
   {
    "duration": 19,
    "start_time": "2022-01-24T11:31:30.798Z"
   },
   {
    "duration": 129,
    "start_time": "2022-01-24T11:31:30.819Z"
   },
   {
    "duration": 886,
    "start_time": "2022-01-24T11:31:30.949Z"
   },
   {
    "duration": 1251,
    "start_time": "2022-01-24T11:31:31.837Z"
   },
   {
    "duration": 17,
    "start_time": "2022-01-24T11:31:33.089Z"
   },
   {
    "duration": 348,
    "start_time": "2022-01-24T11:31:33.108Z"
   },
   {
    "duration": 65,
    "start_time": "2022-01-24T11:31:33.457Z"
   },
   {
    "duration": 32,
    "start_time": "2022-01-24T11:31:33.524Z"
   },
   {
    "duration": 17,
    "start_time": "2022-01-24T11:31:33.557Z"
   },
   {
    "duration": 3,
    "start_time": "2022-01-24T11:31:33.575Z"
   },
   {
    "duration": 18,
    "start_time": "2022-01-24T11:31:33.580Z"
   },
   {
    "duration": 37,
    "start_time": "2022-01-24T11:31:33.600Z"
   },
   {
    "duration": 59,
    "start_time": "2022-01-24T11:31:33.638Z"
   },
   {
    "duration": 24,
    "start_time": "2022-01-24T11:31:33.699Z"
   },
   {
    "duration": 12,
    "start_time": "2022-01-24T11:31:33.724Z"
   },
   {
    "duration": 4,
    "start_time": "2022-01-24T11:31:33.741Z"
   },
   {
    "duration": 6,
    "start_time": "2022-01-24T11:31:33.747Z"
   },
   {
    "duration": 45,
    "start_time": "2022-01-24T11:31:33.754Z"
   },
   {
    "duration": 95,
    "start_time": "2022-01-24T11:31:33.802Z"
   },
   {
    "duration": 39,
    "start_time": "2022-01-24T11:31:33.899Z"
   },
   {
    "duration": 15,
    "start_time": "2022-01-24T11:31:33.941Z"
   },
   {
    "duration": 4,
    "start_time": "2022-01-24T11:31:33.958Z"
   },
   {
    "duration": 67,
    "start_time": "2022-01-24T11:31:33.963Z"
   },
   {
    "duration": 6,
    "start_time": "2022-01-24T11:31:34.032Z"
   },
   {
    "duration": 8,
    "start_time": "2022-01-24T11:31:34.039Z"
   },
   {
    "duration": 6,
    "start_time": "2022-01-24T11:31:34.048Z"
   },
   {
    "duration": 7,
    "start_time": "2022-01-24T11:31:34.056Z"
   },
   {
    "duration": 14,
    "start_time": "2022-01-24T11:31:34.064Z"
   },
   {
    "duration": 33,
    "start_time": "2022-01-24T11:31:34.079Z"
   },
   {
    "duration": 7,
    "start_time": "2022-01-24T11:31:34.114Z"
   },
   {
    "duration": 25,
    "start_time": "2022-01-24T11:31:34.123Z"
   },
   {
    "duration": 2953,
    "start_time": "2022-01-24T11:31:34.150Z"
   },
   {
    "duration": 28,
    "start_time": "2022-01-24T11:31:37.104Z"
   },
   {
    "duration": 22,
    "start_time": "2022-01-24T11:31:37.134Z"
   },
   {
    "duration": 7,
    "start_time": "2022-01-24T11:31:37.158Z"
   },
   {
    "duration": 230,
    "start_time": "2022-01-24T11:31:37.167Z"
   },
   {
    "duration": 220,
    "start_time": "2022-01-24T11:31:37.399Z"
   },
   {
    "duration": 187,
    "start_time": "2022-01-24T11:31:37.621Z"
   },
   {
    "duration": 320,
    "start_time": "2022-01-24T11:31:37.810Z"
   },
   {
    "duration": 215,
    "start_time": "2022-01-24T11:31:38.132Z"
   },
   {
    "duration": 219,
    "start_time": "2022-01-24T11:31:38.349Z"
   },
   {
    "duration": 4,
    "start_time": "2022-01-24T11:31:38.570Z"
   },
   {
    "duration": 204,
    "start_time": "2022-01-24T11:31:38.575Z"
   },
   {
    "duration": 216,
    "start_time": "2022-01-24T11:31:38.781Z"
   },
   {
    "duration": 13,
    "start_time": "2022-01-24T11:31:38.998Z"
   },
   {
    "duration": 194,
    "start_time": "2022-01-24T11:31:39.012Z"
   },
   {
    "duration": 221,
    "start_time": "2022-01-24T11:31:39.208Z"
   },
   {
    "duration": 12,
    "start_time": "2022-01-24T11:31:39.431Z"
   }
  ],
  "kernelspec": {
   "display_name": "Python 3 (ipykernel)",
   "language": "python",
   "name": "python3"
  },
  "language_info": {
   "codemirror_mode": {
    "name": "ipython",
    "version": 3
   },
   "file_extension": ".py",
   "mimetype": "text/x-python",
   "name": "python",
   "nbconvert_exporter": "python",
   "pygments_lexer": "ipython3",
   "version": "3.8.5"
  },
  "toc": {
   "base_numbering": 1,
   "nav_menu": {},
   "number_sections": true,
   "sideBar": true,
   "skip_h1_title": true,
   "title_cell": "Table of Contents",
   "title_sidebar": "Contents",
   "toc_cell": true,
   "toc_position": {
    "height": "calc(100% - 180px)",
    "left": "10px",
    "top": "150px",
    "width": "302px"
   },
   "toc_section_display": true,
   "toc_window_display": true
  }
 },
 "nbformat": 4,
 "nbformat_minor": 5
}

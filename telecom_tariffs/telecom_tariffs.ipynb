{
 "cells": [
  {
   "cell_type": "markdown",
   "id": "41c33cf4",
   "metadata": {
    "toc": true
   },
   "source": [
    "<h1>Table of Contents<span class=\"tocSkip\"></span></h1>\n",
    "<div class=\"toc\"><ul class=\"toc-item\"><li><span><a href=\"#Обзор-данных\" data-toc-modified-id=\"Обзор-данных-1\"><span class=\"toc-item-num\">1&nbsp;&nbsp;</span>Обзор данных</a></span><ul class=\"toc-item\"><li><span><a href=\"#Вывод\" data-toc-modified-id=\"Вывод-1.1\"><span class=\"toc-item-num\">1.1&nbsp;&nbsp;</span>Вывод</a></span></li></ul></li><li><span><a href=\"#Формирование-выборок\" data-toc-modified-id=\"Формирование-выборок-2\"><span class=\"toc-item-num\">2&nbsp;&nbsp;</span>Формирование выборок</a></span><ul class=\"toc-item\"><li><span><a href=\"#Вывод\" data-toc-modified-id=\"Вывод-2.1\"><span class=\"toc-item-num\">2.1&nbsp;&nbsp;</span>Вывод</a></span></li></ul></li><li><span><a href=\"#Исследование-моделей\" data-toc-modified-id=\"Исследование-моделей-3\"><span class=\"toc-item-num\">3&nbsp;&nbsp;</span>Исследование моделей</a></span><ul class=\"toc-item\"><li><span><a href=\"#Алгоритм-DecisionTreeClassifier\" data-toc-modified-id=\"Алгоритм-DecisionTreeClassifier-3.1\"><span class=\"toc-item-num\">3.1&nbsp;&nbsp;</span>Алгоритм DecisionTreeClassifier</a></span></li><li><span><a href=\"#Алгоритм-RandomForestClassifier\" data-toc-modified-id=\"Алгоритм-RandomForestClassifier-3.2\"><span class=\"toc-item-num\">3.2&nbsp;&nbsp;</span>Алгоритм RandomForestClassifier</a></span></li><li><span><a href=\"#Алгоритм-LogisticRegression\" data-toc-modified-id=\"Алгоритм-LogisticRegression-3.3\"><span class=\"toc-item-num\">3.3&nbsp;&nbsp;</span>Алгоритм LogisticRegression</a></span></li><li><span><a href=\"#Вывод\" data-toc-modified-id=\"Вывод-3.4\"><span class=\"toc-item-num\">3.4&nbsp;&nbsp;</span>Вывод</a></span></li></ul></li><li><span><a href=\"#Проверка-модели-на-тестовой-выборке\" data-toc-modified-id=\"Проверка-модели-на-тестовой-выборке-4\"><span class=\"toc-item-num\">4&nbsp;&nbsp;</span>Проверка модели на тестовой выборке</a></span><ul class=\"toc-item\"><li><span><a href=\"#Вывод\" data-toc-modified-id=\"Вывод-4.1\"><span class=\"toc-item-num\">4.1&nbsp;&nbsp;</span>Вывод</a></span></li></ul></li><li><span><a href=\"#Проверка-моделей-на-вменяемость\" data-toc-modified-id=\"Проверка-моделей-на-вменяемость-5\"><span class=\"toc-item-num\">5&nbsp;&nbsp;</span>Проверка моделей на вменяемость</a></span><ul class=\"toc-item\"><li><span><a href=\"#Вывод\" data-toc-modified-id=\"Вывод-5.1\"><span class=\"toc-item-num\">5.1&nbsp;&nbsp;</span>Вывод</a></span></li></ul></li><li><span><a href=\"#Итоги-исследования\" data-toc-modified-id=\"Итоги-исследования-6\"><span class=\"toc-item-num\">6&nbsp;&nbsp;</span>Итоги исследования</a></span></li><li><span><a href=\"#Чек-лист-готовности-проекта\" data-toc-modified-id=\"Чек-лист-готовности-проекта-7\"><span class=\"toc-item-num\">7&nbsp;&nbsp;</span>Чек-лист готовности проекта</a></span></li></ul></div>"
   ]
  },
  {
   "cell_type": "markdown",
   "id": "5269c75e",
   "metadata": {},
   "source": [
    "<a id=\"section_0\"></a>\n",
    "# Определение перспективного тарифа для телеком-компании"
   ]
  },
  {
   "cell_type": "markdown",
   "id": "feb934ab",
   "metadata": {},
   "source": [
    "**Описание проекта**\n",
    "\n",
    "Компания «Мегалайн» — федеральный оператор сотовой связи. Было выявлено, что многие клиенты пользуются архивными тарифами. «Мегалайну» это не выгодно и имеется потребность в построении системы способной проанализировать поведение клиентов и предложить пользователям новый тариф: «Смарт» или «Ультра».\n",
    "\n",
    "В нашем распоряжении данные о поведении клиентов, которые уже перешли на эти тарифы. Предположительно, предобработка данных не понадобится, так как была выполнена ранее.\n",
    "\n",
    "**Цель исследования**:\n",
    "\n",
    "Нужно построить модель для задачи классификации, которая выберет подходящий тариф. Данная модель должна характеризоваться  максимально большим значением accuracy. Критерий успешности - доля правильных ответов выше 0.75. Значение accuracy проверяется на тестовой выборке.\n",
    "\n",
    "Разработка модели выполняется по заказу компании «Мегалайн» и будет использована для построении системы, анализирующей поведение клиентов и рекомендующей один из новых тарифов.\n",
    "\n",
    "**Ход исследования**\n",
    "\n",
    "Вначале скачаем датасет и изучим данные. Затем разделите исходные данные на обучающую, валидационную и тестовую выборки. Исследуем качество разных моделей, меняя гиперпараметры. Кратко напишем выводы исследования. Проверим качество моделей на тестовой выборке и на вменяемость.\n",
    " \n",
    "Таким образом, работа будет выполнена в пять этапов:\n",
    "1.\tОбзор данных\n",
    "2.\tФормирование выборок.\n",
    "3.\tИсследование моделей.\n",
    "4.\tПроверка качества моделей на тестовой выборке.\n",
    "5.\tПроверка моделей на вменяемость."
   ]
  },
  {
   "cell_type": "markdown",
   "id": "9ae738fb",
   "metadata": {},
   "source": [
    "**Используемые библиотеки**\n",
    "\n",
    "Подключим библиотеки для работы с данными, которые будут использованы в ходе проведения исследования."
   ]
  },
  {
   "cell_type": "code",
   "execution_count": 1,
   "id": "ad651eb1",
   "metadata": {},
   "outputs": [],
   "source": [
    "import pandas as pd\n",
    "#import matplotlib.pyplot as plt\n",
    "#import numpy as np\n",
    "#import math\n",
    "#from scipy import stats as st\n",
    "pd.set_option('display.float_format', '{:,.2f}'.format)\n",
    "from IPython.core.interactiveshell import InteractiveShell\n",
    "InteractiveShell.ast_node_interactivity = \"all\"\n",
    "import warnings\n",
    "warnings.filterwarnings('ignore')"
   ]
  },
  {
   "cell_type": "code",
   "execution_count": 2,
   "id": "6ebeaf10",
   "metadata": {},
   "outputs": [],
   "source": [
    "from sklearn.tree import DecisionTreeClassifier\n",
    "from sklearn.ensemble import RandomForestClassifier\n",
    "from sklearn.linear_model import LogisticRegression\n",
    "from sklearn.model_selection import train_test_split\n",
    "from sklearn.metrics import accuracy_score\n",
    "from sklearn.dummy import DummyClassifier"
   ]
  },
  {
   "cell_type": "markdown",
   "id": "321fdd15",
   "metadata": {},
   "source": [
    "<a id=\"section_1\"></a>\n",
    "## Обзор данных"
   ]
  },
  {
   "cell_type": "markdown",
   "id": "19bab76f",
   "metadata": {},
   "source": [
    "В нашем распоряжении данные о поведении клиентов, которые уже перешли на новые тарифы: «Смарт» и «Ультра». Сообщено, что предобработка данных уже сделана."
   ]
  },
  {
   "cell_type": "markdown",
   "id": "95c3da55",
   "metadata": {},
   "source": [
    "**Описание данных**\n",
    "\n",
    "Каждый объект в наборе данных — это информация о поведении одного пользователя за месяц. Известно:\n",
    "- сalls — количество звонков,\n",
    "- minutes — суммарная длительность звонков в минутах,\n",
    "- messages — количество sms-сообщений,\n",
    "- mb_used — израсходованный интернет-трафик в Мб,\n",
    "- is_ultra — каким тарифом пользовался в течение месяца («Ультра» — 1, «Смарт» — 0)."
   ]
  },
  {
   "cell_type": "markdown",
   "id": "d16499f3",
   "metadata": {},
   "source": [
    "Скачаем датасет. Откроем файл с данными и изучим его."
   ]
  },
  {
   "cell_type": "markdown",
   "id": "8f888d38",
   "metadata": {},
   "source": [
    "Сохраним данные в переменную `users_behavior`, предусмотрим два варианта размещения данных: в локальной папке и на сервере."
   ]
  },
  {
   "cell_type": "code",
   "execution_count": 3,
   "id": "121d512c",
   "metadata": {},
   "outputs": [
    {
     "data": {
      "text/html": [
       "<div>\n",
       "<style scoped>\n",
       "    .dataframe tbody tr th:only-of-type {\n",
       "        vertical-align: middle;\n",
       "    }\n",
       "\n",
       "    .dataframe tbody tr th {\n",
       "        vertical-align: top;\n",
       "    }\n",
       "\n",
       "    .dataframe thead th {\n",
       "        text-align: right;\n",
       "    }\n",
       "</style>\n",
       "<table border=\"1\" class=\"dataframe\">\n",
       "  <thead>\n",
       "    <tr style=\"text-align: right;\">\n",
       "      <th></th>\n",
       "      <th>calls</th>\n",
       "      <th>minutes</th>\n",
       "      <th>messages</th>\n",
       "      <th>mb_used</th>\n",
       "      <th>is_ultra</th>\n",
       "    </tr>\n",
       "  </thead>\n",
       "  <tbody>\n",
       "    <tr>\n",
       "      <th>0</th>\n",
       "      <td>40.00</td>\n",
       "      <td>311.90</td>\n",
       "      <td>83.00</td>\n",
       "      <td>19,915.42</td>\n",
       "      <td>0</td>\n",
       "    </tr>\n",
       "    <tr>\n",
       "      <th>1</th>\n",
       "      <td>85.00</td>\n",
       "      <td>516.75</td>\n",
       "      <td>56.00</td>\n",
       "      <td>22,696.96</td>\n",
       "      <td>0</td>\n",
       "    </tr>\n",
       "    <tr>\n",
       "      <th>2</th>\n",
       "      <td>77.00</td>\n",
       "      <td>467.66</td>\n",
       "      <td>86.00</td>\n",
       "      <td>21,060.45</td>\n",
       "      <td>0</td>\n",
       "    </tr>\n",
       "    <tr>\n",
       "      <th>3</th>\n",
       "      <td>106.00</td>\n",
       "      <td>745.53</td>\n",
       "      <td>81.00</td>\n",
       "      <td>8,437.39</td>\n",
       "      <td>1</td>\n",
       "    </tr>\n",
       "    <tr>\n",
       "      <th>4</th>\n",
       "      <td>66.00</td>\n",
       "      <td>418.74</td>\n",
       "      <td>1.00</td>\n",
       "      <td>14,502.75</td>\n",
       "      <td>0</td>\n",
       "    </tr>\n",
       "  </tbody>\n",
       "</table>\n",
       "</div>"
      ],
      "text/plain": [
       "   calls  minutes  messages   mb_used  is_ultra\n",
       "0  40.00   311.90     83.00 19,915.42         0\n",
       "1  85.00   516.75     56.00 22,696.96         0\n",
       "2  77.00   467.66     86.00 21,060.45         0\n",
       "3 106.00   745.53     81.00  8,437.39         1\n",
       "4  66.00   418.74      1.00 14,502.75         0"
      ]
     },
     "execution_count": 3,
     "metadata": {},
     "output_type": "execute_result"
    }
   ],
   "source": [
    "try:\n",
    "    users_behavior = pd.read_csv('users_behavior.csv')\n",
    "except:\n",
    "    users_behavior = pd.read_csv('https://code.s3.yandex.net/datasets/users_behavior.csv')\n",
    "    \n",
    "users_behavior.head()"
   ]
  },
  {
   "cell_type": "markdown",
   "id": "e715530c",
   "metadata": {},
   "source": [
    "Данные читаемы, проблем с кодировкой, разделителями и тп нет, продолжим изучение."
   ]
  },
  {
   "cell_type": "code",
   "execution_count": 4,
   "id": "4f40072e",
   "metadata": {},
   "outputs": [
    {
     "name": "stdout",
     "output_type": "stream",
     "text": [
      "<class 'pandas.core.frame.DataFrame'>\n",
      "RangeIndex: 3214 entries, 0 to 3213\n",
      "Data columns (total 5 columns):\n",
      " #   Column    Non-Null Count  Dtype  \n",
      "---  ------    --------------  -----  \n",
      " 0   calls     3214 non-null   float64\n",
      " 1   minutes   3214 non-null   float64\n",
      " 2   messages  3214 non-null   float64\n",
      " 3   mb_used   3214 non-null   float64\n",
      " 4   is_ultra  3214 non-null   int64  \n",
      "dtypes: float64(4), int64(1)\n",
      "memory usage: 125.7 KB\n"
     ]
    }
   ],
   "source": [
    "users_behavior.info()"
   ]
  },
  {
   "cell_type": "markdown",
   "id": "e11d2f8f",
   "metadata": {},
   "source": [
    "В таблице 3214 объектов по 5 признаков у каждого. Пропусков значений нет. Типы данных соответствуют хранимой информации. Данные соответствуют описанию."
   ]
  },
  {
   "cell_type": "code",
   "execution_count": 5,
   "id": "867cdc26",
   "metadata": {},
   "outputs": [
    {
     "data": {
      "text/html": [
       "<div>\n",
       "<style scoped>\n",
       "    .dataframe tbody tr th:only-of-type {\n",
       "        vertical-align: middle;\n",
       "    }\n",
       "\n",
       "    .dataframe tbody tr th {\n",
       "        vertical-align: top;\n",
       "    }\n",
       "\n",
       "    .dataframe thead th {\n",
       "        text-align: right;\n",
       "    }\n",
       "</style>\n",
       "<table border=\"1\" class=\"dataframe\">\n",
       "  <thead>\n",
       "    <tr style=\"text-align: right;\">\n",
       "      <th></th>\n",
       "      <th>calls</th>\n",
       "      <th>minutes</th>\n",
       "      <th>messages</th>\n",
       "      <th>mb_used</th>\n",
       "      <th>is_ultra</th>\n",
       "    </tr>\n",
       "  </thead>\n",
       "  <tbody>\n",
       "    <tr>\n",
       "      <th>count</th>\n",
       "      <td>3,214.00</td>\n",
       "      <td>3,214.00</td>\n",
       "      <td>3,214.00</td>\n",
       "      <td>3,214.00</td>\n",
       "      <td>3,214.00</td>\n",
       "    </tr>\n",
       "    <tr>\n",
       "      <th>mean</th>\n",
       "      <td>63.04</td>\n",
       "      <td>438.21</td>\n",
       "      <td>38.28</td>\n",
       "      <td>17,207.67</td>\n",
       "      <td>0.31</td>\n",
       "    </tr>\n",
       "    <tr>\n",
       "      <th>std</th>\n",
       "      <td>33.24</td>\n",
       "      <td>234.57</td>\n",
       "      <td>36.15</td>\n",
       "      <td>7,570.97</td>\n",
       "      <td>0.46</td>\n",
       "    </tr>\n",
       "    <tr>\n",
       "      <th>min</th>\n",
       "      <td>0.00</td>\n",
       "      <td>0.00</td>\n",
       "      <td>0.00</td>\n",
       "      <td>0.00</td>\n",
       "      <td>0.00</td>\n",
       "    </tr>\n",
       "    <tr>\n",
       "      <th>25%</th>\n",
       "      <td>40.00</td>\n",
       "      <td>274.58</td>\n",
       "      <td>9.00</td>\n",
       "      <td>12,491.90</td>\n",
       "      <td>0.00</td>\n",
       "    </tr>\n",
       "    <tr>\n",
       "      <th>50%</th>\n",
       "      <td>62.00</td>\n",
       "      <td>430.60</td>\n",
       "      <td>30.00</td>\n",
       "      <td>16,943.24</td>\n",
       "      <td>0.00</td>\n",
       "    </tr>\n",
       "    <tr>\n",
       "      <th>75%</th>\n",
       "      <td>82.00</td>\n",
       "      <td>571.93</td>\n",
       "      <td>57.00</td>\n",
       "      <td>21,424.70</td>\n",
       "      <td>1.00</td>\n",
       "    </tr>\n",
       "    <tr>\n",
       "      <th>max</th>\n",
       "      <td>244.00</td>\n",
       "      <td>1,632.06</td>\n",
       "      <td>224.00</td>\n",
       "      <td>49,745.73</td>\n",
       "      <td>1.00</td>\n",
       "    </tr>\n",
       "  </tbody>\n",
       "</table>\n",
       "</div>"
      ],
      "text/plain": [
       "         calls  minutes  messages   mb_used  is_ultra\n",
       "count 3,214.00 3,214.00  3,214.00  3,214.00  3,214.00\n",
       "mean     63.04   438.21     38.28 17,207.67      0.31\n",
       "std      33.24   234.57     36.15  7,570.97      0.46\n",
       "min       0.00     0.00      0.00      0.00      0.00\n",
       "25%      40.00   274.58      9.00 12,491.90      0.00\n",
       "50%      62.00   430.60     30.00 16,943.24      0.00\n",
       "75%      82.00   571.93     57.00 21,424.70      1.00\n",
       "max     244.00 1,632.06    224.00 49,745.73      1.00"
      ]
     },
     "execution_count": 5,
     "metadata": {},
     "output_type": "execute_result"
    }
   ],
   "source": [
    "users_behavior.describe()"
   ]
  },
  {
   "cell_type": "markdown",
   "id": "d6bf3a24",
   "metadata": {},
   "source": [
    "<a id=\"describe\"></a>\n",
    "Значений, противоречащих здравому смыслу не выявлено. Распределение значений также выглядит правдоподобным."
   ]
  },
  {
   "cell_type": "markdown",
   "id": "50768e31",
   "metadata": {},
   "source": [
    "### Вывод"
   ]
  },
  {
   "cell_type": "markdown",
   "id": "931f49bb",
   "metadata": {},
   "source": [
    "В таблице 3214 объектов по 5 признаков у каждого. Ошибок в данных не выявлено. Информация о том, что предобработка данных проведена, подтвердилась.\n",
    "\n",
    "Количество и качество данных позволяют перейти к следующему этапу исследования.\n",
    "\n",
    "[В начало раздела 1](#section_1)"
   ]
  },
  {
   "cell_type": "markdown",
   "id": "56ae41c2",
   "metadata": {},
   "source": [
    "<a id=\"section_2\"></a>\n",
    "## Формирование выборок"
   ]
  },
  {
   "cell_type": "markdown",
   "id": "6c6c5f47",
   "metadata": {},
   "source": [
    "Разделим исходные данные на обучающую, валидационную и тестовую выборки в соотношении 3:1:1 соответственно."
   ]
  },
  {
   "cell_type": "markdown",
   "id": "241ce1ef",
   "metadata": {},
   "source": [
    "Сначала отделим от датасета целевой признак."
   ]
  },
  {
   "cell_type": "code",
   "execution_count": 6,
   "id": "eb014c31",
   "metadata": {},
   "outputs": [],
   "source": [
    "features = users_behavior.drop(['is_ultra'], axis=1)\n",
    "target = users_behavior['is_ultra']"
   ]
  },
  {
   "cell_type": "markdown",
   "id": "b0dfea39",
   "metadata": {},
   "source": [
    "Для деления на выборки используем функцию `train_test_split()`. Разделение проведем в два этапа: сначала выделим данные для обучения модели - 60%, затем оставшиеся 40% в равных частях рапределим в валидационную и тестовую выборки."
   ]
  },
  {
   "cell_type": "code",
   "execution_count": 7,
   "id": "100b3181",
   "metadata": {},
   "outputs": [],
   "source": [
    "features_train, features_test_valid, target_train, target_test_valid = train_test_split(features\n",
    "                                                                                        , target\n",
    "                                                                                        , test_size=0.4\n",
    "                                                                                        , random_state=12345)"
   ]
  },
  {
   "cell_type": "code",
   "execution_count": 8,
   "id": "51c3782f",
   "metadata": {},
   "outputs": [],
   "source": [
    "features_test, features_valid, target_test, target_valid = train_test_split(features_test_valid\n",
    "                                                                            , target_test_valid\n",
    "                                                                            , test_size=0.5\n",
    "                                                                            , random_state=12345)"
   ]
  },
  {
   "cell_type": "markdown",
   "id": "a8e55d0f",
   "metadata": {},
   "source": [
    "Проверим результат разбиения."
   ]
  },
  {
   "cell_type": "code",
   "execution_count": 9,
   "id": "450b4051",
   "metadata": {},
   "outputs": [
    {
     "data": {
      "text/plain": [
       "(1928, 4)"
      ]
     },
     "execution_count": 9,
     "metadata": {},
     "output_type": "execute_result"
    },
    {
     "data": {
      "text/plain": [
       "(1928,)"
      ]
     },
     "execution_count": 9,
     "metadata": {},
     "output_type": "execute_result"
    },
    {
     "data": {
      "text/plain": [
       "(643, 4)"
      ]
     },
     "execution_count": 9,
     "metadata": {},
     "output_type": "execute_result"
    },
    {
     "data": {
      "text/plain": [
       "(643,)"
      ]
     },
     "execution_count": 9,
     "metadata": {},
     "output_type": "execute_result"
    },
    {
     "data": {
      "text/plain": [
       "(643, 4)"
      ]
     },
     "execution_count": 9,
     "metadata": {},
     "output_type": "execute_result"
    },
    {
     "data": {
      "text/plain": [
       "(643,)"
      ]
     },
     "execution_count": 9,
     "metadata": {},
     "output_type": "execute_result"
    }
   ],
   "source": [
    "features_train.shape\n",
    "target_train.shape\n",
    "features_valid.shape\n",
    "target_valid.shape\n",
    "features_test.shape\n",
    "target_test.shape"
   ]
  },
  {
   "cell_type": "markdown",
   "id": "3485b267",
   "metadata": {},
   "source": [
    "### Вывод"
   ]
  },
  {
   "cell_type": "markdown",
   "id": "1a65c22d",
   "metadata": {},
   "source": [
    "Исходные данные разделены на обучающую (1928 объектов), валидационную (643 объекта) и тестовую (643 объекта) выборки.\n",
    "\n",
    "Можно приступать к построению и сравнению моделей.\n",
    "\n",
    "[В начало раздела 2](#section_2)"
   ]
  },
  {
   "cell_type": "markdown",
   "id": "2ecb4591",
   "metadata": {},
   "source": [
    "<a id=\"section_3\"></a>\n",
    "## Исследование моделей"
   ]
  },
  {
   "cell_type": "markdown",
   "id": "87af84f4",
   "metadata": {},
   "source": [
    "Исследуем качество разных моделей, меняя гиперпараметры. \n",
    "\n",
    "Так как предсказывать мы будем качественный признак, то наша задача состоит в построении моделей классификации, а оценивать успешность её выполнения будем по метрике accuracy. "
   ]
  },
  {
   "cell_type": "markdown",
   "id": "45c4285a",
   "metadata": {},
   "source": [
    "Для построения моделей будем использовать 3 алгоритма машинного обучения:\n",
    "- DecisionTreeClassifier\n",
    "- RandomForestClassifier\n",
    "- LogisticRegression"
   ]
  },
  {
   "cell_type": "markdown",
   "id": "cd6cc665",
   "metadata": {},
   "source": [
    "### Алгоритм DecisionTreeClassifier"
   ]
  },
  {
   "cell_type": "markdown",
   "id": "2e42f8d3",
   "metadata": {},
   "source": [
    "Исследуем влияние на долю правильных предсказаний (accuracy) следующих гиперпераметров:\n",
    "\n",
    "- max_depth,\n",
    "- min_samples_split, \n",
    "- min_samples_leaf, \n",
    "\n",
    "Добавлять в модель их будем последовательно, каждый раз фиксируя время выполнения ячейки."
   ]
  },
  {
   "cell_type": "markdown",
   "id": "6bac05cc",
   "metadata": {},
   "source": [
    "Вначале посмотрим на результаты модели с гиперпараметрами по умолчанию."
   ]
  },
  {
   "cell_type": "code",
   "execution_count": 10,
   "id": "056322ec",
   "metadata": {},
   "outputs": [
    {
     "name": "stdout",
     "output_type": "stream",
     "text": [
      "\n",
      "Модель DecisionTreeClassifier\n",
      "accuracy_train = 1.0, accuracy_valid = 0.7309486780715396\n",
      "Wall time: 15.6 ms\n"
     ]
    }
   ],
   "source": [
    "%%time\n",
    "\n",
    "# DecisionTreeClassifier\n",
    "\n",
    "best_model_clf = None\n",
    "best_result_clf = 0\n",
    "\n",
    "\n",
    "clf = DecisionTreeClassifier(random_state=12345)\n",
    "clf.fit(features_train, target_train)\n",
    "result_train = clf.score(features_train, target_train) # качество модели на обучающей выборке\n",
    "result_valid = clf.score(features_valid, target_valid) # качество модели на валидационной выборке\n",
    "\n",
    "if result_valid > best_result_clf:\n",
    "    best_model_clf = clf # сохраним модель\n",
    "    best_result_clf = result_valid #  сохраним значение accuracy на валидационных данных\n",
    "\n",
    "print()\n",
    "print(\"Модель DecisionTreeClassifier\")\n",
    "print(f'accuracy_train = {result_train}, accuracy_valid = {result_valid}')"
   ]
  },
  {
   "cell_type": "markdown",
   "id": "4454c0d5",
   "metadata": {},
   "source": [
    "Начнем с изучения влияния гиперпараметра **max_depth**"
   ]
  },
  {
   "cell_type": "code",
   "execution_count": 11,
   "id": "79d8bd09",
   "metadata": {},
   "outputs": [
    {
     "name": "stdout",
     "output_type": "stream",
     "text": [
      "max_depth = 1, accuracy_train = 0.7577800829875518, accuracy_valid = 0.7356143079315708\n",
      "max_depth = 2, accuracy_train = 0.7878630705394191, accuracy_valid = 0.7744945567651633\n",
      "max_depth = 3, accuracy_train = 0.8075726141078838, accuracy_valid = 0.7791601866251944\n",
      "max_depth = 4, accuracy_train = 0.8106846473029046, accuracy_valid = 0.7744945567651633\n",
      "max_depth = 5, accuracy_train = 0.8200207468879668, accuracy_valid = 0.7838258164852255\n",
      "max_depth = 6, accuracy_train = 0.8376556016597511, accuracy_valid = 0.776049766718507\n",
      "max_depth = 7, accuracy_train = 0.8558091286307054, accuracy_valid = 0.7993779160186625\n",
      "max_depth = 8, accuracy_train = 0.8625518672199171, accuracy_valid = 0.7931570762052877\n",
      "max_depth = 9, accuracy_train = 0.8812240663900415, accuracy_valid = 0.7807153965785381\n",
      "max_depth = 10, accuracy_train = 0.8890041493775933, accuracy_valid = 0.7884914463452566\n",
      "max_depth = 11, accuracy_train = 0.9066390041493776, accuracy_valid = 0.7744945567651633\n",
      "max_depth = 12, accuracy_train = 0.9253112033195021, accuracy_valid = 0.7807153965785381\n",
      "max_depth = 13, accuracy_train = 0.941908713692946, accuracy_valid = 0.7713841368584758\n",
      "max_depth = 14, accuracy_train = 0.9553941908713693, accuracy_valid = 0.76049766718507\n",
      "max_depth = 15, accuracy_train = 0.9678423236514523, accuracy_valid = 0.7713841368584758\n",
      "max_depth = 16, accuracy_train = 0.9787344398340249, accuracy_valid = 0.749611197511664\n",
      "max_depth = 17, accuracy_train = 0.9844398340248963, accuracy_valid = 0.7480559875583204\n",
      "max_depth = 18, accuracy_train = 0.9885892116182573, accuracy_valid = 0.749611197511664\n",
      "max_depth = 19, accuracy_train = 0.9891078838174274, accuracy_valid = 0.7433903576982893\n",
      "max_depth = 20, accuracy_train = 0.9932572614107884, accuracy_valid = 0.7325038880248833\n",
      "\n",
      "Наилучшая модель DecisionTreeClassifier\n",
      "max_depth = 7, accuracy_valid = 0.7993779160186625\n",
      "Wall time: 208 ms\n"
     ]
    }
   ],
   "source": [
    "%%time\n",
    "\n",
    "# DecisionTreeClassifier\n",
    "\n",
    "best_model_clf = None\n",
    "best_result_clf = 0\n",
    "best_depth_clf = 0\n",
    "for depth in range(1, 21): # сделаем цикл для max_depth от 1 до 20\n",
    "    clf = DecisionTreeClassifier(random_state=12345, max_depth=depth)\n",
    "    clf.fit(features_train, target_train)\n",
    "    result_train = clf.score(features_train, target_train) # качество модели на обучающей выборке\n",
    "    result_valid = clf.score(features_valid, target_valid) # качество модели на валидационной выборке\n",
    "    print(f'max_depth = {depth}, accuracy_train = {result_train}, accuracy_valid = {result_valid}')\n",
    "    if result_valid > best_result_clf:\n",
    "        best_model_clf = clf # сохраним наилучшую модель clf\n",
    "        best_result_clf = result_valid #  сохраним наилучшее значение accuracy на валидационных данных для clf\n",
    "        best_depth_clf = depth #  сохраним наилучшее значение max_depth на валидационных данных для clf\n",
    "print()\n",
    "print(\"Наилучшая модель DecisionTreeClassifier\")\n",
    "print(f'max_depth = {best_depth_clf}, accuracy_valid = {best_result_clf}')"
   ]
  },
  {
   "cell_type": "markdown",
   "id": "cc89a9ca",
   "metadata": {},
   "source": [
    "Изучим влияние гиперпараметра **min_samples_split**"
   ]
  },
  {
   "cell_type": "code",
   "execution_count": 12,
   "id": "8170bd5e",
   "metadata": {},
   "outputs": [
    {
     "name": "stdout",
     "output_type": "stream",
     "text": [
      "min_samples_split = 2, max_depth = 7, accuracy_valid = 0.7993779160186625\n",
      "min_samples_split = 2, max_depth = 7, accuracy_valid = 0.7993779160186625\n",
      "min_samples_split = 2, max_depth = 7, accuracy_valid = 0.7993779160186625\n",
      "min_samples_split = 2, max_depth = 7, accuracy_valid = 0.7993779160186625\n",
      "min_samples_split = 2, max_depth = 7, accuracy_valid = 0.7993779160186625\n",
      "min_samples_split = 2, max_depth = 7, accuracy_valid = 0.7993779160186625\n",
      "min_samples_split = 2, max_depth = 7, accuracy_valid = 0.7993779160186625\n",
      "min_samples_split = 2, max_depth = 7, accuracy_valid = 0.7993779160186625\n",
      "min_samples_split = 2, max_depth = 7, accuracy_valid = 0.7993779160186625\n",
      "min_samples_split = 2, max_depth = 7, accuracy_valid = 0.7993779160186625\n",
      "min_samples_split = 2, max_depth = 7, accuracy_valid = 0.7993779160186625\n",
      "min_samples_split = 2, max_depth = 7, accuracy_valid = 0.7993779160186625\n",
      "min_samples_split = 2, max_depth = 7, accuracy_valid = 0.7993779160186625\n",
      "min_samples_split = 2, max_depth = 7, accuracy_valid = 0.7993779160186625\n",
      "min_samples_split = 2, max_depth = 7, accuracy_valid = 0.7993779160186625\n",
      "min_samples_split = 2, max_depth = 7, accuracy_valid = 0.7993779160186625\n",
      "min_samples_split = 2, max_depth = 7, accuracy_valid = 0.7993779160186625\n",
      "min_samples_split = 2, max_depth = 7, accuracy_valid = 0.7993779160186625\n",
      "min_samples_split = 2, max_depth = 7, accuracy_valid = 0.7993779160186625\n",
      "min_samples_split = 2, max_depth = 7, accuracy_valid = 0.7993779160186625\n",
      "min_samples_split = 2, max_depth = 7, accuracy_valid = 0.7993779160186625\n",
      "min_samples_split = 2, max_depth = 7, accuracy_valid = 0.7993779160186625\n",
      "min_samples_split = 2, max_depth = 7, accuracy_valid = 0.7993779160186625\n",
      "min_samples_split = 2, max_depth = 7, accuracy_valid = 0.7993779160186625\n",
      "min_samples_split = 2, max_depth = 7, accuracy_valid = 0.7993779160186625\n",
      "min_samples_split = 2, max_depth = 7, accuracy_valid = 0.7993779160186625\n",
      "min_samples_split = 2, max_depth = 7, accuracy_valid = 0.7993779160186625\n",
      "min_samples_split = 2, max_depth = 7, accuracy_valid = 0.7993779160186625\n",
      "min_samples_split = 2, max_depth = 7, accuracy_valid = 0.7993779160186625\n",
      "min_samples_split = 2, max_depth = 7, accuracy_valid = 0.7993779160186625\n",
      "min_samples_split = 2, max_depth = 7, accuracy_valid = 0.7993779160186625\n",
      "min_samples_split = 2, max_depth = 7, accuracy_valid = 0.7993779160186625\n",
      "min_samples_split = 2, max_depth = 7, accuracy_valid = 0.7993779160186625\n",
      "min_samples_split = 2, max_depth = 7, accuracy_valid = 0.7993779160186625\n",
      "min_samples_split = 36, max_depth = 8, accuracy_valid = 0.8009331259720062\n",
      "min_samples_split = 37, max_depth = 8, accuracy_valid = 0.80248833592535\n",
      "min_samples_split = 37, max_depth = 8, accuracy_valid = 0.80248833592535\n",
      "min_samples_split = 39, max_depth = 8, accuracy_valid = 0.8040435458786936\n",
      "min_samples_split = 39, max_depth = 8, accuracy_valid = 0.8040435458786936\n",
      "\n",
      "Наилучшая модель DecisionTreeClassifier\n",
      "min_samples_split = 39, max_depth = 8, accuracy_valid = 0.8040435458786936\n",
      "Wall time: 6.43 s\n"
     ]
    }
   ],
   "source": [
    "%%time\n",
    "\n",
    "# DecisionTreeClassifier\n",
    "\n",
    "best_model_clf = None\n",
    "best_result_clf = 0\n",
    "best_depth_clf = 0\n",
    "best_split_clf = 0\n",
    "for split in range(2, 41): # сделаем цикл для min_samples_split от 2 до 40\n",
    "    for depth in range(1, 21):\n",
    "        clf = DecisionTreeClassifier(random_state=12345, max_depth=depth, min_samples_split=split)\n",
    "        clf.fit(features_train, target_train)\n",
    "        result_train = clf.score(features_train, target_train) # качество модели на обучающей выборке\n",
    "        result_valid = clf.score(features_valid, target_valid) # качество модели на валидационной выборке\n",
    "        if result_valid > best_result_clf:\n",
    "            best_model_clf = clf # сохраним наилучшую модель clf\n",
    "            best_result_clf = result_valid #  сохраним наилучшее значение accuracy на валидационных данных для clf\n",
    "            best_depth_clf = depth # сохраним наилучшее значение max_depth на валидационных данных для clf\n",
    "            best_split_clf = split # сохраним наилучшее значение min_samples_split на валидационных данных для clf\n",
    "    print(f'min_samples_split = {best_split_clf}, max_depth = {best_depth_clf}, accuracy_valid = {best_result_clf}')\n",
    "print()\n",
    "print(\"Наилучшая модель DecisionTreeClassifier\")\n",
    "print(f'min_samples_split = {best_split_clf}, max_depth = {best_depth_clf}, accuracy_valid = {best_result_clf}')"
   ]
  },
  {
   "cell_type": "markdown",
   "id": "6c8f7569",
   "metadata": {},
   "source": [
    "Изучим также влияние гиперпараметра **min_samples_leaf**"
   ]
  },
  {
   "cell_type": "code",
   "execution_count": 13,
   "id": "bec6f6e0",
   "metadata": {},
   "outputs": [
    {
     "name": "stdout",
     "output_type": "stream",
     "text": [
      "min_samples_leaf = 1, min_samples_split = 39, max_depth = 8, accuracy_valid = 0.8040435458786936\n",
      "min_samples_leaf = 1, min_samples_split = 39, max_depth = 8, accuracy_valid = 0.8040435458786936\n",
      "min_samples_leaf = 1, min_samples_split = 39, max_depth = 8, accuracy_valid = 0.8040435458786936\n",
      "min_samples_leaf = 1, min_samples_split = 39, max_depth = 8, accuracy_valid = 0.8040435458786936\n",
      "min_samples_leaf = 1, min_samples_split = 39, max_depth = 8, accuracy_valid = 0.8040435458786936\n",
      "min_samples_leaf = 1, min_samples_split = 39, max_depth = 8, accuracy_valid = 0.8040435458786936\n",
      "min_samples_leaf = 1, min_samples_split = 39, max_depth = 8, accuracy_valid = 0.8040435458786936\n",
      "min_samples_leaf = 1, min_samples_split = 39, max_depth = 8, accuracy_valid = 0.8040435458786936\n",
      "min_samples_leaf = 1, min_samples_split = 39, max_depth = 8, accuracy_valid = 0.8040435458786936\n",
      "min_samples_leaf = 1, min_samples_split = 39, max_depth = 8, accuracy_valid = 0.8040435458786936\n",
      "min_samples_leaf = 1, min_samples_split = 39, max_depth = 8, accuracy_valid = 0.8040435458786936\n",
      "min_samples_leaf = 1, min_samples_split = 39, max_depth = 8, accuracy_valid = 0.8040435458786936\n",
      "min_samples_leaf = 1, min_samples_split = 39, max_depth = 8, accuracy_valid = 0.8040435458786936\n",
      "min_samples_leaf = 1, min_samples_split = 39, max_depth = 8, accuracy_valid = 0.8040435458786936\n",
      "min_samples_leaf = 1, min_samples_split = 39, max_depth = 8, accuracy_valid = 0.8040435458786936\n",
      "min_samples_leaf = 16, min_samples_split = 36, max_depth = 8, accuracy_valid = 0.807153965785381\n",
      "min_samples_leaf = 16, min_samples_split = 36, max_depth = 8, accuracy_valid = 0.807153965785381\n",
      "min_samples_leaf = 16, min_samples_split = 36, max_depth = 8, accuracy_valid = 0.807153965785381\n",
      "min_samples_leaf = 16, min_samples_split = 36, max_depth = 8, accuracy_valid = 0.807153965785381\n",
      "min_samples_leaf = 16, min_samples_split = 36, max_depth = 8, accuracy_valid = 0.807153965785381\n",
      "\n",
      "Наилучшая модель DecisionTreeClassifier\n",
      "min_samples_leaf = 16, min_samples_split = 36, max_depth = 8, accuracy_valid = 0.807153965785381\n",
      "Wall time: 2min 1s\n"
     ]
    }
   ],
   "source": [
    "%%time\n",
    "\n",
    "# DecisionTreeClassifier\n",
    "\n",
    "best_model_clf = None\n",
    "best_result_clf = 0\n",
    "best_depth_clf = 0\n",
    "best_split_clf = 0\n",
    "best_leaf_clf = 0\n",
    "for leaf in range(1, 21): # сделаем цикл для min_samples_leaf от 1 до 20\n",
    "    for split in range(2, 41):\n",
    "        for depth in range(1, 21):\n",
    "            clf = DecisionTreeClassifier(random_state=12345, max_depth=depth, min_samples_split=split, min_samples_leaf=leaf)\n",
    "            clf.fit(features_train, target_train)\n",
    "            result_train = clf.score(features_train, target_train) # качество модели на обучающей выборке\n",
    "            result_valid = clf.score(features_valid, target_valid) # качество модели на валидационной выборке\n",
    "            if result_valid > best_result_clf:\n",
    "                best_model_clf = clf # сохраним наилучшую модель clf\n",
    "                best_result_clf = result_valid #  сохраним наилучшее значение accuracy на валидационных данных для clf\n",
    "                best_depth_clf = depth # сохраним наилучшее значение max_depth на валидационных данных для clf\n",
    "                best_split_clf = split # сохраним наилучшее значение min_samples_split на валидационных данных для clf\n",
    "                best_leaf_clf = leaf # сохраним наилучшее значение min_samples_leaf на валидационных данных для clf\n",
    "    print(f'min_samples_leaf = {best_leaf_clf}, min_samples_split = {best_split_clf}, max_depth = {best_depth_clf}, accuracy_valid = {best_result_clf}')\n",
    "print()\n",
    "print(\"Наилучшая модель DecisionTreeClassifier\")\n",
    "print(f'min_samples_leaf = {best_leaf_clf}, min_samples_split = {best_split_clf}, max_depth = {best_depth_clf}, accuracy_valid = {best_result_clf}')"
   ]
  },
  {
   "cell_type": "markdown",
   "id": "e8303728",
   "metadata": {},
   "source": [
    "**Наилучшая модель DecisionTreeClassifier**\n",
    "\n",
    "Наилучшая модель DecisionTreeClassifier сохранена в переменной `best_model_clf` и имеет следующие \n",
    "\n",
    "гиперпераметры:\n",
    "- min_samples_leaf = 16, \n",
    "- min_samples_split = 36, \n",
    "- max_depth = 8, \n",
    "\n",
    "долю правильных ответов:\n",
    "- accuracy_valid = 0.807153965785381\n",
    "\n",
    "была обучена за время:\n",
    "- 1min 59s\n",
    "\n",
    "Причем,\n",
    "\n",
    "модель с гиперпараметрами по умолчанию:\n",
    "- accuracy_valid = 0.7309486780715396\n",
    "- Wall time: 12.5 ms\n",
    "\n",
    "наилучшая модель с перебором 1 гиперпараметра - max_depth - имела результаты:\n",
    "- max_depth = 7, accuracy_valid = 0.7993779160186625\n",
    "- Wall time: 183 ms\n",
    "\n",
    "а наилучшая модель с перебором 2 гиперпараметров - max_depth и min_samples_split - имела результаты:\n",
    "- min_samples_split = 39, max_depth = 8, accuracy_valid = 0.8040435458786936\n",
    "- Wall time: 6.26 s"
   ]
  },
  {
   "cell_type": "markdown",
   "id": "05f87561",
   "metadata": {},
   "source": [
    "### Алгоритм RandomForestClassifier"
   ]
  },
  {
   "cell_type": "markdown",
   "id": "e24779c1",
   "metadata": {},
   "source": [
    "Исследуем влияние на долю правильных предсказаний (accuracy) следующих гиперпераметров:\n",
    "\n",
    "- n_estimators,\n",
    "- max_depth,\n",
    "- min_samples_split, \n",
    "\n",
    "Добавлять в модель их будем последовательно, каждый раз фиксируя время выполнения ячейки."
   ]
  },
  {
   "cell_type": "markdown",
   "id": "763f42ee",
   "metadata": {},
   "source": [
    "Вначале посмотрим на результаты модели с гиперпараметрами по умолчанию."
   ]
  },
  {
   "cell_type": "code",
   "execution_count": 14,
   "id": "c40b5be2",
   "metadata": {},
   "outputs": [
    {
     "name": "stdout",
     "output_type": "stream",
     "text": [
      "\n",
      "Модель RandomForestClassifier\n",
      "accuracy_train = 0.9994813278008299, accuracy_valid = 0.7853810264385692\n",
      "Wall time: 411 ms\n"
     ]
    }
   ],
   "source": [
    "%%time\n",
    "\n",
    "# RandomForestClassifier\n",
    "\n",
    "best_model_clf_2 = None\n",
    "best_result_clf_2 = 0\n",
    "\n",
    "\n",
    "clf_2 = RandomForestClassifier(random_state=12345)\n",
    "clf_2.fit(features_train, target_train)\n",
    "result_train = clf_2.score(features_train, target_train) # качество модели на обучающей выборке\n",
    "result_valid = clf_2.score(features_valid, target_valid) # качество модели на валидационной выборке\n",
    "\n",
    "if result_valid > best_result_clf_2:\n",
    "    best_model_clf_2 = clf_2 # сохраним наилучшую модель clf_2\n",
    "    best_result_clf_2 = result_valid #  сохраним наилучшее значение accuracy на валидационных данных для clf_2\n",
    "\n",
    "print()\n",
    "print(\"Модель RandomForestClassifier\")\n",
    "print(f'accuracy_train = {result_train}, accuracy_valid = {result_valid}')"
   ]
  },
  {
   "cell_type": "markdown",
   "id": "a95e6087",
   "metadata": {},
   "source": [
    "Начнем с изучения влияния гиперпараметра **n_estimators**"
   ]
  },
  {
   "cell_type": "code",
   "execution_count": 15,
   "id": "eb2c9d5f",
   "metadata": {},
   "outputs": [
    {
     "name": "stdout",
     "output_type": "stream",
     "text": [
      "n_estimators = 10, accuracy_train = 0.9823651452282157, accuracy_valid = 0.7807153965785381\n",
      "n_estimators = 20, accuracy_train = 0.9891078838174274, accuracy_valid = 0.7822706065318819\n",
      "n_estimators = 30, accuracy_train = 0.995850622406639, accuracy_valid = 0.7853810264385692\n",
      "n_estimators = 40, accuracy_train = 0.9974066390041494, accuracy_valid = 0.7931570762052877\n",
      "n_estimators = 50, accuracy_train = 0.9979253112033195, accuracy_valid = 0.7931570762052877\n",
      "n_estimators = 60, accuracy_train = 0.9994813278008299, accuracy_valid = 0.7947122861586314\n",
      "n_estimators = 70, accuracy_train = 0.9994813278008299, accuracy_valid = 0.7931570762052877\n",
      "n_estimators = 80, accuracy_train = 0.9994813278008299, accuracy_valid = 0.7962674961119751\n",
      "n_estimators = 90, accuracy_train = 0.9994813278008299, accuracy_valid = 0.7916018662519441\n",
      "n_estimators = 100, accuracy_train = 0.9994813278008299, accuracy_valid = 0.7853810264385692\n",
      "n_estimators = 110, accuracy_train = 0.9994813278008299, accuracy_valid = 0.7900466562986003\n",
      "n_estimators = 120, accuracy_train = 0.9994813278008299, accuracy_valid = 0.7853810264385692\n",
      "n_estimators = 130, accuracy_train = 1.0, accuracy_valid = 0.7869362363919129\n",
      "n_estimators = 140, accuracy_train = 1.0, accuracy_valid = 0.7869362363919129\n",
      "n_estimators = 150, accuracy_train = 1.0, accuracy_valid = 0.7884914463452566\n",
      "n_estimators = 160, accuracy_train = 1.0, accuracy_valid = 0.7931570762052877\n",
      "n_estimators = 170, accuracy_train = 1.0, accuracy_valid = 0.7869362363919129\n",
      "n_estimators = 180, accuracy_train = 1.0, accuracy_valid = 0.7884914463452566\n",
      "n_estimators = 190, accuracy_train = 1.0, accuracy_valid = 0.7869362363919129\n",
      "n_estimators = 200, accuracy_train = 1.0, accuracy_valid = 0.7869362363919129\n",
      "\n",
      "Наилучшая модель RandomForestClassifier\n",
      "n_estimators = 80, accuracy_valid = 0.7962674961119751\n",
      "Wall time: 8.43 s\n"
     ]
    }
   ],
   "source": [
    "%%time\n",
    "\n",
    "# RandomForestClassifier\n",
    "\n",
    "best_model_clf_2 = None\n",
    "best_result_clf_2 = 0\n",
    "best_est_clf_2 = 0\n",
    "\n",
    "for est in range(10, 201, 10): # сделаем цикл для n_estimators от 10 до 100\n",
    "    clf_2 = RandomForestClassifier(random_state=12345, n_estimators=est)\n",
    "    clf_2.fit(features_train, target_train)\n",
    "    result_train = clf_2.score(features_train, target_train) # качество модели на обучающей выборке\n",
    "    result_valid = clf_2.score(features_valid, target_valid) # качество модели на валидационной выборке\n",
    "    print(f'n_estimators = {est}, accuracy_train = {result_train}, accuracy_valid = {result_valid}')\n",
    "    if result_valid > best_result_clf_2:\n",
    "        best_model_clf_2 = clf_2 # сохраним наилучшую модель clf_2\n",
    "        best_result_clf_2 = result_valid #  сохраним наилучшее значение accuracy на валидационных данных для clf_2\n",
    "        best_est_clf_2 = est # сохраним наилучшее значение n_estimators на валидационных данных для clf_2\n",
    "\n",
    "print()\n",
    "print(\"Наилучшая модель RandomForestClassifier\")\n",
    "print(f'n_estimators = {best_est_clf_2}, accuracy_valid = {best_result_clf_2}')"
   ]
  },
  {
   "cell_type": "markdown",
   "id": "84389f64",
   "metadata": {},
   "source": [
    "Изучим влияние гиперпараметра **max_depth**"
   ]
  },
  {
   "cell_type": "code",
   "execution_count": 16,
   "id": "cfdd6875",
   "metadata": {},
   "outputs": [
    {
     "name": "stdout",
     "output_type": "stream",
     "text": [
      "n_estimators = 40, max_depth = 1, accuracy_valid = 0.7558320373250389\n",
      "n_estimators = 10, max_depth = 2, accuracy_valid = 0.776049766718507\n",
      "n_estimators = 30, max_depth = 3, accuracy_valid = 0.7807153965785381\n",
      "n_estimators = 10, max_depth = 4, accuracy_valid = 0.7853810264385692\n",
      "n_estimators = 70, max_depth = 5, accuracy_valid = 0.7931570762052877\n",
      "n_estimators = 30, max_depth = 6, accuracy_valid = 0.7993779160186625\n",
      "n_estimators = 30, max_depth = 7, accuracy_valid = 0.8040435458786936\n",
      "n_estimators = 10, max_depth = 8, accuracy_valid = 0.807153965785381\n",
      "n_estimators = 10, max_depth = 9, accuracy_valid = 0.8133748055987559\n",
      "n_estimators = 10, max_depth = 9, accuracy_valid = 0.8133748055987559\n",
      "n_estimators = 10, max_depth = 9, accuracy_valid = 0.8133748055987559\n",
      "n_estimators = 10, max_depth = 9, accuracy_valid = 0.8133748055987559\n",
      "n_estimators = 10, max_depth = 9, accuracy_valid = 0.8133748055987559\n",
      "n_estimators = 10, max_depth = 9, accuracy_valid = 0.8133748055987559\n",
      "n_estimators = 10, max_depth = 9, accuracy_valid = 0.8133748055987559\n",
      "n_estimators = 10, max_depth = 9, accuracy_valid = 0.8133748055987559\n",
      "n_estimators = 10, max_depth = 9, accuracy_valid = 0.8133748055987559\n",
      "n_estimators = 10, max_depth = 9, accuracy_valid = 0.8133748055987559\n",
      "n_estimators = 10, max_depth = 9, accuracy_valid = 0.8133748055987559\n",
      "n_estimators = 10, max_depth = 9, accuracy_valid = 0.8133748055987559\n",
      "\n",
      "Наилучшая модель RandomForestClassifier\n",
      "n_estimators = 10, max_depth = 9, accuracy_valid = 0.8133748055987559\n",
      "Wall time: 35.3 s\n"
     ]
    }
   ],
   "source": [
    "%%time\n",
    "\n",
    "# RandomForestClassifier\n",
    "\n",
    "best_model_clf_2 = None\n",
    "best_result_clf_2 = 0\n",
    "best_est_clf_2 = 0\n",
    "best_depth_clf_2 = 0\n",
    "\n",
    "for depth in range(1, 21): # сделаем цикл для depth от 1 до 20\n",
    "    for est in range(10, 101, 10):\n",
    "        clf_2 = RandomForestClassifier(random_state=12345, n_estimators=est, max_depth=depth)\n",
    "        clf_2.fit(features_train, target_train)\n",
    "        result_train = clf_2.score(features_train, target_train) # качество модели на обучающей выборке\n",
    "        result_valid = clf_2.score(features_valid, target_valid) # качество модели на валидационной выборке\n",
    "        # print(f'min_samples_split = {split}, max_depth = {depth}, accuracy_train = {result_train}, accuracy_valid = {result_valid}')\n",
    "        if result_valid > best_result_clf_2:\n",
    "            best_model_clf_2 = clf_2 # сохраним наилучшую модель clf_2\n",
    "            best_result_clf_2 = result_valid #  сохраним наилучшее значение accuracy на валидационных данных для clf_2\n",
    "            best_est_clf_2 = est # сохраним наилучшее значение n_estimators на валидационных данных для clf_2\n",
    "            best_depth_clf_2 = depth # сохраним наилучшее значение max_depth на валидационных данных для clf_2\n",
    "\n",
    "    print(f'n_estimators = {best_est_clf_2}, max_depth = {best_depth_clf_2}, accuracy_valid = {best_result_clf_2}')\n",
    "print()\n",
    "print(\"Наилучшая модель RandomForestClassifier\")\n",
    "print(f'n_estimators = {best_est_clf_2}, max_depth = {best_depth_clf_2}, accuracy_valid = {best_result_clf_2}')"
   ]
  },
  {
   "cell_type": "markdown",
   "id": "9a114eb3",
   "metadata": {},
   "source": [
    "Изучим также влияние гиперпараметра **min_samples_split**"
   ]
  },
  {
   "cell_type": "code",
   "execution_count": 17,
   "id": "4cf8e003",
   "metadata": {},
   "outputs": [
    {
     "name": "stdout",
     "output_type": "stream",
     "text": [
      "n_estimators = 10, min_samples_split = 2, max_depth = 9, accuracy_valid = 0.8133748055987559\n",
      "n_estimators = 10, min_samples_split = 2, max_depth = 9, accuracy_valid = 0.8133748055987559\n",
      "n_estimators = 10, min_samples_split = 2, max_depth = 9, accuracy_valid = 0.8133748055987559\n",
      "n_estimators = 10, min_samples_split = 5, max_depth = 9, accuracy_valid = 0.8149300155520995\n",
      "n_estimators = 10, min_samples_split = 5, max_depth = 9, accuracy_valid = 0.8149300155520995\n",
      "n_estimators = 10, min_samples_split = 5, max_depth = 9, accuracy_valid = 0.8149300155520995\n",
      "n_estimators = 10, min_samples_split = 5, max_depth = 9, accuracy_valid = 0.8149300155520995\n",
      "n_estimators = 10, min_samples_split = 5, max_depth = 9, accuracy_valid = 0.8149300155520995\n",
      "n_estimators = 10, min_samples_split = 5, max_depth = 9, accuracy_valid = 0.8149300155520995\n",
      "n_estimators = 10, min_samples_split = 5, max_depth = 9, accuracy_valid = 0.8149300155520995\n",
      "n_estimators = 10, min_samples_split = 5, max_depth = 9, accuracy_valid = 0.8149300155520995\n",
      "n_estimators = 20, min_samples_split = 13, max_depth = 11, accuracy_valid = 0.8180404354587869\n",
      "n_estimators = 20, min_samples_split = 13, max_depth = 11, accuracy_valid = 0.8180404354587869\n",
      "n_estimators = 20, min_samples_split = 13, max_depth = 11, accuracy_valid = 0.8180404354587869\n",
      "n_estimators = 20, min_samples_split = 13, max_depth = 11, accuracy_valid = 0.8180404354587869\n",
      "n_estimators = 20, min_samples_split = 13, max_depth = 11, accuracy_valid = 0.8180404354587869\n",
      "n_estimators = 20, min_samples_split = 13, max_depth = 11, accuracy_valid = 0.8180404354587869\n",
      "n_estimators = 20, min_samples_split = 13, max_depth = 11, accuracy_valid = 0.8180404354587869\n",
      "n_estimators = 20, min_samples_split = 13, max_depth = 11, accuracy_valid = 0.8180404354587869\n",
      "n_estimators = 20, min_samples_split = 13, max_depth = 11, accuracy_valid = 0.8180404354587869\n",
      "n_estimators = 20, min_samples_split = 13, max_depth = 11, accuracy_valid = 0.8180404354587869\n",
      "n_estimators = 20, min_samples_split = 13, max_depth = 11, accuracy_valid = 0.8180404354587869\n",
      "n_estimators = 20, min_samples_split = 13, max_depth = 11, accuracy_valid = 0.8180404354587869\n",
      "n_estimators = 20, min_samples_split = 13, max_depth = 11, accuracy_valid = 0.8180404354587869\n",
      "n_estimators = 20, min_samples_split = 13, max_depth = 11, accuracy_valid = 0.8180404354587869\n",
      "n_estimators = 20, min_samples_split = 13, max_depth = 11, accuracy_valid = 0.8180404354587869\n",
      "n_estimators = 20, min_samples_split = 13, max_depth = 11, accuracy_valid = 0.8180404354587869\n",
      "n_estimators = 20, min_samples_split = 13, max_depth = 11, accuracy_valid = 0.8180404354587869\n",
      "n_estimators = 20, min_samples_split = 13, max_depth = 11, accuracy_valid = 0.8180404354587869\n",
      "n_estimators = 20, min_samples_split = 13, max_depth = 11, accuracy_valid = 0.8180404354587869\n",
      "n_estimators = 20, min_samples_split = 13, max_depth = 11, accuracy_valid = 0.8180404354587869\n",
      "n_estimators = 20, min_samples_split = 13, max_depth = 11, accuracy_valid = 0.8180404354587869\n",
      "n_estimators = 20, min_samples_split = 13, max_depth = 11, accuracy_valid = 0.8180404354587869\n",
      "n_estimators = 20, min_samples_split = 13, max_depth = 11, accuracy_valid = 0.8180404354587869\n",
      "n_estimators = 20, min_samples_split = 13, max_depth = 11, accuracy_valid = 0.8180404354587869\n",
      "n_estimators = 20, min_samples_split = 13, max_depth = 11, accuracy_valid = 0.8180404354587869\n",
      "n_estimators = 20, min_samples_split = 13, max_depth = 11, accuracy_valid = 0.8180404354587869\n",
      "n_estimators = 20, min_samples_split = 13, max_depth = 11, accuracy_valid = 0.8180404354587869\n",
      "n_estimators = 20, min_samples_split = 13, max_depth = 11, accuracy_valid = 0.8180404354587869\n",
      "\n",
      "Наилучшая модель RandomForestClassifier\n",
      "n_estimators = 20, min_samples_split = 13, max_depth = 11, accuracy_valid = 0.8180404354587869\n",
      "Wall time: 21min 46s\n"
     ]
    }
   ],
   "source": [
    "%%time\n",
    "\n",
    "# RandomForestClassifier\n",
    "\n",
    "best_model_clf_2 = None\n",
    "best_result_clf_2 = 0\n",
    "best_est_clf_2 = 0\n",
    "best_depth_clf_2 = 0\n",
    "best_split_clf_2 = 0\n",
    "\n",
    "for split in range(2, 41): # сделаем цикл для min_samples_split от 2 до 40\n",
    "    for est in range(10, 101, 10):\n",
    "        for depth in range(1, 21):\n",
    "            clf_2 = RandomForestClassifier(random_state=12345, n_estimators=est, max_depth=depth, min_samples_split=split)\n",
    "            clf_2.fit(features_train, target_train)\n",
    "            result_train = clf_2.score(features_train, target_train) # качество модели на обучающей выборке\n",
    "            result_valid = clf_2.score(features_valid, target_valid) # качество модели на валидационной выборке\n",
    "            # print(f'min_samples_split = {split}, max_depth = {depth}, accuracy_train = {result_train}, accuracy_valid = {result_valid}')\n",
    "            if result_valid > best_result_clf_2:\n",
    "                best_model_clf_2 = clf_2 # сохраним наилучшую модель clf_2\n",
    "                best_result_clf_2 = result_valid #  сохраним наилучшее значение accuracy на валидационных данных для clf_2\n",
    "                best_est_clf_2 = est # сохраним наилучшее значение n_estimators на валидационных данных для clf_2\n",
    "                best_depth_clf_2 = depth # сохраним наилучшее значение max_depth на валидационных данных для clf_2\n",
    "                best_split_clf_2 = split # сохраним наилучшее значение min_samples_split на валидационных данных для clf_2\n",
    "\n",
    "    print(f'n_estimators = {best_est_clf_2}, min_samples_split = {best_split_clf_2}, max_depth = {best_depth_clf_2}, accuracy_valid = {best_result_clf_2}')\n",
    "print()\n",
    "print(\"Наилучшая модель RandomForestClassifier\")\n",
    "print(f'n_estimators = {best_est_clf_2}, min_samples_split = {best_split_clf_2}, max_depth = {best_depth_clf_2}, accuracy_valid = {best_result_clf_2}')"
   ]
  },
  {
   "cell_type": "markdown",
   "id": "d5d779e9",
   "metadata": {},
   "source": [
    "**Наилучшая модель RandomForestClassifier**\n",
    "\n",
    "Наилучшая модель RandomForestClassifier сохранена в переменной `best_model_clf_2` и имеет следующие \n",
    "\n",
    "гиперпераметры:\n",
    "- n_estimators = 20, \n",
    "- min_samples_split = 13, \n",
    "- max_depth = 11, \n",
    "\n",
    "долю правильных ответов:\n",
    "- accuracy_valid = 0.8180404354587869\n",
    "\n",
    "была обучена за время:\n",
    "- 21min 15s\n",
    "\n",
    "Причем,\n",
    "\n",
    "модель с гиперпараметрами по умолчанию:\n",
    "- accuracy_valid = 0.7853810264385692\n",
    "- Wall time: 409 ms\n",
    "\n",
    "наилучшая модель с перебором 1 гиперпараметра - n_estimators - имела результаты:\n",
    "- n_estimators = 80, accuracy_valid = 0.7962674961119751\n",
    "- Wall time: 8.26 s\n",
    "\n",
    "а наилучшая модель с перебором 2 гиперпараметров - max_depth и n_estimators - имела результаты:\n",
    "- n_estimators = 10, max_depth = 9, accuracy_valid = 0.8133748055987559\n",
    "- Wall time: 34 s"
   ]
  },
  {
   "cell_type": "markdown",
   "id": "15917251",
   "metadata": {},
   "source": [
    "### Алгоритм LogisticRegression"
   ]
  },
  {
   "cell_type": "markdown",
   "id": "a19f2a80",
   "metadata": {},
   "source": [
    "Исследуем влияние на долю правильных предсказаний (accuracy) следующих гиперпераметров:\n",
    "\n",
    "- max_iter,\n",
    "\n",
    "Проверить влияние гиперпераметров penalty и solver не удалось, поскольку не все их значения совместимы."
   ]
  },
  {
   "cell_type": "markdown",
   "id": "09474436",
   "metadata": {},
   "source": [
    "Вначале посмотрим на результаты модели с гиперпараметрами по умолчанию."
   ]
  },
  {
   "cell_type": "code",
   "execution_count": 18,
   "id": "931f86e8",
   "metadata": {},
   "outputs": [
    {
     "name": "stdout",
     "output_type": "stream",
     "text": [
      "\n",
      "Модель LogisticRegression\n",
      "accuracy_train = 0.7131742738589212, accuracy_valid = 0.6842923794712286\n",
      "Wall time: 98.3 ms\n"
     ]
    }
   ],
   "source": [
    "%%time\n",
    "\n",
    "# LogisticRegression\n",
    "\n",
    "best_model_clf_3 = None\n",
    "best_result_clf_3 = 0\n",
    "\n",
    "\n",
    "clf_3 = LogisticRegression(random_state=12345)\n",
    "clf_3.fit(features_train, target_train)\n",
    "result_train = clf_3.score(features_train, target_train) # качество модели на обучающей выборке\n",
    "result_valid = clf_3.score(features_valid, target_valid) # качество модели на валидационной выборке\n",
    "\n",
    "if result_valid > best_result_clf_3:\n",
    "    best_model_clf_3 = clf_3 # сохраним наилучшую модель clf_3\n",
    "    best_result_clf_3 = result_valid #  сохраним наилучшее значение accuracy на валидационных данных для clf_3\n",
    "\n",
    "print()\n",
    "print(\"Модель LogisticRegression\")\n",
    "print(f'accuracy_train = {result_train}, accuracy_valid = {result_valid}')"
   ]
  },
  {
   "cell_type": "markdown",
   "id": "d4a314e7",
   "metadata": {},
   "source": [
    "Изучим влияние гиперпараметра **max_iter**"
   ]
  },
  {
   "cell_type": "code",
   "execution_count": 19,
   "id": "d37f03b1",
   "metadata": {},
   "outputs": [
    {
     "name": "stdout",
     "output_type": "stream",
     "text": [
      "max_iter = 10, accuracy_train = 0.6924273858921162, accuracy_valid = 0.6842923794712286\n",
      "max_iter = 20, accuracy_train = 0.7152489626556017, accuracy_valid = 0.6967340590979783\n",
      "max_iter = 30, accuracy_train = 0.7126556016597511, accuracy_valid = 0.6936236391912908\n",
      "max_iter = 40, accuracy_train = 0.7131742738589212, accuracy_valid = 0.6858475894245724\n",
      "max_iter = 50, accuracy_train = 0.7131742738589212, accuracy_valid = 0.6842923794712286\n",
      "max_iter = 60, accuracy_train = 0.7131742738589212, accuracy_valid = 0.6842923794712286\n",
      "max_iter = 70, accuracy_train = 0.7131742738589212, accuracy_valid = 0.6842923794712286\n",
      "max_iter = 80, accuracy_train = 0.7131742738589212, accuracy_valid = 0.6842923794712286\n",
      "max_iter = 90, accuracy_train = 0.7131742738589212, accuracy_valid = 0.6842923794712286\n",
      "max_iter = 100, accuracy_train = 0.7131742738589212, accuracy_valid = 0.6842923794712286\n",
      "\n",
      "Наилучшая модель LogisticRegression\n",
      "max_iter = 20, accuracy_valid = 0.6967340590979783\n",
      "Wall time: 191 ms\n"
     ]
    }
   ],
   "source": [
    "%%time\n",
    "\n",
    "# LogisticRegression\n",
    "\n",
    "best_model_clf_3 = None\n",
    "best_result_clf_3 = 0\n",
    "best_iter_clf_3 = 0\n",
    "\n",
    "for iter_ in range(10, 101, 10): # сделаем цикл для max_iter\n",
    "    clf_3 = LogisticRegression(random_state=12345, max_iter=iter_)\n",
    "    clf_3.fit(features_train, target_train)\n",
    "    result_train = clf_3.score(features_train, target_train) # качество модели на обучающей выборке\n",
    "    result_valid = clf_3.score(features_valid, target_valid) # качество модели на валидационной выборке\n",
    "    print(f'max_iter = {iter_}, accuracy_train = {result_train}, accuracy_valid = {result_valid}')\n",
    "    if result_valid > best_result_clf_3:\n",
    "        best_model_clf_3 = clf_3 # сохраним наилучшую модель clf_3\n",
    "        best_result_clf_3 = result_valid #  сохраним наилучшее значение accuracy на валидационных данных для clf_3\n",
    "        best_iter_clf_3 = iter_ # сохраним наилучшее значение n_estimators на валидационных данных для clf_3\n",
    "\n",
    "    # print(f'max_iter = {best_iter_clf_3}, accuracy_valid = {best_result_clf_3}')\n",
    "print()\n",
    "print(\"Наилучшая модель LogisticRegression\")\n",
    "print(f'max_iter = {best_iter_clf_3}, accuracy_valid = {best_result_clf_3}')"
   ]
  },
  {
   "cell_type": "markdown",
   "id": "9c86f293",
   "metadata": {},
   "source": [
    "**Наилучшая модель LogisticRegression**\n",
    "\n",
    "Наилучшая модель LogisticRegression сохранена в переменной `best_model_clf_3` и имеет следующие \n",
    "\n",
    "гиперпераметры:\n",
    "- max_iter = 20, \n",
    "\n",
    "долю правильных ответов:\n",
    "- accuracy_valid = 0.6967340590979783\n",
    "\n",
    "была обучена за время:\n",
    "- 178 ms\n",
    "\n",
    "Причем,\n",
    "\n",
    "модель с гиперпараметрами по умолчанию:\n",
    "- accuracy_valid = 0.6842923794712286\n",
    "- Wall time: 21 ms"
   ]
  },
  {
   "cell_type": "markdown",
   "id": "6af533c0",
   "metadata": {},
   "source": [
    "### Вывод"
   ]
  },
  {
   "cell_type": "markdown",
   "id": "66567d82",
   "metadata": {},
   "source": [
    "Мы обучили модели с помощью трех алгоритмов, сравним получившиеся результаты.\n",
    "\n",
    "**Наилучшая модель DecisionTreeClassifier**\n",
    "\n",
    "Наилучшая модель DecisionTreeClassifier сохранена в переменной `best_model_clf` и имеет следующие \n",
    "\n",
    "гиперпераметры:\n",
    "- min_samples_leaf = 16, \n",
    "- min_samples_split = 36, \n",
    "- max_depth = 8, \n",
    "\n",
    "долю правильных ответов:\n",
    "- accuracy_valid = 0.807153965785381\n",
    "\n",
    "была обучена за время:\n",
    "- 1min 59s\n",
    "\n",
    "Причем,\n",
    "\n",
    "модель с гиперпараметрами по умолчанию:\n",
    "- accuracy_valid = 0.7309486780715396\n",
    "- Wall time: 12.5 ms\n",
    "\n",
    "наилучшая модель с перебором 1 гиперпараметра - max_depth - имела результаты:\n",
    "- max_depth = 7, accuracy_valid = 0.7993779160186625\n",
    "- Wall time: 183 ms\n",
    "\n",
    "а наилучшая модель с перебором 2 гиперпараметров - max_depth и min_samples_split - имела результаты:\n",
    "- min_samples_split = 39, max_depth = 8, accuracy_valid = 0.8040435458786936\n",
    "- Wall time: 6.26 s\n",
    "\n",
    "**Наилучшая модель RandomForestClassifier**\n",
    "\n",
    "Наилучшая модель RandomForestClassifier сохранена в переменной `best_model_clf_2` и имеет следующие \n",
    "\n",
    "гиперпераметры:\n",
    "- n_estimators = 20, \n",
    "- min_samples_split = 13, \n",
    "- max_depth = 11, \n",
    "\n",
    "долю правильных ответов:\n",
    "- accuracy_valid = 0.8180404354587869\n",
    "\n",
    "была обучена за время:\n",
    "- 21min 15s\n",
    "\n",
    "Причем,\n",
    "\n",
    "модель с гиперпараметрами по умолчанию:\n",
    "- accuracy_valid = 0.7853810264385692\n",
    "- Wall time: 409 ms\n",
    "\n",
    "наилучшая модель с перебором 1 гиперпараметра - n_estimators - имела результаты:\n",
    "- n_estimators = 80, accuracy_valid = 0.7962674961119751\n",
    "- Wall time: 8.26 s\n",
    "\n",
    "а наилучшая модель с перебором 2 гиперпараметров - max_depth и n_estimators - имела результаты:\n",
    "- n_estimators = 10, max_depth = 9, accuracy_valid = 0.8133748055987559\n",
    "- Wall time: 34 s\n",
    "\n",
    "**Наилучшая модель LogisticRegression**\n",
    "\n",
    "Наилучшая модель LogisticRegression сохранена в переменной `best_model_clf_3` и имеет следующие \n",
    "\n",
    "гиперпераметры:\n",
    "- max_iter = 20, \n",
    "\n",
    "долю правильных ответов:\n",
    "- accuracy_valid = 0.6967340590979783\n",
    "\n",
    "была обучена за время:\n",
    "- 178 ms\n",
    "\n",
    "Причем,\n",
    "\n",
    "модель с гиперпараметрами по умолчанию:\n",
    "- accuracy_valid = 0.6842923794712286\n",
    "- Wall time: 21 ms\n",
    "\n",
    "Лучшие показатели accuracy - 0.818 на валидационной выборке показала модель, обученная алгоритмом RandomForestClassifier с подбором трех гиперпараметров затратив на это 21min 15s. Незначительно хуже: accuracy - 0.807, но значительно быстрее - за 1min 59s обучилась модель по алгоритму DecisionTreeClassifier также с подбором трех гиперпараметров. На результат модели, обучаемую алгоритмом LogisticRegression подбор гиперпараметров практически не сказался, для значений по умолчанию accuracy - 0.684, время - 21 ms.\n",
    "\n",
    "Также отметим, что модель DecisionTreeClassifier уже при подборе 1 гиперпараметра дала приемлемый результат: accuracy - 0.799, время - 183 ms; а модель RandomForestClassifier при значениях по умолчанию: accuracy - 0.785, время - 409 ms.\n",
    "\n",
    "Исследование моделей проведено, можно приступать к их тестированию.\n",
    "\n",
    "[В начало раздела 3](#section_3)"
   ]
  },
  {
   "cell_type": "markdown",
   "id": "a69ff1b2",
   "metadata": {},
   "source": [
    "<a id=\"section_4\"></a>\n",
    "## Проверка модели на тестовой выборке"
   ]
  },
  {
   "cell_type": "markdown",
   "id": "9649109e",
   "metadata": {},
   "source": [
    "Проверим качество и время работы моделей на тестовой выборке."
   ]
  },
  {
   "cell_type": "code",
   "execution_count": 20,
   "id": "0d835486",
   "metadata": {},
   "outputs": [
    {
     "name": "stdout",
     "output_type": "stream",
     "text": [
      "Accuracy лучшей модели DecisionTreeClassifier = 0.782\n",
      "Wall time: 3.91 ms\n"
     ]
    }
   ],
   "source": [
    "%%time\n",
    "result_test_clf = best_model_clf.score(features_test, target_test)\n",
    "print(f'Accuracy лучшей модели DecisionTreeClassifier = {result_test_clf:.3f}')"
   ]
  },
  {
   "cell_type": "code",
   "execution_count": 21,
   "id": "8ea54dbf",
   "metadata": {},
   "outputs": [
    {
     "name": "stdout",
     "output_type": "stream",
     "text": [
      "Accuracy лучшей модели RandomForestClassifier = 0.785\n",
      "Wall time: 8.79 ms\n"
     ]
    }
   ],
   "source": [
    "%%time\n",
    "result_test_clf_2 = best_model_clf_2.score(features_test, target_test)\n",
    "print(f'Accuracy лучшей модели RandomForestClassifier = {result_test_clf_2:.3f}')"
   ]
  },
  {
   "cell_type": "code",
   "execution_count": 22,
   "id": "879502f7",
   "metadata": {},
   "outputs": [
    {
     "name": "stdout",
     "output_type": "stream",
     "text": [
      "Accuracy лучшей модели LogisticRegression = 0.708\n",
      "Wall time: 2.93 ms\n"
     ]
    }
   ],
   "source": [
    "%%time\n",
    "result_test_clf_3 = best_model_clf_3.score(features_test, target_test)\n",
    "print(f'Accuracy лучшей модели LogisticRegression = {result_test_clf_3:.3f}')"
   ]
  },
  {
   "cell_type": "markdown",
   "id": "d9f765c2",
   "metadata": {},
   "source": [
    "### Вывод"
   ]
  },
  {
   "cell_type": "markdown",
   "id": "fd2ac8c3",
   "metadata": {},
   "source": [
    "Результаты проверки работы моделей на тестовой выборке:\n",
    "\n",
    "Accuracy лучшей модели DecisionTreeClassifier = 0.782, Wall time: 3 ms.\n",
    "\n",
    "Accuracy лучшей модели RandomForestClassifier = 0.785, Wall time: 10.4 ms.\n",
    "\n",
    "Accuracy лучшей модели LogisticRegression = 0.708, Wall time: 2.97 ms.\n",
    "\n",
    "Качество моделей, обученных по алгоритмам DecisionTreeClassifier и RandomForestClassifier удовлетворяет поставленному критерию:  accuracy не ниже 0.75 и практически одинаково, однако время расчета отличается почти в 3.5 раза в пользу DecisionTreeClassifier. Модель, обученая по алгоритму LogisticRegression требуемых показателей не достигла, хотя и показала время расчета идентичное модели DecisionTreeClassifier. \n",
    "\n",
    "[В начало раздела 4](#section_4)"
   ]
  },
  {
   "cell_type": "markdown",
   "id": "ebc47354",
   "metadata": {},
   "source": [
    "<a id=\"section_5\"></a>\n",
    "## Проверка моделей на вменяемость"
   ]
  },
  {
   "cell_type": "markdown",
   "id": "79097e3c",
   "metadata": {},
   "source": [
    "Проверим модели на вменяемость."
   ]
  },
  {
   "cell_type": "markdown",
   "id": "c9b0fa0a",
   "metadata": {},
   "source": [
    "В разделе \"Обзор данных\" мы проверяли данные на соответствие здравому смыслу и правдоподобность распределения значений. Тогда мы выяснили, что среднее значение признака `is_ultra` составляет 0.31, т.е. 69% значений равны 0. Таким образом, для проверки моделей на вменяемость составим предсказание из одних нулей и сравним его результат с результатами моделей.\n",
    "\n",
    "[ссылка](#describe) "
   ]
  },
  {
   "cell_type": "code",
   "execution_count": 23,
   "id": "5a5cacc8",
   "metadata": {},
   "outputs": [],
   "source": [
    "predictions = pd.Series(0, index=target_test.index) "
   ]
  },
  {
   "cell_type": "code",
   "execution_count": 24,
   "id": "ea78c9a9",
   "metadata": {},
   "outputs": [
    {
     "name": "stdout",
     "output_type": "stream",
     "text": [
      "sanity_check = 0.706\n"
     ]
    }
   ],
   "source": [
    "sanity_check = accuracy_score(target_test, predictions)\n",
    "print(f'sanity_check = {sanity_check:.3f}')"
   ]
  },
  {
   "cell_type": "markdown",
   "id": "78bb4f15",
   "metadata": {},
   "source": [
    "<a id=\"student_coment_1\"></a>\n",
    "Проверка с использованием DummyClassifier"
   ]
  },
  {
   "cell_type": "code",
   "execution_count": 26,
   "id": "cf21f1af",
   "metadata": {},
   "outputs": [
    {
     "data": {
      "text/plain": [
       "DummyClassifier(random_state=12345)"
      ]
     },
     "execution_count": 26,
     "metadata": {},
     "output_type": "execute_result"
    },
    {
     "data": {
      "text/plain": [
       "0.7060653188180405"
      ]
     },
     "execution_count": 26,
     "metadata": {},
     "output_type": "execute_result"
    }
   ],
   "source": [
    "dummy_clf = DummyClassifier(random_state=12345)\n",
    "dummy_clf.fit(features_test, target_test)\n",
    "dummy_clf.score(features_test, target_test)"
   ]
  },
  {
   "cell_type": "markdown",
   "id": "f5b2bc21",
   "metadata": {},
   "source": [
    "### Вывод"
   ]
  },
  {
   "cell_type": "markdown",
   "id": "48a9caab",
   "metadata": {},
   "source": [
    "Провели проверку моделей на вменяемость.\n",
    "\n",
    "Рассчитали качество предсказания для случайной выборки - 0.706.\n",
    "\n",
    "Модель, обученая по алгоритму LogisticRegression, показала результат аналогичный результату случайной выборки, что является неудовлетворительным.\n",
    "\n",
    "Модели, обученые по алгоритмам DecisionTreeClassifier и RandomForestClassifier, показали результаты, превосходящие результат случайной выборки приблизительно на 8 процентных пунктов, что для нас приемлемо.\n",
    "\n",
    "[В начало раздела 5](#section_5)"
   ]
  },
  {
   "cell_type": "markdown",
   "id": "43841cbc",
   "metadata": {},
   "source": [
    "## Итоги исследования"
   ]
  },
  {
   "cell_type": "markdown",
   "id": "3fbab82f",
   "metadata": {},
   "source": [
    "Данное исследование выполнено по запросу оператора мобильной связи «Мегалайн» и будет использовано для построения системы, анализирующей поведение клиентов и рекомендующей, какой из новых тарифов: «Смарт» или «Ультра» - предложить пользователям.\n",
    "Оператор мобильной связи «Мегалайн» предварительно выяснил, что многие клиенты пользуются архивными тарифами, а компании желательно перевести пользователей на новые.\n",
    "\n",
    "В нашем распоряжении данные о поведении клиентов, которые уже перешли на новые тарифы: «Смарт» и «Ультра». Предобработка данных уже сделана. Каждый объект в наборе данных — это информация о поведении одного пользователя за месяц. Известно:\n",
    "- сalls — количество звонков,\n",
    "- minutes — суммарная длительность звонков в минутах,\n",
    "- messages — количество sms-сообщений,\n",
    "- mb_used — израсходованный интернет-трафик в Мб,\n",
    "- is_ultra — каким тарифом пользовался в течение месяца («Ультра» — 1, «Смарт» — 0).\n",
    "\n",
    "В таблице 3214 объектов по 5 признаков у каждого. Ошибок в данных не выявлено. Количество и качество данных достаточны для исследования.\n",
    "\n",
    "Исходные данные были нами разделены в соотношении 3:1:1 на обучающую (1928 объектов), валидационную (643 объекта) и тестовую (643 объекта) выборки.\n",
    "\n",
    "Для построения моделей были использованы 3 алгоритма машинного обучения:\n",
    "- DecisionTreeClassifier\n",
    "- RandomForestClassifier\n",
    "- LogisticRegression\n",
    "\n",
    "Лучшие показатели accuracy - 0.818 на валидационной выборке показала модель, обученная алгоритмом RandomForestClassifier с подбором трех гиперпараметров и затратив на это 21min 15s. Незначительно хуже: accuracy - 0.807, но значительно быстрее - за 1min 59s обучилась модель по алгоритму DecisionTreeClassifier также с подбором трех гиперпараметров. На результат модели, обучаемой алгоритмом LogisticRegression подбор гиперпараметров практически не сказался, для значений по умолчанию accuracy - 0.684, время - 21 ms.\n",
    "\n",
    "Также отметим, что модель DecisionTreeClassifier уже при подборе 1 гиперпараметра дала приемлемый результат: accuracy - 0.799, время - 183 ms; а модель RandomForestClassifier при значениях по умолчанию: accuracy - 0.785, время - 409 ms.\n",
    "\n",
    "Результаты проверки работы моделей на тестовой выборке:\n",
    "\n",
    "- Accuracy лучшей модели DecisionTreeClassifier = 0.782, Wall time: 3 ms.\n",
    "- Accuracy лучшей модели RandomForestClassifier = 0.785, Wall time: 10.4 ms.\n",
    "- Accuracy лучшей модели LogisticRegression = 0.708, Wall time: 2.97 ms.\n",
    "\n",
    "Качество моделей, обученных по алгоритмам DecisionTreeClassifier и RandomForestClassifier удовлетворяет поставленному критерию:  accuracy не ниже 0.75 и практически одинаково, однако время расчета отличается почти в 3.5 раза в пользу DecisionTreeClassifier. Модель, обученая по алгоритму LogisticRegression требуемых показателей не достигла, хотя и показала время расчета идентичное модели DecisionTreeClassifier. \n",
    "\n",
    "Проведена проверка моделей на вменяемость:\n",
    "- качество предсказания для случайной выборки - 0.706.\n",
    "- модель, обученая по алгоритму LogisticRegression, показала результат аналогичный результату случайной выборки, что является неудовлетворительным.\n",
    "- модели, обученые по алгоритмам DecisionTreeClassifier и RandomForestClassifier, показали результаты, превосходящие результат случайной выборки приблизительно на 8 процентных пунктов, что для нас приемлемо.\n",
    "\n",
    "В результате проведенной работы построены две модели, удовлетворяющих заданному критерию: доля правильных ответов превышает 0.75. Обе модели успешно прошли проверку на вменяемость. В качестве базовой для построения системы, анализирующей поведение клиентов и рекомендующей один из новых тарифов, предпочтительней использовать модель, обученную с использованием алгоритма DecisionTreeClassifier, поскольку при практически одинаковом качестве предсказания её быстродействие гораздо выше.\n",
    "\n",
    "[В начало](#section_0)"
   ]
  },
  {
   "cell_type": "markdown",
   "id": "2a4b69a9",
   "metadata": {},
   "source": [
    "## Чек-лист готовности проекта"
   ]
  },
  {
   "cell_type": "markdown",
   "id": "48da1f3e",
   "metadata": {},
   "source": [
    "На что обратить внимание:\n",
    "\n",
    "- [x]  Как вы изучаете данные после загрузки?\n",
    "- [x]  Корректно ли разделяете данные на выборки?\n",
    "- [x]  Как выбираете размеры выборок?\n",
    "- [x]  Правильно ли вы оцениваете качество моделей в исследовании?\n",
    "- [x]  Какие модели и гиперпараметры вы используете?\n",
    "- [x]  Какие выводы об исследовании делаете?\n",
    "- [x]  Правильно ли тестируете модели?\n",
    "- [x]  Насколько высокое значение accuracy получаете?\n",
    "- [x]  Соблюдаете структуру проекта и поддерживаете аккуратность кода?\n",
    "\n",
    "[В начало](#section_0)"
   ]
  }
 ],
 "metadata": {
  "ExecuteTimeLog": [
   {
    "duration": 1148,
    "start_time": "2022-01-24T11:31:16.822Z"
   },
   {
    "duration": 246,
    "start_time": "2022-01-24T11:31:17.972Z"
   },
   {
    "duration": 23,
    "start_time": "2022-01-24T11:31:18.220Z"
   },
   {
    "duration": 232,
    "start_time": "2022-01-24T11:31:18.245Z"
   },
   {
    "duration": 25,
    "start_time": "2022-01-24T11:31:18.479Z"
   },
   {
    "duration": 2250,
    "start_time": "2022-01-24T11:31:18.506Z"
   },
   {
    "duration": 18,
    "start_time": "2022-01-24T11:31:20.758Z"
   },
   {
    "duration": 78,
    "start_time": "2022-01-24T11:31:20.779Z"
   },
   {
    "duration": 10,
    "start_time": "2022-01-24T11:31:20.859Z"
   },
   {
    "duration": 96,
    "start_time": "2022-01-24T11:31:20.871Z"
   },
   {
    "duration": 10,
    "start_time": "2022-01-24T11:31:20.969Z"
   },
   {
    "duration": 79,
    "start_time": "2022-01-24T11:31:20.981Z"
   },
   {
    "duration": 66,
    "start_time": "2022-01-24T11:31:21.062Z"
   },
   {
    "duration": 35,
    "start_time": "2022-01-24T11:31:21.130Z"
   },
   {
    "duration": 5,
    "start_time": "2022-01-24T11:31:21.166Z"
   },
   {
    "duration": 25,
    "start_time": "2022-01-24T11:31:21.173Z"
   },
   {
    "duration": 9,
    "start_time": "2022-01-24T11:31:21.200Z"
   },
   {
    "duration": 7,
    "start_time": "2022-01-24T11:31:21.210Z"
   },
   {
    "duration": 49,
    "start_time": "2022-01-24T11:31:21.218Z"
   },
   {
    "duration": 46,
    "start_time": "2022-01-24T11:31:21.269Z"
   },
   {
    "duration": 26,
    "start_time": "2022-01-24T11:31:21.317Z"
   },
   {
    "duration": 11,
    "start_time": "2022-01-24T11:31:21.345Z"
   },
   {
    "duration": 122,
    "start_time": "2022-01-24T11:31:21.360Z"
   },
   {
    "duration": 15,
    "start_time": "2022-01-24T11:31:21.485Z"
   },
   {
    "duration": 12,
    "start_time": "2022-01-24T11:31:21.502Z"
   },
   {
    "duration": 26,
    "start_time": "2022-01-24T11:31:21.515Z"
   },
   {
    "duration": 1485,
    "start_time": "2022-01-24T11:31:21.543Z"
   },
   {
    "duration": 991,
    "start_time": "2022-01-24T11:31:23.030Z"
   },
   {
    "duration": 29,
    "start_time": "2022-01-24T11:31:24.023Z"
   },
   {
    "duration": 365,
    "start_time": "2022-01-24T11:31:24.054Z"
   },
   {
    "duration": 6,
    "start_time": "2022-01-24T11:31:24.420Z"
   },
   {
    "duration": 20,
    "start_time": "2022-01-24T11:31:24.427Z"
   },
   {
    "duration": 20,
    "start_time": "2022-01-24T11:31:24.449Z"
   },
   {
    "duration": 10,
    "start_time": "2022-01-24T11:31:24.470Z"
   },
   {
    "duration": 16,
    "start_time": "2022-01-24T11:31:24.482Z"
   },
   {
    "duration": 6,
    "start_time": "2022-01-24T11:31:24.500Z"
   },
   {
    "duration": 12,
    "start_time": "2022-01-24T11:31:24.508Z"
   },
   {
    "duration": 1163,
    "start_time": "2022-01-24T11:31:24.522Z"
   },
   {
    "duration": 203,
    "start_time": "2022-01-24T11:31:25.697Z"
   },
   {
    "duration": 980,
    "start_time": "2022-01-24T11:31:25.902Z"
   },
   {
    "duration": 45,
    "start_time": "2022-01-24T11:31:26.884Z"
   },
   {
    "duration": 31,
    "start_time": "2022-01-24T11:31:26.931Z"
   },
   {
    "duration": 48,
    "start_time": "2022-01-24T11:31:26.964Z"
   },
   {
    "duration": 30,
    "start_time": "2022-01-24T11:31:27.014Z"
   },
   {
    "duration": 1089,
    "start_time": "2022-01-24T11:31:27.046Z"
   },
   {
    "duration": 20,
    "start_time": "2022-01-24T11:31:28.136Z"
   },
   {
    "duration": 357,
    "start_time": "2022-01-24T11:31:28.158Z"
   },
   {
    "duration": 92,
    "start_time": "2022-01-24T11:31:28.517Z"
   },
   {
    "duration": 1227,
    "start_time": "2022-01-24T11:31:28.611Z"
   },
   {
    "duration": 14,
    "start_time": "2022-01-24T11:31:29.840Z"
   },
   {
    "duration": 930,
    "start_time": "2022-01-24T11:31:29.855Z"
   },
   {
    "duration": 10,
    "start_time": "2022-01-24T11:31:30.787Z"
   },
   {
    "duration": 19,
    "start_time": "2022-01-24T11:31:30.798Z"
   },
   {
    "duration": 129,
    "start_time": "2022-01-24T11:31:30.819Z"
   },
   {
    "duration": 886,
    "start_time": "2022-01-24T11:31:30.949Z"
   },
   {
    "duration": 1251,
    "start_time": "2022-01-24T11:31:31.837Z"
   },
   {
    "duration": 17,
    "start_time": "2022-01-24T11:31:33.089Z"
   },
   {
    "duration": 348,
    "start_time": "2022-01-24T11:31:33.108Z"
   },
   {
    "duration": 65,
    "start_time": "2022-01-24T11:31:33.457Z"
   },
   {
    "duration": 32,
    "start_time": "2022-01-24T11:31:33.524Z"
   },
   {
    "duration": 17,
    "start_time": "2022-01-24T11:31:33.557Z"
   },
   {
    "duration": 3,
    "start_time": "2022-01-24T11:31:33.575Z"
   },
   {
    "duration": 18,
    "start_time": "2022-01-24T11:31:33.580Z"
   },
   {
    "duration": 37,
    "start_time": "2022-01-24T11:31:33.600Z"
   },
   {
    "duration": 59,
    "start_time": "2022-01-24T11:31:33.638Z"
   },
   {
    "duration": 24,
    "start_time": "2022-01-24T11:31:33.699Z"
   },
   {
    "duration": 12,
    "start_time": "2022-01-24T11:31:33.724Z"
   },
   {
    "duration": 4,
    "start_time": "2022-01-24T11:31:33.741Z"
   },
   {
    "duration": 6,
    "start_time": "2022-01-24T11:31:33.747Z"
   },
   {
    "duration": 45,
    "start_time": "2022-01-24T11:31:33.754Z"
   },
   {
    "duration": 95,
    "start_time": "2022-01-24T11:31:33.802Z"
   },
   {
    "duration": 39,
    "start_time": "2022-01-24T11:31:33.899Z"
   },
   {
    "duration": 15,
    "start_time": "2022-01-24T11:31:33.941Z"
   },
   {
    "duration": 4,
    "start_time": "2022-01-24T11:31:33.958Z"
   },
   {
    "duration": 67,
    "start_time": "2022-01-24T11:31:33.963Z"
   },
   {
    "duration": 6,
    "start_time": "2022-01-24T11:31:34.032Z"
   },
   {
    "duration": 8,
    "start_time": "2022-01-24T11:31:34.039Z"
   },
   {
    "duration": 6,
    "start_time": "2022-01-24T11:31:34.048Z"
   },
   {
    "duration": 7,
    "start_time": "2022-01-24T11:31:34.056Z"
   },
   {
    "duration": 14,
    "start_time": "2022-01-24T11:31:34.064Z"
   },
   {
    "duration": 33,
    "start_time": "2022-01-24T11:31:34.079Z"
   },
   {
    "duration": 7,
    "start_time": "2022-01-24T11:31:34.114Z"
   },
   {
    "duration": 25,
    "start_time": "2022-01-24T11:31:34.123Z"
   },
   {
    "duration": 2953,
    "start_time": "2022-01-24T11:31:34.150Z"
   },
   {
    "duration": 28,
    "start_time": "2022-01-24T11:31:37.104Z"
   },
   {
    "duration": 22,
    "start_time": "2022-01-24T11:31:37.134Z"
   },
   {
    "duration": 7,
    "start_time": "2022-01-24T11:31:37.158Z"
   },
   {
    "duration": 230,
    "start_time": "2022-01-24T11:31:37.167Z"
   },
   {
    "duration": 220,
    "start_time": "2022-01-24T11:31:37.399Z"
   },
   {
    "duration": 187,
    "start_time": "2022-01-24T11:31:37.621Z"
   },
   {
    "duration": 320,
    "start_time": "2022-01-24T11:31:37.810Z"
   },
   {
    "duration": 215,
    "start_time": "2022-01-24T11:31:38.132Z"
   },
   {
    "duration": 219,
    "start_time": "2022-01-24T11:31:38.349Z"
   },
   {
    "duration": 4,
    "start_time": "2022-01-24T11:31:38.570Z"
   },
   {
    "duration": 204,
    "start_time": "2022-01-24T11:31:38.575Z"
   },
   {
    "duration": 216,
    "start_time": "2022-01-24T11:31:38.781Z"
   },
   {
    "duration": 13,
    "start_time": "2022-01-24T11:31:38.998Z"
   },
   {
    "duration": 194,
    "start_time": "2022-01-24T11:31:39.012Z"
   },
   {
    "duration": 221,
    "start_time": "2022-01-24T11:31:39.208Z"
   },
   {
    "duration": 12,
    "start_time": "2022-01-24T11:31:39.431Z"
   }
  ],
  "kernelspec": {
   "display_name": "Python 3 (ipykernel)",
   "language": "python",
   "name": "python3"
  },
  "language_info": {
   "codemirror_mode": {
    "name": "ipython",
    "version": 3
   },
   "file_extension": ".py",
   "mimetype": "text/x-python",
   "name": "python",
   "nbconvert_exporter": "python",
   "pygments_lexer": "ipython3",
   "version": "3.8.5"
  },
  "toc": {
   "base_numbering": 1,
   "nav_menu": {},
   "number_sections": true,
   "sideBar": true,
   "skip_h1_title": true,
   "title_cell": "Table of Contents",
   "title_sidebar": "Contents",
   "toc_cell": true,
   "toc_position": {
    "height": "calc(100% - 180px)",
    "left": "10px",
    "top": "150px",
    "width": "302px"
   },
   "toc_section_display": true,
   "toc_window_display": true
  }
 },
 "nbformat": 4,
 "nbformat_minor": 5
}
